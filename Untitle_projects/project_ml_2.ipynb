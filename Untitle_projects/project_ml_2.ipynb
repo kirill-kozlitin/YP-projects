{
 "cells": [
  {
   "cell_type": "markdown",
   "metadata": {},
   "source": [
    "# Отток клиентов"
   ]
  },
  {
   "cell_type": "markdown",
   "metadata": {},
   "source": [
    "Из «Бета-Банка» стали уходить клиенты. Каждый месяц. Немного, но заметно. Банковские маркетологи посчитали: сохранять текущих клиентов дешевле, чем привлекать новых.\n",
    "\n",
    "Нужно спрогнозировать, уйдёт клиент из банка в ближайшее время или нет. Вам предоставлены исторические данные о поведении клиентов и расторжении договоров с банком. \n",
    "\n",
    "Постройте модель с предельно большим значением *F1*-меры. Чтобы сдать проект успешно, нужно довести метрику до 0.59. Проверьте *F1*-меру на тестовой выборке самостоятельно.\n",
    "\n",
    "Дополнительно измеряйте *AUC-ROC*, сравнивайте её значение с *F1*-мерой.\n",
    "\n",
    "Источник данных: [https://www.kaggle.com/barelydedicated/bank-customer-churn-modeling](https://www.kaggle.com/barelydedicated/bank-customer-churn-modeling)"
   ]
  },
  {
   "cell_type": "markdown",
   "metadata": {},
   "source": [
    "## План реализации проекта"
   ]
  },
  {
   "cell_type": "markdown",
   "metadata": {},
   "source": [
    "1. [Подготовка данных. Импорт библиотек](#step_1)\n",
    "- [1.1 Грубая предобработка данных](#step_1.1)\n",
    "- [1.2 Предобработка данных для задач машинного обучения](#step_1.2)\n",
    "2. [Исследование задачи](#step_2)\n",
    "- [2.1 Определение выборок](#step_2.1)\n",
    "- [2.2 Обучение модели](#step_2.2)\n",
    "- [2.3 Проверка адекватности модели](#step_2.3)\n",
    "- [2.4 Подбор оптимального порога](#step_2.4)\n",
    "3. [Борьба с дисбалансом классов](#step_3)\n",
    "- [3.1 Метод upsampling](#step_3.1)\n",
    "- [3.2 Поиск наилучшей модели на обучении upsampled выборки](#step_3.2)\n",
    "- [3.3 Метод downsampling](#step_3.3)\n",
    "- [3.4 Поиск наилучшей модели на обучении downsampled выборки](#step_3.4)\n",
    "4. [Тестирование модели](#step_4)\n",
    "5. [Общий вывод](#step_5)"
   ]
  },
  {
   "cell_type": "markdown",
   "metadata": {},
   "source": [
    "## Описание данных"
   ]
  },
  {
   "cell_type": "markdown",
   "metadata": {},
   "source": [
    "**Признаки**\n",
    "- *RowNumber* — индекс строки в данных\n",
    "- *CustomerId* — уникальный идентификатор клиента\n",
    "- *Surname* — фамилия\n",
    "- *CreditScore* — кредитный рейтинг\n",
    "- *Geography* — страна проживания\n",
    "- *Gender* — пол\n",
    "- *Age* — возраст\n",
    "- *Tenure* — количество недвижимости у клиента\n",
    "- *Balance* — баланс на счёте\n",
    "- *NumOfProducts* — количество продуктов банка, используемых клиентом\n",
    "- *HasCrCard* — наличие кредитной карты\n",
    "- *IsActiveMember* — активность клиента\n",
    "- *EstimatedSalary* — предполагаемая зарплата\n",
    "\n",
    "**Целевой признак**\n",
    "- *Exited* — факт ухода клиента"
   ]
  },
  {
   "cell_type": "markdown",
   "metadata": {},
   "source": [
    "## 1. Подготовка данных<a id='step_1'></a>"
   ]
  },
  {
   "cell_type": "markdown",
   "metadata": {},
   "source": [
    "Импортируем необходимые библиотеки:"
   ]
  },
  {
   "cell_type": "code",
   "execution_count": 999,
   "metadata": {},
   "outputs": [],
   "source": [
    "import pandas as pd\n",
    "import numpy as np\n",
    "\n",
    "from sklearn.model_selection import train_test_split\n",
    "from sklearn.preprocessing import StandardScaler\n",
    "from sklearn.ensemble import RandomForestClassifier\n",
    "from sklearn.model_selection import RandomizedSearchCV\n",
    "from sklearn.model_selection import GridSearchCV\n",
    "from sklearn.linear_model import LogisticRegression\n",
    "from sklearn.svm import LinearSVC\n",
    "from sklearn.neighbors import KNeighborsClassifier\n",
    "from sklearn.feature_selection import RFE\n",
    "from sklearn.linear_model import LinearRegression\n",
    "\n",
    "from sklearn.metrics import accuracy_score, f1_score, roc_curve, roc_auc_score\n",
    "from sklearn.utils import shuffle\n",
    "\n",
    "import matplotlib.pyplot as plt\n",
    "import seaborn as sns"
   ]
  },
  {
   "cell_type": "markdown",
   "metadata": {},
   "source": [
    "Откроем файл с данными и исследуем его:"
   ]
  },
  {
   "cell_type": "code",
   "execution_count": 929,
   "metadata": {},
   "outputs": [],
   "source": [
    "df = pd.read_csv('Churn.csv')"
   ]
  },
  {
   "cell_type": "code",
   "execution_count": 930,
   "metadata": {},
   "outputs": [
    {
     "data": {
      "text/html": [
       "<div>\n",
       "<style scoped>\n",
       "    .dataframe tbody tr th:only-of-type {\n",
       "        vertical-align: middle;\n",
       "    }\n",
       "\n",
       "    .dataframe tbody tr th {\n",
       "        vertical-align: top;\n",
       "    }\n",
       "\n",
       "    .dataframe thead th {\n",
       "        text-align: right;\n",
       "    }\n",
       "</style>\n",
       "<table border=\"1\" class=\"dataframe\">\n",
       "  <thead>\n",
       "    <tr style=\"text-align: right;\">\n",
       "      <th></th>\n",
       "      <th>RowNumber</th>\n",
       "      <th>CustomerId</th>\n",
       "      <th>Surname</th>\n",
       "      <th>CreditScore</th>\n",
       "      <th>Geography</th>\n",
       "      <th>Gender</th>\n",
       "      <th>Age</th>\n",
       "      <th>Tenure</th>\n",
       "      <th>Balance</th>\n",
       "      <th>NumOfProducts</th>\n",
       "      <th>HasCrCard</th>\n",
       "      <th>IsActiveMember</th>\n",
       "      <th>EstimatedSalary</th>\n",
       "      <th>Exited</th>\n",
       "    </tr>\n",
       "  </thead>\n",
       "  <tbody>\n",
       "    <tr>\n",
       "      <th>0</th>\n",
       "      <td>1</td>\n",
       "      <td>15634602</td>\n",
       "      <td>Hargrave</td>\n",
       "      <td>619</td>\n",
       "      <td>France</td>\n",
       "      <td>Female</td>\n",
       "      <td>42</td>\n",
       "      <td>2.0</td>\n",
       "      <td>0.00</td>\n",
       "      <td>1</td>\n",
       "      <td>1</td>\n",
       "      <td>1</td>\n",
       "      <td>101348.88</td>\n",
       "      <td>1</td>\n",
       "    </tr>\n",
       "    <tr>\n",
       "      <th>1</th>\n",
       "      <td>2</td>\n",
       "      <td>15647311</td>\n",
       "      <td>Hill</td>\n",
       "      <td>608</td>\n",
       "      <td>Spain</td>\n",
       "      <td>Female</td>\n",
       "      <td>41</td>\n",
       "      <td>1.0</td>\n",
       "      <td>83807.86</td>\n",
       "      <td>1</td>\n",
       "      <td>0</td>\n",
       "      <td>1</td>\n",
       "      <td>112542.58</td>\n",
       "      <td>0</td>\n",
       "    </tr>\n",
       "    <tr>\n",
       "      <th>2</th>\n",
       "      <td>3</td>\n",
       "      <td>15619304</td>\n",
       "      <td>Onio</td>\n",
       "      <td>502</td>\n",
       "      <td>France</td>\n",
       "      <td>Female</td>\n",
       "      <td>42</td>\n",
       "      <td>8.0</td>\n",
       "      <td>159660.80</td>\n",
       "      <td>3</td>\n",
       "      <td>1</td>\n",
       "      <td>0</td>\n",
       "      <td>113931.57</td>\n",
       "      <td>1</td>\n",
       "    </tr>\n",
       "    <tr>\n",
       "      <th>3</th>\n",
       "      <td>4</td>\n",
       "      <td>15701354</td>\n",
       "      <td>Boni</td>\n",
       "      <td>699</td>\n",
       "      <td>France</td>\n",
       "      <td>Female</td>\n",
       "      <td>39</td>\n",
       "      <td>1.0</td>\n",
       "      <td>0.00</td>\n",
       "      <td>2</td>\n",
       "      <td>0</td>\n",
       "      <td>0</td>\n",
       "      <td>93826.63</td>\n",
       "      <td>0</td>\n",
       "    </tr>\n",
       "    <tr>\n",
       "      <th>4</th>\n",
       "      <td>5</td>\n",
       "      <td>15737888</td>\n",
       "      <td>Mitchell</td>\n",
       "      <td>850</td>\n",
       "      <td>Spain</td>\n",
       "      <td>Female</td>\n",
       "      <td>43</td>\n",
       "      <td>2.0</td>\n",
       "      <td>125510.82</td>\n",
       "      <td>1</td>\n",
       "      <td>1</td>\n",
       "      <td>1</td>\n",
       "      <td>79084.10</td>\n",
       "      <td>0</td>\n",
       "    </tr>\n",
       "  </tbody>\n",
       "</table>\n",
       "</div>"
      ],
      "text/plain": [
       "   RowNumber  CustomerId   Surname  CreditScore Geography  Gender  Age  \\\n",
       "0          1    15634602  Hargrave          619    France  Female   42   \n",
       "1          2    15647311      Hill          608     Spain  Female   41   \n",
       "2          3    15619304      Onio          502    France  Female   42   \n",
       "3          4    15701354      Boni          699    France  Female   39   \n",
       "4          5    15737888  Mitchell          850     Spain  Female   43   \n",
       "\n",
       "   Tenure    Balance  NumOfProducts  HasCrCard  IsActiveMember  \\\n",
       "0     2.0       0.00              1          1               1   \n",
       "1     1.0   83807.86              1          0               1   \n",
       "2     8.0  159660.80              3          1               0   \n",
       "3     1.0       0.00              2          0               0   \n",
       "4     2.0  125510.82              1          1               1   \n",
       "\n",
       "   EstimatedSalary  Exited  \n",
       "0        101348.88       1  \n",
       "1        112542.58       0  \n",
       "2        113931.57       1  \n",
       "3         93826.63       0  \n",
       "4         79084.10       0  "
      ]
     },
     "execution_count": 930,
     "metadata": {},
     "output_type": "execute_result"
    }
   ],
   "source": [
    "df.head()"
   ]
  },
  {
   "cell_type": "code",
   "execution_count": 931,
   "metadata": {},
   "outputs": [
    {
     "name": "stdout",
     "output_type": "stream",
     "text": [
      "<class 'pandas.core.frame.DataFrame'>\n",
      "RangeIndex: 10000 entries, 0 to 9999\n",
      "Data columns (total 14 columns):\n",
      " #   Column           Non-Null Count  Dtype  \n",
      "---  ------           --------------  -----  \n",
      " 0   RowNumber        10000 non-null  int64  \n",
      " 1   CustomerId       10000 non-null  int64  \n",
      " 2   Surname          10000 non-null  object \n",
      " 3   CreditScore      10000 non-null  int64  \n",
      " 4   Geography        10000 non-null  object \n",
      " 5   Gender           10000 non-null  object \n",
      " 6   Age              10000 non-null  int64  \n",
      " 7   Tenure           9091 non-null   float64\n",
      " 8   Balance          10000 non-null  float64\n",
      " 9   NumOfProducts    10000 non-null  int64  \n",
      " 10  HasCrCard        10000 non-null  int64  \n",
      " 11  IsActiveMember   10000 non-null  int64  \n",
      " 12  EstimatedSalary  10000 non-null  float64\n",
      " 13  Exited           10000 non-null  int64  \n",
      "dtypes: float64(3), int64(8), object(3)\n",
      "memory usage: 1.1+ MB\n"
     ]
    }
   ],
   "source": [
    "df.info()"
   ]
  },
  {
   "cell_type": "code",
   "execution_count": 932,
   "metadata": {},
   "outputs": [
    {
     "data": {
      "text/html": [
       "<div>\n",
       "<style scoped>\n",
       "    .dataframe tbody tr th:only-of-type {\n",
       "        vertical-align: middle;\n",
       "    }\n",
       "\n",
       "    .dataframe tbody tr th {\n",
       "        vertical-align: top;\n",
       "    }\n",
       "\n",
       "    .dataframe thead th {\n",
       "        text-align: right;\n",
       "    }\n",
       "</style>\n",
       "<table border=\"1\" class=\"dataframe\">\n",
       "  <thead>\n",
       "    <tr style=\"text-align: right;\">\n",
       "      <th></th>\n",
       "      <th>RowNumber</th>\n",
       "      <th>CustomerId</th>\n",
       "      <th>CreditScore</th>\n",
       "      <th>Age</th>\n",
       "      <th>Tenure</th>\n",
       "      <th>Balance</th>\n",
       "      <th>NumOfProducts</th>\n",
       "      <th>HasCrCard</th>\n",
       "      <th>IsActiveMember</th>\n",
       "      <th>EstimatedSalary</th>\n",
       "      <th>Exited</th>\n",
       "    </tr>\n",
       "  </thead>\n",
       "  <tbody>\n",
       "    <tr>\n",
       "      <th>count</th>\n",
       "      <td>10000.00000</td>\n",
       "      <td>1.000000e+04</td>\n",
       "      <td>10000.000000</td>\n",
       "      <td>10000.000000</td>\n",
       "      <td>9091.000000</td>\n",
       "      <td>10000.000000</td>\n",
       "      <td>10000.000000</td>\n",
       "      <td>10000.00000</td>\n",
       "      <td>10000.000000</td>\n",
       "      <td>10000.000000</td>\n",
       "      <td>10000.000000</td>\n",
       "    </tr>\n",
       "    <tr>\n",
       "      <th>mean</th>\n",
       "      <td>5000.50000</td>\n",
       "      <td>1.569094e+07</td>\n",
       "      <td>650.528800</td>\n",
       "      <td>38.921800</td>\n",
       "      <td>4.997690</td>\n",
       "      <td>76485.889288</td>\n",
       "      <td>1.530200</td>\n",
       "      <td>0.70550</td>\n",
       "      <td>0.515100</td>\n",
       "      <td>100090.239881</td>\n",
       "      <td>0.203700</td>\n",
       "    </tr>\n",
       "    <tr>\n",
       "      <th>std</th>\n",
       "      <td>2886.89568</td>\n",
       "      <td>7.193619e+04</td>\n",
       "      <td>96.653299</td>\n",
       "      <td>10.487806</td>\n",
       "      <td>2.894723</td>\n",
       "      <td>62397.405202</td>\n",
       "      <td>0.581654</td>\n",
       "      <td>0.45584</td>\n",
       "      <td>0.499797</td>\n",
       "      <td>57510.492818</td>\n",
       "      <td>0.402769</td>\n",
       "    </tr>\n",
       "    <tr>\n",
       "      <th>min</th>\n",
       "      <td>1.00000</td>\n",
       "      <td>1.556570e+07</td>\n",
       "      <td>350.000000</td>\n",
       "      <td>18.000000</td>\n",
       "      <td>0.000000</td>\n",
       "      <td>0.000000</td>\n",
       "      <td>1.000000</td>\n",
       "      <td>0.00000</td>\n",
       "      <td>0.000000</td>\n",
       "      <td>11.580000</td>\n",
       "      <td>0.000000</td>\n",
       "    </tr>\n",
       "    <tr>\n",
       "      <th>25%</th>\n",
       "      <td>2500.75000</td>\n",
       "      <td>1.562853e+07</td>\n",
       "      <td>584.000000</td>\n",
       "      <td>32.000000</td>\n",
       "      <td>2.000000</td>\n",
       "      <td>0.000000</td>\n",
       "      <td>1.000000</td>\n",
       "      <td>0.00000</td>\n",
       "      <td>0.000000</td>\n",
       "      <td>51002.110000</td>\n",
       "      <td>0.000000</td>\n",
       "    </tr>\n",
       "    <tr>\n",
       "      <th>50%</th>\n",
       "      <td>5000.50000</td>\n",
       "      <td>1.569074e+07</td>\n",
       "      <td>652.000000</td>\n",
       "      <td>37.000000</td>\n",
       "      <td>5.000000</td>\n",
       "      <td>97198.540000</td>\n",
       "      <td>1.000000</td>\n",
       "      <td>1.00000</td>\n",
       "      <td>1.000000</td>\n",
       "      <td>100193.915000</td>\n",
       "      <td>0.000000</td>\n",
       "    </tr>\n",
       "    <tr>\n",
       "      <th>75%</th>\n",
       "      <td>7500.25000</td>\n",
       "      <td>1.575323e+07</td>\n",
       "      <td>718.000000</td>\n",
       "      <td>44.000000</td>\n",
       "      <td>7.000000</td>\n",
       "      <td>127644.240000</td>\n",
       "      <td>2.000000</td>\n",
       "      <td>1.00000</td>\n",
       "      <td>1.000000</td>\n",
       "      <td>149388.247500</td>\n",
       "      <td>0.000000</td>\n",
       "    </tr>\n",
       "    <tr>\n",
       "      <th>max</th>\n",
       "      <td>10000.00000</td>\n",
       "      <td>1.581569e+07</td>\n",
       "      <td>850.000000</td>\n",
       "      <td>92.000000</td>\n",
       "      <td>10.000000</td>\n",
       "      <td>250898.090000</td>\n",
       "      <td>4.000000</td>\n",
       "      <td>1.00000</td>\n",
       "      <td>1.000000</td>\n",
       "      <td>199992.480000</td>\n",
       "      <td>1.000000</td>\n",
       "    </tr>\n",
       "  </tbody>\n",
       "</table>\n",
       "</div>"
      ],
      "text/plain": [
       "         RowNumber    CustomerId   CreditScore           Age       Tenure  \\\n",
       "count  10000.00000  1.000000e+04  10000.000000  10000.000000  9091.000000   \n",
       "mean    5000.50000  1.569094e+07    650.528800     38.921800     4.997690   \n",
       "std     2886.89568  7.193619e+04     96.653299     10.487806     2.894723   \n",
       "min        1.00000  1.556570e+07    350.000000     18.000000     0.000000   \n",
       "25%     2500.75000  1.562853e+07    584.000000     32.000000     2.000000   \n",
       "50%     5000.50000  1.569074e+07    652.000000     37.000000     5.000000   \n",
       "75%     7500.25000  1.575323e+07    718.000000     44.000000     7.000000   \n",
       "max    10000.00000  1.581569e+07    850.000000     92.000000    10.000000   \n",
       "\n",
       "             Balance  NumOfProducts    HasCrCard  IsActiveMember  \\\n",
       "count   10000.000000   10000.000000  10000.00000    10000.000000   \n",
       "mean    76485.889288       1.530200      0.70550        0.515100   \n",
       "std     62397.405202       0.581654      0.45584        0.499797   \n",
       "min         0.000000       1.000000      0.00000        0.000000   \n",
       "25%         0.000000       1.000000      0.00000        0.000000   \n",
       "50%     97198.540000       1.000000      1.00000        1.000000   \n",
       "75%    127644.240000       2.000000      1.00000        1.000000   \n",
       "max    250898.090000       4.000000      1.00000        1.000000   \n",
       "\n",
       "       EstimatedSalary        Exited  \n",
       "count     10000.000000  10000.000000  \n",
       "mean     100090.239881      0.203700  \n",
       "std       57510.492818      0.402769  \n",
       "min          11.580000      0.000000  \n",
       "25%       51002.110000      0.000000  \n",
       "50%      100193.915000      0.000000  \n",
       "75%      149388.247500      0.000000  \n",
       "max      199992.480000      1.000000  "
      ]
     },
     "execution_count": 932,
     "metadata": {},
     "output_type": "execute_result"
    }
   ],
   "source": [
    "df.describe()"
   ]
  },
  {
   "cell_type": "markdown",
   "metadata": {},
   "source": [
    "Чтобы ничего не упустить, составим предварительный план предобработки данных:"
   ]
  },
  {
   "cell_type": "markdown",
   "metadata": {},
   "source": [
    "### 1.1 Грубая предобработка данных<a id='step_1.1'></a>"
   ]
  },
  {
   "cell_type": "markdown",
   "metadata": {},
   "source": [
    "#### План грубой предобработки данных"
   ]
  },
  {
   "cell_type": "markdown",
   "metadata": {},
   "source": [
    "1. Привести названия столбцов к нижнему регистру\n",
    "1. *RowNumber* - убрать\n",
    "1. *Tenure* - заполнить/удалить пропуски\n"
   ]
  },
  {
   "cell_type": "markdown",
   "metadata": {},
   "source": [
    "#### 1. Приведем названия столбцов к нижнему регистру"
   ]
  },
  {
   "cell_type": "code",
   "execution_count": 933,
   "metadata": {},
   "outputs": [],
   "source": [
    "df.columns = [str.lower(i) for i in df.columns]"
   ]
  },
  {
   "cell_type": "markdown",
   "metadata": {},
   "source": [
    "#### 2. Удалим столбец *RowNumber*"
   ]
  },
  {
   "cell_type": "code",
   "execution_count": 934,
   "metadata": {},
   "outputs": [],
   "source": [
    "df = df.drop('rownumber', axis=1)"
   ]
  },
  {
   "cell_type": "code",
   "execution_count": 935,
   "metadata": {
    "scrolled": true
   },
   "outputs": [
    {
     "data": {
      "text/html": [
       "<div>\n",
       "<style scoped>\n",
       "    .dataframe tbody tr th:only-of-type {\n",
       "        vertical-align: middle;\n",
       "    }\n",
       "\n",
       "    .dataframe tbody tr th {\n",
       "        vertical-align: top;\n",
       "    }\n",
       "\n",
       "    .dataframe thead th {\n",
       "        text-align: right;\n",
       "    }\n",
       "</style>\n",
       "<table border=\"1\" class=\"dataframe\">\n",
       "  <thead>\n",
       "    <tr style=\"text-align: right;\">\n",
       "      <th></th>\n",
       "      <th>customerid</th>\n",
       "      <th>surname</th>\n",
       "      <th>creditscore</th>\n",
       "      <th>geography</th>\n",
       "      <th>gender</th>\n",
       "      <th>age</th>\n",
       "      <th>tenure</th>\n",
       "      <th>balance</th>\n",
       "      <th>numofproducts</th>\n",
       "      <th>hascrcard</th>\n",
       "      <th>isactivemember</th>\n",
       "      <th>estimatedsalary</th>\n",
       "      <th>exited</th>\n",
       "    </tr>\n",
       "  </thead>\n",
       "  <tbody>\n",
       "    <tr>\n",
       "      <th>0</th>\n",
       "      <td>15634602</td>\n",
       "      <td>Hargrave</td>\n",
       "      <td>619</td>\n",
       "      <td>France</td>\n",
       "      <td>Female</td>\n",
       "      <td>42</td>\n",
       "      <td>2.0</td>\n",
       "      <td>0.00</td>\n",
       "      <td>1</td>\n",
       "      <td>1</td>\n",
       "      <td>1</td>\n",
       "      <td>101348.88</td>\n",
       "      <td>1</td>\n",
       "    </tr>\n",
       "    <tr>\n",
       "      <th>1</th>\n",
       "      <td>15647311</td>\n",
       "      <td>Hill</td>\n",
       "      <td>608</td>\n",
       "      <td>Spain</td>\n",
       "      <td>Female</td>\n",
       "      <td>41</td>\n",
       "      <td>1.0</td>\n",
       "      <td>83807.86</td>\n",
       "      <td>1</td>\n",
       "      <td>0</td>\n",
       "      <td>1</td>\n",
       "      <td>112542.58</td>\n",
       "      <td>0</td>\n",
       "    </tr>\n",
       "    <tr>\n",
       "      <th>2</th>\n",
       "      <td>15619304</td>\n",
       "      <td>Onio</td>\n",
       "      <td>502</td>\n",
       "      <td>France</td>\n",
       "      <td>Female</td>\n",
       "      <td>42</td>\n",
       "      <td>8.0</td>\n",
       "      <td>159660.80</td>\n",
       "      <td>3</td>\n",
       "      <td>1</td>\n",
       "      <td>0</td>\n",
       "      <td>113931.57</td>\n",
       "      <td>1</td>\n",
       "    </tr>\n",
       "  </tbody>\n",
       "</table>\n",
       "</div>"
      ],
      "text/plain": [
       "   customerid   surname  creditscore geography  gender  age  tenure  \\\n",
       "0    15634602  Hargrave          619    France  Female   42     2.0   \n",
       "1    15647311      Hill          608     Spain  Female   41     1.0   \n",
       "2    15619304      Onio          502    France  Female   42     8.0   \n",
       "\n",
       "     balance  numofproducts  hascrcard  isactivemember  estimatedsalary  \\\n",
       "0       0.00              1          1               1        101348.88   \n",
       "1   83807.86              1          0               1        112542.58   \n",
       "2  159660.80              3          1               0        113931.57   \n",
       "\n",
       "   exited  \n",
       "0       1  \n",
       "1       0  \n",
       "2       1  "
      ]
     },
     "execution_count": 935,
     "metadata": {},
     "output_type": "execute_result"
    }
   ],
   "source": [
    "df.head(3)"
   ]
  },
  {
   "cell_type": "markdown",
   "metadata": {},
   "source": [
    "#### 3. Разберемся с пропусками в столбце *Tenure*"
   ]
  },
  {
   "cell_type": "markdown",
   "metadata": {},
   "source": [
    "Восстановить данные с достаточной для прадоподобия точностью у нас нет возможности. Заполнять пропуски какой-либо из статистик нецелесообразно т.к. такие объекты могут в худшую сторону повлиять на качество обучения модели. Поэтому, просто отбросим объекты с пропусками."
   ]
  },
  {
   "cell_type": "code",
   "execution_count": 936,
   "metadata": {},
   "outputs": [],
   "source": [
    "df = df.dropna()"
   ]
  },
  {
   "cell_type": "code",
   "execution_count": 937,
   "metadata": {},
   "outputs": [
    {
     "data": {
      "text/plain": [
       "(9091, 13)"
      ]
     },
     "execution_count": 937,
     "metadata": {},
     "output_type": "execute_result"
    }
   ],
   "source": [
    "df.shape"
   ]
  },
  {
   "cell_type": "markdown",
   "metadata": {},
   "source": [
    "###  Промежуточный вывод:"
   ]
  },
  {
   "cell_type": "markdown",
   "metadata": {},
   "source": [
    "Данные очищены от лишних столбцов. Удалены пропуски. Датафрейм готов к более тонкой подготовке данных для машинного обучения."
   ]
  },
  {
   "cell_type": "markdown",
   "metadata": {},
   "source": [
    "### 1.2 Предобработка данных для задач машинного обучения<a id='step_1.2'></a>"
   ]
  },
  {
   "cell_type": "markdown",
   "metadata": {},
   "source": [
    "Как мы знаем, чтобы модель лучше поняла закономерности в данных, эти самые данные должны быть определенным образом подготовлены для алгоритма обучения. Имея такую цель, определим план предобработки данных:"
   ]
  },
  {
   "cell_type": "markdown",
   "metadata": {},
   "source": [
    "**Вспомним, какие есть типы признаков, и какими методами они обрабатываются:**\n",
    "\n",
    "- Количественный признак ---> Нормирование\n",
    "- Категориальный признак ---> Кодирование. Метод OHE\n",
    "- Ранговый (порядковый) признак ---> Нормирование"
   ]
  },
  {
   "cell_type": "markdown",
   "metadata": {},
   "source": [
    "#### План тонкой предобработки данных"
   ]
  },
  {
   "cell_type": "markdown",
   "metadata": {},
   "source": [
    "1. Столбец *customerid* нам не нужен. Он внесет лишний шум в данные. Отбрасываем\n",
    "1. Столбец *surname* - аналогично.\n",
    "1. Признак *creditscore* - представляет собой набор числовых признаков. Для нашей задачи он может оказаться важен. Нужно его только нормировать.\n",
    "1. Признак *geography* категориальный признак. Тоже представляет ценность. Но его нужно закодировать методом OHE.\n",
    "1. Признак *gender* - категориальный бинарный признак. Аналогично п.4\n",
    "1. Признак *age* - количественный признак. Нормировать.\n",
    "1. Признак *tenure* - ранговый признак. Нормировать\n",
    "1. Признак *balance* - количественный признак. Нормировать\n",
    "1. Признак *numofproducts* - ранговый признак. Нормировать\n",
    "1. Признак *hascrcard* - категориальный бинарный признак. В данном случае, он уже подготовлен. Оставляем без изменений\n",
    "1. Признак *isactivemember* - категориальный бинарный признак. В данном случае, он уже подготовлен. Оставляем без изменений\n",
    "1. Признак *estimatedsalary* - количественный признак. Нормировать\n",
    "1. Проверка на **мультиколлинеарность**"
   ]
  },
  {
   "cell_type": "markdown",
   "metadata": {},
   "source": [
    "#### 1. Отбросим лишние столбцы  п.1 - п.2"
   ]
  },
  {
   "cell_type": "markdown",
   "metadata": {},
   "source": [
    "Будем собирать все признаки в отдельный датафрейм"
   ]
  },
  {
   "cell_type": "code",
   "execution_count": 938,
   "metadata": {},
   "outputs": [],
   "source": [
    "df_ml = df.drop(['customerid', 'surname'], axis=1)"
   ]
  },
  {
   "cell_type": "code",
   "execution_count": 939,
   "metadata": {},
   "outputs": [
    {
     "data": {
      "text/html": [
       "<div>\n",
       "<style scoped>\n",
       "    .dataframe tbody tr th:only-of-type {\n",
       "        vertical-align: middle;\n",
       "    }\n",
       "\n",
       "    .dataframe tbody tr th {\n",
       "        vertical-align: top;\n",
       "    }\n",
       "\n",
       "    .dataframe thead th {\n",
       "        text-align: right;\n",
       "    }\n",
       "</style>\n",
       "<table border=\"1\" class=\"dataframe\">\n",
       "  <thead>\n",
       "    <tr style=\"text-align: right;\">\n",
       "      <th></th>\n",
       "      <th>creditscore</th>\n",
       "      <th>geography</th>\n",
       "      <th>gender</th>\n",
       "      <th>age</th>\n",
       "      <th>tenure</th>\n",
       "      <th>balance</th>\n",
       "      <th>numofproducts</th>\n",
       "      <th>hascrcard</th>\n",
       "      <th>isactivemember</th>\n",
       "      <th>estimatedsalary</th>\n",
       "      <th>exited</th>\n",
       "    </tr>\n",
       "  </thead>\n",
       "  <tbody>\n",
       "    <tr>\n",
       "      <th>0</th>\n",
       "      <td>619</td>\n",
       "      <td>France</td>\n",
       "      <td>Female</td>\n",
       "      <td>42</td>\n",
       "      <td>2.0</td>\n",
       "      <td>0.00</td>\n",
       "      <td>1</td>\n",
       "      <td>1</td>\n",
       "      <td>1</td>\n",
       "      <td>101348.88</td>\n",
       "      <td>1</td>\n",
       "    </tr>\n",
       "    <tr>\n",
       "      <th>1</th>\n",
       "      <td>608</td>\n",
       "      <td>Spain</td>\n",
       "      <td>Female</td>\n",
       "      <td>41</td>\n",
       "      <td>1.0</td>\n",
       "      <td>83807.86</td>\n",
       "      <td>1</td>\n",
       "      <td>0</td>\n",
       "      <td>1</td>\n",
       "      <td>112542.58</td>\n",
       "      <td>0</td>\n",
       "    </tr>\n",
       "    <tr>\n",
       "      <th>2</th>\n",
       "      <td>502</td>\n",
       "      <td>France</td>\n",
       "      <td>Female</td>\n",
       "      <td>42</td>\n",
       "      <td>8.0</td>\n",
       "      <td>159660.80</td>\n",
       "      <td>3</td>\n",
       "      <td>1</td>\n",
       "      <td>0</td>\n",
       "      <td>113931.57</td>\n",
       "      <td>1</td>\n",
       "    </tr>\n",
       "  </tbody>\n",
       "</table>\n",
       "</div>"
      ],
      "text/plain": [
       "   creditscore geography  gender  age  tenure    balance  numofproducts  \\\n",
       "0          619    France  Female   42     2.0       0.00              1   \n",
       "1          608     Spain  Female   41     1.0   83807.86              1   \n",
       "2          502    France  Female   42     8.0  159660.80              3   \n",
       "\n",
       "   hascrcard  isactivemember  estimatedsalary  exited  \n",
       "0          1               1        101348.88       1  \n",
       "1          0               1        112542.58       0  \n",
       "2          1               0        113931.57       1  "
      ]
     },
     "execution_count": 939,
     "metadata": {},
     "output_type": "execute_result"
    }
   ],
   "source": [
    "df_ml.head(3)"
   ]
  },
  {
   "cell_type": "markdown",
   "metadata": {},
   "source": [
    "#### 2. Категориальные признаки. Обработаем сразу все**"
   ]
  },
  {
   "cell_type": "code",
   "execution_count": 940,
   "metadata": {},
   "outputs": [],
   "source": [
    "df_ml = pd.get_dummies(df_ml, drop_first=True)"
   ]
  },
  {
   "cell_type": "code",
   "execution_count": 941,
   "metadata": {},
   "outputs": [
    {
     "data": {
      "text/html": [
       "<div>\n",
       "<style scoped>\n",
       "    .dataframe tbody tr th:only-of-type {\n",
       "        vertical-align: middle;\n",
       "    }\n",
       "\n",
       "    .dataframe tbody tr th {\n",
       "        vertical-align: top;\n",
       "    }\n",
       "\n",
       "    .dataframe thead th {\n",
       "        text-align: right;\n",
       "    }\n",
       "</style>\n",
       "<table border=\"1\" class=\"dataframe\">\n",
       "  <thead>\n",
       "    <tr style=\"text-align: right;\">\n",
       "      <th></th>\n",
       "      <th>creditscore</th>\n",
       "      <th>age</th>\n",
       "      <th>tenure</th>\n",
       "      <th>balance</th>\n",
       "      <th>numofproducts</th>\n",
       "      <th>hascrcard</th>\n",
       "      <th>isactivemember</th>\n",
       "      <th>estimatedsalary</th>\n",
       "      <th>exited</th>\n",
       "      <th>geography_Germany</th>\n",
       "      <th>geography_Spain</th>\n",
       "      <th>gender_Male</th>\n",
       "    </tr>\n",
       "  </thead>\n",
       "  <tbody>\n",
       "    <tr>\n",
       "      <th>0</th>\n",
       "      <td>619</td>\n",
       "      <td>42</td>\n",
       "      <td>2.0</td>\n",
       "      <td>0.00</td>\n",
       "      <td>1</td>\n",
       "      <td>1</td>\n",
       "      <td>1</td>\n",
       "      <td>101348.88</td>\n",
       "      <td>1</td>\n",
       "      <td>0</td>\n",
       "      <td>0</td>\n",
       "      <td>0</td>\n",
       "    </tr>\n",
       "    <tr>\n",
       "      <th>1</th>\n",
       "      <td>608</td>\n",
       "      <td>41</td>\n",
       "      <td>1.0</td>\n",
       "      <td>83807.86</td>\n",
       "      <td>1</td>\n",
       "      <td>0</td>\n",
       "      <td>1</td>\n",
       "      <td>112542.58</td>\n",
       "      <td>0</td>\n",
       "      <td>0</td>\n",
       "      <td>1</td>\n",
       "      <td>0</td>\n",
       "    </tr>\n",
       "    <tr>\n",
       "      <th>2</th>\n",
       "      <td>502</td>\n",
       "      <td>42</td>\n",
       "      <td>8.0</td>\n",
       "      <td>159660.80</td>\n",
       "      <td>3</td>\n",
       "      <td>1</td>\n",
       "      <td>0</td>\n",
       "      <td>113931.57</td>\n",
       "      <td>1</td>\n",
       "      <td>0</td>\n",
       "      <td>0</td>\n",
       "      <td>0</td>\n",
       "    </tr>\n",
       "  </tbody>\n",
       "</table>\n",
       "</div>"
      ],
      "text/plain": [
       "   creditscore  age  tenure    balance  numofproducts  hascrcard  \\\n",
       "0          619   42     2.0       0.00              1          1   \n",
       "1          608   41     1.0   83807.86              1          0   \n",
       "2          502   42     8.0  159660.80              3          1   \n",
       "\n",
       "   isactivemember  estimatedsalary  exited  geography_Germany  \\\n",
       "0               1        101348.88       1                  0   \n",
       "1               1        112542.58       0                  0   \n",
       "2               0        113931.57       1                  0   \n",
       "\n",
       "   geography_Spain  gender_Male  \n",
       "0                0            0  \n",
       "1                1            0  \n",
       "2                0            0  "
      ]
     },
     "execution_count": 941,
     "metadata": {},
     "output_type": "execute_result"
    }
   ],
   "source": [
    "df_ml.head(3)"
   ]
  },
  {
   "cell_type": "markdown",
   "metadata": {},
   "source": [
    "И снова преобразуем столбцы к нижнему регистру:"
   ]
  },
  {
   "cell_type": "code",
   "execution_count": 942,
   "metadata": {},
   "outputs": [],
   "source": [
    "df_ml.columns = [str.lower(i) for i in df_ml.columns]"
   ]
  },
  {
   "cell_type": "code",
   "execution_count": 943,
   "metadata": {},
   "outputs": [
    {
     "data": {
      "text/html": [
       "<div>\n",
       "<style scoped>\n",
       "    .dataframe tbody tr th:only-of-type {\n",
       "        vertical-align: middle;\n",
       "    }\n",
       "\n",
       "    .dataframe tbody tr th {\n",
       "        vertical-align: top;\n",
       "    }\n",
       "\n",
       "    .dataframe thead th {\n",
       "        text-align: right;\n",
       "    }\n",
       "</style>\n",
       "<table border=\"1\" class=\"dataframe\">\n",
       "  <thead>\n",
       "    <tr style=\"text-align: right;\">\n",
       "      <th></th>\n",
       "      <th>creditscore</th>\n",
       "      <th>age</th>\n",
       "      <th>tenure</th>\n",
       "      <th>balance</th>\n",
       "      <th>numofproducts</th>\n",
       "      <th>hascrcard</th>\n",
       "      <th>isactivemember</th>\n",
       "      <th>estimatedsalary</th>\n",
       "      <th>exited</th>\n",
       "      <th>geography_germany</th>\n",
       "      <th>geography_spain</th>\n",
       "      <th>gender_male</th>\n",
       "    </tr>\n",
       "  </thead>\n",
       "  <tbody>\n",
       "    <tr>\n",
       "      <th>0</th>\n",
       "      <td>619</td>\n",
       "      <td>42</td>\n",
       "      <td>2.0</td>\n",
       "      <td>0.00</td>\n",
       "      <td>1</td>\n",
       "      <td>1</td>\n",
       "      <td>1</td>\n",
       "      <td>101348.88</td>\n",
       "      <td>1</td>\n",
       "      <td>0</td>\n",
       "      <td>0</td>\n",
       "      <td>0</td>\n",
       "    </tr>\n",
       "    <tr>\n",
       "      <th>1</th>\n",
       "      <td>608</td>\n",
       "      <td>41</td>\n",
       "      <td>1.0</td>\n",
       "      <td>83807.86</td>\n",
       "      <td>1</td>\n",
       "      <td>0</td>\n",
       "      <td>1</td>\n",
       "      <td>112542.58</td>\n",
       "      <td>0</td>\n",
       "      <td>0</td>\n",
       "      <td>1</td>\n",
       "      <td>0</td>\n",
       "    </tr>\n",
       "    <tr>\n",
       "      <th>2</th>\n",
       "      <td>502</td>\n",
       "      <td>42</td>\n",
       "      <td>8.0</td>\n",
       "      <td>159660.80</td>\n",
       "      <td>3</td>\n",
       "      <td>1</td>\n",
       "      <td>0</td>\n",
       "      <td>113931.57</td>\n",
       "      <td>1</td>\n",
       "      <td>0</td>\n",
       "      <td>0</td>\n",
       "      <td>0</td>\n",
       "    </tr>\n",
       "  </tbody>\n",
       "</table>\n",
       "</div>"
      ],
      "text/plain": [
       "   creditscore  age  tenure    balance  numofproducts  hascrcard  \\\n",
       "0          619   42     2.0       0.00              1          1   \n",
       "1          608   41     1.0   83807.86              1          0   \n",
       "2          502   42     8.0  159660.80              3          1   \n",
       "\n",
       "   isactivemember  estimatedsalary  exited  geography_germany  \\\n",
       "0               1        101348.88       1                  0   \n",
       "1               1        112542.58       0                  0   \n",
       "2               0        113931.57       1                  0   \n",
       "\n",
       "   geography_spain  gender_male  \n",
       "0                0            0  \n",
       "1                1            0  \n",
       "2                0            0  "
      ]
     },
     "execution_count": 943,
     "metadata": {},
     "output_type": "execute_result"
    }
   ],
   "source": [
    "df_ml.head(3)"
   ]
  },
  {
   "cell_type": "markdown",
   "metadata": {},
   "source": [
    "Проверим, что ничего на пути не растеряли:"
   ]
  },
  {
   "cell_type": "code",
   "execution_count": 944,
   "metadata": {},
   "outputs": [
    {
     "data": {
      "text/plain": [
       "(9091, 12)"
      ]
     },
     "execution_count": 944,
     "metadata": {},
     "output_type": "execute_result"
    }
   ],
   "source": [
    "df_ml.shape"
   ]
  },
  {
   "cell_type": "markdown",
   "metadata": {},
   "source": [
    "#### 3. Количественные признаки. Нормирование"
   ]
  },
  {
   "cell_type": "markdown",
   "metadata": {},
   "source": [
    "Отделим целевой признак от остальных:"
   ]
  },
  {
   "cell_type": "code",
   "execution_count": 945,
   "metadata": {},
   "outputs": [],
   "source": [
    "target = df_ml['exited']\n",
    "features = df_ml.drop('exited', axis=1)"
   ]
  },
  {
   "cell_type": "code",
   "execution_count": 946,
   "metadata": {},
   "outputs": [
    {
     "data": {
      "text/plain": [
       "(9091,)"
      ]
     },
     "execution_count": 946,
     "metadata": {},
     "output_type": "execute_result"
    }
   ],
   "source": [
    "target.shape"
   ]
  },
  {
   "cell_type": "code",
   "execution_count": 947,
   "metadata": {},
   "outputs": [
    {
     "data": {
      "text/plain": [
       "(9091, 11)"
      ]
     },
     "execution_count": 947,
     "metadata": {},
     "output_type": "execute_result"
    }
   ],
   "source": [
    "features.shape"
   ]
  },
  {
   "cell_type": "markdown",
   "metadata": {},
   "source": [
    "**Нормирование**"
   ]
  },
  {
   "cell_type": "markdown",
   "metadata": {},
   "source": [
    "Теперь выпишем названия столбцов с числовыми признаками, которые будем нормировать:"
   ]
  },
  {
   "cell_type": "code",
   "execution_count": 948,
   "metadata": {},
   "outputs": [],
   "source": [
    "numeric = ['creditscore', 'age', 'tenure', 'balance', 'numofproducts', 'estimatedsalary']"
   ]
  },
  {
   "cell_type": "markdown",
   "metadata": {},
   "source": [
    "Вызовем модель для нормирования данных, и обучим ее:"
   ]
  },
  {
   "cell_type": "code",
   "execution_count": 949,
   "metadata": {},
   "outputs": [
    {
     "data": {
      "text/plain": [
       "StandardScaler()"
      ]
     },
     "execution_count": 949,
     "metadata": {},
     "output_type": "execute_result"
    }
   ],
   "source": [
    "scaler = StandardScaler()\n",
    "scaler.fit(features[numeric])"
   ]
  },
  {
   "cell_type": "markdown",
   "metadata": {},
   "source": [
    "Заменим числовые значения признаков на нормированные:"
   ]
  },
  {
   "cell_type": "code",
   "execution_count": 950,
   "metadata": {},
   "outputs": [],
   "source": [
    "features[numeric] = scaler.transform(features[numeric])"
   ]
  },
  {
   "cell_type": "code",
   "execution_count": 951,
   "metadata": {},
   "outputs": [
    {
     "data": {
      "text/html": [
       "<div>\n",
       "<style scoped>\n",
       "    .dataframe tbody tr th:only-of-type {\n",
       "        vertical-align: middle;\n",
       "    }\n",
       "\n",
       "    .dataframe tbody tr th {\n",
       "        vertical-align: top;\n",
       "    }\n",
       "\n",
       "    .dataframe thead th {\n",
       "        text-align: right;\n",
       "    }\n",
       "</style>\n",
       "<table border=\"1\" class=\"dataframe\">\n",
       "  <thead>\n",
       "    <tr style=\"text-align: right;\">\n",
       "      <th></th>\n",
       "      <th>creditscore</th>\n",
       "      <th>age</th>\n",
       "      <th>tenure</th>\n",
       "      <th>balance</th>\n",
       "      <th>numofproducts</th>\n",
       "      <th>hascrcard</th>\n",
       "      <th>isactivemember</th>\n",
       "      <th>estimatedsalary</th>\n",
       "      <th>geography_germany</th>\n",
       "      <th>geography_spain</th>\n",
       "      <th>gender_male</th>\n",
       "    </tr>\n",
       "  </thead>\n",
       "  <tbody>\n",
       "    <tr>\n",
       "      <th>0</th>\n",
       "      <td>-0.329200</td>\n",
       "      <td>0.289040</td>\n",
       "      <td>-1.035627</td>\n",
       "      <td>-1.227780</td>\n",
       "      <td>-0.912601</td>\n",
       "      <td>1</td>\n",
       "      <td>1</td>\n",
       "      <td>0.020264</td>\n",
       "      <td>0</td>\n",
       "      <td>0</td>\n",
       "      <td>0</td>\n",
       "    </tr>\n",
       "    <tr>\n",
       "      <th>1</th>\n",
       "      <td>-0.443301</td>\n",
       "      <td>0.194298</td>\n",
       "      <td>-1.381103</td>\n",
       "      <td>0.116887</td>\n",
       "      <td>-0.912601</td>\n",
       "      <td>0</td>\n",
       "      <td>1</td>\n",
       "      <td>0.214527</td>\n",
       "      <td>0</td>\n",
       "      <td>1</td>\n",
       "      <td>0</td>\n",
       "    </tr>\n",
       "    <tr>\n",
       "      <th>2</th>\n",
       "      <td>-1.542828</td>\n",
       "      <td>0.289040</td>\n",
       "      <td>1.037224</td>\n",
       "      <td>1.333920</td>\n",
       "      <td>2.529911</td>\n",
       "      <td>1</td>\n",
       "      <td>0</td>\n",
       "      <td>0.238632</td>\n",
       "      <td>0</td>\n",
       "      <td>0</td>\n",
       "      <td>0</td>\n",
       "    </tr>\n",
       "  </tbody>\n",
       "</table>\n",
       "</div>"
      ],
      "text/plain": [
       "   creditscore       age    tenure   balance  numofproducts  hascrcard  \\\n",
       "0    -0.329200  0.289040 -1.035627 -1.227780      -0.912601          1   \n",
       "1    -0.443301  0.194298 -1.381103  0.116887      -0.912601          0   \n",
       "2    -1.542828  0.289040  1.037224  1.333920       2.529911          1   \n",
       "\n",
       "   isactivemember  estimatedsalary  geography_germany  geography_spain  \\\n",
       "0               1         0.020264                  0                0   \n",
       "1               1         0.214527                  0                1   \n",
       "2               0         0.238632                  0                0   \n",
       "\n",
       "   gender_male  \n",
       "0            0  \n",
       "1            0  \n",
       "2            0  "
      ]
     },
     "execution_count": 951,
     "metadata": {},
     "output_type": "execute_result"
    }
   ],
   "source": [
    "features.head(3)"
   ]
  },
  {
   "cell_type": "markdown",
   "metadata": {},
   "source": [
    "Проверим размерность таблицы"
   ]
  },
  {
   "cell_type": "code",
   "execution_count": 952,
   "metadata": {},
   "outputs": [
    {
     "data": {
      "text/plain": [
       "(9091, 11)"
      ]
     },
     "execution_count": 952,
     "metadata": {},
     "output_type": "execute_result"
    }
   ],
   "source": [
    "features.shape"
   ]
  },
  {
   "cell_type": "markdown",
   "metadata": {},
   "source": [
    "#### 4. Проверка на мультиколлинеарность"
   ]
  },
  {
   "cell_type": "markdown",
   "metadata": {},
   "source": [
    "Построим матрицу корреляции признаков:"
   ]
  },
  {
   "cell_type": "code",
   "execution_count": 953,
   "metadata": {},
   "outputs": [
    {
     "data": {
      "text/html": [
       "<div>\n",
       "<style scoped>\n",
       "    .dataframe tbody tr th:only-of-type {\n",
       "        vertical-align: middle;\n",
       "    }\n",
       "\n",
       "    .dataframe tbody tr th {\n",
       "        vertical-align: top;\n",
       "    }\n",
       "\n",
       "    .dataframe thead th {\n",
       "        text-align: right;\n",
       "    }\n",
       "</style>\n",
       "<table border=\"1\" class=\"dataframe\">\n",
       "  <thead>\n",
       "    <tr style=\"text-align: right;\">\n",
       "      <th></th>\n",
       "      <th>creditscore</th>\n",
       "      <th>age</th>\n",
       "      <th>tenure</th>\n",
       "      <th>balance</th>\n",
       "      <th>numofproducts</th>\n",
       "      <th>hascrcard</th>\n",
       "      <th>isactivemember</th>\n",
       "      <th>estimatedsalary</th>\n",
       "      <th>geography_germany</th>\n",
       "      <th>geography_spain</th>\n",
       "      <th>gender_male</th>\n",
       "    </tr>\n",
       "  </thead>\n",
       "  <tbody>\n",
       "    <tr>\n",
       "      <th>creditscore</th>\n",
       "      <td>1.000000</td>\n",
       "      <td>-0.004504</td>\n",
       "      <td>-0.000062</td>\n",
       "      <td>0.002804</td>\n",
       "      <td>0.011090</td>\n",
       "      <td>-0.003937</td>\n",
       "      <td>0.030947</td>\n",
       "      <td>0.005182</td>\n",
       "      <td>0.000428</td>\n",
       "      <td>0.001725</td>\n",
       "      <td>-0.008547</td>\n",
       "    </tr>\n",
       "    <tr>\n",
       "      <th>age</th>\n",
       "      <td>-0.004504</td>\n",
       "      <td>1.000000</td>\n",
       "      <td>-0.013134</td>\n",
       "      <td>0.031481</td>\n",
       "      <td>-0.031877</td>\n",
       "      <td>-0.014129</td>\n",
       "      <td>0.082269</td>\n",
       "      <td>-0.007037</td>\n",
       "      <td>0.049038</td>\n",
       "      <td>-0.005622</td>\n",
       "      <td>-0.025631</td>\n",
       "    </tr>\n",
       "    <tr>\n",
       "      <th>tenure</th>\n",
       "      <td>-0.000062</td>\n",
       "      <td>-0.013134</td>\n",
       "      <td>1.000000</td>\n",
       "      <td>-0.007911</td>\n",
       "      <td>0.011979</td>\n",
       "      <td>0.027232</td>\n",
       "      <td>-0.032178</td>\n",
       "      <td>0.010520</td>\n",
       "      <td>-0.003299</td>\n",
       "      <td>0.000810</td>\n",
       "      <td>0.012634</td>\n",
       "    </tr>\n",
       "    <tr>\n",
       "      <th>balance</th>\n",
       "      <td>0.002804</td>\n",
       "      <td>0.031481</td>\n",
       "      <td>-0.007911</td>\n",
       "      <td>1.000000</td>\n",
       "      <td>-0.301858</td>\n",
       "      <td>-0.019055</td>\n",
       "      <td>-0.003285</td>\n",
       "      <td>0.014351</td>\n",
       "      <td>0.401701</td>\n",
       "      <td>-0.136986</td>\n",
       "      <td>0.018030</td>\n",
       "    </tr>\n",
       "    <tr>\n",
       "      <th>numofproducts</th>\n",
       "      <td>0.011090</td>\n",
       "      <td>-0.031877</td>\n",
       "      <td>0.011979</td>\n",
       "      <td>-0.301858</td>\n",
       "      <td>1.000000</td>\n",
       "      <td>0.005805</td>\n",
       "      <td>0.009084</td>\n",
       "      <td>0.013990</td>\n",
       "      <td>-0.009476</td>\n",
       "      <td>0.011903</td>\n",
       "      <td>-0.025176</td>\n",
       "    </tr>\n",
       "    <tr>\n",
       "      <th>hascrcard</th>\n",
       "      <td>-0.003937</td>\n",
       "      <td>-0.014129</td>\n",
       "      <td>0.027232</td>\n",
       "      <td>-0.019055</td>\n",
       "      <td>0.005805</td>\n",
       "      <td>1.000000</td>\n",
       "      <td>-0.008810</td>\n",
       "      <td>-0.006136</td>\n",
       "      <td>0.009149</td>\n",
       "      <td>-0.017779</td>\n",
       "      <td>0.006016</td>\n",
       "    </tr>\n",
       "    <tr>\n",
       "      <th>isactivemember</th>\n",
       "      <td>0.030947</td>\n",
       "      <td>0.082269</td>\n",
       "      <td>-0.032178</td>\n",
       "      <td>-0.003285</td>\n",
       "      <td>0.009084</td>\n",
       "      <td>-0.008810</td>\n",
       "      <td>1.000000</td>\n",
       "      <td>-0.020049</td>\n",
       "      <td>-0.016821</td>\n",
       "      <td>0.014800</td>\n",
       "      <td>0.025019</td>\n",
       "    </tr>\n",
       "    <tr>\n",
       "      <th>estimatedsalary</th>\n",
       "      <td>0.005182</td>\n",
       "      <td>-0.007037</td>\n",
       "      <td>0.010520</td>\n",
       "      <td>0.014351</td>\n",
       "      <td>0.013990</td>\n",
       "      <td>-0.006136</td>\n",
       "      <td>-0.020049</td>\n",
       "      <td>1.000000</td>\n",
       "      <td>0.011551</td>\n",
       "      <td>-0.010998</td>\n",
       "      <td>-0.002658</td>\n",
       "    </tr>\n",
       "    <tr>\n",
       "      <th>geography_germany</th>\n",
       "      <td>0.000428</td>\n",
       "      <td>0.049038</td>\n",
       "      <td>-0.003299</td>\n",
       "      <td>0.401701</td>\n",
       "      <td>-0.009476</td>\n",
       "      <td>0.009149</td>\n",
       "      <td>-0.016821</td>\n",
       "      <td>0.011551</td>\n",
       "      <td>1.000000</td>\n",
       "      <td>-0.332879</td>\n",
       "      <td>-0.023701</td>\n",
       "    </tr>\n",
       "    <tr>\n",
       "      <th>geography_spain</th>\n",
       "      <td>0.001725</td>\n",
       "      <td>-0.005622</td>\n",
       "      <td>0.000810</td>\n",
       "      <td>-0.136986</td>\n",
       "      <td>0.011903</td>\n",
       "      <td>-0.017779</td>\n",
       "      <td>0.014800</td>\n",
       "      <td>-0.010998</td>\n",
       "      <td>-0.332879</td>\n",
       "      <td>1.000000</td>\n",
       "      <td>0.015388</td>\n",
       "    </tr>\n",
       "    <tr>\n",
       "      <th>gender_male</th>\n",
       "      <td>-0.008547</td>\n",
       "      <td>-0.025631</td>\n",
       "      <td>0.012634</td>\n",
       "      <td>0.018030</td>\n",
       "      <td>-0.025176</td>\n",
       "      <td>0.006016</td>\n",
       "      <td>0.025019</td>\n",
       "      <td>-0.002658</td>\n",
       "      <td>-0.023701</td>\n",
       "      <td>0.015388</td>\n",
       "      <td>1.000000</td>\n",
       "    </tr>\n",
       "  </tbody>\n",
       "</table>\n",
       "</div>"
      ],
      "text/plain": [
       "                   creditscore       age    tenure   balance  numofproducts  \\\n",
       "creditscore           1.000000 -0.004504 -0.000062  0.002804       0.011090   \n",
       "age                  -0.004504  1.000000 -0.013134  0.031481      -0.031877   \n",
       "tenure               -0.000062 -0.013134  1.000000 -0.007911       0.011979   \n",
       "balance               0.002804  0.031481 -0.007911  1.000000      -0.301858   \n",
       "numofproducts         0.011090 -0.031877  0.011979 -0.301858       1.000000   \n",
       "hascrcard            -0.003937 -0.014129  0.027232 -0.019055       0.005805   \n",
       "isactivemember        0.030947  0.082269 -0.032178 -0.003285       0.009084   \n",
       "estimatedsalary       0.005182 -0.007037  0.010520  0.014351       0.013990   \n",
       "geography_germany     0.000428  0.049038 -0.003299  0.401701      -0.009476   \n",
       "geography_spain       0.001725 -0.005622  0.000810 -0.136986       0.011903   \n",
       "gender_male          -0.008547 -0.025631  0.012634  0.018030      -0.025176   \n",
       "\n",
       "                   hascrcard  isactivemember  estimatedsalary  \\\n",
       "creditscore        -0.003937        0.030947         0.005182   \n",
       "age                -0.014129        0.082269        -0.007037   \n",
       "tenure              0.027232       -0.032178         0.010520   \n",
       "balance            -0.019055       -0.003285         0.014351   \n",
       "numofproducts       0.005805        0.009084         0.013990   \n",
       "hascrcard           1.000000       -0.008810        -0.006136   \n",
       "isactivemember     -0.008810        1.000000        -0.020049   \n",
       "estimatedsalary    -0.006136       -0.020049         1.000000   \n",
       "geography_germany   0.009149       -0.016821         0.011551   \n",
       "geography_spain    -0.017779        0.014800        -0.010998   \n",
       "gender_male         0.006016        0.025019        -0.002658   \n",
       "\n",
       "                   geography_germany  geography_spain  gender_male  \n",
       "creditscore                 0.000428         0.001725    -0.008547  \n",
       "age                         0.049038        -0.005622    -0.025631  \n",
       "tenure                     -0.003299         0.000810     0.012634  \n",
       "balance                     0.401701        -0.136986     0.018030  \n",
       "numofproducts              -0.009476         0.011903    -0.025176  \n",
       "hascrcard                   0.009149        -0.017779     0.006016  \n",
       "isactivemember             -0.016821         0.014800     0.025019  \n",
       "estimatedsalary             0.011551        -0.010998    -0.002658  \n",
       "geography_germany           1.000000        -0.332879    -0.023701  \n",
       "geography_spain            -0.332879         1.000000     0.015388  \n",
       "gender_male                -0.023701         0.015388     1.000000  "
      ]
     },
     "execution_count": 953,
     "metadata": {},
     "output_type": "execute_result"
    }
   ],
   "source": [
    "features.corr()"
   ]
  },
  {
   "cell_type": "markdown",
   "metadata": {},
   "source": [
    "Сильной корреляции между признаками не выявлено, значит можно считать их независимыми. "
   ]
  },
  {
   "cell_type": "markdown",
   "metadata": {},
   "source": [
    "### Вывод"
   ]
  },
  {
   "cell_type": "markdown",
   "metadata": {},
   "source": [
    "Признаки подготовлены для передачи в модель обучения. Примерно 10% данных пришлось пожертвовать из-за наличия у них пропусков. \n",
    "\n",
    "Проведена проверка на мультиколлинеарность. Все признаки являются независимыми. \n",
    "\n",
    "Числовые фичи отмасштабированы."
   ]
  },
  {
   "cell_type": "markdown",
   "metadata": {},
   "source": [
    "## 2. Исследование задачи<a id='step_2'></a>"
   ]
  },
  {
   "cell_type": "markdown",
   "metadata": {},
   "source": [
    "Посмотрим на величину дисбаланса классов:"
   ]
  },
  {
   "cell_type": "code",
   "execution_count": 954,
   "metadata": {},
   "outputs": [
    {
     "data": {
      "text/plain": [
       "0    7237\n",
       "1    1854\n",
       "Name: exited, dtype: int64"
      ]
     },
     "execution_count": 954,
     "metadata": {},
     "output_type": "execute_result"
    }
   ],
   "source": [
    "target.value_counts()"
   ]
  },
  {
   "cell_type": "markdown",
   "metadata": {},
   "source": [
    "Число текущих клиентов банка почти в 4 раза больше числа тех, кто от услуг банка отказался"
   ]
  },
  {
   "cell_type": "markdown",
   "metadata": {},
   "source": [
    "Попробуем обучить модель без учета дисбаланса. В качестве самой модели возьмем **RandomForestClassifier**"
   ]
  },
  {
   "cell_type": "markdown",
   "metadata": {},
   "source": [
    "### 2.1 Определение выборок<a id='step_2.1'></a>"
   ]
  },
  {
   "cell_type": "markdown",
   "metadata": {},
   "source": [
    "Для начала, разобьем данные да валидационную и тренировочную выборки:"
   ]
  },
  {
   "cell_type": "code",
   "execution_count": 955,
   "metadata": {},
   "outputs": [],
   "source": [
    "features_train, features_valid, target_train, target_valid = train_test_split(features, target,\n",
    "                                                                             test_size=0.25,\n",
    "                                                                             random_state=42)"
   ]
  },
  {
   "cell_type": "markdown",
   "metadata": {},
   "source": [
    "Проверим размеры выборок:"
   ]
  },
  {
   "cell_type": "code",
   "execution_count": 956,
   "metadata": {},
   "outputs": [
    {
     "name": "stdout",
     "output_type": "stream",
     "text": [
      "(6818, 11)\n",
      "(2273, 11)\n",
      "(6818,)\n",
      "(2273,)\n"
     ]
    }
   ],
   "source": [
    "for i in [features_train, features_valid, target_train, target_valid]:\n",
    "    print(i.shape)"
   ]
  },
  {
   "cell_type": "markdown",
   "metadata": {},
   "source": [
    "### 2.2 Обучение модели<a id='step_2.2'></a>"
   ]
  },
  {
   "cell_type": "markdown",
   "metadata": {},
   "source": [
    "Создадим модель случайного леса:"
   ]
  },
  {
   "cell_type": "code",
   "execution_count": 957,
   "metadata": {},
   "outputs": [],
   "source": [
    "model = RandomForestClassifier()"
   ]
  },
  {
   "cell_type": "markdown",
   "metadata": {},
   "source": [
    "Перебирать лучшие параметры модели вручную не станем. С этим лучше и быстрее справится **RandomizedSearchCV**"
   ]
  },
  {
   "cell_type": "markdown",
   "metadata": {},
   "source": [
    "Определим параметры, которые будет подбирать модель. Ограничимся глубиной дерева, количеством деревьев, минимальным количеством объектов в узле, и минимальным количеством объектов в листе."
   ]
  },
  {
   "cell_type": "code",
   "execution_count": 958,
   "metadata": {},
   "outputs": [],
   "source": [
    "params = {'max_depth':range(1,20,2),\n",
    "          'n_estimators':range(1,100,5),\n",
    "          'min_samples_split':range(2,20,2),\n",
    "          'min_samples_leaf':range(1,20,2)}"
   ]
  },
  {
   "cell_type": "code",
   "execution_count": 959,
   "metadata": {},
   "outputs": [],
   "source": [
    "clf = RandomizedSearchCV(model, params, random_state=42)"
   ]
  },
  {
   "cell_type": "code",
   "execution_count": 960,
   "metadata": {},
   "outputs": [
    {
     "name": "stdout",
     "output_type": "stream",
     "text": [
      "CPU times: user 10.4 s, sys: 210 ms, total: 10.6 s\n",
      "Wall time: 12.5 s\n"
     ]
    },
    {
     "data": {
      "text/plain": [
       "RandomizedSearchCV(estimator=RandomForestClassifier(),\n",
       "                   param_distributions={'max_depth': range(1, 20, 2),\n",
       "                                        'min_samples_leaf': range(1, 20, 2),\n",
       "                                        'min_samples_split': range(2, 20, 2),\n",
       "                                        'n_estimators': range(1, 100, 5)},\n",
       "                   random_state=42)"
      ]
     },
     "execution_count": 960,
     "metadata": {},
     "output_type": "execute_result"
    }
   ],
   "source": [
    "%%time\n",
    "clf.fit(features_train, target_train)"
   ]
  },
  {
   "cell_type": "markdown",
   "metadata": {},
   "source": [
    "Посмотрим подобранные параметры:"
   ]
  },
  {
   "cell_type": "code",
   "execution_count": 961,
   "metadata": {},
   "outputs": [
    {
     "data": {
      "text/plain": [
       "{'n_estimators': 51,\n",
       " 'min_samples_split': 12,\n",
       " 'min_samples_leaf': 7,\n",
       " 'max_depth': 19}"
      ]
     },
     "execution_count": 961,
     "metadata": {},
     "output_type": "execute_result"
    }
   ],
   "source": [
    "clf.best_params_"
   ]
  },
  {
   "cell_type": "code",
   "execution_count": 962,
   "metadata": {},
   "outputs": [],
   "source": [
    "best_model = clf.best_estimator_"
   ]
  },
  {
   "cell_type": "code",
   "execution_count": 963,
   "metadata": {},
   "outputs": [
    {
     "data": {
      "text/plain": [
       "0.8578970523537176"
      ]
     },
     "execution_count": 963,
     "metadata": {},
     "output_type": "execute_result"
    }
   ],
   "source": [
    "best_model.score(features_valid, target_valid)"
   ]
  },
  {
   "cell_type": "markdown",
   "metadata": {},
   "source": [
    "### 2.3 Проверка адекватности модели<a id='step_2.3'></a>"
   ]
  },
  {
   "cell_type": "markdown",
   "metadata": {},
   "source": [
    "Создадим лжемодель. Пусть предсказывает всем объектам 0. Оценим accuracy такой модели."
   ]
  },
  {
   "cell_type": "code",
   "execution_count": 964,
   "metadata": {},
   "outputs": [],
   "source": [
    "all_zeros = pd.Series(data=0, index=target_valid.index)"
   ]
  },
  {
   "cell_type": "markdown",
   "metadata": {},
   "source": [
    "Оценим accuracy:"
   ]
  },
  {
   "cell_type": "code",
   "execution_count": 965,
   "metadata": {},
   "outputs": [
    {
     "data": {
      "text/plain": [
       "0.7985041794984602"
      ]
     },
     "execution_count": 965,
     "metadata": {},
     "output_type": "execute_result"
    }
   ],
   "source": [
    "accuracy_score(target_valid, all_zeros)"
   ]
  },
  {
   "cell_type": "markdown",
   "metadata": {},
   "source": [
    "Чтож, наша обученная модель действительно справляется с задачей классификации лучше, чем случайная модель. Но, как мы знаем, accuracy - не лучшая метрика для сравнения. Дополнительно, оценим модели с помощью ROC - кривой."
   ]
  },
  {
   "cell_type": "code",
   "execution_count": 966,
   "metadata": {},
   "outputs": [
    {
     "data": {
      "image/png": "[encoded data removed]",
      "text/plain": [
       "<Figure size 432x288 with 1 Axes>"
      ]
     },
     "metadata": {
      "needs_background": "light"
     },
     "output_type": "display_data"
    },
    {
     "name": "stdout",
     "output_type": "stream",
     "text": [
      "Площад под ROC-кривой обученной модели = 0.8531307517413114\n",
      "Площад под ROC-кривой случайной модели = 0.5\n"
     ]
    }
   ],
   "source": [
    "probabilities_valid_rf = best_model.predict_proba(features_valid)\n",
    "probabilities_one_valid = probabilities_valid_rf[:, 1]\n",
    "\n",
    "fpr, tpr, thresholds = roc_curve(target_valid, probabilities_one_valid)\n",
    "\n",
    "fpr_1, tpr_1, thresholds_1 = roc_curve(target_valid, all_zeros)\n",
    "\n",
    "plt.figure()\n",
    "\n",
    "plt.plot(fpr_1, tpr_1, linestyle='--')\n",
    "plt.plot(fpr, tpr, linestyle='--')\n",
    "plt.xlim(0, 1)\n",
    "plt.ylim(0, 1)\n",
    "plt.xlabel(\"False Positive Rate\")\n",
    "plt.xlabel(\"True Positive Rate\")\n",
    "plt.title(\"ROC-кривая\")\n",
    "plt.show()\n",
    "\n",
    "print('Площад под ROC-кривой обученной модели =', roc_auc_score(target_valid, probabilities_one_valid))\n",
    "print('Площад под ROC-кривой случайной модели =', roc_auc_score(target_valid, all_zeros))"
   ]
  },
  {
   "cell_type": "markdown",
   "metadata": {},
   "source": [
    "Подводя промежуточный итог, посчитаем значение F-меры для нашей модели:"
   ]
  },
  {
   "cell_type": "code",
   "execution_count": 967,
   "metadata": {},
   "outputs": [
    {
     "name": "stdout",
     "output_type": "stream",
     "text": [
      "F-мера обученной без учета дисбаланса классов модели = 0.5431400282885431\n"
     ]
    }
   ],
   "source": [
    "predicted = best_model.predict(features_valid)\n",
    "print('F-мера обученной без учета дисбаланса классов модели =', f1_score(target_valid, predicted))"
   ]
  },
  {
   "cell_type": "markdown",
   "metadata": {},
   "source": [
    "### 2.4 Подбор оптимального порога<a id='step_2.4'></a>"
   ]
  },
  {
   "cell_type": "markdown",
   "metadata": {},
   "source": [
    "Так как главная метрика проекта это F-мера, то ее и будем стараться максимизировать:"
   ]
  },
  {
   "cell_type": "markdown",
   "metadata": {},
   "source": [
    "Создадим функцию подбора оптимального порога. Пусть результатом ее работы будет датафрейм с оценкой f-меры для каждого значения порога."
   ]
  },
  {
   "cell_type": "code",
   "execution_count": 968,
   "metadata": {},
   "outputs": [],
   "source": [
    "#Версия 1.02\n",
    "def find_best_threshold(probabilities_valid, x_valid, y_valid, clf_name):\n",
    "    \n",
    "    data=pd.DataFrame({'clf':[], 'threshold':[], 'f1_score':[], 'roc_auc_score':[]})\n",
    "\n",
    "    for threshold in np.arange(0.05, 1, 0.05):\n",
    "        threshold_proba = np.where(probabilities_valid[:, 1] > threshold, 1, 0)\n",
    "        score = f1_score(y_valid, threshold_proba)\n",
    "        score_auc = roc_auc_score(y_valid, threshold_proba)\n",
    "        data = data.append({'clf':clf_name, \n",
    "                            'threshold':threshold, \n",
    "                            'f1_score':score, \n",
    "                            'roc_auc_score':score_auc}, ignore_index=True)\n",
    "    return data"
   ]
  },
  {
   "cell_type": "markdown",
   "metadata": {},
   "source": [
    "Запишем результат работы функции в отдельный датафрейм:"
   ]
  },
  {
   "cell_type": "code",
   "execution_count": 969,
   "metadata": {},
   "outputs": [],
   "source": [
    "disb_data_rf = find_best_threshold(probabilities_valid_rf, features_valid, target_valid, 'RFClassifier')"
   ]
  },
  {
   "cell_type": "markdown",
   "metadata": {},
   "source": [
    "Не заглядывая внутрь, построим график измененния f-меры в зависимости от порога. И выведем максимальное значение, которое удалось найти:"
   ]
  },
  {
   "cell_type": "code",
   "execution_count": 970,
   "metadata": {},
   "outputs": [
    {
     "data": {
      "image/png": "[encoded data removed]",
      "text/plain": [
       "<Figure size 432x288 with 1 Axes>"
      ]
     },
     "metadata": {
      "needs_background": "light"
     },
     "output_type": "display_data"
    },
    {
     "name": "stdout",
     "output_type": "stream",
     "text": [
      "Наибольшее значение F-меры = 0.6092436974789917 при величине порога = 0.3\n"
     ]
    }
   ],
   "source": [
    "plt.plot(disb_data_rf.threshold, disb_data_rf.f1_score)\n",
    "plt.ylabel('Значение F-меры')\n",
    "plt.xlabel('Значение порога (threshold)')\n",
    "plt.title('График зависимости F-меры от порога')\n",
    "plt.grid(True)\n",
    "plt.ylim([0,1]) \n",
    "plt.show()\n",
    "        \n",
    "print('Наибольшее значение F-меры =', disb_data_rf.query('f1_score == f1_score.max()')['f1_score'].values[0],\n",
    "      'при величине порога =', disb_data_rf.query('f1_score == f1_score.max()')['threshold'].values[0])"
   ]
  },
  {
   "cell_type": "markdown",
   "metadata": {},
   "source": [
    "### Вывод:"
   ]
  },
  {
   "cell_type": "markdown",
   "metadata": {},
   "source": [
    "Наибольшее значение **F-меры** обученной без учета дисбаланса классов модели, которого удалось достичь = **0.6**"
   ]
  },
  {
   "cell_type": "markdown",
   "metadata": {},
   "source": [
    "При наличии дисбаланса классов, такие метрики как **accuracy** практически не несут никакой информативности. Поэтому, в таком случае, нагляднее будет метрика **ROC AUC score**, которая вычисляет долю ошибок и правильных ответов. Она слабо зависит от дисбаланса.\n",
    "\n",
    "Согласно некоторым популярным статьям таким как [эта](https://habr.com/ru/post/349078/) или вот [эта](https://qastack.ru/stats/247871/what-is-the-root-cause-of-the-class-imbalance-problem), получается, что проблема дисбаланса классов до сих пор актуальна и обсуждается. Вероятно, \"не так страшен черт, как его малюют\", и дисбаланс далеко не всегда сильно влияет на качество модели. Да, в задачах мультиклассификации, дисбаланс играет далеко не последнюю роль. Но, в задачах бинарной классификиации, с использованием моделей RandomForestClassifier, разный вес классов может не нести весомого вклада в качество модели.\n",
    "\n",
    "Примем последнее утверждение в качетсве гипотезы, которую и проверим в следующем шаге."
   ]
  },
  {
   "cell_type": "markdown",
   "metadata": {},
   "source": [
    "# 3. Борьба с дисбалансом<a id='step_3'></a>"
   ]
  },
  {
   "cell_type": "markdown",
   "metadata": {},
   "source": [
    "Рассмотрим 2 поднятых в обучающем курсе метода: **upsampling** и **downsampling**."
   ]
  },
  {
   "cell_type": "markdown",
   "metadata": {},
   "source": [
    "#### План борьбы с дисбалансом:"
   ]
  },
  {
   "cell_type": "markdown",
   "metadata": {},
   "source": [
    "1. Увеличить вес положительного класса. Воспользоваться методом **upsampling**:\n",
    "- Разделить обучающую выборку на отрицательные и положительные объекты;\n",
    "- Скопировать несколько раз положительные объекты;\n",
    "- С учётом полученных данных создать новую обучающую выборку;\n",
    "- Перемешать данные;\n",
    "2. Протестировать новую выборку на нескольких моделях. Отобрать модель с наибольшим значением F-меры\n",
    "\n",
    "3. Уменьшить вес отрицательного класса. Воспользоваться методом **downsampling**\n",
    "- Разделить обучающую выборку на отрицательные и положительные объекты;\n",
    "- Случайным образом отбросить часть из отрицательных объектов;\n",
    "- С учётом полученных данных создать новую обучающую выборку;\n",
    "- Перемешать данные;\n",
    "4. Аналогично п.2"
   ]
  },
  {
   "cell_type": "markdown",
   "metadata": {},
   "source": [
    "### 3.1 Метод upsampling<a id='step_3.1'></a>"
   ]
  },
  {
   "cell_type": "markdown",
   "metadata": {},
   "source": [
    "Разделим выборку на отрицательные и положительные объекты, увеличим выборку положительных, перемешаем. Для этого напишем соответствующую функцию:"
   ]
  },
  {
   "cell_type": "code",
   "execution_count": 971,
   "metadata": {},
   "outputs": [],
   "source": [
    "def sampling(features, target, how=['up', 'down']):\n",
    "    features_zeros = features[target_train == 0]\n",
    "    features_ones = features[target_train == 1]\n",
    "    target_zeros = target[target_train == 0]\n",
    "    target_ones = target[target_train == 1]\n",
    "    \n",
    "    repeat = int(np.ceil(features_zeros.shape[0] / features_ones.shape[0]))\n",
    "    \n",
    "    if how == 'up':\n",
    "    \n",
    "        features_sampled = pd.concat([features_zeros] + [features_ones] * repeat)\n",
    "        target_sampled = pd.concat([target_zeros] + [target_ones] * repeat)\n",
    "    \n",
    "    # могут возникать ошибки из-за особенностей округления. В этом случае примени более грубое округледние к fraction. Либо try / except    \n",
    "    if how == 'down':\n",
    "        fraction = 1 / repeat\n",
    "        \n",
    "        features_sampled = pd.concat(\n",
    "        [features_zeros.sample(frac=fraction, random_state=12345)] + [features_ones])\n",
    "        \n",
    "        target_sampled = pd.concat(\n",
    "        [target_zeros.sample(frac=fraction, random_state=12345)] + [target_ones])\n",
    "    \n",
    "    features_sampled, target_sampled = shuffle(features_sampled, target_sampled, random_state=42)\n",
    "    \n",
    "    return features_sampled, target_sampled\n"
   ]
  },
  {
   "cell_type": "markdown",
   "metadata": {},
   "source": [
    "Уравняем классы:"
   ]
  },
  {
   "cell_type": "code",
   "execution_count": 972,
   "metadata": {},
   "outputs": [],
   "source": [
    "features_upsampled, target_upsampled = sampling(features_train, target_train, how='up')"
   ]
  },
  {
   "cell_type": "markdown",
   "metadata": {},
   "source": [
    "Проверим размеры выборок:"
   ]
  },
  {
   "cell_type": "code",
   "execution_count": 973,
   "metadata": {},
   "outputs": [
    {
     "name": "stdout",
     "output_type": "stream",
     "text": [
      "(11006, 11)\n",
      "(11006,)\n"
     ]
    }
   ],
   "source": [
    "print(features_upsampled.shape)\n",
    "print(target_upsampled.shape)"
   ]
  },
  {
   "cell_type": "markdown",
   "metadata": {},
   "source": [
    "### 3.2 Поиск наилучшей модели на обучении upsampled выборки<a id='step_3.2'></a>"
   ]
  },
  {
   "cell_type": "markdown",
   "metadata": {},
   "source": [
    "Определим основные алгоритмы классификации, которые будем обучать:\n",
    "\n",
    "- RandomForestClassifier\n",
    "- KNeighborsClassifier\n",
    "- LogisticRegression"
   ]
  },
  {
   "cell_type": "markdown",
   "metadata": {},
   "source": [
    "В целях оптимизации процесса, заведем функцию, которая на вход будет получать тренировочные выборки, обучать несколько моделей, подбирать для каждой порог с максимальным значением F-меры, а на выходе отдавать словарь с наилучшими параметрами, и датафрейм со значениями F-меры:"
   ]
  },
  {
   "cell_type": "code",
   "execution_count": 974,
   "metadata": {},
   "outputs": [],
   "source": [
    "#Версия 1.03\n",
    "def fit_models(x_train, y_train, x_valid, y_valid, model_params):\n",
    "    # Запишем все модели для обучения\n",
    "    models = [RandomForestClassifier, KNeighborsClassifier, LogisticRegression]\n",
    "    \n",
    "    # Здесь строковые имена моделей для записи в таблицу (небольшой костыль, т.к. имена из спика выше в строку не переводятся:()\n",
    "    mod_names = {0:'RandomForestClassifier', 1:'KNeighborsClassifier', 2:'LogisticRegression'}\n",
    "   \n",
    "    # Создадим пустой датафрейм, куда будем сохранять результаты обучения моделей\n",
    "    f1_data = pd.DataFrame({'clf':[], 'threshold':[], 'f1_score':[], 'roc_auc_score':[]})\n",
    "    # Создадим пустой словарь, куда будем сохранять лучшие параметры моделей\n",
    "    best_model_params = {'RandomForestClassifier':{}, 'KNeighborsClassifier':{}, 'LogisticRegression':{}}\n",
    "    \n",
    "    \n",
    "    for i in range(len(models)):\n",
    "        # определяем модель\n",
    "        if models[i] == KNeighborsClassifier:\n",
    "            model_type = models[i]()\n",
    "        else:\n",
    "            model_type = models[i](random_state=42)\n",
    "        clf = RandomizedSearchCV(model_type, model_params[i], random_state=42, scoring='f1')\n",
    "        # Запускаем алгоритм подбора параметров \n",
    "        clf.fit(x_train, y_train)\n",
    "        # Определяем модель с наилучшими параметрами\n",
    "        best_model = clf.best_estimator_\n",
    "        # Сохраняем в словаре лучшие параметры\n",
    "        best_model_params[mod_names[i]] = clf.best_params_\n",
    "        \n",
    "        # Находим массив вероятностей\n",
    "        probabilities_valid = best_model.predict_proba(x_valid)\n",
    "        \n",
    "        # Запускаем алгоритм подбора оптимального порога для лучшей модели\n",
    "        f1_data = f1_data.append(find_best_threshold(probabilities_valid, x_valid, y_valid, mod_names[i]), ignore_index=True) \n",
    "    \n",
    "    f1_data['average'] = (f1_data['f1_score'] + f1_data['roc_auc_score'])/2\n",
    "    # На выходе получаем словарь параметров, и датафрейм с перебором порогов и значениями f-меры\n",
    "    return best_model_params, f1_data"
   ]
  },
  {
   "cell_type": "markdown",
   "metadata": {},
   "source": [
    "Определим массивы параметров для каждой модели (параметры для RandomForest уже лежат в переменной params)"
   ]
  },
  {
   "cell_type": "code",
   "execution_count": 975,
   "metadata": {},
   "outputs": [],
   "source": [
    "params_knn = {'n_neighbors':range(3,9,1), \n",
    "              'algorithm':['auto', 'ball_tree', 'kd_tree', 'brute'],\n",
    "              'leaf_size':range(5,50,5)}\n",
    "\n",
    "params_lr = {'penalty':['none', 'l2'], \n",
    "             'class_weight':['balanced', 'None'],\n",
    "             'max_iter': range(50, 150, 10)}"
   ]
  },
  {
   "cell_type": "markdown",
   "metadata": {},
   "source": [
    "Сохраним все параметры списком, чтобы передать в функцию fit_models()"
   ]
  },
  {
   "cell_type": "code",
   "execution_count": 976,
   "metadata": {},
   "outputs": [],
   "source": [
    "params_lst = [params, params_knn, params_lr]"
   ]
  },
  {
   "cell_type": "markdown",
   "metadata": {},
   "source": [
    "Все готово для обучения. Запустим написанную выше функцию, и найдем модели с наибольшим значением f-меры:"
   ]
  },
  {
   "cell_type": "code",
   "execution_count": 977,
   "metadata": {},
   "outputs": [],
   "source": [
    "best_model_params, f1_data = fit_models(features_upsampled, target_upsampled, features_valid, target_valid, params_lst)"
   ]
  },
  {
   "cell_type": "markdown",
   "metadata": {},
   "source": [
    "Посмотрим на оптимальные параметры каждой модели:"
   ]
  },
  {
   "cell_type": "code",
   "execution_count": 978,
   "metadata": {},
   "outputs": [
    {
     "data": {
      "text/plain": [
       "{'RandomForestClassifier': {'n_estimators': 16,\n",
       "  'min_samples_split': 4,\n",
       "  'min_samples_leaf': 1,\n",
       "  'max_depth': 17},\n",
       " 'KNeighborsClassifier': {'n_neighbors': 3,\n",
       "  'leaf_size': 30,\n",
       "  'algorithm': 'kd_tree'},\n",
       " 'LogisticRegression': {'penalty': 'none',\n",
       "  'max_iter': 80,\n",
       "  'class_weight': 'None'}}"
      ]
     },
     "execution_count": 978,
     "metadata": {},
     "output_type": "execute_result"
    }
   ],
   "source": [
    "best_model_params"
   ]
  },
  {
   "cell_type": "markdown",
   "metadata": {},
   "source": [
    "Посмотрим на получившуюся таблицу:"
   ]
  },
  {
   "cell_type": "code",
   "execution_count": 979,
   "metadata": {},
   "outputs": [
    {
     "data": {
      "text/html": [
       "<div>\n",
       "<style scoped>\n",
       "    .dataframe tbody tr th:only-of-type {\n",
       "        vertical-align: middle;\n",
       "    }\n",
       "\n",
       "    .dataframe tbody tr th {\n",
       "        vertical-align: top;\n",
       "    }\n",
       "\n",
       "    .dataframe thead th {\n",
       "        text-align: right;\n",
       "    }\n",
       "</style>\n",
       "<table border=\"1\" class=\"dataframe\">\n",
       "  <thead>\n",
       "    <tr style=\"text-align: right;\">\n",
       "      <th></th>\n",
       "      <th>clf</th>\n",
       "      <th>threshold</th>\n",
       "      <th>f1_score</th>\n",
       "      <th>roc_auc_score</th>\n",
       "      <th>average</th>\n",
       "    </tr>\n",
       "  </thead>\n",
       "  <tbody>\n",
       "    <tr>\n",
       "      <th>0</th>\n",
       "      <td>RandomForestClassifier</td>\n",
       "      <td>0.05</td>\n",
       "      <td>0.393939</td>\n",
       "      <td>0.612285</td>\n",
       "      <td>0.503112</td>\n",
       "    </tr>\n",
       "    <tr>\n",
       "      <th>1</th>\n",
       "      <td>RandomForestClassifier</td>\n",
       "      <td>0.10</td>\n",
       "      <td>0.438313</td>\n",
       "      <td>0.672555</td>\n",
       "      <td>0.555434</td>\n",
       "    </tr>\n",
       "    <tr>\n",
       "      <th>2</th>\n",
       "      <td>RandomForestClassifier</td>\n",
       "      <td>0.15</td>\n",
       "      <td>0.473310</td>\n",
       "      <td>0.707215</td>\n",
       "      <td>0.590262</td>\n",
       "    </tr>\n",
       "    <tr>\n",
       "      <th>3</th>\n",
       "      <td>RandomForestClassifier</td>\n",
       "      <td>0.20</td>\n",
       "      <td>0.507703</td>\n",
       "      <td>0.733039</td>\n",
       "      <td>0.620371</td>\n",
       "    </tr>\n",
       "    <tr>\n",
       "      <th>4</th>\n",
       "      <td>RandomForestClassifier</td>\n",
       "      <td>0.25</td>\n",
       "      <td>0.536622</td>\n",
       "      <td>0.748395</td>\n",
       "      <td>0.642509</td>\n",
       "    </tr>\n",
       "  </tbody>\n",
       "</table>\n",
       "</div>"
      ],
      "text/plain": [
       "                      clf  threshold  f1_score  roc_auc_score   average\n",
       "0  RandomForestClassifier       0.05  0.393939       0.612285  0.503112\n",
       "1  RandomForestClassifier       0.10  0.438313       0.672555  0.555434\n",
       "2  RandomForestClassifier       0.15  0.473310       0.707215  0.590262\n",
       "3  RandomForestClassifier       0.20  0.507703       0.733039  0.620371\n",
       "4  RandomForestClassifier       0.25  0.536622       0.748395  0.642509"
      ]
     },
     "execution_count": 979,
     "metadata": {},
     "output_type": "execute_result"
    }
   ],
   "source": [
    "f1_data.head()"
   ]
  },
  {
   "cell_type": "markdown",
   "metadata": {},
   "source": [
    "Для наглядности, строим график зависимости f-меры и ROC AUC от порога. Т.к. планируется строить такой график не один раз, обернем его вызов в функцию:"
   ]
  },
  {
   "cell_type": "code",
   "execution_count": 997,
   "metadata": {},
   "outputs": [],
   "source": [
    "def plot_f1_thresh(data):   \n",
    "    for model_name in data.clf.unique():\n",
    "        print(model_name)\n",
    "        sns.lineplot(data=data.loc[data['clf'] == model_name], x=\"threshold\", y=\"f1_score\")\n",
    "        sns.lineplot(data=data.loc[data['clf'] == model_name], x=\"threshold\", y=\"roc_auc_score\")\n",
    "        sns.lineplot(data=data.loc[data['clf'] == model_name], x=\"threshold\", y=\"average\")\n",
    "        plt.grid(True)\n",
    "        plt.ylabel('Значение F-меры, ROC AUC')\n",
    "        plt.xlabel('Значение порога (threshold)')\n",
    "        plt.title('График зависимости значений F-меры и ROC AUC от порога')\n",
    "        plt.ylim([0,1]) \n",
    "        plt.legend([data.columns[i] for i in range(2, len(data.columns))])\n",
    "        plt.show()\n",
    "        \n",
    "        print('- Наибольшее значение F-меры = {:.3f} при величине порога = {:.2f}'.format(\n",
    "              data.query('clf == @model_name')\\\n",
    "              .query('f1_score == f1_score.max()')['f1_score'].values[0],\n",
    "              data.query('clf == @model_name')\\\n",
    "              .query('f1_score == f1_score.max()')['threshold'].values[0]))\n",
    "\n",
    "\n",
    "        print('- Наибольшее значение ROC AUC = {:.3f} при величине порога = {:.2f}'.format(\n",
    "              data.query('clf == @model_name')\\\n",
    "              .query('roc_auc_score == roc_auc_score.max()')['roc_auc_score'].values[0],\n",
    "              data.query('clf == @model_name')\\\n",
    "              .query('roc_auc_score == roc_auc_score.max()')['threshold'].values[0]))\n",
    "\n",
    "        print('- Наибольшее взаимное значение ROC AUC = {:.3f} и F-меры = {:.3f} достигается при величине порога = {:.2f}'.format(\n",
    "              data.query('clf == @model_name')\\\n",
    "              .query('average == average.max()')['roc_auc_score'].values[0],\n",
    "              data.query('clf == @model_name')\\\n",
    "              .query('average == average.max()')['f1_score'].values[0],\n",
    "              data.query('clf == @model_name')\\\n",
    "              .query('average == average.max()')['threshold'].values[0]))\n",
    "        print()"
   ]
  },
  {
   "cell_type": "markdown",
   "metadata": {},
   "source": [
    "Строим график:"
   ]
  },
  {
   "cell_type": "code",
   "execution_count": 981,
   "metadata": {},
   "outputs": [
    {
     "name": "stdout",
     "output_type": "stream",
     "text": [
      "RandomForestClassifier\n"
     ]
    },
    {
     "data": {
      "image/png": "[encoded data removed]",
      "text/plain": [
       "<Figure size 432x288 with 1 Axes>"
      ]
     },
     "metadata": {
      "needs_background": "light"
     },
     "output_type": "display_data"
    },
    {
     "name": "stdout",
     "output_type": "stream",
     "text": [
      "- Наибольшее значение F-меры = 0.59 при величине порога = 0.45\n",
      "- Наибольшее значение ROC AUC = 0.75 при величине порога = 0.35\n",
      "- Наибольшее взаимное значение ROC AUC = 0.74 и F-меры = 0.59 достигается при величине порога = 0.45\n",
      "\n",
      "KNeighborsClassifier\n"
     ]
    },
    {
     "data": {
      "image/png": "[encoded data removed]",
      "text/plain": [
       "<Figure size 432x288 with 1 Axes>"
      ]
     },
     "metadata": {
      "needs_background": "light"
     },
     "output_type": "display_data"
    },
    {
     "name": "stdout",
     "output_type": "stream",
     "text": [
      "- Наибольшее значение F-меры = 0.50 при величине порога = 0.35\n",
      "- Наибольшее значение ROC AUC = 0.70 при величине порога = 0.05\n",
      "- Наибольшее взаимное значение ROC AUC = 0.70 и F-меры = 0.49 достигается при величине порога = 0.05\n",
      "\n",
      "LogisticRegression\n"
     ]
    },
    {
     "data": {
      "image/png": "[encoded data removed]",
      "text/plain": [
       "<Figure size 432x288 with 1 Axes>"
      ]
     },
     "metadata": {
      "needs_background": "light"
     },
     "output_type": "display_data"
    },
    {
     "name": "stdout",
     "output_type": "stream",
     "text": [
      "- Наибольшее значение F-меры = 0.49 при величине порога = 0.55\n",
      "- Наибольшее значение ROC AUC = 0.69 при величине порога = 0.55\n",
      "- Наибольшее взаимное значение ROC AUC = 0.69 и F-меры = 0.49 достигается при величине порога = 0.55\n",
      "\n"
     ]
    }
   ],
   "source": [
    "plot_f1_thresh(f1_data)"
   ]
  },
  {
   "cell_type": "markdown",
   "metadata": {},
   "source": [
    "### 3.3 Метод downsampling<a id='step_3.3'></a>"
   ]
  },
  {
   "cell_type": "markdown",
   "metadata": {},
   "source": [
    "Уменьшим количество объектов отрицательного класса, тем самым уравняв веса классов. Воспользуемся функцией sampling написанной ранее:"
   ]
  },
  {
   "cell_type": "code",
   "execution_count": 982,
   "metadata": {},
   "outputs": [],
   "source": [
    "features_downsampled, target_downsampled = sampling(features_train, target_train, how='down')"
   ]
  },
  {
   "cell_type": "markdown",
   "metadata": {},
   "source": [
    "Проверим размерность выборок:"
   ]
  },
  {
   "cell_type": "code",
   "execution_count": 983,
   "metadata": {},
   "outputs": [
    {
     "name": "stdout",
     "output_type": "stream",
     "text": [
      "(2752, 11)\n",
      "(2752,)\n"
     ]
    }
   ],
   "source": [
    "print(features_downsampled.shape)\n",
    "print(target_downsampled.shape)"
   ]
  },
  {
   "cell_type": "markdown",
   "metadata": {},
   "source": [
    "### 3.4 Поиск наилучшей модели на обучении downsampled выборки<a id='step_3.4'></a>"
   ]
  },
  {
   "cell_type": "markdown",
   "metadata": {},
   "source": [
    "Отлично. Теперь обучим модели на наших выборках и оценим максимальный f1_score!"
   ]
  },
  {
   "cell_type": "code",
   "execution_count": 984,
   "metadata": {},
   "outputs": [],
   "source": [
    "best_model_params_ds, f1_data_ds = fit_models(features_downsampled, \n",
    "                                        target_downsampled, \n",
    "                                        features_valid, \n",
    "                                        target_valid, \n",
    "                                        params_lst)"
   ]
  },
  {
   "cell_type": "markdown",
   "metadata": {},
   "source": [
    "Смотрим подобранные параметры:"
   ]
  },
  {
   "cell_type": "code",
   "execution_count": 985,
   "metadata": {},
   "outputs": [
    {
     "data": {
      "text/plain": [
       "{'RandomForestClassifier': {'n_estimators': 21,\n",
       "  'min_samples_split': 14,\n",
       "  'min_samples_leaf': 5,\n",
       "  'max_depth': 13},\n",
       " 'KNeighborsClassifier': {'n_neighbors': 5,\n",
       "  'leaf_size': 20,\n",
       "  'algorithm': 'brute'},\n",
       " 'LogisticRegression': {'penalty': 'l2',\n",
       "  'max_iter': 130,\n",
       "  'class_weight': 'None'}}"
      ]
     },
     "execution_count": 985,
     "metadata": {},
     "output_type": "execute_result"
    }
   ],
   "source": [
    "best_model_params_ds"
   ]
  },
  {
   "cell_type": "markdown",
   "metadata": {},
   "source": [
    "Строим график зависимости F-меры и ROC AUC от порога:"
   ]
  },
  {
   "cell_type": "code",
   "execution_count": 986,
   "metadata": {},
   "outputs": [
    {
     "name": "stdout",
     "output_type": "stream",
     "text": [
      "RandomForestClassifier\n"
     ]
    },
    {
     "data": {
      "image/png": "[encoded data removed]",
      "text/plain": [
       "<Figure size 432x288 with 1 Axes>"
      ]
     },
     "metadata": {
      "needs_background": "light"
     },
     "output_type": "display_data"
    },
    {
     "name": "stdout",
     "output_type": "stream",
     "text": [
      "- Наибольшее значение F-меры = 0.59 при величине порога = 0.60\n",
      "- Наибольшее значение ROC AUC = 0.77 при величине порога = 0.45\n",
      "- Наибольшее взаимное значение ROC AUC = 0.76 и F-меры = 0.59 достигается при величине порога = 0.55\n",
      "\n",
      "KNeighborsClassifier\n"
     ]
    },
    {
     "data": {
      "image/png": "[encoded data removed]",
      "text/plain": [
       "<Figure size 432x288 with 1 Axes>"
      ]
     },
     "metadata": {
      "needs_background": "light"
     },
     "output_type": "display_data"
    },
    {
     "name": "stdout",
     "output_type": "stream",
     "text": [
      "- Наибольшее значение F-меры = 0.53 при величине порога = 0.40\n",
      "- Наибольшее значение ROC AUC = 0.73 при величине порога = 0.40\n",
      "- Наибольшее взаимное значение ROC AUC = 0.73 и F-меры = 0.53 достигается при величине порога = 0.40\n",
      "\n",
      "LogisticRegression\n"
     ]
    },
    {
     "data": {
      "image/png": "[encoded data removed]",
      "text/plain": [
       "<Figure size 432x288 with 1 Axes>"
      ]
     },
     "metadata": {
      "needs_background": "light"
     },
     "output_type": "display_data"
    },
    {
     "name": "stdout",
     "output_type": "stream",
     "text": [
      "- Наибольшее значение F-меры = 0.49 при величине порога = 0.60\n",
      "- Наибольшее значение ROC AUC = 0.69 при величине порога = 0.55\n",
      "- Наибольшее взаимное значение ROC AUC = 0.69 и F-меры = 0.49 достигается при величине порога = 0.60\n",
      "\n"
     ]
    }
   ],
   "source": [
    "plot_f1_thresh(f1_data_ds)"
   ]
  },
  {
   "cell_type": "markdown",
   "metadata": {},
   "source": [
    "### Вывод:"
   ]
  },
  {
   "cell_type": "markdown",
   "metadata": {},
   "source": [
    "Судя по проведенным экспрериментам - моделям чуть лучше удается выявлять законометрности на выборках меньшего размера (downsampled выборках).\n",
    "\n",
    "Наиболее высокое значение F-меры демонстрирует модель RandomForest обученная на downsampled выборке. \n",
    "\n",
    "На данный момент, лучшие результаты, которых добилась модель это:\n",
    "\n",
    "- Наибольшее значение F-меры = 0.59 при величине порога = 0.55\n",
    "- Наибольшее значение ROC AUC = 0.76 при величине порога = 0.45\n",
    "- Наибольшее взаимное значение ROC AUC = 0.76 и F-меры = 0.59 достигается при величине порога = 0.55\n",
    "\n",
    "Финально продолжим улучшать модель RandomForest показавшую наиболее высокие результы."
   ]
  },
  {
   "cell_type": "markdown",
   "metadata": {},
   "source": [
    "# 4. Тестирование модели<a id='step_4'></a>"
   ]
  },
  {
   "cell_type": "markdown",
   "metadata": {},
   "source": [
    "Попробуем увеличить f1_score модели с наилучшим результатом. Для этого, переберем фичи и оставим только те, которые помогают модели лучше видеть закономерности."
   ]
  },
  {
   "cell_type": "markdown",
   "metadata": {},
   "source": [
    "Сохраним имена колонок - фичей в отдельной переменной"
   ]
  },
  {
   "cell_type": "code",
   "execution_count": 987,
   "metadata": {},
   "outputs": [],
   "source": [
    "feature_names = features_downsampled.columns"
   ]
  },
  {
   "cell_type": "markdown",
   "metadata": {},
   "source": [
    "Далее, запустим цикл, где будем отбирать самые полезные фичи. В этом нам поможет модель RFE. В цикле, укажем необходимое количество фичей, которое нужно оставить. Результат сохраним в список"
   ]
  },
  {
   "cell_type": "code",
   "execution_count": 988,
   "metadata": {},
   "outputs": [],
   "source": [
    "lr = LinearRegression()\n",
    "\n",
    "features_lst = []\n",
    "\n",
    "for i in range(len(feature_names)-6, len(feature_names)):\n",
    "\n",
    "    rfe = RFE(lr, n_features_to_select=i) \n",
    "    selector = rfe.fit(features_downsampled, target_downsampled)\n",
    "    \n",
    "    selected_features = np.array(feature_names)[selector.support_]\n",
    "    new_cols = [i for i in selected_features]\n",
    "    \n",
    "    features_lst.append(new_cols)"
   ]
  },
  {
   "cell_type": "markdown",
   "metadata": {},
   "source": [
    "Теперь, снова циклом будем из полученного списка брать список отобранных фичей, на его основе обучать модель, и смотреть полученную оценку f1_score. Так мы найдем оптимальные параметры для нашей задачи."
   ]
  },
  {
   "cell_type": "code",
   "execution_count": 989,
   "metadata": {},
   "outputs": [
    {
     "name": "stdout",
     "output_type": "stream",
     "text": [
      "5 0.5129032258064516\n",
      "6 0.5108433734939759\n",
      "7 0.5178713264495631\n",
      "8 0.5141065830721004\n",
      "9 0.5796064400715564\n",
      "10 0.5746724890829694\n"
     ]
    }
   ],
   "source": [
    "for col_set in features_lst:\n",
    "    test_features = features_downsampled[col_set]\n",
    "    valid_features = features_valid[col_set]\n",
    "    \n",
    "    model = RandomForestClassifier(random_state=42)\n",
    "    clf = RandomizedSearchCV(model, params, random_state=42, scoring='f1')\n",
    "    \n",
    "    clf.fit(test_features, target_downsampled)\n",
    "    \n",
    "    best_model = clf.best_estimator_\n",
    "    \n",
    "    y_predict = best_model.predict(valid_features)\n",
    "    \n",
    "    print(len(col_set), f1_score(target_valid, y_predict))\n",
    "    "
   ]
  },
  {
   "cell_type": "markdown",
   "metadata": {},
   "source": [
    "Таким ообразом, максимальное значение f-меры достигается при обучении на 9 фичах. Их и оставляем. Финально, подберем оптимальное значение порога:"
   ]
  },
  {
   "cell_type": "code",
   "execution_count": 990,
   "metadata": {},
   "outputs": [],
   "source": [
    "test_features = features_downsampled[features_lst[-2]]\n",
    "valid_features = features_valid[features_lst[-2]]"
   ]
  },
  {
   "cell_type": "code",
   "execution_count": 991,
   "metadata": {},
   "outputs": [],
   "source": [
    "best_model_params_ds, f1_data_ds = fit_models(test_features, \n",
    "                                        target_downsampled, \n",
    "                                        valid_features, \n",
    "                                        target_valid, \n",
    "                                        params_lst)"
   ]
  },
  {
   "cell_type": "code",
   "execution_count": 998,
   "metadata": {},
   "outputs": [
    {
     "name": "stdout",
     "output_type": "stream",
     "text": [
      "RandomForestClassifier\n"
     ]
    },
    {
     "data": {
      "image/png": "[encoded data removed]",
      "text/plain": [
       "<Figure size 432x288 with 1 Axes>"
      ]
     },
     "metadata": {
      "needs_background": "light"
     },
     "output_type": "display_data"
    },
    {
     "name": "stdout",
     "output_type": "stream",
     "text": [
      "- Наибольшее значение F-меры = 0.611 при величине порога = 0.60\n",
      "- Наибольшее значение ROC AUC = 0.767 при величине порога = 0.45\n",
      "- Наибольшее взаимное значение ROC AUC = 0.757 и F-меры = 0.611 достигается при величине порога = 0.60\n",
      "\n",
      "KNeighborsClassifier\n"
     ]
    },
    {
     "data": {
      "image/png": "[encoded data removed]",
      "text/plain": [
       "<Figure size 432x288 with 1 Axes>"
      ]
     },
     "metadata": {
      "needs_background": "light"
     },
     "output_type": "display_data"
    },
    {
     "name": "stdout",
     "output_type": "stream",
     "text": [
      "- Наибольшее значение F-меры = 0.542 при величине порога = 0.60\n",
      "- Наибольшее значение ROC AUC = 0.733 при величине порога = 0.40\n",
      "- Наибольшее взаимное значение ROC AUC = 0.733 и F-меры = 0.532 достигается при величине порога = 0.40\n",
      "\n",
      "LogisticRegression\n"
     ]
    },
    {
     "data": {
      "image/png": "[encoded data removed]",
      "text/plain": [
       "<Figure size 432x288 with 1 Axes>"
      ]
     },
     "metadata": {
      "needs_background": "light"
     },
     "output_type": "display_data"
    },
    {
     "name": "stdout",
     "output_type": "stream",
     "text": [
      "- Наибольшее значение F-меры = 0.488 при величине порога = 0.60\n",
      "- Наибольшее значение ROC AUC = 0.688 при величине порога = 0.55\n",
      "- Наибольшее взаимное значение ROC AUC = 0.687 и F-меры = 0.488 достигается при величине порога = 0.60\n",
      "\n"
     ]
    }
   ],
   "source": [
    "plot_f1_thresh(f1_data_ds)"
   ]
  },
  {
   "cell_type": "markdown",
   "metadata": {},
   "source": [
    "### Вывод:"
   ]
  },
  {
   "cell_type": "markdown",
   "metadata": {},
   "source": [
    "Лучшие результаты которых удалось достичь в ходе обучения модели:\n",
    "\n",
    "- Наибольшее значение F-меры = 0.611 при величине порога = 0.60\n",
    "- Наибольшее значение ROC AUC = 0.767 при величине порога = 0.45\n",
    "- Наибольшее взаимное значение ROC AUC = 0.757 и F-меры = 0.611 достигается при величине порога = 0.60"
   ]
  },
  {
   "cell_type": "markdown",
   "metadata": {},
   "source": [
    "## Общий вывод:<a id='step_5'></a>"
   ]
  },
  {
   "cell_type": "markdown",
   "metadata": {},
   "source": [
    "По результатм проведенного исследования выявлено:\n",
    "\n",
    "- Все рассмотренные модели хуже обучаются на выборках с дисбалансом классов.\n",
    "- Чуть более высоких значений F-меры удалось добиться на downsampled выборках. Возможно, это не закономерность, а только частный случай.\n",
    "- Более высокие показатели F-меры демонстрируют модели RandomForest. \n",
    "- Более точных результатов прогноза удается добиться с помощью поиска оптимального порога классификации.\n",
    "- Большое количество признаков - не всегда хорошо. Убрав из анализа наименее информативные признаки удалось увеличить значение F-меры на 0.2 пункта.\n",
    "\n",
    "Дополнительно, на задворках проекта, аналогичным образом были обучены модели на выборках с учетом выбросов. Объекты с аномальными объектами были отброшены. Результаты оказались даже хуже, чем у моделей обученных на выборках без учета дисбаланса. В силу этого, данные результаты в проекте не представлены."
   ]
  },
  {
   "cell_type": "markdown",
   "metadata": {},
   "source": [
    "# Чек-лист готовности проекта"
   ]
  },
  {
   "cell_type": "markdown",
   "metadata": {},
   "source": [
    "Поставьте 'x' в выполненных пунктах. Далее нажмите Shift+Enter."
   ]
  },
  {
   "cell_type": "markdown",
   "metadata": {},
   "source": [
    "- [x]  Jupyter Notebook открыт\n",
    "- [x]  Весь код выполняется без ошибок\n",
    "- [x]  Ячейки с кодом расположены в порядке исполнения\n",
    "- [x]  Выполнен шаг 1: данные подготовлены\n",
    "- [x]  Выполнен шаг 2: задача исследована\n",
    "    - [x]  Исследован баланс классов\n",
    "    - [x]  Изучены модели без учёта дисбаланса\n",
    "    - [x]  Написаны выводы по результатам исследования\n",
    "- [x]  Выполнен шаг 3: учтён дисбаланс\n",
    "    - [x]  Применено несколько способов борьбы с дисбалансом\n",
    "    - [x]  Написаны выводы по результатам исследования\n",
    "- [x]  Выполнен шаг 4: проведено тестирование\n",
    "- [x]  Удалось достичь *F1*-меры не менее 0.59\n",
    "- [x]  Исследована метрика *AUC-ROC*"
   ]
  },
  {
   "cell_type": "code",
   "execution_count": null,
   "metadata": {},
   "outputs": [],
   "source": []
  }
 ],
 "metadata": {
  "kernelspec": {
   "display_name": "Python 3",
   "language": "python",
   "name": "python3"
  },
  "language_info": {
   "codemirror_mode": {
    "name": "ipython",
    "version": 3
   },
   "file_extension": ".py",
   "mimetype": "text/x-python",
   "name": "python",
   "nbconvert_exporter": "python",
   "pygments_lexer": "ipython3",
   "version": "3.8.5"
  },
  "toc": {
   "base_numbering": 1,
   "nav_menu": {},
   "number_sections": false,
   "sideBar": true,
   "skip_h1_title": true,
   "title_cell": "Table of Contents",
   "title_sidebar": "Contents",
   "toc_cell": false,
   "toc_position": {},
   "toc_section_display": true,
   "toc_window_display": true
  }
 },
 "nbformat": 4,
 "nbformat_minor": 2
}
