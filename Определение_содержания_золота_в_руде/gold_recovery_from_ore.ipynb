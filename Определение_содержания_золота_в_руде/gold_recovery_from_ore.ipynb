{
 "cells": [
  {
   "cell_type": "markdown",
   "metadata": {},
   "source": [
    "Привет! Меня зовут Валерий Гриднев, я провожу ревью твоей работы. Предлагаю общаться на «ты», если не против.\n",
    "\n",
    "В работе ты увидишь комментарии, помеченные разным цветом.\n",
    "\n",
    "<div class=\"alert alert-success\">\n",
    "Зеленым цветом помечены оброзцовые решения. Которые можно использовать в дальнейшем.\n",
    "</div>\n",
    "\n",
    "<div class=\"alert alert-warning\">\n",
    "Желтым цветом отмечено то, что ты можешь улучшить или доработать. Можешь учесть это при выполнении следующих работ или доработать проект сейчас, но это не обязательно.\n",
    "</div>\n",
    "\n",
    "<div class=\"alert alert-danger\">\n",
    "Красным цветом помечены моменты, которые необходимо доработать, чтобы проект был принят. Уверен, что у тебя все получится. Буду ждать твою работу на повторное ревью. \n",
    "</div>\n",
    "\n",
    "Будет комфортнее работать над проектом вместе, если ты будешь **писать об изменениях** в проекте по моим рекомендациям. Для этого выбери для своих комментариев \n",
    "\n",
    "<div class=\"alert alert-block alert-info\">заметный цвет</div>\n",
    "\n",
    "Пожалуйста, **не перемещай, не изменяй и не удаляй мои комментарии**. Всё это поможет выполнить повторную проверку твоего проекта оперативнее.\n",
    "___"
   ]
  },
  {
   "cell_type": "markdown",
   "metadata": {},
   "source": [
    "<div class=\"alert alert-block alert-info\">Валерий, привет! Рад знакомству, и спасибо за ревью) постарался учесть все твои замечания. И прошу прощения за нелепую ошибку в конце)</div>"
   ]
  },
  {
   "cell_type": "markdown",
   "metadata": {},
   "source": [
    "<div class=\"alert alert-success\">\n",
    "    \n",
    "**Комментарий ревьюера v_2**\n",
    "     \n",
    "Точно не извиняться надо)Бывает у всех)Дополнительная возможность задать мне вопросы или посмотреть на свою работу с другой стороны)\n",
    "</div>"
   ]
  },
  {
   "cell_type": "markdown",
   "metadata": {
    "toc": true
   },
   "source": [
    "<h1>Содержание<span class=\"tocSkip\"></span></h1>\n",
    "<div class=\"toc\"><ul class=\"toc-item\"><li><span><a href=\"#Подготовка-данных\" data-toc-modified-id=\"Подготовка-данных-1\"><span class=\"toc-item-num\">1&nbsp;&nbsp;</span>Подготовка данных</a></span><ul class=\"toc-item\"><li><span><a href=\"#Описание-данных\" data-toc-modified-id=\"Описание-данных-1.1\"><span class=\"toc-item-num\">1.1&nbsp;&nbsp;</span>Описание данных</a></span></li><li><span><a href=\"#Проверим-формулу-вычисления-эффективности-обогащения\" data-toc-modified-id=\"Проверим-формулу-вычисления-эффективности-обогащения-1.2\"><span class=\"toc-item-num\">1.2&nbsp;&nbsp;</span>Проверим формулу вычисления эффективности обогащения</a></span><ul class=\"toc-item\"><li><span><a href=\"#Промежуточный-вывод:\" data-toc-modified-id=\"Промежуточный-вывод:-1.2.1\"><span class=\"toc-item-num\">1.2.1&nbsp;&nbsp;</span>Промежуточный вывод:</a></span></li></ul></li><li><span><a href=\"#Анализ-признаков,-недоступных-в-тестовой-выборке\" data-toc-modified-id=\"Анализ-признаков,-недоступных-в-тестовой-выборке-1.3\"><span class=\"toc-item-num\">1.3&nbsp;&nbsp;</span>Анализ признаков, недоступных в тестовой выборке</a></span><ul class=\"toc-item\"><li><span><a href=\"#Промежуточный-вывод:\" data-toc-modified-id=\"Промежуточный-вывод:-1.3.1\"><span class=\"toc-item-num\">1.3.1&nbsp;&nbsp;</span>Промежуточный вывод:</a></span></li></ul></li><li><span><a href=\"#Предобработка-данных\" data-toc-modified-id=\"Предобработка-данных-1.4\"><span class=\"toc-item-num\">1.4&nbsp;&nbsp;</span>Предобработка данных</a></span><ul class=\"toc-item\"><li><span><a href=\"#Промежуточный-вывод:\" data-toc-modified-id=\"Промежуточный-вывод:-1.4.1\"><span class=\"toc-item-num\">1.4.1&nbsp;&nbsp;</span>Промежуточный вывод:</a></span></li></ul></li></ul></li><li><span><a href=\"#Анализ-данных\" data-toc-modified-id=\"Анализ-данных-2\"><span class=\"toc-item-num\">2&nbsp;&nbsp;</span>Анализ данных</a></span><ul class=\"toc-item\"><li><span><a href=\"#Исследование-изменения-концентрации-элементов-на-каждом-этапе\" data-toc-modified-id=\"Исследование-изменения-концентрации-элементов-на-каждом-этапе-2.1\"><span class=\"toc-item-num\">2.1&nbsp;&nbsp;</span>Исследование изменения концентрации элементов на каждом этапе</a></span><ul class=\"toc-item\"><li><span><a href=\"#Строим-график-концентрации-элементов\" data-toc-modified-id=\"Строим-график-концентрации-элементов-2.1.1\"><span class=\"toc-item-num\">2.1.1&nbsp;&nbsp;</span>Строим график концентрации элементов</a></span></li><li><span><a href=\"#Промежуточный-вывод:\" data-toc-modified-id=\"Промежуточный-вывод:-2.1.2\"><span class=\"toc-item-num\">2.1.2&nbsp;&nbsp;</span>Промежуточный вывод:</a></span></li><li><span><a href=\"#Смотрим-на-концентрации-элементов-в-хвостах:\" data-toc-modified-id=\"Смотрим-на-концентрации-элементов-в-хвостах:-2.1.3\"><span class=\"toc-item-num\">2.1.3&nbsp;&nbsp;</span>Смотрим на концентрации элементов в хвостах:</a></span></li><li><span><a href=\"#Промежуточный-вывод:\" data-toc-modified-id=\"Промежуточный-вывод:-2.1.4\"><span class=\"toc-item-num\">2.1.4&nbsp;&nbsp;</span>Промежуточный вывод:</a></span></li></ul></li><li><span><a href=\"#Анализ-распределения-размеров-гранул-на-обучающей-и-тестовой-выборках\" data-toc-modified-id=\"Анализ-распределения-размеров-гранул-на-обучающей-и-тестовой-выборках-2.2\"><span class=\"toc-item-num\">2.2&nbsp;&nbsp;</span>Анализ распределения размеров гранул на обучающей и тестовой выборках</a></span><ul class=\"toc-item\"><li><span><a href=\"#Проверка-гипотезы-о-равенстве-средних\" data-toc-modified-id=\"Проверка-гипотезы-о-равенстве-средних-2.2.1\"><span class=\"toc-item-num\">2.2.1&nbsp;&nbsp;</span>Проверка гипотезы о равенстве средних</a></span></li><li><span><a href=\"#Промежуточный-вывод:\" data-toc-modified-id=\"Промежуточный-вывод:-2.2.2\"><span class=\"toc-item-num\">2.2.2&nbsp;&nbsp;</span>Промежуточный вывод:</a></span></li></ul></li><li><span><a href=\"#Исследование-суммарных-концентраций\" data-toc-modified-id=\"Исследование-суммарных-концентраций-2.3\"><span class=\"toc-item-num\">2.3&nbsp;&nbsp;</span>Исследование суммарных концентраций</a></span></li><li><span><a href=\"#Обработка-аномальных-значений\" data-toc-modified-id=\"Обработка-аномальных-значений-2.4\"><span class=\"toc-item-num\">2.4&nbsp;&nbsp;</span>Обработка аномальных значений</a></span><ul class=\"toc-item\"><li><span><a href=\"#Промежуточный-вывод:\" data-toc-modified-id=\"Промежуточный-вывод:-2.4.1\"><span class=\"toc-item-num\">2.4.1&nbsp;&nbsp;</span>Промежуточный вывод:</a></span></li><li><span><a href=\"#Предобработка-для-целей-машинного-обучения:\" data-toc-modified-id=\"Предобработка-для-целей-машинного-обучения:-2.4.2\"><span class=\"toc-item-num\">2.4.2&nbsp;&nbsp;</span>Предобработка для целей машинного обучения:</a></span></li><li><span><a href=\"#Нормирование-данных:\" data-toc-modified-id=\"Нормирование-данных:-2.4.3\"><span class=\"toc-item-num\">2.4.3&nbsp;&nbsp;</span>Нормирование данных:</a></span></li></ul></li><li><span><a href=\"#Вывод:\" data-toc-modified-id=\"Вывод:-2.5\"><span class=\"toc-item-num\">2.5&nbsp;&nbsp;</span>Вывод:</a></span></li></ul></li><li><span><a href=\"#Модель\" data-toc-modified-id=\"Модель-3\"><span class=\"toc-item-num\">3&nbsp;&nbsp;</span>Модель</a></span><ul class=\"toc-item\"><li><span><a href=\"#Функция-метрики-качества\" data-toc-modified-id=\"Функция-метрики-качества-3.1\"><span class=\"toc-item-num\">3.1&nbsp;&nbsp;</span>Функция метрики качества</a></span></li><li><span><a href=\"#Обучение-моделей\" data-toc-modified-id=\"Обучение-моделей-3.2\"><span class=\"toc-item-num\">3.2&nbsp;&nbsp;</span>Обучение моделей</a></span></li></ul></li><li><span><a href=\"#Общий-вывод\" data-toc-modified-id=\"Общий-вывод-4\"><span class=\"toc-item-num\">4&nbsp;&nbsp;</span>Общий вывод</a></span></li><li><span><a href=\"#Чек-лист-готовности-проекта\" data-toc-modified-id=\"Чек-лист-готовности-проекта-5\"><span class=\"toc-item-num\">5&nbsp;&nbsp;</span>Чек-лист готовности проекта</a></span></li></ul></div>"
   ]
  },
  {
   "cell_type": "markdown",
   "metadata": {},
   "source": [
    "# Восстановление золота из руды"
   ]
  },
  {
   "cell_type": "markdown",
   "metadata": {},
   "source": [
    "Подготовьте прототип модели машинного обучения для «Цифры». Компания разрабатывает решения для эффективной работы промышленных предприятий.\n",
    "\n",
    "Модель должна предсказать коэффициент восстановления золота из золотосодержащей руды. Используйте данные с параметрами добычи и очистки. \n",
    "\n",
    "Модель поможет оптимизировать производство, чтобы не запускать предприятие с убыточными характеристиками.\n",
    "\n",
    "Вам нужно:\n",
    "\n",
    "1. Подготовить данные;\n",
    "2. Провести исследовательский анализ данных;\n",
    "3. Построить и обучить модель.\n",
    "\n",
    "Чтобы выполнить проект, обращайтесь к библиотекам *pandas*, *matplotlib* и *sklearn.* Вам поможет их документация."
   ]
  },
  {
   "cell_type": "markdown",
   "metadata": {},
   "source": [
    "## Подготовка данных"
   ]
  },
  {
   "cell_type": "markdown",
   "metadata": {},
   "source": [
    "Подгрузим необходимые библиотеки и откроем данные:"
   ]
  },
  {
   "cell_type": "code",
   "execution_count": 1,
   "metadata": {},
   "outputs": [],
   "source": [
    "import pandas as pd\n",
    "import numpy as np\n",
    "\n",
    "from sklearn.metrics import mean_absolute_error\n",
    "from sklearn.preprocessing import StandardScaler\n",
    "from sklearn.model_selection import train_test_split\n",
    "from sklearn.metrics import make_scorer\n",
    "from sklearn.model_selection import cross_val_score\n",
    "\n",
    "from sklearn.linear_model import Ridge, Lasso, LinearRegression\n",
    "from sklearn.dummy import DummyRegressor\n",
    "\n",
    "import matplotlib.pyplot as plt\n",
    "from matplotlib.figure import Figure"
   ]
  },
  {
   "cell_type": "code",
   "execution_count": 2,
   "metadata": {},
   "outputs": [],
   "source": [
    "data_train = pd.read_csv('/datasets/gold_recovery_train.csv')\n",
    "data_test = pd.read_csv('/datasets/gold_recovery_test.csv')\n",
    "data_full = pd.read_csv('/datasets/gold_recovery_full.csv')"
   ]
  },
  {
   "cell_type": "markdown",
   "metadata": {},
   "source": [
    "### Описание данных"
   ]
  },
  {
   "cell_type": "markdown",
   "metadata": {},
   "source": [
    "**Технологический процесс**\n",
    "- Rougher feed — исходное сырье\n",
    "- Rougher additions (или reagent additions) — флотационные реагенты: Xanthate, Sulphate, Depressant\n",
    "- Xanthate — ксантогенат (промотер, или активатор флотации);\n",
    "- Sulphate — сульфат (на данном производстве сульфид натрия);\n",
    "- Depressant — депрессант (силикат натрия).\n",
    "- Rougher process (англ. «грубый процесс») — флотация\n",
    "- Rougher tails — отвальные хвосты\n",
    "- Float banks — флотационная установка\n",
    "- Cleaner process — очистка\n",
    "- Rougher Au — черновой концентрат золота\n",
    "- Final Au — финальный концентрат золота\n",
    "\n",
    "**Параметры этапов**\n",
    "- air amount — объём воздуха\n",
    "- fluid levels — уровень жидкости\n",
    "- feed size — размер гранул сырья\n",
    "- feed rate — скорость подачи\n",
    "\n",
    "**Наименование признаков**\n",
    "\n",
    "Наименование признаков должно быть такое:\n",
    "\n",
    "[этап].[тип_параметра].[название_параметра]\n",
    "\n",
    "Пример: rougher.input.feed_ag\n",
    "\n",
    "Возможные значения для блока [этап]:\n",
    "- rougher — флотация\n",
    "- primary_cleaner — первичная очистка\n",
    "- secondary_cleaner — вторичная очистка\n",
    "- final — финальные характеристики\n",
    "\n",
    "Возможные значения для блока [тип_параметра]:\n",
    "- input — параметры сырья\n",
    "- output — параметры продукта\n",
    "- state — параметры, характеризующие текущее состояние этапа\n",
    "- calculation — расчётные характеристики"
   ]
  },
  {
   "cell_type": "code",
   "execution_count": 3,
   "metadata": {
    "scrolled": true
   },
   "outputs": [
    {
     "data": {
      "text/html": [
       "<div>\n",
       "<style scoped>\n",
       "    .dataframe tbody tr th:only-of-type {\n",
       "        vertical-align: middle;\n",
       "    }\n",
       "\n",
       "    .dataframe tbody tr th {\n",
       "        vertical-align: top;\n",
       "    }\n",
       "\n",
       "    .dataframe thead th {\n",
       "        text-align: right;\n",
       "    }\n",
       "</style>\n",
       "<table border=\"1\" class=\"dataframe\">\n",
       "  <thead>\n",
       "    <tr style=\"text-align: right;\">\n",
       "      <th></th>\n",
       "      <th>date</th>\n",
       "      <th>final.output.concentrate_ag</th>\n",
       "      <th>final.output.concentrate_pb</th>\n",
       "      <th>final.output.concentrate_sol</th>\n",
       "      <th>final.output.concentrate_au</th>\n",
       "      <th>final.output.recovery</th>\n",
       "      <th>final.output.tail_ag</th>\n",
       "      <th>final.output.tail_pb</th>\n",
       "      <th>final.output.tail_sol</th>\n",
       "      <th>final.output.tail_au</th>\n",
       "      <th>...</th>\n",
       "      <th>secondary_cleaner.state.floatbank4_a_air</th>\n",
       "      <th>secondary_cleaner.state.floatbank4_a_level</th>\n",
       "      <th>secondary_cleaner.state.floatbank4_b_air</th>\n",
       "      <th>secondary_cleaner.state.floatbank4_b_level</th>\n",
       "      <th>secondary_cleaner.state.floatbank5_a_air</th>\n",
       "      <th>secondary_cleaner.state.floatbank5_a_level</th>\n",
       "      <th>secondary_cleaner.state.floatbank5_b_air</th>\n",
       "      <th>secondary_cleaner.state.floatbank5_b_level</th>\n",
       "      <th>secondary_cleaner.state.floatbank6_a_air</th>\n",
       "      <th>secondary_cleaner.state.floatbank6_a_level</th>\n",
       "    </tr>\n",
       "  </thead>\n",
       "  <tbody>\n",
       "    <tr>\n",
       "      <td>0</td>\n",
       "      <td>2016-01-15 00:00:00</td>\n",
       "      <td>6.055403</td>\n",
       "      <td>9.889648</td>\n",
       "      <td>5.507324</td>\n",
       "      <td>42.192020</td>\n",
       "      <td>70.541216</td>\n",
       "      <td>10.411962</td>\n",
       "      <td>0.895447</td>\n",
       "      <td>16.904297</td>\n",
       "      <td>2.143149</td>\n",
       "      <td>...</td>\n",
       "      <td>14.016835</td>\n",
       "      <td>-502.488007</td>\n",
       "      <td>12.099931</td>\n",
       "      <td>-504.715942</td>\n",
       "      <td>9.925633</td>\n",
       "      <td>-498.310211</td>\n",
       "      <td>8.079666</td>\n",
       "      <td>-500.470978</td>\n",
       "      <td>14.151341</td>\n",
       "      <td>-605.841980</td>\n",
       "    </tr>\n",
       "    <tr>\n",
       "      <td>1</td>\n",
       "      <td>2016-01-15 01:00:00</td>\n",
       "      <td>6.029369</td>\n",
       "      <td>9.968944</td>\n",
       "      <td>5.257781</td>\n",
       "      <td>42.701629</td>\n",
       "      <td>69.266198</td>\n",
       "      <td>10.462676</td>\n",
       "      <td>0.927452</td>\n",
       "      <td>16.634514</td>\n",
       "      <td>2.224930</td>\n",
       "      <td>...</td>\n",
       "      <td>13.992281</td>\n",
       "      <td>-505.503262</td>\n",
       "      <td>11.950531</td>\n",
       "      <td>-501.331529</td>\n",
       "      <td>10.039245</td>\n",
       "      <td>-500.169983</td>\n",
       "      <td>7.984757</td>\n",
       "      <td>-500.582168</td>\n",
       "      <td>13.998353</td>\n",
       "      <td>-599.787184</td>\n",
       "    </tr>\n",
       "    <tr>\n",
       "      <td>2</td>\n",
       "      <td>2016-01-15 02:00:00</td>\n",
       "      <td>6.055926</td>\n",
       "      <td>10.213995</td>\n",
       "      <td>5.383759</td>\n",
       "      <td>42.657501</td>\n",
       "      <td>68.116445</td>\n",
       "      <td>10.507046</td>\n",
       "      <td>0.953716</td>\n",
       "      <td>16.208849</td>\n",
       "      <td>2.257889</td>\n",
       "      <td>...</td>\n",
       "      <td>14.015015</td>\n",
       "      <td>-502.520901</td>\n",
       "      <td>11.912783</td>\n",
       "      <td>-501.133383</td>\n",
       "      <td>10.070913</td>\n",
       "      <td>-500.129135</td>\n",
       "      <td>8.013877</td>\n",
       "      <td>-500.517572</td>\n",
       "      <td>14.028663</td>\n",
       "      <td>-601.427363</td>\n",
       "    </tr>\n",
       "    <tr>\n",
       "      <td>3</td>\n",
       "      <td>2016-01-15 03:00:00</td>\n",
       "      <td>6.047977</td>\n",
       "      <td>9.977019</td>\n",
       "      <td>4.858634</td>\n",
       "      <td>42.689819</td>\n",
       "      <td>68.347543</td>\n",
       "      <td>10.422762</td>\n",
       "      <td>0.883763</td>\n",
       "      <td>16.532835</td>\n",
       "      <td>2.146849</td>\n",
       "      <td>...</td>\n",
       "      <td>14.036510</td>\n",
       "      <td>-500.857308</td>\n",
       "      <td>11.999550</td>\n",
       "      <td>-501.193686</td>\n",
       "      <td>9.970366</td>\n",
       "      <td>-499.201640</td>\n",
       "      <td>7.977324</td>\n",
       "      <td>-500.255908</td>\n",
       "      <td>14.005551</td>\n",
       "      <td>-599.996129</td>\n",
       "    </tr>\n",
       "    <tr>\n",
       "      <td>4</td>\n",
       "      <td>2016-01-15 04:00:00</td>\n",
       "      <td>6.148599</td>\n",
       "      <td>10.142511</td>\n",
       "      <td>4.939416</td>\n",
       "      <td>42.774141</td>\n",
       "      <td>66.927016</td>\n",
       "      <td>10.360302</td>\n",
       "      <td>0.792826</td>\n",
       "      <td>16.525686</td>\n",
       "      <td>2.055292</td>\n",
       "      <td>...</td>\n",
       "      <td>14.027298</td>\n",
       "      <td>-499.838632</td>\n",
       "      <td>11.953070</td>\n",
       "      <td>-501.053894</td>\n",
       "      <td>9.925709</td>\n",
       "      <td>-501.686727</td>\n",
       "      <td>7.894242</td>\n",
       "      <td>-500.356035</td>\n",
       "      <td>13.996647</td>\n",
       "      <td>-601.496691</td>\n",
       "    </tr>\n",
       "  </tbody>\n",
       "</table>\n",
       "<p>5 rows × 87 columns</p>\n",
       "</div>"
      ],
      "text/plain": [
       "                  date  final.output.concentrate_ag  \\\n",
       "0  2016-01-15 00:00:00                     6.055403   \n",
       "1  2016-01-15 01:00:00                     6.029369   \n",
       "2  2016-01-15 02:00:00                     6.055926   \n",
       "3  2016-01-15 03:00:00                     6.047977   \n",
       "4  2016-01-15 04:00:00                     6.148599   \n",
       "\n",
       "   final.output.concentrate_pb  final.output.concentrate_sol  \\\n",
       "0                     9.889648                      5.507324   \n",
       "1                     9.968944                      5.257781   \n",
       "2                    10.213995                      5.383759   \n",
       "3                     9.977019                      4.858634   \n",
       "4                    10.142511                      4.939416   \n",
       "\n",
       "   final.output.concentrate_au  final.output.recovery  final.output.tail_ag  \\\n",
       "0                    42.192020              70.541216             10.411962   \n",
       "1                    42.701629              69.266198             10.462676   \n",
       "2                    42.657501              68.116445             10.507046   \n",
       "3                    42.689819              68.347543             10.422762   \n",
       "4                    42.774141              66.927016             10.360302   \n",
       "\n",
       "   final.output.tail_pb  final.output.tail_sol  final.output.tail_au  ...  \\\n",
       "0              0.895447              16.904297              2.143149  ...   \n",
       "1              0.927452              16.634514              2.224930  ...   \n",
       "2              0.953716              16.208849              2.257889  ...   \n",
       "3              0.883763              16.532835              2.146849  ...   \n",
       "4              0.792826              16.525686              2.055292  ...   \n",
       "\n",
       "   secondary_cleaner.state.floatbank4_a_air  \\\n",
       "0                                 14.016835   \n",
       "1                                 13.992281   \n",
       "2                                 14.015015   \n",
       "3                                 14.036510   \n",
       "4                                 14.027298   \n",
       "\n",
       "   secondary_cleaner.state.floatbank4_a_level  \\\n",
       "0                                 -502.488007   \n",
       "1                                 -505.503262   \n",
       "2                                 -502.520901   \n",
       "3                                 -500.857308   \n",
       "4                                 -499.838632   \n",
       "\n",
       "   secondary_cleaner.state.floatbank4_b_air  \\\n",
       "0                                 12.099931   \n",
       "1                                 11.950531   \n",
       "2                                 11.912783   \n",
       "3                                 11.999550   \n",
       "4                                 11.953070   \n",
       "\n",
       "   secondary_cleaner.state.floatbank4_b_level  \\\n",
       "0                                 -504.715942   \n",
       "1                                 -501.331529   \n",
       "2                                 -501.133383   \n",
       "3                                 -501.193686   \n",
       "4                                 -501.053894   \n",
       "\n",
       "   secondary_cleaner.state.floatbank5_a_air  \\\n",
       "0                                  9.925633   \n",
       "1                                 10.039245   \n",
       "2                                 10.070913   \n",
       "3                                  9.970366   \n",
       "4                                  9.925709   \n",
       "\n",
       "   secondary_cleaner.state.floatbank5_a_level  \\\n",
       "0                                 -498.310211   \n",
       "1                                 -500.169983   \n",
       "2                                 -500.129135   \n",
       "3                                 -499.201640   \n",
       "4                                 -501.686727   \n",
       "\n",
       "   secondary_cleaner.state.floatbank5_b_air  \\\n",
       "0                                  8.079666   \n",
       "1                                  7.984757   \n",
       "2                                  8.013877   \n",
       "3                                  7.977324   \n",
       "4                                  7.894242   \n",
       "\n",
       "   secondary_cleaner.state.floatbank5_b_level  \\\n",
       "0                                 -500.470978   \n",
       "1                                 -500.582168   \n",
       "2                                 -500.517572   \n",
       "3                                 -500.255908   \n",
       "4                                 -500.356035   \n",
       "\n",
       "   secondary_cleaner.state.floatbank6_a_air  \\\n",
       "0                                 14.151341   \n",
       "1                                 13.998353   \n",
       "2                                 14.028663   \n",
       "3                                 14.005551   \n",
       "4                                 13.996647   \n",
       "\n",
       "   secondary_cleaner.state.floatbank6_a_level  \n",
       "0                                 -605.841980  \n",
       "1                                 -599.787184  \n",
       "2                                 -601.427363  \n",
       "3                                 -599.996129  \n",
       "4                                 -601.496691  \n",
       "\n",
       "[5 rows x 87 columns]"
      ]
     },
     "metadata": {},
     "output_type": "display_data"
    },
    {
     "name": "stdout",
     "output_type": "stream",
     "text": [
      "\n"
     ]
    },
    {
     "data": {
      "text/html": [
       "<div>\n",
       "<style scoped>\n",
       "    .dataframe tbody tr th:only-of-type {\n",
       "        vertical-align: middle;\n",
       "    }\n",
       "\n",
       "    .dataframe tbody tr th {\n",
       "        vertical-align: top;\n",
       "    }\n",
       "\n",
       "    .dataframe thead th {\n",
       "        text-align: right;\n",
       "    }\n",
       "</style>\n",
       "<table border=\"1\" class=\"dataframe\">\n",
       "  <thead>\n",
       "    <tr style=\"text-align: right;\">\n",
       "      <th></th>\n",
       "      <th>final.output.concentrate_ag</th>\n",
       "      <th>final.output.concentrate_pb</th>\n",
       "      <th>final.output.concentrate_sol</th>\n",
       "      <th>final.output.concentrate_au</th>\n",
       "      <th>final.output.recovery</th>\n",
       "      <th>final.output.tail_ag</th>\n",
       "      <th>final.output.tail_pb</th>\n",
       "      <th>final.output.tail_sol</th>\n",
       "      <th>final.output.tail_au</th>\n",
       "      <th>primary_cleaner.input.sulfate</th>\n",
       "      <th>...</th>\n",
       "      <th>secondary_cleaner.state.floatbank4_a_air</th>\n",
       "      <th>secondary_cleaner.state.floatbank4_a_level</th>\n",
       "      <th>secondary_cleaner.state.floatbank4_b_air</th>\n",
       "      <th>secondary_cleaner.state.floatbank4_b_level</th>\n",
       "      <th>secondary_cleaner.state.floatbank5_a_air</th>\n",
       "      <th>secondary_cleaner.state.floatbank5_a_level</th>\n",
       "      <th>secondary_cleaner.state.floatbank5_b_air</th>\n",
       "      <th>secondary_cleaner.state.floatbank5_b_level</th>\n",
       "      <th>secondary_cleaner.state.floatbank6_a_air</th>\n",
       "      <th>secondary_cleaner.state.floatbank6_a_level</th>\n",
       "    </tr>\n",
       "  </thead>\n",
       "  <tbody>\n",
       "    <tr>\n",
       "      <td>count</td>\n",
       "      <td>16788.000000</td>\n",
       "      <td>16788.000000</td>\n",
       "      <td>16490.000000</td>\n",
       "      <td>16789.000000</td>\n",
       "      <td>15339.000000</td>\n",
       "      <td>16794.000000</td>\n",
       "      <td>16677.000000</td>\n",
       "      <td>16715.000000</td>\n",
       "      <td>16794.000000</td>\n",
       "      <td>15553.000000</td>\n",
       "      <td>...</td>\n",
       "      <td>16731.000000</td>\n",
       "      <td>16747.000000</td>\n",
       "      <td>16768.000000</td>\n",
       "      <td>16767.000000</td>\n",
       "      <td>16775.000000</td>\n",
       "      <td>16775.000000</td>\n",
       "      <td>16775.000000</td>\n",
       "      <td>16776.000000</td>\n",
       "      <td>16757.000000</td>\n",
       "      <td>16775.000000</td>\n",
       "    </tr>\n",
       "    <tr>\n",
       "      <td>mean</td>\n",
       "      <td>4.716907</td>\n",
       "      <td>9.113559</td>\n",
       "      <td>8.301123</td>\n",
       "      <td>39.467217</td>\n",
       "      <td>67.213166</td>\n",
       "      <td>8.757048</td>\n",
       "      <td>2.360327</td>\n",
       "      <td>9.303932</td>\n",
       "      <td>2.687512</td>\n",
       "      <td>129.479789</td>\n",
       "      <td>...</td>\n",
       "      <td>19.101874</td>\n",
       "      <td>-494.164481</td>\n",
       "      <td>14.778164</td>\n",
       "      <td>-476.600082</td>\n",
       "      <td>15.779488</td>\n",
       "      <td>-500.230146</td>\n",
       "      <td>12.377241</td>\n",
       "      <td>-498.956257</td>\n",
       "      <td>18.429208</td>\n",
       "      <td>-521.801826</td>\n",
       "    </tr>\n",
       "    <tr>\n",
       "      <td>std</td>\n",
       "      <td>2.096718</td>\n",
       "      <td>3.389495</td>\n",
       "      <td>3.825760</td>\n",
       "      <td>13.917227</td>\n",
       "      <td>11.960446</td>\n",
       "      <td>3.634103</td>\n",
       "      <td>1.215576</td>\n",
       "      <td>4.263208</td>\n",
       "      <td>1.272757</td>\n",
       "      <td>45.386931</td>\n",
       "      <td>...</td>\n",
       "      <td>6.883163</td>\n",
       "      <td>84.803334</td>\n",
       "      <td>5.999149</td>\n",
       "      <td>89.381172</td>\n",
       "      <td>6.834703</td>\n",
       "      <td>76.983542</td>\n",
       "      <td>6.219989</td>\n",
       "      <td>82.146207</td>\n",
       "      <td>6.958294</td>\n",
       "      <td>77.170888</td>\n",
       "    </tr>\n",
       "    <tr>\n",
       "      <td>min</td>\n",
       "      <td>0.000000</td>\n",
       "      <td>0.000000</td>\n",
       "      <td>0.000000</td>\n",
       "      <td>0.000000</td>\n",
       "      <td>0.000000</td>\n",
       "      <td>0.000000</td>\n",
       "      <td>0.000000</td>\n",
       "      <td>0.000000</td>\n",
       "      <td>0.000000</td>\n",
       "      <td>0.000003</td>\n",
       "      <td>...</td>\n",
       "      <td>0.000000</td>\n",
       "      <td>-799.920713</td>\n",
       "      <td>0.000000</td>\n",
       "      <td>-800.021781</td>\n",
       "      <td>-0.423260</td>\n",
       "      <td>-799.741097</td>\n",
       "      <td>0.427084</td>\n",
       "      <td>-800.258209</td>\n",
       "      <td>0.024270</td>\n",
       "      <td>-810.473526</td>\n",
       "    </tr>\n",
       "    <tr>\n",
       "      <td>25%</td>\n",
       "      <td>3.971262</td>\n",
       "      <td>8.825748</td>\n",
       "      <td>6.939185</td>\n",
       "      <td>42.055722</td>\n",
       "      <td>62.625685</td>\n",
       "      <td>7.610544</td>\n",
       "      <td>1.641604</td>\n",
       "      <td>7.870275</td>\n",
       "      <td>2.172953</td>\n",
       "      <td>103.064021</td>\n",
       "      <td>...</td>\n",
       "      <td>14.508299</td>\n",
       "      <td>-500.837689</td>\n",
       "      <td>10.741388</td>\n",
       "      <td>-500.269182</td>\n",
       "      <td>10.977713</td>\n",
       "      <td>-500.530594</td>\n",
       "      <td>8.925586</td>\n",
       "      <td>-500.147603</td>\n",
       "      <td>13.977626</td>\n",
       "      <td>-501.080595</td>\n",
       "    </tr>\n",
       "    <tr>\n",
       "      <td>50%</td>\n",
       "      <td>4.869346</td>\n",
       "      <td>10.065316</td>\n",
       "      <td>8.557228</td>\n",
       "      <td>44.498874</td>\n",
       "      <td>67.644601</td>\n",
       "      <td>9.220393</td>\n",
       "      <td>2.453690</td>\n",
       "      <td>10.021968</td>\n",
       "      <td>2.781132</td>\n",
       "      <td>131.783108</td>\n",
       "      <td>...</td>\n",
       "      <td>19.986958</td>\n",
       "      <td>-499.778379</td>\n",
       "      <td>14.943933</td>\n",
       "      <td>-499.593286</td>\n",
       "      <td>15.998340</td>\n",
       "      <td>-499.784231</td>\n",
       "      <td>11.092839</td>\n",
       "      <td>-499.933330</td>\n",
       "      <td>18.034960</td>\n",
       "      <td>-500.109898</td>\n",
       "    </tr>\n",
       "    <tr>\n",
       "      <td>75%</td>\n",
       "      <td>5.821176</td>\n",
       "      <td>11.054809</td>\n",
       "      <td>10.289741</td>\n",
       "      <td>45.976222</td>\n",
       "      <td>72.824595</td>\n",
       "      <td>10.971110</td>\n",
       "      <td>3.192404</td>\n",
       "      <td>11.648573</td>\n",
       "      <td>3.416936</td>\n",
       "      <td>159.539839</td>\n",
       "      <td>...</td>\n",
       "      <td>24.983961</td>\n",
       "      <td>-494.648754</td>\n",
       "      <td>20.023751</td>\n",
       "      <td>-400.137948</td>\n",
       "      <td>20.000701</td>\n",
       "      <td>-496.531781</td>\n",
       "      <td>15.979467</td>\n",
       "      <td>-498.418000</td>\n",
       "      <td>24.984992</td>\n",
       "      <td>-499.565540</td>\n",
       "    </tr>\n",
       "    <tr>\n",
       "      <td>max</td>\n",
       "      <td>16.001945</td>\n",
       "      <td>17.031899</td>\n",
       "      <td>18.124851</td>\n",
       "      <td>53.611374</td>\n",
       "      <td>100.000000</td>\n",
       "      <td>19.552149</td>\n",
       "      <td>6.086532</td>\n",
       "      <td>22.317730</td>\n",
       "      <td>9.789625</td>\n",
       "      <td>251.999948</td>\n",
       "      <td>...</td>\n",
       "      <td>60.000000</td>\n",
       "      <td>-127.692333</td>\n",
       "      <td>28.003828</td>\n",
       "      <td>-71.472472</td>\n",
       "      <td>63.116298</td>\n",
       "      <td>-275.073125</td>\n",
       "      <td>39.846228</td>\n",
       "      <td>-120.190931</td>\n",
       "      <td>54.876806</td>\n",
       "      <td>-39.784927</td>\n",
       "    </tr>\n",
       "  </tbody>\n",
       "</table>\n",
       "<p>8 rows × 86 columns</p>\n",
       "</div>"
      ],
      "text/plain": [
       "       final.output.concentrate_ag  final.output.concentrate_pb  \\\n",
       "count                 16788.000000                 16788.000000   \n",
       "mean                      4.716907                     9.113559   \n",
       "std                       2.096718                     3.389495   \n",
       "min                       0.000000                     0.000000   \n",
       "25%                       3.971262                     8.825748   \n",
       "50%                       4.869346                    10.065316   \n",
       "75%                       5.821176                    11.054809   \n",
       "max                      16.001945                    17.031899   \n",
       "\n",
       "       final.output.concentrate_sol  final.output.concentrate_au  \\\n",
       "count                  16490.000000                 16789.000000   \n",
       "mean                       8.301123                    39.467217   \n",
       "std                        3.825760                    13.917227   \n",
       "min                        0.000000                     0.000000   \n",
       "25%                        6.939185                    42.055722   \n",
       "50%                        8.557228                    44.498874   \n",
       "75%                       10.289741                    45.976222   \n",
       "max                       18.124851                    53.611374   \n",
       "\n",
       "       final.output.recovery  final.output.tail_ag  final.output.tail_pb  \\\n",
       "count           15339.000000          16794.000000          16677.000000   \n",
       "mean               67.213166              8.757048              2.360327   \n",
       "std                11.960446              3.634103              1.215576   \n",
       "min                 0.000000              0.000000              0.000000   \n",
       "25%                62.625685              7.610544              1.641604   \n",
       "50%                67.644601              9.220393              2.453690   \n",
       "75%                72.824595             10.971110              3.192404   \n",
       "max               100.000000             19.552149              6.086532   \n",
       "\n",
       "       final.output.tail_sol  final.output.tail_au  \\\n",
       "count           16715.000000          16794.000000   \n",
       "mean                9.303932              2.687512   \n",
       "std                 4.263208              1.272757   \n",
       "min                 0.000000              0.000000   \n",
       "25%                 7.870275              2.172953   \n",
       "50%                10.021968              2.781132   \n",
       "75%                11.648573              3.416936   \n",
       "max                22.317730              9.789625   \n",
       "\n",
       "       primary_cleaner.input.sulfate  ...  \\\n",
       "count                   15553.000000  ...   \n",
       "mean                      129.479789  ...   \n",
       "std                        45.386931  ...   \n",
       "min                         0.000003  ...   \n",
       "25%                       103.064021  ...   \n",
       "50%                       131.783108  ...   \n",
       "75%                       159.539839  ...   \n",
       "max                       251.999948  ...   \n",
       "\n",
       "       secondary_cleaner.state.floatbank4_a_air  \\\n",
       "count                              16731.000000   \n",
       "mean                                  19.101874   \n",
       "std                                    6.883163   \n",
       "min                                    0.000000   \n",
       "25%                                   14.508299   \n",
       "50%                                   19.986958   \n",
       "75%                                   24.983961   \n",
       "max                                   60.000000   \n",
       "\n",
       "       secondary_cleaner.state.floatbank4_a_level  \\\n",
       "count                                16747.000000   \n",
       "mean                                  -494.164481   \n",
       "std                                     84.803334   \n",
       "min                                   -799.920713   \n",
       "25%                                   -500.837689   \n",
       "50%                                   -499.778379   \n",
       "75%                                   -494.648754   \n",
       "max                                   -127.692333   \n",
       "\n",
       "       secondary_cleaner.state.floatbank4_b_air  \\\n",
       "count                              16768.000000   \n",
       "mean                                  14.778164   \n",
       "std                                    5.999149   \n",
       "min                                    0.000000   \n",
       "25%                                   10.741388   \n",
       "50%                                   14.943933   \n",
       "75%                                   20.023751   \n",
       "max                                   28.003828   \n",
       "\n",
       "       secondary_cleaner.state.floatbank4_b_level  \\\n",
       "count                                16767.000000   \n",
       "mean                                  -476.600082   \n",
       "std                                     89.381172   \n",
       "min                                   -800.021781   \n",
       "25%                                   -500.269182   \n",
       "50%                                   -499.593286   \n",
       "75%                                   -400.137948   \n",
       "max                                    -71.472472   \n",
       "\n",
       "       secondary_cleaner.state.floatbank5_a_air  \\\n",
       "count                              16775.000000   \n",
       "mean                                  15.779488   \n",
       "std                                    6.834703   \n",
       "min                                   -0.423260   \n",
       "25%                                   10.977713   \n",
       "50%                                   15.998340   \n",
       "75%                                   20.000701   \n",
       "max                                   63.116298   \n",
       "\n",
       "       secondary_cleaner.state.floatbank5_a_level  \\\n",
       "count                                16775.000000   \n",
       "mean                                  -500.230146   \n",
       "std                                     76.983542   \n",
       "min                                   -799.741097   \n",
       "25%                                   -500.530594   \n",
       "50%                                   -499.784231   \n",
       "75%                                   -496.531781   \n",
       "max                                   -275.073125   \n",
       "\n",
       "       secondary_cleaner.state.floatbank5_b_air  \\\n",
       "count                              16775.000000   \n",
       "mean                                  12.377241   \n",
       "std                                    6.219989   \n",
       "min                                    0.427084   \n",
       "25%                                    8.925586   \n",
       "50%                                   11.092839   \n",
       "75%                                   15.979467   \n",
       "max                                   39.846228   \n",
       "\n",
       "       secondary_cleaner.state.floatbank5_b_level  \\\n",
       "count                                16776.000000   \n",
       "mean                                  -498.956257   \n",
       "std                                     82.146207   \n",
       "min                                   -800.258209   \n",
       "25%                                   -500.147603   \n",
       "50%                                   -499.933330   \n",
       "75%                                   -498.418000   \n",
       "max                                   -120.190931   \n",
       "\n",
       "       secondary_cleaner.state.floatbank6_a_air  \\\n",
       "count                              16757.000000   \n",
       "mean                                  18.429208   \n",
       "std                                    6.958294   \n",
       "min                                    0.024270   \n",
       "25%                                   13.977626   \n",
       "50%                                   18.034960   \n",
       "75%                                   24.984992   \n",
       "max                                   54.876806   \n",
       "\n",
       "       secondary_cleaner.state.floatbank6_a_level  \n",
       "count                                16775.000000  \n",
       "mean                                  -521.801826  \n",
       "std                                     77.170888  \n",
       "min                                   -810.473526  \n",
       "25%                                   -501.080595  \n",
       "50%                                   -500.109898  \n",
       "75%                                   -499.565540  \n",
       "max                                    -39.784927  \n",
       "\n",
       "[8 rows x 86 columns]"
      ]
     },
     "metadata": {},
     "output_type": "display_data"
    },
    {
     "name": "stdout",
     "output_type": "stream",
     "text": [
      "\n",
      "<class 'pandas.core.frame.DataFrame'>\n",
      "RangeIndex: 16860 entries, 0 to 16859\n",
      "Data columns (total 87 columns):\n",
      "date                                                  16860 non-null object\n",
      "final.output.concentrate_ag                           16788 non-null float64\n",
      "final.output.concentrate_pb                           16788 non-null float64\n",
      "final.output.concentrate_sol                          16490 non-null float64\n",
      "final.output.concentrate_au                           16789 non-null float64\n",
      "final.output.recovery                                 15339 non-null float64\n",
      "final.output.tail_ag                                  16794 non-null float64\n",
      "final.output.tail_pb                                  16677 non-null float64\n",
      "final.output.tail_sol                                 16715 non-null float64\n",
      "final.output.tail_au                                  16794 non-null float64\n",
      "primary_cleaner.input.sulfate                         15553 non-null float64\n",
      "primary_cleaner.input.depressant                      15598 non-null float64\n",
      "primary_cleaner.input.feed_size                       16860 non-null float64\n",
      "primary_cleaner.input.xanthate                        15875 non-null float64\n",
      "primary_cleaner.output.concentrate_ag                 16778 non-null float64\n",
      "primary_cleaner.output.concentrate_pb                 16502 non-null float64\n",
      "primary_cleaner.output.concentrate_sol                16224 non-null float64\n",
      "primary_cleaner.output.concentrate_au                 16778 non-null float64\n",
      "primary_cleaner.output.tail_ag                        16777 non-null float64\n",
      "primary_cleaner.output.tail_pb                        16761 non-null float64\n",
      "primary_cleaner.output.tail_sol                       16579 non-null float64\n",
      "primary_cleaner.output.tail_au                        16777 non-null float64\n",
      "primary_cleaner.state.floatbank8_a_air                16820 non-null float64\n",
      "primary_cleaner.state.floatbank8_a_level              16827 non-null float64\n",
      "primary_cleaner.state.floatbank8_b_air                16820 non-null float64\n",
      "primary_cleaner.state.floatbank8_b_level              16833 non-null float64\n",
      "primary_cleaner.state.floatbank8_c_air                16822 non-null float64\n",
      "primary_cleaner.state.floatbank8_c_level              16833 non-null float64\n",
      "primary_cleaner.state.floatbank8_d_air                16821 non-null float64\n",
      "primary_cleaner.state.floatbank8_d_level              16833 non-null float64\n",
      "rougher.calculation.sulfate_to_au_concentrate         16833 non-null float64\n",
      "rougher.calculation.floatbank10_sulfate_to_au_feed    16833 non-null float64\n",
      "rougher.calculation.floatbank11_sulfate_to_au_feed    16833 non-null float64\n",
      "rougher.calculation.au_pb_ratio                       15618 non-null float64\n",
      "rougher.input.feed_ag                                 16778 non-null float64\n",
      "rougher.input.feed_pb                                 16632 non-null float64\n",
      "rougher.input.feed_rate                               16347 non-null float64\n",
      "rougher.input.feed_size                               16443 non-null float64\n",
      "rougher.input.feed_sol                                16568 non-null float64\n",
      "rougher.input.feed_au                                 16777 non-null float64\n",
      "rougher.input.floatbank10_sulfate                     15816 non-null float64\n",
      "rougher.input.floatbank10_xanthate                    16514 non-null float64\n",
      "rougher.input.floatbank11_sulfate                     16237 non-null float64\n",
      "rougher.input.floatbank11_xanthate                    14956 non-null float64\n",
      "rougher.output.concentrate_ag                         16778 non-null float64\n",
      "rougher.output.concentrate_pb                         16778 non-null float64\n",
      "rougher.output.concentrate_sol                        16698 non-null float64\n",
      "rougher.output.concentrate_au                         16778 non-null float64\n",
      "rougher.output.recovery                               14287 non-null float64\n",
      "rougher.output.tail_ag                                14610 non-null float64\n",
      "rougher.output.tail_pb                                16778 non-null float64\n",
      "rougher.output.tail_sol                               14611 non-null float64\n",
      "rougher.output.tail_au                                14611 non-null float64\n",
      "rougher.state.floatbank10_a_air                       16807 non-null float64\n",
      "rougher.state.floatbank10_a_level                     16807 non-null float64\n",
      "rougher.state.floatbank10_b_air                       16807 non-null float64\n",
      "rougher.state.floatbank10_b_level                     16807 non-null float64\n",
      "rougher.state.floatbank10_c_air                       16807 non-null float64\n",
      "rougher.state.floatbank10_c_level                     16814 non-null float64\n",
      "rougher.state.floatbank10_d_air                       16802 non-null float64\n",
      "rougher.state.floatbank10_d_level                     16809 non-null float64\n",
      "rougher.state.floatbank10_e_air                       16257 non-null float64\n",
      "rougher.state.floatbank10_e_level                     16809 non-null float64\n",
      "rougher.state.floatbank10_f_air                       16802 non-null float64\n",
      "rougher.state.floatbank10_f_level                     16802 non-null float64\n",
      "secondary_cleaner.output.tail_ag                      16776 non-null float64\n",
      "secondary_cleaner.output.tail_pb                      16764 non-null float64\n",
      "secondary_cleaner.output.tail_sol                     14874 non-null float64\n",
      "secondary_cleaner.output.tail_au                      16778 non-null float64\n",
      "secondary_cleaner.state.floatbank2_a_air              16497 non-null float64\n",
      "secondary_cleaner.state.floatbank2_a_level            16751 non-null float64\n",
      "secondary_cleaner.state.floatbank2_b_air              16705 non-null float64\n",
      "secondary_cleaner.state.floatbank2_b_level            16748 non-null float64\n",
      "secondary_cleaner.state.floatbank3_a_air              16763 non-null float64\n",
      "secondary_cleaner.state.floatbank3_a_level            16747 non-null float64\n",
      "secondary_cleaner.state.floatbank3_b_air              16752 non-null float64\n",
      "secondary_cleaner.state.floatbank3_b_level            16750 non-null float64\n",
      "secondary_cleaner.state.floatbank4_a_air              16731 non-null float64\n",
      "secondary_cleaner.state.floatbank4_a_level            16747 non-null float64\n",
      "secondary_cleaner.state.floatbank4_b_air              16768 non-null float64\n",
      "secondary_cleaner.state.floatbank4_b_level            16767 non-null float64\n",
      "secondary_cleaner.state.floatbank5_a_air              16775 non-null float64\n",
      "secondary_cleaner.state.floatbank5_a_level            16775 non-null float64\n",
      "secondary_cleaner.state.floatbank5_b_air              16775 non-null float64\n",
      "secondary_cleaner.state.floatbank5_b_level            16776 non-null float64\n",
      "secondary_cleaner.state.floatbank6_a_air              16757 non-null float64\n",
      "secondary_cleaner.state.floatbank6_a_level            16775 non-null float64\n",
      "dtypes: float64(86), object(1)\n",
      "memory usage: 11.2+ MB\n"
     ]
    },
    {
     "data": {
      "text/plain": [
       "None"
      ]
     },
     "metadata": {},
     "output_type": "display_data"
    },
    {
     "name": "stdout",
     "output_type": "stream",
     "text": [
      "\n",
      "Количество дубликатов 0\n",
      "\n"
     ]
    },
    {
     "data": {
      "text/html": [
       "<div>\n",
       "<style scoped>\n",
       "    .dataframe tbody tr th:only-of-type {\n",
       "        vertical-align: middle;\n",
       "    }\n",
       "\n",
       "    .dataframe tbody tr th {\n",
       "        vertical-align: top;\n",
       "    }\n",
       "\n",
       "    .dataframe thead th {\n",
       "        text-align: right;\n",
       "    }\n",
       "</style>\n",
       "<table border=\"1\" class=\"dataframe\">\n",
       "  <thead>\n",
       "    <tr style=\"text-align: right;\">\n",
       "      <th></th>\n",
       "      <th>date</th>\n",
       "      <th>primary_cleaner.input.sulfate</th>\n",
       "      <th>primary_cleaner.input.depressant</th>\n",
       "      <th>primary_cleaner.input.feed_size</th>\n",
       "      <th>primary_cleaner.input.xanthate</th>\n",
       "      <th>primary_cleaner.state.floatbank8_a_air</th>\n",
       "      <th>primary_cleaner.state.floatbank8_a_level</th>\n",
       "      <th>primary_cleaner.state.floatbank8_b_air</th>\n",
       "      <th>primary_cleaner.state.floatbank8_b_level</th>\n",
       "      <th>primary_cleaner.state.floatbank8_c_air</th>\n",
       "      <th>...</th>\n",
       "      <th>secondary_cleaner.state.floatbank4_a_air</th>\n",
       "      <th>secondary_cleaner.state.floatbank4_a_level</th>\n",
       "      <th>secondary_cleaner.state.floatbank4_b_air</th>\n",
       "      <th>secondary_cleaner.state.floatbank4_b_level</th>\n",
       "      <th>secondary_cleaner.state.floatbank5_a_air</th>\n",
       "      <th>secondary_cleaner.state.floatbank5_a_level</th>\n",
       "      <th>secondary_cleaner.state.floatbank5_b_air</th>\n",
       "      <th>secondary_cleaner.state.floatbank5_b_level</th>\n",
       "      <th>secondary_cleaner.state.floatbank6_a_air</th>\n",
       "      <th>secondary_cleaner.state.floatbank6_a_level</th>\n",
       "    </tr>\n",
       "  </thead>\n",
       "  <tbody>\n",
       "    <tr>\n",
       "      <td>0</td>\n",
       "      <td>2016-09-01 00:59:59</td>\n",
       "      <td>210.800909</td>\n",
       "      <td>14.993118</td>\n",
       "      <td>8.080000</td>\n",
       "      <td>1.005021</td>\n",
       "      <td>1398.981301</td>\n",
       "      <td>-500.225577</td>\n",
       "      <td>1399.144926</td>\n",
       "      <td>-499.919735</td>\n",
       "      <td>1400.102998</td>\n",
       "      <td>...</td>\n",
       "      <td>12.023554</td>\n",
       "      <td>-497.795834</td>\n",
       "      <td>8.016656</td>\n",
       "      <td>-501.289139</td>\n",
       "      <td>7.946562</td>\n",
       "      <td>-432.317850</td>\n",
       "      <td>4.872511</td>\n",
       "      <td>-500.037437</td>\n",
       "      <td>26.705889</td>\n",
       "      <td>-499.709414</td>\n",
       "    </tr>\n",
       "    <tr>\n",
       "      <td>1</td>\n",
       "      <td>2016-09-01 01:59:59</td>\n",
       "      <td>215.392455</td>\n",
       "      <td>14.987471</td>\n",
       "      <td>8.080000</td>\n",
       "      <td>0.990469</td>\n",
       "      <td>1398.777912</td>\n",
       "      <td>-500.057435</td>\n",
       "      <td>1398.055362</td>\n",
       "      <td>-499.778182</td>\n",
       "      <td>1396.151033</td>\n",
       "      <td>...</td>\n",
       "      <td>12.058140</td>\n",
       "      <td>-498.695773</td>\n",
       "      <td>8.130979</td>\n",
       "      <td>-499.634209</td>\n",
       "      <td>7.958270</td>\n",
       "      <td>-525.839648</td>\n",
       "      <td>4.878850</td>\n",
       "      <td>-500.162375</td>\n",
       "      <td>25.019940</td>\n",
       "      <td>-499.819438</td>\n",
       "    </tr>\n",
       "    <tr>\n",
       "      <td>2</td>\n",
       "      <td>2016-09-01 02:59:59</td>\n",
       "      <td>215.259946</td>\n",
       "      <td>12.884934</td>\n",
       "      <td>7.786667</td>\n",
       "      <td>0.996043</td>\n",
       "      <td>1398.493666</td>\n",
       "      <td>-500.868360</td>\n",
       "      <td>1398.860436</td>\n",
       "      <td>-499.764529</td>\n",
       "      <td>1398.075709</td>\n",
       "      <td>...</td>\n",
       "      <td>11.962366</td>\n",
       "      <td>-498.767484</td>\n",
       "      <td>8.096893</td>\n",
       "      <td>-500.827423</td>\n",
       "      <td>8.071056</td>\n",
       "      <td>-500.801673</td>\n",
       "      <td>4.905125</td>\n",
       "      <td>-499.828510</td>\n",
       "      <td>24.994862</td>\n",
       "      <td>-500.622559</td>\n",
       "    </tr>\n",
       "    <tr>\n",
       "      <td>3</td>\n",
       "      <td>2016-09-01 03:59:59</td>\n",
       "      <td>215.336236</td>\n",
       "      <td>12.006805</td>\n",
       "      <td>7.640000</td>\n",
       "      <td>0.863514</td>\n",
       "      <td>1399.618111</td>\n",
       "      <td>-498.863574</td>\n",
       "      <td>1397.440120</td>\n",
       "      <td>-499.211024</td>\n",
       "      <td>1400.129303</td>\n",
       "      <td>...</td>\n",
       "      <td>12.033091</td>\n",
       "      <td>-498.350935</td>\n",
       "      <td>8.074946</td>\n",
       "      <td>-499.474407</td>\n",
       "      <td>7.897085</td>\n",
       "      <td>-500.868509</td>\n",
       "      <td>4.931400</td>\n",
       "      <td>-499.963623</td>\n",
       "      <td>24.948919</td>\n",
       "      <td>-498.709987</td>\n",
       "    </tr>\n",
       "    <tr>\n",
       "      <td>4</td>\n",
       "      <td>2016-09-01 04:59:59</td>\n",
       "      <td>199.099327</td>\n",
       "      <td>10.682530</td>\n",
       "      <td>7.530000</td>\n",
       "      <td>0.805575</td>\n",
       "      <td>1401.268123</td>\n",
       "      <td>-500.808305</td>\n",
       "      <td>1398.128818</td>\n",
       "      <td>-499.504543</td>\n",
       "      <td>1402.172226</td>\n",
       "      <td>...</td>\n",
       "      <td>12.025367</td>\n",
       "      <td>-500.786497</td>\n",
       "      <td>8.054678</td>\n",
       "      <td>-500.397500</td>\n",
       "      <td>8.107890</td>\n",
       "      <td>-509.526725</td>\n",
       "      <td>4.957674</td>\n",
       "      <td>-500.360026</td>\n",
       "      <td>25.003331</td>\n",
       "      <td>-500.856333</td>\n",
       "    </tr>\n",
       "  </tbody>\n",
       "</table>\n",
       "<p>5 rows × 53 columns</p>\n",
       "</div>"
      ],
      "text/plain": [
       "                  date  primary_cleaner.input.sulfate  \\\n",
       "0  2016-09-01 00:59:59                     210.800909   \n",
       "1  2016-09-01 01:59:59                     215.392455   \n",
       "2  2016-09-01 02:59:59                     215.259946   \n",
       "3  2016-09-01 03:59:59                     215.336236   \n",
       "4  2016-09-01 04:59:59                     199.099327   \n",
       "\n",
       "   primary_cleaner.input.depressant  primary_cleaner.input.feed_size  \\\n",
       "0                         14.993118                         8.080000   \n",
       "1                         14.987471                         8.080000   \n",
       "2                         12.884934                         7.786667   \n",
       "3                         12.006805                         7.640000   \n",
       "4                         10.682530                         7.530000   \n",
       "\n",
       "   primary_cleaner.input.xanthate  primary_cleaner.state.floatbank8_a_air  \\\n",
       "0                        1.005021                             1398.981301   \n",
       "1                        0.990469                             1398.777912   \n",
       "2                        0.996043                             1398.493666   \n",
       "3                        0.863514                             1399.618111   \n",
       "4                        0.805575                             1401.268123   \n",
       "\n",
       "   primary_cleaner.state.floatbank8_a_level  \\\n",
       "0                               -500.225577   \n",
       "1                               -500.057435   \n",
       "2                               -500.868360   \n",
       "3                               -498.863574   \n",
       "4                               -500.808305   \n",
       "\n",
       "   primary_cleaner.state.floatbank8_b_air  \\\n",
       "0                             1399.144926   \n",
       "1                             1398.055362   \n",
       "2                             1398.860436   \n",
       "3                             1397.440120   \n",
       "4                             1398.128818   \n",
       "\n",
       "   primary_cleaner.state.floatbank8_b_level  \\\n",
       "0                               -499.919735   \n",
       "1                               -499.778182   \n",
       "2                               -499.764529   \n",
       "3                               -499.211024   \n",
       "4                               -499.504543   \n",
       "\n",
       "   primary_cleaner.state.floatbank8_c_air  ...  \\\n",
       "0                             1400.102998  ...   \n",
       "1                             1396.151033  ...   \n",
       "2                             1398.075709  ...   \n",
       "3                             1400.129303  ...   \n",
       "4                             1402.172226  ...   \n",
       "\n",
       "   secondary_cleaner.state.floatbank4_a_air  \\\n",
       "0                                 12.023554   \n",
       "1                                 12.058140   \n",
       "2                                 11.962366   \n",
       "3                                 12.033091   \n",
       "4                                 12.025367   \n",
       "\n",
       "   secondary_cleaner.state.floatbank4_a_level  \\\n",
       "0                                 -497.795834   \n",
       "1                                 -498.695773   \n",
       "2                                 -498.767484   \n",
       "3                                 -498.350935   \n",
       "4                                 -500.786497   \n",
       "\n",
       "   secondary_cleaner.state.floatbank4_b_air  \\\n",
       "0                                  8.016656   \n",
       "1                                  8.130979   \n",
       "2                                  8.096893   \n",
       "3                                  8.074946   \n",
       "4                                  8.054678   \n",
       "\n",
       "   secondary_cleaner.state.floatbank4_b_level  \\\n",
       "0                                 -501.289139   \n",
       "1                                 -499.634209   \n",
       "2                                 -500.827423   \n",
       "3                                 -499.474407   \n",
       "4                                 -500.397500   \n",
       "\n",
       "   secondary_cleaner.state.floatbank5_a_air  \\\n",
       "0                                  7.946562   \n",
       "1                                  7.958270   \n",
       "2                                  8.071056   \n",
       "3                                  7.897085   \n",
       "4                                  8.107890   \n",
       "\n",
       "   secondary_cleaner.state.floatbank5_a_level  \\\n",
       "0                                 -432.317850   \n",
       "1                                 -525.839648   \n",
       "2                                 -500.801673   \n",
       "3                                 -500.868509   \n",
       "4                                 -509.526725   \n",
       "\n",
       "   secondary_cleaner.state.floatbank5_b_air  \\\n",
       "0                                  4.872511   \n",
       "1                                  4.878850   \n",
       "2                                  4.905125   \n",
       "3                                  4.931400   \n",
       "4                                  4.957674   \n",
       "\n",
       "   secondary_cleaner.state.floatbank5_b_level  \\\n",
       "0                                 -500.037437   \n",
       "1                                 -500.162375   \n",
       "2                                 -499.828510   \n",
       "3                                 -499.963623   \n",
       "4                                 -500.360026   \n",
       "\n",
       "   secondary_cleaner.state.floatbank6_a_air  \\\n",
       "0                                 26.705889   \n",
       "1                                 25.019940   \n",
       "2                                 24.994862   \n",
       "3                                 24.948919   \n",
       "4                                 25.003331   \n",
       "\n",
       "   secondary_cleaner.state.floatbank6_a_level  \n",
       "0                                 -499.709414  \n",
       "1                                 -499.819438  \n",
       "2                                 -500.622559  \n",
       "3                                 -498.709987  \n",
       "4                                 -500.856333  \n",
       "\n",
       "[5 rows x 53 columns]"
      ]
     },
     "metadata": {},
     "output_type": "display_data"
    },
    {
     "name": "stdout",
     "output_type": "stream",
     "text": [
      "\n"
     ]
    },
    {
     "data": {
      "text/html": [
       "<div>\n",
       "<style scoped>\n",
       "    .dataframe tbody tr th:only-of-type {\n",
       "        vertical-align: middle;\n",
       "    }\n",
       "\n",
       "    .dataframe tbody tr th {\n",
       "        vertical-align: top;\n",
       "    }\n",
       "\n",
       "    .dataframe thead th {\n",
       "        text-align: right;\n",
       "    }\n",
       "</style>\n",
       "<table border=\"1\" class=\"dataframe\">\n",
       "  <thead>\n",
       "    <tr style=\"text-align: right;\">\n",
       "      <th></th>\n",
       "      <th>primary_cleaner.input.sulfate</th>\n",
       "      <th>primary_cleaner.input.depressant</th>\n",
       "      <th>primary_cleaner.input.feed_size</th>\n",
       "      <th>primary_cleaner.input.xanthate</th>\n",
       "      <th>primary_cleaner.state.floatbank8_a_air</th>\n",
       "      <th>primary_cleaner.state.floatbank8_a_level</th>\n",
       "      <th>primary_cleaner.state.floatbank8_b_air</th>\n",
       "      <th>primary_cleaner.state.floatbank8_b_level</th>\n",
       "      <th>primary_cleaner.state.floatbank8_c_air</th>\n",
       "      <th>primary_cleaner.state.floatbank8_c_level</th>\n",
       "      <th>...</th>\n",
       "      <th>secondary_cleaner.state.floatbank4_a_air</th>\n",
       "      <th>secondary_cleaner.state.floatbank4_a_level</th>\n",
       "      <th>secondary_cleaner.state.floatbank4_b_air</th>\n",
       "      <th>secondary_cleaner.state.floatbank4_b_level</th>\n",
       "      <th>secondary_cleaner.state.floatbank5_a_air</th>\n",
       "      <th>secondary_cleaner.state.floatbank5_a_level</th>\n",
       "      <th>secondary_cleaner.state.floatbank5_b_air</th>\n",
       "      <th>secondary_cleaner.state.floatbank5_b_level</th>\n",
       "      <th>secondary_cleaner.state.floatbank6_a_air</th>\n",
       "      <th>secondary_cleaner.state.floatbank6_a_level</th>\n",
       "    </tr>\n",
       "  </thead>\n",
       "  <tbody>\n",
       "    <tr>\n",
       "      <td>count</td>\n",
       "      <td>5554.000000</td>\n",
       "      <td>5572.000000</td>\n",
       "      <td>5856.000000</td>\n",
       "      <td>5690.000000</td>\n",
       "      <td>5840.000000</td>\n",
       "      <td>5840.000000</td>\n",
       "      <td>5840.000000</td>\n",
       "      <td>5840.000000</td>\n",
       "      <td>5840.000000</td>\n",
       "      <td>5840.000000</td>\n",
       "      <td>...</td>\n",
       "      <td>5840.000000</td>\n",
       "      <td>5840.000000</td>\n",
       "      <td>5840.000000</td>\n",
       "      <td>5840.000000</td>\n",
       "      <td>5840.000000</td>\n",
       "      <td>5840.000000</td>\n",
       "      <td>5840.000000</td>\n",
       "      <td>5840.000000</td>\n",
       "      <td>5840.000000</td>\n",
       "      <td>5840.000000</td>\n",
       "    </tr>\n",
       "    <tr>\n",
       "      <td>mean</td>\n",
       "      <td>170.515243</td>\n",
       "      <td>8.482873</td>\n",
       "      <td>7.264651</td>\n",
       "      <td>1.321420</td>\n",
       "      <td>1481.990241</td>\n",
       "      <td>-509.057796</td>\n",
       "      <td>1486.908670</td>\n",
       "      <td>-511.743956</td>\n",
       "      <td>1468.495216</td>\n",
       "      <td>-509.741212</td>\n",
       "      <td>...</td>\n",
       "      <td>15.636031</td>\n",
       "      <td>-516.266074</td>\n",
       "      <td>13.145702</td>\n",
       "      <td>-476.338907</td>\n",
       "      <td>12.308967</td>\n",
       "      <td>-512.208126</td>\n",
       "      <td>9.470986</td>\n",
       "      <td>-505.017827</td>\n",
       "      <td>16.678722</td>\n",
       "      <td>-512.351694</td>\n",
       "    </tr>\n",
       "    <tr>\n",
       "      <td>std</td>\n",
       "      <td>49.608602</td>\n",
       "      <td>3.353105</td>\n",
       "      <td>0.611526</td>\n",
       "      <td>0.693246</td>\n",
       "      <td>310.453166</td>\n",
       "      <td>61.339256</td>\n",
       "      <td>313.224286</td>\n",
       "      <td>67.139074</td>\n",
       "      <td>309.980748</td>\n",
       "      <td>62.671873</td>\n",
       "      <td>...</td>\n",
       "      <td>4.660835</td>\n",
       "      <td>62.756748</td>\n",
       "      <td>4.304086</td>\n",
       "      <td>105.549424</td>\n",
       "      <td>3.762827</td>\n",
       "      <td>58.864651</td>\n",
       "      <td>3.312471</td>\n",
       "      <td>68.785898</td>\n",
       "      <td>5.404514</td>\n",
       "      <td>69.919839</td>\n",
       "    </tr>\n",
       "    <tr>\n",
       "      <td>min</td>\n",
       "      <td>0.000103</td>\n",
       "      <td>0.000031</td>\n",
       "      <td>5.650000</td>\n",
       "      <td>0.000003</td>\n",
       "      <td>0.000000</td>\n",
       "      <td>-799.773788</td>\n",
       "      <td>0.000000</td>\n",
       "      <td>-800.029078</td>\n",
       "      <td>0.000000</td>\n",
       "      <td>-799.995127</td>\n",
       "      <td>...</td>\n",
       "      <td>0.000000</td>\n",
       "      <td>-799.798523</td>\n",
       "      <td>0.000000</td>\n",
       "      <td>-800.836914</td>\n",
       "      <td>-0.223393</td>\n",
       "      <td>-799.661076</td>\n",
       "      <td>0.528083</td>\n",
       "      <td>-800.220337</td>\n",
       "      <td>-0.079426</td>\n",
       "      <td>-809.859706</td>\n",
       "    </tr>\n",
       "    <tr>\n",
       "      <td>25%</td>\n",
       "      <td>143.340022</td>\n",
       "      <td>6.411500</td>\n",
       "      <td>6.885625</td>\n",
       "      <td>0.888769</td>\n",
       "      <td>1497.190681</td>\n",
       "      <td>-500.455211</td>\n",
       "      <td>1497.150234</td>\n",
       "      <td>-500.936639</td>\n",
       "      <td>1437.050321</td>\n",
       "      <td>-501.300441</td>\n",
       "      <td>...</td>\n",
       "      <td>12.057838</td>\n",
       "      <td>-501.054741</td>\n",
       "      <td>11.880119</td>\n",
       "      <td>-500.419113</td>\n",
       "      <td>10.123459</td>\n",
       "      <td>-500.879383</td>\n",
       "      <td>7.991208</td>\n",
       "      <td>-500.223089</td>\n",
       "      <td>13.012422</td>\n",
       "      <td>-500.833821</td>\n",
       "    </tr>\n",
       "    <tr>\n",
       "      <td>50%</td>\n",
       "      <td>176.103893</td>\n",
       "      <td>8.023252</td>\n",
       "      <td>7.259333</td>\n",
       "      <td>1.183362</td>\n",
       "      <td>1554.659783</td>\n",
       "      <td>-499.997402</td>\n",
       "      <td>1553.268084</td>\n",
       "      <td>-500.066588</td>\n",
       "      <td>1546.160672</td>\n",
       "      <td>-500.079537</td>\n",
       "      <td>...</td>\n",
       "      <td>17.001867</td>\n",
       "      <td>-500.160145</td>\n",
       "      <td>14.952102</td>\n",
       "      <td>-499.644328</td>\n",
       "      <td>12.062877</td>\n",
       "      <td>-500.047621</td>\n",
       "      <td>9.980774</td>\n",
       "      <td>-500.001338</td>\n",
       "      <td>16.007242</td>\n",
       "      <td>-500.041085</td>\n",
       "    </tr>\n",
       "    <tr>\n",
       "      <td>75%</td>\n",
       "      <td>207.240761</td>\n",
       "      <td>10.017725</td>\n",
       "      <td>7.650000</td>\n",
       "      <td>1.763797</td>\n",
       "      <td>1601.681656</td>\n",
       "      <td>-499.575313</td>\n",
       "      <td>1601.784707</td>\n",
       "      <td>-499.323361</td>\n",
       "      <td>1600.785573</td>\n",
       "      <td>-499.009545</td>\n",
       "      <td>...</td>\n",
       "      <td>18.030985</td>\n",
       "      <td>-499.441529</td>\n",
       "      <td>15.940011</td>\n",
       "      <td>-401.523664</td>\n",
       "      <td>15.017881</td>\n",
       "      <td>-499.297033</td>\n",
       "      <td>11.992176</td>\n",
       "      <td>-499.722835</td>\n",
       "      <td>21.009076</td>\n",
       "      <td>-499.395621</td>\n",
       "    </tr>\n",
       "    <tr>\n",
       "      <td>max</td>\n",
       "      <td>274.409626</td>\n",
       "      <td>40.024582</td>\n",
       "      <td>15.500000</td>\n",
       "      <td>5.433169</td>\n",
       "      <td>2212.432090</td>\n",
       "      <td>-57.195404</td>\n",
       "      <td>1975.147923</td>\n",
       "      <td>-142.527229</td>\n",
       "      <td>1715.053773</td>\n",
       "      <td>-150.937035</td>\n",
       "      <td>...</td>\n",
       "      <td>30.051797</td>\n",
       "      <td>-401.565212</td>\n",
       "      <td>31.269706</td>\n",
       "      <td>-6.506986</td>\n",
       "      <td>25.258848</td>\n",
       "      <td>-244.483566</td>\n",
       "      <td>14.090194</td>\n",
       "      <td>-126.463446</td>\n",
       "      <td>26.705889</td>\n",
       "      <td>-29.093593</td>\n",
       "    </tr>\n",
       "  </tbody>\n",
       "</table>\n",
       "<p>8 rows × 52 columns</p>\n",
       "</div>"
      ],
      "text/plain": [
       "       primary_cleaner.input.sulfate  primary_cleaner.input.depressant  \\\n",
       "count                    5554.000000                       5572.000000   \n",
       "mean                      170.515243                          8.482873   \n",
       "std                        49.608602                          3.353105   \n",
       "min                         0.000103                          0.000031   \n",
       "25%                       143.340022                          6.411500   \n",
       "50%                       176.103893                          8.023252   \n",
       "75%                       207.240761                         10.017725   \n",
       "max                       274.409626                         40.024582   \n",
       "\n",
       "       primary_cleaner.input.feed_size  primary_cleaner.input.xanthate  \\\n",
       "count                      5856.000000                     5690.000000   \n",
       "mean                          7.264651                        1.321420   \n",
       "std                           0.611526                        0.693246   \n",
       "min                           5.650000                        0.000003   \n",
       "25%                           6.885625                        0.888769   \n",
       "50%                           7.259333                        1.183362   \n",
       "75%                           7.650000                        1.763797   \n",
       "max                          15.500000                        5.433169   \n",
       "\n",
       "       primary_cleaner.state.floatbank8_a_air  \\\n",
       "count                             5840.000000   \n",
       "mean                              1481.990241   \n",
       "std                                310.453166   \n",
       "min                                  0.000000   \n",
       "25%                               1497.190681   \n",
       "50%                               1554.659783   \n",
       "75%                               1601.681656   \n",
       "max                               2212.432090   \n",
       "\n",
       "       primary_cleaner.state.floatbank8_a_level  \\\n",
       "count                               5840.000000   \n",
       "mean                                -509.057796   \n",
       "std                                   61.339256   \n",
       "min                                 -799.773788   \n",
       "25%                                 -500.455211   \n",
       "50%                                 -499.997402   \n",
       "75%                                 -499.575313   \n",
       "max                                  -57.195404   \n",
       "\n",
       "       primary_cleaner.state.floatbank8_b_air  \\\n",
       "count                             5840.000000   \n",
       "mean                              1486.908670   \n",
       "std                                313.224286   \n",
       "min                                  0.000000   \n",
       "25%                               1497.150234   \n",
       "50%                               1553.268084   \n",
       "75%                               1601.784707   \n",
       "max                               1975.147923   \n",
       "\n",
       "       primary_cleaner.state.floatbank8_b_level  \\\n",
       "count                               5840.000000   \n",
       "mean                                -511.743956   \n",
       "std                                   67.139074   \n",
       "min                                 -800.029078   \n",
       "25%                                 -500.936639   \n",
       "50%                                 -500.066588   \n",
       "75%                                 -499.323361   \n",
       "max                                 -142.527229   \n",
       "\n",
       "       primary_cleaner.state.floatbank8_c_air  \\\n",
       "count                             5840.000000   \n",
       "mean                              1468.495216   \n",
       "std                                309.980748   \n",
       "min                                  0.000000   \n",
       "25%                               1437.050321   \n",
       "50%                               1546.160672   \n",
       "75%                               1600.785573   \n",
       "max                               1715.053773   \n",
       "\n",
       "       primary_cleaner.state.floatbank8_c_level  ...  \\\n",
       "count                               5840.000000  ...   \n",
       "mean                                -509.741212  ...   \n",
       "std                                   62.671873  ...   \n",
       "min                                 -799.995127  ...   \n",
       "25%                                 -501.300441  ...   \n",
       "50%                                 -500.079537  ...   \n",
       "75%                                 -499.009545  ...   \n",
       "max                                 -150.937035  ...   \n",
       "\n",
       "       secondary_cleaner.state.floatbank4_a_air  \\\n",
       "count                               5840.000000   \n",
       "mean                                  15.636031   \n",
       "std                                    4.660835   \n",
       "min                                    0.000000   \n",
       "25%                                   12.057838   \n",
       "50%                                   17.001867   \n",
       "75%                                   18.030985   \n",
       "max                                   30.051797   \n",
       "\n",
       "       secondary_cleaner.state.floatbank4_a_level  \\\n",
       "count                                 5840.000000   \n",
       "mean                                  -516.266074   \n",
       "std                                     62.756748   \n",
       "min                                   -799.798523   \n",
       "25%                                   -501.054741   \n",
       "50%                                   -500.160145   \n",
       "75%                                   -499.441529   \n",
       "max                                   -401.565212   \n",
       "\n",
       "       secondary_cleaner.state.floatbank4_b_air  \\\n",
       "count                               5840.000000   \n",
       "mean                                  13.145702   \n",
       "std                                    4.304086   \n",
       "min                                    0.000000   \n",
       "25%                                   11.880119   \n",
       "50%                                   14.952102   \n",
       "75%                                   15.940011   \n",
       "max                                   31.269706   \n",
       "\n",
       "       secondary_cleaner.state.floatbank4_b_level  \\\n",
       "count                                 5840.000000   \n",
       "mean                                  -476.338907   \n",
       "std                                    105.549424   \n",
       "min                                   -800.836914   \n",
       "25%                                   -500.419113   \n",
       "50%                                   -499.644328   \n",
       "75%                                   -401.523664   \n",
       "max                                     -6.506986   \n",
       "\n",
       "       secondary_cleaner.state.floatbank5_a_air  \\\n",
       "count                               5840.000000   \n",
       "mean                                  12.308967   \n",
       "std                                    3.762827   \n",
       "min                                   -0.223393   \n",
       "25%                                   10.123459   \n",
       "50%                                   12.062877   \n",
       "75%                                   15.017881   \n",
       "max                                   25.258848   \n",
       "\n",
       "       secondary_cleaner.state.floatbank5_a_level  \\\n",
       "count                                 5840.000000   \n",
       "mean                                  -512.208126   \n",
       "std                                     58.864651   \n",
       "min                                   -799.661076   \n",
       "25%                                   -500.879383   \n",
       "50%                                   -500.047621   \n",
       "75%                                   -499.297033   \n",
       "max                                   -244.483566   \n",
       "\n",
       "       secondary_cleaner.state.floatbank5_b_air  \\\n",
       "count                               5840.000000   \n",
       "mean                                   9.470986   \n",
       "std                                    3.312471   \n",
       "min                                    0.528083   \n",
       "25%                                    7.991208   \n",
       "50%                                    9.980774   \n",
       "75%                                   11.992176   \n",
       "max                                   14.090194   \n",
       "\n",
       "       secondary_cleaner.state.floatbank5_b_level  \\\n",
       "count                                 5840.000000   \n",
       "mean                                  -505.017827   \n",
       "std                                     68.785898   \n",
       "min                                   -800.220337   \n",
       "25%                                   -500.223089   \n",
       "50%                                   -500.001338   \n",
       "75%                                   -499.722835   \n",
       "max                                   -126.463446   \n",
       "\n",
       "       secondary_cleaner.state.floatbank6_a_air  \\\n",
       "count                               5840.000000   \n",
       "mean                                  16.678722   \n",
       "std                                    5.404514   \n",
       "min                                   -0.079426   \n",
       "25%                                   13.012422   \n",
       "50%                                   16.007242   \n",
       "75%                                   21.009076   \n",
       "max                                   26.705889   \n",
       "\n",
       "       secondary_cleaner.state.floatbank6_a_level  \n",
       "count                                 5840.000000  \n",
       "mean                                  -512.351694  \n",
       "std                                     69.919839  \n",
       "min                                   -809.859706  \n",
       "25%                                   -500.833821  \n",
       "50%                                   -500.041085  \n",
       "75%                                   -499.395621  \n",
       "max                                    -29.093593  \n",
       "\n",
       "[8 rows x 52 columns]"
      ]
     },
     "metadata": {},
     "output_type": "display_data"
    },
    {
     "name": "stdout",
     "output_type": "stream",
     "text": [
      "\n",
      "<class 'pandas.core.frame.DataFrame'>\n",
      "RangeIndex: 5856 entries, 0 to 5855\n",
      "Data columns (total 53 columns):\n",
      "date                                          5856 non-null object\n",
      "primary_cleaner.input.sulfate                 5554 non-null float64\n",
      "primary_cleaner.input.depressant              5572 non-null float64\n",
      "primary_cleaner.input.feed_size               5856 non-null float64\n",
      "primary_cleaner.input.xanthate                5690 non-null float64\n",
      "primary_cleaner.state.floatbank8_a_air        5840 non-null float64\n",
      "primary_cleaner.state.floatbank8_a_level      5840 non-null float64\n",
      "primary_cleaner.state.floatbank8_b_air        5840 non-null float64\n",
      "primary_cleaner.state.floatbank8_b_level      5840 non-null float64\n",
      "primary_cleaner.state.floatbank8_c_air        5840 non-null float64\n",
      "primary_cleaner.state.floatbank8_c_level      5840 non-null float64\n",
      "primary_cleaner.state.floatbank8_d_air        5840 non-null float64\n",
      "primary_cleaner.state.floatbank8_d_level      5840 non-null float64\n",
      "rougher.input.feed_ag                         5840 non-null float64\n",
      "rougher.input.feed_pb                         5840 non-null float64\n",
      "rougher.input.feed_rate                       5816 non-null float64\n",
      "rougher.input.feed_size                       5834 non-null float64\n",
      "rougher.input.feed_sol                        5789 non-null float64\n",
      "rougher.input.feed_au                         5840 non-null float64\n",
      "rougher.input.floatbank10_sulfate             5599 non-null float64\n",
      "rougher.input.floatbank10_xanthate            5733 non-null float64\n",
      "rougher.input.floatbank11_sulfate             5801 non-null float64\n",
      "rougher.input.floatbank11_xanthate            5503 non-null float64\n",
      "rougher.state.floatbank10_a_air               5839 non-null float64\n",
      "rougher.state.floatbank10_a_level             5840 non-null float64\n",
      "rougher.state.floatbank10_b_air               5839 non-null float64\n",
      "rougher.state.floatbank10_b_level             5840 non-null float64\n",
      "rougher.state.floatbank10_c_air               5839 non-null float64\n",
      "rougher.state.floatbank10_c_level             5840 non-null float64\n",
      "rougher.state.floatbank10_d_air               5839 non-null float64\n",
      "rougher.state.floatbank10_d_level             5840 non-null float64\n",
      "rougher.state.floatbank10_e_air               5839 non-null float64\n",
      "rougher.state.floatbank10_e_level             5840 non-null float64\n",
      "rougher.state.floatbank10_f_air               5839 non-null float64\n",
      "rougher.state.floatbank10_f_level             5840 non-null float64\n",
      "secondary_cleaner.state.floatbank2_a_air      5836 non-null float64\n",
      "secondary_cleaner.state.floatbank2_a_level    5840 non-null float64\n",
      "secondary_cleaner.state.floatbank2_b_air      5833 non-null float64\n",
      "secondary_cleaner.state.floatbank2_b_level    5840 non-null float64\n",
      "secondary_cleaner.state.floatbank3_a_air      5822 non-null float64\n",
      "secondary_cleaner.state.floatbank3_a_level    5840 non-null float64\n",
      "secondary_cleaner.state.floatbank3_b_air      5840 non-null float64\n",
      "secondary_cleaner.state.floatbank3_b_level    5840 non-null float64\n",
      "secondary_cleaner.state.floatbank4_a_air      5840 non-null float64\n",
      "secondary_cleaner.state.floatbank4_a_level    5840 non-null float64\n",
      "secondary_cleaner.state.floatbank4_b_air      5840 non-null float64\n",
      "secondary_cleaner.state.floatbank4_b_level    5840 non-null float64\n",
      "secondary_cleaner.state.floatbank5_a_air      5840 non-null float64\n",
      "secondary_cleaner.state.floatbank5_a_level    5840 non-null float64\n",
      "secondary_cleaner.state.floatbank5_b_air      5840 non-null float64\n",
      "secondary_cleaner.state.floatbank5_b_level    5840 non-null float64\n",
      "secondary_cleaner.state.floatbank6_a_air      5840 non-null float64\n",
      "secondary_cleaner.state.floatbank6_a_level    5840 non-null float64\n",
      "dtypes: float64(52), object(1)\n",
      "memory usage: 2.4+ MB\n"
     ]
    },
    {
     "data": {
      "text/plain": [
       "None"
      ]
     },
     "metadata": {},
     "output_type": "display_data"
    },
    {
     "name": "stdout",
     "output_type": "stream",
     "text": [
      "\n",
      "Количество дубликатов 0\n",
      "\n"
     ]
    },
    {
     "data": {
      "text/html": [
       "<div>\n",
       "<style scoped>\n",
       "    .dataframe tbody tr th:only-of-type {\n",
       "        vertical-align: middle;\n",
       "    }\n",
       "\n",
       "    .dataframe tbody tr th {\n",
       "        vertical-align: top;\n",
       "    }\n",
       "\n",
       "    .dataframe thead th {\n",
       "        text-align: right;\n",
       "    }\n",
       "</style>\n",
       "<table border=\"1\" class=\"dataframe\">\n",
       "  <thead>\n",
       "    <tr style=\"text-align: right;\">\n",
       "      <th></th>\n",
       "      <th>date</th>\n",
       "      <th>final.output.concentrate_ag</th>\n",
       "      <th>final.output.concentrate_pb</th>\n",
       "      <th>final.output.concentrate_sol</th>\n",
       "      <th>final.output.concentrate_au</th>\n",
       "      <th>final.output.recovery</th>\n",
       "      <th>final.output.tail_ag</th>\n",
       "      <th>final.output.tail_pb</th>\n",
       "      <th>final.output.tail_sol</th>\n",
       "      <th>final.output.tail_au</th>\n",
       "      <th>...</th>\n",
       "      <th>secondary_cleaner.state.floatbank4_a_air</th>\n",
       "      <th>secondary_cleaner.state.floatbank4_a_level</th>\n",
       "      <th>secondary_cleaner.state.floatbank4_b_air</th>\n",
       "      <th>secondary_cleaner.state.floatbank4_b_level</th>\n",
       "      <th>secondary_cleaner.state.floatbank5_a_air</th>\n",
       "      <th>secondary_cleaner.state.floatbank5_a_level</th>\n",
       "      <th>secondary_cleaner.state.floatbank5_b_air</th>\n",
       "      <th>secondary_cleaner.state.floatbank5_b_level</th>\n",
       "      <th>secondary_cleaner.state.floatbank6_a_air</th>\n",
       "      <th>secondary_cleaner.state.floatbank6_a_level</th>\n",
       "    </tr>\n",
       "  </thead>\n",
       "  <tbody>\n",
       "    <tr>\n",
       "      <td>0</td>\n",
       "      <td>2016-01-15 00:00:00</td>\n",
       "      <td>6.055403</td>\n",
       "      <td>9.889648</td>\n",
       "      <td>5.507324</td>\n",
       "      <td>42.192020</td>\n",
       "      <td>70.541216</td>\n",
       "      <td>10.411962</td>\n",
       "      <td>0.895447</td>\n",
       "      <td>16.904297</td>\n",
       "      <td>2.143149</td>\n",
       "      <td>...</td>\n",
       "      <td>14.016835</td>\n",
       "      <td>-502.488007</td>\n",
       "      <td>12.099931</td>\n",
       "      <td>-504.715942</td>\n",
       "      <td>9.925633</td>\n",
       "      <td>-498.310211</td>\n",
       "      <td>8.079666</td>\n",
       "      <td>-500.470978</td>\n",
       "      <td>14.151341</td>\n",
       "      <td>-605.841980</td>\n",
       "    </tr>\n",
       "    <tr>\n",
       "      <td>1</td>\n",
       "      <td>2016-01-15 01:00:00</td>\n",
       "      <td>6.029369</td>\n",
       "      <td>9.968944</td>\n",
       "      <td>5.257781</td>\n",
       "      <td>42.701629</td>\n",
       "      <td>69.266198</td>\n",
       "      <td>10.462676</td>\n",
       "      <td>0.927452</td>\n",
       "      <td>16.634514</td>\n",
       "      <td>2.224930</td>\n",
       "      <td>...</td>\n",
       "      <td>13.992281</td>\n",
       "      <td>-505.503262</td>\n",
       "      <td>11.950531</td>\n",
       "      <td>-501.331529</td>\n",
       "      <td>10.039245</td>\n",
       "      <td>-500.169983</td>\n",
       "      <td>7.984757</td>\n",
       "      <td>-500.582168</td>\n",
       "      <td>13.998353</td>\n",
       "      <td>-599.787184</td>\n",
       "    </tr>\n",
       "    <tr>\n",
       "      <td>2</td>\n",
       "      <td>2016-01-15 02:00:00</td>\n",
       "      <td>6.055926</td>\n",
       "      <td>10.213995</td>\n",
       "      <td>5.383759</td>\n",
       "      <td>42.657501</td>\n",
       "      <td>68.116445</td>\n",
       "      <td>10.507046</td>\n",
       "      <td>0.953716</td>\n",
       "      <td>16.208849</td>\n",
       "      <td>2.257889</td>\n",
       "      <td>...</td>\n",
       "      <td>14.015015</td>\n",
       "      <td>-502.520901</td>\n",
       "      <td>11.912783</td>\n",
       "      <td>-501.133383</td>\n",
       "      <td>10.070913</td>\n",
       "      <td>-500.129135</td>\n",
       "      <td>8.013877</td>\n",
       "      <td>-500.517572</td>\n",
       "      <td>14.028663</td>\n",
       "      <td>-601.427363</td>\n",
       "    </tr>\n",
       "    <tr>\n",
       "      <td>3</td>\n",
       "      <td>2016-01-15 03:00:00</td>\n",
       "      <td>6.047977</td>\n",
       "      <td>9.977019</td>\n",
       "      <td>4.858634</td>\n",
       "      <td>42.689819</td>\n",
       "      <td>68.347543</td>\n",
       "      <td>10.422762</td>\n",
       "      <td>0.883763</td>\n",
       "      <td>16.532835</td>\n",
       "      <td>2.146849</td>\n",
       "      <td>...</td>\n",
       "      <td>14.036510</td>\n",
       "      <td>-500.857308</td>\n",
       "      <td>11.999550</td>\n",
       "      <td>-501.193686</td>\n",
       "      <td>9.970366</td>\n",
       "      <td>-499.201640</td>\n",
       "      <td>7.977324</td>\n",
       "      <td>-500.255908</td>\n",
       "      <td>14.005551</td>\n",
       "      <td>-599.996129</td>\n",
       "    </tr>\n",
       "    <tr>\n",
       "      <td>4</td>\n",
       "      <td>2016-01-15 04:00:00</td>\n",
       "      <td>6.148599</td>\n",
       "      <td>10.142511</td>\n",
       "      <td>4.939416</td>\n",
       "      <td>42.774141</td>\n",
       "      <td>66.927016</td>\n",
       "      <td>10.360302</td>\n",
       "      <td>0.792826</td>\n",
       "      <td>16.525686</td>\n",
       "      <td>2.055292</td>\n",
       "      <td>...</td>\n",
       "      <td>14.027298</td>\n",
       "      <td>-499.838632</td>\n",
       "      <td>11.953070</td>\n",
       "      <td>-501.053894</td>\n",
       "      <td>9.925709</td>\n",
       "      <td>-501.686727</td>\n",
       "      <td>7.894242</td>\n",
       "      <td>-500.356035</td>\n",
       "      <td>13.996647</td>\n",
       "      <td>-601.496691</td>\n",
       "    </tr>\n",
       "  </tbody>\n",
       "</table>\n",
       "<p>5 rows × 87 columns</p>\n",
       "</div>"
      ],
      "text/plain": [
       "                  date  final.output.concentrate_ag  \\\n",
       "0  2016-01-15 00:00:00                     6.055403   \n",
       "1  2016-01-15 01:00:00                     6.029369   \n",
       "2  2016-01-15 02:00:00                     6.055926   \n",
       "3  2016-01-15 03:00:00                     6.047977   \n",
       "4  2016-01-15 04:00:00                     6.148599   \n",
       "\n",
       "   final.output.concentrate_pb  final.output.concentrate_sol  \\\n",
       "0                     9.889648                      5.507324   \n",
       "1                     9.968944                      5.257781   \n",
       "2                    10.213995                      5.383759   \n",
       "3                     9.977019                      4.858634   \n",
       "4                    10.142511                      4.939416   \n",
       "\n",
       "   final.output.concentrate_au  final.output.recovery  final.output.tail_ag  \\\n",
       "0                    42.192020              70.541216             10.411962   \n",
       "1                    42.701629              69.266198             10.462676   \n",
       "2                    42.657501              68.116445             10.507046   \n",
       "3                    42.689819              68.347543             10.422762   \n",
       "4                    42.774141              66.927016             10.360302   \n",
       "\n",
       "   final.output.tail_pb  final.output.tail_sol  final.output.tail_au  ...  \\\n",
       "0              0.895447              16.904297              2.143149  ...   \n",
       "1              0.927452              16.634514              2.224930  ...   \n",
       "2              0.953716              16.208849              2.257889  ...   \n",
       "3              0.883763              16.532835              2.146849  ...   \n",
       "4              0.792826              16.525686              2.055292  ...   \n",
       "\n",
       "   secondary_cleaner.state.floatbank4_a_air  \\\n",
       "0                                 14.016835   \n",
       "1                                 13.992281   \n",
       "2                                 14.015015   \n",
       "3                                 14.036510   \n",
       "4                                 14.027298   \n",
       "\n",
       "   secondary_cleaner.state.floatbank4_a_level  \\\n",
       "0                                 -502.488007   \n",
       "1                                 -505.503262   \n",
       "2                                 -502.520901   \n",
       "3                                 -500.857308   \n",
       "4                                 -499.838632   \n",
       "\n",
       "   secondary_cleaner.state.floatbank4_b_air  \\\n",
       "0                                 12.099931   \n",
       "1                                 11.950531   \n",
       "2                                 11.912783   \n",
       "3                                 11.999550   \n",
       "4                                 11.953070   \n",
       "\n",
       "   secondary_cleaner.state.floatbank4_b_level  \\\n",
       "0                                 -504.715942   \n",
       "1                                 -501.331529   \n",
       "2                                 -501.133383   \n",
       "3                                 -501.193686   \n",
       "4                                 -501.053894   \n",
       "\n",
       "   secondary_cleaner.state.floatbank5_a_air  \\\n",
       "0                                  9.925633   \n",
       "1                                 10.039245   \n",
       "2                                 10.070913   \n",
       "3                                  9.970366   \n",
       "4                                  9.925709   \n",
       "\n",
       "   secondary_cleaner.state.floatbank5_a_level  \\\n",
       "0                                 -498.310211   \n",
       "1                                 -500.169983   \n",
       "2                                 -500.129135   \n",
       "3                                 -499.201640   \n",
       "4                                 -501.686727   \n",
       "\n",
       "   secondary_cleaner.state.floatbank5_b_air  \\\n",
       "0                                  8.079666   \n",
       "1                                  7.984757   \n",
       "2                                  8.013877   \n",
       "3                                  7.977324   \n",
       "4                                  7.894242   \n",
       "\n",
       "   secondary_cleaner.state.floatbank5_b_level  \\\n",
       "0                                 -500.470978   \n",
       "1                                 -500.582168   \n",
       "2                                 -500.517572   \n",
       "3                                 -500.255908   \n",
       "4                                 -500.356035   \n",
       "\n",
       "   secondary_cleaner.state.floatbank6_a_air  \\\n",
       "0                                 14.151341   \n",
       "1                                 13.998353   \n",
       "2                                 14.028663   \n",
       "3                                 14.005551   \n",
       "4                                 13.996647   \n",
       "\n",
       "   secondary_cleaner.state.floatbank6_a_level  \n",
       "0                                 -605.841980  \n",
       "1                                 -599.787184  \n",
       "2                                 -601.427363  \n",
       "3                                 -599.996129  \n",
       "4                                 -601.496691  \n",
       "\n",
       "[5 rows x 87 columns]"
      ]
     },
     "metadata": {},
     "output_type": "display_data"
    },
    {
     "name": "stdout",
     "output_type": "stream",
     "text": [
      "\n"
     ]
    },
    {
     "data": {
      "text/html": [
       "<div>\n",
       "<style scoped>\n",
       "    .dataframe tbody tr th:only-of-type {\n",
       "        vertical-align: middle;\n",
       "    }\n",
       "\n",
       "    .dataframe tbody tr th {\n",
       "        vertical-align: top;\n",
       "    }\n",
       "\n",
       "    .dataframe thead th {\n",
       "        text-align: right;\n",
       "    }\n",
       "</style>\n",
       "<table border=\"1\" class=\"dataframe\">\n",
       "  <thead>\n",
       "    <tr style=\"text-align: right;\">\n",
       "      <th></th>\n",
       "      <th>final.output.concentrate_ag</th>\n",
       "      <th>final.output.concentrate_pb</th>\n",
       "      <th>final.output.concentrate_sol</th>\n",
       "      <th>final.output.concentrate_au</th>\n",
       "      <th>final.output.recovery</th>\n",
       "      <th>final.output.tail_ag</th>\n",
       "      <th>final.output.tail_pb</th>\n",
       "      <th>final.output.tail_sol</th>\n",
       "      <th>final.output.tail_au</th>\n",
       "      <th>primary_cleaner.input.sulfate</th>\n",
       "      <th>...</th>\n",
       "      <th>secondary_cleaner.state.floatbank4_a_air</th>\n",
       "      <th>secondary_cleaner.state.floatbank4_a_level</th>\n",
       "      <th>secondary_cleaner.state.floatbank4_b_air</th>\n",
       "      <th>secondary_cleaner.state.floatbank4_b_level</th>\n",
       "      <th>secondary_cleaner.state.floatbank5_a_air</th>\n",
       "      <th>secondary_cleaner.state.floatbank5_a_level</th>\n",
       "      <th>secondary_cleaner.state.floatbank5_b_air</th>\n",
       "      <th>secondary_cleaner.state.floatbank5_b_level</th>\n",
       "      <th>secondary_cleaner.state.floatbank6_a_air</th>\n",
       "      <th>secondary_cleaner.state.floatbank6_a_level</th>\n",
       "    </tr>\n",
       "  </thead>\n",
       "  <tbody>\n",
       "    <tr>\n",
       "      <td>count</td>\n",
       "      <td>22627.000000</td>\n",
       "      <td>22629.000000</td>\n",
       "      <td>22331.000000</td>\n",
       "      <td>22630.000000</td>\n",
       "      <td>20753.000000</td>\n",
       "      <td>22633.000000</td>\n",
       "      <td>22516.000000</td>\n",
       "      <td>22445.000000</td>\n",
       "      <td>22635.000000</td>\n",
       "      <td>21107.000000</td>\n",
       "      <td>...</td>\n",
       "      <td>22571.000000</td>\n",
       "      <td>22587.000000</td>\n",
       "      <td>22608.000000</td>\n",
       "      <td>22607.000000</td>\n",
       "      <td>22615.000000</td>\n",
       "      <td>22615.000000</td>\n",
       "      <td>22615.000000</td>\n",
       "      <td>22616.000000</td>\n",
       "      <td>22597.000000</td>\n",
       "      <td>22615.000000</td>\n",
       "    </tr>\n",
       "    <tr>\n",
       "      <td>mean</td>\n",
       "      <td>4.781559</td>\n",
       "      <td>9.095308</td>\n",
       "      <td>8.640317</td>\n",
       "      <td>40.001172</td>\n",
       "      <td>67.447488</td>\n",
       "      <td>8.923690</td>\n",
       "      <td>2.488252</td>\n",
       "      <td>9.523632</td>\n",
       "      <td>2.827459</td>\n",
       "      <td>140.277672</td>\n",
       "      <td>...</td>\n",
       "      <td>18.205125</td>\n",
       "      <td>-499.878977</td>\n",
       "      <td>14.356474</td>\n",
       "      <td>-476.532613</td>\n",
       "      <td>14.883276</td>\n",
       "      <td>-503.323288</td>\n",
       "      <td>11.626743</td>\n",
       "      <td>-500.521502</td>\n",
       "      <td>17.976810</td>\n",
       "      <td>-519.361465</td>\n",
       "    </tr>\n",
       "    <tr>\n",
       "      <td>std</td>\n",
       "      <td>2.030128</td>\n",
       "      <td>3.230797</td>\n",
       "      <td>3.785035</td>\n",
       "      <td>13.398062</td>\n",
       "      <td>11.616034</td>\n",
       "      <td>3.517917</td>\n",
       "      <td>1.189407</td>\n",
       "      <td>4.079739</td>\n",
       "      <td>1.262834</td>\n",
       "      <td>49.919004</td>\n",
       "      <td>...</td>\n",
       "      <td>6.560700</td>\n",
       "      <td>80.273964</td>\n",
       "      <td>5.655791</td>\n",
       "      <td>93.822791</td>\n",
       "      <td>6.372811</td>\n",
       "      <td>72.925589</td>\n",
       "      <td>5.757449</td>\n",
       "      <td>78.956292</td>\n",
       "      <td>6.636203</td>\n",
       "      <td>75.477151</td>\n",
       "    </tr>\n",
       "    <tr>\n",
       "      <td>min</td>\n",
       "      <td>0.000000</td>\n",
       "      <td>0.000000</td>\n",
       "      <td>0.000000</td>\n",
       "      <td>0.000000</td>\n",
       "      <td>0.000000</td>\n",
       "      <td>0.000000</td>\n",
       "      <td>0.000000</td>\n",
       "      <td>0.000000</td>\n",
       "      <td>0.000000</td>\n",
       "      <td>0.000003</td>\n",
       "      <td>...</td>\n",
       "      <td>0.000000</td>\n",
       "      <td>-799.920713</td>\n",
       "      <td>0.000000</td>\n",
       "      <td>-800.836914</td>\n",
       "      <td>-0.423260</td>\n",
       "      <td>-799.741097</td>\n",
       "      <td>0.427084</td>\n",
       "      <td>-800.258209</td>\n",
       "      <td>-0.079426</td>\n",
       "      <td>-810.473526</td>\n",
       "    </tr>\n",
       "    <tr>\n",
       "      <td>25%</td>\n",
       "      <td>4.018525</td>\n",
       "      <td>8.750171</td>\n",
       "      <td>7.116799</td>\n",
       "      <td>42.383721</td>\n",
       "      <td>63.282393</td>\n",
       "      <td>7.684016</td>\n",
       "      <td>1.805376</td>\n",
       "      <td>8.143576</td>\n",
       "      <td>2.303108</td>\n",
       "      <td>110.177081</td>\n",
       "      <td>...</td>\n",
       "      <td>14.095940</td>\n",
       "      <td>-500.896232</td>\n",
       "      <td>10.882675</td>\n",
       "      <td>-500.309169</td>\n",
       "      <td>10.941299</td>\n",
       "      <td>-500.628697</td>\n",
       "      <td>8.037533</td>\n",
       "      <td>-500.167897</td>\n",
       "      <td>13.968418</td>\n",
       "      <td>-500.981671</td>\n",
       "    </tr>\n",
       "    <tr>\n",
       "      <td>50%</td>\n",
       "      <td>4.953729</td>\n",
       "      <td>9.914519</td>\n",
       "      <td>8.908792</td>\n",
       "      <td>44.653436</td>\n",
       "      <td>68.322258</td>\n",
       "      <td>9.484369</td>\n",
       "      <td>2.653001</td>\n",
       "      <td>10.212998</td>\n",
       "      <td>2.913794</td>\n",
       "      <td>141.330501</td>\n",
       "      <td>...</td>\n",
       "      <td>18.007326</td>\n",
       "      <td>-499.917108</td>\n",
       "      <td>14.947646</td>\n",
       "      <td>-499.612292</td>\n",
       "      <td>14.859117</td>\n",
       "      <td>-499.865158</td>\n",
       "      <td>10.989756</td>\n",
       "      <td>-499.951980</td>\n",
       "      <td>18.004215</td>\n",
       "      <td>-500.095463</td>\n",
       "    </tr>\n",
       "    <tr>\n",
       "      <td>75%</td>\n",
       "      <td>5.862593</td>\n",
       "      <td>10.929839</td>\n",
       "      <td>10.705824</td>\n",
       "      <td>46.111999</td>\n",
       "      <td>72.950836</td>\n",
       "      <td>11.084557</td>\n",
       "      <td>3.287790</td>\n",
       "      <td>11.860824</td>\n",
       "      <td>3.555077</td>\n",
       "      <td>174.049914</td>\n",
       "      <td>...</td>\n",
       "      <td>22.998194</td>\n",
       "      <td>-498.361545</td>\n",
       "      <td>17.977502</td>\n",
       "      <td>-400.224147</td>\n",
       "      <td>18.014914</td>\n",
       "      <td>-498.489381</td>\n",
       "      <td>14.001193</td>\n",
       "      <td>-499.492354</td>\n",
       "      <td>23.009704</td>\n",
       "      <td>-499.526388</td>\n",
       "    </tr>\n",
       "    <tr>\n",
       "      <td>max</td>\n",
       "      <td>16.001945</td>\n",
       "      <td>17.031899</td>\n",
       "      <td>19.615720</td>\n",
       "      <td>53.611374</td>\n",
       "      <td>100.000000</td>\n",
       "      <td>19.552149</td>\n",
       "      <td>6.086532</td>\n",
       "      <td>22.861749</td>\n",
       "      <td>9.789625</td>\n",
       "      <td>274.409626</td>\n",
       "      <td>...</td>\n",
       "      <td>60.000000</td>\n",
       "      <td>-127.692333</td>\n",
       "      <td>31.269706</td>\n",
       "      <td>-6.506986</td>\n",
       "      <td>63.116298</td>\n",
       "      <td>-244.483566</td>\n",
       "      <td>39.846228</td>\n",
       "      <td>-120.190931</td>\n",
       "      <td>54.876806</td>\n",
       "      <td>-29.093593</td>\n",
       "    </tr>\n",
       "  </tbody>\n",
       "</table>\n",
       "<p>8 rows × 86 columns</p>\n",
       "</div>"
      ],
      "text/plain": [
       "       final.output.concentrate_ag  final.output.concentrate_pb  \\\n",
       "count                 22627.000000                 22629.000000   \n",
       "mean                      4.781559                     9.095308   \n",
       "std                       2.030128                     3.230797   \n",
       "min                       0.000000                     0.000000   \n",
       "25%                       4.018525                     8.750171   \n",
       "50%                       4.953729                     9.914519   \n",
       "75%                       5.862593                    10.929839   \n",
       "max                      16.001945                    17.031899   \n",
       "\n",
       "       final.output.concentrate_sol  final.output.concentrate_au  \\\n",
       "count                  22331.000000                 22630.000000   \n",
       "mean                       8.640317                    40.001172   \n",
       "std                        3.785035                    13.398062   \n",
       "min                        0.000000                     0.000000   \n",
       "25%                        7.116799                    42.383721   \n",
       "50%                        8.908792                    44.653436   \n",
       "75%                       10.705824                    46.111999   \n",
       "max                       19.615720                    53.611374   \n",
       "\n",
       "       final.output.recovery  final.output.tail_ag  final.output.tail_pb  \\\n",
       "count           20753.000000          22633.000000          22516.000000   \n",
       "mean               67.447488              8.923690              2.488252   \n",
       "std                11.616034              3.517917              1.189407   \n",
       "min                 0.000000              0.000000              0.000000   \n",
       "25%                63.282393              7.684016              1.805376   \n",
       "50%                68.322258              9.484369              2.653001   \n",
       "75%                72.950836             11.084557              3.287790   \n",
       "max               100.000000             19.552149              6.086532   \n",
       "\n",
       "       final.output.tail_sol  final.output.tail_au  \\\n",
       "count           22445.000000          22635.000000   \n",
       "mean                9.523632              2.827459   \n",
       "std                 4.079739              1.262834   \n",
       "min                 0.000000              0.000000   \n",
       "25%                 8.143576              2.303108   \n",
       "50%                10.212998              2.913794   \n",
       "75%                11.860824              3.555077   \n",
       "max                22.861749              9.789625   \n",
       "\n",
       "       primary_cleaner.input.sulfate  ...  \\\n",
       "count                   21107.000000  ...   \n",
       "mean                      140.277672  ...   \n",
       "std                        49.919004  ...   \n",
       "min                         0.000003  ...   \n",
       "25%                       110.177081  ...   \n",
       "50%                       141.330501  ...   \n",
       "75%                       174.049914  ...   \n",
       "max                       274.409626  ...   \n",
       "\n",
       "       secondary_cleaner.state.floatbank4_a_air  \\\n",
       "count                              22571.000000   \n",
       "mean                                  18.205125   \n",
       "std                                    6.560700   \n",
       "min                                    0.000000   \n",
       "25%                                   14.095940   \n",
       "50%                                   18.007326   \n",
       "75%                                   22.998194   \n",
       "max                                   60.000000   \n",
       "\n",
       "       secondary_cleaner.state.floatbank4_a_level  \\\n",
       "count                                22587.000000   \n",
       "mean                                  -499.878977   \n",
       "std                                     80.273964   \n",
       "min                                   -799.920713   \n",
       "25%                                   -500.896232   \n",
       "50%                                   -499.917108   \n",
       "75%                                   -498.361545   \n",
       "max                                   -127.692333   \n",
       "\n",
       "       secondary_cleaner.state.floatbank4_b_air  \\\n",
       "count                              22608.000000   \n",
       "mean                                  14.356474   \n",
       "std                                    5.655791   \n",
       "min                                    0.000000   \n",
       "25%                                   10.882675   \n",
       "50%                                   14.947646   \n",
       "75%                                   17.977502   \n",
       "max                                   31.269706   \n",
       "\n",
       "       secondary_cleaner.state.floatbank4_b_level  \\\n",
       "count                                22607.000000   \n",
       "mean                                  -476.532613   \n",
       "std                                     93.822791   \n",
       "min                                   -800.836914   \n",
       "25%                                   -500.309169   \n",
       "50%                                   -499.612292   \n",
       "75%                                   -400.224147   \n",
       "max                                     -6.506986   \n",
       "\n",
       "       secondary_cleaner.state.floatbank5_a_air  \\\n",
       "count                              22615.000000   \n",
       "mean                                  14.883276   \n",
       "std                                    6.372811   \n",
       "min                                   -0.423260   \n",
       "25%                                   10.941299   \n",
       "50%                                   14.859117   \n",
       "75%                                   18.014914   \n",
       "max                                   63.116298   \n",
       "\n",
       "       secondary_cleaner.state.floatbank5_a_level  \\\n",
       "count                                22615.000000   \n",
       "mean                                  -503.323288   \n",
       "std                                     72.925589   \n",
       "min                                   -799.741097   \n",
       "25%                                   -500.628697   \n",
       "50%                                   -499.865158   \n",
       "75%                                   -498.489381   \n",
       "max                                   -244.483566   \n",
       "\n",
       "       secondary_cleaner.state.floatbank5_b_air  \\\n",
       "count                              22615.000000   \n",
       "mean                                  11.626743   \n",
       "std                                    5.757449   \n",
       "min                                    0.427084   \n",
       "25%                                    8.037533   \n",
       "50%                                   10.989756   \n",
       "75%                                   14.001193   \n",
       "max                                   39.846228   \n",
       "\n",
       "       secondary_cleaner.state.floatbank5_b_level  \\\n",
       "count                                22616.000000   \n",
       "mean                                  -500.521502   \n",
       "std                                     78.956292   \n",
       "min                                   -800.258209   \n",
       "25%                                   -500.167897   \n",
       "50%                                   -499.951980   \n",
       "75%                                   -499.492354   \n",
       "max                                   -120.190931   \n",
       "\n",
       "       secondary_cleaner.state.floatbank6_a_air  \\\n",
       "count                              22597.000000   \n",
       "mean                                  17.976810   \n",
       "std                                    6.636203   \n",
       "min                                   -0.079426   \n",
       "25%                                   13.968418   \n",
       "50%                                   18.004215   \n",
       "75%                                   23.009704   \n",
       "max                                   54.876806   \n",
       "\n",
       "       secondary_cleaner.state.floatbank6_a_level  \n",
       "count                                22615.000000  \n",
       "mean                                  -519.361465  \n",
       "std                                     75.477151  \n",
       "min                                   -810.473526  \n",
       "25%                                   -500.981671  \n",
       "50%                                   -500.095463  \n",
       "75%                                   -499.526388  \n",
       "max                                    -29.093593  \n",
       "\n",
       "[8 rows x 86 columns]"
      ]
     },
     "metadata": {},
     "output_type": "display_data"
    },
    {
     "name": "stdout",
     "output_type": "stream",
     "text": [
      "\n",
      "<class 'pandas.core.frame.DataFrame'>\n",
      "RangeIndex: 22716 entries, 0 to 22715\n",
      "Data columns (total 87 columns):\n",
      "date                                                  22716 non-null object\n",
      "final.output.concentrate_ag                           22627 non-null float64\n",
      "final.output.concentrate_pb                           22629 non-null float64\n",
      "final.output.concentrate_sol                          22331 non-null float64\n",
      "final.output.concentrate_au                           22630 non-null float64\n",
      "final.output.recovery                                 20753 non-null float64\n",
      "final.output.tail_ag                                  22633 non-null float64\n",
      "final.output.tail_pb                                  22516 non-null float64\n",
      "final.output.tail_sol                                 22445 non-null float64\n",
      "final.output.tail_au                                  22635 non-null float64\n",
      "primary_cleaner.input.sulfate                         21107 non-null float64\n",
      "primary_cleaner.input.depressant                      21170 non-null float64\n",
      "primary_cleaner.input.feed_size                       22716 non-null float64\n",
      "primary_cleaner.input.xanthate                        21565 non-null float64\n",
      "primary_cleaner.output.concentrate_ag                 22618 non-null float64\n",
      "primary_cleaner.output.concentrate_pb                 22268 non-null float64\n",
      "primary_cleaner.output.concentrate_sol                21918 non-null float64\n",
      "primary_cleaner.output.concentrate_au                 22618 non-null float64\n",
      "primary_cleaner.output.tail_ag                        22614 non-null float64\n",
      "primary_cleaner.output.tail_pb                        22594 non-null float64\n",
      "primary_cleaner.output.tail_sol                       22365 non-null float64\n",
      "primary_cleaner.output.tail_au                        22617 non-null float64\n",
      "primary_cleaner.state.floatbank8_a_air                22660 non-null float64\n",
      "primary_cleaner.state.floatbank8_a_level              22667 non-null float64\n",
      "primary_cleaner.state.floatbank8_b_air                22660 non-null float64\n",
      "primary_cleaner.state.floatbank8_b_level              22673 non-null float64\n",
      "primary_cleaner.state.floatbank8_c_air                22662 non-null float64\n",
      "primary_cleaner.state.floatbank8_c_level              22673 non-null float64\n",
      "primary_cleaner.state.floatbank8_d_air                22661 non-null float64\n",
      "primary_cleaner.state.floatbank8_d_level              22673 non-null float64\n",
      "rougher.calculation.sulfate_to_au_concentrate         22672 non-null float64\n",
      "rougher.calculation.floatbank10_sulfate_to_au_feed    22672 non-null float64\n",
      "rougher.calculation.floatbank11_sulfate_to_au_feed    22672 non-null float64\n",
      "rougher.calculation.au_pb_ratio                       21089 non-null float64\n",
      "rougher.input.feed_ag                                 22618 non-null float64\n",
      "rougher.input.feed_pb                                 22472 non-null float64\n",
      "rougher.input.feed_rate                               22163 non-null float64\n",
      "rougher.input.feed_size                               22277 non-null float64\n",
      "rougher.input.feed_sol                                22357 non-null float64\n",
      "rougher.input.feed_au                                 22617 non-null float64\n",
      "rougher.input.floatbank10_sulfate                     21415 non-null float64\n",
      "rougher.input.floatbank10_xanthate                    22247 non-null float64\n",
      "rougher.input.floatbank11_sulfate                     22038 non-null float64\n",
      "rougher.input.floatbank11_xanthate                    20459 non-null float64\n",
      "rougher.output.concentrate_ag                         22618 non-null float64\n",
      "rougher.output.concentrate_pb                         22618 non-null float64\n",
      "rougher.output.concentrate_sol                        22526 non-null float64\n",
      "rougher.output.concentrate_au                         22618 non-null float64\n",
      "rougher.output.recovery                               19597 non-null float64\n",
      "rougher.output.tail_ag                                19979 non-null float64\n",
      "rougher.output.tail_pb                                22618 non-null float64\n",
      "rougher.output.tail_sol                               19980 non-null float64\n",
      "rougher.output.tail_au                                19980 non-null float64\n",
      "rougher.state.floatbank10_a_air                       22646 non-null float64\n",
      "rougher.state.floatbank10_a_level                     22647 non-null float64\n",
      "rougher.state.floatbank10_b_air                       22646 non-null float64\n",
      "rougher.state.floatbank10_b_level                     22647 non-null float64\n",
      "rougher.state.floatbank10_c_air                       22646 non-null float64\n",
      "rougher.state.floatbank10_c_level                     22654 non-null float64\n",
      "rougher.state.floatbank10_d_air                       22641 non-null float64\n",
      "rougher.state.floatbank10_d_level                     22649 non-null float64\n",
      "rougher.state.floatbank10_e_air                       22096 non-null float64\n",
      "rougher.state.floatbank10_e_level                     22649 non-null float64\n",
      "rougher.state.floatbank10_f_air                       22641 non-null float64\n",
      "rougher.state.floatbank10_f_level                     22642 non-null float64\n",
      "secondary_cleaner.output.tail_ag                      22616 non-null float64\n",
      "secondary_cleaner.output.tail_pb                      22600 non-null float64\n",
      "secondary_cleaner.output.tail_sol                     20501 non-null float64\n",
      "secondary_cleaner.output.tail_au                      22618 non-null float64\n",
      "secondary_cleaner.state.floatbank2_a_air              22333 non-null float64\n",
      "secondary_cleaner.state.floatbank2_a_level            22591 non-null float64\n",
      "secondary_cleaner.state.floatbank2_b_air              22538 non-null float64\n",
      "secondary_cleaner.state.floatbank2_b_level            22588 non-null float64\n",
      "secondary_cleaner.state.floatbank3_a_air              22585 non-null float64\n",
      "secondary_cleaner.state.floatbank3_a_level            22587 non-null float64\n",
      "secondary_cleaner.state.floatbank3_b_air              22592 non-null float64\n",
      "secondary_cleaner.state.floatbank3_b_level            22590 non-null float64\n",
      "secondary_cleaner.state.floatbank4_a_air              22571 non-null float64\n",
      "secondary_cleaner.state.floatbank4_a_level            22587 non-null float64\n",
      "secondary_cleaner.state.floatbank4_b_air              22608 non-null float64\n",
      "secondary_cleaner.state.floatbank4_b_level            22607 non-null float64\n",
      "secondary_cleaner.state.floatbank5_a_air              22615 non-null float64\n",
      "secondary_cleaner.state.floatbank5_a_level            22615 non-null float64\n",
      "secondary_cleaner.state.floatbank5_b_air              22615 non-null float64\n",
      "secondary_cleaner.state.floatbank5_b_level            22616 non-null float64\n",
      "secondary_cleaner.state.floatbank6_a_air              22597 non-null float64\n",
      "secondary_cleaner.state.floatbank6_a_level            22615 non-null float64\n",
      "dtypes: float64(86), object(1)\n",
      "memory usage: 15.1+ MB\n"
     ]
    },
    {
     "data": {
      "text/plain": [
       "None"
      ]
     },
     "metadata": {},
     "output_type": "display_data"
    },
    {
     "name": "stdout",
     "output_type": "stream",
     "text": [
      "\n",
      "Количество дубликатов 0\n",
      "\n"
     ]
    }
   ],
   "source": [
    "datas = [data_train, data_test, data_full]\n",
    "\n",
    "for i in datas:\n",
    "    display(i.head())\n",
    "    print()\n",
    "    display(i.describe())\n",
    "    print()\n",
    "    display(i.info())\n",
    "    print()\n",
    "    print('Количество дубликатов', i.duplicated().sum())\n",
    "    print()"
   ]
  },
  {
   "cell_type": "markdown",
   "metadata": {},
   "source": [
    "<div class=\"alert alert-success\">\n",
    "    \n",
    "**Комментарий ревьюера**\n",
    "    \n",
    "Данные готовы, круто, еще бы мини план увидеть)\n",
    "</div>"
   ]
  },
  {
   "cell_type": "markdown",
   "metadata": {},
   "source": [
    "<div class=\"alert alert-block alert-info\">Тут вопрос, само содержание не является планом? Если брать план из описания проекта, то он будет дублировать содержание. Или есть какой то другой путь формирования плана? </div>"
   ]
  },
  {
   "cell_type": "markdown",
   "metadata": {},
   "source": [
    "<div class=\"alert alert-success\">\n",
    "    \n",
    "**Комментарий ревьюера v_2**\n",
    "     \n",
    "Ну смотри)Содержания это чисто тз)А тут ты увидел, что есть пропуски, что есть проблемы с типами данных или например что количество признаков в трейне и тесте различны, стоит про это сказать)Этого нигде не было)\n",
    "</div>"
   ]
  },
  {
   "cell_type": "markdown",
   "metadata": {},
   "source": [
    "### Проверим формулу вычисления эффективности обогащения"
   ]
  },
  {
   "cell_type": "markdown",
   "metadata": {},
   "source": [
    "Вспомним саму формулу:"
   ]
  },
  {
   "cell_type": "code",
   "execution_count": 4,
   "metadata": {},
   "outputs": [
    {
     "data": {
      "text/html": [
       "<img src='https://pictures.s3.yandex.net/resources/Recovery_1576238822.jpg'>\n"
      ],
      "text/plain": [
       "<IPython.core.display.HTML object>"
      ]
     },
     "metadata": {},
     "output_type": "display_data"
    }
   ],
   "source": [
    "%%html\n",
    "<img src='https://pictures.s3.yandex.net/resources/Recovery_1576238822.jpg'>"
   ]
  },
  {
   "cell_type": "markdown",
   "metadata": {},
   "source": [
    "где: \n",
    "- C — доля золота в концентрате после флотации/очистки; **[rougher.output.concentrate_au]**\n",
    "- F — доля золота в сырье/концентрате до флотации/очистки; **[rougher.input.feed_ag]**\n",
    "- T — доля золота в отвальных хвостах после флотации/очистки. **[rougher.output.tail_au]**"
   ]
  },
  {
   "cell_type": "markdown",
   "metadata": {},
   "source": [
    "Проверим корректность вычисления эффективности обогащения:"
   ]
  },
  {
   "cell_type": "code",
   "execution_count": 5,
   "metadata": {},
   "outputs": [
    {
     "data": {
      "text/html": [
       "<div>\n",
       "<style scoped>\n",
       "    .dataframe tbody tr th:only-of-type {\n",
       "        vertical-align: middle;\n",
       "    }\n",
       "\n",
       "    .dataframe tbody tr th {\n",
       "        vertical-align: top;\n",
       "    }\n",
       "\n",
       "    .dataframe thead th {\n",
       "        text-align: right;\n",
       "    }\n",
       "</style>\n",
       "<table border=\"1\" class=\"dataframe\">\n",
       "  <thead>\n",
       "    <tr style=\"text-align: right;\">\n",
       "      <th></th>\n",
       "      <th>rougher.output.recovery</th>\n",
       "      <th>rougher.output.recovery.check</th>\n",
       "    </tr>\n",
       "  </thead>\n",
       "  <tbody>\n",
       "    <tr>\n",
       "      <td>0</td>\n",
       "      <td>87.107763</td>\n",
       "      <td>87.107763</td>\n",
       "    </tr>\n",
       "    <tr>\n",
       "      <td>1</td>\n",
       "      <td>86.843261</td>\n",
       "      <td>86.843261</td>\n",
       "    </tr>\n",
       "    <tr>\n",
       "      <td>2</td>\n",
       "      <td>86.842308</td>\n",
       "      <td>86.842308</td>\n",
       "    </tr>\n",
       "    <tr>\n",
       "      <td>3</td>\n",
       "      <td>87.226430</td>\n",
       "      <td>87.226430</td>\n",
       "    </tr>\n",
       "    <tr>\n",
       "      <td>4</td>\n",
       "      <td>86.688794</td>\n",
       "      <td>86.688794</td>\n",
       "    </tr>\n",
       "  </tbody>\n",
       "</table>\n",
       "</div>"
      ],
      "text/plain": [
       "   rougher.output.recovery  rougher.output.recovery.check\n",
       "0                87.107763                      87.107763\n",
       "1                86.843261                      86.843261\n",
       "2                86.842308                      86.842308\n",
       "3                87.226430                      87.226430\n",
       "4                86.688794                      86.688794"
      ]
     },
     "execution_count": 5,
     "metadata": {},
     "output_type": "execute_result"
    }
   ],
   "source": [
    "cols = ['rougher.output.concentrate_au',\n",
    "        'rougher.input.feed_au',\n",
    "        'rougher.output.tail_au',\n",
    "        'rougher.output.recovery']\n",
    "\n",
    "data_for_test = data_train[cols].copy()\n",
    "\n",
    "C = data_for_test[cols[0]]\n",
    "F = data_for_test[cols[1]]\n",
    "T = data_for_test[cols[2]]\n",
    "\n",
    "data_for_test['rougher.output.recovery.check'] = (C*(F-T))/(F*(C-T))*100\n",
    "\n",
    "data_for_test[['rougher.output.recovery', 'rougher.output.recovery.check']].head()"
   ]
  },
  {
   "cell_type": "markdown",
   "metadata": {},
   "source": [
    "Оценим среднюю абсолютную ошибку (MAE):"
   ]
  },
  {
   "cell_type": "code",
   "execution_count": 6,
   "metadata": {},
   "outputs": [
    {
     "name": "stdout",
     "output_type": "stream",
     "text": [
      "MAE = 9.444891926100695e-15\n"
     ]
    }
   ],
   "source": [
    "# ror - rougher.output.recovery\n",
    "\n",
    "# в отдельных перменных сохраняем серии из значений ror, без пропусков\n",
    "\n",
    "ror_series = data_for_test.loc[(~data_for_test['rougher.output.recovery'].isna()) &\\\n",
    "                  (~data_for_test['rougher.output.recovery.check'].isna()), \n",
    "                  'rougher.output.recovery']\n",
    "\n",
    "ror_check_series = data_for_test.loc[(~data_for_test['rougher.output.recovery'].isna()) &\\\n",
    "                  (~data_for_test['rougher.output.recovery.check'].isna()), \n",
    "                  'rougher.output.recovery.check']\n",
    "\n",
    "mae_ror_check = mean_absolute_error(ror_series, ror_check_series)\n",
    "\n",
    "print('MAE =', mae_ror_check)"
   ]
  },
  {
   "cell_type": "markdown",
   "metadata": {},
   "source": [
    "<div class=\"alert alert-success\">\n",
    "    \n",
    "**Комментарий ревьюера**\n",
    "    \n",
    "Всё круто, но комментарии должны быть в отдельных ячейках **markdown**)\n",
    "</div>"
   ]
  },
  {
   "cell_type": "markdown",
   "metadata": {},
   "source": [
    "#### Промежуточный вывод:\n"
   ]
  },
  {
   "cell_type": "markdown",
   "metadata": {},
   "source": [
    "Проверена формула вычисления эффективности обогащения. Вычисленные значения совпадают с истинными. Средняя абсолютная ошибка составила 9.44e-15, что можно списать на погрешность. Т.о. формула корректна."
   ]
  },
  {
   "cell_type": "markdown",
   "metadata": {},
   "source": [
    "### Анализ признаков, недоступных в тестовой выборке"
   ]
  },
  {
   "cell_type": "code",
   "execution_count": 7,
   "metadata": {},
   "outputs": [
    {
     "name": "stdout",
     "output_type": "stream",
     "text": [
      "<class 'pandas.core.frame.DataFrame'>\n",
      "RangeIndex: 16860 entries, 0 to 16859\n",
      "Data columns (total 34 columns):\n",
      "final.output.concentrate_ag                           16788 non-null float64\n",
      "final.output.concentrate_pb                           16788 non-null float64\n",
      "final.output.concentrate_sol                          16490 non-null float64\n",
      "final.output.concentrate_au                           16789 non-null float64\n",
      "final.output.recovery                                 15339 non-null float64\n",
      "final.output.tail_ag                                  16794 non-null float64\n",
      "final.output.tail_pb                                  16677 non-null float64\n",
      "final.output.tail_sol                                 16715 non-null float64\n",
      "final.output.tail_au                                  16794 non-null float64\n",
      "primary_cleaner.output.concentrate_ag                 16778 non-null float64\n",
      "primary_cleaner.output.concentrate_pb                 16502 non-null float64\n",
      "primary_cleaner.output.concentrate_sol                16224 non-null float64\n",
      "primary_cleaner.output.concentrate_au                 16778 non-null float64\n",
      "primary_cleaner.output.tail_ag                        16777 non-null float64\n",
      "primary_cleaner.output.tail_pb                        16761 non-null float64\n",
      "primary_cleaner.output.tail_sol                       16579 non-null float64\n",
      "primary_cleaner.output.tail_au                        16777 non-null float64\n",
      "rougher.calculation.sulfate_to_au_concentrate         16833 non-null float64\n",
      "rougher.calculation.floatbank10_sulfate_to_au_feed    16833 non-null float64\n",
      "rougher.calculation.floatbank11_sulfate_to_au_feed    16833 non-null float64\n",
      "rougher.calculation.au_pb_ratio                       15618 non-null float64\n",
      "rougher.output.concentrate_ag                         16778 non-null float64\n",
      "rougher.output.concentrate_pb                         16778 non-null float64\n",
      "rougher.output.concentrate_sol                        16698 non-null float64\n",
      "rougher.output.concentrate_au                         16778 non-null float64\n",
      "rougher.output.recovery                               14287 non-null float64\n",
      "rougher.output.tail_ag                                14610 non-null float64\n",
      "rougher.output.tail_pb                                16778 non-null float64\n",
      "rougher.output.tail_sol                               14611 non-null float64\n",
      "rougher.output.tail_au                                14611 non-null float64\n",
      "secondary_cleaner.output.tail_ag                      16776 non-null float64\n",
      "secondary_cleaner.output.tail_pb                      16764 non-null float64\n",
      "secondary_cleaner.output.tail_sol                     14874 non-null float64\n",
      "secondary_cleaner.output.tail_au                      16778 non-null float64\n",
      "dtypes: float64(34)\n",
      "memory usage: 4.4 MB\n"
     ]
    }
   ],
   "source": [
    "diff_cols = []\n",
    "\n",
    "for i in data_train.columns:\n",
    "    if i not in data_test.columns:\n",
    "        diff_cols.append(i)\n",
    "        \n",
    "data_train[diff_cols].info()        "
   ]
  },
  {
   "cell_type": "markdown",
   "metadata": {},
   "source": [
    "#### Промежуточный вывод:\n",
    "Итак, в тестовой выборке у нас отсутствует ряд важных признаков. В основном, это информация о продукте на выходе каждого этапа. Эти данные могут быть ключевыми для обучения модели. Поэтому, сделаем запрос на предоставление хотя-бы части отсутствующих признаков. \n",
    "\n",
    "Не хватает данных, необходимых для рассчета целевого признака. Но все равно пробуем построить модель предсказания.  Оценив ее качество, сделаем вывод о необходимости увеличения признакового пространства.\n",
    "\n",
    "***UPD:*** *В ответ на запрос было сказано, что это все имеющиеся признаки для решения задачи. Поэтому, строим модель по ним.*"
   ]
  },
  {
   "cell_type": "markdown",
   "metadata": {},
   "source": [
    "<div class=\"alert alert-success\">\n",
    "    \n",
    "**Комментарий ревьюера**\n",
    "    \n",
    "В тестовой выборке недоступны некоторые расчетные (calculation) и выходные (output) характеристики процесса. Эти параметры недоступны в test выборке, т.к. их невозможно получить/измерить во время выполнения технологического процесса.\n",
    "</div>"
   ]
  },
  {
   "cell_type": "markdown",
   "metadata": {},
   "source": [
    "### Предобработка данных"
   ]
  },
  {
   "cell_type": "markdown",
   "metadata": {},
   "source": [
    "Нам известно, что данные имеют большое количество пропусков. А объекты с отсутствующими признаками не смогут принять участие в обучении модели. Посмотрим сколько вообще таких объектов:"
   ]
  },
  {
   "cell_type": "code",
   "execution_count": 8,
   "metadata": {},
   "outputs": [
    {
     "data": {
      "text/plain": [
       "5843"
      ]
     },
     "execution_count": 8,
     "metadata": {},
     "output_type": "execute_result"
    }
   ],
   "source": [
    "data_train.isna().any(axis=1).sum()"
   ]
  },
  {
   "cell_type": "markdown",
   "metadata": {},
   "source": [
    "Мы имеем 5843 объекта, у которых отсутствует хотя-бы один из признаков. Это более 30% всех данных обучающей выборки."
   ]
  },
  {
   "cell_type": "markdown",
   "metadata": {},
   "source": [
    "<div class=\"alert alert-success\">\n",
    "    \n",
    "**Комментарий ревьюера**\n",
    "    \n",
    "Мы ведь можем попробовать заполнить пропуски, как раз в тз есть подсказка к этому)\n",
    "</div>"
   ]
  },
  {
   "cell_type": "markdown",
   "metadata": {},
   "source": [
    "Постмотрим на ТОП признаков с пропусками:"
   ]
  },
  {
   "cell_type": "code",
   "execution_count": 9,
   "metadata": {},
   "outputs": [
    {
     "data": {
      "text/plain": [
       "rougher.output.recovery                               2573\n",
       "rougher.output.tail_ag                                2250\n",
       "rougher.output.tail_sol                               2249\n",
       "rougher.output.tail_au                                2249\n",
       "secondary_cleaner.output.tail_sol                     1986\n",
       "                                                      ... \n",
       "rougher.calculation.sulfate_to_au_concentrate           27\n",
       "rougher.calculation.floatbank10_sulfate_to_au_feed      27\n",
       "rougher.calculation.floatbank11_sulfate_to_au_feed      27\n",
       "primary_cleaner.input.feed_size                          0\n",
       "date                                                     0\n",
       "Length: 87, dtype: int64"
      ]
     },
     "execution_count": 9,
     "metadata": {},
     "output_type": "execute_result"
    }
   ],
   "source": [
    "data_train[list(data_train.columns)].isnull().sum().sort_values(ascending=False)"
   ]
  },
  {
   "cell_type": "markdown",
   "metadata": {},
   "source": [
    "Наибольшее количество пропусков имеет целевой признак **rougher.output.recovery**. Подав на вход модели такой набор данных, она не сможет обучиться. Поэтому пропуски нужно либо заполнить, либо дропнуть. Начнем с первого:"
   ]
  },
  {
   "cell_type": "markdown",
   "metadata": {},
   "source": [
    "***Предположение:*** *Возможно, часть данных есть в полном датасете data_full. Проверим:*"
   ]
  },
  {
   "cell_type": "code",
   "execution_count": 10,
   "metadata": {},
   "outputs": [
    {
     "data": {
      "text/plain": [
       "0"
      ]
     },
     "execution_count": 10,
     "metadata": {},
     "output_type": "execute_result"
    }
   ],
   "source": [
    "data_full.loc[data_full['date'].isin(data_train.loc[data_train['rougher.output.recovery']\\\n",
    "                                                    .isna(), 'date'])]\\\n",
    "                                                    ['rougher.output.recovery'].count()\n"
   ]
  },
  {
   "cell_type": "markdown",
   "metadata": {},
   "source": [
    "<div class=\"alert alert-success\">\n",
    "    \n",
    "**Комментарий ревьюера**\n",
    "    \n",
    "Окей)\n",
    "</div>"
   ]
  },
  {
   "cell_type": "markdown",
   "metadata": {},
   "source": [
    "Нет. К сожалению, данные отсутствуют и в исходном фрейме. Поэтому, не остается ничего кроме как удалить объекты с пропусками целевого признака."
   ]
  },
  {
   "cell_type": "code",
   "execution_count": 11,
   "metadata": {},
   "outputs": [],
   "source": [
    "data_train = data_train.loc[~data_train['rougher.output.recovery'].isna()].copy()"
   ]
  },
  {
   "cell_type": "code",
   "execution_count": 12,
   "metadata": {},
   "outputs": [
    {
     "name": "stdout",
     "output_type": "stream",
     "text": [
      "Количество объектов с пропусками целевого признака rougher.output.recovery: 0\n",
      "Текущий размер data_train: (14287, 87)\n"
     ]
    }
   ],
   "source": [
    "print('Количество объектов с пропусками целевого признака rougher.output.recovery:', \n",
    "      data_train.loc[data_train['rougher.output.recovery'].isna()]['rougher.output.recovery'].count())\n",
    "print('Текущий размер data_train:', data_train.shape)"
   ]
  },
  {
   "cell_type": "markdown",
   "metadata": {},
   "source": [
    "Смотрим, сколько еще осталось объектов имеющих пропуски:"
   ]
  },
  {
   "cell_type": "code",
   "execution_count": 13,
   "metadata": {},
   "outputs": [
    {
     "data": {
      "text/plain": [
       "3270"
      ]
     },
     "execution_count": 13,
     "metadata": {},
     "output_type": "execute_result"
    }
   ],
   "source": [
    "data_train.isna().any(axis=1).sum()"
   ]
  },
  {
   "cell_type": "markdown",
   "metadata": {},
   "source": [
    "Мы знаем, что признаки соседних по временным промежуткам объектов не сильно отличаются. Следовательно, можно воспользоваться этим, чтобы заполнить пропуски. Так как наш датафрейм уже отсортирован по дате, мы можем применить методы ffill и bfill.\n",
    "\n",
    "Однако, мы держим в уме, что в обучающей выборке могли остаться объекты с вторым отсутствующим целевым признаком **final.output.recovery**. Дропнем и их тоже:"
   ]
  },
  {
   "cell_type": "code",
   "execution_count": 14,
   "metadata": {},
   "outputs": [
    {
     "data": {
      "text/plain": [
       "NaN    138\n",
       "Name: final.output.recovery, dtype: int64"
      ]
     },
     "execution_count": 14,
     "metadata": {},
     "output_type": "execute_result"
    }
   ],
   "source": [
    "data_train.loc[data_train['final.output.recovery'].isna()]['final.output.recovery'].value_counts(dropna=False)"
   ]
  },
  {
   "cell_type": "code",
   "execution_count": 15,
   "metadata": {},
   "outputs": [],
   "source": [
    "data_train = data_train.loc[~data_train['final.output.recovery'].isna()].copy()"
   ]
  },
  {
   "cell_type": "code",
   "execution_count": 16,
   "metadata": {},
   "outputs": [
    {
     "name": "stdout",
     "output_type": "stream",
     "text": [
      "Количество объектов с пропусками целевого признака final.output.recovery: 0\n",
      "Текущий размер data_train: (14149, 87)\n"
     ]
    }
   ],
   "source": [
    "print('Количество объектов с пропусками целевого признака final.output.recovery:', \n",
    "      data_train.loc[data_train['final.output.recovery'].isna()]['final.output.recovery'].count())\n",
    "print('Текущий размер data_train:', data_train.shape)"
   ]
  },
  {
   "cell_type": "markdown",
   "metadata": {},
   "source": [
    "Теперь заполним пропуски методом **ffill()**:"
   ]
  },
  {
   "cell_type": "code",
   "execution_count": 17,
   "metadata": {},
   "outputs": [],
   "source": [
    "data_train.ffill(inplace=True)"
   ]
  },
  {
   "cell_type": "markdown",
   "metadata": {},
   "source": [
    "Проверяем оставшееся количество объектов с пропусками:"
   ]
  },
  {
   "cell_type": "code",
   "execution_count": 18,
   "metadata": {},
   "outputs": [
    {
     "name": "stdout",
     "output_type": "stream",
     "text": [
      "Количество объектов с пропусками: 0\n",
      "Текущий размер data_train: (14149, 87)\n"
     ]
    }
   ],
   "source": [
    "print('Количество объектов с пропусками:', data_train.isna().any(axis=1).sum())\n",
    "print('Текущий размер data_train:', data_train.shape)"
   ]
  },
  {
   "cell_type": "markdown",
   "metadata": {},
   "source": [
    "#### Промежуточный вывод:"
   ]
  },
  {
   "cell_type": "markdown",
   "metadata": {},
   "source": [
    "Грубая предобработка завершена. В результате нам пришлось пожертвовать более чем 2 тыс. объектов без целевого признака"
   ]
  },
  {
   "cell_type": "markdown",
   "metadata": {},
   "source": [
    "<div class=\"alert alert-success\">\n",
    "    \n",
    "**Комментарий ревьюера**\n",
    "    \n",
    "Окей)В целом, заполнять пропуски мы можем в признаках, но никак не в целевой переменной)\n",
    "</div>"
   ]
  },
  {
   "cell_type": "markdown",
   "metadata": {},
   "source": [
    "## Анализ данных"
   ]
  },
  {
   "cell_type": "markdown",
   "metadata": {},
   "source": [
    "**План:**\n",
    "1. Исследовать изменение концентрации элементов на каждом этапе\n",
    "1. Проанализировать распределения размеров гранул на обучающей и тестовой выборках\n",
    "1. Исследовать суммарные концентрации\n",
    "1. Проанализировать и обработать аномальные значения"
   ]
  },
  {
   "cell_type": "markdown",
   "metadata": {},
   "source": [
    "<div class=\"alert alert-success\">\n",
    "    \n",
    "**Комментарий ревьюера**\n",
    "    \n",
    "Супер)\n",
    "</div>"
   ]
  },
  {
   "cell_type": "markdown",
   "metadata": {},
   "source": [
    "### Исследование изменения концентрации элементов на каждом этапе"
   ]
  },
  {
   "cell_type": "markdown",
   "metadata": {},
   "source": [
    "Элементы содержащиеся в руде:\n",
    "- *ag - \"Argentum\" серебро*\n",
    "- *pb - \"Plumbum\" свинец*\n",
    "- *sol - \"Sols\" соли (вероятно)*\n",
    "- *au - \"Aurum\" золото*"
   ]
  },
  {
   "cell_type": "markdown",
   "metadata": {},
   "source": [
    "Этапы, на которых меняется концентрация элементов:\n",
    "- rougher.input (сырая руда)\n",
    "- rougher.output.concentrate_\n",
    "- primary_cleaner.output.concentrate_\n",
    "- final.output.concentrate_\n",
    "\n",
    "Посмотрим так же на изменения концентрации элементов в отвальных хвостах:\n",
    "- rougher.input (сырая руда)\n",
    "- rougher.output.tail_\n",
    "- primary_cleaner.output.tail_\n",
    "- final.output.tail_"
   ]
  },
  {
   "cell_type": "markdown",
   "metadata": {},
   "source": [
    "Вынесем необходимые для анализа признаки в отдельный датафрейм.\n",
    "\n",
    "Напишем функцию, которая по заданным ключам отфильтрует необходимые признаки датафрейма:"
   ]
  },
  {
   "cell_type": "code",
   "execution_count": 19,
   "metadata": {},
   "outputs": [],
   "source": [
    "def filter_data(data_for_filter, filter_keys):\n",
    "    filtered_cols = []\n",
    "    \n",
    "    for col in data_for_filter.columns:\n",
    "        for key in filter_keys:\n",
    "            if key in col:\n",
    "                filtered_cols.append(col)\n",
    "                \n",
    "    data_filtered = data_for_filter[filtered_cols]\n",
    "    return data_filtered"
   ]
  },
  {
   "cell_type": "code",
   "execution_count": 20,
   "metadata": {},
   "outputs": [
    {
     "name": "stdout",
     "output_type": "stream",
     "text": [
      "(22716, 18)\n"
     ]
    },
    {
     "data": {
      "text/html": [
       "<div>\n",
       "<style scoped>\n",
       "    .dataframe tbody tr th:only-of-type {\n",
       "        vertical-align: middle;\n",
       "    }\n",
       "\n",
       "    .dataframe tbody tr th {\n",
       "        vertical-align: top;\n",
       "    }\n",
       "\n",
       "    .dataframe thead th {\n",
       "        text-align: right;\n",
       "    }\n",
       "</style>\n",
       "<table border=\"1\" class=\"dataframe\">\n",
       "  <thead>\n",
       "    <tr style=\"text-align: right;\">\n",
       "      <th></th>\n",
       "      <th>final.output.concentrate_ag</th>\n",
       "      <th>final.output.concentrate_pb</th>\n",
       "      <th>final.output.concentrate_sol</th>\n",
       "      <th>final.output.concentrate_au</th>\n",
       "      <th>primary_cleaner.output.concentrate_ag</th>\n",
       "      <th>primary_cleaner.output.concentrate_pb</th>\n",
       "      <th>primary_cleaner.output.concentrate_sol</th>\n",
       "      <th>primary_cleaner.output.concentrate_au</th>\n",
       "      <th>rougher.input.feed_ag</th>\n",
       "      <th>rougher.input.feed_pb</th>\n",
       "      <th>rougher.input.feed_rate</th>\n",
       "      <th>rougher.input.feed_size</th>\n",
       "      <th>rougher.input.feed_sol</th>\n",
       "      <th>rougher.input.feed_au</th>\n",
       "      <th>rougher.output.concentrate_ag</th>\n",
       "      <th>rougher.output.concentrate_pb</th>\n",
       "      <th>rougher.output.concentrate_sol</th>\n",
       "      <th>rougher.output.concentrate_au</th>\n",
       "    </tr>\n",
       "  </thead>\n",
       "  <tbody>\n",
       "    <tr>\n",
       "      <td>0</td>\n",
       "      <td>6.055403</td>\n",
       "      <td>9.889648</td>\n",
       "      <td>5.507324</td>\n",
       "      <td>42.192020</td>\n",
       "      <td>8.547551</td>\n",
       "      <td>10.389648</td>\n",
       "      <td>19.529297</td>\n",
       "      <td>34.174427</td>\n",
       "      <td>6.100378</td>\n",
       "      <td>2.284912</td>\n",
       "      <td>523.546326</td>\n",
       "      <td>55.486599</td>\n",
       "      <td>36.808594</td>\n",
       "      <td>6.486150</td>\n",
       "      <td>11.500771</td>\n",
       "      <td>7.101074</td>\n",
       "      <td>28.029297</td>\n",
       "      <td>19.793808</td>\n",
       "    </tr>\n",
       "    <tr>\n",
       "      <td>1</td>\n",
       "      <td>6.029369</td>\n",
       "      <td>9.968944</td>\n",
       "      <td>5.257781</td>\n",
       "      <td>42.701629</td>\n",
       "      <td>8.558743</td>\n",
       "      <td>10.497069</td>\n",
       "      <td>19.369147</td>\n",
       "      <td>34.118526</td>\n",
       "      <td>6.161113</td>\n",
       "      <td>2.266033</td>\n",
       "      <td>525.290581</td>\n",
       "      <td>57.278666</td>\n",
       "      <td>35.753385</td>\n",
       "      <td>6.478583</td>\n",
       "      <td>11.615865</td>\n",
       "      <td>7.278807</td>\n",
       "      <td>28.067063</td>\n",
       "      <td>20.050975</td>\n",
       "    </tr>\n",
       "    <tr>\n",
       "      <td>2</td>\n",
       "      <td>6.055926</td>\n",
       "      <td>10.213995</td>\n",
       "      <td>5.383759</td>\n",
       "      <td>42.657501</td>\n",
       "      <td>8.603505</td>\n",
       "      <td>10.354494</td>\n",
       "      <td>19.167579</td>\n",
       "      <td>33.969464</td>\n",
       "      <td>6.116455</td>\n",
       "      <td>2.159622</td>\n",
       "      <td>530.026610</td>\n",
       "      <td>57.510649</td>\n",
       "      <td>35.971630</td>\n",
       "      <td>6.362222</td>\n",
       "      <td>11.695753</td>\n",
       "      <td>7.216833</td>\n",
       "      <td>27.454037</td>\n",
       "      <td>19.737170</td>\n",
       "    </tr>\n",
       "    <tr>\n",
       "      <td>3</td>\n",
       "      <td>6.047977</td>\n",
       "      <td>9.977019</td>\n",
       "      <td>4.858634</td>\n",
       "      <td>42.689819</td>\n",
       "      <td>7.221879</td>\n",
       "      <td>8.496563</td>\n",
       "      <td>15.978538</td>\n",
       "      <td>28.260743</td>\n",
       "      <td>6.043309</td>\n",
       "      <td>2.037807</td>\n",
       "      <td>542.590390</td>\n",
       "      <td>57.792734</td>\n",
       "      <td>36.862241</td>\n",
       "      <td>6.118189</td>\n",
       "      <td>11.915047</td>\n",
       "      <td>7.175616</td>\n",
       "      <td>27.341277</td>\n",
       "      <td>19.320810</td>\n",
       "    </tr>\n",
       "    <tr>\n",
       "      <td>4</td>\n",
       "      <td>6.148599</td>\n",
       "      <td>10.142511</td>\n",
       "      <td>4.939416</td>\n",
       "      <td>42.774141</td>\n",
       "      <td>9.089428</td>\n",
       "      <td>9.986786</td>\n",
       "      <td>19.199864</td>\n",
       "      <td>33.044932</td>\n",
       "      <td>6.060915</td>\n",
       "      <td>1.786875</td>\n",
       "      <td>540.531893</td>\n",
       "      <td>56.047189</td>\n",
       "      <td>34.347666</td>\n",
       "      <td>5.663707</td>\n",
       "      <td>12.411054</td>\n",
       "      <td>7.240205</td>\n",
       "      <td>27.041023</td>\n",
       "      <td>19.216101</td>\n",
       "    </tr>\n",
       "  </tbody>\n",
       "</table>\n",
       "</div>"
      ],
      "text/plain": [
       "   final.output.concentrate_ag  final.output.concentrate_pb  \\\n",
       "0                     6.055403                     9.889648   \n",
       "1                     6.029369                     9.968944   \n",
       "2                     6.055926                    10.213995   \n",
       "3                     6.047977                     9.977019   \n",
       "4                     6.148599                    10.142511   \n",
       "\n",
       "   final.output.concentrate_sol  final.output.concentrate_au  \\\n",
       "0                      5.507324                    42.192020   \n",
       "1                      5.257781                    42.701629   \n",
       "2                      5.383759                    42.657501   \n",
       "3                      4.858634                    42.689819   \n",
       "4                      4.939416                    42.774141   \n",
       "\n",
       "   primary_cleaner.output.concentrate_ag  \\\n",
       "0                               8.547551   \n",
       "1                               8.558743   \n",
       "2                               8.603505   \n",
       "3                               7.221879   \n",
       "4                               9.089428   \n",
       "\n",
       "   primary_cleaner.output.concentrate_pb  \\\n",
       "0                              10.389648   \n",
       "1                              10.497069   \n",
       "2                              10.354494   \n",
       "3                               8.496563   \n",
       "4                               9.986786   \n",
       "\n",
       "   primary_cleaner.output.concentrate_sol  \\\n",
       "0                               19.529297   \n",
       "1                               19.369147   \n",
       "2                               19.167579   \n",
       "3                               15.978538   \n",
       "4                               19.199864   \n",
       "\n",
       "   primary_cleaner.output.concentrate_au  rougher.input.feed_ag  \\\n",
       "0                              34.174427               6.100378   \n",
       "1                              34.118526               6.161113   \n",
       "2                              33.969464               6.116455   \n",
       "3                              28.260743               6.043309   \n",
       "4                              33.044932               6.060915   \n",
       "\n",
       "   rougher.input.feed_pb  rougher.input.feed_rate  rougher.input.feed_size  \\\n",
       "0               2.284912               523.546326                55.486599   \n",
       "1               2.266033               525.290581                57.278666   \n",
       "2               2.159622               530.026610                57.510649   \n",
       "3               2.037807               542.590390                57.792734   \n",
       "4               1.786875               540.531893                56.047189   \n",
       "\n",
       "   rougher.input.feed_sol  rougher.input.feed_au  \\\n",
       "0               36.808594               6.486150   \n",
       "1               35.753385               6.478583   \n",
       "2               35.971630               6.362222   \n",
       "3               36.862241               6.118189   \n",
       "4               34.347666               5.663707   \n",
       "\n",
       "   rougher.output.concentrate_ag  rougher.output.concentrate_pb  \\\n",
       "0                      11.500771                       7.101074   \n",
       "1                      11.615865                       7.278807   \n",
       "2                      11.695753                       7.216833   \n",
       "3                      11.915047                       7.175616   \n",
       "4                      12.411054                       7.240205   \n",
       "\n",
       "   rougher.output.concentrate_sol  rougher.output.concentrate_au  \n",
       "0                       28.029297                      19.793808  \n",
       "1                       28.067063                      20.050975  \n",
       "2                       27.454037                      19.737170  \n",
       "3                       27.341277                      19.320810  \n",
       "4                       27.041023                      19.216101  "
      ]
     },
     "execution_count": 20,
     "metadata": {},
     "output_type": "execute_result"
    }
   ],
   "source": [
    "name_stages = ['rougher.input.feed',\n",
    "               'rougher.output.concentrate',\n",
    "               'primary_cleaner.output.concentrate',\n",
    "               'final.output.concentrate']\n",
    "\n",
    "data_stages = filter_data(data_full, name_stages)\n",
    "print(data_stages.shape)\n",
    "data_stages.head()"
   ]
  },
  {
   "cell_type": "markdown",
   "metadata": {},
   "source": [
    "#### Строим график концентрации элементов"
   ]
  },
  {
   "cell_type": "markdown",
   "metadata": {},
   "source": [
    "В качестве значений концентрации, будем использовать средние значения по всем элементам на каждом этапе. Так мы сможем лучше понять общую картину изменения концентрации."
   ]
  },
  {
   "cell_type": "code",
   "execution_count": 21,
   "metadata": {},
   "outputs": [],
   "source": [
    "# функция соединяет в одну несколько таблиц\n",
    "\n",
    "def concat_datas(columns_lst, data, names_of_group_lst):\n",
    "    data_for_concat = pd.DataFrame(index=columns_lst)\n",
    "    \n",
    "    for i in range(len(names_of_group_lst)):\n",
    "        data_for_concat[names_of_group_lst[i]] = group_data(data, names_of_group_lst[i])\n",
    "             \n",
    "    return data_for_concat\n",
    "    \n",
    " # функция возвращает таблицу отсортированную по переданному элементу и находит средние по всем фичам \n",
    "def group_data(data, name_of_group):\n",
    "    \n",
    "    stages_cols = []\n",
    "    \n",
    "    for col in data.columns:\n",
    "        if name_of_group in col:\n",
    "            stages_cols.append(col)  \n",
    "            \n",
    "    data_stages = data[stages_cols]\n",
    "    data_stages.columns = [x[:-(len(name_of_group)+1)] for x in data_stages.columns]\n",
    "    \n",
    "    return data_stages.mean()\n",
    "    "
   ]
  },
  {
   "cell_type": "code",
   "execution_count": 22,
   "metadata": {},
   "outputs": [],
   "source": [
    "names_of_group_lst = ['au', 'pb', 'ag', 'sol']\n",
    "\n",
    "concentrated_data = concat_datas(name_stages, data_stages, names_of_group_lst)"
   ]
  },
  {
   "cell_type": "markdown",
   "metadata": {},
   "source": [
    "Строим график изменения концентрации для каждого из элементов содержащегося в руде:"
   ]
  },
  {
   "cell_type": "code",
   "execution_count": 23,
   "metadata": {},
   "outputs": [
    {
     "data": {
      "image/png": "[encoded data removed]",
      "text/plain": [
       "<Figure size 864x432 with 1 Axes>"
      ]
     },
     "metadata": {
      "needs_background": "light"
     },
     "output_type": "display_data"
    }
   ],
   "source": [
    "plt.figure(figsize=(12, 6))\n",
    "plt.plot(concentrated_data)\n",
    "plt.legend(['Концентрация '+ x for x in ['au', 'pb', 'ag', 'sol']])\n",
    "plt.title('График изменения концентрации элементов на различных стадиях обработки')\n",
    "plt.ylabel('Концентрация, %')\n",
    "plt.grid(True)"
   ]
  },
  {
   "cell_type": "markdown",
   "metadata": {},
   "source": [
    "#### Промежуточный вывод:"
   ]
  },
  {
   "cell_type": "markdown",
   "metadata": {},
   "source": [
    "**Rougher.output** - Мы видим, что после первичного (грубого) этапа очистки концентрация золота, серебра и свинца увеличились. При этом, сильно упала концентрация солей. В сырой руде больше половины объема занимают соли. Поэтому, даже незначительное уменьшение их концентрации приведет к увеличению концентрации других компонентов. \n",
    "\n",
    "**Primary_cleaner.output** - На второй стадии концентрация золота в продукте продолжает расти линейно. Концентрация свинца тоже увеличилась. При этом, количество свинца и серебра уменьшилось.\n",
    "\n",
    "**Final.output** - На финальной стадии концентрация золота все подолжает расти линейно, а объемы примесей снижаются. Но, уже не так значительно. Например, концентрация солей на финальной стадии очистки остается практически неизменной. Как и концентрация свинца. Вероятно, отделить свинец от золота гораздо сложнее чем отделить соли от золота. "
   ]
  },
  {
   "cell_type": "markdown",
   "metadata": {},
   "source": [
    "<div class=\"alert alert-success\">\n",
    "    \n",
    "**Комментарий ревьюера**\n",
    "    \n",
    "Отличные выводы, молодец)\n",
    "</div>"
   ]
  },
  {
   "cell_type": "markdown",
   "metadata": {},
   "source": [
    "#### Смотрим на концентрации элементов в хвостах:"
   ]
  },
  {
   "cell_type": "code",
   "execution_count": 24,
   "metadata": {},
   "outputs": [],
   "source": [
    "tail_concentrate_data_raw = filter_data(data_full, ['tail', 'rougher.input.feed'])"
   ]
  },
  {
   "cell_type": "code",
   "execution_count": 25,
   "metadata": {},
   "outputs": [],
   "source": [
    "name_stages = ['rougher.input.feed',\n",
    "               'rougher.output.tail',\n",
    "               'primary_cleaner.output.tail',\n",
    "               'secondary_cleaner.output.tail',\n",
    "               'final.output.tail']\n",
    "\n",
    "names_of_group_lst = ['au', 'pb', 'ag', 'sol']\n",
    "\n",
    "tail_concentrate_data = concat_datas(name_stages, tail_concentrate_data_raw, names_of_group_lst)"
   ]
  },
  {
   "cell_type": "code",
   "execution_count": 26,
   "metadata": {},
   "outputs": [
    {
     "data": {
      "text/html": [
       "<div>\n",
       "<style scoped>\n",
       "    .dataframe tbody tr th:only-of-type {\n",
       "        vertical-align: middle;\n",
       "    }\n",
       "\n",
       "    .dataframe tbody tr th {\n",
       "        vertical-align: top;\n",
       "    }\n",
       "\n",
       "    .dataframe thead th {\n",
       "        text-align: right;\n",
       "    }\n",
       "</style>\n",
       "<table border=\"1\" class=\"dataframe\">\n",
       "  <thead>\n",
       "    <tr style=\"text-align: right;\">\n",
       "      <th></th>\n",
       "      <th>au</th>\n",
       "      <th>pb</th>\n",
       "      <th>ag</th>\n",
       "      <th>sol</th>\n",
       "    </tr>\n",
       "  </thead>\n",
       "  <tbody>\n",
       "    <tr>\n",
       "      <td>rougher.input.feed</td>\n",
       "      <td>7.565838</td>\n",
       "      <td>3.305676</td>\n",
       "      <td>8.065715</td>\n",
       "      <td>33.276016</td>\n",
       "    </tr>\n",
       "    <tr>\n",
       "      <td>rougher.output.tail</td>\n",
       "      <td>1.821193</td>\n",
       "      <td>0.593620</td>\n",
       "      <td>5.587861</td>\n",
       "      <td>18.040138</td>\n",
       "    </tr>\n",
       "    <tr>\n",
       "      <td>primary_cleaner.output.tail</td>\n",
       "      <td>3.670333</td>\n",
       "      <td>3.175822</td>\n",
       "      <td>14.876219</td>\n",
       "      <td>7.208474</td>\n",
       "    </tr>\n",
       "    <tr>\n",
       "      <td>secondary_cleaner.output.tail</td>\n",
       "      <td>4.041218</td>\n",
       "      <td>5.304107</td>\n",
       "      <td>13.375349</td>\n",
       "      <td>6.465460</td>\n",
       "    </tr>\n",
       "    <tr>\n",
       "      <td>final.output.tail</td>\n",
       "      <td>2.827459</td>\n",
       "      <td>2.488252</td>\n",
       "      <td>8.923690</td>\n",
       "      <td>9.523632</td>\n",
       "    </tr>\n",
       "  </tbody>\n",
       "</table>\n",
       "</div>"
      ],
      "text/plain": [
       "                                     au        pb         ag        sol\n",
       "rougher.input.feed             7.565838  3.305676   8.065715  33.276016\n",
       "rougher.output.tail            1.821193  0.593620   5.587861  18.040138\n",
       "primary_cleaner.output.tail    3.670333  3.175822  14.876219   7.208474\n",
       "secondary_cleaner.output.tail  4.041218  5.304107  13.375349   6.465460\n",
       "final.output.tail              2.827459  2.488252   8.923690   9.523632"
      ]
     },
     "execution_count": 26,
     "metadata": {},
     "output_type": "execute_result"
    }
   ],
   "source": [
    "tail_concentrate_data"
   ]
  },
  {
   "cell_type": "code",
   "execution_count": 27,
   "metadata": {},
   "outputs": [
    {
     "data": {
      "image/png": "[encoded data removed]",
      "text/plain": [
       "<Figure size 864x432 with 1 Axes>"
      ]
     },
     "metadata": {
      "needs_background": "light"
     },
     "output_type": "display_data"
    }
   ],
   "source": [
    "plt.figure(figsize=(12, 6))\n",
    "plt.plot(tail_concentrate_data)\n",
    "plt.legend(['Концентрация '+ x for x in ['au', 'pb', 'ag', 'sol']])\n",
    "plt.title('График изменения концентрации элементов в хвостах на различных стадиях обработки')\n",
    "plt.ylabel('Концентрация, %')\n",
    "plt.grid(True)"
   ]
  },
  {
   "cell_type": "markdown",
   "metadata": {},
   "source": [
    "#### Промежуточный вывод:"
   ]
  },
  {
   "cell_type": "markdown",
   "metadata": {},
   "source": [
    "Задача состоит в том, чтобы на каждом этапе очистки концентрация **ценных** элементов в отвальных хвостах **уменьшалась** и стремилась к нулю, при этом, концентрация **\"лишних\"** элементов должна **расти**. В идеале, чтобы после первой стадии очистки, концентрация \"лишних\" элементов в отвальных хвостах была бы равна концентрации \"лишних\" элементов в сырой руде. \n",
    "\n",
    "Мы видим, что на разных стадиях концентрация металлов в отвальных хвостах то растет, то падает. В целом, это характеризует эффективность процесса очистки. На каждом из этапов - уходит в хвосты достаточно высокая часть элементов. "
   ]
  },
  {
   "cell_type": "markdown",
   "metadata": {},
   "source": [
    "<div class=\"alert alert-success\">\n",
    "    \n",
    "**Комментарий ревьюера**\n",
    "    \n",
    "Окей)\n",
    "</div>"
   ]
  },
  {
   "cell_type": "markdown",
   "metadata": {},
   "source": [
    "### Анализ распределения размеров гранул на обучающей и тестовой выборках"
   ]
  },
  {
   "cell_type": "markdown",
   "metadata": {},
   "source": [
    "Построим гистограммы распределения размеров гранул руды в тренировочной и тестовой выборках, и на разных этапах обогащения:"
   ]
  },
  {
   "cell_type": "code",
   "execution_count": 28,
   "metadata": {},
   "outputs": [
    {
     "name": "stdout",
     "output_type": "stream",
     "text": [
      "Гистограммы распределения размера гранул в train и test выборке\n"
     ]
    },
    {
     "data": {
      "image/png": "[encoded data removed]",
      "text/plain": [
       "<Figure size 864x288 with 2 Axes>"
      ]
     },
     "metadata": {
      "needs_background": "light"
     },
     "output_type": "display_data"
    },
    {
     "data": {
      "image/png": "[encoded data removed]",
      "text/plain": [
       "<Figure size 864x288 with 2 Axes>"
      ]
     },
     "metadata": {
      "needs_background": "light"
     },
     "output_type": "display_data"
    }
   ],
   "source": [
    "lst = [data_train, data_test]\n",
    "lst_names = ['train', 'test']\n",
    "\n",
    "print('Гистограммы распределения размера гранул в train и test выборке')\n",
    "\n",
    "for num_data in range(len(lst)):\n",
    "    fig, axs = plt.subplots(1, 2, sharey=True, tight_layout=True, figsize=(12,4))\n",
    "    \n",
    "    for num_col in range(len(lst)):\n",
    "        _data = filter_data(lst[num_data], ['size']).iloc[:, num_col]\n",
    "        axs[num_col].hist(_data, bins=30)\n",
    "        axs[num_col].set_title('Этап ' + filter_data(lst[num_data], ['size']).columns[num_col]+ ' ' + lst_names[num_data])"
   ]
  },
  {
   "cell_type": "markdown",
   "metadata": {},
   "source": [
    "<div class=\"alert alert-success\">\n",
    "    \n",
    "**Комментарий ревьюера**\n",
    "    \n",
    "Ты первый студент, кто вывел данные таким образом, очень наглядно, отличная идея, молодец)\n",
    "</div>"
   ]
  },
  {
   "cell_type": "markdown",
   "metadata": {},
   "source": [
    "<div class=\"alert alert-block alert-info\">Благодарю!)</div>"
   ]
  },
  {
   "cell_type": "markdown",
   "metadata": {},
   "source": [
    "Визуально, гистограммы очень похожи друг на друга. Посмотрим на их статистики:"
   ]
  },
  {
   "cell_type": "code",
   "execution_count": 29,
   "metadata": {},
   "outputs": [
    {
     "name": "stdout",
     "output_type": "stream",
     "text": [
      "train-primary_cleaner.input.feed_size\n",
      "Среднее = 7.322309906901314\n",
      "Медиана = 7.289999961853027\n",
      "\n",
      "train-rougher.input.feed_size\n",
      "Среднее = 60.23985599255732\n",
      "Медиана = 55.269783890501536\n",
      "\n",
      "test-primary_cleaner.input.feed_size\n",
      "Среднее = 7.2646512922454205\n",
      "Медиана = 7.259333134057839\n",
      "\n",
      "test-rougher.input.feed_size\n",
      "Среднее = 55.93753506406803\n",
      "Медиана = 50.002004130561886\n",
      "\n"
     ]
    }
   ],
   "source": [
    "lst = [data_train, data_test]\n",
    "lst_names = ['train', 'test']\n",
    "\n",
    "for num_data in range(len(lst)):\n",
    "    for num_col in range(len(lst)):\n",
    "        print(lst_names[num_data] + '-' + filter_data(lst[num_data], ['size']).columns[num_col])\n",
    "        print('Среднее =', filter_data(lst[num_data], ['size']).iloc[:, num_col].mean())\n",
    "        print('Медиана =', filter_data(lst[num_data], ['size']).iloc[:, num_col].median())\n",
    "        print()"
   ]
  },
  {
   "cell_type": "markdown",
   "metadata": {},
   "source": [
    "Итак, статистики двух выборок на этапе **primary_cleaner** практически идентичны. А вот на этапе **rougher** разнятся на ~5 единиц. Проверим гипотезу для этого случая, о том, что на самом деле выборки не различаются. Тогда, если это действительно так, то и объекты этапа  **primary_cleaner** будут считаться похожими."
   ]
  },
  {
   "cell_type": "markdown",
   "metadata": {},
   "source": [
    "#### Проверка гипотезы о равенстве средних"
   ]
  },
  {
   "cell_type": "markdown",
   "metadata": {},
   "source": [
    "Сформулируем гипотезу:\n",
    "\n",
    "- **Гипотеза Н0**: Размеры гранул в тестовой выборке НЕ отличаются от размеров гранул в тренировочной выборке\n",
    "\n",
    "- Тогда **Альтернативная гипотеза Н1**: Размеры гранул в тестовой выборке отличаются от размеров гранул в тренировочной выборке."
   ]
  },
  {
   "cell_type": "code",
   "execution_count": 30,
   "metadata": {},
   "outputs": [
    {
     "name": "stdout",
     "output_type": "stream",
     "text": [
      "Примем p-value = 0.05\n"
     ]
    }
   ],
   "source": [
    "p_value = 0.05\n",
    "\n",
    "print('Примем p-value =', str(p_value))"
   ]
  },
  {
   "cell_type": "markdown",
   "metadata": {},
   "source": [
    "В качестве метода проверки гипотезы воспользуемся процедурой бутстрапирования."
   ]
  },
  {
   "cell_type": "markdown",
   "metadata": {},
   "source": [
    "Судя по гистограммам распределения можно сделать вывод, что основная часть данных распределена нормальным образом, но оба распределения имеют большие хвосты справа. Поэтому воспользоваться t-тестом мы не можем. Вместо этого, мы можем произвести процедуру бутстрапирования и сравнить разницу средних."
   ]
  },
  {
   "cell_type": "code",
   "execution_count": 31,
   "metadata": {},
   "outputs": [],
   "source": [
    "def prepare_samples(data_big, data_small, group_key):\n",
    "    samples_train = filter_data(data_big, [group_key])\n",
    "\n",
    "    # для меньшей выборки проведем процедуру upsampling, увеличив ее до размеров большей выборки\n",
    "    samples_test_small = filter_data(data_small, [group_key])\n",
    "\n",
    "    frac = samples_train.shape[0] / samples_test_small.shape[0]\n",
    "\n",
    "    samples_test = samples_test_small.sample(frac=frac, replace=True, random_state=42)\n",
    "    \n",
    "    return samples_train, samples_test"
   ]
  },
  {
   "cell_type": "code",
   "execution_count": 32,
   "metadata": {},
   "outputs": [],
   "source": [
    "samp_A, samp_B = prepare_samples(data_train, data_test, 'size')"
   ]
  },
  {
   "cell_type": "code",
   "execution_count": 33,
   "metadata": {},
   "outputs": [],
   "source": [
    "def chech_diff_means(samples_A, samples_B):\n",
    "\n",
    "    # фактическая разность средних значений в группах\n",
    "    AB_difference = samples_A.mean() - samples_B.mean()# < напишите код здесь >\n",
    "    print(\"Разность средних размеров гранул:\", AB_difference)\n",
    "\n",
    "    alpha = 0.05\n",
    "\n",
    "    state = np.random.RandomState(123456)\n",
    "\n",
    "    bootstrap_samples = 1000\n",
    "    count = 0\n",
    "    for i in range(bootstrap_samples):\n",
    "        # объедините выборки\n",
    "        united_samples = pd.concat([samples_A, samples_B])# < напишите код здесь >\n",
    "\n",
    "        # создайте подвыборку\n",
    "        subsample = united_samples.sample(frac=1, replace=True, random_state=state)# < напишите код здесь >\n",
    "\n",
    "        # разбейте подвыборку пополам \n",
    "        subsample_A = subsample[:len(samples_A)] #< напишите код здесь >\n",
    "        subsample_B = subsample[len(samples_A):]# < напишите код здесь >\n",
    "\n",
    "        # найдите разницу средних\n",
    "        bootstrap_difference = subsample_A.mean() - subsample_B.mean() # < напишите код здесь >\n",
    "\n",
    "        # если разница не меньше фактической, увеличиваем счётчик\n",
    "        if abs(bootstrap_difference) >= AB_difference:\n",
    "            count += 1\n",
    "        #print(bootstrap_difference)\n",
    "    # p-value равно доле превышений значений\n",
    "    pvalue = 1. * count / bootstrap_samples\n",
    "    print('p-value =', pvalue)\n",
    "\n",
    "    if pvalue < alpha:\n",
    "        print(\"Отвергаем нулевую гипотезу: скорее всего, средний размер гранул в выборках различается\")\n",
    "    else:\n",
    "        print(\"Не получилось отвергнуть нулевую гипотезу: скорее всего, средний размер гранул в выборках не различиается\")"
   ]
  },
  {
   "cell_type": "markdown",
   "metadata": {},
   "source": [
    "Проверяем стат. значимость различий размера гранул в тестовой и тренировочной выборках на этапе primary:"
   ]
  },
  {
   "cell_type": "code",
   "execution_count": 34,
   "metadata": {},
   "outputs": [
    {
     "name": "stdout",
     "output_type": "stream",
     "text": [
      "Разность средних размеров гранул: 0.05381349692630266\n",
      "p-value = 0.0\n",
      "Отвергаем нулевую гипотезу: скорее всего, средний размер гранул в выборках различается\n"
     ]
    }
   ],
   "source": [
    "chech_diff_means(samp_A.iloc[:, 0], samp_B.iloc[:, 0])"
   ]
  },
  {
   "cell_type": "markdown",
   "metadata": {},
   "source": [
    "Проверяем стат. значимость различий размера гранул в тестовой и тренировочной выборках на этапе rougher:"
   ]
  },
  {
   "cell_type": "code",
   "execution_count": 35,
   "metadata": {},
   "outputs": [
    {
     "name": "stdout",
     "output_type": "stream",
     "text": [
      "Разность средних размеров гранул: 4.270467844582193\n",
      "p-value = 0.0\n",
      "Отвергаем нулевую гипотезу: скорее всего, средний размер гранул в выборках различается\n"
     ]
    }
   ],
   "source": [
    "chech_diff_means(samp_A.iloc[:, 1], samp_B.iloc[:, 1])"
   ]
  },
  {
   "cell_type": "markdown",
   "metadata": {},
   "source": [
    "#### Промежуточный вывод:"
   ]
  },
  {
   "cell_type": "markdown",
   "metadata": {},
   "source": [
    "Отвергаем нулевые гипотезы о равенстве размеров гранул в тестовой и тренировочной выборках. **Размеры гранул в выборках различны!**"
   ]
  },
  {
   "cell_type": "markdown",
   "metadata": {},
   "source": [
    "<div class=\"alert alert-warning\">\n",
    "    \n",
    "**Комментарий ревьюера**\n",
    "    \n",
    "Значит по тз мы не можем делать модель?\n",
    "    \n",
    "Последнее время все студенты идут через гипотезы, вам это кто-то из преподавателей советует?\n",
    "</div>"
   ]
  },
  {
   "cell_type": "markdown",
   "metadata": {},
   "source": [
    "<div class=\"alert alert-block alert-info\">Да. Получается что нужно иметь это ввиду при построении модели. Наставник говорил что нет необходимости проводить стат тесты. Но где еще их использовать, как не в учебном проекте?) Так что, набиваю руку)\n",
    "\n",
    "А на счет гипотез - видимо, сам учебный процесс построен так, что нам вбили в голову любые различия проверять стат тестами. Либо мы это так поняли. Это же есть хотя бы какое-то мало-мальски значимое доказательство выводов по результатам сравнения. Можно ли проверять это иначе? Было бы здорово. Буду рад, если расскажешь как это происходит на самом деле)</div>"
   ]
  },
  {
   "cell_type": "markdown",
   "metadata": {},
   "source": [
    "<div class=\"alert alert-success\">\n",
    "    \n",
    "**Комментарий ревьюера v_2**\n",
    "     \n",
    "Просто из того что я видел, вам ведь довольно мало дают статистики и кроме как в 4 проекте нигде ее особо не требуют.\n",
    "    \n",
    "Набивать здесь, согласен)Но тогда нужно делать это серьезно и до конца)На ютубе есть от cs центра, если не ошибаюсь хорошие лекции, посмотри когда будет время)\n",
    "    \n",
    "Про вбивавние в голову не знаю)Я бы сказал наоборот, потому что многие студенты, которые до этого с этим не сталкивались не показывают хорошего понимаю, но может просто я так попадался)\n",
    "</div>"
   ]
  },
  {
   "cell_type": "markdown",
   "metadata": {},
   "source": [
    "### Исследование суммарных концентраций"
   ]
  },
  {
   "cell_type": "markdown",
   "metadata": {},
   "source": [
    "Отберем столбцы со значениями концентрации элементов на каждом этапе, и исследуем их:"
   ]
  },
  {
   "cell_type": "code",
   "execution_count": 36,
   "metadata": {},
   "outputs": [
    {
     "data": {
      "text/plain": [
       "['final.output.concentrate_ag',\n",
       " 'final.output.concentrate_pb',\n",
       " 'final.output.concentrate_sol',\n",
       " 'final.output.concentrate_au',\n",
       " 'primary_cleaner.output.concentrate_ag',\n",
       " 'primary_cleaner.output.concentrate_pb',\n",
       " 'primary_cleaner.output.concentrate_sol',\n",
       " 'primary_cleaner.output.concentrate_au',\n",
       " 'rougher.input.feed_ag',\n",
       " 'rougher.input.feed_pb',\n",
       " 'rougher.input.feed_sol',\n",
       " 'rougher.input.feed_au',\n",
       " 'rougher.output.concentrate_ag',\n",
       " 'rougher.output.concentrate_pb',\n",
       " 'rougher.output.concentrate_sol',\n",
       " 'rougher.output.concentrate_au']"
      ]
     },
     "execution_count": 36,
     "metadata": {},
     "output_type": "execute_result"
    }
   ],
   "source": [
    "cols = []\n",
    "\n",
    "for i in data_full.columns:\n",
    "    if 'concentrate_' in i or 'rougher.input.feed_' in i:\n",
    "        cols.append(i)\n",
    "        \n",
    "cols.remove('rougher.input.feed_rate')\n",
    "cols.remove('rougher.input.feed_size')\n",
    "        \n",
    "cols"
   ]
  },
  {
   "cell_type": "markdown",
   "metadata": {},
   "source": [
    "Имеем 4 этапа: \n",
    "\n",
    "**Концентрация:** *элементов перед обработкой - элементов после грубой обработки - элементов после первичной обработки - элементов после финальной обработки.*"
   ]
  },
  {
   "cell_type": "markdown",
   "metadata": {},
   "source": [
    "Найдем суммарные концентрации в каждый временной промежуток каждого этапа и сведем в один датафрейм:"
   ]
  },
  {
   "cell_type": "code",
   "execution_count": 37,
   "metadata": {},
   "outputs": [],
   "source": [
    "input_conc_data = pd.DataFrame()\n",
    "\n",
    "input_conc_data['date'] = data_full['date']"
   ]
  },
  {
   "cell_type": "code",
   "execution_count": 38,
   "metadata": {},
   "outputs": [
    {
     "data": {
      "text/html": [
       "<div>\n",
       "<style scoped>\n",
       "    .dataframe tbody tr th:only-of-type {\n",
       "        vertical-align: middle;\n",
       "    }\n",
       "\n",
       "    .dataframe tbody tr th {\n",
       "        vertical-align: top;\n",
       "    }\n",
       "\n",
       "    .dataframe thead th {\n",
       "        text-align: right;\n",
       "    }\n",
       "</style>\n",
       "<table border=\"1\" class=\"dataframe\">\n",
       "  <thead>\n",
       "    <tr style=\"text-align: right;\">\n",
       "      <th></th>\n",
       "      <th>date</th>\n",
       "      <th>rougher.input</th>\n",
       "      <th>rougher.output</th>\n",
       "      <th>primary</th>\n",
       "      <th>final</th>\n",
       "    </tr>\n",
       "  </thead>\n",
       "  <tbody>\n",
       "    <tr>\n",
       "      <td>0</td>\n",
       "      <td>2016-01-15 00:00:00</td>\n",
       "      <td>51.680034</td>\n",
       "      <td>66.424950</td>\n",
       "      <td>72.640924</td>\n",
       "      <td>63.644396</td>\n",
       "    </tr>\n",
       "    <tr>\n",
       "      <td>1</td>\n",
       "      <td>2016-01-15 01:00:00</td>\n",
       "      <td>50.659114</td>\n",
       "      <td>67.012710</td>\n",
       "      <td>72.543485</td>\n",
       "      <td>63.957723</td>\n",
       "    </tr>\n",
       "    <tr>\n",
       "      <td>2</td>\n",
       "      <td>2016-01-15 02:00:00</td>\n",
       "      <td>50.609929</td>\n",
       "      <td>66.103793</td>\n",
       "      <td>72.095042</td>\n",
       "      <td>64.311180</td>\n",
       "    </tr>\n",
       "    <tr>\n",
       "      <td>3</td>\n",
       "      <td>2016-01-15 03:00:00</td>\n",
       "      <td>51.061546</td>\n",
       "      <td>65.752751</td>\n",
       "      <td>59.957723</td>\n",
       "      <td>63.573449</td>\n",
       "    </tr>\n",
       "    <tr>\n",
       "      <td>4</td>\n",
       "      <td>2016-01-15 04:00:00</td>\n",
       "      <td>47.859163</td>\n",
       "      <td>65.908382</td>\n",
       "      <td>71.321010</td>\n",
       "      <td>64.004667</td>\n",
       "    </tr>\n",
       "  </tbody>\n",
       "</table>\n",
       "</div>"
      ],
      "text/plain": [
       "                  date  rougher.input  rougher.output    primary      final\n",
       "0  2016-01-15 00:00:00      51.680034       66.424950  72.640924  63.644396\n",
       "1  2016-01-15 01:00:00      50.659114       67.012710  72.543485  63.957723\n",
       "2  2016-01-15 02:00:00      50.609929       66.103793  72.095042  64.311180\n",
       "3  2016-01-15 03:00:00      51.061546       65.752751  59.957723  63.573449\n",
       "4  2016-01-15 04:00:00      47.859163       65.908382  71.321010  64.004667"
      ]
     },
     "execution_count": 38,
     "metadata": {},
     "output_type": "execute_result"
    }
   ],
   "source": [
    "new_cols = ['rougher.input', 'rougher.output', 'primary', 'final']\n",
    "\n",
    "for i in new_cols:\n",
    "    columns = []\n",
    "    for j in cols:\n",
    "        if i in j:\n",
    "            columns.append(j)\n",
    "    input_conc_data[i] = data_full[columns].sum(axis=1)\n",
    "    \n",
    "input_conc_data.head()"
   ]
  },
  {
   "cell_type": "markdown",
   "metadata": {},
   "source": [
    "Строим гистограммы распределения суммарных концентраций:"
   ]
  },
  {
   "cell_type": "code",
   "execution_count": 39,
   "metadata": {},
   "outputs": [
    {
     "data": {
      "image/png": "[encoded data removed]",
      "text/plain": [
       "<Figure size 864x288 with 1 Axes>"
      ]
     },
     "metadata": {
      "needs_background": "light"
     },
     "output_type": "display_data"
    },
    {
     "data": {
      "image/png": "[encoded data removed]",
      "text/plain": [
       "<Figure size 864x288 with 1 Axes>"
      ]
     },
     "metadata": {
      "needs_background": "light"
     },
     "output_type": "display_data"
    },
    {
     "data": {
      "image/png": "[encoded data removed]",
      "text/plain": [
       "<Figure size 864x288 with 1 Axes>"
      ]
     },
     "metadata": {
      "needs_background": "light"
     },
     "output_type": "display_data"
    },
    {
     "data": {
      "image/png": "[encoded data removed]",
      "text/plain": [
       "<Figure size 864x288 with 1 Axes>"
      ]
     },
     "metadata": {
      "needs_background": "light"
     },
     "output_type": "display_data"
    }
   ],
   "source": [
    "for i in input_conc_data.columns[1:]:\n",
    "    plt.figure(figsize=(12, 4))\n",
    "    input_conc_data[i].hist(bins=30)\n",
    "    plt.title('Гистограмма распределения суммарной концентрации веществ на этапе ' + i)\n",
    "    plt.xlabel('Значение суммарной концентрации')\n",
    "    plt.ylabel('Частота')\n",
    "    plt.show()"
   ]
  },
  {
   "cell_type": "markdown",
   "metadata": {},
   "source": [
    "Наблюдается большое скопление объектов (2000-2500) в районе нуля. Скорее всего, это значит, что производство в тот момент простаивало, но данные продолжали записываться с той же периодичностью. Отбросим эти данные. Найдем временные промежутки, соответствующие моментам простаивания, и удалим соответствующие им объекты из наших выборок.\n",
    "\n",
    "Так же, наблюдается уменьшение дисперсии данных в процессе обогащения руды."
   ]
  },
  {
   "cell_type": "markdown",
   "metadata": {},
   "source": [
    "<div class=\"alert alert-success\">\n",
    "    \n",
    "**Комментарий ревьюера**\n",
    "    \n",
    "Окей, отбросить эти данные хорошее решение)\n",
    "</div>"
   ]
  },
  {
   "cell_type": "markdown",
   "metadata": {},
   "source": [
    "### Обработка аномальных значений"
   ]
  },
  {
   "cell_type": "markdown",
   "metadata": {},
   "source": [
    "Сохраним уникальные даты, когда производство простаивало:"
   ]
  },
  {
   "cell_type": "code",
   "execution_count": 40,
   "metadata": {},
   "outputs": [],
   "source": [
    "zero_dates = input_conc_data.loc[(input_conc_data['rougher.input'] == 0) |\\\n",
    "                                 (input_conc_data['rougher.output'] == 0) |\\\n",
    "                                 (input_conc_data['primary'] == 0) |\\\n",
    "                                 (input_conc_data['final'] == 0), 'date']"
   ]
  },
  {
   "cell_type": "code",
   "execution_count": 41,
   "metadata": {},
   "outputs": [
    {
     "data": {
      "text/plain": [
       "19       2016-01-15 19:00:00\n",
       "22       2016-01-15 22:00:00\n",
       "30       2016-01-16 06:00:00\n",
       "45       2016-01-16 21:00:00\n",
       "46       2016-01-16 22:00:00\n",
       "                ...         \n",
       "22019    2018-07-20 10:59:59\n",
       "22020    2018-07-20 11:59:59\n",
       "22056    2018-07-21 23:59:59\n",
       "22057    2018-07-22 00:59:59\n",
       "22097    2018-07-23 16:59:59\n",
       "Name: date, Length: 2478, dtype: object"
      ]
     },
     "execution_count": 41,
     "metadata": {},
     "output_type": "execute_result"
    }
   ],
   "source": [
    "zero_dates"
   ]
  },
  {
   "cell_type": "code",
   "execution_count": 42,
   "metadata": {},
   "outputs": [],
   "source": [
    "input_conc_data = input_conc_data.loc[~input_conc_data['date'].isin(zero_dates)]"
   ]
  },
  {
   "cell_type": "code",
   "execution_count": 43,
   "metadata": {},
   "outputs": [
    {
     "data": {
      "image/png": "[encoded data removed]",
      "text/plain": [
       "<Figure size 864x288 with 1 Axes>"
      ]
     },
     "metadata": {
      "needs_background": "light"
     },
     "output_type": "display_data"
    },
    {
     "data": {
      "image/png": "[encoded data removed]",
      "text/plain": [
       "<Figure size 864x288 with 1 Axes>"
      ]
     },
     "metadata": {
      "needs_background": "light"
     },
     "output_type": "display_data"
    },
    {
     "data": {
      "image/png": "[encoded data removed]",
      "text/plain": [
       "<Figure size 864x288 with 1 Axes>"
      ]
     },
     "metadata": {
      "needs_background": "light"
     },
     "output_type": "display_data"
    },
    {
     "data": {
      "image/png": "[encoded data removed]",
      "text/plain": [
       "<Figure size 864x288 with 1 Axes>"
      ]
     },
     "metadata": {
      "needs_background": "light"
     },
     "output_type": "display_data"
    }
   ],
   "source": [
    "for i in input_conc_data.columns[1:]:\n",
    "    plt.figure(figsize=(12, 4))\n",
    "    input_conc_data[i].hist(bins=30)\n",
    "    plt.title('Гистограмма распределения суммарной концентрации веществ на этапе ' + i)\n",
    "    plt.xlabel('Значение суммарной концентрации')\n",
    "    plt.ylabel('Частота')\n",
    "    plt.show()"
   ]
  },
  {
   "cell_type": "code",
   "execution_count": 44,
   "metadata": {},
   "outputs": [
    {
     "data": {
      "text/plain": [
       "(20238, 5)"
      ]
     },
     "execution_count": 44,
     "metadata": {},
     "output_type": "execute_result"
    }
   ],
   "source": [
    "input_conc_data.shape"
   ]
  },
  {
   "cell_type": "markdown",
   "metadata": {},
   "source": [
    "От объектов с нулевой концентрацией мы избавились. Все еще наблюдается небольшой всплеск в районе нуля, но это просто совсем маленькие значения. Обратимся к диаграммам размаха для оценки распределения значений:"
   ]
  },
  {
   "cell_type": "code",
   "execution_count": 45,
   "metadata": {},
   "outputs": [
    {
     "data": {
      "text/plain": [
       "Text(0.5, 0, 'Вид элемента')"
      ]
     },
     "execution_count": 45,
     "metadata": {},
     "output_type": "execute_result"
    },
    {
     "data": {
      "image/png": "[encoded data removed]",
      "text/plain": [
       "<Figure size 1080x360 with 1 Axes>"
      ]
     },
     "metadata": {
      "needs_background": "light"
     },
     "output_type": "display_data"
    }
   ],
   "source": [
    "cols = ['rougher.input', 'rougher.output', 'primary', 'final']\n",
    "\n",
    "plt.figure(figsize=(15, 5))\n",
    "input_conc_data[cols].boxplot()\n",
    "plt.xticks(rotation='45')\n",
    "plt.title('Диаграммы размаха концентрации элементов')\n",
    "plt.ylabel('Значение концентрации, ед')\n",
    "plt.xlabel('Вид элемента')"
   ]
  },
  {
   "cell_type": "markdown",
   "metadata": {},
   "source": [
    "Большое количество объектов лежит за пределами усов. К сожалению, одного этого не достаточно для объявления таких объектов выбросами. Мы не знаем всех тонкостей производства, и вполне может оказаться, что такое распределение норма. Поэтому, будем обучать нашу модель и на этих объектах тоже."
   ]
  },
  {
   "cell_type": "markdown",
   "metadata": {},
   "source": [
    "Осталось почистить наши тренировочные и тестовые выборки от объектов тех временных периодов, когда производство простаивало и можно переходить к работе над моделью."
   ]
  },
  {
   "cell_type": "markdown",
   "metadata": {},
   "source": [
    "<div class=\"alert alert-success\">\n",
    "    \n",
    "**Комментарий ревьюера**\n",
    "    \n",
    "Согласен)\n",
    "</div>"
   ]
  },
  {
   "cell_type": "code",
   "execution_count": 46,
   "metadata": {},
   "outputs": [
    {
     "data": {
      "text/plain": [
       "(14149, 87)"
      ]
     },
     "execution_count": 46,
     "metadata": {},
     "output_type": "execute_result"
    }
   ],
   "source": [
    "data_train.shape"
   ]
  },
  {
   "cell_type": "code",
   "execution_count": 47,
   "metadata": {},
   "outputs": [],
   "source": [
    "data_train = data_train.loc[~data_train['date'].isin(zero_dates)]"
   ]
  },
  {
   "cell_type": "code",
   "execution_count": 48,
   "metadata": {},
   "outputs": [
    {
     "data": {
      "text/plain": [
       "(13725, 87)"
      ]
     },
     "execution_count": 48,
     "metadata": {},
     "output_type": "execute_result"
    }
   ],
   "source": [
    "data_train.shape"
   ]
  },
  {
   "cell_type": "markdown",
   "metadata": {},
   "source": [
    "Чистим тестовую:"
   ]
  },
  {
   "cell_type": "code",
   "execution_count": 49,
   "metadata": {},
   "outputs": [
    {
     "data": {
      "text/plain": [
       "(5856, 53)"
      ]
     },
     "execution_count": 49,
     "metadata": {},
     "output_type": "execute_result"
    }
   ],
   "source": [
    "data_test.shape"
   ]
  },
  {
   "cell_type": "code",
   "execution_count": 50,
   "metadata": {},
   "outputs": [],
   "source": [
    "data_test = data_test.loc[~data_test['date'].isin(zero_dates)]"
   ]
  },
  {
   "cell_type": "code",
   "execution_count": 51,
   "metadata": {},
   "outputs": [
    {
     "data": {
      "text/plain": [
       "(5244, 53)"
      ]
     },
     "execution_count": 51,
     "metadata": {},
     "output_type": "execute_result"
    }
   ],
   "source": [
    "data_test.shape"
   ]
  },
  {
   "cell_type": "markdown",
   "metadata": {},
   "source": [
    "Посмотрим, остались ли вообще в тестовых данных объекты типа Nan:"
   ]
  },
  {
   "cell_type": "code",
   "execution_count": 52,
   "metadata": {},
   "outputs": [
    {
     "data": {
      "text/plain": [
       "date                                           0\n",
       "primary_cleaner.input.sulfate                  1\n",
       "primary_cleaner.input.depressant               4\n",
       "primary_cleaner.input.feed_size                0\n",
       "primary_cleaner.input.xanthate                 2\n",
       "primary_cleaner.state.floatbank8_a_air         0\n",
       "primary_cleaner.state.floatbank8_a_level       0\n",
       "primary_cleaner.state.floatbank8_b_air         0\n",
       "primary_cleaner.state.floatbank8_b_level       0\n",
       "primary_cleaner.state.floatbank8_c_air         0\n",
       "primary_cleaner.state.floatbank8_c_level       0\n",
       "primary_cleaner.state.floatbank8_d_air         0\n",
       "primary_cleaner.state.floatbank8_d_level       0\n",
       "rougher.input.feed_ag                          0\n",
       "rougher.input.feed_pb                          0\n",
       "rougher.input.feed_rate                        7\n",
       "rougher.input.feed_size                        1\n",
       "rougher.input.feed_sol                        23\n",
       "rougher.input.feed_au                          0\n",
       "rougher.input.floatbank10_sulfate              7\n",
       "rougher.input.floatbank10_xanthate             0\n",
       "rougher.input.floatbank11_sulfate              4\n",
       "rougher.input.floatbank11_xanthate            29\n",
       "rougher.state.floatbank10_a_air                0\n",
       "rougher.state.floatbank10_a_level              0\n",
       "rougher.state.floatbank10_b_air                0\n",
       "rougher.state.floatbank10_b_level              0\n",
       "rougher.state.floatbank10_c_air                0\n",
       "rougher.state.floatbank10_c_level              0\n",
       "rougher.state.floatbank10_d_air                0\n",
       "rougher.state.floatbank10_d_level              0\n",
       "rougher.state.floatbank10_e_air                0\n",
       "rougher.state.floatbank10_e_level              0\n",
       "rougher.state.floatbank10_f_air                0\n",
       "rougher.state.floatbank10_f_level              0\n",
       "secondary_cleaner.state.floatbank2_a_air       3\n",
       "secondary_cleaner.state.floatbank2_a_level     0\n",
       "secondary_cleaner.state.floatbank2_b_air       1\n",
       "secondary_cleaner.state.floatbank2_b_level     0\n",
       "secondary_cleaner.state.floatbank3_a_air       8\n",
       "secondary_cleaner.state.floatbank3_a_level     0\n",
       "secondary_cleaner.state.floatbank3_b_air       0\n",
       "secondary_cleaner.state.floatbank3_b_level     0\n",
       "secondary_cleaner.state.floatbank4_a_air       0\n",
       "secondary_cleaner.state.floatbank4_a_level     0\n",
       "secondary_cleaner.state.floatbank4_b_air       0\n",
       "secondary_cleaner.state.floatbank4_b_level     0\n",
       "secondary_cleaner.state.floatbank5_a_air       0\n",
       "secondary_cleaner.state.floatbank5_a_level     0\n",
       "secondary_cleaner.state.floatbank5_b_air       0\n",
       "secondary_cleaner.state.floatbank5_b_level     0\n",
       "secondary_cleaner.state.floatbank6_a_air       0\n",
       "secondary_cleaner.state.floatbank6_a_level     0\n",
       "dtype: int64"
      ]
     },
     "execution_count": 52,
     "metadata": {},
     "output_type": "execute_result"
    }
   ],
   "source": [
    "data_test.isna().sum()"
   ]
  },
  {
   "cell_type": "markdown",
   "metadata": {},
   "source": [
    "Да, совсем немного. Дропнем их:"
   ]
  },
  {
   "cell_type": "code",
   "execution_count": 53,
   "metadata": {},
   "outputs": [
    {
     "name": "stderr",
     "output_type": "stream",
     "text": [
      "/opt/conda/lib/python3.7/site-packages/ipykernel_launcher.py:1: SettingWithCopyWarning: \n",
      "A value is trying to be set on a copy of a slice from a DataFrame\n",
      "\n",
      "See the caveats in the documentation: http://pandas.pydata.org/pandas-docs/stable/user_guide/indexing.html#returning-a-view-versus-a-copy\n",
      "  \"\"\"Entry point for launching an IPython kernel.\n"
     ]
    }
   ],
   "source": [
    "data_test.dropna(axis=0, inplace=True)"
   ]
  },
  {
   "cell_type": "markdown",
   "metadata": {},
   "source": [
    "<div class=\"alert alert-success\">\n",
    "    \n",
    "**Комментарий ревьюера**\n",
    "    \n",
    "Чтобы спрятать предупреждения используй библиотеку **warnings**)Но сначала разберись, что конкретно ему не нравится)\n",
    "</div>"
   ]
  },
  {
   "cell_type": "code",
   "execution_count": 54,
   "metadata": {},
   "outputs": [
    {
     "data": {
      "text/plain": [
       "(5179, 53)"
      ]
     },
     "execution_count": 54,
     "metadata": {},
     "output_type": "execute_result"
    }
   ],
   "source": [
    "data_test.shape"
   ]
  },
  {
   "cell_type": "markdown",
   "metadata": {},
   "source": [
    "#### Промежуточный вывод:"
   ]
  },
  {
   "cell_type": "markdown",
   "metadata": {},
   "source": [
    "В ходе анализа суммарных концентраций, мы нашли несколько тысяч аномальных объектов, чья концентрация была равна нулю. Такие объекты было решено выбросить из тренировочной и тестовой выборок, так как скорее всего, эти объекты появились в результате отсутствия руды на ленте.\n",
    "\n",
    "Так же, было решено оставить объекты значения концентраций которых лежат далеко за пределами усов диаграммы размаха. Оценим, как это скажется на предсказательной способности модели.\n",
    "\n",
    "На данный момент выборки почищены от аномалий. Осталось привести данные к \"читабельности\" т.е. нормировать и разбить на тренировочную и валидную выборки."
   ]
  },
  {
   "cell_type": "markdown",
   "metadata": {},
   "source": [
    "#### Предобработка для целей машинного обучения:"
   ]
  },
  {
   "cell_type": "markdown",
   "metadata": {},
   "source": [
    "На текущий момент мы имеем обучающую выборку из 14 тыс. объектов. Выборка содержит одновременно несколько целевых признаков, что не очень подходит для наших целей. Плюс ко всему, имеются некоторые признаки, которые в реальном процессе еще не доступны для прогнозирования целевого признака. Посему, нужно разделить выборки по целевому признаку, опираясь на последовательность производственных процессов."
   ]
  },
  {
   "cell_type": "markdown",
   "metadata": {},
   "source": [
    "У нас есть хорошая подсказка, какие именно признаки стоит отобрать для каждого этапа. Смотрим на датафрейм **test_data**, где уже отобраны все признаки, необходимые для передачи в модель обучения."
   ]
  },
  {
   "cell_type": "markdown",
   "metadata": {},
   "source": [
    "Формируем выборку для **первого этапа** обогащения - **rougher**. Отберем фичи по которым будем прогнозировать целевой признак **rougher.output.recovery**\n",
    "\n",
    "Нас интересуют признаки, которые мы однозначно можем определить еще до начала процесса флотации. Таких всего несколько:"
   ]
  },
  {
   "cell_type": "code",
   "execution_count": 55,
   "metadata": {},
   "outputs": [],
   "source": [
    "rougher_cols = []\n",
    "\n",
    "for name in data_test.columns:\n",
    "    if 'rougher' in name:\n",
    "        rougher_cols.append(name)"
   ]
  },
  {
   "cell_type": "code",
   "execution_count": 56,
   "metadata": {},
   "outputs": [
    {
     "name": "stdout",
     "output_type": "stream",
     "text": [
      "(13725, 6)\n",
      "(13725,)\n"
     ]
    }
   ],
   "source": [
    "features_rougher = data_train[rougher_cols[:6]]\n",
    "target_rougher = data_train['rougher.output.recovery']\n",
    "\n",
    "print(features_rougher.shape)\n",
    "print(target_rougher.shape)"
   ]
  },
  {
   "cell_type": "markdown",
   "metadata": {},
   "source": [
    "Формируем выборку для **третьего этапа** обогащения - **final**. Отберем фичи по которым будем прогнозировать целевой признак **final.output.recovery**"
   ]
  },
  {
   "cell_type": "code",
   "execution_count": 57,
   "metadata": {},
   "outputs": [
    {
     "name": "stdout",
     "output_type": "stream",
     "text": [
      "(13725, 52)\n",
      "(13725,)\n"
     ]
    }
   ],
   "source": [
    "features_final = data_train[data_test.columns[1:]]\n",
    "target_final = data_train['final.output.recovery']\n",
    "\n",
    "print(features_final.shape)\n",
    "print(target_final.shape)"
   ]
  },
  {
   "cell_type": "markdown",
   "metadata": {},
   "source": [
    "#### Нормирование данных:"
   ]
  },
  {
   "cell_type": "markdown",
   "metadata": {},
   "source": [
    "Нормируем фичи каждой выборки. Для этого сведем весь процесс нормирования в функцию:"
   ]
  },
  {
   "cell_type": "code",
   "execution_count": 58,
   "metadata": {},
   "outputs": [],
   "source": [
    "def normalize(features, features_test):\n",
    "    # запоминаем названия колонок с количественным признаком                                \n",
    "    col_names = [x for x in features.columns]\n",
    "    \n",
    "    # обучаем модель нормирования на тренировочной выборке                                                                            \n",
    "    scaler = StandardScaler()\n",
    "    scaler.fit(features[col_names])\n",
    "    \n",
    "    # выключаем длинное предупреждение о копировании                                                                            \n",
    "    pd.options.mode.chained_assignment = None\n",
    "\n",
    "    # преобразовываем количественные признаки                                                                            \n",
    "    features[col_names] = scaler.transform(features[col_names])\n",
    "    features_test[col_names] = scaler.transform(features_test[col_names])\n",
    "\n",
    "                                                                                \n",
    "    return features, features_test\n"
   ]
  },
  {
   "cell_type": "markdown",
   "metadata": {},
   "source": [
    "<div class=\"alert alert-warning\">\n",
    "    \n",
    "**Комментарий ревьюера**\n",
    "    \n",
    "Комментарии вообще не к месту)Сама функция ок)Круто, что понимаешь как это сделать)\n",
    "</div>"
   ]
  },
  {
   "cell_type": "markdown",
   "metadata": {},
   "source": [
    "<div class=\"alert alert-block alert-info\">У меня в процессе работы над проектами часто получаются какие-то зверски огромные функции. И часто я начинаю прилагать большие усилия чтобы разобраться в них. Поэтому, для себя оставляю комментарии к тому, как функция работает.) В связи с этим у меня вопрос - стоит ли каждое небольшое действие сводить в функцию, и тем самым набирать функцию-сендвич из набора маленьких функций, или же нет ничего страшного с работе с одной многооперационной функцией? Стоит ли удалять комментарии оставленные для себя? </div>"
   ]
  },
  {
   "cell_type": "markdown",
   "metadata": {},
   "source": [
    "<div class=\"alert alert-success\">\n",
    "    \n",
    "**Комментарий ревьюера v_2**\n",
    "     \n",
    "Я могу сказать только своё мнение)А не как надо или не надо делать)Решать всегда тебе)\n",
    "    \n",
    "В функции стоит оборачивать вещи, которые ты используешь несколько раз, чтобы не было 5 раз копипаста) Комментарии к функциям нужны лишь тогда, когда в них есть что-то стороннее или очень сложное. В основном же, весь функционал можно описать в 1 предложении выше и не залезать в код)\n",
    "</div>"
   ]
  },
  {
   "cell_type": "markdown",
   "metadata": {},
   "source": [
    "Отберем выборки для теста:"
   ]
  },
  {
   "cell_type": "code",
   "execution_count": 59,
   "metadata": {},
   "outputs": [],
   "source": [
    "features_rougher_test = data_test.loc[:, features_rougher.columns]\n",
    "\n",
    "target_test = data_full.loc[data_full['date'].isin(data_test['date'])]['rougher.output.recovery']\n",
    "\n",
    "features_final_test = data_test.loc[:, features_final.columns]"
   ]
  },
  {
   "cell_type": "markdown",
   "metadata": {},
   "source": [
    "1. Нормируем выборки rougher:"
   ]
  },
  {
   "cell_type": "code",
   "execution_count": 60,
   "metadata": {},
   "outputs": [],
   "source": [
    "features_rougher, features_rougher_test = normalize(features_rougher, features_rougher_test)"
   ]
  },
  {
   "cell_type": "markdown",
   "metadata": {},
   "source": [
    "Проверяем размер выборок:"
   ]
  },
  {
   "cell_type": "code",
   "execution_count": 61,
   "metadata": {},
   "outputs": [
    {
     "name": "stdout",
     "output_type": "stream",
     "text": [
      "(13725, 6)\n",
      "(5179, 6)\n"
     ]
    }
   ],
   "source": [
    "print(features_rougher.shape)\n",
    "print(features_rougher_test.shape)"
   ]
  },
  {
   "cell_type": "markdown",
   "metadata": {},
   "source": [
    "1. Нормируем выборки final:"
   ]
  },
  {
   "cell_type": "code",
   "execution_count": 62,
   "metadata": {},
   "outputs": [],
   "source": [
    "features_final, features_final_test = normalize(features_final, features_final_test)"
   ]
  },
  {
   "cell_type": "code",
   "execution_count": 63,
   "metadata": {},
   "outputs": [
    {
     "name": "stdout",
     "output_type": "stream",
     "text": [
      "(13725, 52)\n",
      "(5179, 52)\n"
     ]
    }
   ],
   "source": [
    "print(features_final.shape)\n",
    "print(features_final_test.shape)"
   ]
  },
  {
   "cell_type": "markdown",
   "metadata": {},
   "source": [
    "### Вывод:"
   ]
  },
  {
   "cell_type": "markdown",
   "metadata": {},
   "source": [
    "Проведена предобработка данных. Почищены пропуски. В результате работы с пропусками, обучающая выборка уменьшилась на чуть более чем 2тыс. объектов (~16%). Данные разбиты на выборки по целевым признакам, в соответствии с технологическим процессом. Признаки в выборках нормированы."
   ]
  },
  {
   "cell_type": "markdown",
   "metadata": {},
   "source": [
    "## Модель"
   ]
  },
  {
   "cell_type": "markdown",
   "metadata": {},
   "source": [
    "### Функция метрики качества"
   ]
  },
  {
   "cell_type": "markdown",
   "metadata": {},
   "source": [
    "Пишем функцию для метрики качества sMAPE:"
   ]
  },
  {
   "cell_type": "code",
   "execution_count": 64,
   "metadata": {},
   "outputs": [],
   "source": [
    "def smape(target, predictions):\n",
    "    numerator = abs(predictions - target)\n",
    "    denominator = (abs(target) + abs(predictions)) / 2\n",
    "    summa = (numerator / denominator).sum()\n",
    "    smape = 1 / len(target) * summa * 100\n",
    "    return smape\n"
   ]
  },
  {
   "cell_type": "markdown",
   "metadata": {},
   "source": [
    "И функцию для вычислени финального sMAPE:"
   ]
  },
  {
   "cell_type": "code",
   "execution_count": 65,
   "metadata": {},
   "outputs": [],
   "source": [
    "def smape_final(score_1, score_2):\n",
    "    score = 0.25 * score_1 + 0.75 * score_2\n",
    "    return score"
   ]
  },
  {
   "cell_type": "markdown",
   "metadata": {},
   "source": [
    "### Обучение моделей"
   ]
  },
  {
   "cell_type": "markdown",
   "metadata": {},
   "source": [
    "Для оценки качества моделей, напишем свою метрику, которую передадим в модель:"
   ]
  },
  {
   "cell_type": "code",
   "execution_count": 66,
   "metadata": {},
   "outputs": [],
   "source": [
    "smape_score = make_scorer(smape, greater_is_better=False)"
   ]
  },
  {
   "cell_type": "markdown",
   "metadata": {},
   "source": [
    "Найдем лучшую модель, с наименьшим smape_score. Воспользуемся кросс-валидацией:"
   ]
  },
  {
   "cell_type": "code",
   "execution_count": 67,
   "metadata": {},
   "outputs": [],
   "source": [
    "def best_model(features, target):\n",
    "    models = [LinearRegression, Ridge, Lasso]\n",
    "    models_names = ['LinearRegression', 'Ridge', 'Lasso']\n",
    "    best_model_score = 1000\n",
    "    for i in range(len(models)):\n",
    "        model_score = np.mean(cross_val_score(models[i](), features, target, cv=5, scoring=smape_score))\n",
    "        if abs(model_score) < abs(best_model_score):\n",
    "            best_model_score = model_score\n",
    "            best_num_of_model = i\n",
    "    print('Лучшая модель - ', models_names[best_num_of_model], '. Ее score =', best_model_score)"
   ]
  },
  {
   "cell_type": "markdown",
   "metadata": {},
   "source": [
    "Найдем лучшую модель для данных этапа rougher:"
   ]
  },
  {
   "cell_type": "code",
   "execution_count": 68,
   "metadata": {},
   "outputs": [
    {
     "name": "stdout",
     "output_type": "stream",
     "text": [
      "Лучшая модель -  Ridge . Ее score = -6.6944601323009945\n"
     ]
    }
   ],
   "source": [
    "best_model(features_rougher, target_rougher)"
   ]
  },
  {
   "cell_type": "markdown",
   "metadata": {},
   "source": [
    "<div class=\"alert alert-danger\">\n",
    "    \n",
    "**Комментарий ревьюера**\n",
    "    \n",
    "Так, там дальше ошибка, поэтому задам вопрос здесь)\n",
    "    \n",
    "Наша метрика не может быть отрицательно, откуда отрицательные значения?)Потому что мы считаем не ее, вопрос, как мы хотим найти модель с лучшим значением нашей метрики, если мы ее не считаем?)\n",
    "    \n",
    "Жду исправлений)Если есть какие-то вопросы, буду рад ответить)\n",
    "</div>"
   ]
  },
  {
   "cell_type": "markdown",
   "metadata": {},
   "source": [
    "<div class=\"alert alert-block alert-info\">Глупая ошибка. Обидно за нее(</div>"
   ]
  },
  {
   "cell_type": "markdown",
   "metadata": {},
   "source": [
    "<div class=\"alert alert-block alert-info\">Да, метрика не может быть отрицательной. И в самой функции метрики, все операции производятся со значениями взятыми по модулю. Этот вопрос поднимался в slack, далее привожу дословный комментарий наставника:\n",
    "    \n",
    "\n",
    "\"это только из-за параметра greater_is_better = False в make_scorer(). Его немного костыльно сделали. И он вместо минимизации заменяет все значения на отрицательные и максимизирует значение. В остальных случаях ошибки всегда положительные и модуль не нужен\"\n",
    "    \n",
    "    \n",
    "Даже обернув результат выполнения функции метрики качества в модуль, результат все равно отрицательный...\n",
    "\n",
    "</div>"
   ]
  },
  {
   "cell_type": "markdown",
   "metadata": {},
   "source": [
    "<div class=\"alert alert-block alert-info\">И я, честно говоря, не понял формулировки вопроса:\n",
    "    \n",
    "\"Потому что мы считаем не ее, вопрос, как мы хотим найти модель с лучшим значением нашей метрики, если мы ее не считаем?)\"\n",
    "\n",
    "</div>"
   ]
  },
  {
   "cell_type": "markdown",
   "metadata": {},
   "source": [
    "<div class=\"alert alert-success\">\n",
    "    \n",
    "**Комментарий ревьюера v_2**\n",
    "     \n",
    "В общем, чтобы не путать тебя скажу так)Я считаю полностью неоправданным использование make_scorer и подобных вещей на равне с необдуманным использованием gridsearch'a) Можно ли так делать? Да, конечно, но хочется чтобы студент сначала разобрался с базой, а потом уже использовал сторонние методы)\n",
    "</div>"
   ]
  },
  {
   "cell_type": "markdown",
   "metadata": {},
   "source": [
    "Найдем лучшую модель для данных этапа final:"
   ]
  },
  {
   "cell_type": "code",
   "execution_count": 69,
   "metadata": {},
   "outputs": [
    {
     "name": "stdout",
     "output_type": "stream",
     "text": [
      "Лучшая модель -  Lasso . Ее score = -9.281911415105643\n"
     ]
    }
   ],
   "source": [
    "best_model(features_final, target_final)"
   ]
  },
  {
   "cell_type": "markdown",
   "metadata": {},
   "source": [
    "Обучим на лучших моделях нашу итоговую модель, и проверим ее на тестовых данных:"
   ]
  },
  {
   "cell_type": "code",
   "execution_count": 70,
   "metadata": {},
   "outputs": [],
   "source": [
    "def train_model(model, features, target, features_test, target_test, result=['score', 'pred']):\n",
    "    best_model = model()\n",
    "    best_model.fit(features, target)\n",
    "    y_pred = best_model.predict(features_test)\n",
    "    score = smape(target_test, y_pred)\n",
    "    if result == 'score':\n",
    "        return score\n",
    "    if result == 'pred':\n",
    "        return y_pred"
   ]
  },
  {
   "cell_type": "code",
   "execution_count": 71,
   "metadata": {},
   "outputs": [],
   "source": [
    "def check_smape_score(model, feat_1, targ_1, feat_2, targ_2, feat_1_test, feat_2_test, targ_test, dummy_check=False):\n",
    "    score_1 = train_model(model, feat_1, targ_1, feat_1_test, targ_test, 'score')\n",
    "    score_2 = train_model(model, feat_2, targ_2, feat_2_test, targ_test, 'score')\n",
    "    smape_score = smape_final(score_1, score_2)\n",
    "    \n",
    "    if dummy_check == True:\n",
    "        score_1_dummy = train_model(DummyRegressor, feat_1, targ_1, feat_1_test, targ_test, 'score')\n",
    "        score_2_dummy = train_model(DummyRegressor, feat_2, targ_2, feat_2_test, targ_test, 'score')\n",
    "        smape_score_dummy = smape_final(score_1_dummy, score_2_dummy)\n",
    "        if abs(smape_score_dummy) > abs(smape_score):\n",
    "            print('Dummy model sMAPE score: ' + str(abs(smape_score_dummy)) + ' > '\\\n",
    "                  + str(abs(smape_score)) + ' :Best model sMAPE score')\n",
    "            return 'Проверка на адекватность пройдена!'\n",
    "        else:\n",
    "            print('Dummy model sMAPE score: ' + str(abs(smape_score_dummy)) + ' < '\\\n",
    "                  + str(abs(smape_score)) + ' :Best model sMAPE score')\n",
    "            return 'Проверка на адекватность НЕ пройдена!'\n",
    "    \n",
    "    return smape_score"
   ]
  },
  {
   "cell_type": "markdown",
   "metadata": {},
   "source": [
    "Найдем итоговый sMAPE и зодно проверим модели на адекватность:"
   ]
  },
  {
   "cell_type": "code",
   "execution_count": 72,
   "metadata": {},
   "outputs": [
    {
     "name": "stdout",
     "output_type": "stream",
     "text": [
      "Dummy model sMAPE score: 20.546435311415262 > 17.562562190968336 :Best model sMAPE score\n"
     ]
    },
    {
     "data": {
      "text/plain": [
       "'Проверка на адекватность пройдена!'"
      ]
     },
     "execution_count": 72,
     "metadata": {},
     "output_type": "execute_result"
    }
   ],
   "source": [
    "check_smape_score(Lasso, features_rougher, target_rougher,\n",
    "                  features_final, target_final,\n",
    "                  features_rougher_test, features_final_test,\n",
    "                  target_test, dummy_check=True)"
   ]
  },
  {
   "cell_type": "markdown",
   "metadata": {},
   "source": [
    "<div class=\"alert alert-success\">\n",
    "    \n",
    "**Комментарий ревьюера v_2**\n",
    "     \n",
    "Это не проверка на адекватность)Но не будем об этом)Спасибо за доработки)Ты большой молодец, что стараешься делать качественно и хорошо проекты, респект)Проект принимаю)\n",
    "    \n",
    "Если вдруг я что-то упустил или у тебя появится вопрос ко мне, пожалуйста передай его через кураторов)Успехов в дальнейшем обучении)\n",
    "</div>"
   ]
  },
  {
   "cell_type": "markdown",
   "metadata": {},
   "source": [
    "## Общий вывод"
   ]
  },
  {
   "cell_type": "markdown",
   "metadata": {},
   "source": [
    "По результатам работы над проектом реализован прототип предсказания коэффициента восстановления золота (КВЗ) из золотоносной руды.\n",
    "Прототип прошел проверку на адекватность, и показал score лучший чем у dummy модели.\n",
    "\n",
    "По ходу работы оказалось, что часть данных является ложными, т.е. записывались в момент простаивания производства. Поэтому, следует предусмотреть внесение изменений в сбор данных, с тем, чтобы итоговый датасет был более чистым.\n",
    "\n",
    "На удивление, оказалось, что более точные предсказания получаются на выборке с гораздо меньшим количеством признаков. Т.е. возможно, более точно определить КВЗ на начальном этапе, еще до момента начала флотации.\n",
    "\n",
    "Проверена гипотеза о равенстве средних размеров гранул в тестовой и тренировочной выборке. Оказалось, что гранулы имеют разный размер, что может отрицательно сказаться на итоговой предсказательной способности модели."
   ]
  },
  {
   "cell_type": "markdown",
   "metadata": {},
   "source": [
    "## Чек-лист готовности проекта"
   ]
  },
  {
   "cell_type": "markdown",
   "metadata": {},
   "source": [
    "- [x]  Jupyter Notebook открыт\n",
    "- [x]  Весь код выполняется без ошибок\n",
    "- [x]  Ячейки с кодом расположены в порядке выполнения\n",
    "- [x]  Выполнен шаг 1: данные подготовлены\n",
    "    - [x]  Проверена формула вычисления эффективности обогащения\n",
    "    - [x]  Проанализированы признаки, недоступные в тестовой выборке\n",
    "    - [x]  Проведена предобработка данных\n",
    "- [x]  Выполнен шаг 2: данные проанализированы\n",
    "    - [x]  Исследовано изменение концентрации элементов на каждом этапе\n",
    "    - [x]  Проанализированы распределения размеров гранул на обучающей и тестовой выборках\n",
    "    - [x]  Исследованы суммарные концентрации\n",
    "    - [x]  Проанализированы и обработаны аномальные значения\n",
    "- [x]  Выполнен шаг 3: построена модель прогнозирования\n",
    "    - [x]  Написана функция для вычисления итогового *sMAPE*\n",
    "    - [x]  Обучено и проверено несколько моделей\n",
    "    - [x]  Выбрана лучшая модель, её качество проверено на тестовой выборке"
   ]
  }
 ],
 "metadata": {
  "kernelspec": {
   "display_name": "Python 3",
   "language": "python",
   "name": "python3"
  },
  "language_info": {
   "codemirror_mode": {
    "name": "ipython",
    "version": 3
   },
   "file_extension": ".py",
   "mimetype": "text/x-python",
   "name": "python",
   "nbconvert_exporter": "python",
   "pygments_lexer": "ipython3",
   "version": "3.7.8"
  },
  "toc": {
   "base_numbering": 1,
   "nav_menu": {},
   "number_sections": true,
   "sideBar": true,
   "skip_h1_title": true,
   "title_cell": "Содержание",
   "title_sidebar": "Contents",
   "toc_cell": true,
   "toc_position": {
    "height": "calc(100% - 180px)",
    "left": "10px",
    "top": "150px",
    "width": "186.797px"
   },
   "toc_section_display": true,
   "toc_window_display": false
  }
 },
 "nbformat": 4,
 "nbformat_minor": 2
}
