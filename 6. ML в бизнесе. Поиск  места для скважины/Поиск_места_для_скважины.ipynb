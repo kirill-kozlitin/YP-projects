{
 "cells": [
  {
   "cell_type": "markdown",
   "metadata": {},
   "source": [
    "# Выбор локации для скважины"
   ]
  },
  {
   "cell_type": "markdown",
   "metadata": {},
   "source": [
    "Допустим, вы работаете в добывающей компании «ГлавРосГосНефть». Нужно решить, где бурить новую скважину.\n",
    "\n",
    "Вам предоставлены пробы нефти в трёх регионах: в каждом 10 000 месторождений, где измерили качество нефти и объём её запасов. Постройте модель машинного обучения, которая поможет определить регион, где добыча принесёт наибольшую прибыль. Проанализируйте возможную прибыль и риски техникой *Bootstrap.*\n",
    "\n",
    "Шаги для выбора локации:\n",
    "\n",
    "- В избранном регионе ищут месторождения, для каждого определяют значения признаков;\n",
    "- Строят модель и оценивают объём запасов;\n",
    "- Выбирают месторождения с самым высокими оценками значений. Количество месторождений зависит от бюджета компании и стоимости разработки одной скважины;\n",
    "- Прибыль равна суммарной прибыли отобранных месторождений."
   ]
  },
  {
   "cell_type": "markdown",
   "metadata": {
    "toc": true
   },
   "source": [
    "<h1>План реализации проекта<span class=\"tocSkip\"></span></h1>\n",
    "<div class=\"toc\"><ul class=\"toc-item\"><li><ul class=\"toc-item\"><li><span><a href=\"#Общее-впечатление\" data-toc-modified-id=\"Общее-впечатление-0.1\"><span class=\"toc-item-num\">0.1&nbsp;&nbsp;</span><font color=\"orange\">Общее впечатление</font></a></span></li><li><span><a href=\"#Общее-впечатление-(ревью-2)\" data-toc-modified-id=\"Общее-впечатление-(ревью-2)-0.2\"><span class=\"toc-item-num\">0.2&nbsp;&nbsp;</span><font color=\"orange\">Общее впечатление (ревью 2)</font></a></span></li></ul></li><li><span><a href=\"#Загрузка-и-подготовка-данных\" data-toc-modified-id=\"Загрузка-и-подготовка-данных-1\"><span class=\"toc-item-num\">1&nbsp;&nbsp;</span>Загрузка и подготовка данных</a></span><ul class=\"toc-item\"><li><span><a href=\"#Импорт-библиотек\" data-toc-modified-id=\"Импорт-библиотек-1.1\"><span class=\"toc-item-num\">1.1&nbsp;&nbsp;</span>Импорт библиотек</a></span></li><li><span><a href=\"#Распаковка-данных\" data-toc-modified-id=\"Распаковка-данных-1.2\"><span class=\"toc-item-num\">1.2&nbsp;&nbsp;</span>Распаковка данных</a></span><ul class=\"toc-item\"><li><span><a href=\"#Промежуточный-вывод:\" data-toc-modified-id=\"Промежуточный-вывод:-1.2.1\"><span class=\"toc-item-num\">1.2.1&nbsp;&nbsp;</span>Промежуточный вывод:</a></span></li></ul></li><li><span><a href=\"#Подготовка-данных-для-целей-машинного-обучения\" data-toc-modified-id=\"Подготовка-данных-для-целей-машинного-обучения-1.3\"><span class=\"toc-item-num\">1.3&nbsp;&nbsp;</span>Подготовка данных для целей машинного обучения</a></span><ul class=\"toc-item\"><li><span><a href=\"#Проверка-на-мультиколлинеарность\" data-toc-modified-id=\"Проверка-на-мультиколлинеарность-1.3.1\"><span class=\"toc-item-num\">1.3.1&nbsp;&nbsp;</span>Проверка на мультиколлинеарность</a></span></li><li><span><a href=\"#Нормирование-признаков\" data-toc-modified-id=\"Нормирование-признаков-1.3.2\"><span class=\"toc-item-num\">1.3.2&nbsp;&nbsp;</span>Нормирование признаков</a></span></li></ul></li><li><span><a href=\"#Вывод:\" data-toc-modified-id=\"Вывод:-1.4\"><span class=\"toc-item-num\">1.4&nbsp;&nbsp;</span>Вывод:</a></span></li></ul></li><li><span><a href=\"#Обучение-и-проверка-модели\" data-toc-modified-id=\"Обучение-и-проверка-модели-2\"><span class=\"toc-item-num\">2&nbsp;&nbsp;</span>Обучение и проверка модели</a></span><ul class=\"toc-item\"><li><span><a href=\"#Обучение-модели\" data-toc-modified-id=\"Обучение-модели-2.1\"><span class=\"toc-item-num\">2.1&nbsp;&nbsp;</span>Обучение модели</a></span></li><li><span><a href=\"#Проверка-модели-на-адекватность\" data-toc-modified-id=\"Проверка-модели-на-адекватность-2.2\"><span class=\"toc-item-num\">2.2&nbsp;&nbsp;</span>Проверка модели на адекватность</a></span></li><li><span><a href=\"#Вывод:\" data-toc-modified-id=\"Вывод:-2.3\"><span class=\"toc-item-num\">2.3&nbsp;&nbsp;</span>Вывод:</a></span></li></ul></li><li><span><a href=\"#Подготовка-к-расчёту-прибыли\" data-toc-modified-id=\"Подготовка-к-расчёту-прибыли-3\"><span class=\"toc-item-num\">3&nbsp;&nbsp;</span>Подготовка к расчёту прибыли</a></span><ul class=\"toc-item\"><li><span><a href=\"#Вывод:\" data-toc-modified-id=\"Вывод:-3.1\"><span class=\"toc-item-num\">3.1&nbsp;&nbsp;</span>Вывод:</a></span></li></ul></li><li><span><a href=\"#Расчёт-прибыли-и-рисков\" data-toc-modified-id=\"Расчёт-прибыли-и-рисков-4\"><span class=\"toc-item-num\">4&nbsp;&nbsp;</span>Расчёт прибыли и рисков</a></span></li><li><span><a href=\"#Вывод:\" data-toc-modified-id=\"Вывод:-5\"><span class=\"toc-item-num\">5&nbsp;&nbsp;</span>Вывод:</a></span></li><li><span><a href=\"#Чек-лист-готовности-проекта\" data-toc-modified-id=\"Чек-лист-готовности-проекта-6\"><span class=\"toc-item-num\">6&nbsp;&nbsp;</span>Чек-лист готовности проекта</a></span></li></ul></div>"
   ]
  },
  {
   "cell_type": "markdown",
   "metadata": {},
   "source": [
    "## Загрузка и подготовка данных"
   ]
  },
  {
   "cell_type": "markdown",
   "metadata": {},
   "source": [
    "### Импорт библиотек"
   ]
  },
  {
   "cell_type": "code",
   "execution_count": 1,
   "metadata": {},
   "outputs": [],
   "source": [
    "import pandas as pd\n",
    "import numpy as np\n",
    "from itertools import combinations\n",
    "\n",
    "from sklearn.preprocessing import PolynomialFeatures, StandardScaler\n",
    "from sklearn.model_selection import train_test_split\n",
    "from sklearn.linear_model import LinearRegression\n",
    "from sklearn.metrics import mean_squared_error\n",
    "\n",
    "from scipy import stats as st"
   ]
  },
  {
   "cell_type": "markdown",
   "metadata": {},
   "source": [
    "### Распаковка данных"
   ]
  },
  {
   "cell_type": "markdown",
   "metadata": {},
   "source": [
    "**Описание данных**"
   ]
  },
  {
   "cell_type": "markdown",
   "metadata": {},
   "source": [
    "- id — уникальный идентификатор скважины;\n",
    "- f0, f1, f2 — три признака точек (неважно, что они означают, но сами признаки значимы);\n",
    "- product — объём запасов в скважине (тыс. баррелей)."
   ]
  },
  {
   "cell_type": "code",
   "execution_count": 2,
   "metadata": {},
   "outputs": [],
   "source": [
    "geo_data_0 = pd.read_csv('/datasets/geo_data_0.csv')\n",
    "geo_data_1 = pd.read_csv('/datasets/geo_data_1.csv')\n",
    "geo_data_2 = pd.read_csv('/datasets/geo_data_2.csv')"
   ]
  },
  {
   "cell_type": "markdown",
   "metadata": {},
   "source": [
    "Пройдемся циклом по фреймам чтобы выполнить необходимые действия для первичного изучения данных:"
   ]
  },
  {
   "cell_type": "code",
   "execution_count": 3,
   "metadata": {},
   "outputs": [
    {
     "name": "stdout",
     "output_type": "stream",
     "text": [
      "Данные по региону №0\n",
      "      id        f0        f1        f2     product\n",
      "0  txEyH  0.705745 -0.497823  1.221170  105.280062\n",
      "1  2acmU  1.334711 -0.340164  4.365080   73.037750\n",
      "2  409Wp  1.022732  0.151990  1.419926   85.265647\n",
      "3  iJLyR -0.032172  0.139033  2.978566  168.620776\n",
      "4  Xdl7t  1.988431  0.155413  4.751769  154.036647\n",
      "\n",
      "                  f0             f1             f2        product\n",
      "count  100000.000000  100000.000000  100000.000000  100000.000000\n",
      "mean        0.500419       0.250143       2.502647      92.500000\n",
      "std         0.871832       0.504433       3.248248      44.288691\n",
      "min        -1.408605      -0.848218     -12.088328       0.000000\n",
      "25%        -0.072580      -0.200881       0.287748      56.497507\n",
      "50%         0.502360       0.250252       2.515969      91.849972\n",
      "75%         1.073581       0.700646       4.715088     128.564089\n",
      "max         2.362331       1.343769      16.003790     185.364347\n",
      "\n",
      "<class 'pandas.core.frame.DataFrame'>\n",
      "RangeIndex: 100000 entries, 0 to 99999\n",
      "Data columns (total 5 columns):\n",
      "id         100000 non-null object\n",
      "f0         100000 non-null float64\n",
      "f1         100000 non-null float64\n",
      "f2         100000 non-null float64\n",
      "product    100000 non-null float64\n",
      "dtypes: float64(4), object(1)\n",
      "memory usage: 3.8+ MB\n",
      "None\n",
      "\n",
      "Количество дубликатов 0\n",
      "\n",
      "Данные по региону №1\n",
      "      id         f0         f1        f2     product\n",
      "0  kBEdx -15.001348  -8.276000 -0.005876    3.179103\n",
      "1  62mP7  14.272088  -3.475083  0.999183   26.953261\n",
      "2  vyE1P   6.263187  -5.948386  5.001160  134.766305\n",
      "3  KcrkZ -13.081196 -11.506057  4.999415  137.945408\n",
      "4  AHL4O  12.702195  -8.147433  5.004363  134.766305\n",
      "\n",
      "                  f0             f1             f2        product\n",
      "count  100000.000000  100000.000000  100000.000000  100000.000000\n",
      "mean        1.141296      -4.796579       2.494541      68.825000\n",
      "std         8.965932       5.119872       1.703572      45.944423\n",
      "min       -31.609576     -26.358598      -0.018144       0.000000\n",
      "25%        -6.298551      -8.267985       1.000021      26.953261\n",
      "50%         1.153055      -4.813172       2.011479      57.085625\n",
      "75%         8.621015      -1.332816       3.999904     107.813044\n",
      "max        29.421755      18.734063       5.019721     137.945408\n",
      "\n",
      "<class 'pandas.core.frame.DataFrame'>\n",
      "RangeIndex: 100000 entries, 0 to 99999\n",
      "Data columns (total 5 columns):\n",
      "id         100000 non-null object\n",
      "f0         100000 non-null float64\n",
      "f1         100000 non-null float64\n",
      "f2         100000 non-null float64\n",
      "product    100000 non-null float64\n",
      "dtypes: float64(4), object(1)\n",
      "memory usage: 3.8+ MB\n",
      "None\n",
      "\n",
      "Количество дубликатов 0\n",
      "\n",
      "Данные по региону №2\n",
      "      id        f0        f1        f2     product\n",
      "0  fwXo0 -1.146987  0.963328 -0.828965   27.758673\n",
      "1  WJtFt  0.262778  0.269839 -2.530187   56.069697\n",
      "2  ovLUW  0.194587  0.289035 -5.586433   62.871910\n",
      "3  q6cA6  2.236060 -0.553760  0.930038  114.572842\n",
      "4  WPMUX -0.515993  1.716266  5.899011  149.600746\n",
      "\n",
      "                  f0             f1             f2        product\n",
      "count  100000.000000  100000.000000  100000.000000  100000.000000\n",
      "mean        0.002023      -0.002081       2.495128      95.000000\n",
      "std         1.732045       1.730417       3.473445      44.749921\n",
      "min        -8.760004      -7.084020     -11.970335       0.000000\n",
      "25%        -1.162288      -1.174820       0.130359      59.450441\n",
      "50%         0.009424      -0.009482       2.484236      94.925613\n",
      "75%         1.158535       1.163678       4.858794     130.595027\n",
      "max         7.238262       7.844801      16.739402     190.029838\n",
      "\n",
      "<class 'pandas.core.frame.DataFrame'>\n",
      "RangeIndex: 100000 entries, 0 to 99999\n",
      "Data columns (total 5 columns):\n",
      "id         100000 non-null object\n",
      "f0         100000 non-null float64\n",
      "f1         100000 non-null float64\n",
      "f2         100000 non-null float64\n",
      "product    100000 non-null float64\n",
      "dtypes: float64(4), object(1)\n",
      "memory usage: 3.8+ MB\n",
      "None\n",
      "\n",
      "Количество дубликатов 0\n",
      "\n"
     ]
    }
   ],
   "source": [
    "datas = [geo_data_0, geo_data_1, geo_data_2]\n",
    "\n",
    "counter = 0\n",
    "for i in datas:\n",
    "    print('Данные по региону №' + str(counter))\n",
    "    print(i.head())\n",
    "    print()\n",
    "    print(i.describe())\n",
    "    print()\n",
    "    print(i.info())\n",
    "    print()\n",
    "    print('Количество дубликатов', i.duplicated().sum())\n",
    "    print()\n",
    "    counter += 1"
   ]
  },
  {
   "cell_type": "markdown",
   "metadata": {},
   "source": [
    "#### Промежуточный вывод:"
   ]
  },
  {
   "cell_type": "markdown",
   "metadata": {},
   "source": [
    "На первый взгляд данные хорошего качества. Отсутствуют пропуски и дубляжи. Все признаки приведены к оптимальным типам. Грубая, первоначальная предобработка не требуется. Посмотрим, подходят ли данные в таком виде для машинного обучения..."
   ]
  },
  {
   "cell_type": "markdown",
   "metadata": {},
   "source": [
    "### Подготовка данных для целей машинного обучения"
   ]
  },
  {
   "cell_type": "markdown",
   "metadata": {},
   "source": [
    "План подготовки данных:\n",
    "\n",
    "- Проверка на мультиколлинеарность\n",
    "- Нормирование данных"
   ]
  },
  {
   "cell_type": "markdown",
   "metadata": {},
   "source": [
    "#### Проверка на мультиколлинеарность"
   ]
  },
  {
   "cell_type": "markdown",
   "metadata": {},
   "source": [
    "Здесь тоже, в целях ускорения процесса, воспользуемся циклом:"
   ]
  },
  {
   "cell_type": "code",
   "execution_count": 4,
   "metadata": {},
   "outputs": [
    {
     "name": "stdout",
     "output_type": "stream",
     "text": [
      "               f0        f1        f2   product\n",
      "f0       1.000000 -0.440723 -0.003153  0.143536\n",
      "f1      -0.440723  1.000000  0.001724 -0.192356\n",
      "f2      -0.003153  0.001724  1.000000  0.483663\n",
      "product  0.143536 -0.192356  0.483663  1.000000\n",
      "               f0        f1        f2   product\n",
      "f0       1.000000  0.182287 -0.001777 -0.030491\n",
      "f1       0.182287  1.000000 -0.002595 -0.010155\n",
      "f2      -0.001777 -0.002595  1.000000  0.999397\n",
      "product -0.030491 -0.010155  0.999397  1.000000\n",
      "               f0        f1        f2   product\n",
      "f0       1.000000  0.000528 -0.000448 -0.001987\n",
      "f1       0.000528  1.000000  0.000779 -0.001012\n",
      "f2      -0.000448  0.000779  1.000000  0.445871\n",
      "product -0.001987 -0.001012  0.445871  1.000000\n"
     ]
    }
   ],
   "source": [
    "for i in datas:\n",
    "    print(i.corr())"
   ]
  },
  {
   "cell_type": "markdown",
   "metadata": {},
   "source": [
    "- Наблюдается практически полная взаимосвязь признака f2 региона №1 с целевой переменной product. Значит, возможно, предсказательная способность моделей на данных по этомурегиону будет выше.\n",
    "\n",
    "- Есть средняя корреляция (до 0.5) между некоторыми признаками в каждом из фреймов. Это допустимо.\n"
   ]
  },
  {
   "cell_type": "markdown",
   "metadata": {},
   "source": [
    "Увеличим признаковое пространстово каждого набора данных. Возможно, это увеличит качетво моделей:"
   ]
  },
  {
   "cell_type": "markdown",
   "metadata": {},
   "source": [
    "Напишем функцию, увеличивающую признаковое пространство фрейма:"
   ]
  },
  {
   "cell_type": "code",
   "execution_count": 5,
   "metadata": {},
   "outputs": [],
   "source": [
    "def feature_bulg(df): # передавать фреймы с фичами и целевым признаком\n",
    "    #разобью фрейм на фичи и целевой. Целевой приклеится после раздутия признакового пространства\n",
    "    data = df.iloc[:, 1:4] # можно столбцы с фичами тоже вынести в параметр функции. Пока оставлю так\n",
    "    \n",
    "    # генерация будущих названий столбцов\n",
    "    combos = list(combinations(list(data.columns), 2))\n",
    "    col_names = list(data.columns) + ['_'.join(x) for x in combos]\n",
    "    \n",
    "    # генерация новых признаков\n",
    "    poly = PolynomialFeatures(interaction_only=True, include_bias=False)\n",
    "    data = poly.fit_transform(data)\n",
    "    data = pd.DataFrame(data)\n",
    "    data.columns = col_names\n",
    "    \n",
    "    data['product'] = df['product']\n",
    "    \n",
    "    return data"
   ]
  },
  {
   "cell_type": "markdown",
   "metadata": {},
   "source": [
    "Преобразуем исходные наборы данных. Уберем сильно коррелирующие признаки."
   ]
  },
  {
   "cell_type": "code",
   "execution_count": 6,
   "metadata": {},
   "outputs": [],
   "source": [
    "reg_0_fb = feature_bulg(geo_data_0)\n",
    "reg_1_fb = feature_bulg(geo_data_1)\n",
    "reg_2_fb = feature_bulg(geo_data_2)"
   ]
  },
  {
   "cell_type": "code",
   "execution_count": 7,
   "metadata": {},
   "outputs": [],
   "source": [
    "datas_fb = [reg_0_fb, reg_1_fb, reg_2_fb]"
   ]
  },
  {
   "cell_type": "markdown",
   "metadata": {},
   "source": [
    "Чтобы было удобнее смотреть на матрицу корреляции, упростим ее, преобразовав значения корреляции в 0, если значение меньше порога, и в 1 если больше. Величину порога условно примем равной 0.9."
   ]
  },
  {
   "cell_type": "code",
   "execution_count": 8,
   "metadata": {},
   "outputs": [
    {
     "data": {
      "text/html": [
       "<div>\n",
       "<style scoped>\n",
       "    .dataframe tbody tr th:only-of-type {\n",
       "        vertical-align: middle;\n",
       "    }\n",
       "\n",
       "    .dataframe tbody tr th {\n",
       "        vertical-align: top;\n",
       "    }\n",
       "\n",
       "    .dataframe thead th {\n",
       "        text-align: right;\n",
       "    }\n",
       "</style>\n",
       "<table border=\"1\" class=\"dataframe\">\n",
       "  <thead>\n",
       "    <tr style=\"text-align: right;\">\n",
       "      <th></th>\n",
       "      <th>f0</th>\n",
       "      <th>f1</th>\n",
       "      <th>f2</th>\n",
       "      <th>f0_f1</th>\n",
       "      <th>f0_f2</th>\n",
       "      <th>f1_f2</th>\n",
       "      <th>product</th>\n",
       "    </tr>\n",
       "  </thead>\n",
       "  <tbody>\n",
       "    <tr>\n",
       "      <td>f0</td>\n",
       "      <td>1</td>\n",
       "      <td>0</td>\n",
       "      <td>0</td>\n",
       "      <td>0</td>\n",
       "      <td>0</td>\n",
       "      <td>0</td>\n",
       "      <td>0</td>\n",
       "    </tr>\n",
       "    <tr>\n",
       "      <td>f1</td>\n",
       "      <td>0</td>\n",
       "      <td>1</td>\n",
       "      <td>0</td>\n",
       "      <td>0</td>\n",
       "      <td>0</td>\n",
       "      <td>0</td>\n",
       "      <td>0</td>\n",
       "    </tr>\n",
       "    <tr>\n",
       "      <td>f2</td>\n",
       "      <td>0</td>\n",
       "      <td>0</td>\n",
       "      <td>1</td>\n",
       "      <td>0</td>\n",
       "      <td>0</td>\n",
       "      <td>0</td>\n",
       "      <td>0</td>\n",
       "    </tr>\n",
       "    <tr>\n",
       "      <td>f0_f1</td>\n",
       "      <td>0</td>\n",
       "      <td>0</td>\n",
       "      <td>0</td>\n",
       "      <td>1</td>\n",
       "      <td>0</td>\n",
       "      <td>0</td>\n",
       "      <td>0</td>\n",
       "    </tr>\n",
       "    <tr>\n",
       "      <td>f0_f2</td>\n",
       "      <td>0</td>\n",
       "      <td>0</td>\n",
       "      <td>0</td>\n",
       "      <td>0</td>\n",
       "      <td>1</td>\n",
       "      <td>0</td>\n",
       "      <td>0</td>\n",
       "    </tr>\n",
       "    <tr>\n",
       "      <td>f1_f2</td>\n",
       "      <td>0</td>\n",
       "      <td>0</td>\n",
       "      <td>0</td>\n",
       "      <td>0</td>\n",
       "      <td>0</td>\n",
       "      <td>1</td>\n",
       "      <td>0</td>\n",
       "    </tr>\n",
       "    <tr>\n",
       "      <td>product</td>\n",
       "      <td>0</td>\n",
       "      <td>0</td>\n",
       "      <td>0</td>\n",
       "      <td>0</td>\n",
       "      <td>0</td>\n",
       "      <td>0</td>\n",
       "      <td>1</td>\n",
       "    </tr>\n",
       "  </tbody>\n",
       "</table>\n",
       "</div>"
      ],
      "text/plain": [
       "         f0  f1  f2  f0_f1  f0_f2  f1_f2  product\n",
       "f0        1   0   0      0      0      0        0\n",
       "f1        0   1   0      0      0      0        0\n",
       "f2        0   0   1      0      0      0        0\n",
       "f0_f1     0   0   0      1      0      0        0\n",
       "f0_f2     0   0   0      0      1      0        0\n",
       "f1_f2     0   0   0      0      0      1        0\n",
       "product   0   0   0      0      0      0        1"
      ]
     },
     "metadata": {},
     "output_type": "display_data"
    },
    {
     "data": {
      "text/html": [
       "<div>\n",
       "<style scoped>\n",
       "    .dataframe tbody tr th:only-of-type {\n",
       "        vertical-align: middle;\n",
       "    }\n",
       "\n",
       "    .dataframe tbody tr th {\n",
       "        vertical-align: top;\n",
       "    }\n",
       "\n",
       "    .dataframe thead th {\n",
       "        text-align: right;\n",
       "    }\n",
       "</style>\n",
       "<table border=\"1\" class=\"dataframe\">\n",
       "  <thead>\n",
       "    <tr style=\"text-align: right;\">\n",
       "      <th></th>\n",
       "      <th>f0</th>\n",
       "      <th>f1</th>\n",
       "      <th>f2</th>\n",
       "      <th>f0_f1</th>\n",
       "      <th>f0_f2</th>\n",
       "      <th>f1_f2</th>\n",
       "      <th>product</th>\n",
       "    </tr>\n",
       "  </thead>\n",
       "  <tbody>\n",
       "    <tr>\n",
       "      <td>f0</td>\n",
       "      <td>1</td>\n",
       "      <td>0</td>\n",
       "      <td>0</td>\n",
       "      <td>0</td>\n",
       "      <td>0</td>\n",
       "      <td>0</td>\n",
       "      <td>0</td>\n",
       "    </tr>\n",
       "    <tr>\n",
       "      <td>f1</td>\n",
       "      <td>0</td>\n",
       "      <td>1</td>\n",
       "      <td>0</td>\n",
       "      <td>0</td>\n",
       "      <td>0</td>\n",
       "      <td>0</td>\n",
       "      <td>0</td>\n",
       "    </tr>\n",
       "    <tr>\n",
       "      <td>f2</td>\n",
       "      <td>0</td>\n",
       "      <td>0</td>\n",
       "      <td>1</td>\n",
       "      <td>0</td>\n",
       "      <td>0</td>\n",
       "      <td>0</td>\n",
       "      <td>1</td>\n",
       "    </tr>\n",
       "    <tr>\n",
       "      <td>f0_f1</td>\n",
       "      <td>0</td>\n",
       "      <td>0</td>\n",
       "      <td>0</td>\n",
       "      <td>1</td>\n",
       "      <td>0</td>\n",
       "      <td>0</td>\n",
       "      <td>0</td>\n",
       "    </tr>\n",
       "    <tr>\n",
       "      <td>f0_f2</td>\n",
       "      <td>0</td>\n",
       "      <td>0</td>\n",
       "      <td>0</td>\n",
       "      <td>0</td>\n",
       "      <td>1</td>\n",
       "      <td>0</td>\n",
       "      <td>0</td>\n",
       "    </tr>\n",
       "    <tr>\n",
       "      <td>f1_f2</td>\n",
       "      <td>0</td>\n",
       "      <td>0</td>\n",
       "      <td>0</td>\n",
       "      <td>0</td>\n",
       "      <td>0</td>\n",
       "      <td>1</td>\n",
       "      <td>0</td>\n",
       "    </tr>\n",
       "    <tr>\n",
       "      <td>product</td>\n",
       "      <td>0</td>\n",
       "      <td>0</td>\n",
       "      <td>1</td>\n",
       "      <td>0</td>\n",
       "      <td>0</td>\n",
       "      <td>0</td>\n",
       "      <td>1</td>\n",
       "    </tr>\n",
       "  </tbody>\n",
       "</table>\n",
       "</div>"
      ],
      "text/plain": [
       "         f0  f1  f2  f0_f1  f0_f2  f1_f2  product\n",
       "f0        1   0   0      0      0      0        0\n",
       "f1        0   1   0      0      0      0        0\n",
       "f2        0   0   1      0      0      0        1\n",
       "f0_f1     0   0   0      1      0      0        0\n",
       "f0_f2     0   0   0      0      1      0        0\n",
       "f1_f2     0   0   0      0      0      1        0\n",
       "product   0   0   1      0      0      0        1"
      ]
     },
     "metadata": {},
     "output_type": "display_data"
    },
    {
     "data": {
      "text/html": [
       "<div>\n",
       "<style scoped>\n",
       "    .dataframe tbody tr th:only-of-type {\n",
       "        vertical-align: middle;\n",
       "    }\n",
       "\n",
       "    .dataframe tbody tr th {\n",
       "        vertical-align: top;\n",
       "    }\n",
       "\n",
       "    .dataframe thead th {\n",
       "        text-align: right;\n",
       "    }\n",
       "</style>\n",
       "<table border=\"1\" class=\"dataframe\">\n",
       "  <thead>\n",
       "    <tr style=\"text-align: right;\">\n",
       "      <th></th>\n",
       "      <th>f0</th>\n",
       "      <th>f1</th>\n",
       "      <th>f2</th>\n",
       "      <th>f0_f1</th>\n",
       "      <th>f0_f2</th>\n",
       "      <th>f1_f2</th>\n",
       "      <th>product</th>\n",
       "    </tr>\n",
       "  </thead>\n",
       "  <tbody>\n",
       "    <tr>\n",
       "      <td>f0</td>\n",
       "      <td>1</td>\n",
       "      <td>0</td>\n",
       "      <td>0</td>\n",
       "      <td>0</td>\n",
       "      <td>0</td>\n",
       "      <td>0</td>\n",
       "      <td>0</td>\n",
       "    </tr>\n",
       "    <tr>\n",
       "      <td>f1</td>\n",
       "      <td>0</td>\n",
       "      <td>1</td>\n",
       "      <td>0</td>\n",
       "      <td>0</td>\n",
       "      <td>0</td>\n",
       "      <td>0</td>\n",
       "      <td>0</td>\n",
       "    </tr>\n",
       "    <tr>\n",
       "      <td>f2</td>\n",
       "      <td>0</td>\n",
       "      <td>0</td>\n",
       "      <td>1</td>\n",
       "      <td>0</td>\n",
       "      <td>0</td>\n",
       "      <td>0</td>\n",
       "      <td>0</td>\n",
       "    </tr>\n",
       "    <tr>\n",
       "      <td>f0_f1</td>\n",
       "      <td>0</td>\n",
       "      <td>0</td>\n",
       "      <td>0</td>\n",
       "      <td>1</td>\n",
       "      <td>0</td>\n",
       "      <td>0</td>\n",
       "      <td>0</td>\n",
       "    </tr>\n",
       "    <tr>\n",
       "      <td>f0_f2</td>\n",
       "      <td>0</td>\n",
       "      <td>0</td>\n",
       "      <td>0</td>\n",
       "      <td>0</td>\n",
       "      <td>1</td>\n",
       "      <td>0</td>\n",
       "      <td>0</td>\n",
       "    </tr>\n",
       "    <tr>\n",
       "      <td>f1_f2</td>\n",
       "      <td>0</td>\n",
       "      <td>0</td>\n",
       "      <td>0</td>\n",
       "      <td>0</td>\n",
       "      <td>0</td>\n",
       "      <td>1</td>\n",
       "      <td>0</td>\n",
       "    </tr>\n",
       "    <tr>\n",
       "      <td>product</td>\n",
       "      <td>0</td>\n",
       "      <td>0</td>\n",
       "      <td>0</td>\n",
       "      <td>0</td>\n",
       "      <td>0</td>\n",
       "      <td>0</td>\n",
       "      <td>1</td>\n",
       "    </tr>\n",
       "  </tbody>\n",
       "</table>\n",
       "</div>"
      ],
      "text/plain": [
       "         f0  f1  f2  f0_f1  f0_f2  f1_f2  product\n",
       "f0        1   0   0      0      0      0        0\n",
       "f1        0   1   0      0      0      0        0\n",
       "f2        0   0   1      0      0      0        0\n",
       "f0_f1     0   0   0      1      0      0        0\n",
       "f0_f2     0   0   0      0      1      0        0\n",
       "f1_f2     0   0   0      0      0      1        0\n",
       "product   0   0   0      0      0      0        1"
      ]
     },
     "metadata": {},
     "output_type": "display_data"
    }
   ],
   "source": [
    "threshold = 0.9\n",
    "\n",
    "for i in datas_fb:\n",
    "    display(i.corr().applymap(lambda x: 1 if x>threshold else 0))"
   ]
  },
  {
   "cell_type": "markdown",
   "metadata": {},
   "source": [
    "Сильно коррелирующих между собой признаков не обнаружено."
   ]
  },
  {
   "cell_type": "markdown",
   "metadata": {},
   "source": [
    "**Промежуточный вывод:**"
   ]
  },
  {
   "cell_type": "markdown",
   "metadata": {},
   "source": [
    "Данные подготовлены для нормирования. "
   ]
  },
  {
   "cell_type": "markdown",
   "metadata": {},
   "source": [
    "#### Нормирование признаков"
   ]
  },
  {
   "cell_type": "markdown",
   "metadata": {},
   "source": [
    "Весь процесс нормирования сведем в функцию:"
   ]
  },
  {
   "cell_type": "code",
   "execution_count": 9,
   "metadata": {},
   "outputs": [],
   "source": [
    "def normalize(data):\n",
    "    # отделяем целевой признак\n",
    "    features = data.drop('product', axis=1)\n",
    "    target = data['product']\n",
    "    \n",
    "    # делим выборку на train и test, чтобы при нормализации избежать подглядывания\n",
    "    features_train, features_test, target_train, target_test = train_test_split(features,\n",
    "                                                                                    target,\n",
    "                                                                                    test_size=0.25,\n",
    "                                                                                    random_state=42)\n",
    "    # запоминаем названия колонок с количественным признаком                                \n",
    "    col_names = [x for x in features_train.columns]\n",
    "    \n",
    "    # обучаем модель нормирования на тренировочной выборке                                                                            \n",
    "    scaler = StandardScaler()\n",
    "    scaler.fit(features_train[col_names])\n",
    "    \n",
    "    # выключаем длинное предупреждение о копировании                                                                            \n",
    "    pd.options.mode.chained_assignment = None\n",
    "\n",
    "    # преобразовываем количественные признаки                                                                            \n",
    "    features_train[col_names] = scaler.transform(features_train[col_names])\n",
    "    features_test[col_names] = scaler.transform(features_test[col_names])  \n",
    "                                                                                \n",
    "    return features_train, features_test, target_train, target_test                                                                          \n",
    "                                                                                "
   ]
  },
  {
   "cell_type": "markdown",
   "metadata": {},
   "source": [
    "Теперь нормируем все выборки:"
   ]
  },
  {
   "cell_type": "code",
   "execution_count": 10,
   "metadata": {},
   "outputs": [],
   "source": [
    "features_train_0, features_test_0, target_train_0, target_test_0 = normalize(reg_0_fb)\n",
    "features_train_1, features_test_1, target_train_1, target_test_1 = normalize(reg_1_fb)\n",
    "features_train_2, features_test_2, target_train_2, target_test_2 = normalize(reg_2_fb)"
   ]
  },
  {
   "cell_type": "markdown",
   "metadata": {},
   "source": [
    "Проверим размеры выборок. Ничего ли потеряли в процессе преобразований:"
   ]
  },
  {
   "cell_type": "code",
   "execution_count": 11,
   "metadata": {},
   "outputs": [
    {
     "name": "stdout",
     "output_type": "stream",
     "text": [
      "(75000, 6)\n",
      "(25000, 6)\n",
      "(75000,)\n",
      "(25000,)\n",
      "(75000, 6)\n",
      "(25000, 6)\n",
      "(75000,)\n",
      "(25000,)\n",
      "(75000, 6)\n",
      "(25000, 6)\n",
      "(75000,)\n",
      "(25000,)\n"
     ]
    }
   ],
   "source": [
    "_ = [features_train_0, features_test_0, target_train_0, target_test_0,\n",
    "features_train_1, features_test_1, target_train_1, target_test_1,\n",
    "features_train_2, features_test_2, target_train_2, target_test_2,]\n",
    "\n",
    "for i in _:\n",
    "    print(i.shape)"
   ]
  },
  {
   "cell_type": "markdown",
   "metadata": {},
   "source": [
    "Судя по размерам, все данные на месте."
   ]
  },
  {
   "cell_type": "markdown",
   "metadata": {},
   "source": [
    "### Вывод:"
   ]
  },
  {
   "cell_type": "markdown",
   "metadata": {},
   "source": [
    "В ходе подготовки данных, было произведено увеличение количественных признаков. Признаки были нормированы. Проведена проверка на мультиколлинеарность. "
   ]
  },
  {
   "cell_type": "markdown",
   "metadata": {},
   "source": [
    "## Обучение и проверка модели"
   ]
  },
  {
   "cell_type": "markdown",
   "metadata": {},
   "source": [
    "### Обучение модели"
   ]
  },
  {
   "cell_type": "markdown",
   "metadata": {},
   "source": [
    "Приступим к обучению. В условии сказано, что оптимальной моделью является модель линейной регрессии. Ее и будем обучать."
   ]
  },
  {
   "cell_type": "markdown",
   "metadata": {},
   "source": [
    "Для уменьшения количества кода напишем функцию, которая обучит модель и вернет: RMSE, среднее предсказанное значение запасов сырья в регионе и массив из предсказаний:"
   ]
  },
  {
   "cell_type": "code",
   "execution_count": 12,
   "metadata": {},
   "outputs": [],
   "source": [
    "def fit_model(features_target_list):\n",
    "\n",
    "    model = LinearRegression()\n",
    "    model.fit(features_target_list[0], features_target_list[2])\n",
    "    predicted = model.predict(features_target_list[1])\n",
    "    rmse = np.sqrt(mean_squared_error(features_target_list[3], predicted))\n",
    "    \n",
    "    return rmse, predicted.mean(), predicted"
   ]
  },
  {
   "cell_type": "markdown",
   "metadata": {},
   "source": [
    "Запишем в массив все необходимые для обучения фреймы:"
   ]
  },
  {
   "cell_type": "code",
   "execution_count": 13,
   "metadata": {},
   "outputs": [],
   "source": [
    "lst = [[features_train_0, features_test_0, target_train_0, target_test_0],\n",
    "       [features_train_1, features_test_1, target_train_1, target_test_1],\n",
    "       [features_train_2, features_test_2, target_train_2, target_test_2]\n",
    "      ]       "
   ]
  },
  {
   "cell_type": "markdown",
   "metadata": {},
   "source": [
    "Обучим модели и выведем результат на экран:"
   ]
  },
  {
   "cell_type": "code",
   "execution_count": 14,
   "metadata": {},
   "outputs": [
    {
     "name": "stdout",
     "output_type": "stream",
     "text": [
      "Результаты обучения модели по данным региона №0\n",
      "\n",
      "RMSE = 37.76\n",
      "Средний предсказанный запас сырья в регионе = 92.40\n",
      "\n",
      "Результаты обучения модели по данным региона №1\n",
      "\n",
      "RMSE = 0.89\n",
      "Средний предсказанный запас сырья в регионе = 68.71\n",
      "\n",
      "Результаты обучения модели по данным региона №2\n",
      "\n",
      "RMSE = 40.15\n",
      "Средний предсказанный запас сырья в регионе = 94.77\n",
      "\n"
     ]
    }
   ],
   "source": [
    "counter = 0\n",
    "model_predictions = []\n",
    "\n",
    "for i in lst:\n",
    "    rmse, product_mean, predicted = fit_model(i)\n",
    "    model_predictions.append(predicted)\n",
    "    \n",
    "    print('Результаты обучения модели по данным региона №' + str(counter))\n",
    "    print()\n",
    "    print('RMSE = {:.2f}'.format(rmse))\n",
    "    print('Средний предсказанный запас сырья в регионе = {:.2f}'.format(product_mean))\n",
    "\n",
    "    print()\n",
    "    counter += 1"
   ]
  },
  {
   "cell_type": "markdown",
   "metadata": {},
   "source": [
    "Проверим, что массив из предсказаний успешно сохранен:"
   ]
  },
  {
   "cell_type": "code",
   "execution_count": 15,
   "metadata": {},
   "outputs": [
    {
     "data": {
      "text/plain": [
       "[array([101.88550056,  78.36496858, 115.36467059, ...,  82.62175506,\n",
       "         81.77762923,  93.32224731]),\n",
       " array([  0.84561778,  52.9274171 , 135.11031892, ...,  26.71960811,\n",
       "        109.82443197, 135.44163323]),\n",
       " array([ 98.33445209, 101.64071046,  52.81668175, ...,  63.50268623,\n",
       "         83.80059303,  86.59455401])]"
      ]
     },
     "execution_count": 15,
     "metadata": {},
     "output_type": "execute_result"
    }
   ],
   "source": [
    "model_predictions"
   ]
  },
  {
   "cell_type": "markdown",
   "metadata": {},
   "source": [
    "### Проверка модели на адекватность"
   ]
  },
  {
   "cell_type": "markdown",
   "metadata": {},
   "source": [
    "Убедимся, что увеличение пространства признаков пошло модели на пользу. Обучим модель с изначальным количеством признаков и сравним результаты:"
   ]
  },
  {
   "cell_type": "code",
   "execution_count": 16,
   "metadata": {},
   "outputs": [
    {
     "data": {
      "text/html": [
       "<div>\n",
       "<style scoped>\n",
       "    .dataframe tbody tr th:only-of-type {\n",
       "        vertical-align: middle;\n",
       "    }\n",
       "\n",
       "    .dataframe tbody tr th {\n",
       "        vertical-align: top;\n",
       "    }\n",
       "\n",
       "    .dataframe thead th {\n",
       "        text-align: right;\n",
       "    }\n",
       "</style>\n",
       "<table border=\"1\" class=\"dataframe\">\n",
       "  <thead>\n",
       "    <tr style=\"text-align: right;\">\n",
       "      <th></th>\n",
       "      <th>f0</th>\n",
       "      <th>f1</th>\n",
       "      <th>f2</th>\n",
       "    </tr>\n",
       "  </thead>\n",
       "  <tbody>\n",
       "    <tr>\n",
       "      <td>98980</td>\n",
       "      <td>1.274786</td>\n",
       "      <td>-0.799739</td>\n",
       "      <td>-0.396677</td>\n",
       "    </tr>\n",
       "    <tr>\n",
       "      <td>69824</td>\n",
       "      <td>-1.600689</td>\n",
       "      <td>0.234678</td>\n",
       "      <td>-2.169283</td>\n",
       "    </tr>\n",
       "    <tr>\n",
       "      <td>9928</td>\n",
       "      <td>-0.323791</td>\n",
       "      <td>1.436297</td>\n",
       "      <td>1.495425</td>\n",
       "    </tr>\n",
       "    <tr>\n",
       "      <td>75599</td>\n",
       "      <td>0.439038</td>\n",
       "      <td>0.830679</td>\n",
       "      <td>0.185881</td>\n",
       "    </tr>\n",
       "    <tr>\n",
       "      <td>95621</td>\n",
       "      <td>-1.652805</td>\n",
       "      <td>0.761012</td>\n",
       "      <td>0.111734</td>\n",
       "    </tr>\n",
       "  </tbody>\n",
       "</table>\n",
       "</div>"
      ],
      "text/plain": [
       "             f0        f1        f2\n",
       "98980  1.274786 -0.799739 -0.396677\n",
       "69824 -1.600689  0.234678 -2.169283\n",
       "9928  -0.323791  1.436297  1.495425\n",
       "75599  0.439038  0.830679  0.185881\n",
       "95621 -1.652805  0.761012  0.111734"
      ]
     },
     "execution_count": 16,
     "metadata": {},
     "output_type": "execute_result"
    }
   ],
   "source": [
    "X_train, X_test, y_train, y_test = normalize(geo_data_0.iloc[:, 1:])\n",
    "X_train.head()"
   ]
  },
  {
   "cell_type": "code",
   "execution_count": 17,
   "metadata": {},
   "outputs": [
    {
     "name": "stdout",
     "output_type": "stream",
     "text": [
      "RMSE = 37.76\n",
      "Средний предсказанный запас сырья в регионе = 92.40\n"
     ]
    }
   ],
   "source": [
    "rmse, product_mean, predicted = fit_model([X_train, X_test, y_train, y_test])\n",
    "print('RMSE = {:.2f}'.format(rmse))\n",
    "print('Средний предсказанный запас сырья в регионе = {:.2f}'.format(product_mean))"
   ]
  },
  {
   "cell_type": "markdown",
   "metadata": {},
   "source": [
    "**Промежуточный вывод:**"
   ]
  },
  {
   "cell_type": "markdown",
   "metadata": {},
   "source": [
    "- RMSE не изменилась. Что говорит о том, что увеличение признакового пространства не повлияло на предсказательную способность модели."
   ]
  },
  {
   "cell_type": "markdown",
   "metadata": {},
   "source": [
    "### Вывод:"
   ]
  },
  {
   "cell_type": "markdown",
   "metadata": {},
   "source": [
    "- Проведено обучение модели. RMSE колеблется в пределах 0-40. \n",
    "\n",
    "- Лучшей предсказательной способностью обладает модель обученная на данных по региону №1. Вследствие почти прямой взаимосвязи одной из фич с целевым признаком. \n",
    "\n",
    "- Проведен тест на адекватность модели, в котором модели показали практически идентичные результаты. Сделан вывод о том, что увеличение признакового пространства было излишним.\n",
    "\n",
    "- Проведена попытка увеличения качетва модели путем избавления данных от выбросов. Первый же тест показал худшие результаты в сравнении с контрольной моделью. "
   ]
  },
  {
   "cell_type": "markdown",
   "metadata": {},
   "source": [
    "## Подготовка к расчёту прибыли"
   ]
  },
  {
   "cell_type": "markdown",
   "metadata": {},
   "source": [
    "Сохраним все ключевые показатели в отдельных переменных:\n",
    "- Бюджет на разработку - BUDGET\n",
    "- Количетво скважин для разработки - BAREHOLS\n",
    "- Доход с реализации единицы продукта - EARNINGS "
   ]
  },
  {
   "cell_type": "code",
   "execution_count": 18,
   "metadata": {},
   "outputs": [],
   "source": [
    "BUDGET = 10e6\n",
    "BAREHOLS = 200\n",
    "EARNINGS = 450 "
   ]
  },
  {
   "cell_type": "markdown",
   "metadata": {},
   "source": [
    "Для удобства расчетов, бюджет сокращен на 3 нуля. Это поможет избежать путаницы в дальнейшем."
   ]
  },
  {
   "cell_type": "markdown",
   "metadata": {},
   "source": [
    "Определим минимальное количество запасов сырья, необходимое для безубыточной добычи:"
   ]
  },
  {
   "cell_type": "code",
   "execution_count": 19,
   "metadata": {},
   "outputs": [
    {
     "name": "stdout",
     "output_type": "stream",
     "text": [
      "Минимально необходимое количество сырья в одной скважине для безубыточной разработки: 111.11 тыс. баррелей\n"
     ]
    }
   ],
   "source": [
    "min_stock_raw = BUDGET / EARNINGS / BAREHOLS\n",
    "print('Минимально необходимое количество сырья в одной скважине для безубыточной разработки: {:.2f} тыс. баррелей'.\\\n",
    "      format(min_stock_raw))"
   ]
  },
  {
   "cell_type": "markdown",
   "metadata": {},
   "source": [
    "Напишем функцию вычисляющую количество сырья в 200 крупнейших скважинах региона и потенциальную прибыль от его реализации:"
   ]
  },
  {
   "cell_type": "code",
   "execution_count": 21,
   "metadata": {},
   "outputs": [],
   "source": [
    "def revenue(target, probabilities, count):\n",
    "    probs_sorted = probabilities.sort_values(ascending=False)\n",
    "    selected = target[probs_sorted.index][:count]\n",
    "    return 0.45 * selected.sum() / 1e3 - 10"
   ]
  },
  {
   "cell_type": "markdown",
   "metadata": {},
   "source": [
    "Преобразуем список предсказаний модели в объект Series:"
   ]
  },
  {
   "cell_type": "code",
   "execution_count": 22,
   "metadata": {},
   "outputs": [],
   "source": [
    "probs_0 = pd.Series(model_predictions[0], index=target_test_0.index)\n",
    "probs_1 = pd.Series(model_predictions[1], index=target_test_1.index)\n",
    "probs_2 = pd.Series(model_predictions[2], index=target_test_2.index)"
   ]
  },
  {
   "cell_type": "code",
   "execution_count": 23,
   "metadata": {},
   "outputs": [],
   "source": [
    "probs_lst = [probs_0, probs_1, probs_2]"
   ]
  },
  {
   "cell_type": "code",
   "execution_count": 24,
   "metadata": {
    "scrolled": true
   },
   "outputs": [
    {
     "name": "stdout",
     "output_type": "stream",
     "text": [
      "Регион №0\n",
      "Потенциальная чистая прибыль от реализации сырья: 3.34 млрд. руб.\n",
      "Регион №1\n",
      "Потенциальная чистая прибыль от реализации сырья: 2.42 млрд. руб.\n",
      "Регион №2\n",
      "Потенциальная чистая прибыль от реализации сырья: 2.61 млрд. руб.\n"
     ]
    }
   ],
   "source": [
    "counter = 0\n",
    "for i in range(len(probs_lst)):\n",
    "    money = (revenue(lst[i][3], probs_lst[i], 200))\n",
    "    print('Регион №' + str(counter))\n",
    "    print('Потенциальная чистая прибыль от реализации сырья: {:.2f} млрд. руб.'.format(money))\n",
    "    counter += 1"
   ]
  },
  {
   "cell_type": "markdown",
   "metadata": {},
   "source": [
    "### Вывод:"
   ]
  },
  {
   "cell_type": "markdown",
   "metadata": {},
   "source": [
    "- Среднего запаса сырья в одной скважине недостаточно для прибыльной добычи ни в одном из регионов. Нужно отбирать самые объемные месторождения. "
   ]
  },
  {
   "cell_type": "markdown",
   "metadata": {},
   "source": [
    "## Расчёт прибыли и рисков "
   ]
  },
  {
   "cell_type": "code",
   "execution_count": 25,
   "metadata": {},
   "outputs": [],
   "source": [
    "target_lst = [i[3] for i in lst]"
   ]
  },
  {
   "cell_type": "markdown",
   "metadata": {},
   "source": [
    "Напишем функцию, которая выполнит процедуру Bootstrap и вернет нам фрейм с чистой прибылью по каждой из выборок:"
   ]
  },
  {
   "cell_type": "code",
   "execution_count": 26,
   "metadata": {},
   "outputs": [],
   "source": [
    "def bootstrap_profit(target, predictions):\n",
    "    # Инициализируем рандомайзер\n",
    "    state = np.random.RandomState(12345)\n",
    "    # Создаем пустой список, куда будем записывать значения чистой прибыли\n",
    "    profit_list = []\n",
    "    \n",
    "    # Запускаем процедуру Bootstrap. Входные: количество выборок - 1000, объем выборки 500, из которых\n",
    "    # отбираем 200 самых прибыльных\n",
    "    for i in range(1000):\n",
    "        target_500 = target.sample(n=500, replace=True, random_state=state)\n",
    "        predict_500 = predictions[target_500.index]\n",
    "        profit_list.append(revenue(target_500, predict_500, 200))\n",
    "\n",
    "    profit_list = pd.Series(profit_list) #распределение прибыли\n",
    "    \n",
    "    return profit_list"
   ]
  },
  {
   "cell_type": "markdown",
   "metadata": {},
   "source": [
    "Пройдемся циклом по данным из 3-х регионов и найдем величину риска, 95% - доверительный интервал, и среднюю прибыль:"
   ]
  },
  {
   "cell_type": "code",
   "execution_count": 27,
   "metadata": {},
   "outputs": [
    {
     "name": "stdout",
     "output_type": "stream",
     "text": [
      "Регион №0\n",
      "\n",
      "95% доверительный интервал (-0.13 : 0.96)\n",
      "Средняя прибыль = 0.44 млрд. руб.\n",
      "Величина риска = 6.20%\n",
      "\n",
      "Регион №1\n",
      "\n",
      "95% доверительный интервал (0.06 : 0.91)\n",
      "Средняя прибыль = 0.49 млрд. руб.\n",
      "Величина риска = 1.10%\n",
      "\n",
      "Регион №2\n",
      "\n",
      "95% доверительный интервал (-0.15 : 0.95)\n",
      "Средняя прибыль = 0.40 млрд. руб.\n",
      "Величина риска = 7.00%\n",
      "\n"
     ]
    }
   ],
   "source": [
    "count_reg = 0\n",
    "for i in range(len(probs_lst)):\n",
    "    # находим распределение прибыли\n",
    "    profit_data = bootstrap_profit(target_lst[i], probs_lst[i])\n",
    "    \n",
    "    # по распределению находим 95% доверительный интервал\n",
    "    confidence_interval = st.t.interval(alpha=0.95, \n",
    "                                    df=(profit_data.count() - 1), \n",
    "                                    loc=profit_data.mean(),\n",
    "                                    scale=profit_data.sem())\n",
    "    \n",
    "    # находим среднее значение прибыли в регионе\n",
    "    mean_profit = profit_data.mean()\n",
    "    \n",
    "    # вычисляем вероятность убытков\n",
    "    \n",
    "    losses = (profit_data < 0).mean() * 100\n",
    "    \n",
    "    heigher = profit_data.quantile(.975)\n",
    "    lower = profit_data.quantile(.025)\n",
    "    \n",
    "    print('Регион №' + str(count_reg))\n",
    "    print()\n",
    "    print('95% доверительный интервал ({:.2f} : {:.2f})'.format(lower, heigher))\n",
    "    print('Средняя прибыль = {:.2f} млрд. руб.'.format(mean_profit))\n",
    "    print('Величина риска = {:.2f}%'.format(losses))\n",
    "    print()\n",
    "    count_reg += 1"
   ]
  },
  {
   "cell_type": "markdown",
   "metadata": {},
   "source": [
    "## Вывод:"
   ]
  },
  {
   "cell_type": "markdown",
   "metadata": {},
   "source": [
    "- По результатам проведенной работы выяснилось, что подходящим под требования (*нужно оставить лишь те регионы, в которых вероятность убытков меньше 2.5%.*) является регион №1. Другие, имеют несоответствующую величину риска. Так же, регион №1 имеет более высокий показатель средней прибыли и меньший размах доверительного интервала. Плюс ко всему, RMSE данных этого региона меньше 1, что говорит о высокой точности прогнозов. \n",
    "- Таким образом, регион для разработки это регион №1"
   ]
  }
 ],
 "metadata": {
  "kernelspec": {
   "display_name": "Python 3",
   "language": "python",
   "name": "python3"
  },
  "language_info": {
   "codemirror_mode": {
    "name": "ipython",
    "version": 3
   },
   "file_extension": ".py",
   "mimetype": "text/x-python",
   "name": "python",
   "nbconvert_exporter": "python",
   "pygments_lexer": "ipython3",
   "version": "3.8.5"
  },
  "toc": {
   "base_numbering": 1,
   "nav_menu": {},
   "number_sections": true,
   "sideBar": true,
   "skip_h1_title": true,
   "title_cell": "План реализации проекта",
   "title_sidebar": "Contents",
   "toc_cell": true,
   "toc_position": {},
   "toc_section_display": true,
   "toc_window_display": false
  }
 },
 "nbformat": 4,
 "nbformat_minor": 2
}
