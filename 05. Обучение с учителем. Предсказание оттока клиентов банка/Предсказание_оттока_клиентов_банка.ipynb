{
 "cells": [
  {
   "cell_type": "markdown",
   "metadata": {},
   "source": [
    "# Отток клиентов"
   ]
  },
  {
   "cell_type": "markdown",
   "metadata": {},
   "source": [
    "Из «Бета-Банка» стали уходить клиенты. Каждый месяц. Немного, но заметно. Банковские маркетологи посчитали: сохранять текущих клиентов дешевле, чем привлекать новых.\n",
    "\n",
    "Нужно спрогнозировать, уйдёт клиент из банка в ближайшее время или нет. Вам предоставлены исторические данные о поведении клиентов и расторжении договоров с банком. \n",
    "\n",
    "Постройте модель с предельно большим значением *F1*-меры. Чтобы сдать проект успешно, нужно довести метрику до 0.59. Проверьте *F1*-меру на тестовой выборке самостоятельно.\n",
    "\n",
    "Дополнительно измеряйте *AUC-ROC*, сравнивайте её значение с *F1*-мерой.\n",
    "\n",
    "Источник данных: [https://www.kaggle.com/barelydedicated/bank-customer-churn-modeling](https://www.kaggle.com/barelydedicated/bank-customer-churn-modeling)"
   ]
  },
  {
   "cell_type": "markdown",
   "metadata": {},
   "source": [
    "## План реализации проекта"
   ]
  },
  {
   "cell_type": "markdown",
   "metadata": {},
   "source": [
    "1. [Подготовка данных. Импорт библиотек](#step_1)\n",
    "- [1.1 Грубая предобработка данных](#step_1.1)\n",
    "- [1.2 Предобработка данных для задач машинного обучения](#step_1.2)\n",
    "2. [Исследование задачи](#step_2)\n",
    "- [2.1 Определение выборок](#step_2.1)\n",
    "- [2.2 Обучение модели](#step_2.2)\n",
    "- [2.3 Проверка адекватности модели](#step_2.3)\n",
    "- [2.4 Подбор оптимального порога](#step_2.4)\n",
    "3. [Борьба с дисбалансом классов](#step_3)\n",
    "- [3.1 Метод upsampling](#step_3.1)\n",
    "- [3.2 Поиск наилучшей модели на обучении upsampled выборки](#step_3.2)\n",
    "- [3.3 Метод downsampling](#step_3.3)\n",
    "- [3.4 Поиск наилучшей модели на обучении downsampled выборки](#step_3.4)\n",
    "4. [Тестирование модели](#step_4)\n",
    "5. [Общий вывод](#step_5)"
   ]
  },
  {
   "cell_type": "markdown",
   "metadata": {},
   "source": [
    "## Описание данных"
   ]
  },
  {
   "cell_type": "markdown",
   "metadata": {},
   "source": [
    "**Признаки**\n",
    "- *RowNumber* — индекс строки в данных\n",
    "- *CustomerId* — уникальный идентификатор клиента\n",
    "- *Surname* — фамилия\n",
    "- *CreditScore* — кредитный рейтинг\n",
    "- *Geography* — страна проживания\n",
    "- *Gender* — пол\n",
    "- *Age* — возраст\n",
    "- *Tenure* — количество недвижимости у клиента\n",
    "- *Balance* — баланс на счёте\n",
    "- *NumOfProducts* — количество продуктов банка, используемых клиентом\n",
    "- *HasCrCard* — наличие кредитной карты\n",
    "- *IsActiveMember* — активность клиента\n",
    "- *EstimatedSalary* — предполагаемая зарплата\n",
    "\n",
    "**Целевой признак**\n",
    "- *Exited* — факт ухода клиента"
   ]
  },
  {
   "cell_type": "markdown",
   "metadata": {},
   "source": [
    "## 1. Подготовка данных<a id='step_1'></a>"
   ]
  },
  {
   "cell_type": "markdown",
   "metadata": {},
   "source": [
    "Импортируем необходимые библиотеки:"
   ]
  },
  {
   "cell_type": "code",
   "execution_count": 1,
   "metadata": {},
   "outputs": [],
   "source": [
    "import pandas as pd\n",
    "import numpy as np\n",
    "\n",
    "from sklearn.model_selection import train_test_split\n",
    "from sklearn.preprocessing import StandardScaler\n",
    "from sklearn.preprocessing import OrdinalEncoder\n",
    "from sklearn.feature_selection import RFE\n",
    "from sklearn.utils import shuffle\n",
    "\n",
    "from sklearn.ensemble import RandomForestClassifier\n",
    "from sklearn.model_selection import RandomizedSearchCV\n",
    "from sklearn.model_selection import GridSearchCV\n",
    "from sklearn.linear_model import LogisticRegression\n",
    "from sklearn.svm import LinearSVC\n",
    "from sklearn.neighbors import KNeighborsClassifier\n",
    "from sklearn.linear_model import LinearRegression\n",
    "\n",
    "from sklearn.metrics import accuracy_score, f1_score, roc_curve, roc_auc_score\n",
    "\n",
    "from catboost import CatBoostClassifier\n",
    "\n",
    "import matplotlib.pyplot as plt\n",
    "import seaborn as sns"
   ]
  },
  {
   "cell_type": "markdown",
   "metadata": {},
   "source": [
    "Откроем файл с данными и исследуем его:"
   ]
  },
  {
   "cell_type": "code",
   "execution_count": 2,
   "metadata": {},
   "outputs": [],
   "source": [
    "try:\n",
    "    df = pd.read_csv('Churn.csv')\n",
    "except:\n",
    "    df = pd.read_csv('/datasets/Churn.csv')"
   ]
  },
  {
   "cell_type": "code",
   "execution_count": 3,
   "metadata": {},
   "outputs": [
    {
     "data": {
      "text/html": [
       "<div>\n",
       "<style scoped>\n",
       "    .dataframe tbody tr th:only-of-type {\n",
       "        vertical-align: middle;\n",
       "    }\n",
       "\n",
       "    .dataframe tbody tr th {\n",
       "        vertical-align: top;\n",
       "    }\n",
       "\n",
       "    .dataframe thead th {\n",
       "        text-align: right;\n",
       "    }\n",
       "</style>\n",
       "<table border=\"1\" class=\"dataframe\">\n",
       "  <thead>\n",
       "    <tr style=\"text-align: right;\">\n",
       "      <th></th>\n",
       "      <th>RowNumber</th>\n",
       "      <th>CustomerId</th>\n",
       "      <th>Surname</th>\n",
       "      <th>CreditScore</th>\n",
       "      <th>Geography</th>\n",
       "      <th>Gender</th>\n",
       "      <th>Age</th>\n",
       "      <th>Tenure</th>\n",
       "      <th>Balance</th>\n",
       "      <th>NumOfProducts</th>\n",
       "      <th>HasCrCard</th>\n",
       "      <th>IsActiveMember</th>\n",
       "      <th>EstimatedSalary</th>\n",
       "      <th>Exited</th>\n",
       "    </tr>\n",
       "  </thead>\n",
       "  <tbody>\n",
       "    <tr>\n",
       "      <td>0</td>\n",
       "      <td>1</td>\n",
       "      <td>15634602</td>\n",
       "      <td>Hargrave</td>\n",
       "      <td>619</td>\n",
       "      <td>France</td>\n",
       "      <td>Female</td>\n",
       "      <td>42</td>\n",
       "      <td>2.0</td>\n",
       "      <td>0.00</td>\n",
       "      <td>1</td>\n",
       "      <td>1</td>\n",
       "      <td>1</td>\n",
       "      <td>101348.88</td>\n",
       "      <td>1</td>\n",
       "    </tr>\n",
       "    <tr>\n",
       "      <td>1</td>\n",
       "      <td>2</td>\n",
       "      <td>15647311</td>\n",
       "      <td>Hill</td>\n",
       "      <td>608</td>\n",
       "      <td>Spain</td>\n",
       "      <td>Female</td>\n",
       "      <td>41</td>\n",
       "      <td>1.0</td>\n",
       "      <td>83807.86</td>\n",
       "      <td>1</td>\n",
       "      <td>0</td>\n",
       "      <td>1</td>\n",
       "      <td>112542.58</td>\n",
       "      <td>0</td>\n",
       "    </tr>\n",
       "    <tr>\n",
       "      <td>2</td>\n",
       "      <td>3</td>\n",
       "      <td>15619304</td>\n",
       "      <td>Onio</td>\n",
       "      <td>502</td>\n",
       "      <td>France</td>\n",
       "      <td>Female</td>\n",
       "      <td>42</td>\n",
       "      <td>8.0</td>\n",
       "      <td>159660.80</td>\n",
       "      <td>3</td>\n",
       "      <td>1</td>\n",
       "      <td>0</td>\n",
       "      <td>113931.57</td>\n",
       "      <td>1</td>\n",
       "    </tr>\n",
       "    <tr>\n",
       "      <td>3</td>\n",
       "      <td>4</td>\n",
       "      <td>15701354</td>\n",
       "      <td>Boni</td>\n",
       "      <td>699</td>\n",
       "      <td>France</td>\n",
       "      <td>Female</td>\n",
       "      <td>39</td>\n",
       "      <td>1.0</td>\n",
       "      <td>0.00</td>\n",
       "      <td>2</td>\n",
       "      <td>0</td>\n",
       "      <td>0</td>\n",
       "      <td>93826.63</td>\n",
       "      <td>0</td>\n",
       "    </tr>\n",
       "    <tr>\n",
       "      <td>4</td>\n",
       "      <td>5</td>\n",
       "      <td>15737888</td>\n",
       "      <td>Mitchell</td>\n",
       "      <td>850</td>\n",
       "      <td>Spain</td>\n",
       "      <td>Female</td>\n",
       "      <td>43</td>\n",
       "      <td>2.0</td>\n",
       "      <td>125510.82</td>\n",
       "      <td>1</td>\n",
       "      <td>1</td>\n",
       "      <td>1</td>\n",
       "      <td>79084.10</td>\n",
       "      <td>0</td>\n",
       "    </tr>\n",
       "  </tbody>\n",
       "</table>\n",
       "</div>"
      ],
      "text/plain": [
       "   RowNumber  CustomerId   Surname  CreditScore Geography  Gender  Age  \\\n",
       "0          1    15634602  Hargrave          619    France  Female   42   \n",
       "1          2    15647311      Hill          608     Spain  Female   41   \n",
       "2          3    15619304      Onio          502    France  Female   42   \n",
       "3          4    15701354      Boni          699    France  Female   39   \n",
       "4          5    15737888  Mitchell          850     Spain  Female   43   \n",
       "\n",
       "   Tenure    Balance  NumOfProducts  HasCrCard  IsActiveMember  \\\n",
       "0     2.0       0.00              1          1               1   \n",
       "1     1.0   83807.86              1          0               1   \n",
       "2     8.0  159660.80              3          1               0   \n",
       "3     1.0       0.00              2          0               0   \n",
       "4     2.0  125510.82              1          1               1   \n",
       "\n",
       "   EstimatedSalary  Exited  \n",
       "0        101348.88       1  \n",
       "1        112542.58       0  \n",
       "2        113931.57       1  \n",
       "3         93826.63       0  \n",
       "4         79084.10       0  "
      ]
     },
     "execution_count": 3,
     "metadata": {},
     "output_type": "execute_result"
    }
   ],
   "source": [
    "df.head()"
   ]
  },
  {
   "cell_type": "code",
   "execution_count": 4,
   "metadata": {},
   "outputs": [
    {
     "name": "stdout",
     "output_type": "stream",
     "text": [
      "<class 'pandas.core.frame.DataFrame'>\n",
      "RangeIndex: 10000 entries, 0 to 9999\n",
      "Data columns (total 14 columns):\n",
      "RowNumber          10000 non-null int64\n",
      "CustomerId         10000 non-null int64\n",
      "Surname            10000 non-null object\n",
      "CreditScore        10000 non-null int64\n",
      "Geography          10000 non-null object\n",
      "Gender             10000 non-null object\n",
      "Age                10000 non-null int64\n",
      "Tenure             9091 non-null float64\n",
      "Balance            10000 non-null float64\n",
      "NumOfProducts      10000 non-null int64\n",
      "HasCrCard          10000 non-null int64\n",
      "IsActiveMember     10000 non-null int64\n",
      "EstimatedSalary    10000 non-null float64\n",
      "Exited             10000 non-null int64\n",
      "dtypes: float64(3), int64(8), object(3)\n",
      "memory usage: 1.1+ MB\n"
     ]
    }
   ],
   "source": [
    "df.info()"
   ]
  },
  {
   "cell_type": "code",
   "execution_count": 5,
   "metadata": {},
   "outputs": [
    {
     "data": {
      "text/html": [
       "<div>\n",
       "<style scoped>\n",
       "    .dataframe tbody tr th:only-of-type {\n",
       "        vertical-align: middle;\n",
       "    }\n",
       "\n",
       "    .dataframe tbody tr th {\n",
       "        vertical-align: top;\n",
       "    }\n",
       "\n",
       "    .dataframe thead th {\n",
       "        text-align: right;\n",
       "    }\n",
       "</style>\n",
       "<table border=\"1\" class=\"dataframe\">\n",
       "  <thead>\n",
       "    <tr style=\"text-align: right;\">\n",
       "      <th></th>\n",
       "      <th>RowNumber</th>\n",
       "      <th>CustomerId</th>\n",
       "      <th>CreditScore</th>\n",
       "      <th>Age</th>\n",
       "      <th>Tenure</th>\n",
       "      <th>Balance</th>\n",
       "      <th>NumOfProducts</th>\n",
       "      <th>HasCrCard</th>\n",
       "      <th>IsActiveMember</th>\n",
       "      <th>EstimatedSalary</th>\n",
       "      <th>Exited</th>\n",
       "    </tr>\n",
       "  </thead>\n",
       "  <tbody>\n",
       "    <tr>\n",
       "      <td>count</td>\n",
       "      <td>10000.00000</td>\n",
       "      <td>1.000000e+04</td>\n",
       "      <td>10000.000000</td>\n",
       "      <td>10000.000000</td>\n",
       "      <td>9091.000000</td>\n",
       "      <td>10000.000000</td>\n",
       "      <td>10000.000000</td>\n",
       "      <td>10000.00000</td>\n",
       "      <td>10000.000000</td>\n",
       "      <td>10000.000000</td>\n",
       "      <td>10000.000000</td>\n",
       "    </tr>\n",
       "    <tr>\n",
       "      <td>mean</td>\n",
       "      <td>5000.50000</td>\n",
       "      <td>1.569094e+07</td>\n",
       "      <td>650.528800</td>\n",
       "      <td>38.921800</td>\n",
       "      <td>4.997690</td>\n",
       "      <td>76485.889288</td>\n",
       "      <td>1.530200</td>\n",
       "      <td>0.70550</td>\n",
       "      <td>0.515100</td>\n",
       "      <td>100090.239881</td>\n",
       "      <td>0.203700</td>\n",
       "    </tr>\n",
       "    <tr>\n",
       "      <td>std</td>\n",
       "      <td>2886.89568</td>\n",
       "      <td>7.193619e+04</td>\n",
       "      <td>96.653299</td>\n",
       "      <td>10.487806</td>\n",
       "      <td>2.894723</td>\n",
       "      <td>62397.405202</td>\n",
       "      <td>0.581654</td>\n",
       "      <td>0.45584</td>\n",
       "      <td>0.499797</td>\n",
       "      <td>57510.492818</td>\n",
       "      <td>0.402769</td>\n",
       "    </tr>\n",
       "    <tr>\n",
       "      <td>min</td>\n",
       "      <td>1.00000</td>\n",
       "      <td>1.556570e+07</td>\n",
       "      <td>350.000000</td>\n",
       "      <td>18.000000</td>\n",
       "      <td>0.000000</td>\n",
       "      <td>0.000000</td>\n",
       "      <td>1.000000</td>\n",
       "      <td>0.00000</td>\n",
       "      <td>0.000000</td>\n",
       "      <td>11.580000</td>\n",
       "      <td>0.000000</td>\n",
       "    </tr>\n",
       "    <tr>\n",
       "      <td>25%</td>\n",
       "      <td>2500.75000</td>\n",
       "      <td>1.562853e+07</td>\n",
       "      <td>584.000000</td>\n",
       "      <td>32.000000</td>\n",
       "      <td>2.000000</td>\n",
       "      <td>0.000000</td>\n",
       "      <td>1.000000</td>\n",
       "      <td>0.00000</td>\n",
       "      <td>0.000000</td>\n",
       "      <td>51002.110000</td>\n",
       "      <td>0.000000</td>\n",
       "    </tr>\n",
       "    <tr>\n",
       "      <td>50%</td>\n",
       "      <td>5000.50000</td>\n",
       "      <td>1.569074e+07</td>\n",
       "      <td>652.000000</td>\n",
       "      <td>37.000000</td>\n",
       "      <td>5.000000</td>\n",
       "      <td>97198.540000</td>\n",
       "      <td>1.000000</td>\n",
       "      <td>1.00000</td>\n",
       "      <td>1.000000</td>\n",
       "      <td>100193.915000</td>\n",
       "      <td>0.000000</td>\n",
       "    </tr>\n",
       "    <tr>\n",
       "      <td>75%</td>\n",
       "      <td>7500.25000</td>\n",
       "      <td>1.575323e+07</td>\n",
       "      <td>718.000000</td>\n",
       "      <td>44.000000</td>\n",
       "      <td>7.000000</td>\n",
       "      <td>127644.240000</td>\n",
       "      <td>2.000000</td>\n",
       "      <td>1.00000</td>\n",
       "      <td>1.000000</td>\n",
       "      <td>149388.247500</td>\n",
       "      <td>0.000000</td>\n",
       "    </tr>\n",
       "    <tr>\n",
       "      <td>max</td>\n",
       "      <td>10000.00000</td>\n",
       "      <td>1.581569e+07</td>\n",
       "      <td>850.000000</td>\n",
       "      <td>92.000000</td>\n",
       "      <td>10.000000</td>\n",
       "      <td>250898.090000</td>\n",
       "      <td>4.000000</td>\n",
       "      <td>1.00000</td>\n",
       "      <td>1.000000</td>\n",
       "      <td>199992.480000</td>\n",
       "      <td>1.000000</td>\n",
       "    </tr>\n",
       "  </tbody>\n",
       "</table>\n",
       "</div>"
      ],
      "text/plain": [
       "         RowNumber    CustomerId   CreditScore           Age       Tenure  \\\n",
       "count  10000.00000  1.000000e+04  10000.000000  10000.000000  9091.000000   \n",
       "mean    5000.50000  1.569094e+07    650.528800     38.921800     4.997690   \n",
       "std     2886.89568  7.193619e+04     96.653299     10.487806     2.894723   \n",
       "min        1.00000  1.556570e+07    350.000000     18.000000     0.000000   \n",
       "25%     2500.75000  1.562853e+07    584.000000     32.000000     2.000000   \n",
       "50%     5000.50000  1.569074e+07    652.000000     37.000000     5.000000   \n",
       "75%     7500.25000  1.575323e+07    718.000000     44.000000     7.000000   \n",
       "max    10000.00000  1.581569e+07    850.000000     92.000000    10.000000   \n",
       "\n",
       "             Balance  NumOfProducts    HasCrCard  IsActiveMember  \\\n",
       "count   10000.000000   10000.000000  10000.00000    10000.000000   \n",
       "mean    76485.889288       1.530200      0.70550        0.515100   \n",
       "std     62397.405202       0.581654      0.45584        0.499797   \n",
       "min         0.000000       1.000000      0.00000        0.000000   \n",
       "25%         0.000000       1.000000      0.00000        0.000000   \n",
       "50%     97198.540000       1.000000      1.00000        1.000000   \n",
       "75%    127644.240000       2.000000      1.00000        1.000000   \n",
       "max    250898.090000       4.000000      1.00000        1.000000   \n",
       "\n",
       "       EstimatedSalary        Exited  \n",
       "count     10000.000000  10000.000000  \n",
       "mean     100090.239881      0.203700  \n",
       "std       57510.492818      0.402769  \n",
       "min          11.580000      0.000000  \n",
       "25%       51002.110000      0.000000  \n",
       "50%      100193.915000      0.000000  \n",
       "75%      149388.247500      0.000000  \n",
       "max      199992.480000      1.000000  "
      ]
     },
     "execution_count": 5,
     "metadata": {},
     "output_type": "execute_result"
    }
   ],
   "source": [
    "df.describe()"
   ]
  },
  {
   "cell_type": "markdown",
   "metadata": {},
   "source": [
    "Чтобы ничего не упустить, составим предварительный план предобработки данных:"
   ]
  },
  {
   "cell_type": "markdown",
   "metadata": {},
   "source": [
    "### 1.1 Грубая предобработка данных<a id='step_1.1'></a>"
   ]
  },
  {
   "cell_type": "markdown",
   "metadata": {},
   "source": [
    "#### План грубой предобработки данных"
   ]
  },
  {
   "cell_type": "markdown",
   "metadata": {},
   "source": [
    "1. Привести названия столбцов к нижнему регистру\n",
    "1. *RowNumber* - убрать\n",
    "1. *Tenure* - заполнить/удалить пропуски\n"
   ]
  },
  {
   "cell_type": "markdown",
   "metadata": {},
   "source": [
    "#### 1. Приведем названия столбцов к нижнему регистру"
   ]
  },
  {
   "cell_type": "code",
   "execution_count": 6,
   "metadata": {},
   "outputs": [],
   "source": [
    "df.columns = [str.lower(i) for i in df.columns]"
   ]
  },
  {
   "cell_type": "markdown",
   "metadata": {},
   "source": [
    "#### 2. Удалим столбец *RowNumber*"
   ]
  },
  {
   "cell_type": "code",
   "execution_count": 7,
   "metadata": {},
   "outputs": [],
   "source": [
    "df = df.drop('rownumber', axis=1)"
   ]
  },
  {
   "cell_type": "code",
   "execution_count": 8,
   "metadata": {
    "scrolled": true
   },
   "outputs": [
    {
     "data": {
      "text/html": [
       "<div>\n",
       "<style scoped>\n",
       "    .dataframe tbody tr th:only-of-type {\n",
       "        vertical-align: middle;\n",
       "    }\n",
       "\n",
       "    .dataframe tbody tr th {\n",
       "        vertical-align: top;\n",
       "    }\n",
       "\n",
       "    .dataframe thead th {\n",
       "        text-align: right;\n",
       "    }\n",
       "</style>\n",
       "<table border=\"1\" class=\"dataframe\">\n",
       "  <thead>\n",
       "    <tr style=\"text-align: right;\">\n",
       "      <th></th>\n",
       "      <th>customerid</th>\n",
       "      <th>surname</th>\n",
       "      <th>creditscore</th>\n",
       "      <th>geography</th>\n",
       "      <th>gender</th>\n",
       "      <th>age</th>\n",
       "      <th>tenure</th>\n",
       "      <th>balance</th>\n",
       "      <th>numofproducts</th>\n",
       "      <th>hascrcard</th>\n",
       "      <th>isactivemember</th>\n",
       "      <th>estimatedsalary</th>\n",
       "      <th>exited</th>\n",
       "    </tr>\n",
       "  </thead>\n",
       "  <tbody>\n",
       "    <tr>\n",
       "      <td>0</td>\n",
       "      <td>15634602</td>\n",
       "      <td>Hargrave</td>\n",
       "      <td>619</td>\n",
       "      <td>France</td>\n",
       "      <td>Female</td>\n",
       "      <td>42</td>\n",
       "      <td>2.0</td>\n",
       "      <td>0.00</td>\n",
       "      <td>1</td>\n",
       "      <td>1</td>\n",
       "      <td>1</td>\n",
       "      <td>101348.88</td>\n",
       "      <td>1</td>\n",
       "    </tr>\n",
       "    <tr>\n",
       "      <td>1</td>\n",
       "      <td>15647311</td>\n",
       "      <td>Hill</td>\n",
       "      <td>608</td>\n",
       "      <td>Spain</td>\n",
       "      <td>Female</td>\n",
       "      <td>41</td>\n",
       "      <td>1.0</td>\n",
       "      <td>83807.86</td>\n",
       "      <td>1</td>\n",
       "      <td>0</td>\n",
       "      <td>1</td>\n",
       "      <td>112542.58</td>\n",
       "      <td>0</td>\n",
       "    </tr>\n",
       "    <tr>\n",
       "      <td>2</td>\n",
       "      <td>15619304</td>\n",
       "      <td>Onio</td>\n",
       "      <td>502</td>\n",
       "      <td>France</td>\n",
       "      <td>Female</td>\n",
       "      <td>42</td>\n",
       "      <td>8.0</td>\n",
       "      <td>159660.80</td>\n",
       "      <td>3</td>\n",
       "      <td>1</td>\n",
       "      <td>0</td>\n",
       "      <td>113931.57</td>\n",
       "      <td>1</td>\n",
       "    </tr>\n",
       "  </tbody>\n",
       "</table>\n",
       "</div>"
      ],
      "text/plain": [
       "   customerid   surname  creditscore geography  gender  age  tenure  \\\n",
       "0    15634602  Hargrave          619    France  Female   42     2.0   \n",
       "1    15647311      Hill          608     Spain  Female   41     1.0   \n",
       "2    15619304      Onio          502    France  Female   42     8.0   \n",
       "\n",
       "     balance  numofproducts  hascrcard  isactivemember  estimatedsalary  \\\n",
       "0       0.00              1          1               1        101348.88   \n",
       "1   83807.86              1          0               1        112542.58   \n",
       "2  159660.80              3          1               0        113931.57   \n",
       "\n",
       "   exited  \n",
       "0       1  \n",
       "1       0  \n",
       "2       1  "
      ]
     },
     "execution_count": 8,
     "metadata": {},
     "output_type": "execute_result"
    }
   ],
   "source": [
    "df.head(3)"
   ]
  },
  {
   "cell_type": "markdown",
   "metadata": {},
   "source": [
    "#### 3. Разберемся с пропусками в столбце *Tenure*"
   ]
  },
  {
   "cell_type": "markdown",
   "metadata": {},
   "source": [
    "Восстановить данные с достаточной для прадоподобия точностью у нас нет возможности. Заполнять пропуски какой-либо из статистик нецелесообразно т.к. такие объекты могут в худшую сторону повлиять на качество обучения модели. Поэтому, просто отбросим объекты с пропусками."
   ]
  },
  {
   "cell_type": "code",
   "execution_count": 9,
   "metadata": {},
   "outputs": [],
   "source": [
    "df = df.dropna()"
   ]
  },
  {
   "cell_type": "code",
   "execution_count": 10,
   "metadata": {},
   "outputs": [
    {
     "data": {
      "text/plain": [
       "(9091, 13)"
      ]
     },
     "execution_count": 10,
     "metadata": {},
     "output_type": "execute_result"
    }
   ],
   "source": [
    "df.shape"
   ]
  },
  {
   "cell_type": "markdown",
   "metadata": {},
   "source": [
    "###  Промежуточный вывод:"
   ]
  },
  {
   "cell_type": "markdown",
   "metadata": {},
   "source": [
    "Данные очищены от лишних столбцов. Удалены пропуски. Датафрейм готов к более тонкой подготовке данных для машинного обучения."
   ]
  },
  {
   "cell_type": "markdown",
   "metadata": {},
   "source": [
    "### 1.2 Предобработка данных для задач машинного обучения<a id='step_1.2'></a>"
   ]
  },
  {
   "cell_type": "markdown",
   "metadata": {},
   "source": [
    "Как мы знаем, чтобы модель лучше поняла закономерности в данных, эти самые данные должны быть определенным образом подготовлены для алгоритма обучения. Имея такую цель, определим план предобработки данных:"
   ]
  },
  {
   "cell_type": "markdown",
   "metadata": {},
   "source": [
    "**Вспомним, какие есть типы признаков, и какими методами они обрабатываются:**\n",
    "\n",
    "- Количественный признак ---> Нормирование\n",
    "- Категориальный признак ---> Кодирование. Метод OHE\n",
    "- Ранговый (порядковый) признак ---> Нормирование"
   ]
  },
  {
   "cell_type": "markdown",
   "metadata": {},
   "source": [
    "#### План тонкой предобработки данных"
   ]
  },
  {
   "cell_type": "markdown",
   "metadata": {},
   "source": [
    "1. Столбец *customerid* нам не нужен. Он внесет лишний шум в данные. Отбрасываем\n",
    "1. Столбец *surname* - аналогично.\n",
    "1. Признак *creditscore* - представляет собой набор числовых признаков. Для нашей задачи он может оказаться важен. Нужно его только нормировать.\n",
    "1. Признак *geography* категориальный признак. Тоже представляет ценность. Но его нужно закодировать методом OHE.\n",
    "1. Признак *gender* - категориальный бинарный признак. Аналогично п.4\n",
    "1. Признак *age* - количественный признак. Нормировать.\n",
    "1. Признак *tenure* - ранговый признак. Нормировать\n",
    "1. Признак *balance* - количественный признак. Нормировать\n",
    "1. Признак *numofproducts* - ранговый признак. Нормировать\n",
    "1. Признак *hascrcard* - категориальный бинарный признак. В данном случае, он уже подготовлен. Оставляем без изменений\n",
    "1. Признак *isactivemember* - категориальный бинарный признак. В данном случае, он уже подготовлен. Оставляем без изменений\n",
    "1. Признак *estimatedsalary* - количественный признак. Нормировать\n",
    "1. Проверка на **мультиколлинеарность**"
   ]
  },
  {
   "cell_type": "markdown",
   "metadata": {},
   "source": [
    "#### 1. Отбросим лишние столбцы  п.1 - п.2"
   ]
  },
  {
   "cell_type": "markdown",
   "metadata": {},
   "source": [
    "Будем собирать все признаки в отдельный датафрейм"
   ]
  },
  {
   "cell_type": "code",
   "execution_count": 11,
   "metadata": {},
   "outputs": [],
   "source": [
    "df_ml = df.drop(['customerid', 'surname'], axis=1)"
   ]
  },
  {
   "cell_type": "code",
   "execution_count": 12,
   "metadata": {},
   "outputs": [
    {
     "data": {
      "text/html": [
       "<div>\n",
       "<style scoped>\n",
       "    .dataframe tbody tr th:only-of-type {\n",
       "        vertical-align: middle;\n",
       "    }\n",
       "\n",
       "    .dataframe tbody tr th {\n",
       "        vertical-align: top;\n",
       "    }\n",
       "\n",
       "    .dataframe thead th {\n",
       "        text-align: right;\n",
       "    }\n",
       "</style>\n",
       "<table border=\"1\" class=\"dataframe\">\n",
       "  <thead>\n",
       "    <tr style=\"text-align: right;\">\n",
       "      <th></th>\n",
       "      <th>creditscore</th>\n",
       "      <th>geography</th>\n",
       "      <th>gender</th>\n",
       "      <th>age</th>\n",
       "      <th>tenure</th>\n",
       "      <th>balance</th>\n",
       "      <th>numofproducts</th>\n",
       "      <th>hascrcard</th>\n",
       "      <th>isactivemember</th>\n",
       "      <th>estimatedsalary</th>\n",
       "      <th>exited</th>\n",
       "    </tr>\n",
       "  </thead>\n",
       "  <tbody>\n",
       "    <tr>\n",
       "      <td>0</td>\n",
       "      <td>619</td>\n",
       "      <td>France</td>\n",
       "      <td>Female</td>\n",
       "      <td>42</td>\n",
       "      <td>2.0</td>\n",
       "      <td>0.00</td>\n",
       "      <td>1</td>\n",
       "      <td>1</td>\n",
       "      <td>1</td>\n",
       "      <td>101348.88</td>\n",
       "      <td>1</td>\n",
       "    </tr>\n",
       "    <tr>\n",
       "      <td>1</td>\n",
       "      <td>608</td>\n",
       "      <td>Spain</td>\n",
       "      <td>Female</td>\n",
       "      <td>41</td>\n",
       "      <td>1.0</td>\n",
       "      <td>83807.86</td>\n",
       "      <td>1</td>\n",
       "      <td>0</td>\n",
       "      <td>1</td>\n",
       "      <td>112542.58</td>\n",
       "      <td>0</td>\n",
       "    </tr>\n",
       "    <tr>\n",
       "      <td>2</td>\n",
       "      <td>502</td>\n",
       "      <td>France</td>\n",
       "      <td>Female</td>\n",
       "      <td>42</td>\n",
       "      <td>8.0</td>\n",
       "      <td>159660.80</td>\n",
       "      <td>3</td>\n",
       "      <td>1</td>\n",
       "      <td>0</td>\n",
       "      <td>113931.57</td>\n",
       "      <td>1</td>\n",
       "    </tr>\n",
       "  </tbody>\n",
       "</table>\n",
       "</div>"
      ],
      "text/plain": [
       "   creditscore geography  gender  age  tenure    balance  numofproducts  \\\n",
       "0          619    France  Female   42     2.0       0.00              1   \n",
       "1          608     Spain  Female   41     1.0   83807.86              1   \n",
       "2          502    France  Female   42     8.0  159660.80              3   \n",
       "\n",
       "   hascrcard  isactivemember  estimatedsalary  exited  \n",
       "0          1               1        101348.88       1  \n",
       "1          0               1        112542.58       0  \n",
       "2          1               0        113931.57       1  "
      ]
     },
     "execution_count": 12,
     "metadata": {},
     "output_type": "execute_result"
    }
   ],
   "source": [
    "df_ml.head(3)"
   ]
  },
  {
   "cell_type": "markdown",
   "metadata": {},
   "source": [
    "#### 2. Категориальные признаки. Обработаем сразу все**"
   ]
  },
  {
   "cell_type": "markdown",
   "metadata": {},
   "source": [
    "Здесь пути расходятся. Признаки для линейных моделей закодируем методом - \"OHE\", а для моделей деревьев - методом \"Ordinal\"."
   ]
  },
  {
   "cell_type": "code",
   "execution_count": 13,
   "metadata": {},
   "outputs": [],
   "source": [
    "df_ml_ohe = pd.get_dummies(df_ml, drop_first=True)"
   ]
  },
  {
   "cell_type": "code",
   "execution_count": 14,
   "metadata": {},
   "outputs": [
    {
     "data": {
      "text/html": [
       "<div>\n",
       "<style scoped>\n",
       "    .dataframe tbody tr th:only-of-type {\n",
       "        vertical-align: middle;\n",
       "    }\n",
       "\n",
       "    .dataframe tbody tr th {\n",
       "        vertical-align: top;\n",
       "    }\n",
       "\n",
       "    .dataframe thead th {\n",
       "        text-align: right;\n",
       "    }\n",
       "</style>\n",
       "<table border=\"1\" class=\"dataframe\">\n",
       "  <thead>\n",
       "    <tr style=\"text-align: right;\">\n",
       "      <th></th>\n",
       "      <th>creditscore</th>\n",
       "      <th>age</th>\n",
       "      <th>tenure</th>\n",
       "      <th>balance</th>\n",
       "      <th>numofproducts</th>\n",
       "      <th>hascrcard</th>\n",
       "      <th>isactivemember</th>\n",
       "      <th>estimatedsalary</th>\n",
       "      <th>exited</th>\n",
       "      <th>geography_Germany</th>\n",
       "      <th>geography_Spain</th>\n",
       "      <th>gender_Male</th>\n",
       "    </tr>\n",
       "  </thead>\n",
       "  <tbody>\n",
       "    <tr>\n",
       "      <td>0</td>\n",
       "      <td>619</td>\n",
       "      <td>42</td>\n",
       "      <td>2.0</td>\n",
       "      <td>0.00</td>\n",
       "      <td>1</td>\n",
       "      <td>1</td>\n",
       "      <td>1</td>\n",
       "      <td>101348.88</td>\n",
       "      <td>1</td>\n",
       "      <td>0</td>\n",
       "      <td>0</td>\n",
       "      <td>0</td>\n",
       "    </tr>\n",
       "    <tr>\n",
       "      <td>1</td>\n",
       "      <td>608</td>\n",
       "      <td>41</td>\n",
       "      <td>1.0</td>\n",
       "      <td>83807.86</td>\n",
       "      <td>1</td>\n",
       "      <td>0</td>\n",
       "      <td>1</td>\n",
       "      <td>112542.58</td>\n",
       "      <td>0</td>\n",
       "      <td>0</td>\n",
       "      <td>1</td>\n",
       "      <td>0</td>\n",
       "    </tr>\n",
       "    <tr>\n",
       "      <td>2</td>\n",
       "      <td>502</td>\n",
       "      <td>42</td>\n",
       "      <td>8.0</td>\n",
       "      <td>159660.80</td>\n",
       "      <td>3</td>\n",
       "      <td>1</td>\n",
       "      <td>0</td>\n",
       "      <td>113931.57</td>\n",
       "      <td>1</td>\n",
       "      <td>0</td>\n",
       "      <td>0</td>\n",
       "      <td>0</td>\n",
       "    </tr>\n",
       "  </tbody>\n",
       "</table>\n",
       "</div>"
      ],
      "text/plain": [
       "   creditscore  age  tenure    balance  numofproducts  hascrcard  \\\n",
       "0          619   42     2.0       0.00              1          1   \n",
       "1          608   41     1.0   83807.86              1          0   \n",
       "2          502   42     8.0  159660.80              3          1   \n",
       "\n",
       "   isactivemember  estimatedsalary  exited  geography_Germany  \\\n",
       "0               1        101348.88       1                  0   \n",
       "1               1        112542.58       0                  0   \n",
       "2               0        113931.57       1                  0   \n",
       "\n",
       "   geography_Spain  gender_Male  \n",
       "0                0            0  \n",
       "1                1            0  \n",
       "2                0            0  "
      ]
     },
     "execution_count": 14,
     "metadata": {},
     "output_type": "execute_result"
    }
   ],
   "source": [
    "df_ml_ohe.head(3)"
   ]
  },
  {
   "cell_type": "markdown",
   "metadata": {},
   "source": [
    "И снова преобразуем столбцы к нижнему регистру:"
   ]
  },
  {
   "cell_type": "code",
   "execution_count": 15,
   "metadata": {},
   "outputs": [],
   "source": [
    "df_ml_ohe.columns = [str.lower(i) for i in df_ml_ohe.columns]"
   ]
  },
  {
   "cell_type": "code",
   "execution_count": 16,
   "metadata": {},
   "outputs": [
    {
     "data": {
      "text/html": [
       "<div>\n",
       "<style scoped>\n",
       "    .dataframe tbody tr th:only-of-type {\n",
       "        vertical-align: middle;\n",
       "    }\n",
       "\n",
       "    .dataframe tbody tr th {\n",
       "        vertical-align: top;\n",
       "    }\n",
       "\n",
       "    .dataframe thead th {\n",
       "        text-align: right;\n",
       "    }\n",
       "</style>\n",
       "<table border=\"1\" class=\"dataframe\">\n",
       "  <thead>\n",
       "    <tr style=\"text-align: right;\">\n",
       "      <th></th>\n",
       "      <th>creditscore</th>\n",
       "      <th>age</th>\n",
       "      <th>tenure</th>\n",
       "      <th>balance</th>\n",
       "      <th>numofproducts</th>\n",
       "      <th>hascrcard</th>\n",
       "      <th>isactivemember</th>\n",
       "      <th>estimatedsalary</th>\n",
       "      <th>exited</th>\n",
       "      <th>geography_germany</th>\n",
       "      <th>geography_spain</th>\n",
       "      <th>gender_male</th>\n",
       "    </tr>\n",
       "  </thead>\n",
       "  <tbody>\n",
       "    <tr>\n",
       "      <td>0</td>\n",
       "      <td>619</td>\n",
       "      <td>42</td>\n",
       "      <td>2.0</td>\n",
       "      <td>0.00</td>\n",
       "      <td>1</td>\n",
       "      <td>1</td>\n",
       "      <td>1</td>\n",
       "      <td>101348.88</td>\n",
       "      <td>1</td>\n",
       "      <td>0</td>\n",
       "      <td>0</td>\n",
       "      <td>0</td>\n",
       "    </tr>\n",
       "    <tr>\n",
       "      <td>1</td>\n",
       "      <td>608</td>\n",
       "      <td>41</td>\n",
       "      <td>1.0</td>\n",
       "      <td>83807.86</td>\n",
       "      <td>1</td>\n",
       "      <td>0</td>\n",
       "      <td>1</td>\n",
       "      <td>112542.58</td>\n",
       "      <td>0</td>\n",
       "      <td>0</td>\n",
       "      <td>1</td>\n",
       "      <td>0</td>\n",
       "    </tr>\n",
       "    <tr>\n",
       "      <td>2</td>\n",
       "      <td>502</td>\n",
       "      <td>42</td>\n",
       "      <td>8.0</td>\n",
       "      <td>159660.80</td>\n",
       "      <td>3</td>\n",
       "      <td>1</td>\n",
       "      <td>0</td>\n",
       "      <td>113931.57</td>\n",
       "      <td>1</td>\n",
       "      <td>0</td>\n",
       "      <td>0</td>\n",
       "      <td>0</td>\n",
       "    </tr>\n",
       "  </tbody>\n",
       "</table>\n",
       "</div>"
      ],
      "text/plain": [
       "   creditscore  age  tenure    balance  numofproducts  hascrcard  \\\n",
       "0          619   42     2.0       0.00              1          1   \n",
       "1          608   41     1.0   83807.86              1          0   \n",
       "2          502   42     8.0  159660.80              3          1   \n",
       "\n",
       "   isactivemember  estimatedsalary  exited  geography_germany  \\\n",
       "0               1        101348.88       1                  0   \n",
       "1               1        112542.58       0                  0   \n",
       "2               0        113931.57       1                  0   \n",
       "\n",
       "   geography_spain  gender_male  \n",
       "0                0            0  \n",
       "1                1            0  \n",
       "2                0            0  "
      ]
     },
     "execution_count": 16,
     "metadata": {},
     "output_type": "execute_result"
    }
   ],
   "source": [
    "df_ml_ohe.head(3)"
   ]
  },
  {
   "cell_type": "markdown",
   "metadata": {},
   "source": [
    "Проверим, что ничего на пути не растеряли:"
   ]
  },
  {
   "cell_type": "code",
   "execution_count": 17,
   "metadata": {},
   "outputs": [
    {
     "data": {
      "text/plain": [
       "(9091, 12)"
      ]
     },
     "execution_count": 17,
     "metadata": {},
     "output_type": "execute_result"
    }
   ],
   "source": [
    "df_ml_ohe.shape"
   ]
  },
  {
   "cell_type": "markdown",
   "metadata": {},
   "source": [
    "Теперь закодируем данные методом Ordinal"
   ]
  },
  {
   "cell_type": "code",
   "execution_count": 18,
   "metadata": {},
   "outputs": [],
   "source": [
    "encoder = OrdinalEncoder()\n",
    "df_ml_ord = pd.DataFrame(encoder.fit_transform(df_ml),\n",
    "                            columns=df_ml.columns)"
   ]
  },
  {
   "cell_type": "code",
   "execution_count": 19,
   "metadata": {},
   "outputs": [
    {
     "data": {
      "text/html": [
       "<div>\n",
       "<style scoped>\n",
       "    .dataframe tbody tr th:only-of-type {\n",
       "        vertical-align: middle;\n",
       "    }\n",
       "\n",
       "    .dataframe tbody tr th {\n",
       "        vertical-align: top;\n",
       "    }\n",
       "\n",
       "    .dataframe thead th {\n",
       "        text-align: right;\n",
       "    }\n",
       "</style>\n",
       "<table border=\"1\" class=\"dataframe\">\n",
       "  <thead>\n",
       "    <tr style=\"text-align: right;\">\n",
       "      <th></th>\n",
       "      <th>creditscore</th>\n",
       "      <th>geography</th>\n",
       "      <th>gender</th>\n",
       "      <th>age</th>\n",
       "      <th>tenure</th>\n",
       "      <th>balance</th>\n",
       "      <th>numofproducts</th>\n",
       "      <th>hascrcard</th>\n",
       "      <th>isactivemember</th>\n",
       "      <th>estimatedsalary</th>\n",
       "      <th>exited</th>\n",
       "    </tr>\n",
       "  </thead>\n",
       "  <tbody>\n",
       "    <tr>\n",
       "      <td>0</td>\n",
       "      <td>226.0</td>\n",
       "      <td>0.0</td>\n",
       "      <td>0.0</td>\n",
       "      <td>24.0</td>\n",
       "      <td>2.0</td>\n",
       "      <td>0.0</td>\n",
       "      <td>0.0</td>\n",
       "      <td>1.0</td>\n",
       "      <td>1.0</td>\n",
       "      <td>4609.0</td>\n",
       "      <td>1.0</td>\n",
       "    </tr>\n",
       "    <tr>\n",
       "      <td>1</td>\n",
       "      <td>215.0</td>\n",
       "      <td>2.0</td>\n",
       "      <td>0.0</td>\n",
       "      <td>23.0</td>\n",
       "      <td>1.0</td>\n",
       "      <td>679.0</td>\n",
       "      <td>0.0</td>\n",
       "      <td>0.0</td>\n",
       "      <td>1.0</td>\n",
       "      <td>5119.0</td>\n",
       "      <td>0.0</td>\n",
       "    </tr>\n",
       "    <tr>\n",
       "      <td>2</td>\n",
       "      <td>109.0</td>\n",
       "      <td>0.0</td>\n",
       "      <td>0.0</td>\n",
       "      <td>24.0</td>\n",
       "      <td>8.0</td>\n",
       "      <td>5277.0</td>\n",
       "      <td>2.0</td>\n",
       "      <td>1.0</td>\n",
       "      <td>0.0</td>\n",
       "      <td>5182.0</td>\n",
       "      <td>1.0</td>\n",
       "    </tr>\n",
       "  </tbody>\n",
       "</table>\n",
       "</div>"
      ],
      "text/plain": [
       "   creditscore  geography  gender   age  tenure  balance  numofproducts  \\\n",
       "0        226.0        0.0     0.0  24.0     2.0      0.0            0.0   \n",
       "1        215.0        2.0     0.0  23.0     1.0    679.0            0.0   \n",
       "2        109.0        0.0     0.0  24.0     8.0   5277.0            2.0   \n",
       "\n",
       "   hascrcard  isactivemember  estimatedsalary  exited  \n",
       "0        1.0             1.0           4609.0     1.0  \n",
       "1        0.0             1.0           5119.0     0.0  \n",
       "2        1.0             0.0           5182.0     1.0  "
      ]
     },
     "execution_count": 19,
     "metadata": {},
     "output_type": "execute_result"
    }
   ],
   "source": [
    "df_ml_ord.head(3)"
   ]
  },
  {
   "cell_type": "code",
   "execution_count": 20,
   "metadata": {},
   "outputs": [
    {
     "data": {
      "text/plain": [
       "(9091, 11)"
      ]
     },
     "execution_count": 20,
     "metadata": {},
     "output_type": "execute_result"
    }
   ],
   "source": [
    "df_ml_ord.shape"
   ]
  },
  {
   "cell_type": "markdown",
   "metadata": {},
   "source": [
    "Теперь имеем два датафрейма с разной кодировкой категориальных признаков."
   ]
  },
  {
   "cell_type": "markdown",
   "metadata": {},
   "source": [
    "#### 3. Количественные признаки. Нормирование"
   ]
  },
  {
   "cell_type": "markdown",
   "metadata": {},
   "source": [
    "Отделим целевой признак от остальных:"
   ]
  },
  {
   "cell_type": "markdown",
   "metadata": {},
   "source": [
    "Для выборки **OHE**:"
   ]
  },
  {
   "cell_type": "code",
   "execution_count": 21,
   "metadata": {},
   "outputs": [
    {
     "name": "stdout",
     "output_type": "stream",
     "text": [
      "(9091,)\n",
      "(9091, 11)\n"
     ]
    }
   ],
   "source": [
    "target_ohe = df_ml_ohe['exited']\n",
    "features_ohe = df_ml_ohe.drop('exited', axis=1)\n",
    "\n",
    "print(target_ohe.shape)\n",
    "print(features_ohe.shape)"
   ]
  },
  {
   "cell_type": "markdown",
   "metadata": {},
   "source": [
    "Для выборки **Ordinal**:"
   ]
  },
  {
   "cell_type": "code",
   "execution_count": 22,
   "metadata": {},
   "outputs": [
    {
     "name": "stdout",
     "output_type": "stream",
     "text": [
      "(9091,)\n",
      "(9091, 10)\n"
     ]
    }
   ],
   "source": [
    "target_ord = df_ml_ord['exited']\n",
    "features_ord = df_ml_ord.drop('exited', axis=1)\n",
    "\n",
    "print(target_ord.shape)\n",
    "print(features_ord.shape)"
   ]
  },
  {
   "cell_type": "markdown",
   "metadata": {},
   "source": [
    "**Разбиение на выборки**"
   ]
  },
  {
   "cell_type": "markdown",
   "metadata": {},
   "source": [
    "Для того, чтобы избежать \"подглядывания\" моделей, перед нормированием признаков, разобъем данные на обучающую и тестовую выборку: \n",
    "\n",
    "А для того, чтобы тестировать оптимальные пороги, создадим еще и валидационную выборку."
   ]
  },
  {
   "cell_type": "markdown",
   "metadata": {},
   "source": [
    "Для выборки **OHE**:"
   ]
  },
  {
   "cell_type": "code",
   "execution_count": 23,
   "metadata": {},
   "outputs": [
    {
     "name": "stdout",
     "output_type": "stream",
     "text": [
      "(5113, 11) (1705, 11) (2273, 11)\n"
     ]
    }
   ],
   "source": [
    "feat_ohe_train_valid, features_ohe_test, target_ohe_train_valid, target_ohe_test = train_test_split(\n",
    "    features_ohe, target_ohe, test_size=0.25, random_state=12345)\n",
    "\n",
    "features_ohe_train, features_ohe_valid, target_ohe_train, target_ohe_valid = train_test_split(\n",
    "    feat_ohe_train_valid, target_ohe_train_valid, test_size=0.25, random_state=12345)\n",
    "\n",
    "print(features_ohe_train.shape, features_ohe_valid.shape, features_ohe_test.shape)"
   ]
  },
  {
   "cell_type": "markdown",
   "metadata": {},
   "source": [
    "Для выборки **Ordinal**:"
   ]
  },
  {
   "cell_type": "code",
   "execution_count": 24,
   "metadata": {},
   "outputs": [
    {
     "name": "stdout",
     "output_type": "stream",
     "text": [
      "(5113, 10) (1705, 10) (2273, 10)\n"
     ]
    }
   ],
   "source": [
    "feat_ord_train_valid, features_ord_test, target_ord_train_valid, target_ord_test = train_test_split(\n",
    "    features_ord, target_ord, test_size=0.25, random_state=12345)\n",
    "\n",
    "features_ord_train, features_ord_valid, target_ord_train, target_ord_valid = train_test_split(\n",
    "    feat_ord_train_valid, target_ord_train_valid, test_size=0.25, random_state=12345)\n",
    "\n",
    "print(features_ord_train.shape, features_ord_valid.shape, features_ord_test.shape)"
   ]
  },
  {
   "cell_type": "markdown",
   "metadata": {},
   "source": [
    "**Нормирование**"
   ]
  },
  {
   "cell_type": "markdown",
   "metadata": {},
   "source": [
    "Теперь выпишем названия столбцов с числовыми признаками, которые будем нормировать:"
   ]
  },
  {
   "cell_type": "code",
   "execution_count": 25,
   "metadata": {},
   "outputs": [],
   "source": [
    "numeric = ['creditscore', 'age', 'tenure', 'balance', 'numofproducts', 'estimatedsalary']"
   ]
  },
  {
   "cell_type": "markdown",
   "metadata": {},
   "source": [
    "Вызовем модель для нормирования данных, и обучим ее:"
   ]
  },
  {
   "cell_type": "code",
   "execution_count": 26,
   "metadata": {},
   "outputs": [
    {
     "data": {
      "text/plain": [
       "StandardScaler(copy=True, with_mean=True, with_std=True)"
      ]
     },
     "execution_count": 26,
     "metadata": {},
     "output_type": "execute_result"
    }
   ],
   "source": [
    "scaler = StandardScaler()\n",
    "scaler.fit(features_ohe_train[numeric])"
   ]
  },
  {
   "cell_type": "markdown",
   "metadata": {},
   "source": [
    "Заменим числовые значения признаков на нормированные:"
   ]
  },
  {
   "cell_type": "markdown",
   "metadata": {},
   "source": [
    "Для выборки **OHE**:"
   ]
  },
  {
   "cell_type": "code",
   "execution_count": 27,
   "metadata": {},
   "outputs": [
    {
     "name": "stdout",
     "output_type": "stream",
     "text": [
      "(5113, 11) (1705, 11) (2273, 11)\n"
     ]
    }
   ],
   "source": [
    "pd.options.mode.chained_assignment = None\n",
    "\n",
    "features_ohe_train[numeric] = scaler.transform(features_ohe_train[numeric])\n",
    "features_ohe_valid[numeric] = scaler.transform(features_ohe_valid[numeric])\n",
    "features_ohe_test[numeric] = scaler.transform(features_ohe_test[numeric])\n",
    "\n",
    "print(features_ohe_train.shape, features_ohe_valid.shape, features_ohe_test.shape)"
   ]
  },
  {
   "cell_type": "code",
   "execution_count": 28,
   "metadata": {},
   "outputs": [
    {
     "data": {
      "text/html": [
       "<div>\n",
       "<style scoped>\n",
       "    .dataframe tbody tr th:only-of-type {\n",
       "        vertical-align: middle;\n",
       "    }\n",
       "\n",
       "    .dataframe tbody tr th {\n",
       "        vertical-align: top;\n",
       "    }\n",
       "\n",
       "    .dataframe thead th {\n",
       "        text-align: right;\n",
       "    }\n",
       "</style>\n",
       "<table border=\"1\" class=\"dataframe\">\n",
       "  <thead>\n",
       "    <tr style=\"text-align: right;\">\n",
       "      <th></th>\n",
       "      <th>creditscore</th>\n",
       "      <th>age</th>\n",
       "      <th>tenure</th>\n",
       "      <th>balance</th>\n",
       "      <th>numofproducts</th>\n",
       "      <th>hascrcard</th>\n",
       "      <th>isactivemember</th>\n",
       "      <th>estimatedsalary</th>\n",
       "      <th>geography_germany</th>\n",
       "      <th>geography_spain</th>\n",
       "      <th>gender_male</th>\n",
       "    </tr>\n",
       "  </thead>\n",
       "  <tbody>\n",
       "    <tr>\n",
       "      <td>2142</td>\n",
       "      <td>0.429837</td>\n",
       "      <td>-0.393424</td>\n",
       "      <td>0.330914</td>\n",
       "      <td>0.575644</td>\n",
       "      <td>-0.914996</td>\n",
       "      <td>1</td>\n",
       "      <td>0</td>\n",
       "      <td>1.313694</td>\n",
       "      <td>0</td>\n",
       "      <td>0</td>\n",
       "      <td>1</td>\n",
       "    </tr>\n",
       "    <tr>\n",
       "      <td>7361</td>\n",
       "      <td>0.450392</td>\n",
       "      <td>-0.298659</td>\n",
       "      <td>-0.351604</td>\n",
       "      <td>-1.232909</td>\n",
       "      <td>-0.914996</td>\n",
       "      <td>1</td>\n",
       "      <td>0</td>\n",
       "      <td>1.462020</td>\n",
       "      <td>0</td>\n",
       "      <td>0</td>\n",
       "      <td>0</td>\n",
       "    </tr>\n",
       "    <tr>\n",
       "      <td>7102</td>\n",
       "      <td>-1.327676</td>\n",
       "      <td>-0.014364</td>\n",
       "      <td>-1.034123</td>\n",
       "      <td>0.579934</td>\n",
       "      <td>0.799951</td>\n",
       "      <td>1</td>\n",
       "      <td>0</td>\n",
       "      <td>-0.052254</td>\n",
       "      <td>0</td>\n",
       "      <td>0</td>\n",
       "      <td>1</td>\n",
       "    </tr>\n",
       "  </tbody>\n",
       "</table>\n",
       "</div>"
      ],
      "text/plain": [
       "      creditscore       age    tenure   balance  numofproducts  hascrcard  \\\n",
       "2142     0.429837 -0.393424  0.330914  0.575644      -0.914996          1   \n",
       "7361     0.450392 -0.298659 -0.351604 -1.232909      -0.914996          1   \n",
       "7102    -1.327676 -0.014364 -1.034123  0.579934       0.799951          1   \n",
       "\n",
       "      isactivemember  estimatedsalary  geography_germany  geography_spain  \\\n",
       "2142               0         1.313694                  0                0   \n",
       "7361               0         1.462020                  0                0   \n",
       "7102               0        -0.052254                  0                0   \n",
       "\n",
       "      gender_male  \n",
       "2142            1  \n",
       "7361            0  \n",
       "7102            1  "
      ]
     },
     "execution_count": 28,
     "metadata": {},
     "output_type": "execute_result"
    }
   ],
   "source": [
    "features_ohe_train.head(3)"
   ]
  },
  {
   "cell_type": "markdown",
   "metadata": {},
   "source": [
    "Для выборки **Ordinal**:"
   ]
  },
  {
   "cell_type": "code",
   "execution_count": 29,
   "metadata": {},
   "outputs": [
    {
     "name": "stdout",
     "output_type": "stream",
     "text": [
      "(5113, 10) (1705, 10) (2273, 10)\n"
     ]
    }
   ],
   "source": [
    "features_ord_train[numeric] = scaler.transform(features_ord_train[numeric])\n",
    "features_ord_valid[numeric] = scaler.transform(features_ord_valid[numeric])\n",
    "features_ord_test[numeric] = scaler.transform(features_ord_test[numeric])\n",
    "\n",
    "print(features_ord_train.shape, features_ord_valid.shape, features_ord_test.shape)"
   ]
  },
  {
   "cell_type": "code",
   "execution_count": 30,
   "metadata": {},
   "outputs": [
    {
     "data": {
      "text/html": [
       "<div>\n",
       "<style scoped>\n",
       "    .dataframe tbody tr th:only-of-type {\n",
       "        vertical-align: middle;\n",
       "    }\n",
       "\n",
       "    .dataframe tbody tr th {\n",
       "        vertical-align: top;\n",
       "    }\n",
       "\n",
       "    .dataframe thead th {\n",
       "        text-align: right;\n",
       "    }\n",
       "</style>\n",
       "<table border=\"1\" class=\"dataframe\">\n",
       "  <thead>\n",
       "    <tr style=\"text-align: right;\">\n",
       "      <th></th>\n",
       "      <th>creditscore</th>\n",
       "      <th>geography</th>\n",
       "      <th>gender</th>\n",
       "      <th>age</th>\n",
       "      <th>tenure</th>\n",
       "      <th>balance</th>\n",
       "      <th>numofproducts</th>\n",
       "      <th>hascrcard</th>\n",
       "      <th>isactivemember</th>\n",
       "      <th>estimatedsalary</th>\n",
       "    </tr>\n",
       "  </thead>\n",
       "  <tbody>\n",
       "    <tr>\n",
       "      <td>1935</td>\n",
       "      <td>-3.609359</td>\n",
       "      <td>0.0</td>\n",
       "      <td>1.0</td>\n",
       "      <td>-2.099196</td>\n",
       "      <td>0.330914</td>\n",
       "      <td>-1.195114</td>\n",
       "      <td>-2.629944</td>\n",
       "      <td>1.0</td>\n",
       "      <td>0.0</td>\n",
       "      <td>-1.593504</td>\n",
       "    </tr>\n",
       "    <tr>\n",
       "      <td>6676</td>\n",
       "      <td>-3.588803</td>\n",
       "      <td>0.0</td>\n",
       "      <td>0.0</td>\n",
       "      <td>-2.004431</td>\n",
       "      <td>-0.351604</td>\n",
       "      <td>-1.232909</td>\n",
       "      <td>-2.629944</td>\n",
       "      <td>1.0</td>\n",
       "      <td>0.0</td>\n",
       "      <td>-1.586603</td>\n",
       "    </tr>\n",
       "    <tr>\n",
       "      <td>6441</td>\n",
       "      <td>-5.366872</td>\n",
       "      <td>0.0</td>\n",
       "      <td>1.0</td>\n",
       "      <td>-1.720136</td>\n",
       "      <td>-1.034123</td>\n",
       "      <td>-1.194793</td>\n",
       "      <td>-0.914996</td>\n",
       "      <td>1.0</td>\n",
       "      <td>0.0</td>\n",
       "      <td>-1.655650</td>\n",
       "    </tr>\n",
       "  </tbody>\n",
       "</table>\n",
       "</div>"
      ],
      "text/plain": [
       "      creditscore  geography  gender       age    tenure   balance  \\\n",
       "1935    -3.609359        0.0     1.0 -2.099196  0.330914 -1.195114   \n",
       "6676    -3.588803        0.0     0.0 -2.004431 -0.351604 -1.232909   \n",
       "6441    -5.366872        0.0     1.0 -1.720136 -1.034123 -1.194793   \n",
       "\n",
       "      numofproducts  hascrcard  isactivemember  estimatedsalary  \n",
       "1935      -2.629944        1.0             0.0        -1.593504  \n",
       "6676      -2.629944        1.0             0.0        -1.586603  \n",
       "6441      -0.914996        1.0             0.0        -1.655650  "
      ]
     },
     "execution_count": 30,
     "metadata": {},
     "output_type": "execute_result"
    }
   ],
   "source": [
    "features_ord_train.head(3)"
   ]
  },
  {
   "cell_type": "markdown",
   "metadata": {},
   "source": [
    "#### 4. Проверка на мультиколлинеарность"
   ]
  },
  {
   "cell_type": "markdown",
   "metadata": {},
   "source": [
    "Построим матрицу корреляции признаков:"
   ]
  },
  {
   "cell_type": "code",
   "execution_count": 31,
   "metadata": {},
   "outputs": [
    {
     "data": {
      "text/html": [
       "<div>\n",
       "<style scoped>\n",
       "    .dataframe tbody tr th:only-of-type {\n",
       "        vertical-align: middle;\n",
       "    }\n",
       "\n",
       "    .dataframe tbody tr th {\n",
       "        vertical-align: top;\n",
       "    }\n",
       "\n",
       "    .dataframe thead th {\n",
       "        text-align: right;\n",
       "    }\n",
       "</style>\n",
       "<table border=\"1\" class=\"dataframe\">\n",
       "  <thead>\n",
       "    <tr style=\"text-align: right;\">\n",
       "      <th></th>\n",
       "      <th>creditscore</th>\n",
       "      <th>age</th>\n",
       "      <th>tenure</th>\n",
       "      <th>balance</th>\n",
       "      <th>numofproducts</th>\n",
       "      <th>hascrcard</th>\n",
       "      <th>isactivemember</th>\n",
       "      <th>estimatedsalary</th>\n",
       "      <th>geography_germany</th>\n",
       "      <th>geography_spain</th>\n",
       "      <th>gender_male</th>\n",
       "    </tr>\n",
       "  </thead>\n",
       "  <tbody>\n",
       "    <tr>\n",
       "      <td>creditscore</td>\n",
       "      <td>1.000000</td>\n",
       "      <td>-0.011227</td>\n",
       "      <td>0.014629</td>\n",
       "      <td>-0.002075</td>\n",
       "      <td>0.008782</td>\n",
       "      <td>-0.008597</td>\n",
       "      <td>0.048959</td>\n",
       "      <td>-0.004808</td>\n",
       "      <td>-0.009246</td>\n",
       "      <td>0.018275</td>\n",
       "      <td>-0.023527</td>\n",
       "    </tr>\n",
       "    <tr>\n",
       "      <td>age</td>\n",
       "      <td>-0.011227</td>\n",
       "      <td>1.000000</td>\n",
       "      <td>-0.016777</td>\n",
       "      <td>0.030002</td>\n",
       "      <td>-0.033485</td>\n",
       "      <td>-0.030066</td>\n",
       "      <td>0.079501</td>\n",
       "      <td>0.000897</td>\n",
       "      <td>0.043795</td>\n",
       "      <td>-0.002912</td>\n",
       "      <td>-0.027645</td>\n",
       "    </tr>\n",
       "    <tr>\n",
       "      <td>tenure</td>\n",
       "      <td>0.014629</td>\n",
       "      <td>-0.016777</td>\n",
       "      <td>1.000000</td>\n",
       "      <td>0.007427</td>\n",
       "      <td>-0.000996</td>\n",
       "      <td>0.040740</td>\n",
       "      <td>-0.046618</td>\n",
       "      <td>0.008825</td>\n",
       "      <td>0.000974</td>\n",
       "      <td>0.005558</td>\n",
       "      <td>0.002027</td>\n",
       "    </tr>\n",
       "    <tr>\n",
       "      <td>balance</td>\n",
       "      <td>-0.002075</td>\n",
       "      <td>0.030002</td>\n",
       "      <td>0.007427</td>\n",
       "      <td>1.000000</td>\n",
       "      <td>-0.298156</td>\n",
       "      <td>-0.016434</td>\n",
       "      <td>0.002651</td>\n",
       "      <td>0.008638</td>\n",
       "      <td>0.393531</td>\n",
       "      <td>-0.129325</td>\n",
       "      <td>0.019562</td>\n",
       "    </tr>\n",
       "    <tr>\n",
       "      <td>numofproducts</td>\n",
       "      <td>0.008782</td>\n",
       "      <td>-0.033485</td>\n",
       "      <td>-0.000996</td>\n",
       "      <td>-0.298156</td>\n",
       "      <td>1.000000</td>\n",
       "      <td>0.011819</td>\n",
       "      <td>0.003973</td>\n",
       "      <td>0.017717</td>\n",
       "      <td>-0.020771</td>\n",
       "      <td>0.000626</td>\n",
       "      <td>-0.032965</td>\n",
       "    </tr>\n",
       "    <tr>\n",
       "      <td>hascrcard</td>\n",
       "      <td>-0.008597</td>\n",
       "      <td>-0.030066</td>\n",
       "      <td>0.040740</td>\n",
       "      <td>-0.016434</td>\n",
       "      <td>0.011819</td>\n",
       "      <td>1.000000</td>\n",
       "      <td>-0.011766</td>\n",
       "      <td>-0.008685</td>\n",
       "      <td>0.008230</td>\n",
       "      <td>-0.003014</td>\n",
       "      <td>-0.005517</td>\n",
       "    </tr>\n",
       "    <tr>\n",
       "      <td>isactivemember</td>\n",
       "      <td>0.048959</td>\n",
       "      <td>0.079501</td>\n",
       "      <td>-0.046618</td>\n",
       "      <td>0.002651</td>\n",
       "      <td>0.003973</td>\n",
       "      <td>-0.011766</td>\n",
       "      <td>1.000000</td>\n",
       "      <td>-0.006224</td>\n",
       "      <td>-0.007776</td>\n",
       "      <td>0.005987</td>\n",
       "      <td>0.036281</td>\n",
       "    </tr>\n",
       "    <tr>\n",
       "      <td>estimatedsalary</td>\n",
       "      <td>-0.004808</td>\n",
       "      <td>0.000897</td>\n",
       "      <td>0.008825</td>\n",
       "      <td>0.008638</td>\n",
       "      <td>0.017717</td>\n",
       "      <td>-0.008685</td>\n",
       "      <td>-0.006224</td>\n",
       "      <td>1.000000</td>\n",
       "      <td>0.015949</td>\n",
       "      <td>0.001836</td>\n",
       "      <td>-0.011676</td>\n",
       "    </tr>\n",
       "    <tr>\n",
       "      <td>geography_germany</td>\n",
       "      <td>-0.009246</td>\n",
       "      <td>0.043795</td>\n",
       "      <td>0.000974</td>\n",
       "      <td>0.393531</td>\n",
       "      <td>-0.020771</td>\n",
       "      <td>0.008230</td>\n",
       "      <td>-0.007776</td>\n",
       "      <td>0.015949</td>\n",
       "      <td>1.000000</td>\n",
       "      <td>-0.329426</td>\n",
       "      <td>-0.021581</td>\n",
       "    </tr>\n",
       "    <tr>\n",
       "      <td>geography_spain</td>\n",
       "      <td>0.018275</td>\n",
       "      <td>-0.002912</td>\n",
       "      <td>0.005558</td>\n",
       "      <td>-0.129325</td>\n",
       "      <td>0.000626</td>\n",
       "      <td>-0.003014</td>\n",
       "      <td>0.005987</td>\n",
       "      <td>0.001836</td>\n",
       "      <td>-0.329426</td>\n",
       "      <td>1.000000</td>\n",
       "      <td>-0.003568</td>\n",
       "    </tr>\n",
       "    <tr>\n",
       "      <td>gender_male</td>\n",
       "      <td>-0.023527</td>\n",
       "      <td>-0.027645</td>\n",
       "      <td>0.002027</td>\n",
       "      <td>0.019562</td>\n",
       "      <td>-0.032965</td>\n",
       "      <td>-0.005517</td>\n",
       "      <td>0.036281</td>\n",
       "      <td>-0.011676</td>\n",
       "      <td>-0.021581</td>\n",
       "      <td>-0.003568</td>\n",
       "      <td>1.000000</td>\n",
       "    </tr>\n",
       "  </tbody>\n",
       "</table>\n",
       "</div>"
      ],
      "text/plain": [
       "                   creditscore       age    tenure   balance  numofproducts  \\\n",
       "creditscore           1.000000 -0.011227  0.014629 -0.002075       0.008782   \n",
       "age                  -0.011227  1.000000 -0.016777  0.030002      -0.033485   \n",
       "tenure                0.014629 -0.016777  1.000000  0.007427      -0.000996   \n",
       "balance              -0.002075  0.030002  0.007427  1.000000      -0.298156   \n",
       "numofproducts         0.008782 -0.033485 -0.000996 -0.298156       1.000000   \n",
       "hascrcard            -0.008597 -0.030066  0.040740 -0.016434       0.011819   \n",
       "isactivemember        0.048959  0.079501 -0.046618  0.002651       0.003973   \n",
       "estimatedsalary      -0.004808  0.000897  0.008825  0.008638       0.017717   \n",
       "geography_germany    -0.009246  0.043795  0.000974  0.393531      -0.020771   \n",
       "geography_spain       0.018275 -0.002912  0.005558 -0.129325       0.000626   \n",
       "gender_male          -0.023527 -0.027645  0.002027  0.019562      -0.032965   \n",
       "\n",
       "                   hascrcard  isactivemember  estimatedsalary  \\\n",
       "creditscore        -0.008597        0.048959        -0.004808   \n",
       "age                -0.030066        0.079501         0.000897   \n",
       "tenure              0.040740       -0.046618         0.008825   \n",
       "balance            -0.016434        0.002651         0.008638   \n",
       "numofproducts       0.011819        0.003973         0.017717   \n",
       "hascrcard           1.000000       -0.011766        -0.008685   \n",
       "isactivemember     -0.011766        1.000000        -0.006224   \n",
       "estimatedsalary    -0.008685       -0.006224         1.000000   \n",
       "geography_germany   0.008230       -0.007776         0.015949   \n",
       "geography_spain    -0.003014        0.005987         0.001836   \n",
       "gender_male        -0.005517        0.036281        -0.011676   \n",
       "\n",
       "                   geography_germany  geography_spain  gender_male  \n",
       "creditscore                -0.009246         0.018275    -0.023527  \n",
       "age                         0.043795        -0.002912    -0.027645  \n",
       "tenure                      0.000974         0.005558     0.002027  \n",
       "balance                     0.393531        -0.129325     0.019562  \n",
       "numofproducts              -0.020771         0.000626    -0.032965  \n",
       "hascrcard                   0.008230        -0.003014    -0.005517  \n",
       "isactivemember             -0.007776         0.005987     0.036281  \n",
       "estimatedsalary             0.015949         0.001836    -0.011676  \n",
       "geography_germany           1.000000        -0.329426    -0.021581  \n",
       "geography_spain            -0.329426         1.000000    -0.003568  \n",
       "gender_male                -0.021581        -0.003568     1.000000  "
      ]
     },
     "execution_count": 31,
     "metadata": {},
     "output_type": "execute_result"
    }
   ],
   "source": [
    "features_ohe_train.corr()"
   ]
  },
  {
   "cell_type": "markdown",
   "metadata": {},
   "source": [
    "Сильной корреляции между признаками не выявлено, значит можно считать их независимыми. \n",
    "\n",
    "UPD(15.03.21): Большой разницы между таблицами ohe и ord нет, поэтому строить матрицу корреляции для ord не станем."
   ]
  },
  {
   "cell_type": "markdown",
   "metadata": {},
   "source": [
    "### Вывод"
   ]
  },
  {
   "cell_type": "markdown",
   "metadata": {},
   "source": [
    "Признаки подготовлены для передачи в модель обучения. Примерно 10% данных пришлось пожертвовать из-за наличия у них пропусков. \n",
    "\n",
    "Проведена проверка на мультиколлинеарность. Все признаки являются независимыми. \n",
    "\n",
    "Числовые фичи отмасштабированы."
   ]
  },
  {
   "cell_type": "markdown",
   "metadata": {},
   "source": [
    "## 2. Исследование задачи<a id='step_2'></a>"
   ]
  },
  {
   "cell_type": "markdown",
   "metadata": {},
   "source": [
    "Посмотрим на величину дисбаланса классов:"
   ]
  },
  {
   "cell_type": "code",
   "execution_count": 32,
   "metadata": {},
   "outputs": [
    {
     "data": {
      "text/plain": [
       "0    0.796062\n",
       "1    0.203938\n",
       "Name: exited, dtype: float64"
      ]
     },
     "execution_count": 32,
     "metadata": {},
     "output_type": "execute_result"
    }
   ],
   "source": [
    "target_ohe.value_counts(normalize=True)"
   ]
  },
  {
   "cell_type": "markdown",
   "metadata": {},
   "source": [
    "Число текущих клиентов банка почти в 4 раза больше числа тех, кто от услуг банка отказался"
   ]
  },
  {
   "cell_type": "markdown",
   "metadata": {},
   "source": [
    "Попробуем обучить модель без учета дисбаланса. В качестве самой модели возьмем **RandomForestClassifier**"
   ]
  },
  {
   "cell_type": "markdown",
   "metadata": {},
   "source": [
    "### 2.1 Обучение модели<a id='step_2.1'></a>"
   ]
  },
  {
   "cell_type": "markdown",
   "metadata": {},
   "source": [
    "Создадим модель случайного леса:"
   ]
  },
  {
   "cell_type": "code",
   "execution_count": 33,
   "metadata": {},
   "outputs": [],
   "source": [
    "model = RandomForestClassifier(random_state=42)"
   ]
  },
  {
   "cell_type": "markdown",
   "metadata": {},
   "source": [
    "Перебирать лучшие параметры модели вручную не станем. С этим лучше и быстрее справится **RandomizedSearchCV**"
   ]
  },
  {
   "cell_type": "markdown",
   "metadata": {},
   "source": [
    "Определим параметры, которые будет подбирать модель. Ограничимся глубиной дерева, количеством деревьев, минимальным количеством объектов в узле, и минимальным количеством объектов в листе."
   ]
  },
  {
   "cell_type": "code",
   "execution_count": 34,
   "metadata": {},
   "outputs": [],
   "source": [
    "params = {'max_depth':range(1,20,2),\n",
    "          'n_estimators':range(1,100,5),\n",
    "          'min_samples_split':range(2,20,2),\n",
    "          'min_samples_leaf':range(1,20,2)}"
   ]
  },
  {
   "cell_type": "code",
   "execution_count": 35,
   "metadata": {},
   "outputs": [],
   "source": [
    "clf = RandomizedSearchCV(model, params, random_state=42)"
   ]
  },
  {
   "cell_type": "code",
   "execution_count": 36,
   "metadata": {},
   "outputs": [
    {
     "name": "stderr",
     "output_type": "stream",
     "text": [
      "/opt/conda/lib/python3.7/site-packages/sklearn/model_selection/_split.py:1978: FutureWarning: The default value of cv will change from 3 to 5 in version 0.22. Specify it explicitly to silence this warning.\n",
      "  warnings.warn(CV_WARNING, FutureWarning)\n"
     ]
    },
    {
     "name": "stdout",
     "output_type": "stream",
     "text": [
      "CPU times: user 4.8 s, sys: 9.13 ms, total: 4.81 s\n",
      "Wall time: 5.28 s\n"
     ]
    },
    {
     "data": {
      "text/plain": [
       "RandomizedSearchCV(cv='warn', error_score='raise-deprecating',\n",
       "                   estimator=RandomForestClassifier(bootstrap=True,\n",
       "                                                    class_weight=None,\n",
       "                                                    criterion='gini',\n",
       "                                                    max_depth=None,\n",
       "                                                    max_features='auto',\n",
       "                                                    max_leaf_nodes=None,\n",
       "                                                    min_impurity_decrease=0.0,\n",
       "                                                    min_impurity_split=None,\n",
       "                                                    min_samples_leaf=1,\n",
       "                                                    min_samples_split=2,\n",
       "                                                    min_weight_fraction_leaf=0.0,\n",
       "                                                    n_estimators='warn',\n",
       "                                                    n_jobs=None,\n",
       "                                                    oob_score=False,\n",
       "                                                    random_state=42, verbose=0,\n",
       "                                                    warm_start=False),\n",
       "                   iid='warn', n_iter=10, n_jobs=None,\n",
       "                   param_distributions={'max_depth': range(1, 20, 2),\n",
       "                                        'min_samples_leaf': range(1, 20, 2),\n",
       "                                        'min_samples_split': range(2, 20, 2),\n",
       "                                        'n_estimators': range(1, 100, 5)},\n",
       "                   pre_dispatch='2*n_jobs', random_state=42, refit=True,\n",
       "                   return_train_score=False, scoring=None, verbose=0)"
      ]
     },
     "execution_count": 36,
     "metadata": {},
     "output_type": "execute_result"
    }
   ],
   "source": [
    "%%time\n",
    "clf.fit(features_ord_train, target_ord_train)"
   ]
  },
  {
   "cell_type": "code",
   "execution_count": 37,
   "metadata": {},
   "outputs": [],
   "source": [
    "best_model = clf.best_estimator_"
   ]
  },
  {
   "cell_type": "markdown",
   "metadata": {},
   "source": [
    "Оценка **Accuracy:**"
   ]
  },
  {
   "cell_type": "code",
   "execution_count": 38,
   "metadata": {},
   "outputs": [
    {
     "data": {
      "text/plain": [
       "0.8622965244170699"
      ]
     },
     "execution_count": 38,
     "metadata": {},
     "output_type": "execute_result"
    }
   ],
   "source": [
    "best_model.score(features_ord_test, target_ord_test)"
   ]
  },
  {
   "cell_type": "markdown",
   "metadata": {},
   "source": [
    "### 2.3 Проверка адекватности модели<a id='step_2.3'></a>"
   ]
  },
  {
   "cell_type": "markdown",
   "metadata": {},
   "source": [
    "Создадим лжемодель. Пусть предсказывает всем объектам 0. Оценим accuracy такой модели."
   ]
  },
  {
   "cell_type": "code",
   "execution_count": 39,
   "metadata": {},
   "outputs": [],
   "source": [
    "all_zeros = pd.Series(data=0, index=target_ord_test.index)"
   ]
  },
  {
   "cell_type": "markdown",
   "metadata": {},
   "source": [
    "Оценим accuracy:"
   ]
  },
  {
   "cell_type": "code",
   "execution_count": 40,
   "metadata": {},
   "outputs": [
    {
     "data": {
      "text/plain": [
       "0.8015838099428069"
      ]
     },
     "execution_count": 40,
     "metadata": {},
     "output_type": "execute_result"
    }
   ],
   "source": [
    "accuracy_score(target_ord_test, all_zeros)"
   ]
  },
  {
   "cell_type": "markdown",
   "metadata": {},
   "source": [
    "Чтож, наша обученная модель действительно справляется с задачей классификации лучше, чем случайная модель. Но, как мы знаем, accuracy - не лучшая метрика для сравнения. Дополнительно, оценим модели с помощью ROC - кривой."
   ]
  },
  {
   "cell_type": "code",
   "execution_count": 41,
   "metadata": {},
   "outputs": [
    {
     "data": {
      "image/png": "[encoded data removed]",
      "text/plain": [
       "<Figure size 432x288 with 1 Axes>"
      ]
     },
     "metadata": {
      "needs_background": "light"
     },
     "output_type": "display_data"
    },
    {
     "name": "stdout",
     "output_type": "stream",
     "text": [
      "Площад под ROC-кривой обученной модели = 0.8543613290139489\n",
      "Площад под ROC-кривой случайной модели = 0.5\n"
     ]
    }
   ],
   "source": [
    "probabilities_test_rf = best_model.predict_proba(features_ord_test)\n",
    "probabilities_one_test = probabilities_test_rf[:, 1]\n",
    "\n",
    "fpr, tpr, thresholds = roc_curve(target_ord_test, probabilities_one_test)\n",
    "\n",
    "fpr_1, tpr_1, thresholds_1 = roc_curve(target_ord_test, all_zeros)\n",
    "\n",
    "plt.figure()\n",
    "\n",
    "plt.plot(fpr_1, tpr_1, linestyle='--')\n",
    "plt.plot(fpr, tpr, linestyle='--')\n",
    "plt.xlim(0, 1)\n",
    "plt.ylim(0, 1)\n",
    "plt.xlabel(\"False Positive Rate\")\n",
    "plt.xlabel(\"True Positive Rate\")\n",
    "plt.title(\"ROC-кривая\")\n",
    "plt.show()\n",
    "\n",
    "print('Площад под ROC-кривой обученной модели =', roc_auc_score(target_ord_test, probabilities_one_test))\n",
    "print('Площад под ROC-кривой случайной модели =', roc_auc_score(target_ord_test, all_zeros))"
   ]
  },
  {
   "cell_type": "markdown",
   "metadata": {},
   "source": [
    "Подводя промежуточный итог, посчитаем значение F-меры для нашей модели:"
   ]
  },
  {
   "cell_type": "code",
   "execution_count": 42,
   "metadata": {},
   "outputs": [
    {
     "name": "stdout",
     "output_type": "stream",
     "text": [
      "F-мера обученной без учета дисбаланса классов модели = 0.533532041728763\n"
     ]
    }
   ],
   "source": [
    "predicted = best_model.predict(features_ord_test)\n",
    "print('F-мера обученной без учета дисбаланса классов модели =', f1_score(target_ord_test, predicted))"
   ]
  },
  {
   "cell_type": "markdown",
   "metadata": {},
   "source": [
    "### 2.4 Подбор оптимального порога<a id='step_2.4'></a>"
   ]
  },
  {
   "cell_type": "markdown",
   "metadata": {},
   "source": [
    "Так как главная метрика проекта это F-мера, то ее и будем стараться максимизировать:"
   ]
  },
  {
   "cell_type": "markdown",
   "metadata": {},
   "source": [
    "Создадим функцию подбора оптимального порога. Пусть результатом ее работы будет датафрейм с оценкой f-меры для каждого значения порога."
   ]
  },
  {
   "cell_type": "code",
   "execution_count": 43,
   "metadata": {},
   "outputs": [],
   "source": [
    "#Версия 1.02 \n",
    "def find_best_threshold(probabilities_valid, x_valid, y_valid, clf_name):\n",
    "    \n",
    "    data=pd.DataFrame({'clf':[], 'threshold':[], 'f1_score':[], 'roc_auc_score':[]})\n",
    "\n",
    "    for threshold in np.arange(0.05, 1, 0.05):\n",
    "        threshold_proba = np.where(probabilities_valid[:, 1] > threshold, 1, 0)\n",
    "        score = f1_score(y_valid, threshold_proba)\n",
    "        score_auc = roc_auc_score(y_valid, threshold_proba)\n",
    "        data = data.append({'clf':clf_name, \n",
    "                            'threshold':threshold, \n",
    "                            'f1_score':score, \n",
    "                            'roc_auc_score':score_auc}, ignore_index=True)\n",
    "    return data"
   ]
  },
  {
   "cell_type": "markdown",
   "metadata": {},
   "source": [
    "Запишем результат работы функции в отдельный датафрейм:"
   ]
  },
  {
   "cell_type": "code",
   "execution_count": 44,
   "metadata": {},
   "outputs": [],
   "source": [
    "probabilities_valid_rf = best_model.predict_proba(features_ord_valid)"
   ]
  },
  {
   "cell_type": "code",
   "execution_count": 45,
   "metadata": {},
   "outputs": [],
   "source": [
    "disb_data_rf = find_best_threshold(probabilities_valid_rf, features_ord_valid, target_ord_valid, 'RFClassifier')"
   ]
  },
  {
   "cell_type": "markdown",
   "metadata": {},
   "source": [
    "Не заглядывая внутрь, построим график измененния f-меры в зависимости от порога. И выведем максимальное значение, которое удалось найти:"
   ]
  },
  {
   "cell_type": "code",
   "execution_count": 46,
   "metadata": {},
   "outputs": [
    {
     "data": {
      "image/png": "[encoded data removed]",
      "text/plain": [
       "<Figure size 432x288 with 1 Axes>"
      ]
     },
     "metadata": {
      "needs_background": "light"
     },
     "output_type": "display_data"
    },
    {
     "name": "stdout",
     "output_type": "stream",
     "text": [
      "Наибольшее значение F-меры на валидационной выборке = 0.6339969372128638 при величине порога = 0.35000000000000003\n",
      "Значение F-меры на тестовой выборке при том же пороге = 0.584295612009238\n"
     ]
    }
   ],
   "source": [
    "plt.plot(disb_data_rf.threshold, disb_data_rf.f1_score)\n",
    "plt.ylabel('Значение F-меры')\n",
    "plt.xlabel('Значение порога (threshold)')\n",
    "plt.title('График зависимости F-меры от порога')\n",
    "plt.grid(True)\n",
    "plt.ylim([0,1]) \n",
    "plt.show()\n",
    "        \n",
    "print('Наибольшее значение F-меры на валидационной выборке =', disb_data_rf.query('f1_score == f1_score.max()')['f1_score'].values[0],\n",
    "      'при величине порога =', disb_data_rf.query('f1_score == f1_score.max()')['threshold'].values[0])\n",
    "\n",
    "\n",
    "probabilities_test_rf = best_model.predict_proba(features_ord_test)\n",
    "threshold_proba = np.where(probabilities_test_rf[:, 1] > disb_data_rf.query('f1_score == f1_score.max()')['threshold'].values[0], 1, 0)\n",
    "print('Значение F-меры на тестовой выборке при том же пороге =', f1_score(target_ord_test, threshold_proba))\n",
    "      "
   ]
  },
  {
   "cell_type": "markdown",
   "metadata": {},
   "source": [
    "### Вывод:"
   ]
  },
  {
   "cell_type": "markdown",
   "metadata": {},
   "source": [
    "Наибольшее значение **F-меры** на тестовой выборке, обученной без учета дисбаланса классов модели = **0.58**"
   ]
  },
  {
   "cell_type": "markdown",
   "metadata": {},
   "source": [
    "При наличии дисбаланса классов, такие метрики как **accuracy** практически не несут никакой информативности. Поэтому, в таком случае, нагляднее будет метрика **ROC AUC score**, которая вычисляет долю ошибок и правильных ответов. Она слабо зависит от дисбаланса.\n",
    "\n",
    "Согласно некоторым популярным статьям таким как [эта](https://habr.com/ru/post/349078/) или вот [эта](https://qastack.ru/stats/247871/what-is-the-root-cause-of-the-class-imbalance-problem), получается, что проблема дисбаланса классов до сих пор актуальна и обсуждается. Вероятно, \"не так страшен черт, как его малюют\", и дисбаланс далеко не всегда сильно влияет на качество модели. Да, в задачах мультиклассификации, дисбаланс играет далеко не последнюю роль. Но, в задачах бинарной классификиации, с использованием моделей RandomForestClassifier, разный вес классов может не нести весомого вклада в качество модели.\n",
    "\n",
    "Примем последнее утверждение в качетсве гипотезы, которую и проверим в следующем шаге."
   ]
  },
  {
   "cell_type": "markdown",
   "metadata": {},
   "source": [
    "## 3. Борьба с дисбалансом<a id='step_3'></a>"
   ]
  },
  {
   "cell_type": "markdown",
   "metadata": {},
   "source": [
    "Рассмотрим 2 поднятых в обучающем курсе метода: **upsampling** и **downsampling**."
   ]
  },
  {
   "cell_type": "markdown",
   "metadata": {},
   "source": [
    "#### План борьбы с дисбалансом:"
   ]
  },
  {
   "cell_type": "markdown",
   "metadata": {},
   "source": [
    "1. Увеличить вес положительного класса. Воспользоваться методом **upsampling**:\n",
    "- Разделить обучающую выборку на отрицательные и положительные объекты;\n",
    "- Скопировать несколько раз положительные объекты;\n",
    "- С учётом полученных данных создать новую обучающую выборку;\n",
    "- Перемешать данные;\n",
    "2. Протестировать новую выборку на нескольких моделях. Отобрать модель с наибольшим значением F-меры\n",
    "\n",
    "3. Уменьшить вес отрицательного класса. Воспользоваться методом **downsampling**\n",
    "- Разделить обучающую выборку на отрицательные и положительные объекты;\n",
    "- Случайным образом отбросить часть из отрицательных объектов;\n",
    "- С учётом полученных данных создать новую обучающую выборку;\n",
    "- Перемешать данные;\n",
    "4. Аналогично п.2"
   ]
  },
  {
   "cell_type": "markdown",
   "metadata": {},
   "source": [
    "### 3.1 Метод upsampling<a id='step_3.1'></a>"
   ]
  },
  {
   "cell_type": "markdown",
   "metadata": {},
   "source": [
    "Разделим выборку на отрицательные и положительные объекты, увеличим выборку положительных, перемешаем. Для этого напишем соответствующую функцию:"
   ]
  },
  {
   "cell_type": "code",
   "execution_count": 47,
   "metadata": {},
   "outputs": [],
   "source": [
    "def sampling(features, target, how=['up', 'down']):\n",
    "    features_zeros = features[target == 0]\n",
    "    features_ones = features[target == 1]\n",
    "    target_zeros = target[target == 0]\n",
    "    target_ones = target[target == 1]\n",
    "    \n",
    "    repeat = int(np.ceil(features_zeros.shape[0] / features_ones.shape[0]))\n",
    "    \n",
    "    if how == 'up':\n",
    "    \n",
    "        features_sampled = pd.concat([features_zeros] + [features_ones] * repeat)\n",
    "        target_sampled = pd.concat([target_zeros] + [target_ones] * repeat)\n",
    "    \n",
    "    # могут возникать ошибки из-за особенностей округления. В этом случае примени более грубое округледние к fraction. Либо try / except    \n",
    "    if how == 'down':\n",
    "        fraction = 1 / repeat\n",
    "        \n",
    "        features_sampled = pd.concat(\n",
    "        [features_zeros.sample(frac=fraction, random_state=12345)] + [features_ones])\n",
    "        \n",
    "        target_sampled = pd.concat(\n",
    "        [target_zeros.sample(frac=fraction, random_state=12345)] + [target_ones])\n",
    "    \n",
    "    features_sampled, target_sampled = shuffle(features_sampled, target_sampled, random_state=42)\n",
    "    \n",
    "    return features_sampled, target_sampled\n"
   ]
  },
  {
   "cell_type": "markdown",
   "metadata": {},
   "source": [
    "Уравняем классы:"
   ]
  },
  {
   "cell_type": "markdown",
   "metadata": {},
   "source": [
    "Отдельно для выборки OHE и выборки ORD:"
   ]
  },
  {
   "cell_type": "markdown",
   "metadata": {},
   "source": [
    "Для выборки OHE:"
   ]
  },
  {
   "cell_type": "code",
   "execution_count": 48,
   "metadata": {},
   "outputs": [],
   "source": [
    "features_ohe_upsampled, target_ohe_upsampled = sampling(features_ohe_train, target_ohe_train, how='up')"
   ]
  },
  {
   "cell_type": "markdown",
   "metadata": {},
   "source": [
    "Проверим размеры выборок:"
   ]
  },
  {
   "cell_type": "code",
   "execution_count": 49,
   "metadata": {},
   "outputs": [
    {
     "name": "stdout",
     "output_type": "stream",
     "text": [
      "(8230, 11)\n",
      "(8230,)\n"
     ]
    }
   ],
   "source": [
    "print(features_ohe_upsampled.shape)\n",
    "print(target_ohe_upsampled.shape)"
   ]
  },
  {
   "cell_type": "markdown",
   "metadata": {},
   "source": [
    "Для выборки ORD:"
   ]
  },
  {
   "cell_type": "code",
   "execution_count": 50,
   "metadata": {},
   "outputs": [],
   "source": [
    "features_ord_upsampled, target_ord_upsampled = sampling(features_ord_train, target_ord_train, how='up')"
   ]
  },
  {
   "cell_type": "code",
   "execution_count": 51,
   "metadata": {},
   "outputs": [
    {
     "name": "stdout",
     "output_type": "stream",
     "text": [
      "(8230, 10)\n",
      "(8230,)\n"
     ]
    }
   ],
   "source": [
    "print(features_ord_upsampled.shape)\n",
    "print(target_ord_upsampled.shape)"
   ]
  },
  {
   "cell_type": "markdown",
   "metadata": {},
   "source": [
    "### 3.2 Поиск наилучшей модели на обучении upsampled выборки<a id='step_3.2'></a>"
   ]
  },
  {
   "cell_type": "markdown",
   "metadata": {},
   "source": [
    "Определим основные алгоритмы классификации, которые будем обучать:\n",
    "\n",
    "- RandomForestClassifier\n",
    "- KNeighborsClassifier\n",
    "- LogisticRegression"
   ]
  },
  {
   "cell_type": "markdown",
   "metadata": {},
   "source": [
    "В целях оптимизации процесса, заведем функцию, которая на вход будет получать тренировочные выборки, обучать несколько моделей, подбирать для каждой порог с максимальным значением F-меры, а на выходе отдавать словарь с наилучшими параметрами, и датафрейм со значениями F-меры:"
   ]
  },
  {
   "cell_type": "code",
   "execution_count": 52,
   "metadata": {},
   "outputs": [],
   "source": [
    "#Версия 1.04 #Пробую сразу внедрить и CatBoost\n",
    "def fit_models(x_ohe_train, y_ohe_train, x_ohe_valid, y_ohe_valid,\n",
    "               x_ord_train, y_ord_train, x_ord_valid, y_ord_valid, model_params):\n",
    "    # Запишем все модели для обучения\n",
    "    models = [RandomForestClassifier, KNeighborsClassifier, LogisticRegression, CatBoostClassifier]\n",
    "    \n",
    "    # Здесь строковые имена моделей для записи в таблицу (небольшой костыль, т.к. имена из спика выше в строку не переводятся:()\n",
    "    mod_names = {0:'RandomForestClassifier', \n",
    "                 1:'KNeighborsClassifier', \n",
    "                 2:'LogisticRegression', \n",
    "                 3:'CatBoostClassifier'}\n",
    "   \n",
    "    # Создадим пустой датафрейм, куда будем сохранять результаты обучения моделей\n",
    "    f1_data = pd.DataFrame({'clf':[], 'threshold':[], 'f1_score':[], 'roc_auc_score':[]})\n",
    "    # Создадим пустой словарь, куда будем сохранять лучшие параметры моделей\n",
    "    best_model_params = {'RandomForestClassifier':{}, \n",
    "                         'KNeighborsClassifier':{}, \n",
    "                         'LogisticRegression':{}, \n",
    "                         'CatBoostClassifier':{}}\n",
    "    \n",
    "    \n",
    "    for i in range(len(models)):\n",
    "        if models[i] == LogisticRegression:\n",
    "            x_train = x_ohe_train\n",
    "            y_train = y_ohe_train\n",
    "            x_valid = x_ohe_valid\n",
    "            y_valid = y_ohe_valid\n",
    "        else:\n",
    "            x_train = x_ord_train\n",
    "            y_train = y_ord_train\n",
    "            x_valid = x_ord_valid\n",
    "            y_valid = y_ord_valid\n",
    "            # определяем модель\n",
    "        if models[i] == KNeighborsClassifier:\n",
    "            model_type = models[i]()\n",
    "        else:\n",
    "              model_type = models[i](random_state=42)\n",
    "        clf = RandomizedSearchCV(model_type, model_params[i], random_state=42, cv=3, scoring='f1')\n",
    "            # Запускаем алгоритм подбора параметров \n",
    "        clf.fit(x_train, y_train)\n",
    "            # Определяем модель с наилучшими параметрами\n",
    "        best_model = clf.best_estimator_\n",
    "            # Сохраняем в словаре лучшие параметры\n",
    "        best_model_params[mod_names[i]] = clf.best_params_\n",
    "\n",
    "            # Находим массив вероятностей\n",
    "        probabilities_valid = best_model.predict_proba(x_valid)\n",
    "\n",
    "            # Запускаем алгоритм подбора оптимального порога для лучшей модели\n",
    "        f1_data = f1_data.append(find_best_threshold(probabilities_valid, x_valid, y_valid, mod_names[i]), ignore_index=True) \n",
    "\n",
    "    #f1_data['average'] = (f1_data['f1_score'] + f1_data['roc_auc_score'])/2\n",
    "    # На выходе получаем словарь параметров, и датафрейм с перебором порогов и значениями f-меры\n",
    "    return best_model_params, f1_data"
   ]
  },
  {
   "cell_type": "markdown",
   "metadata": {},
   "source": [
    "Определим массивы параметров для каждой модели (параметры для RandomForest уже лежат в переменной params)"
   ]
  },
  {
   "cell_type": "code",
   "execution_count": 53,
   "metadata": {},
   "outputs": [],
   "source": [
    "params_knn = {'n_neighbors':range(3,9,1), \n",
    "              'algorithm':['auto', 'ball_tree', 'kd_tree', 'brute'],\n",
    "              'leaf_size':range(5,50,5)}\n",
    "\n",
    "params_lr = {'penalty':['l1', 'l2'], \n",
    "             'class_weight':['balanced', None],\n",
    "             'max_iter': range(50, 150, 10),\n",
    "             'solver': ['lbfgs', 'liblinear', 'saga']\n",
    "}\n",
    "\n",
    "\n",
    "params_cb= {'iterations': range(2,10,1), \n",
    "              'depth':range(2,10,1), \n",
    "              'learning_rate':range(1,10,1)\n",
    "}"
   ]
  },
  {
   "cell_type": "markdown",
   "metadata": {},
   "source": [
    "Сохраним все параметры списком, чтобы передать в функцию fit_models()"
   ]
  },
  {
   "cell_type": "code",
   "execution_count": 54,
   "metadata": {},
   "outputs": [],
   "source": [
    "params_lst = [params, params_knn, params_lr, params_cb]"
   ]
  },
  {
   "cell_type": "markdown",
   "metadata": {},
   "source": [
    "Все готово для обучения. Запустим написанную выше функцию, и найдем модели с наибольшим значением f-меры:"
   ]
  },
  {
   "cell_type": "code",
   "execution_count": 55,
   "metadata": {},
   "outputs": [
    {
     "name": "stdout",
     "output_type": "stream",
     "text": [
      "0:\tlearn: 0.5167890\ttotal: 50.6ms\tremaining: 152ms\n",
      "1:\tlearn: 0.4732521\ttotal: 52.7ms\tremaining: 52.7ms\n",
      "2:\tlearn: 0.4545848\ttotal: 54.5ms\tremaining: 18.2ms\n",
      "3:\tlearn: 0.4407317\ttotal: 56.4ms\tremaining: 0us\n",
      "0:\tlearn: 0.5216225\ttotal: 2.22ms\tremaining: 6.66ms\n",
      "1:\tlearn: 0.4833211\ttotal: 4.12ms\tremaining: 4.12ms\n",
      "2:\tlearn: 0.4627776\ttotal: 6.05ms\tremaining: 2.02ms\n",
      "3:\tlearn: 0.4564272\ttotal: 7.86ms\tremaining: 0us\n",
      "0:\tlearn: 0.5246682\ttotal: 2.29ms\tremaining: 6.88ms\n",
      "1:\tlearn: 0.4774331\ttotal: 4.24ms\tremaining: 4.24ms\n",
      "2:\tlearn: 0.4584053\ttotal: 6.01ms\tremaining: 2ms\n",
      "3:\tlearn: 0.4478020\ttotal: 7.92ms\tremaining: 0us\n"
     ]
    },
    {
     "name": "stderr",
     "output_type": "stream",
     "text": [
      "learning rate is greater than 1. You probably need to decrease learning rate.\n"
     ]
    },
    {
     "name": "stdout",
     "output_type": "stream",
     "text": [
      "0:\tlearn: 0.5681863\ttotal: 2.34ms\tremaining: 14.1ms\n",
      "1:\tlearn: 0.5849095\ttotal: 4.68ms\tremaining: 11.7ms\n",
      "2:\tlearn: 0.5830046\ttotal: 8.68ms\tremaining: 11.6ms\n",
      "3:\tlearn: 0.7224745\ttotal: 10.1ms\tremaining: 7.6ms\n",
      "4:\tlearn: 0.9386225\ttotal: 11.6ms\tremaining: 4.63ms\n",
      "5:\tlearn: 19.4747956\ttotal: 13ms\tremaining: 2.16ms\n",
      "6:\tlearn: 13.5569860\ttotal: 41.4ms\tremaining: 0us\n"
     ]
    },
    {
     "name": "stderr",
     "output_type": "stream",
     "text": [
      "learning rate is greater than 1. You probably need to decrease learning rate.\n"
     ]
    },
    {
     "name": "stdout",
     "output_type": "stream",
     "text": [
      "0:\tlearn: 0.5714481\ttotal: 1.72ms\tremaining: 10.3ms\n",
      "1:\tlearn: 0.5900180\ttotal: 3.9ms\tremaining: 9.74ms\n",
      "2:\tlearn: 0.5789143\ttotal: 5.37ms\tremaining: 7.16ms\n",
      "3:\tlearn: 0.6090090\ttotal: 7.38ms\tremaining: 5.54ms\n",
      "4:\tlearn: 0.6045119\ttotal: 8.9ms\tremaining: 3.56ms\n",
      "5:\tlearn: 0.6632545\ttotal: 10.3ms\tremaining: 1.72ms\n",
      "6:\tlearn: 0.7662704\ttotal: 17.2ms\tremaining: 0us\n"
     ]
    },
    {
     "name": "stderr",
     "output_type": "stream",
     "text": [
      "learning rate is greater than 1. You probably need to decrease learning rate.\n"
     ]
    },
    {
     "name": "stdout",
     "output_type": "stream",
     "text": [
      "0:\tlearn: 0.5678685\ttotal: 1.71ms\tremaining: 10.3ms\n",
      "1:\tlearn: 0.5843180\ttotal: 3.26ms\tremaining: 8.15ms\n",
      "2:\tlearn: 0.5748119\ttotal: 4.77ms\tremaining: 6.36ms\n",
      "3:\tlearn: 0.6078138\ttotal: 6.27ms\tremaining: 4.7ms\n",
      "4:\tlearn: 0.6118824\ttotal: 7.91ms\tremaining: 3.16ms\n",
      "5:\tlearn: 0.7169807\ttotal: 9.22ms\tremaining: 1.54ms\n",
      "6:\tlearn: 1.3947187\ttotal: 10.8ms\tremaining: 0us\n"
     ]
    },
    {
     "name": "stderr",
     "output_type": "stream",
     "text": [
      "learning rate is greater than 1. You probably need to decrease learning rate.\n"
     ]
    },
    {
     "name": "stdout",
     "output_type": "stream",
     "text": [
      "0:\tlearn: 0.9189696\ttotal: 3.48ms\tremaining: 24.3ms\n",
      "1:\tlearn: 9.1922880\ttotal: 5.8ms\tremaining: 17.4ms\n",
      "2:\tlearn: 42.8968272\ttotal: 7.97ms\tremaining: 13.3ms\n",
      "3:\tlearn: 35.2788195\ttotal: 11.3ms\tremaining: 11.3ms\n",
      "4:\tlearn: 28.2186323\ttotal: 19ms\tremaining: 11.4ms\n",
      "5:\tlearn: 37.7022531\ttotal: 24ms\tremaining: 8.01ms\n",
      "6:\tlearn: 27.3569292\ttotal: 26.3ms\tremaining: 3.75ms\n",
      "7:\tlearn: 18.2610334\ttotal: 29.2ms\tremaining: 0us\n"
     ]
    },
    {
     "name": "stderr",
     "output_type": "stream",
     "text": [
      "learning rate is greater than 1. You probably need to decrease learning rate.\n"
     ]
    },
    {
     "name": "stdout",
     "output_type": "stream",
     "text": [
      "0:\tlearn: 0.9167729\ttotal: 2.69ms\tremaining: 18.8ms\n",
      "1:\tlearn: 10.0288817\ttotal: 5.05ms\tremaining: 15.2ms\n",
      "2:\tlearn: 43.1226640\ttotal: 7.37ms\tremaining: 12.3ms\n",
      "3:\tlearn: 33.9773172\ttotal: 9.68ms\tremaining: 9.68ms\n",
      "4:\tlearn: 34.5323999\ttotal: 17.3ms\tremaining: 10.4ms\n",
      "5:\tlearn: 31.9241867\ttotal: 35.2ms\tremaining: 11.7ms\n",
      "6:\tlearn: 26.0839438\ttotal: 37.6ms\tremaining: 5.37ms\n",
      "7:\tlearn: 22.9220123\ttotal: 39.9ms\tremaining: 0us\n"
     ]
    },
    {
     "name": "stderr",
     "output_type": "stream",
     "text": [
      "learning rate is greater than 1. You probably need to decrease learning rate.\n"
     ]
    },
    {
     "name": "stdout",
     "output_type": "stream",
     "text": [
      "0:\tlearn: 0.9163379\ttotal: 2.55ms\tremaining: 17.8ms\n",
      "1:\tlearn: 12.0852252\ttotal: 5.77ms\tremaining: 17.3ms\n",
      "2:\tlearn: 27.2281381\ttotal: 8.16ms\tremaining: 13.6ms\n",
      "3:\tlearn: 38.3642796\ttotal: 10.3ms\tremaining: 10.3ms\n",
      "4:\tlearn: 23.0850723\ttotal: 12.6ms\tremaining: 7.56ms\n",
      "5:\tlearn: 25.5629810\ttotal: 15ms\tremaining: 5ms\n",
      "6:\tlearn: 20.1707744\ttotal: 17.2ms\tremaining: 2.46ms\n",
      "7:\tlearn: 25.8580712\ttotal: 19.6ms\tremaining: 0us\n"
     ]
    },
    {
     "name": "stderr",
     "output_type": "stream",
     "text": [
      "learning rate is greater than 1. You probably need to decrease learning rate.\n"
     ]
    },
    {
     "name": "stdout",
     "output_type": "stream",
     "text": [
      "0:\tlearn: 0.7724027\ttotal: 3.64ms\tremaining: 29.1ms\n",
      "1:\tlearn: 3.8210730\ttotal: 8.12ms\tremaining: 28.4ms\n",
      "2:\tlearn: 1.8424691\ttotal: 11.8ms\tremaining: 23.6ms\n",
      "3:\tlearn: 1.4913643\ttotal: 49ms\tremaining: 61.2ms\n",
      "4:\tlearn: 1.4584676\ttotal: 52.8ms\tremaining: 42.2ms\n",
      "5:\tlearn: 2.1521128\ttotal: 56.4ms\tremaining: 28.2ms\n",
      "6:\tlearn: 2.0950293\ttotal: 60.1ms\tremaining: 17.2ms\n",
      "7:\tlearn: 1.6014699\ttotal: 148ms\tremaining: 18.5ms\n",
      "8:\tlearn: 1.5516285\ttotal: 151ms\tremaining: 0us\n"
     ]
    },
    {
     "name": "stderr",
     "output_type": "stream",
     "text": [
      "learning rate is greater than 1. You probably need to decrease learning rate.\n"
     ]
    },
    {
     "name": "stdout",
     "output_type": "stream",
     "text": [
      "0:\tlearn: 0.7722851\ttotal: 2.48ms\tremaining: 19.9ms\n",
      "1:\tlearn: 2.7628757\ttotal: 6.65ms\tremaining: 23.3ms\n",
      "2:\tlearn: 6.4854047\ttotal: 10.1ms\tremaining: 20.3ms\n",
      "3:\tlearn: 5.5784296\ttotal: 89.5ms\tremaining: 112ms\n",
      "4:\tlearn: 4.8700526\ttotal: 93.1ms\tremaining: 74.5ms\n",
      "5:\tlearn: 4.0112476\ttotal: 96.9ms\tremaining: 48.4ms\n",
      "6:\tlearn: 4.7120571\ttotal: 100ms\tremaining: 28.7ms\n",
      "7:\tlearn: 3.7748222\ttotal: 189ms\tremaining: 23.6ms\n",
      "8:\tlearn: 3.3851057\ttotal: 192ms\tremaining: 0us\n"
     ]
    },
    {
     "name": "stderr",
     "output_type": "stream",
     "text": [
      "learning rate is greater than 1. You probably need to decrease learning rate.\n"
     ]
    },
    {
     "name": "stdout",
     "output_type": "stream",
     "text": [
      "0:\tlearn: 0.7719744\ttotal: 2.56ms\tremaining: 20.5ms\n",
      "1:\tlearn: 1.9754647\ttotal: 6.2ms\tremaining: 21.7ms\n",
      "2:\tlearn: 4.2875369\ttotal: 9.75ms\tremaining: 19.5ms\n",
      "3:\tlearn: 5.7874225\ttotal: 88.5ms\tremaining: 111ms\n",
      "4:\tlearn: 5.1070125\ttotal: 92.6ms\tremaining: 74.1ms\n",
      "5:\tlearn: 4.6058351\ttotal: 96.3ms\tremaining: 48.1ms\n",
      "6:\tlearn: 3.9060248\ttotal: 100ms\tremaining: 28.6ms\n",
      "7:\tlearn: 3.6356062\ttotal: 188ms\tremaining: 23.5ms\n",
      "8:\tlearn: 4.9230814\ttotal: 192ms\tremaining: 0us\n"
     ]
    },
    {
     "name": "stderr",
     "output_type": "stream",
     "text": [
      "learning rate is greater than 1. You probably need to decrease learning rate.\n"
     ]
    },
    {
     "name": "stdout",
     "output_type": "stream",
     "text": [
      "0:\tlearn: 1.2257343\ttotal: 3.36ms\tremaining: 16.8ms\n",
      "1:\tlearn: 18.1311769\ttotal: 6.37ms\tremaining: 12.7ms\n",
      "2:\tlearn: 26.1681491\ttotal: 9.06ms\tremaining: 9.06ms\n",
      "3:\tlearn: 20.1678653\ttotal: 11.9ms\tremaining: 5.94ms\n",
      "4:\tlearn: 24.4891762\ttotal: 58.5ms\tremaining: 11.7ms\n",
      "5:\tlearn: 20.3634159\ttotal: 61.5ms\tremaining: 0us\n"
     ]
    },
    {
     "name": "stderr",
     "output_type": "stream",
     "text": [
      "learning rate is greater than 1. You probably need to decrease learning rate.\n"
     ]
    },
    {
     "name": "stdout",
     "output_type": "stream",
     "text": [
      "0:\tlearn: 1.2187857\ttotal: 2.63ms\tremaining: 13.2ms\n",
      "1:\tlearn: 15.1517302\ttotal: 5.75ms\tremaining: 11.5ms\n",
      "2:\tlearn: 46.3390518\ttotal: 8.54ms\tremaining: 8.54ms\n",
      "3:\tlearn: 32.1243253\ttotal: 11.1ms\tremaining: 5.56ms\n",
      "4:\tlearn: 24.4784169\ttotal: 73.7ms\tremaining: 14.7ms\n",
      "5:\tlearn: 19.5084463\ttotal: 76.6ms\tremaining: 0us\n"
     ]
    },
    {
     "name": "stderr",
     "output_type": "stream",
     "text": [
      "learning rate is greater than 1. You probably need to decrease learning rate.\n"
     ]
    },
    {
     "name": "stdout",
     "output_type": "stream",
     "text": [
      "0:\tlearn: 1.2207406\ttotal: 2.45ms\tremaining: 12.2ms\n",
      "1:\tlearn: 12.4953279\ttotal: 5.3ms\tremaining: 10.6ms\n",
      "2:\tlearn: 21.5312474\ttotal: 8.12ms\tremaining: 8.12ms\n",
      "3:\tlearn: 28.6786636\ttotal: 10.9ms\tremaining: 5.46ms\n",
      "4:\tlearn: 18.1090462\ttotal: 33.8ms\tremaining: 6.75ms\n",
      "5:\tlearn: 23.6939479\ttotal: 36.8ms\tremaining: 0us\n"
     ]
    },
    {
     "name": "stderr",
     "output_type": "stream",
     "text": [
      "learning rate is greater than 1. You probably need to decrease learning rate.\n"
     ]
    },
    {
     "name": "stdout",
     "output_type": "stream",
     "text": [
      "0:\tlearn: 0.9189696\ttotal: 2.61ms\tremaining: 13.1ms\n",
      "1:\tlearn: 8.2222114\ttotal: 5.92ms\tremaining: 11.8ms\n",
      "2:\tlearn: 38.1116661\ttotal: 9.73ms\tremaining: 9.73ms\n",
      "3:\tlearn: 33.2070467\ttotal: 12.6ms\tremaining: 6.31ms\n",
      "4:\tlearn: 29.9359139\ttotal: 45.2ms\tremaining: 9.04ms\n",
      "5:\tlearn: 25.4332240\ttotal: 48.3ms\tremaining: 0us\n"
     ]
    },
    {
     "name": "stderr",
     "output_type": "stream",
     "text": [
      "learning rate is greater than 1. You probably need to decrease learning rate.\n"
     ]
    },
    {
     "name": "stdout",
     "output_type": "stream",
     "text": [
      "0:\tlearn: 0.9167729\ttotal: 2.49ms\tremaining: 12.5ms\n",
      "1:\tlearn: 5.8226495\ttotal: 11ms\tremaining: 22.1ms\n",
      "2:\tlearn: 18.8092590\ttotal: 32.4ms\tremaining: 32.4ms\n",
      "3:\tlearn: 20.8663813\ttotal: 43.3ms\tremaining: 21.6ms\n",
      "4:\tlearn: 14.5855287\ttotal: 129ms\tremaining: 25.7ms\n",
      "5:\tlearn: 10.5354429\ttotal: 136ms\tremaining: 0us\n"
     ]
    },
    {
     "name": "stderr",
     "output_type": "stream",
     "text": [
      "learning rate is greater than 1. You probably need to decrease learning rate.\n"
     ]
    },
    {
     "name": "stdout",
     "output_type": "stream",
     "text": [
      "0:\tlearn: 0.9163379\ttotal: 9ms\tremaining: 45ms\n",
      "1:\tlearn: 6.6704206\ttotal: 20.2ms\tremaining: 40.4ms\n",
      "2:\tlearn: 12.4790795\ttotal: 35.6ms\tremaining: 35.6ms\n",
      "3:\tlearn: 16.9032047\ttotal: 128ms\tremaining: 64.2ms\n",
      "4:\tlearn: 10.5240714\ttotal: 137ms\tremaining: 27.4ms\n",
      "5:\tlearn: 11.6426480\ttotal: 228ms\tremaining: 0us\n"
     ]
    },
    {
     "name": "stderr",
     "output_type": "stream",
     "text": [
      "learning rate is greater than 1. You probably need to decrease learning rate.\n"
     ]
    },
    {
     "name": "stdout",
     "output_type": "stream",
     "text": [
      "0:\tlearn: 1.3821562\ttotal: 5.44ms\tremaining: 27.2ms\n",
      "1:\tlearn: 48.7781076\ttotal: 12.5ms\tremaining: 25ms\n",
      "2:\tlearn: 112.1755765\ttotal: 29.3ms\tremaining: 29.3ms\n",
      "3:\tlearn: 60.0180762\ttotal: 36.7ms\tremaining: 18.3ms\n",
      "4:\tlearn: 131.8024395\ttotal: 45.1ms\tremaining: 9.03ms\n",
      "5:\tlearn: 219.3745447\ttotal: 131ms\tremaining: 0us\n"
     ]
    },
    {
     "name": "stderr",
     "output_type": "stream",
     "text": [
      "learning rate is greater than 1. You probably need to decrease learning rate.\n"
     ]
    },
    {
     "name": "stdout",
     "output_type": "stream",
     "text": [
      "0:\tlearn: 1.3723667\ttotal: 2.04ms\tremaining: 10.2ms\n",
      "1:\tlearn: 73.2738430\ttotal: 4.07ms\tremaining: 8.14ms\n",
      "2:\tlearn: 103.4277285\ttotal: 5.99ms\tremaining: 5.99ms\n",
      "3:\tlearn: 72.6042426\ttotal: 11.1ms\tremaining: 5.53ms\n",
      "4:\tlearn: 93.3434603\ttotal: 18.3ms\tremaining: 3.66ms\n",
      "5:\tlearn: 129.7610823\ttotal: 73.4ms\tremaining: 0us\n"
     ]
    },
    {
     "name": "stderr",
     "output_type": "stream",
     "text": [
      "learning rate is greater than 1. You probably need to decrease learning rate.\n"
     ]
    },
    {
     "name": "stdout",
     "output_type": "stream",
     "text": [
      "0:\tlearn: 1.3763432\ttotal: 2.14ms\tremaining: 10.7ms\n",
      "1:\tlearn: 41.3469500\ttotal: 4.5ms\tremaining: 8.99ms\n",
      "2:\tlearn: 106.1696908\ttotal: 6.37ms\tremaining: 6.37ms\n",
      "3:\tlearn: 160.9349102\ttotal: 8.19ms\tremaining: 4.1ms\n",
      "4:\tlearn: 93.8379243\ttotal: 10ms\tremaining: 2ms\n",
      "5:\tlearn: 90.6441672\ttotal: 17.6ms\tremaining: 0us\n"
     ]
    },
    {
     "name": "stderr",
     "output_type": "stream",
     "text": [
      "learning rate is greater than 1. You probably need to decrease learning rate.\n"
     ]
    },
    {
     "name": "stdout",
     "output_type": "stream",
     "text": [
      "0:\tlearn: 0.7596637\ttotal: 2.09ms\tremaining: 8.38ms\n",
      "1:\tlearn: 3.3910003\ttotal: 3.38ms\tremaining: 5.08ms\n",
      "2:\tlearn: 1.5869777\ttotal: 4.65ms\tremaining: 3.1ms\n",
      "3:\tlearn: 13.1818968\ttotal: 5.8ms\tremaining: 1.45ms\n",
      "4:\tlearn: 54.0187572\ttotal: 7.03ms\tremaining: 0us\n"
     ]
    },
    {
     "name": "stderr",
     "output_type": "stream",
     "text": [
      "learning rate is greater than 1. You probably need to decrease learning rate.\n"
     ]
    },
    {
     "name": "stdout",
     "output_type": "stream",
     "text": [
      "0:\tlearn: 0.7586160\ttotal: 1.6ms\tremaining: 6.42ms\n",
      "1:\tlearn: 3.4554573\ttotal: 2.84ms\tremaining: 4.26ms\n",
      "2:\tlearn: 1.8526075\ttotal: 4.25ms\tremaining: 2.83ms\n",
      "3:\tlearn: 103.7804479\ttotal: 5.4ms\tremaining: 1.35ms\n",
      "4:\tlearn: 128.7078193\ttotal: 6.74ms\tremaining: 0us\n"
     ]
    },
    {
     "name": "stderr",
     "output_type": "stream",
     "text": [
      "learning rate is greater than 1. You probably need to decrease learning rate.\n"
     ]
    },
    {
     "name": "stdout",
     "output_type": "stream",
     "text": [
      "0:\tlearn: 0.7574399\ttotal: 1.32ms\tremaining: 5.29ms\n",
      "1:\tlearn: 3.6140486\ttotal: 2.74ms\tremaining: 4.11ms\n",
      "2:\tlearn: 143.8085135\ttotal: 3.91ms\tremaining: 2.61ms\n",
      "3:\tlearn: 57.3099382\ttotal: 5.16ms\tremaining: 1.29ms\n",
      "4:\tlearn: 188.5923745\ttotal: 6.3ms\tremaining: 0us\n"
     ]
    },
    {
     "name": "stderr",
     "output_type": "stream",
     "text": [
      "learning rate is greater than 1. You probably need to decrease learning rate.\n"
     ]
    },
    {
     "name": "stdout",
     "output_type": "stream",
     "text": [
      "0:\tlearn: 0.5681863\ttotal: 1.62ms\tremaining: 3.24ms\n",
      "1:\tlearn: 0.5849095\ttotal: 4.07ms\tremaining: 2.03ms\n",
      "2:\tlearn: 0.5830046\ttotal: 5.44ms\tremaining: 0us\n"
     ]
    },
    {
     "name": "stderr",
     "output_type": "stream",
     "text": [
      "learning rate is greater than 1. You probably need to decrease learning rate.\n"
     ]
    },
    {
     "name": "stdout",
     "output_type": "stream",
     "text": [
      "0:\tlearn: 0.5714481\ttotal: 1.65ms\tremaining: 3.29ms\n",
      "1:\tlearn: 0.5900180\ttotal: 3.21ms\tremaining: 1.61ms\n",
      "2:\tlearn: 0.5789143\ttotal: 4.62ms\tremaining: 0us\n"
     ]
    },
    {
     "name": "stderr",
     "output_type": "stream",
     "text": [
      "learning rate is greater than 1. You probably need to decrease learning rate.\n"
     ]
    },
    {
     "name": "stdout",
     "output_type": "stream",
     "text": [
      "0:\tlearn: 0.5678685\ttotal: 1.64ms\tremaining: 3.28ms\n",
      "1:\tlearn: 0.5843180\ttotal: 3.11ms\tremaining: 1.55ms\n",
      "2:\tlearn: 0.5748119\ttotal: 4.54ms\tremaining: 0us\n"
     ]
    },
    {
     "name": "stderr",
     "output_type": "stream",
     "text": [
      "learning rate is greater than 1. You probably need to decrease learning rate.\n"
     ]
    },
    {
     "name": "stdout",
     "output_type": "stream",
     "text": [
      "0:\tlearn: 0.6381643\ttotal: 2.81ms\tremaining: 8.41ms\n",
      "1:\tlearn: 1.6269065\ttotal: 5.76ms\tremaining: 5.76ms\n",
      "2:\tlearn: 6.4490811\ttotal: 8.56ms\tremaining: 2.85ms\n",
      "3:\tlearn: 10.1937854\ttotal: 14.9ms\tremaining: 0us\n"
     ]
    },
    {
     "name": "stderr",
     "output_type": "stream",
     "text": [
      "learning rate is greater than 1. You probably need to decrease learning rate.\n"
     ]
    },
    {
     "name": "stdout",
     "output_type": "stream",
     "text": [
      "0:\tlearn: 0.6401669\ttotal: 2.83ms\tremaining: 8.5ms\n",
      "1:\tlearn: 1.4090299\ttotal: 5.66ms\tremaining: 5.66ms\n",
      "2:\tlearn: 4.3940876\ttotal: 8.51ms\tremaining: 2.84ms\n",
      "3:\tlearn: 7.3959413\ttotal: 11.2ms\tremaining: 0us\n"
     ]
    },
    {
     "name": "stderr",
     "output_type": "stream",
     "text": [
      "learning rate is greater than 1. You probably need to decrease learning rate.\n"
     ]
    },
    {
     "name": "stdout",
     "output_type": "stream",
     "text": [
      "0:\tlearn: 0.6410416\ttotal: 9.22ms\tremaining: 27.7ms\n",
      "1:\tlearn: 1.9031910\ttotal: 20.6ms\tremaining: 20.6ms\n",
      "2:\tlearn: 7.6263838\ttotal: 31.9ms\tremaining: 10.6ms\n",
      "3:\tlearn: 13.0054291\ttotal: 117ms\tremaining: 0us\n",
      "0:\tlearn: 0.5192049\ttotal: 2.67ms\tremaining: 8.03ms\n",
      "1:\tlearn: 0.4794812\ttotal: 5.01ms\tremaining: 5.01ms\n",
      "2:\tlearn: 0.4558222\ttotal: 8.04ms\tremaining: 2.68ms\n",
      "3:\tlearn: 0.4483606\ttotal: 10.2ms\tremaining: 0us\n"
     ]
    }
   ],
   "source": [
    "best_model_params, f1_data = fit_models(features_ohe_upsampled, target_ohe_upsampled, features_ohe_valid, target_ohe_valid,\n",
    "                                        features_ord_upsampled, target_ord_upsampled, features_ord_valid, target_ord_valid, params_lst)\n"
   ]
  },
  {
   "cell_type": "markdown",
   "metadata": {},
   "source": [
    "Посмотрим на оптимальные параметры каждой модели:"
   ]
  },
  {
   "cell_type": "code",
   "execution_count": 56,
   "metadata": {},
   "outputs": [
    {
     "data": {
      "text/plain": [
       "{'RandomForestClassifier': {'n_estimators': 16,\n",
       "  'min_samples_split': 4,\n",
       "  'min_samples_leaf': 1,\n",
       "  'max_depth': 17},\n",
       " 'KNeighborsClassifier': {'n_neighbors': 3,\n",
       "  'leaf_size': 30,\n",
       "  'algorithm': 'kd_tree'},\n",
       " 'LogisticRegression': {'solver': 'liblinear',\n",
       "  'penalty': 'l1',\n",
       "  'max_iter': 70,\n",
       "  'class_weight': None},\n",
       " 'CatBoostClassifier': {'learning_rate': 1, 'iterations': 4, 'depth': 5}}"
      ]
     },
     "execution_count": 56,
     "metadata": {},
     "output_type": "execute_result"
    }
   ],
   "source": [
    "best_model_params"
   ]
  },
  {
   "cell_type": "markdown",
   "metadata": {},
   "source": [
    "Посмотрим на получившуюся таблицу:"
   ]
  },
  {
   "cell_type": "code",
   "execution_count": 57,
   "metadata": {},
   "outputs": [
    {
     "data": {
      "text/html": [
       "<div>\n",
       "<style scoped>\n",
       "    .dataframe tbody tr th:only-of-type {\n",
       "        vertical-align: middle;\n",
       "    }\n",
       "\n",
       "    .dataframe tbody tr th {\n",
       "        vertical-align: top;\n",
       "    }\n",
       "\n",
       "    .dataframe thead th {\n",
       "        text-align: right;\n",
       "    }\n",
       "</style>\n",
       "<table border=\"1\" class=\"dataframe\">\n",
       "  <thead>\n",
       "    <tr style=\"text-align: right;\">\n",
       "      <th></th>\n",
       "      <th>clf</th>\n",
       "      <th>threshold</th>\n",
       "      <th>f1_score</th>\n",
       "      <th>roc_auc_score</th>\n",
       "    </tr>\n",
       "  </thead>\n",
       "  <tbody>\n",
       "    <tr>\n",
       "      <td>0</td>\n",
       "      <td>RandomForestClassifier</td>\n",
       "      <td>0.05</td>\n",
       "      <td>0.423760</td>\n",
       "      <td>0.631129</td>\n",
       "    </tr>\n",
       "    <tr>\n",
       "      <td>1</td>\n",
       "      <td>RandomForestClassifier</td>\n",
       "      <td>0.10</td>\n",
       "      <td>0.470423</td>\n",
       "      <td>0.689589</td>\n",
       "    </tr>\n",
       "    <tr>\n",
       "      <td>2</td>\n",
       "      <td>RandomForestClassifier</td>\n",
       "      <td>0.15</td>\n",
       "      <td>0.501217</td>\n",
       "      <td>0.715651</td>\n",
       "    </tr>\n",
       "    <tr>\n",
       "      <td>3</td>\n",
       "      <td>RandomForestClassifier</td>\n",
       "      <td>0.20</td>\n",
       "      <td>0.545455</td>\n",
       "      <td>0.749523</td>\n",
       "    </tr>\n",
       "    <tr>\n",
       "      <td>4</td>\n",
       "      <td>RandomForestClassifier</td>\n",
       "      <td>0.25</td>\n",
       "      <td>0.565489</td>\n",
       "      <td>0.752075</td>\n",
       "    </tr>\n",
       "  </tbody>\n",
       "</table>\n",
       "</div>"
      ],
      "text/plain": [
       "                      clf  threshold  f1_score  roc_auc_score\n",
       "0  RandomForestClassifier       0.05  0.423760       0.631129\n",
       "1  RandomForestClassifier       0.10  0.470423       0.689589\n",
       "2  RandomForestClassifier       0.15  0.501217       0.715651\n",
       "3  RandomForestClassifier       0.20  0.545455       0.749523\n",
       "4  RandomForestClassifier       0.25  0.565489       0.752075"
      ]
     },
     "execution_count": 57,
     "metadata": {},
     "output_type": "execute_result"
    }
   ],
   "source": [
    "f1_data.head()"
   ]
  },
  {
   "cell_type": "markdown",
   "metadata": {},
   "source": [
    "Для наглядности, строим график зависимости f-меры и ROC AUC от порога. Т.к. планируется строить такой график не один раз, обернем его вызов в функцию:"
   ]
  },
  {
   "cell_type": "code",
   "execution_count": 58,
   "metadata": {},
   "outputs": [],
   "source": [
    "def plot_f1_thresh(data):   \n",
    "    for model_name in data.clf.unique():\n",
    "        print(model_name)\n",
    "        sns.lineplot(data=data.loc[data['clf'] == model_name], x=\"threshold\", y=\"f1_score\")\n",
    "        sns.lineplot(data=data.loc[data['clf'] == model_name], x=\"threshold\", y=\"roc_auc_score\")\n",
    "        #sns.lineplot(data=data.loc[data['clf'] == model_name], x=\"threshold\", y=\"average\")\n",
    "        plt.grid(True)\n",
    "        plt.ylabel('Значение F-меры, ROC AUC')\n",
    "        plt.xlabel('Значение порога (threshold)')\n",
    "        plt.title('График зависимости значений F-меры и ROC AUC от порога')\n",
    "        plt.ylim([0,1]) \n",
    "        plt.legend([data.columns[i] for i in range(2, len(data.columns))])\n",
    "        plt.show()\n",
    "        \n",
    "        print('- Наибольшее значение F-меры на валидационной выборке = {:.3f} при величине порога = {:.2f}'.format(\n",
    "              data.query('clf == @model_name')\\\n",
    "              .query('f1_score == f1_score.max()')['f1_score'].values[0],\n",
    "              data.query('clf == @model_name')\\\n",
    "              .query('f1_score == f1_score.max()')['threshold'].values[0]))\n",
    "\n",
    "\n",
    "        print('- Наибольшее значение ROC AUC на валидационной выборке = {:.3f} при величине порога = {:.2f}'.format(\n",
    "              data.query('clf == @model_name')\\\n",
    "              .query('roc_auc_score == roc_auc_score.max()')['roc_auc_score'].values[0],\n",
    "              data.query('clf == @model_name')\\\n",
    "              .query('roc_auc_score == roc_auc_score.max()')['threshold'].values[0]))\n",
    "\n",
    "#         print('- Наибольшее взаимное значение ROC AUC на валидационной выборке = {:.3f} и F-меры = {:.3f} достигается при величине порога = {:.2f}'.format(\n",
    "#               data.query('clf == @model_name')\\\n",
    "#               .query('average == average.max()')['roc_auc_score'].values[0],\n",
    "#               data.query('clf == @model_name')\\\n",
    "#               .query('average == average.max()')['f1_score'].values[0],\n",
    "#               data.query('clf == @model_name')\\\n",
    "#               .query('average == average.max()')['threshold'].values[0]))\n",
    "#         print()"
   ]
  },
  {
   "cell_type": "markdown",
   "metadata": {},
   "source": [
    "Строим график:"
   ]
  },
  {
   "cell_type": "code",
   "execution_count": 59,
   "metadata": {},
   "outputs": [
    {
     "name": "stdout",
     "output_type": "stream",
     "text": [
      "RandomForestClassifier\n"
     ]
    },
    {
     "data": {
      "image/png": "[encoded data removed]",
      "text/plain": [
       "<Figure size 432x288 with 1 Axes>"
      ]
     },
     "metadata": {
      "needs_background": "light"
     },
     "output_type": "display_data"
    },
    {
     "name": "stdout",
     "output_type": "stream",
     "text": [
      "- Наибольшее значение F-меры на валидационной выборке = 0.611 при величине порога = 0.50\n",
      "- Наибольшее значение ROC AUC на валидационной выборке = 0.756 при величине порога = 0.35\n",
      "KNeighborsClassifier\n"
     ]
    },
    {
     "data": {
      "image/png": "[encoded data removed]",
      "text/plain": [
       "<Figure size 432x288 with 1 Axes>"
      ]
     },
     "metadata": {
      "needs_background": "light"
     },
     "output_type": "display_data"
    },
    {
     "name": "stdout",
     "output_type": "stream",
     "text": [
      "- Наибольшее значение F-меры на валидационной выборке = 0.523 при величине порога = 0.35\n",
      "- Наибольшее значение ROC AUC на валидационной выборке = 0.706 при величине порога = 0.05\n",
      "LogisticRegression\n"
     ]
    },
    {
     "data": {
      "image/png": "[encoded data removed]",
      "text/plain": [
       "<Figure size 432x288 with 1 Axes>"
      ]
     },
     "metadata": {
      "needs_background": "light"
     },
     "output_type": "display_data"
    },
    {
     "name": "stdout",
     "output_type": "stream",
     "text": [
      "- Наибольшее значение F-меры на валидационной выборке = 0.514 при величине порога = 0.50\n",
      "- Наибольшее значение ROC AUC на валидационной выборке = 0.709 при величине порога = 0.45\n",
      "CatBoostClassifier\n"
     ]
    },
    {
     "data": {
      "image/png": "[encoded data removed]",
      "text/plain": [
       "<Figure size 432x288 with 1 Axes>"
      ]
     },
     "metadata": {
      "needs_background": "light"
     },
     "output_type": "display_data"
    },
    {
     "name": "stdout",
     "output_type": "stream",
     "text": [
      "- Наибольшее значение F-меры на валидационной выборке = 0.626 при величине порога = 0.65\n",
      "- Наибольшее значение ROC AUC на валидационной выборке = 0.771 при величине порога = 0.55\n"
     ]
    }
   ],
   "source": [
    "plot_f1_thresh(f1_data)"
   ]
  },
  {
   "cell_type": "markdown",
   "metadata": {},
   "source": [
    "Лучший результат показала модель CatBoost.\n",
    "\n",
    "- Наибольшее значение F-меры на валидационной выборке = 0.626 при величине порога = 0.65"
   ]
  },
  {
   "cell_type": "markdown",
   "metadata": {},
   "source": [
    "### 3.3 Метод downsampling<a id='step_3.3'></a>"
   ]
  },
  {
   "cell_type": "markdown",
   "metadata": {},
   "source": [
    "Уменьшим количество объектов отрицательного класса, тем самым уравняв веса классов. Воспользуемся функцией sampling написанной ранее:"
   ]
  },
  {
   "cell_type": "code",
   "execution_count": 60,
   "metadata": {},
   "outputs": [
    {
     "name": "stdout",
     "output_type": "stream",
     "text": [
      "(2057, 11)\n",
      "(2057,)\n"
     ]
    }
   ],
   "source": [
    "features_ohe_downsampled, target_ohe_downsampled = sampling(features_ohe_train, target_ohe_train, how='down')\n",
    "print(features_ohe_downsampled.shape)\n",
    "print(target_ohe_downsampled.shape)"
   ]
  },
  {
   "cell_type": "code",
   "execution_count": 61,
   "metadata": {},
   "outputs": [
    {
     "name": "stdout",
     "output_type": "stream",
     "text": [
      "(2057, 10)\n",
      "(2057,)\n"
     ]
    }
   ],
   "source": [
    "features_ord_downsampled, target_ord_downsampled = sampling(features_ord_train, target_ord_train, how='down')\n",
    "print(features_ord_downsampled.shape)\n",
    "print(target_ord_downsampled.shape)"
   ]
  },
  {
   "cell_type": "markdown",
   "metadata": {},
   "source": [
    "### 3.4 Поиск наилучшей модели на обучении downsampled выборки<a id='step_3.4'></a>"
   ]
  },
  {
   "cell_type": "markdown",
   "metadata": {},
   "source": [
    "Отлично. Теперь обучим модели на наших выборках и оценим максимальный f1_score!"
   ]
  },
  {
   "cell_type": "code",
   "execution_count": 62,
   "metadata": {},
   "outputs": [
    {
     "name": "stdout",
     "output_type": "stream",
     "text": [
      "0:\tlearn: 0.5252381\ttotal: 2.07ms\tremaining: 6.22ms\n",
      "1:\tlearn: 0.4773718\ttotal: 3.21ms\tremaining: 3.21ms\n",
      "2:\tlearn: 0.4588190\ttotal: 5.12ms\tremaining: 1.71ms\n",
      "3:\tlearn: 0.4491262\ttotal: 7.36ms\tremaining: 0us\n",
      "0:\tlearn: 0.5189329\ttotal: 3.72ms\tremaining: 11.2ms\n",
      "1:\tlearn: 0.4666810\ttotal: 7.37ms\tremaining: 7.37ms\n",
      "2:\tlearn: 0.4444055\ttotal: 11.4ms\tremaining: 3.79ms\n",
      "3:\tlearn: 0.4362645\ttotal: 14.8ms\tremaining: 0us\n",
      "0:\tlearn: 0.5199427\ttotal: 1.16ms\tremaining: 3.49ms\n",
      "1:\tlearn: 0.4905711\ttotal: 3.06ms\tremaining: 3.06ms\n",
      "2:\tlearn: 0.4699108\ttotal: 4.06ms\tremaining: 1.35ms\n",
      "3:\tlearn: 0.4612171\ttotal: 5.09ms\tremaining: 0us\n"
     ]
    },
    {
     "name": "stderr",
     "output_type": "stream",
     "text": [
      "learning rate is greater than 1. You probably need to decrease learning rate.\n"
     ]
    },
    {
     "name": "stdout",
     "output_type": "stream",
     "text": [
      "0:\tlearn: 0.6104806\ttotal: 930us\tremaining: 5.58ms\n",
      "1:\tlearn: 0.6667392\ttotal: 1.75ms\tremaining: 4.39ms\n",
      "2:\tlearn: 0.9746404\ttotal: 2.75ms\tremaining: 3.66ms\n",
      "3:\tlearn: 2.4974238\ttotal: 3.43ms\tremaining: 2.57ms\n",
      "4:\tlearn: 5.3017319\ttotal: 4.11ms\tremaining: 1.64ms\n",
      "5:\tlearn: 9.4105138\ttotal: 4.77ms\tremaining: 795us\n",
      "6:\tlearn: 3.6605698\ttotal: 5.43ms\tremaining: 0us\n"
     ]
    },
    {
     "name": "stderr",
     "output_type": "stream",
     "text": [
      "learning rate is greater than 1. You probably need to decrease learning rate.\n"
     ]
    },
    {
     "name": "stdout",
     "output_type": "stream",
     "text": [
      "0:\tlearn: 0.5447580\ttotal: 850us\tremaining: 5.1ms\n",
      "1:\tlearn: 0.5372490\ttotal: 1.55ms\tremaining: 3.88ms\n",
      "2:\tlearn: 0.5200788\ttotal: 2.27ms\tremaining: 3.02ms\n",
      "3:\tlearn: 0.5187051\ttotal: 2.9ms\tremaining: 2.17ms\n",
      "4:\tlearn: 0.5041896\ttotal: 4.94ms\tremaining: 1.98ms\n",
      "5:\tlearn: 0.4934729\ttotal: 6.21ms\tremaining: 1.03ms\n",
      "6:\tlearn: 0.4835944\ttotal: 8.25ms\tremaining: 0us\n"
     ]
    },
    {
     "name": "stderr",
     "output_type": "stream",
     "text": [
      "learning rate is greater than 1. You probably need to decrease learning rate.\n"
     ]
    },
    {
     "name": "stdout",
     "output_type": "stream",
     "text": [
      "0:\tlearn: 0.5655858\ttotal: 844us\tremaining: 5.07ms\n",
      "1:\tlearn: 0.5591839\ttotal: 2.36ms\tremaining: 5.91ms\n",
      "2:\tlearn: 0.5530721\ttotal: 3.07ms\tremaining: 4.09ms\n",
      "3:\tlearn: 0.5435996\ttotal: 3.75ms\tremaining: 2.81ms\n",
      "4:\tlearn: 0.5491876\ttotal: 4.45ms\tremaining: 1.78ms\n",
      "5:\tlearn: 0.5232205\ttotal: 5.1ms\tremaining: 849us\n",
      "6:\tlearn: 0.5114451\ttotal: 5.81ms\tremaining: 0us\n"
     ]
    },
    {
     "name": "stderr",
     "output_type": "stream",
     "text": [
      "learning rate is greater than 1. You probably need to decrease learning rate.\n"
     ]
    },
    {
     "name": "stdout",
     "output_type": "stream",
     "text": [
      "0:\tlearn: 0.7931012\ttotal: 1.46ms\tremaining: 10.2ms\n",
      "1:\tlearn: 3.2968029\ttotal: 3.24ms\tremaining: 9.72ms\n",
      "2:\tlearn: 5.6940238\ttotal: 4.46ms\tremaining: 7.44ms\n",
      "3:\tlearn: 5.4660104\ttotal: 5.66ms\tremaining: 5.66ms\n",
      "4:\tlearn: 5.6127310\ttotal: 6.94ms\tremaining: 4.16ms\n",
      "5:\tlearn: 6.7855732\ttotal: 8.2ms\tremaining: 2.73ms\n",
      "6:\tlearn: 5.5910356\ttotal: 9.52ms\tremaining: 1.36ms\n",
      "7:\tlearn: 6.4820169\ttotal: 16.5ms\tremaining: 0us\n"
     ]
    },
    {
     "name": "stderr",
     "output_type": "stream",
     "text": [
      "learning rate is greater than 1. You probably need to decrease learning rate.\n"
     ]
    },
    {
     "name": "stdout",
     "output_type": "stream",
     "text": [
      "0:\tlearn: 0.7907941\ttotal: 2.26ms\tremaining: 15.8ms\n",
      "1:\tlearn: 1.6213777\ttotal: 4.11ms\tremaining: 12.3ms\n",
      "2:\tlearn: 2.5610886\ttotal: 5.74ms\tremaining: 9.57ms\n",
      "3:\tlearn: 2.8621734\ttotal: 7.14ms\tremaining: 7.14ms\n",
      "4:\tlearn: 2.0860736\ttotal: 9.49ms\tremaining: 5.7ms\n",
      "5:\tlearn: 2.3051143\ttotal: 12.1ms\tremaining: 4.03ms\n",
      "6:\tlearn: 2.3692939\ttotal: 15ms\tremaining: 2.14ms\n",
      "7:\tlearn: 2.3968608\ttotal: 49.2ms\tremaining: 0us\n"
     ]
    },
    {
     "name": "stderr",
     "output_type": "stream",
     "text": [
      "learning rate is greater than 1. You probably need to decrease learning rate.\n"
     ]
    },
    {
     "name": "stdout",
     "output_type": "stream",
     "text": [
      "0:\tlearn: 0.8819307\ttotal: 2.14ms\tremaining: 15ms\n",
      "1:\tlearn: 3.3895153\ttotal: 3.43ms\tremaining: 10.3ms\n",
      "2:\tlearn: 7.0795155\ttotal: 4.75ms\tremaining: 7.91ms\n",
      "3:\tlearn: 5.0300444\ttotal: 6.45ms\tremaining: 6.45ms\n",
      "4:\tlearn: 3.9537204\ttotal: 7.84ms\tremaining: 4.7ms\n",
      "5:\tlearn: 3.6183728\ttotal: 9.1ms\tremaining: 3.03ms\n",
      "6:\tlearn: 3.3602378\ttotal: 15.7ms\tremaining: 2.25ms\n",
      "7:\tlearn: 3.1856355\ttotal: 94ms\tremaining: 0us\n"
     ]
    },
    {
     "name": "stderr",
     "output_type": "stream",
     "text": [
      "learning rate is greater than 1. You probably need to decrease learning rate.\n"
     ]
    },
    {
     "name": "stdout",
     "output_type": "stream",
     "text": [
      "0:\tlearn: 0.6811552\ttotal: 1.69ms\tremaining: 13.6ms\n",
      "1:\tlearn: 0.6064757\ttotal: 4.43ms\tremaining: 15.5ms\n",
      "2:\tlearn: 0.4890129\ttotal: 7.24ms\tremaining: 14.5ms\n",
      "3:\tlearn: 0.5648602\ttotal: 9.5ms\tremaining: 11.9ms\n",
      "4:\tlearn: 0.3854082\ttotal: 11.9ms\tremaining: 9.51ms\n",
      "5:\tlearn: 0.3667427\ttotal: 35.5ms\tremaining: 17.8ms\n",
      "6:\tlearn: 0.4019384\ttotal: 38ms\tremaining: 10.9ms\n",
      "7:\tlearn: 0.5754297\ttotal: 42ms\tremaining: 5.25ms\n",
      "8:\tlearn: 1.3662422\ttotal: 44.4ms\tremaining: 0us\n"
     ]
    },
    {
     "name": "stderr",
     "output_type": "stream",
     "text": [
      "learning rate is greater than 1. You probably need to decrease learning rate.\n"
     ]
    },
    {
     "name": "stdout",
     "output_type": "stream",
     "text": [
      "0:\tlearn: 0.6781214\ttotal: 1.48ms\tremaining: 11.8ms\n",
      "1:\tlearn: 1.2757560\ttotal: 4.51ms\tremaining: 15.8ms\n",
      "2:\tlearn: 0.9219613\ttotal: 7.06ms\tremaining: 14.1ms\n",
      "3:\tlearn: 0.8383421\ttotal: 9.53ms\tremaining: 11.9ms\n",
      "4:\tlearn: 0.6549708\ttotal: 12ms\tremaining: 9.61ms\n",
      "5:\tlearn: 0.6075802\ttotal: 19.6ms\tremaining: 9.78ms\n",
      "6:\tlearn: 0.4733777\ttotal: 92.8ms\tremaining: 26.5ms\n",
      "7:\tlearn: 0.4185423\ttotal: 95.4ms\tremaining: 11.9ms\n",
      "8:\tlearn: 0.4107995\ttotal: 98ms\tremaining: 0us\n"
     ]
    },
    {
     "name": "stderr",
     "output_type": "stream",
     "text": [
      "learning rate is greater than 1. You probably need to decrease learning rate.\n"
     ]
    },
    {
     "name": "stdout",
     "output_type": "stream",
     "text": [
      "0:\tlearn: 0.7381381\ttotal: 1.52ms\tremaining: 12.2ms\n",
      "1:\tlearn: 0.7615859\ttotal: 4.53ms\tremaining: 15.9ms\n",
      "2:\tlearn: 0.5075792\ttotal: 7.07ms\tremaining: 14.1ms\n",
      "3:\tlearn: 0.5088922\ttotal: 10ms\tremaining: 12.5ms\n",
      "4:\tlearn: 0.3607780\ttotal: 14.1ms\tremaining: 11.3ms\n",
      "5:\tlearn: 0.3779966\ttotal: 29.6ms\tremaining: 14.8ms\n",
      "6:\tlearn: 0.3481779\ttotal: 32.3ms\tremaining: 9.22ms\n",
      "7:\tlearn: 0.2894041\ttotal: 34.9ms\tremaining: 4.37ms\n",
      "8:\tlearn: 0.2848107\ttotal: 38.2ms\tremaining: 0us\n"
     ]
    },
    {
     "name": "stderr",
     "output_type": "stream",
     "text": [
      "learning rate is greater than 1. You probably need to decrease learning rate.\n"
     ]
    },
    {
     "name": "stdout",
     "output_type": "stream",
     "text": [
      "0:\tlearn: 1.0354951\ttotal: 2.63ms\tremaining: 13.2ms\n",
      "1:\tlearn: 4.3847822\ttotal: 6.03ms\tremaining: 12.1ms\n",
      "2:\tlearn: 5.4855841\ttotal: 9.19ms\tremaining: 9.19ms\n",
      "3:\tlearn: 3.4344085\ttotal: 12.5ms\tremaining: 6.25ms\n",
      "4:\tlearn: 4.2173842\ttotal: 14.2ms\tremaining: 2.85ms\n",
      "5:\tlearn: 3.1554479\ttotal: 21.1ms\tremaining: 0us\n"
     ]
    },
    {
     "name": "stderr",
     "output_type": "stream",
     "text": [
      "learning rate is greater than 1. You probably need to decrease learning rate.\n"
     ]
    },
    {
     "name": "stdout",
     "output_type": "stream",
     "text": [
      "0:\tlearn: 1.0328142\ttotal: 1.5ms\tremaining: 7.51ms\n",
      "1:\tlearn: 2.2768204\ttotal: 3.43ms\tremaining: 6.85ms\n",
      "2:\tlearn: 3.3215356\ttotal: 5.1ms\tremaining: 5.1ms\n",
      "3:\tlearn: 2.2653208\ttotal: 6.9ms\tremaining: 3.45ms\n",
      "4:\tlearn: 2.0723094\ttotal: 8.69ms\tremaining: 1.74ms\n",
      "5:\tlearn: 2.0632555\ttotal: 11ms\tremaining: 0us\n"
     ]
    },
    {
     "name": "stderr",
     "output_type": "stream",
     "text": [
      "learning rate is greater than 1. You probably need to decrease learning rate.\n"
     ]
    },
    {
     "name": "stdout",
     "output_type": "stream",
     "text": [
      "0:\tlearn: 1.1925759\ttotal: 2.01ms\tremaining: 10ms\n",
      "1:\tlearn: 6.4526391\ttotal: 5.81ms\tremaining: 11.6ms\n",
      "2:\tlearn: 7.5934298\ttotal: 8.09ms\tremaining: 8.09ms\n",
      "3:\tlearn: 4.7916715\ttotal: 11.7ms\tremaining: 5.87ms\n",
      "4:\tlearn: 3.3807357\ttotal: 16.2ms\tremaining: 3.25ms\n",
      "5:\tlearn: 3.3777845\ttotal: 21ms\tremaining: 0us\n"
     ]
    },
    {
     "name": "stderr",
     "output_type": "stream",
     "text": [
      "learning rate is greater than 1. You probably need to decrease learning rate.\n"
     ]
    },
    {
     "name": "stdout",
     "output_type": "stream",
     "text": [
      "0:\tlearn: 0.7931012\ttotal: 1.46ms\tremaining: 7.29ms\n",
      "1:\tlearn: 2.5021808\ttotal: 3.36ms\tremaining: 6.73ms\n",
      "2:\tlearn: 2.9725233\ttotal: 5.13ms\tremaining: 5.13ms\n",
      "3:\tlearn: 2.1201788\ttotal: 6.76ms\tremaining: 3.38ms\n",
      "4:\tlearn: 3.0741544\ttotal: 9.66ms\tremaining: 1.93ms\n",
      "5:\tlearn: 2.3460726\ttotal: 12.5ms\tremaining: 0us\n"
     ]
    },
    {
     "name": "stderr",
     "output_type": "stream",
     "text": [
      "learning rate is greater than 1. You probably need to decrease learning rate.\n"
     ]
    },
    {
     "name": "stdout",
     "output_type": "stream",
     "text": [
      "0:\tlearn: 0.7907941\ttotal: 1.54ms\tremaining: 7.71ms\n",
      "1:\tlearn: 0.7938537\ttotal: 3.5ms\tremaining: 7ms\n",
      "2:\tlearn: 0.9146043\ttotal: 5.32ms\tremaining: 5.32ms\n",
      "3:\tlearn: 0.7094415\ttotal: 7.31ms\tremaining: 3.65ms\n",
      "4:\tlearn: 0.6991404\ttotal: 9.79ms\tremaining: 1.96ms\n",
      "5:\tlearn: 0.6713861\ttotal: 12ms\tremaining: 0us\n"
     ]
    },
    {
     "name": "stderr",
     "output_type": "stream",
     "text": [
      "learning rate is greater than 1. You probably need to decrease learning rate.\n"
     ]
    },
    {
     "name": "stdout",
     "output_type": "stream",
     "text": [
      "0:\tlearn: 0.8819307\ttotal: 1.5ms\tremaining: 7.53ms\n",
      "1:\tlearn: 2.7072532\ttotal: 3.3ms\tremaining: 6.6ms\n",
      "2:\tlearn: 4.5803698\ttotal: 5.26ms\tremaining: 5.26ms\n",
      "3:\tlearn: 3.5137729\ttotal: 7.13ms\tremaining: 3.56ms\n",
      "4:\tlearn: 2.9709967\ttotal: 8.93ms\tremaining: 1.79ms\n",
      "5:\tlearn: 3.6874871\ttotal: 10.7ms\tremaining: 0us\n"
     ]
    },
    {
     "name": "stderr",
     "output_type": "stream",
     "text": [
      "learning rate is greater than 1. You probably need to decrease learning rate.\n"
     ]
    },
    {
     "name": "stdout",
     "output_type": "stream",
     "text": [
      "0:\tlearn: 1.1613011\ttotal: 1.21ms\tremaining: 6.04ms\n",
      "1:\tlearn: 8.3632651\ttotal: 2.4ms\tremaining: 4.8ms\n",
      "2:\tlearn: 19.3724702\ttotal: 3.44ms\tremaining: 3.44ms\n",
      "3:\tlearn: 20.3143351\ttotal: 4.48ms\tremaining: 2.24ms\n",
      "4:\tlearn: 13.2664497\ttotal: 5.48ms\tremaining: 1.09ms\n",
      "5:\tlearn: 10.2578487\ttotal: 6.5ms\tremaining: 0us\n"
     ]
    },
    {
     "name": "stderr",
     "output_type": "stream",
     "text": [
      "learning rate is greater than 1. You probably need to decrease learning rate.\n"
     ]
    },
    {
     "name": "stdout",
     "output_type": "stream",
     "text": [
      "0:\tlearn: 1.1579570\ttotal: 1.25ms\tremaining: 6.24ms\n",
      "1:\tlearn: 8.8651216\ttotal: 2.32ms\tremaining: 4.64ms\n",
      "2:\tlearn: 20.7751625\ttotal: 3.42ms\tremaining: 3.42ms\n",
      "3:\tlearn: 14.1658555\ttotal: 4.4ms\tremaining: 2.2ms\n",
      "4:\tlearn: 13.5321725\ttotal: 5.41ms\tremaining: 1.08ms\n",
      "5:\tlearn: 11.7932084\ttotal: 6.52ms\tremaining: 0us\n"
     ]
    },
    {
     "name": "stderr",
     "output_type": "stream",
     "text": [
      "learning rate is greater than 1. You probably need to decrease learning rate.\n"
     ]
    },
    {
     "name": "stdout",
     "output_type": "stream",
     "text": [
      "0:\tlearn: 1.3530205\ttotal: 1.15ms\tremaining: 5.74ms\n",
      "1:\tlearn: 17.4204274\ttotal: 2.29ms\tremaining: 4.58ms\n",
      "2:\tlearn: 18.9877933\ttotal: 3.29ms\tremaining: 3.29ms\n",
      "3:\tlearn: 10.2559430\ttotal: 4.31ms\tremaining: 2.16ms\n",
      "4:\tlearn: 19.2667696\ttotal: 5.37ms\tremaining: 1.07ms\n",
      "5:\tlearn: 14.0005820\ttotal: 6.37ms\tremaining: 0us\n"
     ]
    },
    {
     "name": "stderr",
     "output_type": "stream",
     "text": [
      "learning rate is greater than 1. You probably need to decrease learning rate.\n"
     ]
    },
    {
     "name": "stdout",
     "output_type": "stream",
     "text": [
      "0:\tlearn: 0.7397563\ttotal: 678us\tremaining: 2.71ms\n",
      "1:\tlearn: 2.3658587\ttotal: 1.48ms\tremaining: 2.22ms\n",
      "2:\tlearn: 4.2480297\ttotal: 2.11ms\tremaining: 1.4ms\n",
      "3:\tlearn: 37.9608591\ttotal: 2.71ms\tremaining: 676us\n",
      "4:\tlearn: 43.9707619\ttotal: 4.02ms\tremaining: 0us\n"
     ]
    },
    {
     "name": "stderr",
     "output_type": "stream",
     "text": [
      "learning rate is greater than 1. You probably need to decrease learning rate.\n"
     ]
    },
    {
     "name": "stdout",
     "output_type": "stream",
     "text": [
      "0:\tlearn: 0.7121247\ttotal: 750us\tremaining: 3ms\n",
      "1:\tlearn: 1.5911338\ttotal: 1.4ms\tremaining: 2.1ms\n",
      "2:\tlearn: 4.5176507\ttotal: 2.01ms\tremaining: 1.34ms\n",
      "3:\tlearn: 6.3244394\ttotal: 2.64ms\tremaining: 660us\n",
      "4:\tlearn: 41.2618838\ttotal: 3.24ms\tremaining: 0us\n"
     ]
    },
    {
     "name": "stderr",
     "output_type": "stream",
     "text": [
      "learning rate is greater than 1. You probably need to decrease learning rate.\n"
     ]
    },
    {
     "name": "stdout",
     "output_type": "stream",
     "text": [
      "0:\tlearn: 0.7050368\ttotal: 708us\tremaining: 2.83ms\n",
      "1:\tlearn: 1.3683504\ttotal: 1.53ms\tremaining: 2.29ms\n",
      "2:\tlearn: 2.6497870\ttotal: 2.06ms\tremaining: 1.38ms\n",
      "3:\tlearn: 3.0825594\ttotal: 2.64ms\tremaining: 660us\n",
      "4:\tlearn: 43.1209893\ttotal: 3.19ms\tremaining: 0us\n"
     ]
    },
    {
     "name": "stderr",
     "output_type": "stream",
     "text": [
      "learning rate is greater than 1. You probably need to decrease learning rate.\n"
     ]
    },
    {
     "name": "stdout",
     "output_type": "stream",
     "text": [
      "0:\tlearn: 0.6104806\ttotal: 856us\tremaining: 1.71ms\n",
      "1:\tlearn: 0.6667392\ttotal: 1.65ms\tremaining: 822us\n",
      "2:\tlearn: 0.9746404\ttotal: 2.31ms\tremaining: 0us\n"
     ]
    },
    {
     "name": "stderr",
     "output_type": "stream",
     "text": [
      "learning rate is greater than 1. You probably need to decrease learning rate.\n"
     ]
    },
    {
     "name": "stdout",
     "output_type": "stream",
     "text": [
      "0:\tlearn: 0.5447580\ttotal: 831us\tremaining: 1.66ms\n",
      "1:\tlearn: 0.5372490\ttotal: 1.74ms\tremaining: 869us\n",
      "2:\tlearn: 0.5200788\ttotal: 2.46ms\tremaining: 0us\n"
     ]
    },
    {
     "name": "stderr",
     "output_type": "stream",
     "text": [
      "learning rate is greater than 1. You probably need to decrease learning rate.\n"
     ]
    },
    {
     "name": "stdout",
     "output_type": "stream",
     "text": [
      "0:\tlearn: 0.5655858\ttotal: 1.4ms\tremaining: 2.8ms\n",
      "1:\tlearn: 0.5591839\ttotal: 2.2ms\tremaining: 1.1ms\n",
      "2:\tlearn: 0.5530721\ttotal: 2.9ms\tremaining: 0us\n"
     ]
    },
    {
     "name": "stderr",
     "output_type": "stream",
     "text": [
      "learning rate is greater than 1. You probably need to decrease learning rate.\n"
     ]
    },
    {
     "name": "stdout",
     "output_type": "stream",
     "text": [
      "0:\tlearn: 0.5834486\ttotal: 3.02ms\tremaining: 9.07ms\n",
      "1:\tlearn: 0.5343200\ttotal: 7.42ms\tremaining: 7.42ms\n",
      "2:\tlearn: 0.4772963\ttotal: 10.8ms\tremaining: 3.59ms\n",
      "3:\tlearn: 0.4475743\ttotal: 14ms\tremaining: 0us\n"
     ]
    },
    {
     "name": "stderr",
     "output_type": "stream",
     "text": [
      "learning rate is greater than 1. You probably need to decrease learning rate.\n"
     ]
    },
    {
     "name": "stdout",
     "output_type": "stream",
     "text": [
      "0:\tlearn: 0.5788116\ttotal: 3.61ms\tremaining: 10.8ms\n",
      "1:\tlearn: 0.5615532\ttotal: 7.39ms\tremaining: 7.39ms\n",
      "2:\tlearn: 0.5512217\ttotal: 10.6ms\tremaining: 3.54ms\n",
      "3:\tlearn: 0.5065927\ttotal: 13.9ms\tremaining: 0us\n"
     ]
    },
    {
     "name": "stderr",
     "output_type": "stream",
     "text": [
      "learning rate is greater than 1. You probably need to decrease learning rate.\n"
     ]
    },
    {
     "name": "stdout",
     "output_type": "stream",
     "text": [
      "0:\tlearn: 0.6121748\ttotal: 1.62ms\tremaining: 4.87ms\n",
      "1:\tlearn: 0.5880069\ttotal: 4.54ms\tremaining: 4.54ms\n",
      "2:\tlearn: 0.5330882\ttotal: 7.79ms\tremaining: 2.6ms\n",
      "3:\tlearn: 0.4654297\ttotal: 10.6ms\tremaining: 0us\n",
      "0:\tlearn: 0.5221182\ttotal: 2.16ms\tremaining: 6.47ms\n",
      "1:\tlearn: 0.4784502\ttotal: 6.5ms\tremaining: 6.5ms\n",
      "2:\tlearn: 0.4588547\ttotal: 10.1ms\tremaining: 3.38ms\n",
      "3:\tlearn: 0.4518713\ttotal: 14ms\tremaining: 0us\n"
     ]
    },
    {
     "name": "stderr",
     "output_type": "stream",
     "text": [
      "/opt/conda/lib/python3.7/site-packages/sklearn/metrics/classification.py:1437: UndefinedMetricWarning: F-score is ill-defined and being set to 0.0 due to no predicted samples.\n",
      "  'precision', 'predicted', average, warn_for)\n"
     ]
    }
   ],
   "source": [
    "best_model_params_ds, f1_data_ds = fit_models(features_ohe_downsampled, target_ohe_downsampled, \n",
    "                                              features_ohe_valid, target_ohe_valid,\n",
    "                                              features_ord_downsampled, target_ord_downsampled, \n",
    "                                              features_ord_valid, target_ord_valid,\n",
    "                                              params_lst)"
   ]
  },
  {
   "cell_type": "markdown",
   "metadata": {},
   "source": [
    "Смотрим подобранные параметры:"
   ]
  },
  {
   "cell_type": "code",
   "execution_count": 63,
   "metadata": {},
   "outputs": [
    {
     "data": {
      "text/plain": [
       "{'RandomForestClassifier': {'n_estimators': 76,\n",
       "  'min_samples_split': 14,\n",
       "  'min_samples_leaf': 15,\n",
       "  'max_depth': 17},\n",
       " 'KNeighborsClassifier': {'n_neighbors': 5,\n",
       "  'leaf_size': 20,\n",
       "  'algorithm': 'brute'},\n",
       " 'LogisticRegression': {'solver': 'saga',\n",
       "  'penalty': 'l2',\n",
       "  'max_iter': 120,\n",
       "  'class_weight': None},\n",
       " 'CatBoostClassifier': {'learning_rate': 1, 'iterations': 4, 'depth': 5}}"
      ]
     },
     "execution_count": 63,
     "metadata": {},
     "output_type": "execute_result"
    }
   ],
   "source": [
    "best_model_params_ds"
   ]
  },
  {
   "cell_type": "markdown",
   "metadata": {},
   "source": [
    "Строим график зависимости F-меры и ROC AUC от порога:"
   ]
  },
  {
   "cell_type": "code",
   "execution_count": 64,
   "metadata": {},
   "outputs": [
    {
     "name": "stdout",
     "output_type": "stream",
     "text": [
      "RandomForestClassifier\n"
     ]
    },
    {
     "data": {
      "image/png": "[encoded data removed]",
      "text/plain": [
       "<Figure size 432x288 with 1 Axes>"
      ]
     },
     "metadata": {
      "needs_background": "light"
     },
     "output_type": "display_data"
    },
    {
     "name": "stdout",
     "output_type": "stream",
     "text": [
      "- Наибольшее значение F-меры на валидационной выборке = 0.573 при величине порога = 0.60\n",
      "- Наибольшее значение ROC AUC на валидационной выборке = 0.755 при величине порога = 0.45\n",
      "KNeighborsClassifier\n"
     ]
    },
    {
     "data": {
      "image/png": "[encoded data removed]",
      "text/plain": [
       "<Figure size 432x288 with 1 Axes>"
      ]
     },
     "metadata": {
      "needs_background": "light"
     },
     "output_type": "display_data"
    },
    {
     "name": "stdout",
     "output_type": "stream",
     "text": [
      "- Наибольшее значение F-меры на валидационной выборке = 0.526 при величине порога = 0.40\n",
      "- Наибольшее значение ROC AUC на валидационной выборке = 0.719 при величине порога = 0.40\n",
      "LogisticRegression\n"
     ]
    },
    {
     "data": {
      "image/png": "[encoded data removed]",
      "text/plain": [
       "<Figure size 432x288 with 1 Axes>"
      ]
     },
     "metadata": {
      "needs_background": "light"
     },
     "output_type": "display_data"
    },
    {
     "name": "stdout",
     "output_type": "stream",
     "text": [
      "- Наибольшее значение F-меры на валидационной выборке = 0.523 при величине порога = 0.50\n",
      "- Наибольшее значение ROC AUC на валидационной выборке = 0.717 при величине порога = 0.50\n",
      "CatBoostClassifier\n"
     ]
    },
    {
     "data": {
      "image/png": "[encoded data removed]",
      "text/plain": [
       "<Figure size 432x288 with 1 Axes>"
      ]
     },
     "metadata": {
      "needs_background": "light"
     },
     "output_type": "display_data"
    },
    {
     "name": "stdout",
     "output_type": "stream",
     "text": [
      "- Наибольшее значение F-меры на валидационной выборке = 0.583 при величине порога = 0.55\n",
      "- Наибольшее значение ROC AUC на валидационной выборке = 0.749 при величине порога = 0.55\n"
     ]
    }
   ],
   "source": [
    "plot_f1_thresh(f1_data_ds)"
   ]
  },
  {
   "cell_type": "markdown",
   "metadata": {},
   "source": [
    "### Вывод:"
   ]
  },
  {
   "cell_type": "markdown",
   "metadata": {},
   "source": [
    "Судя по проведенным экспрериментам - моделям чуть лучше удается выявлять закономерности на выборках большего размера (upsampled выборках).\n",
    "\n",
    "Наиболее высокое значение F-меры демонстрирует модель CatBoost обученная на upsampled выборке. \n",
    "\n",
    "На данный момент, лучшие результаты, которых добилась модель это:\n",
    "\n",
    "- Наибольшее значение F-меры = 0.626 при величине порога = 0.65\n",
    "\n",
    "Финально продолжим улучшать модель CatBoost показавшую наиболее высокие результы."
   ]
  },
  {
   "cell_type": "markdown",
   "metadata": {},
   "source": [
    "## 4. Тестирование модели<a id='step_4'></a>"
   ]
  },
  {
   "cell_type": "markdown",
   "metadata": {},
   "source": [
    "#### Проверяем качество лучшей модели на тестовой выборке"
   ]
  },
  {
   "cell_type": "markdown",
   "metadata": {},
   "source": [
    "Наиболее качественный результат показала модель CatBoostClassifier обученная на upsampled выборке. Сейчас, будем тестировать такую модель с подобранными выше параметрами на тестовой выборке:"
   ]
  },
  {
   "cell_type": "code",
   "execution_count": 65,
   "metadata": {},
   "outputs": [],
   "source": [
    "model = CatBoostClassifier(learning_rate=1, iterations=4, depth=5, random_state=42)"
   ]
  },
  {
   "cell_type": "code",
   "execution_count": 66,
   "metadata": {},
   "outputs": [
    {
     "name": "stdout",
     "output_type": "stream",
     "text": [
      "0:\tlearn: 0.5192049\ttotal: 7.99ms\tremaining: 24ms\n",
      "1:\tlearn: 0.4794812\ttotal: 17.8ms\tremaining: 17.8ms\n",
      "2:\tlearn: 0.4558222\ttotal: 33ms\tremaining: 11ms\n",
      "3:\tlearn: 0.4483606\ttotal: 38.8ms\tremaining: 0us\n"
     ]
    },
    {
     "data": {
      "text/plain": [
       "<catboost.core.CatBoostClassifier at 0x7f3b2eb7c110>"
      ]
     },
     "execution_count": 66,
     "metadata": {},
     "output_type": "execute_result"
    }
   ],
   "source": [
    "model.fit(features_ord_upsampled, target_ord_upsampled)"
   ]
  },
  {
   "cell_type": "code",
   "execution_count": 67,
   "metadata": {},
   "outputs": [],
   "source": [
    "prediction_proba = model.predict_proba(features_ord_test)[:, -1]"
   ]
  },
  {
   "cell_type": "code",
   "execution_count": 68,
   "metadata": {},
   "outputs": [],
   "source": [
    "prediction = np.where(prediction_proba > 0.65, 1, 0)"
   ]
  },
  {
   "cell_type": "code",
   "execution_count": 69,
   "metadata": {},
   "outputs": [
    {
     "data": {
      "text/plain": [
       "0.6119402985074627"
      ]
     },
     "execution_count": 69,
     "metadata": {},
     "output_type": "execute_result"
    }
   ],
   "source": [
    "f1_score(target_ord_test, prediction)"
   ]
  },
  {
   "cell_type": "markdown",
   "metadata": {},
   "source": [
    "### Вывод:"
   ]
  },
  {
   "cell_type": "markdown",
   "metadata": {},
   "source": [
    "Лучшие результаты которых удалось достичь в ходе обучения модели:\n",
    "\n",
    "- Наибольшее значение F-меры = 0.611 при величине порога = 0.65"
   ]
  },
  {
   "cell_type": "markdown",
   "metadata": {},
   "source": [
    "## Общий вывод:<a id='step_5'></a>"
   ]
  },
  {
   "cell_type": "markdown",
   "metadata": {},
   "source": [
    "По результатм проведенного исследования выявлено:\n",
    "\n",
    "- Модель обученная на выборке без учета дисбаланса классов - показала лучший f1-score на валидационной выборке, но худший на тестовой. Значит, учет дисбаланса помогает модели лучше видеть законометрности и вести себя более стабильно.\n",
    "- Чуть более высоких значений F-меры удалось добиться на upsampled выборках. Возможно, это не закономерность, а только частный случай.\n",
    "- Более высокие показатели F-меры демонстрируют модели CatBoostClassifier. \n",
    "- Более точных результатов прогноза удается добиться с помощью поиска оптимального порога классификации.\n",
    "\n",
    "Дополнительно, на задворках проекта, аналогичным образом были обучены модели на выборках с учетом выбросов. Объекты с аномальными объектами были отброшены. Результаты оказались даже хуже, чем у моделей обученных на выборках без учета дисбаланса. В силу этого, данные результаты в проекте не представлены."
   ]
  },
  {
   "cell_type": "code",
   "execution_count": null,
   "metadata": {},
   "outputs": [],
   "source": []
  }
 ],
 "metadata": {
  "kernelspec": {
   "display_name": "Python 3",
   "language": "python",
   "name": "python3"
  },
  "language_info": {
   "codemirror_mode": {
    "name": "ipython",
    "version": 3
   },
   "file_extension": ".py",
   "mimetype": "text/x-python",
   "name": "python",
   "nbconvert_exporter": "python",
   "pygments_lexer": "ipython3",
   "version": "3.8.5"
  },
  "toc": {
   "base_numbering": 1,
   "nav_menu": {},
   "number_sections": false,
   "sideBar": true,
   "skip_h1_title": true,
   "title_cell": "Table of Contents",
   "title_sidebar": "Contents",
   "toc_cell": false,
   "toc_position": {},
   "toc_section_display": true,
   "toc_window_display": false
  }
 },
 "nbformat": 4,
 "nbformat_minor": 2
}
