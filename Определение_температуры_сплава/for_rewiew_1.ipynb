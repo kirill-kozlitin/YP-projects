{
 "cells": [
  {
   "cell_type": "markdown",
   "metadata": {},
   "source": [
    "## Импорт библиотек"
   ]
  },
  {
   "cell_type": "code",
   "execution_count": 2,
   "metadata": {},
   "outputs": [],
   "source": [
    "import pandas as pd\n",
    "import numpy as np\n",
    "import matplotlib.pyplot as plt\n",
    "import datetime"
   ]
  },
  {
   "cell_type": "code",
   "execution_count": 3,
   "metadata": {},
   "outputs": [],
   "source": [
    "pd.options.display.max_columns = None\n",
    "pd.options.mode.chained_assignment = None"
   ]
  },
  {
   "cell_type": "code",
   "execution_count": 4,
   "metadata": {},
   "outputs": [],
   "source": [
    "RANDOM = 12345"
   ]
  },
  {
   "cell_type": "markdown",
   "metadata": {},
   "source": [
    "## Загрузка данных. Обработка"
   ]
  },
  {
   "cell_type": "code",
   "execution_count": 5,
   "metadata": {},
   "outputs": [
    {
     "ename": "FileNotFoundError",
     "evalue": "[Errno 2] No such file or directory: '/datasets/final_steel/data_arc.csv'",
     "output_type": "error",
     "traceback": [
      "\u001b[0;31m---------------------------------------------------------------------------\u001b[0m",
      "\u001b[0;31mFileNotFoundError\u001b[0m                         Traceback (most recent call last)",
      "\u001b[0;32m<ipython-input-5-3f753bdc5c7c>\u001b[0m in \u001b[0;36m<module>\u001b[0;34m\u001b[0m\n\u001b[0;32m----> 1\u001b[0;31m \u001b[0marc\u001b[0m \u001b[0;34m=\u001b[0m \u001b[0mpd\u001b[0m\u001b[0;34m.\u001b[0m\u001b[0mread_csv\u001b[0m\u001b[0;34m(\u001b[0m\u001b[0;34m'/datasets/final_steel/data_arc.csv'\u001b[0m\u001b[0;34m)\u001b[0m\u001b[0;34m\u001b[0m\u001b[0;34m\u001b[0m\u001b[0m\n\u001b[0m",
      "\u001b[0;32m~/opt/anaconda3/lib/python3.8/site-packages/pandas/io/parsers.py\u001b[0m in \u001b[0;36mread_csv\u001b[0;34m(filepath_or_buffer, sep, delimiter, header, names, index_col, usecols, squeeze, prefix, mangle_dupe_cols, dtype, engine, converters, true_values, false_values, skipinitialspace, skiprows, skipfooter, nrows, na_values, keep_default_na, na_filter, verbose, skip_blank_lines, parse_dates, infer_datetime_format, keep_date_col, date_parser, dayfirst, cache_dates, iterator, chunksize, compression, thousands, decimal, lineterminator, quotechar, quoting, doublequote, escapechar, comment, encoding, dialect, error_bad_lines, warn_bad_lines, delim_whitespace, low_memory, memory_map, float_precision)\u001b[0m\n\u001b[1;32m    684\u001b[0m     )\n\u001b[1;32m    685\u001b[0m \u001b[0;34m\u001b[0m\u001b[0m\n\u001b[0;32m--> 686\u001b[0;31m     \u001b[0;32mreturn\u001b[0m \u001b[0m_read\u001b[0m\u001b[0;34m(\u001b[0m\u001b[0mfilepath_or_buffer\u001b[0m\u001b[0;34m,\u001b[0m \u001b[0mkwds\u001b[0m\u001b[0;34m)\u001b[0m\u001b[0;34m\u001b[0m\u001b[0;34m\u001b[0m\u001b[0m\n\u001b[0m\u001b[1;32m    687\u001b[0m \u001b[0;34m\u001b[0m\u001b[0m\n\u001b[1;32m    688\u001b[0m \u001b[0;34m\u001b[0m\u001b[0m\n",
      "\u001b[0;32m~/opt/anaconda3/lib/python3.8/site-packages/pandas/io/parsers.py\u001b[0m in \u001b[0;36m_read\u001b[0;34m(filepath_or_buffer, kwds)\u001b[0m\n\u001b[1;32m    450\u001b[0m \u001b[0;34m\u001b[0m\u001b[0m\n\u001b[1;32m    451\u001b[0m     \u001b[0;31m# Create the parser.\u001b[0m\u001b[0;34m\u001b[0m\u001b[0;34m\u001b[0m\u001b[0;34m\u001b[0m\u001b[0m\n\u001b[0;32m--> 452\u001b[0;31m     \u001b[0mparser\u001b[0m \u001b[0;34m=\u001b[0m \u001b[0mTextFileReader\u001b[0m\u001b[0;34m(\u001b[0m\u001b[0mfp_or_buf\u001b[0m\u001b[0;34m,\u001b[0m \u001b[0;34m**\u001b[0m\u001b[0mkwds\u001b[0m\u001b[0;34m)\u001b[0m\u001b[0;34m\u001b[0m\u001b[0;34m\u001b[0m\u001b[0m\n\u001b[0m\u001b[1;32m    453\u001b[0m \u001b[0;34m\u001b[0m\u001b[0m\n\u001b[1;32m    454\u001b[0m     \u001b[0;32mif\u001b[0m \u001b[0mchunksize\u001b[0m \u001b[0;32mor\u001b[0m \u001b[0miterator\u001b[0m\u001b[0;34m:\u001b[0m\u001b[0;34m\u001b[0m\u001b[0;34m\u001b[0m\u001b[0m\n",
      "\u001b[0;32m~/opt/anaconda3/lib/python3.8/site-packages/pandas/io/parsers.py\u001b[0m in \u001b[0;36m__init__\u001b[0;34m(self, f, engine, **kwds)\u001b[0m\n\u001b[1;32m    944\u001b[0m             \u001b[0mself\u001b[0m\u001b[0;34m.\u001b[0m\u001b[0moptions\u001b[0m\u001b[0;34m[\u001b[0m\u001b[0;34m\"has_index_names\"\u001b[0m\u001b[0;34m]\u001b[0m \u001b[0;34m=\u001b[0m \u001b[0mkwds\u001b[0m\u001b[0;34m[\u001b[0m\u001b[0;34m\"has_index_names\"\u001b[0m\u001b[0;34m]\u001b[0m\u001b[0;34m\u001b[0m\u001b[0;34m\u001b[0m\u001b[0m\n\u001b[1;32m    945\u001b[0m \u001b[0;34m\u001b[0m\u001b[0m\n\u001b[0;32m--> 946\u001b[0;31m         \u001b[0mself\u001b[0m\u001b[0;34m.\u001b[0m\u001b[0m_make_engine\u001b[0m\u001b[0;34m(\u001b[0m\u001b[0mself\u001b[0m\u001b[0;34m.\u001b[0m\u001b[0mengine\u001b[0m\u001b[0;34m)\u001b[0m\u001b[0;34m\u001b[0m\u001b[0;34m\u001b[0m\u001b[0m\n\u001b[0m\u001b[1;32m    947\u001b[0m \u001b[0;34m\u001b[0m\u001b[0m\n\u001b[1;32m    948\u001b[0m     \u001b[0;32mdef\u001b[0m \u001b[0mclose\u001b[0m\u001b[0;34m(\u001b[0m\u001b[0mself\u001b[0m\u001b[0;34m)\u001b[0m\u001b[0;34m:\u001b[0m\u001b[0;34m\u001b[0m\u001b[0;34m\u001b[0m\u001b[0m\n",
      "\u001b[0;32m~/opt/anaconda3/lib/python3.8/site-packages/pandas/io/parsers.py\u001b[0m in \u001b[0;36m_make_engine\u001b[0;34m(self, engine)\u001b[0m\n\u001b[1;32m   1176\u001b[0m     \u001b[0;32mdef\u001b[0m \u001b[0m_make_engine\u001b[0m\u001b[0;34m(\u001b[0m\u001b[0mself\u001b[0m\u001b[0;34m,\u001b[0m \u001b[0mengine\u001b[0m\u001b[0;34m=\u001b[0m\u001b[0;34m\"c\"\u001b[0m\u001b[0;34m)\u001b[0m\u001b[0;34m:\u001b[0m\u001b[0;34m\u001b[0m\u001b[0;34m\u001b[0m\u001b[0m\n\u001b[1;32m   1177\u001b[0m         \u001b[0;32mif\u001b[0m \u001b[0mengine\u001b[0m \u001b[0;34m==\u001b[0m \u001b[0;34m\"c\"\u001b[0m\u001b[0;34m:\u001b[0m\u001b[0;34m\u001b[0m\u001b[0;34m\u001b[0m\u001b[0m\n\u001b[0;32m-> 1178\u001b[0;31m             \u001b[0mself\u001b[0m\u001b[0;34m.\u001b[0m\u001b[0m_engine\u001b[0m \u001b[0;34m=\u001b[0m \u001b[0mCParserWrapper\u001b[0m\u001b[0;34m(\u001b[0m\u001b[0mself\u001b[0m\u001b[0;34m.\u001b[0m\u001b[0mf\u001b[0m\u001b[0;34m,\u001b[0m \u001b[0;34m**\u001b[0m\u001b[0mself\u001b[0m\u001b[0;34m.\u001b[0m\u001b[0moptions\u001b[0m\u001b[0;34m)\u001b[0m\u001b[0;34m\u001b[0m\u001b[0;34m\u001b[0m\u001b[0m\n\u001b[0m\u001b[1;32m   1179\u001b[0m         \u001b[0;32melse\u001b[0m\u001b[0;34m:\u001b[0m\u001b[0;34m\u001b[0m\u001b[0;34m\u001b[0m\u001b[0m\n\u001b[1;32m   1180\u001b[0m             \u001b[0;32mif\u001b[0m \u001b[0mengine\u001b[0m \u001b[0;34m==\u001b[0m \u001b[0;34m\"python\"\u001b[0m\u001b[0;34m:\u001b[0m\u001b[0;34m\u001b[0m\u001b[0;34m\u001b[0m\u001b[0m\n",
      "\u001b[0;32m~/opt/anaconda3/lib/python3.8/site-packages/pandas/io/parsers.py\u001b[0m in \u001b[0;36m__init__\u001b[0;34m(self, src, **kwds)\u001b[0m\n\u001b[1;32m   2006\u001b[0m         \u001b[0mkwds\u001b[0m\u001b[0;34m[\u001b[0m\u001b[0;34m\"usecols\"\u001b[0m\u001b[0;34m]\u001b[0m \u001b[0;34m=\u001b[0m \u001b[0mself\u001b[0m\u001b[0;34m.\u001b[0m\u001b[0musecols\u001b[0m\u001b[0;34m\u001b[0m\u001b[0;34m\u001b[0m\u001b[0m\n\u001b[1;32m   2007\u001b[0m \u001b[0;34m\u001b[0m\u001b[0m\n\u001b[0;32m-> 2008\u001b[0;31m         \u001b[0mself\u001b[0m\u001b[0;34m.\u001b[0m\u001b[0m_reader\u001b[0m \u001b[0;34m=\u001b[0m \u001b[0mparsers\u001b[0m\u001b[0;34m.\u001b[0m\u001b[0mTextReader\u001b[0m\u001b[0;34m(\u001b[0m\u001b[0msrc\u001b[0m\u001b[0;34m,\u001b[0m \u001b[0;34m**\u001b[0m\u001b[0mkwds\u001b[0m\u001b[0;34m)\u001b[0m\u001b[0;34m\u001b[0m\u001b[0;34m\u001b[0m\u001b[0m\n\u001b[0m\u001b[1;32m   2009\u001b[0m         \u001b[0mself\u001b[0m\u001b[0;34m.\u001b[0m\u001b[0munnamed_cols\u001b[0m \u001b[0;34m=\u001b[0m \u001b[0mself\u001b[0m\u001b[0;34m.\u001b[0m\u001b[0m_reader\u001b[0m\u001b[0;34m.\u001b[0m\u001b[0munnamed_cols\u001b[0m\u001b[0;34m\u001b[0m\u001b[0;34m\u001b[0m\u001b[0m\n\u001b[1;32m   2010\u001b[0m \u001b[0;34m\u001b[0m\u001b[0m\n",
      "\u001b[0;32mpandas/_libs/parsers.pyx\u001b[0m in \u001b[0;36mpandas._libs.parsers.TextReader.__cinit__\u001b[0;34m()\u001b[0m\n",
      "\u001b[0;32mpandas/_libs/parsers.pyx\u001b[0m in \u001b[0;36mpandas._libs.parsers.TextReader._setup_parser_source\u001b[0;34m()\u001b[0m\n",
      "\u001b[0;31mFileNotFoundError\u001b[0m: [Errno 2] No such file or directory: '/datasets/final_steel/data_arc.csv'"
     ]
    }
   ],
   "source": [
    "arc = pd.read_csv('/datasets/final_steel/data_arc.csv')"
   ]
  },
  {
   "cell_type": "code",
   "execution_count": 5,
   "metadata": {},
   "outputs": [
    {
     "data": {
      "text/html": [
       "<div>\n",
       "<style scoped>\n",
       "    .dataframe tbody tr th:only-of-type {\n",
       "        vertical-align: middle;\n",
       "    }\n",
       "\n",
       "    .dataframe tbody tr th {\n",
       "        vertical-align: top;\n",
       "    }\n",
       "\n",
       "    .dataframe thead th {\n",
       "        text-align: right;\n",
       "    }\n",
       "</style>\n",
       "<table border=\"1\" class=\"dataframe\">\n",
       "  <thead>\n",
       "    <tr style=\"text-align: right;\">\n",
       "      <th></th>\n",
       "      <th>key</th>\n",
       "      <th>Начало нагрева дугой</th>\n",
       "      <th>Конец нагрева дугой</th>\n",
       "      <th>Активная мощность</th>\n",
       "      <th>Реактивная мощность</th>\n",
       "    </tr>\n",
       "  </thead>\n",
       "  <tbody>\n",
       "    <tr>\n",
       "      <td>4557</td>\n",
       "      <td>984</td>\n",
       "      <td>2019-06-08 12:00:37</td>\n",
       "      <td>2019-06-08 12:02:18</td>\n",
       "      <td>0.392892</td>\n",
       "      <td>0.301553</td>\n",
       "    </tr>\n",
       "    <tr>\n",
       "      <td>5274</td>\n",
       "      <td>1144</td>\n",
       "      <td>2019-06-14 02:02:26</td>\n",
       "      <td>2019-06-14 02:04:31</td>\n",
       "      <td>0.572077</td>\n",
       "      <td>0.380522</td>\n",
       "    </tr>\n",
       "    <tr>\n",
       "      <td>1668</td>\n",
       "      <td>359</td>\n",
       "      <td>2019-05-17 01:03:38</td>\n",
       "      <td>2019-05-17 01:07:32</td>\n",
       "      <td>0.963486</td>\n",
       "      <td>0.659530</td>\n",
       "    </tr>\n",
       "    <tr>\n",
       "      <td>10682</td>\n",
       "      <td>2323</td>\n",
       "      <td>2019-07-30 18:57:21</td>\n",
       "      <td>2019-07-30 19:01:13</td>\n",
       "      <td>0.927218</td>\n",
       "      <td>0.762333</td>\n",
       "    </tr>\n",
       "    <tr>\n",
       "      <td>4321</td>\n",
       "      <td>927</td>\n",
       "      <td>2019-06-06 12:45:46</td>\n",
       "      <td>2019-06-06 12:50:09</td>\n",
       "      <td>1.122471</td>\n",
       "      <td>0.807470</td>\n",
       "    </tr>\n",
       "  </tbody>\n",
       "</table>\n",
       "</div>"
      ],
      "text/plain": [
       "        key Начало нагрева дугой  Конец нагрева дугой  Активная мощность  \\\n",
       "4557    984  2019-06-08 12:00:37  2019-06-08 12:02:18           0.392892   \n",
       "5274   1144  2019-06-14 02:02:26  2019-06-14 02:04:31           0.572077   \n",
       "1668    359  2019-05-17 01:03:38  2019-05-17 01:07:32           0.963486   \n",
       "10682  2323  2019-07-30 18:57:21  2019-07-30 19:01:13           0.927218   \n",
       "4321    927  2019-06-06 12:45:46  2019-06-06 12:50:09           1.122471   \n",
       "\n",
       "       Реактивная мощность  \n",
       "4557              0.301553  \n",
       "5274              0.380522  \n",
       "1668              0.659530  \n",
       "10682             0.762333  \n",
       "4321              0.807470  "
      ]
     },
     "execution_count": 5,
     "metadata": {},
     "output_type": "execute_result"
    }
   ],
   "source": [
    "arc.sample(5,random_state=RANDOM)"
   ]
  },
  {
   "cell_type": "code",
   "execution_count": 6,
   "metadata": {},
   "outputs": [],
   "source": [
    "arc.columns = ['key','begin','end','power_i','power_o']"
   ]
  },
  {
   "cell_type": "code",
   "execution_count": 7,
   "metadata": {
    "scrolled": true
   },
   "outputs": [
    {
     "data": {
      "text/plain": [
       "(14876, 5)"
      ]
     },
     "execution_count": 7,
     "metadata": {},
     "output_type": "execute_result"
    }
   ],
   "source": [
    "arc.shape"
   ]
  },
  {
   "cell_type": "code",
   "execution_count": 8,
   "metadata": {},
   "outputs": [
    {
     "data": {
      "text/plain": [
       "key          int64\n",
       "begin       object\n",
       "end         object\n",
       "power_i    float64\n",
       "power_o    float64\n",
       "dtype: object"
      ]
     },
     "execution_count": 8,
     "metadata": {},
     "output_type": "execute_result"
    }
   ],
   "source": [
    "arc.dtypes"
   ]
  },
  {
   "cell_type": "code",
   "execution_count": 9,
   "metadata": {},
   "outputs": [],
   "source": [
    "arc['begin'] = pd.to_datetime(arc['begin'],format='%Y-%m-%d')\n",
    "arc['end'] = pd.to_datetime(arc['end'],format='%Y-%m-%d')\n",
    "arc['delta'] = (arc['end']-arc['begin']).dt.total_seconds()\n",
    "arc['power_io'] = arc['power_i']/arc['power_o']"
   ]
  },
  {
   "cell_type": "code",
   "execution_count": 10,
   "metadata": {},
   "outputs": [
    {
     "data": {
      "text/plain": [
       "key                  int64\n",
       "begin       datetime64[ns]\n",
       "end         datetime64[ns]\n",
       "power_i            float64\n",
       "power_o            float64\n",
       "delta              float64\n",
       "power_io           float64\n",
       "dtype: object"
      ]
     },
     "execution_count": 10,
     "metadata": {},
     "output_type": "execute_result"
    }
   ],
   "source": [
    "arc.dtypes"
   ]
  },
  {
   "cell_type": "code",
   "execution_count": 11,
   "metadata": {},
   "outputs": [
    {
     "name": "stdout",
     "output_type": "stream",
     "text": [
      "<class 'pandas.core.frame.DataFrame'>\n",
      "RangeIndex: 14876 entries, 0 to 14875\n",
      "Data columns (total 7 columns):\n",
      "key         14876 non-null int64\n",
      "begin       14876 non-null datetime64[ns]\n",
      "end         14876 non-null datetime64[ns]\n",
      "power_i     14876 non-null float64\n",
      "power_o     14876 non-null float64\n",
      "delta       14876 non-null float64\n",
      "power_io    14876 non-null float64\n",
      "dtypes: datetime64[ns](2), float64(4), int64(1)\n",
      "memory usage: 813.7 KB\n"
     ]
    }
   ],
   "source": [
    "arc.info()"
   ]
  },
  {
   "cell_type": "markdown",
   "metadata": {},
   "source": [
    "## Сводная таблица по партиям"
   ]
  },
  {
   "cell_type": "code",
   "execution_count": 18,
   "metadata": {},
   "outputs": [],
   "source": [
    "arc_svod = (arc.groupby('key')\n",
    " .agg(time_first = ('begin','min'),     #Время первого нагрева\n",
    "      time_last = ('end','max'),        #Время последнего нагрева\n",
    "      q_arc = ('key','count'),          #Количество запусков \n",
    "      power_io = ('power_io','mean'),   #Среднее соотношение\n",
    "      time_heat = ('delta','sum')       #Суммарное время нагрева, секунд\n",
    "     )\n",
    ").reset_index()"
   ]
  },
  {
   "cell_type": "code",
   "execution_count": 19,
   "metadata": {},
   "outputs": [],
   "source": [
    "arc_svod['time_full'] = (arc_svod['time_last']-arc_svod['time_first']).dt.total_seconds() #Общая длительность"
   ]
  },
  {
   "cell_type": "code",
   "execution_count": 20,
   "metadata": {},
   "outputs": [
    {
     "data": {
      "text/html": [
       "<div>\n",
       "<style scoped>\n",
       "    .dataframe tbody tr th:only-of-type {\n",
       "        vertical-align: middle;\n",
       "    }\n",
       "\n",
       "    .dataframe tbody tr th {\n",
       "        vertical-align: top;\n",
       "    }\n",
       "\n",
       "    .dataframe thead th {\n",
       "        text-align: right;\n",
       "    }\n",
       "</style>\n",
       "<table border=\"1\" class=\"dataframe\">\n",
       "  <thead>\n",
       "    <tr style=\"text-align: right;\">\n",
       "      <th></th>\n",
       "      <th>key</th>\n",
       "      <th>time_first</th>\n",
       "      <th>time_last</th>\n",
       "      <th>q_arc</th>\n",
       "      <th>power_io</th>\n",
       "      <th>time_heat</th>\n",
       "      <th>time_full</th>\n",
       "    </tr>\n",
       "  </thead>\n",
       "  <tbody>\n",
       "    <tr>\n",
       "      <td>1415</td>\n",
       "      <td>1431</td>\n",
       "      <td>2019-06-23 20:08:58</td>\n",
       "      <td>2019-06-23 20:56:32</td>\n",
       "      <td>6</td>\n",
       "      <td>1.408322</td>\n",
       "      <td>640.0</td>\n",
       "      <td>2854.0</td>\n",
       "    </tr>\n",
       "    <tr>\n",
       "      <td>916</td>\n",
       "      <td>930</td>\n",
       "      <td>2019-06-06 18:56:52</td>\n",
       "      <td>2019-06-06 19:15:24</td>\n",
       "      <td>3</td>\n",
       "      <td>1.294630</td>\n",
       "      <td>859.0</td>\n",
       "      <td>1112.0</td>\n",
       "    </tr>\n",
       "    <tr>\n",
       "      <td>1670</td>\n",
       "      <td>1687</td>\n",
       "      <td>2019-07-02 13:56:02</td>\n",
       "      <td>2019-07-02 14:39:05</td>\n",
       "      <td>6</td>\n",
       "      <td>1.543998</td>\n",
       "      <td>1311.0</td>\n",
       "      <td>2583.0</td>\n",
       "    </tr>\n",
       "    <tr>\n",
       "      <td>686</td>\n",
       "      <td>698</td>\n",
       "      <td>2019-05-29 04:39:33</td>\n",
       "      <td>2019-05-29 04:48:01</td>\n",
       "      <td>2</td>\n",
       "      <td>1.020349</td>\n",
       "      <td>364.0</td>\n",
       "      <td>508.0</td>\n",
       "    </tr>\n",
       "    <tr>\n",
       "      <td>2951</td>\n",
       "      <td>2977</td>\n",
       "      <td>2019-08-23 12:19:56</td>\n",
       "      <td>2019-08-23 12:47:18</td>\n",
       "      <td>4</td>\n",
       "      <td>1.520188</td>\n",
       "      <td>626.0</td>\n",
       "      <td>1642.0</td>\n",
       "    </tr>\n",
       "  </tbody>\n",
       "</table>\n",
       "</div>"
      ],
      "text/plain": [
       "       key          time_first           time_last  q_arc  power_io  \\\n",
       "1415  1431 2019-06-23 20:08:58 2019-06-23 20:56:32      6  1.408322   \n",
       "916    930 2019-06-06 18:56:52 2019-06-06 19:15:24      3  1.294630   \n",
       "1670  1687 2019-07-02 13:56:02 2019-07-02 14:39:05      6  1.543998   \n",
       "686    698 2019-05-29 04:39:33 2019-05-29 04:48:01      2  1.020349   \n",
       "2951  2977 2019-08-23 12:19:56 2019-08-23 12:47:18      4  1.520188   \n",
       "\n",
       "      time_heat  time_full  \n",
       "1415      640.0     2854.0  \n",
       "916       859.0     1112.0  \n",
       "1670     1311.0     2583.0  \n",
       "686       364.0      508.0  \n",
       "2951      626.0     1642.0  "
      ]
     },
     "execution_count": 20,
     "metadata": {},
     "output_type": "execute_result"
    }
   ],
   "source": [
    "arc_svod.sample(5,random_state=RANDOM)"
   ]
  },
  {
   "cell_type": "code",
   "execution_count": 21,
   "metadata": {},
   "outputs": [
    {
     "data": {
      "text/html": [
       "<div>\n",
       "<style scoped>\n",
       "    .dataframe tbody tr th:only-of-type {\n",
       "        vertical-align: middle;\n",
       "    }\n",
       "\n",
       "    .dataframe tbody tr th {\n",
       "        vertical-align: top;\n",
       "    }\n",
       "\n",
       "    .dataframe thead th {\n",
       "        text-align: right;\n",
       "    }\n",
       "</style>\n",
       "<table border=\"1\" class=\"dataframe\">\n",
       "  <thead>\n",
       "    <tr style=\"text-align: right;\">\n",
       "      <th></th>\n",
       "      <th>time_full</th>\n",
       "      <th>time_heat</th>\n",
       "      <th>q_arc</th>\n",
       "      <th>power_io</th>\n",
       "    </tr>\n",
       "  </thead>\n",
       "  <tbody>\n",
       "    <tr>\n",
       "      <td>count</td>\n",
       "      <td>3214.000000</td>\n",
       "      <td>3214.000000</td>\n",
       "      <td>3214.000000</td>\n",
       "      <td>3214.000000</td>\n",
       "    </tr>\n",
       "    <tr>\n",
       "      <td>mean</td>\n",
       "      <td>1898.537648</td>\n",
       "      <td>794.579029</td>\n",
       "      <td>4.628500</td>\n",
       "      <td>1.357452</td>\n",
       "    </tr>\n",
       "    <tr>\n",
       "      <td>std</td>\n",
       "      <td>1265.105252</td>\n",
       "      <td>332.448622</td>\n",
       "      <td>1.608647</td>\n",
       "      <td>0.132824</td>\n",
       "    </tr>\n",
       "    <tr>\n",
       "      <td>min</td>\n",
       "      <td>57.000000</td>\n",
       "      <td>57.000000</td>\n",
       "      <td>1.000000</td>\n",
       "      <td>0.676106</td>\n",
       "    </tr>\n",
       "    <tr>\n",
       "      <td>25%</td>\n",
       "      <td>1260.250000</td>\n",
       "      <td>571.000000</td>\n",
       "      <td>4.000000</td>\n",
       "      <td>1.292892</td>\n",
       "    </tr>\n",
       "    <tr>\n",
       "      <td>50%</td>\n",
       "      <td>1661.000000</td>\n",
       "      <td>770.000000</td>\n",
       "      <td>4.000000</td>\n",
       "      <td>1.370550</td>\n",
       "    </tr>\n",
       "    <tr>\n",
       "      <td>75%</td>\n",
       "      <td>2285.750000</td>\n",
       "      <td>983.000000</td>\n",
       "      <td>6.000000</td>\n",
       "      <td>1.438292</td>\n",
       "    </tr>\n",
       "    <tr>\n",
       "      <td>max</td>\n",
       "      <td>23485.000000</td>\n",
       "      <td>4189.000000</td>\n",
       "      <td>16.000000</td>\n",
       "      <td>1.782164</td>\n",
       "    </tr>\n",
       "  </tbody>\n",
       "</table>\n",
       "</div>"
      ],
      "text/plain": [
       "          time_full    time_heat        q_arc     power_io\n",
       "count   3214.000000  3214.000000  3214.000000  3214.000000\n",
       "mean    1898.537648   794.579029     4.628500     1.357452\n",
       "std     1265.105252   332.448622     1.608647     0.132824\n",
       "min       57.000000    57.000000     1.000000     0.676106\n",
       "25%     1260.250000   571.000000     4.000000     1.292892\n",
       "50%     1661.000000   770.000000     4.000000     1.370550\n",
       "75%     2285.750000   983.000000     6.000000     1.438292\n",
       "max    23485.000000  4189.000000    16.000000     1.782164"
      ]
     },
     "execution_count": 21,
     "metadata": {},
     "output_type": "execute_result"
    }
   ],
   "source": [
    "arc_svod[['time_full','time_heat','q_arc','power_io']].describe()"
   ]
  }
 ],
 "metadata": {
  "ExecuteTimeLog": [
   {
    "duration": 4,
    "start_time": "2021-08-03T18:00:53.948Z"
   },
   {
    "duration": 1888,
    "start_time": "2021-08-03T18:09:49.151Z"
   },
   {
    "duration": 4,
    "start_time": "2021-08-03T18:09:53.576Z"
   },
   {
    "duration": 3,
    "start_time": "2021-08-03T18:09:53.806Z"
   },
   {
    "duration": 169,
    "start_time": "2021-08-03T18:09:54.841Z"
   },
   {
    "duration": 13,
    "start_time": "2021-08-03T18:10:14.641Z"
   },
   {
    "duration": 17,
    "start_time": "2021-08-03T18:10:26.774Z"
   },
   {
    "duration": 12,
    "start_time": "2021-08-03T18:10:32.826Z"
   },
   {
    "duration": 3,
    "start_time": "2021-08-03T18:16:54.658Z"
   },
   {
    "duration": 172,
    "start_time": "2021-08-03T18:16:55.136Z"
   },
   {
    "duration": 61,
    "start_time": "2021-08-03T18:16:59.644Z"
   },
   {
    "duration": 544,
    "start_time": "2021-08-03T18:17:06.922Z"
   },
   {
    "duration": 18,
    "start_time": "2021-08-03T18:17:16.339Z"
   },
   {
    "duration": 3,
    "start_time": "2021-08-03T18:17:54.510Z"
   },
   {
    "duration": 172,
    "start_time": "2021-08-03T18:17:54.698Z"
   },
   {
    "duration": 276,
    "start_time": "2021-08-03T18:19:54.941Z"
   },
   {
    "duration": 6,
    "start_time": "2021-08-03T18:20:02.552Z"
   },
   {
    "duration": 171,
    "start_time": "2021-08-03T18:20:02.976Z"
   },
   {
    "duration": 16,
    "start_time": "2021-08-03T18:20:16.754Z"
   },
   {
    "duration": 14,
    "start_time": "2021-08-03T18:20:34.949Z"
   },
   {
    "duration": 6,
    "start_time": "2021-08-03T18:23:44.479Z"
   },
   {
    "duration": 51,
    "start_time": "2021-08-03T18:29:35.922Z"
   },
   {
    "duration": 40,
    "start_time": "2021-08-03T18:29:46.384Z"
   },
   {
    "duration": 38,
    "start_time": "2021-08-03T18:36:59.011Z"
   },
   {
    "duration": 38,
    "start_time": "2021-08-03T18:38:45.421Z"
   },
   {
    "duration": 39,
    "start_time": "2021-08-03T18:38:59.013Z"
   },
   {
    "duration": 41,
    "start_time": "2021-08-03T18:39:11.784Z"
   },
   {
    "duration": 41,
    "start_time": "2021-08-03T18:39:52.799Z"
   },
   {
    "duration": 39,
    "start_time": "2021-08-03T18:41:23.063Z"
   },
   {
    "duration": 294,
    "start_time": "2021-08-03T19:09:07.233Z"
   },
   {
    "duration": 20,
    "start_time": "2021-08-03T19:09:10.815Z"
   },
   {
    "duration": 23,
    "start_time": "2021-08-03T19:09:22.991Z"
   },
   {
    "duration": 17,
    "start_time": "2021-08-03T19:10:11.511Z"
   },
   {
    "duration": 19,
    "start_time": "2021-08-03T19:10:28.514Z"
   },
   {
    "duration": 19,
    "start_time": "2021-08-03T19:10:31.289Z"
   },
   {
    "duration": 26,
    "start_time": "2021-08-03T19:10:43.742Z"
   },
   {
    "duration": 255,
    "start_time": "2021-08-03T19:11:50.546Z"
   },
   {
    "duration": 16,
    "start_time": "2021-08-03T19:11:54.685Z"
   },
   {
    "duration": 79,
    "start_time": "2021-08-03T19:12:10.564Z"
   },
   {
    "duration": 82,
    "start_time": "2021-08-03T19:13:09.081Z"
   },
   {
    "duration": 321,
    "start_time": "2021-08-03T19:16:09.905Z"
   },
   {
    "duration": 8,
    "start_time": "2021-08-03T19:19:35.759Z"
   },
   {
    "duration": 9,
    "start_time": "2021-08-03T19:20:03.159Z"
   },
   {
    "duration": 53,
    "start_time": "2021-08-03T19:20:41.007Z"
   },
   {
    "duration": 168,
    "start_time": "2021-08-03T19:21:10.095Z"
   },
   {
    "duration": 102,
    "start_time": "2021-08-03T19:21:14.758Z"
   },
   {
    "duration": 96,
    "start_time": "2021-08-03T19:21:18.562Z"
   },
   {
    "duration": 53,
    "start_time": "2021-08-03T19:21:23.912Z"
   },
   {
    "duration": 453,
    "start_time": "2021-08-03T19:25:44.076Z"
   },
   {
    "duration": 52,
    "start_time": "2021-08-03T19:26:11.724Z"
   },
   {
    "duration": 55,
    "start_time": "2021-08-03T19:28:55.400Z"
   },
   {
    "duration": 65,
    "start_time": "2021-08-03T19:29:27.526Z"
   },
   {
    "duration": 5,
    "start_time": "2021-08-03T19:32:27.052Z"
   },
   {
    "duration": 40,
    "start_time": "2021-08-03T19:32:54.822Z"
   },
   {
    "duration": 16,
    "start_time": "2021-08-03T19:40:58.504Z"
   },
   {
    "duration": 93,
    "start_time": "2021-08-03T19:42:03.740Z"
   },
   {
    "duration": 16,
    "start_time": "2021-08-03T19:42:07.192Z"
   },
   {
    "duration": 99,
    "start_time": "2021-08-03T19:42:13.904Z"
   },
   {
    "duration": 8,
    "start_time": "2021-08-03T19:42:24.259Z"
   },
   {
    "duration": 23,
    "start_time": "2021-08-03T19:42:41.000Z"
   },
   {
    "duration": 2206,
    "start_time": "2021-08-04T15:34:16.460Z"
   },
   {
    "duration": 3,
    "start_time": "2021-08-04T15:34:18.669Z"
   },
   {
    "duration": 5,
    "start_time": "2021-08-04T15:34:18.683Z"
   },
   {
    "duration": 3,
    "start_time": "2021-08-04T15:35:11.606Z"
   },
   {
    "duration": 180,
    "start_time": "2021-08-04T15:35:12.285Z"
   },
   {
    "duration": 61,
    "start_time": "2021-08-04T15:35:17.246Z"
   },
   {
    "duration": 66,
    "start_time": "2021-08-04T15:35:19.508Z"
   },
   {
    "duration": 41,
    "start_time": "2021-08-04T15:35:20.163Z"
   },
   {
    "duration": 14,
    "start_time": "2021-08-04T15:35:21.497Z"
   },
   {
    "duration": 7,
    "start_time": "2021-08-04T15:35:21.741Z"
   },
   {
    "duration": 23,
    "start_time": "2021-08-04T15:35:22.229Z"
   },
   {
    "duration": 10,
    "start_time": "2021-08-04T15:37:41.216Z"
   },
   {
    "duration": 22,
    "start_time": "2021-08-04T15:37:42.850Z"
   },
   {
    "duration": 22,
    "start_time": "2021-08-04T15:37:45.615Z"
   },
   {
    "duration": 9,
    "start_time": "2021-08-04T15:37:49.827Z"
   },
   {
    "duration": 7,
    "start_time": "2021-08-04T15:38:03.546Z"
   },
   {
    "duration": 112,
    "start_time": "2021-08-04T15:38:37.127Z"
   },
   {
    "duration": 21,
    "start_time": "2021-08-04T15:38:50.519Z"
   },
   {
    "duration": 9,
    "start_time": "2021-08-04T15:39:18.532Z"
   },
   {
    "duration": 7,
    "start_time": "2021-08-04T15:39:18.894Z"
   },
   {
    "duration": 25,
    "start_time": "2021-08-04T15:39:27.355Z"
   },
   {
    "duration": 22,
    "start_time": "2021-08-04T15:39:51.794Z"
   },
   {
    "duration": 484,
    "start_time": "2021-08-04T15:40:35.460Z"
   },
   {
    "duration": 806,
    "start_time": "2021-08-04T15:40:50.950Z"
   },
   {
    "duration": 33,
    "start_time": "2021-08-04T15:40:58.568Z"
   },
   {
    "duration": 5,
    "start_time": "2021-08-04T15:41:34.508Z"
   },
   {
    "duration": 10,
    "start_time": "2021-08-04T15:42:05.802Z"
   },
   {
    "duration": 260,
    "start_time": "2021-08-04T15:42:57.162Z"
   },
   {
    "duration": 9,
    "start_time": "2021-08-04T15:43:03.796Z"
   },
   {
    "duration": 4,
    "start_time": "2021-08-04T15:53:57.374Z"
   },
   {
    "duration": 178,
    "start_time": "2021-08-04T15:53:57.638Z"
   },
   {
    "duration": 5,
    "start_time": "2021-08-04T15:54:01.045Z"
   },
   {
    "duration": 13,
    "start_time": "2021-08-04T15:54:02.398Z"
   },
   {
    "duration": 7,
    "start_time": "2021-08-04T15:54:04.162Z"
   },
   {
    "duration": 4,
    "start_time": "2021-08-04T15:54:06.398Z"
   },
   {
    "duration": 10,
    "start_time": "2021-08-04T15:54:25.602Z"
   },
   {
    "duration": 7,
    "start_time": "2021-08-04T15:54:26.024Z"
   },
   {
    "duration": 9,
    "start_time": "2021-08-04T15:54:29.297Z"
   },
   {
    "duration": 12,
    "start_time": "2021-08-04T15:54:33.506Z"
   },
   {
    "duration": 627,
    "start_time": "2021-08-04T15:54:59.268Z"
   },
   {
    "duration": 29,
    "start_time": "2021-08-04T15:55:13.573Z"
   },
   {
    "duration": 20,
    "start_time": "2021-08-04T15:56:07.750Z"
   },
   {
    "duration": 315,
    "start_time": "2021-08-04T15:56:20.756Z"
   },
   {
    "duration": 256,
    "start_time": "2021-08-04T15:57:42.427Z"
   },
   {
    "duration": 409,
    "start_time": "2021-08-04T15:58:09.607Z"
   },
   {
    "duration": 459,
    "start_time": "2021-08-04T15:58:14.009Z"
   },
   {
    "duration": 20,
    "start_time": "2021-08-04T15:58:32.031Z"
   },
   {
    "duration": 264,
    "start_time": "2021-08-04T15:58:43.042Z"
   },
   {
    "duration": 19,
    "start_time": "2021-08-04T15:58:51.746Z"
   },
   {
    "duration": 268,
    "start_time": "2021-08-04T15:59:24.313Z"
   },
   {
    "duration": 94,
    "start_time": "2021-08-04T16:00:02.205Z"
   },
   {
    "duration": 732,
    "start_time": "2021-08-04T16:00:24.587Z"
   },
   {
    "duration": 507,
    "start_time": "2021-08-04T16:00:50.448Z"
   },
   {
    "duration": 253,
    "start_time": "2021-08-04T16:01:02.396Z"
   },
   {
    "duration": 254,
    "start_time": "2021-08-04T16:01:13.767Z"
   },
   {
    "duration": 3056,
    "start_time": "2021-08-04T16:01:30.059Z"
   },
   {
    "duration": 775,
    "start_time": "2021-08-04T16:01:38.434Z"
   },
   {
    "duration": 1042,
    "start_time": "2021-08-04T16:01:46.387Z"
   },
   {
    "duration": 12263,
    "start_time": "2021-08-04T16:02:32.537Z"
   },
   {
    "duration": 78,
    "start_time": "2021-08-04T16:03:16.669Z"
   },
   {
    "duration": 236,
    "start_time": "2021-08-04T16:03:27.833Z"
   },
   {
    "duration": 11,
    "start_time": "2021-08-04T16:05:47.046Z"
   },
   {
    "duration": 11,
    "start_time": "2021-08-04T16:07:03.523Z"
   },
   {
    "duration": 7,
    "start_time": "2021-08-04T16:09:23.721Z"
   },
   {
    "duration": 8,
    "start_time": "2021-08-04T16:09:34.015Z"
   },
   {
    "duration": 8,
    "start_time": "2021-08-04T16:09:41.912Z"
   },
   {
    "duration": 274,
    "start_time": "2021-08-04T16:09:46.335Z"
   },
   {
    "duration": 557,
    "start_time": "2021-08-04T16:11:52.697Z"
   },
   {
    "duration": 442,
    "start_time": "2021-08-04T16:12:25.498Z"
   },
   {
    "duration": 254,
    "start_time": "2021-08-04T16:12:48.551Z"
   },
   {
    "duration": 30,
    "start_time": "2021-08-04T16:15:58.686Z"
   },
   {
    "duration": 7041,
    "start_time": "2021-08-04T16:16:23.141Z"
   },
   {
    "duration": 20,
    "start_time": "2021-08-04T16:16:34.692Z"
   },
   {
    "duration": 27,
    "start_time": "2021-08-04T16:16:47.955Z"
   },
   {
    "duration": 175,
    "start_time": "2021-08-04T16:20:47.294Z"
   },
   {
    "duration": 5,
    "start_time": "2021-08-04T16:20:48.345Z"
   },
   {
    "duration": 48,
    "start_time": "2021-08-04T16:20:49.875Z"
   },
   {
    "duration": 65,
    "start_time": "2021-08-04T16:20:53.574Z"
   },
   {
    "duration": 36,
    "start_time": "2021-08-04T16:20:54.852Z"
   },
   {
    "duration": 1929,
    "start_time": "2021-08-04T16:23:27.282Z"
   },
   {
    "duration": 3,
    "start_time": "2021-08-04T16:23:29.214Z"
   },
   {
    "duration": 9,
    "start_time": "2021-08-04T16:23:29.220Z"
   },
   {
    "duration": 164,
    "start_time": "2021-08-04T16:23:29.582Z"
   },
   {
    "duration": 5,
    "start_time": "2021-08-04T16:23:30.598Z"
   },
   {
    "duration": 49,
    "start_time": "2021-08-04T16:23:33.858Z"
   },
   {
    "duration": 67,
    "start_time": "2021-08-04T16:23:40.835Z"
   },
   {
    "duration": 6,
    "start_time": "2021-08-04T16:24:22.328Z"
   },
   {
    "duration": 13,
    "start_time": "2021-08-04T16:24:22.850Z"
   },
   {
    "duration": 8,
    "start_time": "2021-08-04T16:24:23.853Z"
   },
   {
    "duration": 4,
    "start_time": "2021-08-04T16:24:26.795Z"
   },
   {
    "duration": 10,
    "start_time": "2021-08-04T16:24:29.185Z"
   },
   {
    "duration": 7,
    "start_time": "2021-08-04T16:24:29.954Z"
   },
   {
    "duration": 8,
    "start_time": "2021-08-04T16:24:32.724Z"
   },
   {
    "duration": 13,
    "start_time": "2021-08-04T16:24:43.839Z"
   },
   {
    "duration": 8,
    "start_time": "2021-08-04T16:24:45.690Z"
   },
   {
    "duration": 11,
    "start_time": "2021-08-04T16:24:52.705Z"
   },
   {
    "duration": 8,
    "start_time": "2021-08-04T16:24:58.458Z"
   },
   {
    "duration": 29,
    "start_time": "2021-08-04T16:25:02.414Z"
   },
   {
    "duration": 20,
    "start_time": "2021-08-04T16:27:59.534Z"
   },
   {
    "duration": 15,
    "start_time": "2021-08-04T16:28:05.055Z"
   },
   {
    "duration": 11,
    "start_time": "2021-08-04T16:28:26.622Z"
   },
   {
    "duration": 10,
    "start_time": "2021-08-04T16:28:57.408Z"
   },
   {
    "duration": 10,
    "start_time": "2021-08-04T16:29:24.980Z"
   },
   {
    "duration": 11,
    "start_time": "2021-08-04T16:29:57.237Z"
   },
   {
    "duration": 446,
    "start_time": "2021-08-04T16:30:58.232Z"
   },
   {
    "duration": 19,
    "start_time": "2021-08-04T16:31:22.612Z"
   },
   {
    "duration": 21,
    "start_time": "2021-08-04T16:31:53.346Z"
   },
   {
    "duration": 19,
    "start_time": "2021-08-04T16:32:08.827Z"
   },
   {
    "duration": 10,
    "start_time": "2021-08-04T16:33:02.173Z"
   },
   {
    "duration": 272,
    "start_time": "2021-08-04T16:37:23.106Z"
   },
   {
    "duration": 282,
    "start_time": "2021-08-04T16:37:29.234Z"
   },
   {
    "duration": 10,
    "start_time": "2021-08-04T16:37:49.726Z"
   },
   {
    "duration": 18,
    "start_time": "2021-08-04T16:38:35.720Z"
   },
   {
    "duration": 18,
    "start_time": "2021-08-04T16:39:37.277Z"
   },
   {
    "duration": 285,
    "start_time": "2021-08-04T16:40:13.812Z"
   },
   {
    "duration": 300,
    "start_time": "2021-08-04T16:41:04.747Z"
   },
   {
    "duration": 265,
    "start_time": "2021-08-04T16:41:17.840Z"
   },
   {
    "duration": 87,
    "start_time": "2021-08-04T16:41:58.230Z"
   },
   {
    "duration": 6,
    "start_time": "2021-08-04T16:42:32.649Z"
   },
   {
    "duration": 4,
    "start_time": "2021-08-04T16:42:35.316Z"
   },
   {
    "duration": 3,
    "start_time": "2021-08-04T16:42:35.670Z"
   },
   {
    "duration": 172,
    "start_time": "2021-08-04T16:42:36.314Z"
   },
   {
    "duration": 5,
    "start_time": "2021-08-04T16:42:36.516Z"
   },
   {
    "duration": 50,
    "start_time": "2021-08-04T16:42:37.228Z"
   },
   {
    "duration": 65,
    "start_time": "2021-08-04T16:42:38.530Z"
   },
   {
    "duration": 5,
    "start_time": "2021-08-04T16:42:40.369Z"
   },
   {
    "duration": 13,
    "start_time": "2021-08-04T16:42:40.623Z"
   },
   {
    "duration": 7,
    "start_time": "2021-08-04T16:42:40.815Z"
   },
   {
    "duration": 4,
    "start_time": "2021-08-04T16:42:41.813Z"
   },
   {
    "duration": 10,
    "start_time": "2021-08-04T16:42:42.204Z"
   },
   {
    "duration": 6,
    "start_time": "2021-08-04T16:42:42.919Z"
   },
   {
    "duration": 8,
    "start_time": "2021-08-04T16:42:43.150Z"
   },
   {
    "duration": 29,
    "start_time": "2021-08-04T16:42:43.576Z"
   },
   {
    "duration": 8,
    "start_time": "2021-08-04T16:42:44.071Z"
   },
   {
    "duration": 24,
    "start_time": "2021-08-04T16:42:46.622Z"
   },
   {
    "duration": 10,
    "start_time": "2021-08-04T16:42:50.192Z"
   },
   {
    "duration": 340,
    "start_time": "2021-08-04T16:43:00.383Z"
   },
   {
    "duration": 271,
    "start_time": "2021-08-04T16:43:42.875Z"
   },
   {
    "duration": 6,
    "start_time": "2021-08-04T16:43:46.248Z"
   },
   {
    "duration": 76,
    "start_time": "2021-08-04T16:43:53.749Z"
   },
   {
    "duration": 9,
    "start_time": "2021-08-04T16:44:28.031Z"
   },
   {
    "duration": 94,
    "start_time": "2021-08-04T16:45:17.129Z"
   },
   {
    "duration": 92,
    "start_time": "2021-08-04T16:45:35.862Z"
   },
   {
    "duration": 90,
    "start_time": "2021-08-04T16:45:58.150Z"
   },
   {
    "duration": 105,
    "start_time": "2021-08-04T16:46:05.909Z"
   },
   {
    "duration": 11,
    "start_time": "2021-08-04T16:46:28.805Z"
   },
   {
    "duration": 10,
    "start_time": "2021-08-04T16:46:35.276Z"
   },
   {
    "duration": 259,
    "start_time": "2021-08-04T16:46:43.485Z"
   },
   {
    "duration": 272,
    "start_time": "2021-08-04T16:46:46.863Z"
   },
   {
    "duration": 10,
    "start_time": "2021-08-04T16:46:48.481Z"
   },
   {
    "duration": 10,
    "start_time": "2021-08-04T16:46:54.378Z"
   },
   {
    "duration": 7,
    "start_time": "2021-08-04T16:47:34.626Z"
   },
   {
    "duration": 22,
    "start_time": "2021-08-04T16:47:44.057Z"
   },
   {
    "duration": 6,
    "start_time": "2021-08-04T16:47:48.568Z"
   },
   {
    "duration": 14,
    "start_time": "2021-08-04T16:47:51.372Z"
   },
   {
    "duration": 18,
    "start_time": "2021-08-04T16:48:00.001Z"
   },
   {
    "duration": 293,
    "start_time": "2021-08-04T16:51:20.871Z"
   },
   {
    "duration": 252,
    "start_time": "2021-08-04T16:52:02.825Z"
   },
   {
    "duration": 15,
    "start_time": "2021-08-04T16:52:15.044Z"
   },
   {
    "duration": 258,
    "start_time": "2021-08-04T16:52:38.395Z"
   },
   {
    "duration": 21,
    "start_time": "2021-08-04T16:52:53.371Z"
   },
   {
    "duration": 14,
    "start_time": "2021-08-04T16:53:33.615Z"
   },
   {
    "duration": 14,
    "start_time": "2021-08-04T16:53:41.563Z"
   },
   {
    "duration": 13,
    "start_time": "2021-08-04T16:53:46.480Z"
   },
   {
    "duration": 14,
    "start_time": "2021-08-04T16:53:53.514Z"
   },
   {
    "duration": 21,
    "start_time": "2021-08-04T16:55:32.748Z"
   },
   {
    "duration": 6975,
    "start_time": "2021-08-04T16:55:59.550Z"
   },
   {
    "duration": 7279,
    "start_time": "2021-08-04T16:56:13.830Z"
   },
   {
    "duration": 19,
    "start_time": "2021-08-04T16:56:35.341Z"
   },
   {
    "duration": 9,
    "start_time": "2021-08-04T16:57:03.551Z"
   },
   {
    "duration": 288,
    "start_time": "2021-08-04T16:57:09.826Z"
   },
   {
    "duration": 20,
    "start_time": "2021-08-04T16:57:26.254Z"
   },
   {
    "duration": 13,
    "start_time": "2021-08-04T16:57:26.322Z"
   },
   {
    "duration": 29,
    "start_time": "2021-08-04T16:58:14.376Z"
   },
   {
    "duration": 8,
    "start_time": "2021-08-04T16:58:14.799Z"
   },
   {
    "duration": 17,
    "start_time": "2021-08-04T16:58:15.283Z"
   },
   {
    "duration": 9,
    "start_time": "2021-08-04T16:58:29.808Z"
   },
   {
    "duration": 295,
    "start_time": "2021-08-04T17:01:30.255Z"
   },
   {
    "duration": 884,
    "start_time": "2021-08-04T17:01:45.332Z"
   },
   {
    "duration": 6,
    "start_time": "2021-08-04T17:05:42.493Z"
   },
   {
    "duration": 4,
    "start_time": "2021-08-04T17:05:42.863Z"
   },
   {
    "duration": 3,
    "start_time": "2021-08-04T17:05:43.128Z"
   },
   {
    "duration": 164,
    "start_time": "2021-08-04T17:05:44.399Z"
   },
   {
    "duration": 4,
    "start_time": "2021-08-04T17:05:44.651Z"
   },
   {
    "duration": 141,
    "start_time": "2021-08-04T17:05:46.477Z"
   },
   {
    "duration": 63,
    "start_time": "2021-08-04T17:05:48.270Z"
   },
   {
    "duration": 6,
    "start_time": "2021-08-04T17:07:41.939Z"
   },
   {
    "duration": 12,
    "start_time": "2021-08-04T17:07:42.452Z"
   },
   {
    "duration": 6,
    "start_time": "2021-08-04T17:07:43.426Z"
   },
   {
    "duration": 4,
    "start_time": "2021-08-04T17:07:44.840Z"
   },
   {
    "duration": 10,
    "start_time": "2021-08-04T17:07:45.327Z"
   },
   {
    "duration": 7,
    "start_time": "2021-08-04T17:07:45.955Z"
   },
   {
    "duration": 9,
    "start_time": "2021-08-04T17:07:46.322Z"
   },
   {
    "duration": 11,
    "start_time": "2021-08-04T17:07:47.359Z"
   },
   {
    "duration": 9,
    "start_time": "2021-08-04T17:07:48.305Z"
   },
   {
    "duration": 5,
    "start_time": "2021-08-04T17:08:49.233Z"
   },
   {
    "duration": 13,
    "start_time": "2021-08-04T17:08:50.118Z"
   },
   {
    "duration": 7,
    "start_time": "2021-08-04T17:08:50.408Z"
   },
   {
    "duration": 4,
    "start_time": "2021-08-04T17:08:50.774Z"
   },
   {
    "duration": 6,
    "start_time": "2021-08-04T17:08:51.213Z"
   },
   {
    "duration": 7,
    "start_time": "2021-08-04T17:08:51.892Z"
   },
   {
    "duration": 8,
    "start_time": "2021-08-04T17:08:53.961Z"
   },
   {
    "duration": 12,
    "start_time": "2021-08-04T17:08:55.278Z"
   },
   {
    "duration": 8,
    "start_time": "2021-08-04T17:08:55.725Z"
   },
   {
    "duration": 850,
    "start_time": "2021-08-04T17:09:10.665Z"
   },
   {
    "duration": 858,
    "start_time": "2021-08-04T17:09:34.771Z"
   },
   {
    "duration": 991,
    "start_time": "2021-08-04T17:09:43.591Z"
   },
   {
    "duration": 1130,
    "start_time": "2021-08-04T17:10:11.242Z"
   },
   {
    "duration": 13,
    "start_time": "2021-08-04T17:10:49.253Z"
   },
   {
    "duration": 341,
    "start_time": "2021-08-04T17:15:11.969Z"
   },
   {
    "duration": 351,
    "start_time": "2021-08-04T17:16:53.278Z"
   },
   {
    "duration": 12,
    "start_time": "2021-08-04T17:17:27.862Z"
   },
   {
    "duration": 81,
    "start_time": "2021-08-04T17:17:47.594Z"
   },
   {
    "duration": 12,
    "start_time": "2021-08-04T17:17:56.813Z"
   },
   {
    "duration": 10,
    "start_time": "2021-08-04T17:18:35.780Z"
   },
   {
    "duration": 8,
    "start_time": "2021-08-04T17:18:49.364Z"
   },
   {
    "duration": 6,
    "start_time": "2021-08-04T17:19:09.585Z"
   },
   {
    "duration": 330,
    "start_time": "2021-08-04T17:19:53.369Z"
   },
   {
    "duration": 5,
    "start_time": "2021-08-04T17:20:56.666Z"
   },
   {
    "duration": 5,
    "start_time": "2021-08-04T17:22:42.089Z"
   },
   {
    "duration": 6,
    "start_time": "2021-08-04T17:23:02.638Z"
   },
   {
    "duration": 290,
    "start_time": "2021-08-04T17:23:14.920Z"
   },
   {
    "duration": 1749,
    "start_time": "2021-08-04T17:24:16.638Z"
   },
   {
    "duration": 10,
    "start_time": "2021-08-04T17:24:50.499Z"
   },
   {
    "duration": 1806,
    "start_time": "2021-08-04T17:25:08.105Z"
   },
   {
    "duration": 1159,
    "start_time": "2021-08-04T17:25:26.442Z"
   },
   {
    "duration": 10,
    "start_time": "2021-08-04T17:25:44.105Z"
   },
   {
    "duration": 9,
    "start_time": "2021-08-04T17:25:51.239Z"
   },
   {
    "duration": 348,
    "start_time": "2021-08-04T17:26:01.747Z"
   },
   {
    "duration": 9,
    "start_time": "2021-08-04T17:29:21.287Z"
   },
   {
    "duration": 9,
    "start_time": "2021-08-04T17:30:37.891Z"
   },
   {
    "duration": 20,
    "start_time": "2021-08-04T17:30:43.468Z"
   },
   {
    "duration": 281,
    "start_time": "2021-08-04T17:31:07.727Z"
   },
   {
    "duration": 31,
    "start_time": "2021-08-04T17:31:13.740Z"
   },
   {
    "duration": 12,
    "start_time": "2021-08-04T17:31:29.437Z"
   },
   {
    "duration": 12,
    "start_time": "2021-08-04T17:32:31.077Z"
   },
   {
    "duration": 6,
    "start_time": "2021-08-04T17:32:34.845Z"
   },
   {
    "duration": 12,
    "start_time": "2021-08-04T17:32:35.662Z"
   },
   {
    "duration": 6,
    "start_time": "2021-08-04T17:35:53.341Z"
   },
   {
    "duration": 6,
    "start_time": "2021-08-04T17:36:05.220Z"
   },
   {
    "duration": 626,
    "start_time": "2021-08-04T17:39:30.907Z"
   },
   {
    "duration": 328,
    "start_time": "2021-08-04T17:39:59.802Z"
   },
   {
    "duration": 298,
    "start_time": "2021-08-04T17:45:57.118Z"
   },
   {
    "duration": 1684,
    "start_time": "2021-08-04T17:45:55.734Z"
   },
   {
    "duration": 472,
    "start_time": "2021-08-04T17:45:57.782Z"
   },
   {
    "duration": 11,
    "start_time": "2021-08-04T17:46:00.027Z"
   },
   {
    "duration": 276,
    "start_time": "2021-08-04T17:46:02.112Z"
   },
   {
    "duration": 274,
    "start_time": "2021-08-04T17:46:05.813Z"
   },
   {
    "duration": 6,
    "start_time": "2021-08-04T17:46:23.154Z"
   },
   {
    "duration": 5,
    "start_time": "2021-08-04T17:46:24.374Z"
   },
   {
    "duration": 11,
    "start_time": "2021-08-04T17:46:25.904Z"
   },
   {
    "duration": 5,
    "start_time": "2021-08-04T17:46:26.854Z"
   },
   {
    "duration": 11,
    "start_time": "2021-08-04T17:46:27.360Z"
   },
   {
    "duration": 5,
    "start_time": "2021-08-04T17:46:55.377Z"
   },
   {
    "duration": 6,
    "start_time": "2021-08-04T17:46:55.652Z"
   },
   {
    "duration": 12,
    "start_time": "2021-08-04T17:46:55.826Z"
   },
   {
    "duration": 6,
    "start_time": "2021-08-04T17:46:56.085Z"
   },
   {
    "duration": 12,
    "start_time": "2021-08-04T17:46:57.046Z"
   },
   {
    "duration": 265,
    "start_time": "2021-08-04T17:47:57.781Z"
   },
   {
    "duration": 147,
    "start_time": "2021-08-04T17:48:11.520Z"
   },
   {
    "duration": 11,
    "start_time": "2021-08-04T17:49:31.727Z"
   },
   {
    "duration": 11,
    "start_time": "2021-08-04T17:49:46.459Z"
   },
   {
    "duration": 11,
    "start_time": "2021-08-04T17:49:57.453Z"
   },
   {
    "duration": 11,
    "start_time": "2021-08-04T17:50:47.901Z"
   },
   {
    "duration": 18,
    "start_time": "2021-08-04T17:52:31.057Z"
   },
   {
    "duration": 7,
    "start_time": "2021-08-04T17:52:31.663Z"
   },
   {
    "duration": 15,
    "start_time": "2021-08-04T17:52:32.473Z"
   },
   {
    "duration": 7,
    "start_time": "2021-08-04T17:54:29.102Z"
   },
   {
    "duration": 15,
    "start_time": "2021-08-04T17:54:29.542Z"
   },
   {
    "duration": 298,
    "start_time": "2021-08-04T17:54:56.403Z"
   },
   {
    "duration": 6775,
    "start_time": "2021-08-04T17:55:08.622Z"
   },
   {
    "duration": 6,
    "start_time": "2021-08-04T17:55:20.225Z"
   },
   {
    "duration": 18,
    "start_time": "2021-08-04T17:56:13.686Z"
   },
   {
    "duration": 8,
    "start_time": "2021-08-04T17:56:14.085Z"
   },
   {
    "duration": 15,
    "start_time": "2021-08-04T17:56:14.618Z"
   },
   {
    "duration": 6,
    "start_time": "2021-08-04T17:56:19.279Z"
   },
   {
    "duration": 5,
    "start_time": "2021-08-04T17:57:20.397Z"
   },
   {
    "duration": 1110,
    "start_time": "2021-08-04T17:57:44.736Z"
   },
   {
    "duration": 1142,
    "start_time": "2021-08-04T17:58:46.870Z"
   },
   {
    "duration": 6,
    "start_time": "2021-08-04T17:58:57.933Z"
   },
   {
    "duration": 1310,
    "start_time": "2021-08-04T18:09:31.716Z"
   },
   {
    "duration": 1120,
    "start_time": "2021-08-04T18:09:58.776Z"
   },
   {
    "duration": 5,
    "start_time": "2021-08-04T18:10:39.861Z"
   },
   {
    "duration": 9,
    "start_time": "2021-08-04T18:11:30.380Z"
   },
   {
    "duration": 12,
    "start_time": "2021-08-04T18:13:02.873Z"
   },
   {
    "duration": 7,
    "start_time": "2021-08-04T18:14:40.145Z"
   },
   {
    "duration": 25,
    "start_time": "2021-08-04T18:14:56.800Z"
   },
   {
    "duration": 10,
    "start_time": "2021-08-04T18:16:49.287Z"
   },
   {
    "duration": 17,
    "start_time": "2021-08-04T18:16:57.444Z"
   },
   {
    "duration": 15,
    "start_time": "2021-08-04T18:20:57.921Z"
   },
   {
    "duration": 286,
    "start_time": "2021-08-04T18:21:59.271Z"
   },
   {
    "duration": 270,
    "start_time": "2021-08-04T18:22:12.642Z"
   },
   {
    "duration": 256,
    "start_time": "2021-08-04T18:22:21.535Z"
   },
   {
    "duration": 273,
    "start_time": "2021-08-04T18:22:58.503Z"
   },
   {
    "duration": 33,
    "start_time": "2021-08-04T18:23:17.546Z"
   },
   {
    "duration": 39,
    "start_time": "2021-08-04T18:24:57.929Z"
   },
   {
    "duration": 415,
    "start_time": "2021-08-04T18:25:37.187Z"
   },
   {
    "duration": 103,
    "start_time": "2021-08-04T18:27:01.354Z"
   },
   {
    "duration": 46,
    "start_time": "2021-08-04T18:27:05.935Z"
   },
   {
    "duration": 6543,
    "start_time": "2021-08-04T18:30:25.268Z"
   },
   {
    "duration": 39,
    "start_time": "2021-08-04T18:30:39.114Z"
   },
   {
    "duration": 24,
    "start_time": "2021-08-04T18:30:53.995Z"
   },
   {
    "duration": 30,
    "start_time": "2021-08-04T18:31:04.639Z"
   },
   {
    "duration": 15,
    "start_time": "2021-08-04T18:31:23.896Z"
   },
   {
    "duration": 16,
    "start_time": "2021-08-04T18:32:10.333Z"
   },
   {
    "duration": 10,
    "start_time": "2021-08-04T18:32:16.704Z"
   },
   {
    "duration": 15,
    "start_time": "2021-08-04T18:32:17.356Z"
   },
   {
    "duration": 27,
    "start_time": "2021-08-04T18:32:44.377Z"
   },
   {
    "duration": 14,
    "start_time": "2021-08-04T18:32:46.222Z"
   },
   {
    "duration": 6,
    "start_time": "2021-08-04T18:35:36.806Z"
   },
   {
    "duration": 15,
    "start_time": "2021-08-04T18:35:56.456Z"
   },
   {
    "duration": 4,
    "start_time": "2021-08-04T18:38:56.541Z"
   },
   {
    "duration": 5,
    "start_time": "2021-08-04T18:39:00.183Z"
   },
   {
    "duration": 7,
    "start_time": "2021-08-04T18:39:08.900Z"
   },
   {
    "duration": 8,
    "start_time": "2021-08-04T18:40:21.101Z"
   },
   {
    "duration": 18,
    "start_time": "2021-08-04T18:42:03.328Z"
   },
   {
    "duration": 18,
    "start_time": "2021-08-04T18:42:13.149Z"
   },
   {
    "duration": 19,
    "start_time": "2021-08-04T18:42:13.851Z"
   },
   {
    "duration": 7,
    "start_time": "2021-08-04T18:42:32.344Z"
   },
   {
    "duration": 281,
    "start_time": "2021-08-04T18:43:17.465Z"
   },
   {
    "duration": 287,
    "start_time": "2021-08-04T18:43:44.397Z"
   },
   {
    "duration": 900,
    "start_time": "2021-08-04T18:43:57.674Z"
   },
   {
    "duration": 273,
    "start_time": "2021-08-04T18:44:12.451Z"
   },
   {
    "duration": 431,
    "start_time": "2021-08-04T18:44:19.155Z"
   },
   {
    "duration": 385,
    "start_time": "2021-08-04T18:44:38.436Z"
   },
   {
    "duration": 30,
    "start_time": "2021-08-04T18:44:58.030Z"
   },
   {
    "duration": 561,
    "start_time": "2021-08-04T18:49:05.706Z"
   },
   {
    "duration": 532,
    "start_time": "2021-08-04T18:49:25.094Z"
   },
   {
    "duration": 297,
    "start_time": "2021-08-04T18:49:35.997Z"
   },
   {
    "duration": 284,
    "start_time": "2021-08-04T18:49:40.491Z"
   },
   {
    "duration": 278,
    "start_time": "2021-08-04T18:49:55.666Z"
   },
   {
    "duration": 294,
    "start_time": "2021-08-04T18:50:21.582Z"
   },
   {
    "duration": 14,
    "start_time": "2021-08-04T19:16:03.922Z"
   },
   {
    "duration": 3780,
    "start_time": "2021-08-04T19:20:05.732Z"
   },
   {
    "duration": 6,
    "start_time": "2021-08-04T19:28:18.812Z"
   },
   {
    "duration": 644,
    "start_time": "2021-08-04T19:31:46.065Z"
   },
   {
    "duration": 19,
    "start_time": "2021-08-04T19:32:18.025Z"
   },
   {
    "duration": 20,
    "start_time": "2021-08-04T19:32:33.878Z"
   },
   {
    "duration": 250,
    "start_time": "2021-08-04T19:32:44.642Z"
   },
   {
    "duration": 604,
    "start_time": "2021-08-04T19:33:34.569Z"
   },
   {
    "duration": 1731,
    "start_time": "2021-08-04T19:33:50.810Z"
   },
   {
    "duration": 387,
    "start_time": "2021-08-04T19:33:55.476Z"
   },
   {
    "duration": 584,
    "start_time": "2021-08-04T19:35:57.538Z"
   },
   {
    "duration": 605,
    "start_time": "2021-08-04T19:36:50.016Z"
   },
   {
    "duration": 628,
    "start_time": "2021-08-04T19:36:55.692Z"
   },
   {
    "duration": 703,
    "start_time": "2021-08-04T19:37:44.783Z"
   },
   {
    "duration": 690,
    "start_time": "2021-08-04T19:38:04.740Z"
   },
   {
    "duration": 705,
    "start_time": "2021-08-04T19:38:55.369Z"
   },
   {
    "duration": 697,
    "start_time": "2021-08-04T19:39:00.951Z"
   },
   {
    "duration": 705,
    "start_time": "2021-08-04T19:39:27.826Z"
   },
   {
    "duration": 763,
    "start_time": "2021-08-04T19:41:25.924Z"
   },
   {
    "duration": 2940,
    "start_time": "2021-08-04T19:41:31.366Z"
   },
   {
    "duration": 689,
    "start_time": "2021-08-04T19:41:38.902Z"
   },
   {
    "duration": 675,
    "start_time": "2021-08-04T19:41:59.317Z"
   },
   {
    "duration": 693,
    "start_time": "2021-08-04T19:42:05.443Z"
   },
   {
    "duration": 632,
    "start_time": "2021-08-04T19:42:11.780Z"
   },
   {
    "duration": 626,
    "start_time": "2021-08-04T19:42:24.090Z"
   },
   {
    "duration": 9,
    "start_time": "2021-08-04T19:46:06.304Z"
   },
   {
    "duration": 689,
    "start_time": "2021-08-04T19:46:16.610Z"
   },
   {
    "duration": 15,
    "start_time": "2021-08-04T19:47:01.791Z"
   },
   {
    "duration": 12,
    "start_time": "2021-08-04T19:48:40.917Z"
   },
   {
    "duration": 3806,
    "start_time": "2021-08-04T19:50:00.911Z"
   },
   {
    "duration": 13,
    "start_time": "2021-08-04T19:51:44.076Z"
   },
   {
    "duration": 3663,
    "start_time": "2021-08-04T19:51:45.119Z"
   },
   {
    "duration": 6446,
    "start_time": "2021-08-04T19:52:28.240Z"
   },
   {
    "duration": 782,
    "start_time": "2021-08-04T19:52:45.744Z"
   },
   {
    "duration": 651,
    "start_time": "2021-08-04T19:53:54.795Z"
   },
   {
    "duration": 93,
    "start_time": "2021-08-04T20:08:05.381Z"
   },
   {
    "duration": 99,
    "start_time": "2021-08-04T20:08:22.121Z"
   },
   {
    "duration": 119,
    "start_time": "2021-08-04T20:08:35.710Z"
   },
   {
    "duration": 6,
    "start_time": "2021-08-04T20:08:43.400Z"
   },
   {
    "duration": 6,
    "start_time": "2021-08-04T20:08:55.744Z"
   },
   {
    "duration": 6,
    "start_time": "2021-08-04T20:08:58.320Z"
   },
   {
    "duration": 20,
    "start_time": "2021-08-04T20:10:50.363Z"
   },
   {
    "duration": 24,
    "start_time": "2021-08-04T20:11:43.721Z"
   },
   {
    "duration": 8,
    "start_time": "2021-08-04T20:14:47.671Z"
   },
   {
    "duration": 19,
    "start_time": "2021-08-04T20:14:48.505Z"
   },
   {
    "duration": 305,
    "start_time": "2021-08-04T20:17:08.451Z"
   },
   {
    "duration": 278,
    "start_time": "2021-08-04T20:17:49.352Z"
   },
   {
    "duration": 38,
    "start_time": "2021-08-04T20:18:07.181Z"
   },
   {
    "duration": 28,
    "start_time": "2021-08-04T20:18:09.198Z"
   },
   {
    "duration": 19,
    "start_time": "2021-08-04T20:19:21.290Z"
   },
   {
    "duration": 5,
    "start_time": "2021-08-04T20:20:52.090Z"
   },
   {
    "duration": 5,
    "start_time": "2021-08-04T20:21:39.787Z"
   },
   {
    "duration": 5,
    "start_time": "2021-08-04T20:21:47.432Z"
   },
   {
    "duration": 5,
    "start_time": "2021-08-04T20:22:19.729Z"
   },
   {
    "duration": 5,
    "start_time": "2021-08-04T20:22:47.804Z"
   },
   {
    "duration": 7,
    "start_time": "2021-08-04T20:23:02.013Z"
   },
   {
    "duration": 12,
    "start_time": "2021-08-04T20:24:39.501Z"
   },
   {
    "duration": 12,
    "start_time": "2021-08-04T20:24:49.646Z"
   },
   {
    "duration": 13,
    "start_time": "2021-08-04T20:24:54.834Z"
   },
   {
    "duration": 13,
    "start_time": "2021-08-04T20:25:08.979Z"
   },
   {
    "duration": 35,
    "start_time": "2021-08-04T20:25:13.702Z"
   },
   {
    "duration": 24,
    "start_time": "2021-08-04T20:25:29.001Z"
   },
   {
    "duration": 34,
    "start_time": "2021-08-04T20:25:53.221Z"
   },
   {
    "duration": 12,
    "start_time": "2021-08-04T20:26:12.766Z"
   },
   {
    "duration": 37,
    "start_time": "2021-08-04T20:26:14.150Z"
   },
   {
    "duration": 22,
    "start_time": "2021-08-04T20:26:27.742Z"
   },
   {
    "duration": 33,
    "start_time": "2021-08-04T20:26:42.913Z"
   },
   {
    "duration": 12,
    "start_time": "2021-08-04T20:27:13.384Z"
   },
   {
    "duration": 5,
    "start_time": "2021-08-04T20:27:18.685Z"
   },
   {
    "duration": 5,
    "start_time": "2021-08-04T20:27:19.584Z"
   },
   {
    "duration": 11,
    "start_time": "2021-08-04T20:27:20.804Z"
   },
   {
    "duration": 32,
    "start_time": "2021-08-04T20:27:21.392Z"
   },
   {
    "duration": 22,
    "start_time": "2021-08-04T20:27:29.132Z"
   },
   {
    "duration": 624,
    "start_time": "2021-08-04T20:31:13.803Z"
   },
   {
    "duration": 278,
    "start_time": "2021-08-04T20:31:53.650Z"
   },
   {
    "duration": 263,
    "start_time": "2021-08-04T20:32:03.076Z"
   },
   {
    "duration": 34,
    "start_time": "2021-08-04T20:33:48.502Z"
   },
   {
    "duration": 510,
    "start_time": "2021-08-04T20:34:01.613Z"
   },
   {
    "duration": 612,
    "start_time": "2021-08-04T20:34:45.063Z"
   },
   {
    "duration": 765,
    "start_time": "2021-08-04T20:35:26.313Z"
   },
   {
    "duration": 1263,
    "start_time": "2021-08-04T20:37:21.446Z"
   },
   {
    "duration": 88,
    "start_time": "2021-08-04T20:39:37.907Z"
   },
   {
    "duration": 1168,
    "start_time": "2021-08-04T20:39:50.317Z"
   },
   {
    "duration": 1285,
    "start_time": "2021-08-04T20:45:10.325Z"
   },
   {
    "duration": 13,
    "start_time": "2021-08-04T21:01:18.458Z"
   },
   {
    "duration": 11,
    "start_time": "2021-08-04T21:02:03.390Z"
   },
   {
    "duration": 5,
    "start_time": "2021-08-04T21:02:51.830Z"
   },
   {
    "duration": 7,
    "start_time": "2021-08-04T21:03:02.491Z"
   },
   {
    "duration": 8,
    "start_time": "2021-08-04T21:04:06.711Z"
   },
   {
    "duration": 1205,
    "start_time": "2021-08-04T21:05:05.343Z"
   },
   {
    "duration": 6,
    "start_time": "2021-08-04T21:08:40.271Z"
   },
   {
    "duration": 267,
    "start_time": "2021-08-04T21:08:54.420Z"
   },
   {
    "duration": 5,
    "start_time": "2021-08-04T21:09:10.322Z"
   },
   {
    "duration": 6,
    "start_time": "2021-08-04T21:09:28.028Z"
   },
   {
    "duration": 14,
    "start_time": "2021-08-04T21:10:08.812Z"
   },
   {
    "duration": 13,
    "start_time": "2021-08-04T21:10:16.644Z"
   },
   {
    "duration": 37,
    "start_time": "2021-08-04T21:10:26.353Z"
   },
   {
    "duration": 14,
    "start_time": "2021-08-04T21:11:42.756Z"
   },
   {
    "duration": 12,
    "start_time": "2021-08-04T21:11:47.522Z"
   },
   {
    "duration": 171,
    "start_time": "2021-08-04T21:11:58.665Z"
   },
   {
    "duration": 12,
    "start_time": "2021-08-04T21:12:02.774Z"
   },
   {
    "duration": 7,
    "start_time": "2021-08-04T21:12:33.444Z"
   },
   {
    "duration": 527,
    "start_time": "2021-08-04T21:12:47.741Z"
   },
   {
    "duration": 546,
    "start_time": "2021-08-04T21:13:52.470Z"
   },
   {
    "duration": 522,
    "start_time": "2021-08-04T21:14:02.434Z"
   },
   {
    "duration": 553,
    "start_time": "2021-08-04T21:14:26.357Z"
   },
   {
    "duration": 545,
    "start_time": "2021-08-04T21:16:22.886Z"
   },
   {
    "duration": 42,
    "start_time": "2021-08-04T21:17:27.757Z"
   },
   {
    "duration": 23,
    "start_time": "2021-08-04T21:19:46.800Z"
   },
   {
    "duration": 25,
    "start_time": "2021-08-04T21:20:38.873Z"
   },
   {
    "duration": 24,
    "start_time": "2021-08-04T21:20:42.124Z"
   },
   {
    "duration": 23,
    "start_time": "2021-08-04T21:21:43.439Z"
   },
   {
    "duration": 303,
    "start_time": "2021-08-04T21:27:24.349Z"
   },
   {
    "duration": 17,
    "start_time": "2021-08-04T21:27:29.471Z"
   },
   {
    "duration": 28,
    "start_time": "2021-08-04T21:30:18.981Z"
   },
   {
    "duration": 101,
    "start_time": "2021-08-04T21:30:44.290Z"
   },
   {
    "duration": 6,
    "start_time": "2021-08-04T21:30:53.275Z"
   },
   {
    "duration": 7,
    "start_time": "2021-08-04T21:31:08.539Z"
   },
   {
    "duration": 6,
    "start_time": "2021-08-04T21:31:33.027Z"
   },
   {
    "duration": 11,
    "start_time": "2021-08-04T21:31:56.549Z"
   },
   {
    "duration": 466,
    "start_time": "2021-08-04T21:32:20.421Z"
   },
   {
    "duration": 12,
    "start_time": "2021-08-04T21:32:42.014Z"
   },
   {
    "duration": 500,
    "start_time": "2021-08-04T21:33:00.298Z"
   },
   {
    "duration": 401,
    "start_time": "2021-08-04T21:33:11.413Z"
   },
   {
    "duration": 10,
    "start_time": "2021-08-04T21:33:20.631Z"
   },
   {
    "duration": 515,
    "start_time": "2021-08-04T21:33:35.317Z"
   },
   {
    "duration": 713,
    "start_time": "2021-08-04T21:33:40.185Z"
   },
   {
    "duration": 6,
    "start_time": "2021-08-04T21:34:46.129Z"
   },
   {
    "duration": 288,
    "start_time": "2021-08-04T21:35:04.980Z"
   },
   {
    "duration": 264,
    "start_time": "2021-08-04T21:35:08.427Z"
   },
   {
    "duration": 233,
    "start_time": "2021-08-04T21:35:20.959Z"
   },
   {
    "duration": 289,
    "start_time": "2021-08-04T21:35:29.225Z"
   },
   {
    "duration": 10,
    "start_time": "2021-08-04T21:35:37.756Z"
   },
   {
    "duration": 8,
    "start_time": "2021-08-04T21:35:49.129Z"
   },
   {
    "duration": 402,
    "start_time": "2021-08-04T21:36:12.957Z"
   },
   {
    "duration": 461,
    "start_time": "2021-08-04T21:36:21.202Z"
   },
   {
    "duration": 6,
    "start_time": "2021-08-04T21:36:32.119Z"
   },
   {
    "duration": 5,
    "start_time": "2021-08-04T21:36:52.334Z"
   },
   {
    "duration": 1005,
    "start_time": "2021-08-04T21:37:10.098Z"
   },
   {
    "duration": 5,
    "start_time": "2021-08-04T21:37:21.986Z"
   },
   {
    "duration": 5,
    "start_time": "2021-08-04T21:38:06.926Z"
   },
   {
    "duration": 6,
    "start_time": "2021-08-04T21:38:07.215Z"
   },
   {
    "duration": 24,
    "start_time": "2021-08-04T21:38:07.598Z"
   },
   {
    "duration": 18,
    "start_time": "2021-08-04T21:38:08.463Z"
   },
   {
    "duration": 11,
    "start_time": "2021-08-04T21:38:33.525Z"
   },
   {
    "duration": 371,
    "start_time": "2021-08-04T21:38:41.101Z"
   },
   {
    "duration": 10,
    "start_time": "2021-08-04T21:38:45.125Z"
   },
   {
    "duration": 9,
    "start_time": "2021-08-04T21:40:14.082Z"
   },
   {
    "duration": 6,
    "start_time": "2021-08-04T21:40:14.094Z"
   },
   {
    "duration": 5,
    "start_time": "2021-08-04T21:40:14.104Z"
   },
   {
    "duration": 216,
    "start_time": "2021-08-04T21:40:14.112Z"
   },
   {
    "duration": 6,
    "start_time": "2021-08-04T21:40:14.330Z"
   },
   {
    "duration": 78,
    "start_time": "2021-08-04T21:40:14.339Z"
   },
   {
    "duration": 5,
    "start_time": "2021-08-04T21:40:14.420Z"
   },
   {
    "duration": 14,
    "start_time": "2021-08-04T21:40:14.428Z"
   },
   {
    "duration": 44,
    "start_time": "2021-08-04T21:40:14.445Z"
   },
   {
    "duration": 9,
    "start_time": "2021-08-04T21:40:14.492Z"
   },
   {
    "duration": 4,
    "start_time": "2021-08-04T21:40:14.503Z"
   },
   {
    "duration": 11,
    "start_time": "2021-08-04T21:40:14.509Z"
   },
   {
    "duration": 9,
    "start_time": "2021-08-04T21:40:14.522Z"
   },
   {
    "duration": 52,
    "start_time": "2021-08-04T21:40:14.533Z"
   },
   {
    "duration": 11,
    "start_time": "2021-08-04T21:40:14.587Z"
   },
   {
    "duration": 7,
    "start_time": "2021-08-04T21:40:14.601Z"
   },
   {
    "duration": 1209,
    "start_time": "2021-08-04T21:40:14.611Z"
   },
   {
    "duration": 11,
    "start_time": "2021-08-04T21:40:15.822Z"
   },
   {
    "duration": 376,
    "start_time": "2021-08-04T21:40:15.835Z"
   },
   {
    "duration": 12,
    "start_time": "2021-08-04T21:40:16.214Z"
   },
   {
    "duration": 6,
    "start_time": "2021-08-04T21:40:16.231Z"
   },
   {
    "duration": 5,
    "start_time": "2021-08-04T21:40:16.241Z"
   },
   {
    "duration": 12,
    "start_time": "2021-08-04T21:40:16.282Z"
   },
   {
    "duration": 7,
    "start_time": "2021-08-04T21:40:16.296Z"
   },
   {
    "duration": 12,
    "start_time": "2021-08-04T21:40:16.305Z"
   },
   {
    "duration": 11,
    "start_time": "2021-08-04T21:40:16.319Z"
   },
   {
    "duration": 60,
    "start_time": "2021-08-04T21:40:16.332Z"
   },
   {
    "duration": 7,
    "start_time": "2021-08-04T21:40:16.394Z"
   },
   {
    "duration": 7,
    "start_time": "2021-08-04T21:40:16.403Z"
   },
   {
    "duration": 16,
    "start_time": "2021-08-04T21:40:16.412Z"
   },
   {
    "duration": 1411,
    "start_time": "2021-08-04T21:40:16.430Z"
   },
   {
    "duration": 9,
    "start_time": "2021-08-04T21:40:17.843Z"
   },
   {
    "duration": 29,
    "start_time": "2021-08-04T21:40:17.854Z"
   },
   {
    "duration": 18,
    "start_time": "2021-08-04T21:40:17.886Z"
   },
   {
    "duration": 29,
    "start_time": "2021-08-04T21:40:17.907Z"
   },
   {
    "duration": 14,
    "start_time": "2021-08-04T21:40:17.938Z"
   },
   {
    "duration": 40,
    "start_time": "2021-08-04T21:40:17.954Z"
   },
   {
    "duration": 4,
    "start_time": "2021-08-04T21:40:17.997Z"
   },
   {
    "duration": 7,
    "start_time": "2021-08-04T21:40:18.003Z"
   },
   {
    "duration": 7,
    "start_time": "2021-08-04T21:40:18.013Z"
   },
   {
    "duration": 65,
    "start_time": "2021-08-04T21:40:18.022Z"
   },
   {
    "duration": 6,
    "start_time": "2021-08-04T21:40:18.090Z"
   },
   {
    "duration": 33,
    "start_time": "2021-08-04T21:40:18.098Z"
   },
   {
    "duration": 12,
    "start_time": "2021-08-04T21:40:18.134Z"
   },
   {
    "duration": 3829,
    "start_time": "2021-08-04T21:40:18.148Z"
   },
   {
    "duration": 1081,
    "start_time": "2021-08-04T21:40:21.979Z"
   },
   {
    "duration": 659,
    "start_time": "2021-08-04T21:40:23.063Z"
   },
   {
    "duration": 8,
    "start_time": "2021-08-04T21:40:23.724Z"
   },
   {
    "duration": 672,
    "start_time": "2021-08-04T21:40:23.734Z"
   },
   {
    "duration": 13,
    "start_time": "2021-08-04T21:40:24.409Z"
   },
   {
    "duration": 3772,
    "start_time": "2021-08-04T21:40:24.424Z"
   },
   {
    "duration": 741,
    "start_time": "2021-08-04T21:40:28.198Z"
   },
   {
    "duration": 8,
    "start_time": "2021-08-04T21:40:28.942Z"
   },
   {
    "duration": 31,
    "start_time": "2021-08-04T21:40:28.952Z"
   },
   {
    "duration": 27,
    "start_time": "2021-08-04T21:40:28.986Z"
   },
   {
    "duration": 70,
    "start_time": "2021-08-04T21:40:29.016Z"
   },
   {
    "duration": 28,
    "start_time": "2021-08-04T21:40:29.089Z"
   },
   {
    "duration": 5,
    "start_time": "2021-08-04T21:40:29.120Z"
   },
   {
    "duration": 6,
    "start_time": "2021-08-04T21:40:29.128Z"
   },
   {
    "duration": 43,
    "start_time": "2021-08-04T21:40:29.142Z"
   },
   {
    "duration": 14,
    "start_time": "2021-08-04T21:40:29.188Z"
   },
   {
    "duration": 25,
    "start_time": "2021-08-04T21:40:29.205Z"
   },
   {
    "duration": 1219,
    "start_time": "2021-08-04T21:40:29.233Z"
   },
   {
    "duration": 10,
    "start_time": "2021-08-04T21:40:30.455Z"
   },
   {
    "duration": 4,
    "start_time": "2021-08-04T21:40:30.483Z"
   },
   {
    "duration": 16,
    "start_time": "2021-08-04T21:40:30.489Z"
   },
   {
    "duration": 17,
    "start_time": "2021-08-04T21:40:30.507Z"
   },
   {
    "duration": 1440,
    "start_time": "2021-08-04T21:40:30.526Z"
   },
   {
    "duration": 6,
    "start_time": "2021-08-04T21:40:31.968Z"
   },
   {
    "duration": 15,
    "start_time": "2021-08-04T21:40:31.983Z"
   },
   {
    "duration": 23,
    "start_time": "2021-08-04T21:40:32.000Z"
   },
   {
    "duration": 8,
    "start_time": "2021-08-04T21:40:32.026Z"
   },
   {
    "duration": 569,
    "start_time": "2021-08-04T21:40:32.036Z"
   },
   {
    "duration": 23,
    "start_time": "2021-08-04T21:40:32.607Z"
   },
   {
    "duration": 30,
    "start_time": "2021-08-04T21:40:32.633Z"
   },
   {
    "duration": 18,
    "start_time": "2021-08-04T21:40:32.683Z"
   },
   {
    "duration": 32,
    "start_time": "2021-08-04T21:40:32.704Z"
   },
   {
    "duration": 13,
    "start_time": "2021-08-04T21:40:32.739Z"
   },
   {
    "duration": 44,
    "start_time": "2021-08-04T21:40:32.756Z"
   },
   {
    "duration": 18,
    "start_time": "2021-08-04T21:40:32.803Z"
   },
   {
    "duration": 13990,
    "start_time": "2021-08-04T21:44:48.258Z"
   },
   {
    "duration": 18793,
    "start_time": "2021-08-04T21:45:27.128Z"
   },
   {
    "duration": 10895,
    "start_time": "2021-08-04T21:47:06.021Z"
   },
   {
    "duration": 33,
    "start_time": "2021-08-04T21:48:26.686Z"
   },
   {
    "duration": 18,
    "start_time": "2021-08-04T21:48:27.368Z"
   },
   {
    "duration": 7,
    "start_time": "2021-08-04T21:48:34.789Z"
   },
   {
    "duration": 27,
    "start_time": "2021-08-04T21:48:35.273Z"
   },
   {
    "duration": 20,
    "start_time": "2021-08-04T21:48:36.453Z"
   },
   {
    "duration": 18003,
    "start_time": "2021-08-04T21:49:02.845Z"
   },
   {
    "duration": 11638,
    "start_time": "2021-08-04T21:49:20.852Z"
   },
   {
    "duration": 135,
    "start_time": "2021-08-04T21:51:42.703Z"
   },
   {
    "duration": 18382,
    "start_time": "2021-08-04T21:51:48.089Z"
   },
   {
    "duration": 17040,
    "start_time": "2021-08-04T21:52:10.024Z"
   },
   {
    "duration": 9,
    "start_time": "2021-08-04T21:54:14.775Z"
   },
   {
    "duration": 6,
    "start_time": "2021-08-04T21:54:14.787Z"
   },
   {
    "duration": 5,
    "start_time": "2021-08-04T21:54:14.797Z"
   },
   {
    "duration": 175,
    "start_time": "2021-08-04T21:54:14.804Z"
   },
   {
    "duration": 5,
    "start_time": "2021-08-04T21:54:14.982Z"
   },
   {
    "duration": 55,
    "start_time": "2021-08-04T21:54:14.990Z"
   },
   {
    "duration": 37,
    "start_time": "2021-08-04T21:54:15.048Z"
   },
   {
    "duration": 231,
    "start_time": "2021-08-04T21:54:15.089Z"
   },
   {
    "duration": 6,
    "start_time": "2021-08-04T21:54:15.323Z"
   },
   {
    "duration": 10,
    "start_time": "2021-08-04T21:54:15.332Z"
   },
   {
    "duration": 4,
    "start_time": "2021-08-04T21:54:15.344Z"
   },
   {
    "duration": 40,
    "start_time": "2021-08-04T21:54:15.350Z"
   },
   {
    "duration": 12,
    "start_time": "2021-08-04T21:54:15.393Z"
   },
   {
    "duration": 9,
    "start_time": "2021-08-04T21:54:15.408Z"
   },
   {
    "duration": 10,
    "start_time": "2021-08-04T21:54:15.419Z"
   },
   {
    "duration": 8,
    "start_time": "2021-08-04T21:54:15.432Z"
   },
   {
    "duration": 1281,
    "start_time": "2021-08-04T21:54:15.442Z"
   },
   {
    "duration": 11,
    "start_time": "2021-08-04T21:54:16.726Z"
   },
   {
    "duration": 375,
    "start_time": "2021-08-04T21:54:16.740Z"
   },
   {
    "duration": 13,
    "start_time": "2021-08-04T21:54:17.117Z"
   },
   {
    "duration": 6,
    "start_time": "2021-08-04T21:54:17.135Z"
   },
   {
    "duration": 37,
    "start_time": "2021-08-04T21:54:17.147Z"
   },
   {
    "duration": 13,
    "start_time": "2021-08-04T21:54:17.187Z"
   },
   {
    "duration": 8,
    "start_time": "2021-08-04T21:54:17.203Z"
   },
   {
    "duration": 12,
    "start_time": "2021-08-04T21:54:17.213Z"
   },
   {
    "duration": 13,
    "start_time": "2021-08-04T21:54:17.228Z"
   },
   {
    "duration": 28,
    "start_time": "2021-08-04T21:54:17.283Z"
   },
   {
    "duration": 6,
    "start_time": "2021-08-04T21:54:17.314Z"
   },
   {
    "duration": 9,
    "start_time": "2021-08-04T21:54:17.322Z"
   },
   {
    "duration": 53,
    "start_time": "2021-08-04T21:54:17.334Z"
   },
   {
    "duration": 1609,
    "start_time": "2021-08-04T21:54:17.391Z"
   },
   {
    "duration": 9,
    "start_time": "2021-08-04T21:54:19.003Z"
   },
   {
    "duration": 17,
    "start_time": "2021-08-04T21:54:19.014Z"
   },
   {
    "duration": 17,
    "start_time": "2021-08-04T21:54:19.034Z"
   },
   {
    "duration": 53,
    "start_time": "2021-08-04T21:54:19.054Z"
   },
   {
    "duration": 15,
    "start_time": "2021-08-04T21:54:19.109Z"
   },
   {
    "duration": 15,
    "start_time": "2021-08-04T21:54:19.126Z"
   },
   {
    "duration": 41,
    "start_time": "2021-08-04T21:54:19.144Z"
   },
   {
    "duration": 8,
    "start_time": "2021-08-04T21:54:19.187Z"
   },
   {
    "duration": 8,
    "start_time": "2021-08-04T21:54:19.198Z"
   },
   {
    "duration": 21,
    "start_time": "2021-08-04T21:54:19.209Z"
   },
   {
    "duration": 6,
    "start_time": "2021-08-04T21:54:19.233Z"
   },
   {
    "duration": 32,
    "start_time": "2021-08-04T21:54:19.282Z"
   },
   {
    "duration": 12,
    "start_time": "2021-08-04T21:54:19.317Z"
   },
   {
    "duration": 4289,
    "start_time": "2021-08-04T21:54:19.331Z"
   },
   {
    "duration": 719,
    "start_time": "2021-08-04T21:54:23.623Z"
   },
   {
    "duration": 667,
    "start_time": "2021-08-04T21:54:24.344Z"
   },
   {
    "duration": 8,
    "start_time": "2021-08-04T21:54:25.014Z"
   },
   {
    "duration": 690,
    "start_time": "2021-08-04T21:54:25.025Z"
   },
   {
    "duration": 12,
    "start_time": "2021-08-04T21:54:25.717Z"
   },
   {
    "duration": 3857,
    "start_time": "2021-08-04T21:54:25.732Z"
   },
   {
    "duration": 672,
    "start_time": "2021-08-04T21:54:29.591Z"
   },
   {
    "duration": 6,
    "start_time": "2021-08-04T21:54:30.265Z"
   },
   {
    "duration": 9,
    "start_time": "2021-08-04T21:54:30.283Z"
   },
   {
    "duration": 29,
    "start_time": "2021-08-04T21:54:30.294Z"
   },
   {
    "duration": 62,
    "start_time": "2021-08-04T21:54:30.326Z"
   },
   {
    "duration": 22,
    "start_time": "2021-08-04T21:54:30.391Z"
   },
   {
    "duration": 16,
    "start_time": "2021-08-04T21:54:30.416Z"
   },
   {
    "duration": 10,
    "start_time": "2021-08-04T21:54:30.435Z"
   },
   {
    "duration": 6,
    "start_time": "2021-08-04T21:54:30.483Z"
   },
   {
    "duration": 18,
    "start_time": "2021-08-04T21:54:30.493Z"
   },
   {
    "duration": 28,
    "start_time": "2021-08-04T21:54:30.514Z"
   },
   {
    "duration": 1239,
    "start_time": "2021-08-04T21:54:30.545Z"
   },
   {
    "duration": 11,
    "start_time": "2021-08-04T21:54:31.786Z"
   },
   {
    "duration": 6,
    "start_time": "2021-08-04T21:54:31.799Z"
   },
   {
    "duration": 12,
    "start_time": "2021-08-04T21:54:31.807Z"
   },
   {
    "duration": 10,
    "start_time": "2021-08-04T21:54:31.822Z"
   },
   {
    "duration": 1396,
    "start_time": "2021-08-04T21:54:31.834Z"
   },
   {
    "duration": 6,
    "start_time": "2021-08-04T21:54:33.233Z"
   },
   {
    "duration": 5,
    "start_time": "2021-08-04T21:54:33.241Z"
   },
   {
    "duration": 44,
    "start_time": "2021-08-04T21:54:33.248Z"
   },
   {
    "duration": 6,
    "start_time": "2021-08-04T21:54:33.295Z"
   },
   {
    "duration": 535,
    "start_time": "2021-08-04T21:54:33.303Z"
   },
   {
    "duration": 42,
    "start_time": "2021-08-04T21:54:33.840Z"
   },
   {
    "duration": 24,
    "start_time": "2021-08-04T21:54:33.885Z"
   },
   {
    "duration": 21,
    "start_time": "2021-08-04T21:54:33.911Z"
   },
   {
    "duration": 52,
    "start_time": "2021-08-04T21:54:33.935Z"
   },
   {
    "duration": 9,
    "start_time": "2021-08-04T21:54:33.990Z"
   },
   {
    "duration": 33,
    "start_time": "2021-08-04T21:54:34.001Z"
   },
   {
    "duration": 17,
    "start_time": "2021-08-04T21:54:34.037Z"
   },
   {
    "duration": 18482,
    "start_time": "2021-08-04T21:54:34.056Z"
   },
   {
    "duration": 11052,
    "start_time": "2021-08-04T21:54:52.540Z"
   },
   {
    "duration": 5,
    "start_time": "2021-08-04T21:55:03.594Z"
   },
   {
    "duration": 7,
    "start_time": "2021-08-04T22:08:44.716Z"
   },
   {
    "duration": 5,
    "start_time": "2021-08-04T22:10:04.969Z"
   },
   {
    "duration": 21,
    "start_time": "2021-08-04T22:10:07.208Z"
   },
   {
    "duration": 21,
    "start_time": "2021-08-04T22:10:18.870Z"
   },
   {
    "duration": 68,
    "start_time": "2021-08-04T22:10:24.886Z"
   },
   {
    "duration": 71,
    "start_time": "2021-08-04T22:10:35.104Z"
   },
   {
    "duration": 72,
    "start_time": "2021-08-04T22:11:40.078Z"
   },
   {
    "duration": 349,
    "start_time": "2021-08-05T12:07:00.807Z"
   },
   {
    "duration": 2741,
    "start_time": "2021-08-05T12:07:07.342Z"
   },
   {
    "duration": 3,
    "start_time": "2021-08-05T12:07:10.086Z"
   },
   {
    "duration": 6,
    "start_time": "2021-08-05T12:07:10.093Z"
   },
   {
    "duration": 175,
    "start_time": "2021-08-05T12:07:10.102Z"
   },
   {
    "duration": 4,
    "start_time": "2021-08-05T12:07:10.279Z"
   },
   {
    "duration": 51,
    "start_time": "2021-08-05T12:07:10.285Z"
   },
   {
    "duration": 7,
    "start_time": "2021-08-05T12:07:10.338Z"
   },
   {
    "duration": 43,
    "start_time": "2021-08-05T12:07:10.349Z"
   },
   {
    "duration": 6,
    "start_time": "2021-08-05T12:07:10.396Z"
   },
   {
    "duration": 8,
    "start_time": "2021-08-05T12:07:10.404Z"
   },
   {
    "duration": 8,
    "start_time": "2021-08-05T12:07:10.415Z"
   },
   {
    "duration": 17,
    "start_time": "2021-08-05T12:07:10.425Z"
   },
   {
    "duration": 10,
    "start_time": "2021-08-05T12:07:10.444Z"
   },
   {
    "duration": 8,
    "start_time": "2021-08-05T12:07:10.483Z"
   },
   {
    "duration": 11,
    "start_time": "2021-08-05T12:07:10.493Z"
   },
   {
    "duration": 8,
    "start_time": "2021-08-05T12:07:10.507Z"
   },
   {
    "duration": 1183,
    "start_time": "2021-08-05T12:07:10.517Z"
   },
   {
    "duration": 8,
    "start_time": "2021-08-05T12:07:11.702Z"
   },
   {
    "duration": 364,
    "start_time": "2021-08-05T12:07:11.712Z"
   },
   {
    "duration": 11,
    "start_time": "2021-08-05T12:07:12.082Z"
   },
   {
    "duration": 12,
    "start_time": "2021-08-05T12:07:12.095Z"
   },
   {
    "duration": 6,
    "start_time": "2021-08-05T12:07:12.109Z"
   },
   {
    "duration": 12,
    "start_time": "2021-08-05T12:07:12.121Z"
   },
   {
    "duration": 5,
    "start_time": "2021-08-05T12:07:12.137Z"
   },
   {
    "duration": 12,
    "start_time": "2021-08-05T12:07:12.183Z"
   },
   {
    "duration": 121,
    "start_time": "2021-08-05T12:07:12.197Z"
   },
   {
    "duration": 17,
    "start_time": "2021-08-05T12:07:12.321Z"
   },
   {
    "duration": 5,
    "start_time": "2021-08-05T12:07:12.340Z"
   },
   {
    "duration": 7,
    "start_time": "2021-08-05T12:07:12.347Z"
   },
   {
    "duration": 15,
    "start_time": "2021-08-05T12:07:12.381Z"
   },
   {
    "duration": 1143,
    "start_time": "2021-08-05T12:07:12.399Z"
   },
   {
    "duration": 11,
    "start_time": "2021-08-05T12:07:13.545Z"
   },
   {
    "duration": 30,
    "start_time": "2021-08-05T12:07:13.559Z"
   },
   {
    "duration": 14,
    "start_time": "2021-08-05T12:07:13.592Z"
   },
   {
    "duration": 30,
    "start_time": "2021-08-05T12:07:13.609Z"
   },
   {
    "duration": 49,
    "start_time": "2021-08-05T12:07:13.642Z"
   },
   {
    "duration": 15,
    "start_time": "2021-08-05T12:07:13.694Z"
   },
   {
    "duration": 4,
    "start_time": "2021-08-05T12:07:13.712Z"
   },
   {
    "duration": 9,
    "start_time": "2021-08-05T12:07:13.719Z"
   },
   {
    "duration": 8,
    "start_time": "2021-08-05T12:07:13.730Z"
   },
   {
    "duration": 19,
    "start_time": "2021-08-05T12:07:13.782Z"
   },
   {
    "duration": 6,
    "start_time": "2021-08-05T12:07:13.804Z"
   },
   {
    "duration": 31,
    "start_time": "2021-08-05T12:07:13.812Z"
   },
   {
    "duration": 40,
    "start_time": "2021-08-05T12:07:13.845Z"
   },
   {
    "duration": 3692,
    "start_time": "2021-08-05T12:07:13.888Z"
   },
   {
    "duration": 634,
    "start_time": "2021-08-05T12:07:17.583Z"
   },
   {
    "duration": 666,
    "start_time": "2021-08-05T12:07:18.219Z"
   },
   {
    "duration": 7,
    "start_time": "2021-08-05T12:07:18.887Z"
   },
   {
    "duration": 637,
    "start_time": "2021-08-05T12:07:18.896Z"
   },
   {
    "duration": 13,
    "start_time": "2021-08-05T12:07:19.535Z"
   },
   {
    "duration": 3768,
    "start_time": "2021-08-05T12:07:19.550Z"
   },
   {
    "duration": 685,
    "start_time": "2021-08-05T12:07:23.320Z"
   },
   {
    "duration": 7,
    "start_time": "2021-08-05T12:07:24.007Z"
   },
   {
    "duration": 8,
    "start_time": "2021-08-05T12:07:24.016Z"
   },
   {
    "duration": 21,
    "start_time": "2021-08-05T12:07:24.026Z"
   },
   {
    "duration": 65,
    "start_time": "2021-08-05T12:07:24.049Z"
   },
   {
    "duration": 21,
    "start_time": "2021-08-05T12:07:24.116Z"
   },
   {
    "duration": 7,
    "start_time": "2021-08-05T12:07:24.139Z"
   },
   {
    "duration": 6,
    "start_time": "2021-08-05T12:07:24.148Z"
   },
   {
    "duration": 5,
    "start_time": "2021-08-05T12:07:24.183Z"
   },
   {
    "duration": 13,
    "start_time": "2021-08-05T12:07:24.191Z"
   },
   {
    "duration": 23,
    "start_time": "2021-08-05T12:07:24.206Z"
   },
   {
    "duration": 1394,
    "start_time": "2021-08-05T12:07:24.232Z"
   },
   {
    "duration": 63,
    "start_time": "2021-08-05T12:07:25.628Z"
   },
   {
    "duration": 9,
    "start_time": "2021-08-05T12:07:25.694Z"
   },
   {
    "duration": 9,
    "start_time": "2021-08-05T12:07:25.705Z"
   },
   {
    "duration": 21,
    "start_time": "2021-08-05T12:07:25.716Z"
   },
   {
    "duration": 1507,
    "start_time": "2021-08-05T12:07:25.789Z"
   },
   {
    "duration": 6,
    "start_time": "2021-08-05T12:07:27.299Z"
   },
   {
    "duration": 7,
    "start_time": "2021-08-05T12:07:27.308Z"
   },
   {
    "duration": 14,
    "start_time": "2021-08-05T12:07:27.318Z"
   },
   {
    "duration": 5,
    "start_time": "2021-08-05T12:07:27.335Z"
   },
   {
    "duration": 676,
    "start_time": "2021-08-05T12:07:27.343Z"
   },
   {
    "duration": 23,
    "start_time": "2021-08-05T12:07:28.022Z"
   },
   {
    "duration": 43,
    "start_time": "2021-08-05T12:07:28.047Z"
   },
   {
    "duration": 17,
    "start_time": "2021-08-05T12:07:28.092Z"
   },
   {
    "duration": 16,
    "start_time": "2021-08-05T12:07:28.112Z"
   },
   {
    "duration": 5,
    "start_time": "2021-08-05T12:07:28.130Z"
   },
   {
    "duration": 59,
    "start_time": "2021-08-05T12:07:28.138Z"
   },
   {
    "duration": 18,
    "start_time": "2021-08-05T12:07:28.199Z"
   },
   {
    "duration": 16792,
    "start_time": "2021-08-05T12:07:28.219Z"
   },
   {
    "duration": 9264,
    "start_time": "2021-08-05T12:07:45.013Z"
   },
   {
    "duration": 6,
    "start_time": "2021-08-05T12:07:54.284Z"
   },
   {
    "duration": 8,
    "start_time": "2021-08-05T12:07:54.292Z"
   },
   {
    "duration": 20,
    "start_time": "2021-08-05T12:07:54.303Z"
   },
   {
    "duration": 78,
    "start_time": "2021-08-05T12:07:54.326Z"
   },
   {
    "duration": 81,
    "start_time": "2021-08-05T12:07:54.406Z"
   },
   {
    "duration": 5,
    "start_time": "2021-08-05T12:07:54.489Z"
   },
   {
    "duration": 7,
    "start_time": "2021-08-05T12:08:40.296Z"
   },
   {
    "duration": 7,
    "start_time": "2021-08-05T12:09:06.163Z"
   },
   {
    "duration": 391,
    "start_time": "2021-08-05T12:09:36.907Z"
   },
   {
    "duration": 5,
    "start_time": "2021-08-05T12:09:41.445Z"
   },
   {
    "duration": 7,
    "start_time": "2021-08-05T12:09:57.273Z"
   },
   {
    "duration": 8,
    "start_time": "2021-08-05T12:09:57.635Z"
   },
   {
    "duration": 12,
    "start_time": "2021-08-05T12:11:13.815Z"
   },
   {
    "duration": 51,
    "start_time": "2021-08-05T12:12:29.252Z"
   },
   {
    "duration": 4,
    "start_time": "2021-08-05T12:18:41.267Z"
   },
   {
    "duration": 3,
    "start_time": "2021-08-05T12:18:43.041Z"
   },
   {
    "duration": 96,
    "start_time": "2021-08-05T12:22:53.124Z"
   },
   {
    "duration": 9,
    "start_time": "2021-08-05T12:23:47.310Z"
   },
   {
    "duration": 9,
    "start_time": "2021-08-05T12:24:20.369Z"
   },
   {
    "duration": 5,
    "start_time": "2021-08-05T12:24:21.793Z"
   },
   {
    "duration": 10,
    "start_time": "2021-08-05T12:31:40.251Z"
   },
   {
    "duration": 206,
    "start_time": "2021-08-05T12:36:18.457Z"
   },
   {
    "duration": 213,
    "start_time": "2021-08-05T12:36:38.472Z"
   },
   {
    "duration": 223,
    "start_time": "2021-08-05T12:37:02.727Z"
   },
   {
    "duration": 1054,
    "start_time": "2021-08-05T12:37:56.032Z"
   },
   {
    "duration": 1601,
    "start_time": "2021-08-05T12:38:25.774Z"
   },
   {
    "duration": 12,
    "start_time": "2021-08-05T12:41:20.873Z"
   },
   {
    "duration": 6,
    "start_time": "2021-08-05T12:41:21.403Z"
   },
   {
    "duration": 6,
    "start_time": "2021-08-05T12:41:26.280Z"
   },
   {
    "duration": 300,
    "start_time": "2021-08-05T12:41:39.568Z"
   },
   {
    "duration": 2337,
    "start_time": "2021-08-05T12:42:16.317Z"
   },
   {
    "duration": 368,
    "start_time": "2021-08-05T12:44:11.401Z"
   },
   {
    "duration": 274,
    "start_time": "2021-08-05T12:44:16.770Z"
   },
   {
    "duration": 13,
    "start_time": "2021-08-05T12:44:23.348Z"
   },
   {
    "duration": 10,
    "start_time": "2021-08-05T12:44:27.360Z"
   },
   {
    "duration": 24832,
    "start_time": "2021-08-05T12:45:41.353Z"
   },
   {
    "duration": 29,
    "start_time": "2021-08-05T12:47:10.756Z"
   },
   {
    "duration": 25575,
    "start_time": "2021-08-05T12:49:30.437Z"
   },
   {
    "duration": 17,
    "start_time": "2021-08-05T12:50:02.788Z"
   },
   {
    "duration": 15,
    "start_time": "2021-08-05T12:52:49.543Z"
   },
   {
    "duration": 271,
    "start_time": "2021-08-05T12:53:59.808Z"
   },
   {
    "duration": 252,
    "start_time": "2021-08-05T12:54:21.169Z"
   },
   {
    "duration": 287,
    "start_time": "2021-08-05T12:54:50.223Z"
   },
   {
    "duration": 22,
    "start_time": "2021-08-05T12:55:30.096Z"
   },
   {
    "duration": 120,
    "start_time": "2021-08-05T12:59:20.864Z"
   },
   {
    "duration": 8,
    "start_time": "2021-08-05T12:59:30.293Z"
   },
   {
    "duration": 295,
    "start_time": "2021-08-05T12:59:54.560Z"
   },
   {
    "duration": 282,
    "start_time": "2021-08-05T12:59:59.658Z"
   },
   {
    "duration": 1597,
    "start_time": "2021-08-05T13:00:11.386Z"
   },
   {
    "duration": 563,
    "start_time": "2021-08-05T13:00:17.302Z"
   },
   {
    "duration": 6,
    "start_time": "2021-08-05T13:01:29.536Z"
   },
   {
    "duration": 360,
    "start_time": "2021-08-05T13:02:05.739Z"
   },
   {
    "duration": 706,
    "start_time": "2021-08-05T13:02:11.342Z"
   },
   {
    "duration": 369,
    "start_time": "2021-08-05T13:02:12.698Z"
   },
   {
    "duration": 45,
    "start_time": "2021-08-05T13:02:21.919Z"
   },
   {
    "duration": 6,
    "start_time": "2021-08-05T13:02:23.334Z"
   },
   {
    "duration": 14,
    "start_time": "2021-08-05T13:04:34.581Z"
   },
   {
    "duration": 15,
    "start_time": "2021-08-05T13:04:53.384Z"
   },
   {
    "duration": 4,
    "start_time": "2021-08-05T13:07:50.014Z"
   },
   {
    "duration": 16,
    "start_time": "2021-08-05T13:07:55.670Z"
   },
   {
    "duration": 3,
    "start_time": "2021-08-05T13:08:10.392Z"
   },
   {
    "duration": 17775,
    "start_time": "2021-08-05T13:09:15.546Z"
   },
   {
    "duration": 13,
    "start_time": "2021-08-05T13:10:12.000Z"
   },
   {
    "duration": 298,
    "start_time": "2021-08-05T13:27:53.566Z"
   },
   {
    "duration": 308,
    "start_time": "2021-08-05T13:27:57.790Z"
   },
   {
    "duration": 54,
    "start_time": "2021-08-05T13:28:05.468Z"
   },
   {
    "duration": 3,
    "start_time": "2021-08-05T13:28:16.708Z"
   },
   {
    "duration": 4,
    "start_time": "2021-08-05T13:28:17.907Z"
   },
   {
    "duration": 9,
    "start_time": "2021-08-05T13:28:19.298Z"
   },
   {
    "duration": 5,
    "start_time": "2021-08-05T13:28:20.520Z"
   },
   {
    "duration": 51,
    "start_time": "2021-08-05T13:28:26.137Z"
   },
   {
    "duration": 9,
    "start_time": "2021-08-05T13:28:33.499Z"
   },
   {
    "duration": 53,
    "start_time": "2021-08-05T13:28:45.018Z"
   },
   {
    "duration": 9,
    "start_time": "2021-08-05T13:29:55.229Z"
   },
   {
    "duration": 1452,
    "start_time": "2021-08-05T13:30:01.586Z"
   },
   {
    "duration": 41,
    "start_time": "2021-08-05T13:30:29.267Z"
   },
   {
    "duration": 16,
    "start_time": "2021-08-05T13:30:30.117Z"
   },
   {
    "duration": 194,
    "start_time": "2021-08-05T13:31:03.826Z"
   },
   {
    "duration": 25556,
    "start_time": "2021-08-05T13:31:27.194Z"
   },
   {
    "duration": 20,
    "start_time": "2021-08-05T13:31:55.548Z"
   },
   {
    "duration": 8,
    "start_time": "2021-08-05T13:32:17.450Z"
   },
   {
    "duration": 266,
    "start_time": "2021-08-05T13:32:58.815Z"
   },
   {
    "duration": 9,
    "start_time": "2021-08-05T13:33:33.538Z"
   },
   {
    "duration": 8,
    "start_time": "2021-08-05T13:34:27.550Z"
   },
   {
    "duration": 6,
    "start_time": "2021-08-05T13:37:24.930Z"
   },
   {
    "duration": 274,
    "start_time": "2021-08-05T13:37:37.675Z"
   },
   {
    "duration": 6,
    "start_time": "2021-08-05T13:38:10.594Z"
   },
   {
    "duration": 500,
    "start_time": "2021-08-05T13:38:38.380Z"
   },
   {
    "duration": 6,
    "start_time": "2021-08-05T13:38:45.425Z"
   },
   {
    "duration": 4,
    "start_time": "2021-08-05T13:38:57.903Z"
   },
   {
    "duration": 8,
    "start_time": "2021-08-05T13:39:17.267Z"
   },
   {
    "duration": 3,
    "start_time": "2021-08-05T13:39:17.718Z"
   },
   {
    "duration": 305,
    "start_time": "2021-08-05T13:39:18.214Z"
   },
   {
    "duration": 9,
    "start_time": "2021-08-05T13:39:22.322Z"
   },
   {
    "duration": 5,
    "start_time": "2021-08-05T13:39:22.729Z"
   },
   {
    "duration": 8,
    "start_time": "2021-08-05T13:39:23.808Z"
   },
   {
    "duration": 4,
    "start_time": "2021-08-05T13:39:24.479Z"
   },
   {
    "duration": 328,
    "start_time": "2021-08-05T13:39:25.217Z"
   },
   {
    "duration": 5,
    "start_time": "2021-08-05T13:40:09.687Z"
   },
   {
    "duration": 52,
    "start_time": "2021-08-05T13:40:19.325Z"
   },
   {
    "duration": 46,
    "start_time": "2021-08-05T13:42:19.310Z"
   },
   {
    "duration": 44,
    "start_time": "2021-08-05T13:42:28.589Z"
   },
   {
    "duration": 7,
    "start_time": "2021-08-05T13:43:07.108Z"
   },
   {
    "duration": 8,
    "start_time": "2021-08-05T13:43:07.715Z"
   },
   {
    "duration": 47,
    "start_time": "2021-08-05T13:43:11.790Z"
   },
   {
    "duration": 6,
    "start_time": "2021-08-05T13:43:20.465Z"
   },
   {
    "duration": 7,
    "start_time": "2021-08-05T13:43:43.921Z"
   },
   {
    "duration": 1449,
    "start_time": "2021-08-05T13:43:52.102Z"
   },
   {
    "duration": 41,
    "start_time": "2021-08-05T13:43:56.866Z"
   },
   {
    "duration": 15,
    "start_time": "2021-08-05T13:43:58.173Z"
   },
   {
    "duration": 14,
    "start_time": "2021-08-05T13:44:13.246Z"
   },
   {
    "duration": 7,
    "start_time": "2021-08-05T13:46:04.620Z"
   },
   {
    "duration": 19,
    "start_time": "2021-08-05T13:46:22.774Z"
   },
   {
    "duration": 46,
    "start_time": "2021-08-05T13:47:30.614Z"
   },
   {
    "duration": 7,
    "start_time": "2021-08-05T13:48:14.012Z"
   },
   {
    "duration": 11,
    "start_time": "2021-08-05T13:48:14.021Z"
   },
   {
    "duration": 19,
    "start_time": "2021-08-05T13:48:14.034Z"
   },
   {
    "duration": 168,
    "start_time": "2021-08-05T13:48:14.055Z"
   },
   {
    "duration": 5,
    "start_time": "2021-08-05T13:48:14.225Z"
   },
   {
    "duration": 65,
    "start_time": "2021-08-05T13:48:14.232Z"
   },
   {
    "duration": 5,
    "start_time": "2021-08-05T13:48:14.299Z"
   },
   {
    "duration": 12,
    "start_time": "2021-08-05T13:48:14.307Z"
   },
   {
    "duration": 7,
    "start_time": "2021-08-05T13:48:14.322Z"
   },
   {
    "duration": 51,
    "start_time": "2021-08-05T13:48:14.331Z"
   },
   {
    "duration": 4,
    "start_time": "2021-08-05T13:48:14.385Z"
   },
   {
    "duration": 18,
    "start_time": "2021-08-05T13:48:14.391Z"
   },
   {
    "duration": 8,
    "start_time": "2021-08-05T13:48:14.411Z"
   },
   {
    "duration": 11,
    "start_time": "2021-08-05T13:48:14.421Z"
   },
   {
    "duration": 50,
    "start_time": "2021-08-05T13:48:14.434Z"
   },
   {
    "duration": 8,
    "start_time": "2021-08-05T13:48:14.486Z"
   },
   {
    "duration": 1299,
    "start_time": "2021-08-05T13:48:14.498Z"
   },
   {
    "duration": 8,
    "start_time": "2021-08-05T13:48:15.799Z"
   },
   {
    "duration": 360,
    "start_time": "2021-08-05T13:48:15.809Z"
   },
   {
    "duration": 20,
    "start_time": "2021-08-05T13:48:16.171Z"
   },
   {
    "duration": 5,
    "start_time": "2021-08-05T13:48:16.194Z"
   },
   {
    "duration": 9,
    "start_time": "2021-08-05T13:48:16.204Z"
   },
   {
    "duration": 11,
    "start_time": "2021-08-05T13:48:16.217Z"
   },
   {
    "duration": 11,
    "start_time": "2021-08-05T13:48:16.230Z"
   },
   {
    "duration": 11,
    "start_time": "2021-08-05T13:48:16.283Z"
   },
   {
    "duration": 13,
    "start_time": "2021-08-05T13:48:16.296Z"
   },
   {
    "duration": 18,
    "start_time": "2021-08-05T13:48:16.311Z"
   },
   {
    "duration": 5,
    "start_time": "2021-08-05T13:48:16.331Z"
   },
   {
    "duration": 7,
    "start_time": "2021-08-05T13:48:16.338Z"
   },
   {
    "duration": 47,
    "start_time": "2021-08-05T13:48:16.347Z"
   },
   {
    "duration": 1349,
    "start_time": "2021-08-05T13:48:16.397Z"
   },
   {
    "duration": 9,
    "start_time": "2021-08-05T13:48:17.748Z"
   },
   {
    "duration": 26,
    "start_time": "2021-08-05T13:48:17.760Z"
   },
   {
    "duration": 14,
    "start_time": "2021-08-05T13:48:17.789Z"
   },
   {
    "duration": 31,
    "start_time": "2021-08-05T13:48:17.806Z"
   },
   {
    "duration": 42,
    "start_time": "2021-08-05T13:48:17.840Z"
   },
   {
    "duration": 13,
    "start_time": "2021-08-05T13:48:17.885Z"
   },
   {
    "duration": 5,
    "start_time": "2021-08-05T13:48:17.901Z"
   },
   {
    "duration": 9,
    "start_time": "2021-08-05T13:48:17.909Z"
   },
   {
    "duration": 21,
    "start_time": "2021-08-05T13:48:17.920Z"
   },
   {
    "duration": 40,
    "start_time": "2021-08-05T13:48:17.943Z"
   },
   {
    "duration": 5,
    "start_time": "2021-08-05T13:48:17.986Z"
   },
   {
    "duration": 32,
    "start_time": "2021-08-05T13:48:17.993Z"
   },
   {
    "duration": 14,
    "start_time": "2021-08-05T13:48:18.027Z"
   },
   {
    "duration": 3707,
    "start_time": "2021-08-05T13:48:18.044Z"
   },
   {
    "duration": 661,
    "start_time": "2021-08-05T13:48:21.754Z"
   },
   {
    "duration": 793,
    "start_time": "2021-08-05T13:48:22.418Z"
   },
   {
    "duration": 9,
    "start_time": "2021-08-05T13:48:23.214Z"
   },
   {
    "duration": 677,
    "start_time": "2021-08-05T13:48:23.226Z"
   },
   {
    "duration": 12,
    "start_time": "2021-08-05T13:48:23.906Z"
   },
   {
    "duration": 3666,
    "start_time": "2021-08-05T13:48:23.921Z"
   },
   {
    "duration": 673,
    "start_time": "2021-08-05T13:48:27.590Z"
   },
   {
    "duration": 16,
    "start_time": "2021-08-05T13:48:28.266Z"
   },
   {
    "duration": 10,
    "start_time": "2021-08-05T13:48:28.285Z"
   },
   {
    "duration": 22,
    "start_time": "2021-08-05T13:48:28.298Z"
   },
   {
    "duration": 77,
    "start_time": "2021-08-05T13:48:28.322Z"
   },
   {
    "duration": 22,
    "start_time": "2021-08-05T13:48:28.401Z"
   },
   {
    "duration": 5,
    "start_time": "2021-08-05T13:48:28.426Z"
   },
   {
    "duration": 9,
    "start_time": "2021-08-05T13:48:28.434Z"
   },
   {
    "duration": 7,
    "start_time": "2021-08-05T13:48:28.482Z"
   },
   {
    "duration": 14,
    "start_time": "2021-08-05T13:48:28.493Z"
   },
   {
    "duration": 24,
    "start_time": "2021-08-05T13:48:28.510Z"
   },
   {
    "duration": 1146,
    "start_time": "2021-08-05T13:48:28.537Z"
   },
   {
    "duration": 11,
    "start_time": "2021-08-05T13:48:29.693Z"
   },
   {
    "duration": 5,
    "start_time": "2021-08-05T13:48:29.708Z"
   },
   {
    "duration": 8,
    "start_time": "2021-08-05T13:48:29.715Z"
   },
   {
    "duration": 9,
    "start_time": "2021-08-05T13:48:29.725Z"
   },
   {
    "duration": 1675,
    "start_time": "2021-08-05T13:48:29.736Z"
   },
   {
    "duration": 7,
    "start_time": "2021-08-05T13:48:31.414Z"
   },
   {
    "duration": 61,
    "start_time": "2021-08-05T13:48:31.423Z"
   },
   {
    "duration": 18,
    "start_time": "2021-08-05T13:48:31.487Z"
   },
   {
    "duration": 7,
    "start_time": "2021-08-05T13:48:31.508Z"
   },
   {
    "duration": 885,
    "start_time": "2021-08-05T13:48:31.517Z"
   },
   {
    "duration": 23,
    "start_time": "2021-08-05T13:48:32.404Z"
   },
   {
    "duration": 28,
    "start_time": "2021-08-05T13:48:32.430Z"
   },
   {
    "duration": 39,
    "start_time": "2021-08-05T13:48:32.460Z"
   },
   {
    "duration": 17,
    "start_time": "2021-08-05T13:48:32.501Z"
   },
   {
    "duration": 10,
    "start_time": "2021-08-05T13:48:32.520Z"
   },
   {
    "duration": 50,
    "start_time": "2021-08-05T13:48:32.533Z"
   },
   {
    "duration": 17,
    "start_time": "2021-08-05T13:48:32.585Z"
   },
   {
    "duration": 16710,
    "start_time": "2021-08-05T13:48:32.605Z"
   },
   {
    "duration": 9979,
    "start_time": "2021-08-05T13:48:49.318Z"
   },
   {
    "duration": 7,
    "start_time": "2021-08-05T13:48:59.300Z"
   },
   {
    "duration": 8,
    "start_time": "2021-08-05T13:48:59.309Z"
   },
   {
    "duration": 21,
    "start_time": "2021-08-05T13:48:59.320Z"
   },
   {
    "duration": 84,
    "start_time": "2021-08-05T13:48:59.344Z"
   },
   {
    "duration": 89,
    "start_time": "2021-08-05T13:48:59.431Z"
   },
   {
    "duration": 6,
    "start_time": "2021-08-05T13:48:59.523Z"
   },
   {
    "duration": 9,
    "start_time": "2021-08-05T13:48:59.532Z"
   },
   {
    "duration": 43,
    "start_time": "2021-08-05T13:48:59.544Z"
   },
   {
    "duration": 16,
    "start_time": "2021-08-05T13:48:59.590Z"
   },
   {
    "duration": 49,
    "start_time": "2021-08-05T13:48:59.608Z"
   },
   {
    "duration": 3,
    "start_time": "2021-08-05T13:48:59.682Z"
   },
   {
    "duration": 6,
    "start_time": "2021-08-05T13:48:59.688Z"
   },
   {
    "duration": 8,
    "start_time": "2021-08-05T13:54:00.470Z"
   },
   {
    "duration": 8,
    "start_time": "2021-08-05T13:54:00.682Z"
   },
   {
    "duration": 1479,
    "start_time": "2021-08-05T13:54:05.653Z"
   },
   {
    "duration": 42,
    "start_time": "2021-08-05T13:54:07.490Z"
   },
   {
    "duration": 15,
    "start_time": "2021-08-05T13:54:10.377Z"
   },
   {
    "duration": 15,
    "start_time": "2021-08-05T13:58:32.182Z"
   },
   {
    "duration": 40,
    "start_time": "2021-08-05T13:58:32.650Z"
   },
   {
    "duration": 8,
    "start_time": "2021-08-05T13:59:30.099Z"
   },
   {
    "duration": 470,
    "start_time": "2021-08-05T14:01:51.313Z"
   },
   {
    "duration": 425,
    "start_time": "2021-08-05T14:02:44.564Z"
   },
   {
    "duration": 641,
    "start_time": "2021-08-05T14:02:50.341Z"
   },
   {
    "duration": 1019,
    "start_time": "2021-08-05T14:09:52.069Z"
   },
   {
    "duration": 469,
    "start_time": "2021-08-05T14:09:57.721Z"
   },
   {
    "duration": 982,
    "start_time": "2021-08-05T14:10:01.602Z"
   },
   {
    "duration": 965,
    "start_time": "2021-08-05T14:10:04.526Z"
   },
   {
    "duration": 3,
    "start_time": "2021-08-05T14:11:48.104Z"
   },
   {
    "duration": 89070,
    "start_time": "2021-08-05T14:12:55.479Z"
   },
   {
    "duration": 43,
    "start_time": "2021-08-05T14:14:33.339Z"
   },
   {
    "duration": 47,
    "start_time": "2021-08-05T14:14:51.087Z"
   },
   {
    "duration": 195,
    "start_time": "2021-08-05T14:15:07.652Z"
   },
   {
    "duration": 3,
    "start_time": "2021-08-05T14:15:15.844Z"
   },
   {
    "duration": 80,
    "start_time": "2021-08-05T14:15:18.102Z"
   },
   {
    "duration": 35,
    "start_time": "2021-08-05T14:15:22.512Z"
   },
   {
    "duration": 37,
    "start_time": "2021-08-05T14:15:23.676Z"
   },
   {
    "duration": 262284,
    "start_time": "2021-08-05T14:15:47.059Z"
   },
   {
    "duration": 144538,
    "start_time": "2021-08-05T14:21:06.354Z"
   },
   {
    "duration": 25,
    "start_time": "2021-08-05T14:23:51.829Z"
   },
   {
    "duration": 4,
    "start_time": "2021-08-05T14:24:28.390Z"
   },
   {
    "duration": 4,
    "start_time": "2021-08-05T14:24:32.231Z"
   },
   {
    "duration": 5,
    "start_time": "2021-08-05T14:24:34.197Z"
   },
   {
    "duration": 6,
    "start_time": "2021-08-05T14:24:45.440Z"
   },
   {
    "duration": 6,
    "start_time": "2021-08-05T14:25:05.740Z"
   },
   {
    "duration": 3,
    "start_time": "2021-08-05T14:25:31.266Z"
   },
   {
    "duration": 4,
    "start_time": "2021-08-05T14:25:31.708Z"
   },
   {
    "duration": 36,
    "start_time": "2021-08-05T14:25:33.712Z"
   },
   {
    "duration": 3,
    "start_time": "2021-08-05T14:25:39.375Z"
   },
   {
    "duration": 5,
    "start_time": "2021-08-05T14:25:43.903Z"
   },
   {
    "duration": 3,
    "start_time": "2021-08-05T14:26:07.414Z"
   },
   {
    "duration": 2148,
    "start_time": "2021-08-05T14:26:21.843Z"
   },
   {
    "duration": 24,
    "start_time": "2021-08-05T14:26:46.316Z"
   },
   {
    "duration": 23,
    "start_time": "2021-08-05T14:26:58.110Z"
   },
   {
    "duration": 24,
    "start_time": "2021-08-05T14:27:03.256Z"
   },
   {
    "duration": 2112,
    "start_time": "2021-08-05T14:27:27.658Z"
   },
   {
    "duration": 20059,
    "start_time": "2021-08-05T14:27:38.718Z"
   },
   {
    "duration": 13,
    "start_time": "2021-08-05T14:28:07.831Z"
   },
   {
    "duration": 19,
    "start_time": "2021-08-05T14:28:24.573Z"
   },
   {
    "duration": 3,
    "start_time": "2021-08-05T14:29:19.534Z"
   },
   {
    "duration": 4,
    "start_time": "2021-08-05T14:29:20.503Z"
   },
   {
    "duration": 4,
    "start_time": "2021-08-05T14:29:20.918Z"
   },
   {
    "duration": 44,
    "start_time": "2021-08-05T14:29:22.538Z"
   },
   {
    "duration": 4,
    "start_time": "2021-08-05T14:29:23.670Z"
   },
   {
    "duration": 242896,
    "start_time": "2021-08-05T14:29:43.387Z"
   },
   {
    "duration": 3,
    "start_time": "2021-08-05T14:33:46.286Z"
   },
   {
    "duration": 258,
    "start_time": "2021-08-05T14:33:46.292Z"
   },
   {
    "duration": 2422,
    "start_time": "2021-08-05T14:33:44.130Z"
   },
   {
    "duration": 5,
    "start_time": "2021-08-05T14:34:14.583Z"
   },
   {
    "duration": 3,
    "start_time": "2021-08-05T14:34:59.986Z"
   },
   {
    "duration": 3,
    "start_time": "2021-08-05T14:35:21.561Z"
   },
   {
    "duration": 5,
    "start_time": "2021-08-05T14:35:23.574Z"
   },
   {
    "duration": 5,
    "start_time": "2021-08-05T14:35:29.142Z"
   },
   {
    "duration": 3,
    "start_time": "2021-08-05T14:35:50.751Z"
   },
   {
    "duration": 4,
    "start_time": "2021-08-05T14:35:53.405Z"
   },
   {
    "duration": 4,
    "start_time": "2021-08-05T14:35:55.226Z"
   },
   {
    "duration": 3,
    "start_time": "2021-08-05T14:35:57.142Z"
   },
   {
    "duration": 4,
    "start_time": "2021-08-05T14:35:58.761Z"
   },
   {
    "duration": 5,
    "start_time": "2021-08-05T14:36:01.153Z"
   },
   {
    "duration": 5,
    "start_time": "2021-08-05T14:36:03.038Z"
   },
   {
    "duration": 10,
    "start_time": "2021-08-05T14:36:13.051Z"
   },
   {
    "duration": 93,
    "start_time": "2021-08-05T14:36:31.053Z"
   },
   {
    "duration": 10,
    "start_time": "2021-08-05T14:36:36.394Z"
   },
   {
    "duration": 306,
    "start_time": "2021-08-05T14:37:05.422Z"
   },
   {
    "duration": 14,
    "start_time": "2021-08-05T14:37:18.937Z"
   },
   {
    "duration": 11,
    "start_time": "2021-08-05T14:37:26.455Z"
   },
   {
    "duration": 1954,
    "start_time": "2021-08-05T14:37:41.763Z"
   },
   {
    "duration": 4,
    "start_time": "2021-08-05T14:37:59.875Z"
   },
   {
    "duration": 19810,
    "start_time": "2021-08-05T14:38:08.535Z"
   },
   {
    "duration": 10,
    "start_time": "2021-08-05T14:38:28.347Z"
   },
   {
    "duration": 305,
    "start_time": "2021-08-05T14:38:48.078Z"
   },
   {
    "duration": 12,
    "start_time": "2021-08-05T14:39:00.719Z"
   },
   {
    "duration": 24,
    "start_time": "2021-08-05T14:39:19.429Z"
   },
   {
    "duration": 8,
    "start_time": "2021-08-05T14:39:27.932Z"
   },
   {
    "duration": 11,
    "start_time": "2021-08-05T14:40:02.916Z"
   },
   {
    "duration": 218,
    "start_time": "2021-08-05T14:45:41.656Z"
   },
   {
    "duration": 205,
    "start_time": "2021-08-05T14:46:03.076Z"
   },
   {
    "duration": 99108,
    "start_time": "2021-08-05T14:47:55.050Z"
   },
   {
    "duration": 6,
    "start_time": "2021-08-05T14:50:19.510Z"
   },
   {
    "duration": 19060,
    "start_time": "2021-08-05T14:51:35.231Z"
   },
   {
    "duration": 14,
    "start_time": "2021-08-05T14:51:54.294Z"
   },
   {
    "duration": 2560,
    "start_time": "2021-08-05T14:55:44.175Z"
   },
   {
    "duration": 4,
    "start_time": "2021-08-05T14:55:46.738Z"
   },
   {
    "duration": 6,
    "start_time": "2021-08-05T14:55:46.745Z"
   },
   {
    "duration": 168,
    "start_time": "2021-08-05T14:55:46.753Z"
   },
   {
    "duration": 4,
    "start_time": "2021-08-05T14:55:46.923Z"
   },
   {
    "duration": 58,
    "start_time": "2021-08-05T14:55:46.930Z"
   },
   {
    "duration": 9,
    "start_time": "2021-08-05T14:55:46.991Z"
   },
   {
    "duration": 14,
    "start_time": "2021-08-05T14:55:47.002Z"
   },
   {
    "duration": 7,
    "start_time": "2021-08-05T14:55:47.020Z"
   },
   {
    "duration": 9,
    "start_time": "2021-08-05T14:55:47.030Z"
   },
   {
    "duration": 3,
    "start_time": "2021-08-05T14:55:47.083Z"
   },
   {
    "duration": 15,
    "start_time": "2021-08-05T14:55:47.089Z"
   },
   {
    "duration": 13,
    "start_time": "2021-08-05T14:55:47.106Z"
   },
   {
    "duration": 10,
    "start_time": "2021-08-05T14:55:47.121Z"
   },
   {
    "duration": 47,
    "start_time": "2021-08-05T14:55:47.135Z"
   },
   {
    "duration": 8,
    "start_time": "2021-08-05T14:55:47.185Z"
   },
   {
    "duration": 1257,
    "start_time": "2021-08-05T14:55:47.196Z"
   },
   {
    "duration": 9,
    "start_time": "2021-08-05T14:55:48.456Z"
   },
   {
    "duration": 359,
    "start_time": "2021-08-05T14:55:48.483Z"
   },
   {
    "duration": 11,
    "start_time": "2021-08-05T14:55:48.845Z"
   },
   {
    "duration": 24,
    "start_time": "2021-08-05T14:55:48.859Z"
   },
   {
    "duration": 6,
    "start_time": "2021-08-05T14:55:48.885Z"
   },
   {
    "duration": 14,
    "start_time": "2021-08-05T14:55:48.893Z"
   },
   {
    "duration": 7,
    "start_time": "2021-08-05T14:55:48.909Z"
   },
   {
    "duration": 14,
    "start_time": "2021-08-05T14:55:48.918Z"
   },
   {
    "duration": 149,
    "start_time": "2021-08-05T14:55:48.935Z"
   },
   {
    "duration": 20,
    "start_time": "2021-08-05T14:55:49.092Z"
   },
   {
    "duration": 6,
    "start_time": "2021-08-05T14:55:49.117Z"
   },
   {
    "duration": 10,
    "start_time": "2021-08-05T14:55:49.126Z"
   },
   {
    "duration": 55,
    "start_time": "2021-08-05T14:55:49.138Z"
   },
   {
    "duration": 1168,
    "start_time": "2021-08-05T14:55:49.195Z"
   },
   {
    "duration": 21,
    "start_time": "2021-08-05T14:55:50.365Z"
   },
   {
    "duration": 9,
    "start_time": "2021-08-05T14:55:50.388Z"
   },
   {
    "duration": 34,
    "start_time": "2021-08-05T14:55:50.399Z"
   },
   {
    "duration": 29,
    "start_time": "2021-08-05T14:55:50.436Z"
   },
   {
    "duration": 26,
    "start_time": "2021-08-05T14:55:50.468Z"
   },
   {
    "duration": 24,
    "start_time": "2021-08-05T14:55:50.498Z"
   },
   {
    "duration": 5,
    "start_time": "2021-08-05T14:55:50.525Z"
   },
   {
    "duration": 12,
    "start_time": "2021-08-05T14:55:50.533Z"
   },
   {
    "duration": 39,
    "start_time": "2021-08-05T14:55:50.547Z"
   },
   {
    "duration": 27,
    "start_time": "2021-08-05T14:55:50.589Z"
   },
   {
    "duration": 11,
    "start_time": "2021-08-05T14:55:50.619Z"
   },
   {
    "duration": 56,
    "start_time": "2021-08-05T14:55:50.633Z"
   },
   {
    "duration": 12,
    "start_time": "2021-08-05T14:55:50.692Z"
   },
   {
    "duration": 3794,
    "start_time": "2021-08-05T14:55:50.706Z"
   },
   {
    "duration": 675,
    "start_time": "2021-08-05T14:55:54.503Z"
   },
   {
    "duration": 649,
    "start_time": "2021-08-05T14:55:55.183Z"
   },
   {
    "duration": 9,
    "start_time": "2021-08-05T14:55:55.835Z"
   },
   {
    "duration": 669,
    "start_time": "2021-08-05T14:55:55.847Z"
   },
   {
    "duration": 17,
    "start_time": "2021-08-05T14:55:56.519Z"
   },
   {
    "duration": 3855,
    "start_time": "2021-08-05T14:55:56.538Z"
   },
   {
    "duration": 754,
    "start_time": "2021-08-05T14:56:00.395Z"
   },
   {
    "duration": 6,
    "start_time": "2021-08-05T14:56:01.152Z"
   },
   {
    "duration": 26,
    "start_time": "2021-08-05T14:56:01.160Z"
   },
   {
    "duration": 29,
    "start_time": "2021-08-05T14:56:01.188Z"
   },
   {
    "duration": 39,
    "start_time": "2021-08-05T14:56:01.219Z"
   },
   {
    "duration": 19,
    "start_time": "2021-08-05T14:56:01.282Z"
   },
   {
    "duration": 16,
    "start_time": "2021-08-05T14:56:01.303Z"
   },
   {
    "duration": 20,
    "start_time": "2021-08-05T14:56:01.321Z"
   },
   {
    "duration": 14,
    "start_time": "2021-08-05T14:56:01.343Z"
   },
   {
    "duration": 28,
    "start_time": "2021-08-05T14:56:01.360Z"
   },
   {
    "duration": 29,
    "start_time": "2021-08-05T14:56:01.390Z"
   },
   {
    "duration": 1203,
    "start_time": "2021-08-05T14:56:01.422Z"
   },
   {
    "duration": 10,
    "start_time": "2021-08-05T14:56:02.628Z"
   },
   {
    "duration": 8,
    "start_time": "2021-08-05T14:56:02.640Z"
   },
   {
    "duration": 33,
    "start_time": "2021-08-05T14:56:02.650Z"
   },
   {
    "duration": 10,
    "start_time": "2021-08-05T14:56:02.686Z"
   },
   {
    "duration": 1200,
    "start_time": "2021-08-05T14:56:02.699Z"
   },
   {
    "duration": 8,
    "start_time": "2021-08-05T14:56:03.902Z"
   },
   {
    "duration": 7,
    "start_time": "2021-08-05T14:56:03.912Z"
   },
   {
    "duration": 20,
    "start_time": "2021-08-05T14:56:03.921Z"
   },
   {
    "duration": 40,
    "start_time": "2021-08-05T14:56:03.944Z"
   },
   {
    "duration": 859,
    "start_time": "2021-08-05T14:56:03.986Z"
   },
   {
    "duration": 44,
    "start_time": "2021-08-05T14:56:04.848Z"
   },
   {
    "duration": 30,
    "start_time": "2021-08-05T14:56:04.895Z"
   },
   {
    "duration": 20,
    "start_time": "2021-08-05T14:56:04.928Z"
   },
   {
    "duration": 47,
    "start_time": "2021-08-05T14:56:04.951Z"
   },
   {
    "duration": 8,
    "start_time": "2021-08-05T14:56:05.001Z"
   },
   {
    "duration": 33,
    "start_time": "2021-08-05T14:56:05.012Z"
   },
   {
    "duration": 44,
    "start_time": "2021-08-05T14:56:05.048Z"
   },
   {
    "duration": 16313,
    "start_time": "2021-08-05T14:56:05.103Z"
   },
   {
    "duration": 9892,
    "start_time": "2021-08-05T14:56:21.419Z"
   },
   {
    "duration": 6,
    "start_time": "2021-08-05T14:56:31.314Z"
   },
   {
    "duration": 13,
    "start_time": "2021-08-05T14:56:31.323Z"
   },
   {
    "duration": 45,
    "start_time": "2021-08-05T14:56:31.339Z"
   },
   {
    "duration": 50,
    "start_time": "2021-08-05T14:56:31.387Z"
   },
   {
    "duration": 5,
    "start_time": "2021-08-05T14:56:31.440Z"
   },
   {
    "duration": 37,
    "start_time": "2021-08-05T14:56:31.447Z"
   },
   {
    "duration": 16,
    "start_time": "2021-08-05T14:56:31.487Z"
   },
   {
    "duration": 20,
    "start_time": "2021-08-05T14:56:31.505Z"
   },
   {
    "duration": 64,
    "start_time": "2021-08-05T14:56:31.528Z"
   },
   {
    "duration": 4,
    "start_time": "2021-08-05T14:56:31.595Z"
   },
   {
    "duration": 12,
    "start_time": "2021-08-05T14:56:31.601Z"
   },
   {
    "duration": 11,
    "start_time": "2021-08-05T14:56:31.618Z"
   },
   {
    "duration": 14,
    "start_time": "2021-08-05T14:56:31.632Z"
   },
   {
    "duration": 46,
    "start_time": "2021-08-05T14:56:31.649Z"
   },
   {
    "duration": 9,
    "start_time": "2021-08-05T14:56:31.698Z"
   },
   {
    "duration": 1495,
    "start_time": "2021-08-05T14:56:31.709Z"
   },
   {
    "duration": 42,
    "start_time": "2021-08-05T14:56:33.206Z"
   },
   {
    "duration": 34,
    "start_time": "2021-08-05T14:56:33.251Z"
   },
   {
    "duration": 7,
    "start_time": "2021-08-05T14:56:33.287Z"
   },
   {
    "duration": 6,
    "start_time": "2021-08-05T14:56:33.296Z"
   },
   {
    "duration": 9,
    "start_time": "2021-08-05T14:56:33.305Z"
   },
   {
    "duration": 96,
    "start_time": "2021-08-05T14:56:33.316Z"
   },
   {
    "duration": 5,
    "start_time": "2021-08-05T14:56:33.484Z"
   },
   {
    "duration": 241255,
    "start_time": "2021-08-05T14:56:33.492Z"
   },
   {
    "duration": 4,
    "start_time": "2021-08-05T15:00:34.749Z"
   },
   {
    "duration": 64926,
    "start_time": "2021-08-05T15:00:34.756Z"
   },
   {
    "duration": 4,
    "start_time": "2021-08-05T15:01:39.685Z"
   },
   {
    "duration": 85763,
    "start_time": "2021-08-05T15:01:39.691Z"
   },
   {
    "duration": 4,
    "start_time": "2021-08-05T15:03:05.456Z"
   },
   {
    "duration": 19,
    "start_time": "2021-08-05T15:03:05.462Z"
   },
   {
    "duration": 17508,
    "start_time": "2021-08-05T15:03:05.483Z"
   },
   {
    "duration": 9,
    "start_time": "2021-08-05T15:03:22.994Z"
   },
   {
    "duration": 9,
    "start_time": "2021-08-05T15:03:23.006Z"
   },
   {
    "duration": 795,
    "start_time": "2021-08-05T15:18:28.405Z"
   },
   {
    "duration": 4,
    "start_time": "2021-08-05T15:18:29.203Z"
   },
   {
    "duration": 8,
    "start_time": "2021-08-05T15:18:29.210Z"
   },
   {
    "duration": 51,
    "start_time": "2021-08-05T15:18:30.614Z"
   },
   {
    "duration": 20,
    "start_time": "2021-08-05T15:18:31.731Z"
   },
   {
    "duration": 4,
    "start_time": "2021-08-05T15:18:41.339Z"
   },
   {
    "duration": 5,
    "start_time": "2021-08-05T15:18:46.329Z"
   },
   {
    "duration": 8,
    "start_time": "2021-08-05T15:18:50.548Z"
   },
   {
    "duration": 19,
    "start_time": "2021-08-05T15:19:03.408Z"
   },
   {
    "duration": 7,
    "start_time": "2021-08-05T15:19:13.581Z"
   },
   {
    "duration": 3,
    "start_time": "2021-08-05T15:20:02.898Z"
   },
   {
    "duration": 4,
    "start_time": "2021-08-05T15:20:03.243Z"
   },
   {
    "duration": 3,
    "start_time": "2021-08-05T15:20:03.535Z"
   },
   {
    "duration": 46,
    "start_time": "2021-08-05T15:20:05.569Z"
   },
   {
    "duration": 14,
    "start_time": "2021-08-05T15:20:05.868Z"
   },
   {
    "duration": 4,
    "start_time": "2021-08-05T15:20:06.106Z"
   },
   {
    "duration": 6,
    "start_time": "2021-08-05T15:20:06.814Z"
   },
   {
    "duration": 6,
    "start_time": "2021-08-05T15:20:07.374Z"
   },
   {
    "duration": 19,
    "start_time": "2021-08-05T15:20:08.304Z"
   },
   {
    "duration": 6,
    "start_time": "2021-08-05T15:20:08.570Z"
   },
   {
    "duration": 10,
    "start_time": "2021-08-05T15:23:07.066Z"
   },
   {
    "duration": 18,
    "start_time": "2021-08-05T15:29:13.453Z"
   },
   {
    "duration": 1368,
    "start_time": "2021-08-05T15:30:13.824Z"
   },
   {
    "duration": 5,
    "start_time": "2021-08-05T15:30:15.195Z"
   },
   {
    "duration": 3,
    "start_time": "2021-08-05T15:30:15.431Z"
   },
   {
    "duration": 55,
    "start_time": "2021-08-05T15:30:16.558Z"
   },
   {
    "duration": 20,
    "start_time": "2021-08-05T15:30:17.227Z"
   },
   {
    "duration": 4,
    "start_time": "2021-08-05T15:30:18.277Z"
   },
   {
    "duration": 5,
    "start_time": "2021-08-05T15:30:18.772Z"
   },
   {
    "duration": 6,
    "start_time": "2021-08-05T15:30:19.263Z"
   },
   {
    "duration": 26,
    "start_time": "2021-08-05T15:30:20.623Z"
   },
   {
    "duration": 7,
    "start_time": "2021-08-05T15:30:21.832Z"
   },
   {
    "duration": 15,
    "start_time": "2021-08-05T15:30:29.176Z"
   },
   {
    "duration": 550,
    "start_time": "2021-08-05T15:30:41.435Z"
   },
   {
    "duration": 27,
    "start_time": "2021-08-05T15:30:50.718Z"
   },
   {
    "duration": 15,
    "start_time": "2021-08-05T15:30:53.090Z"
   },
   {
    "duration": 29,
    "start_time": "2021-08-05T15:31:47.515Z"
   },
   {
    "duration": 29,
    "start_time": "2021-08-05T15:32:26.499Z"
   },
   {
    "duration": 9302,
    "start_time": "2021-08-05T15:32:26.818Z"
   },
   {
    "duration": 2477,
    "start_time": "2021-08-05T15:32:33.646Z"
   },
   {
    "duration": 25,
    "start_time": "2021-08-05T15:32:38.334Z"
   },
   {
    "duration": 7,
    "start_time": "2021-08-05T15:32:48.734Z"
   },
   {
    "duration": 16,
    "start_time": "2021-08-05T15:32:50.166Z"
   },
   {
    "duration": 32,
    "start_time": "2021-08-05T15:34:15.078Z"
   }
  ],
  "kernelspec": {
   "display_name": "Python 3",
   "language": "python",
   "name": "python3"
  },
  "language_info": {
   "codemirror_mode": {
    "name": "ipython",
    "version": 3
   },
   "file_extension": ".py",
   "mimetype": "text/x-python",
   "name": "python",
   "nbconvert_exporter": "python",
   "pygments_lexer": "ipython3",
   "version": "3.8.5"
  },
  "toc": {
   "base_numbering": "1",
   "nav_menu": {},
   "number_sections": true,
   "sideBar": true,
   "skip_h1_title": true,
   "title_cell": "Table of Contents",
   "title_sidebar": "Contents",
   "toc_cell": false,
   "toc_position": {
    "height": "calc(100% - 180px)",
    "left": "10px",
    "top": "150px",
    "width": "262.391px"
   },
   "toc_section_display": true,
   "toc_window_display": true
  }
 },
 "nbformat": 4,
 "nbformat_minor": 2
}
