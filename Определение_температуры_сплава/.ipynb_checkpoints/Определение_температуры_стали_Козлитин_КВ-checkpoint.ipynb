{
 "cells": [
  {
   "cell_type": "markdown",
   "metadata": {},
   "source": [
    "# Описание проекта"
   ]
  },
  {
   "cell_type": "markdown",
   "metadata": {},
   "source": [
    "Чтобы оптимизировать производственные расходы, металлургический комбинат ООО «Так закаляем сталь» решил уменьшить потребление электроэнергии на этапе обработки стали. Вам предстоит построить модель, которая предскажет температуру стали."
   ]
  },
  {
   "cell_type": "markdown",
   "metadata": {},
   "source": [
    "### Описание этапа обработки"
   ]
  },
  {
   "cell_type": "markdown",
   "metadata": {},
   "source": [
    "Сталь обрабатывают в металлическом ковше вместимостью около 100 тонн. Чтобы ковш выдерживал высокие температуры, изнутри его облицовывают огнеупорным кирпичом. Расплавленную сталь заливают в ковш и подогревают до нужной температуры графитовыми электродами. Они установлены в крышке ковша. "
   ]
  },
  {
   "cell_type": "markdown",
   "metadata": {},
   "source": [
    "<img src=\"https://news.store.rambler.ru/img/d52ddd85719025e93d2be214d6b49da6\" alt=\"Drawing\" style=\"width: 600px;\"/>"
   ]
  },
  {
   "cell_type": "markdown",
   "metadata": {},
   "source": [
    "Из сплава выводится сера (десульфурация), добавлением примесей корректируется химический состав и отбираются пробы. Сталь легируют — изменяют её состав — подавая куски сплава из бункера для сыпучих материалов или проволоку через специальный трайб-аппарат (англ. tribe, «масса»).\n",
    "\n",
    "Перед тем как первый раз ввести легирующие добавки, измеряют температуру стали и производят её химический анализ. Потом температуру на несколько минут повышают, добавляют легирующие материалы и продувают сплав инертным газом. Затем его перемешивают и снова проводят измерения. Такой цикл повторяется до достижения целевого химического состава и оптимальной температуры плавки.\n",
    "\n",
    "Тогда расплавленная сталь отправляется на доводку металла или поступает в машину непрерывной разливки. Оттуда готовый продукт выходит в виде заготовок-слябов (англ. *slab*, «плита»).\n",
    "\n",
    "### Описание данных\n",
    "\n",
    "Данные состоят из файлов, полученных из разных источников:\n",
    "\n",
    "- `data_arc.csv` — данные об электродах;\n",
    "- `data_bulk.csv` — данные о подаче сыпучих материалов (объём);\n",
    "- `data_bulk_time.csv` *—* данные о подаче сыпучих материалов (время);\n",
    "- `data_gas.csv` — данные о продувке сплава газом;\n",
    "- `data_temp.csv` — результаты измерения температуры;\n",
    "- `data_wire.csv` — данные о проволочных материалах (объём);\n",
    "- `data_wire_time.csv` — данные о проволочных материалах (время).\n",
    "\n",
    "Во всех файлах столбец `key` содержит номер партии. В файлах может быть несколько строк с одинаковым значением `key`: они соответствуют разным итерациям обработки."
   ]
  },
  {
   "cell_type": "markdown",
   "metadata": {
    "toc": true
   },
   "source": [
    "<h1>План проекта<span class=\"tocSkip\"></span></h1>\n",
    "<div class=\"toc\"><ul class=\"toc-item\"><li><span><a href=\"#Описание-проекта\" data-toc-modified-id=\"Описание-проекта-1\">Описание проекта</a></span><ul class=\"toc-item\"><li><ul class=\"toc-item\"><li><span><a href=\"#Описание-этапа-обработки\" data-toc-modified-id=\"Описание-этапа-обработки-1.0.1\">Описание этапа обработки</a></span></li><li><span><a href=\"#Описание-данных\" data-toc-modified-id=\"Описание-данных-1.0.2\">Описание данных</a></span></li></ul></li></ul></li><li><span><a href=\"#Реализация-проекта\" data-toc-modified-id=\"Реализация-проекта-2\">Реализация проекта</a></span><ul class=\"toc-item\"><li><span><a href=\"#Импорт-библиотек.-Загрузка-данных\" data-toc-modified-id=\"Импорт-библиотек.-Загрузка-данных-2.1\">Импорт библиотек. Загрузка данных</a></span></li><li><span><a href=\"#Анализ-данных\" data-toc-modified-id=\"Анализ-данных-2.2\">Анализ данных</a></span><ul class=\"toc-item\"><li><span><a href=\"#1.-data_arc---данные-об-электродах\" data-toc-modified-id=\"1.-data_arc---данные-об-электродах-2.2.1\">1. data_arc - данные об электродах</a></span></li><li><span><a href=\"#2.-data_bulk---данные-о-подаче-сыпучих-материалов-(объем)\" data-toc-modified-id=\"2.-data_bulk---данные-о-подаче-сыпучих-материалов-(объем)-2.2.2\">2. data_bulk - данные о подаче сыпучих материалов (объем)</a></span></li><li><span><a href=\"#3.-data_bulk_time---данные-о-подаче-сыпучих-материалов-(время)\" data-toc-modified-id=\"3.-data_bulk_time---данные-о-подаче-сыпучих-материалов-(время)-2.2.3\">3. data_bulk_time - данные о подаче сыпучих материалов (время)</a></span></li><li><span><a href=\"#4.-data_gas---данные-о-продувке-сплава-газом\" data-toc-modified-id=\"4.-data_gas---данные-о-продувке-сплава-газом-2.2.4\">4. data_gas - данные о продувке сплава газом</a></span></li><li><span><a href=\"#5.-data_temp---результаты-измерения-температуры.-Целевая-фича\" data-toc-modified-id=\"5.-data_temp---результаты-измерения-температуры.-Целевая-фича-2.2.5\">5. data_temp - результаты измерения температуры. Целевая фича</a></span></li><li><span><a href=\"#6.-data_wire---данные-о-проволочных-материалах-(объём)\" data-toc-modified-id=\"6.-data_wire---данные-о-проволочных-материалах-(объём)-2.2.6\">6. data_wire - данные о проволочных материалах (объём)</a></span></li><li><span><a href=\"#7.-data_wire_time---данные-о-проволочных-материалах-(время)\" data-toc-modified-id=\"7.-data_wire_time---данные-о-проволочных-материалах-(время)-2.2.7\">7. data_wire_time - данные о проволочных материалах (время)</a></span></li><li><span><a href=\"#Вывод:\" data-toc-modified-id=\"Вывод:-2.2.8\">Вывод:</a></span></li></ul></li><li><span><a href=\"#Предобработка-данных\" data-toc-modified-id=\"Предобработка-данных-2.3\">Предобработка данных</a></span><ul class=\"toc-item\"><li><span><a href=\"#Подготовка-таргета\" data-toc-modified-id=\"Подготовка-таргета-2.3.1\">Подготовка таргета</a></span></li><li><span><a href=\"#Объединение-таблиц.-Работа-с-признаками\" data-toc-modified-id=\"Объединение-таблиц.-Работа-с-признаками-2.3.2\">Объединение таблиц. Работа с признаками</a></span><ul class=\"toc-item\"><li><span><a href=\"#1.-data_arc---данные-об-электродах\" data-toc-modified-id=\"1.-data_arc---данные-об-электродах-2.3.2.1\">1. data_arc - данные об электродах</a></span></li><li><span><a href=\"#2.-data_bulk---данные-о-подаче-сыпучих-материалов-(объем)\" data-toc-modified-id=\"2.-data_bulk---данные-о-подаче-сыпучих-материалов-(объем)-2.3.2.2\">2. data_bulk - данные о подаче сыпучих материалов (объем)</a></span></li><li><span><a href=\"#3.-data_bulk---данные-о-подаче-сыпучих-материалов-(время)\" data-toc-modified-id=\"3.-data_bulk---данные-о-подаче-сыпучих-материалов-(время)-2.3.2.3\">3. data_bulk - данные о подаче сыпучих материалов (время)</a></span></li><li><span><a href=\"#4.-data_wire---данные-о-проволочных-материалах-(объём)\" data-toc-modified-id=\"4.-data_wire---данные-о-проволочных-материалах-(объём)-2.3.2.4\">4. data_wire - данные о проволочных материалах (объём)</a></span></li><li><span><a href=\"#5.-data_wire_time---данные-о-проволочных-материалах-(время)\" data-toc-modified-id=\"5.-data_wire_time---данные-о-проволочных-материалах-(время)-2.3.2.5\">5. data_wire_time - данные о проволочных материалах (время)</a></span></li><li><span><a href=\"#Объединение\" data-toc-modified-id=\"Объединение-2.3.2.6\">Объединение</a></span></li></ul></li><li><span><a href=\"#Обработка-выбросов\" data-toc-modified-id=\"Обработка-выбросов-2.3.3\">Обработка выбросов</a></span></li><li><span><a href=\"#Разбиение-данных-на-train-и-test\" data-toc-modified-id=\"Разбиение-данных-на-train-и-test-2.3.4\">Разбиение данных на train и test</a></span></li><li><span><a href=\"#Грубая-предобработка-train\" data-toc-modified-id=\"Грубая-предобработка-train-2.3.5\">Грубая предобработка train</a></span></li><li><span><a href=\"#Вывод:\" data-toc-modified-id=\"Вывод:-2.3.6\">Вывод:</a></span></li></ul></li><li><span><a href=\"#Обучение-моделей\" data-toc-modified-id=\"Обучение-моделей-2.4\">Обучение моделей</a></span><ul class=\"toc-item\"><li><span><a href=\"#Выявление-самых-информативных-фичей\" data-toc-modified-id=\"Выявление-самых-информативных-фичей-2.4.1\">Выявление самых информативных фичей</a></span></li><li><span><a href=\"#Обучение-LinearRegression\" data-toc-modified-id=\"Обучение-LinearRegression-2.4.2\">Обучение LinearRegression</a></span></li><li><span><a href=\"#Обучение-RandomForestRegressor\" data-toc-modified-id=\"Обучение-RandomForestRegressor-2.4.3\">Обучение RandomForestRegressor</a></span></li><li><span><a href=\"#Обучение-CatBoostRegressor\" data-toc-modified-id=\"Обучение-CatBoostRegressor-2.4.4\">Обучение CatBoostRegressor</a></span></li><li><span><a href=\"#Обучение-LightGBM\" data-toc-modified-id=\"Обучение-LightGBM-2.4.5\">Обучение LightGBM</a></span></li><li><span><a href=\"#Обучение-XGBoost\" data-toc-modified-id=\"Обучение-XGBoost-2.4.6\">Обучение XGBoost</a></span></li></ul></li><li><span><a href=\"#Выводы\" data-toc-modified-id=\"Выводы-2.5\">Выводы</a></span></li></ul></li></ul></div>"
   ]
  },
  {
   "cell_type": "markdown",
   "metadata": {},
   "source": [
    "# Реализация проекта"
   ]
  },
  {
   "cell_type": "markdown",
   "metadata": {},
   "source": [
    "## Импорт библиотек. Загрузка данных"
   ]
  },
  {
   "cell_type": "code",
   "execution_count": 1,
   "metadata": {},
   "outputs": [],
   "source": [
    "import pandas as pd\n",
    "import numpy as np\n",
    "import matplotlib.pyplot as plt\n",
    "import seaborn as sns\n",
    "\n",
    "from scipy import stats\n",
    "\n",
    "from sklearn.model_selection import train_test_split, StratifiedKFold, RandomizedSearchCV, GridSearchCV\n",
    "from sklearn.preprocessing import StandardScaler\n",
    "from sklearn.metrics import mean_absolute_error\n",
    "from sklearn.svm import SVC\n",
    "from sklearn.feature_selection import RFECV\n",
    "from sklearn.linear_model import LinearRegression\n",
    "from sklearn.ensemble import RandomForestRegressor \n",
    "\n",
    "from catboost import CatBoostRegressor\n",
    "\n",
    "from lightgbm import LGBMRegressor\n",
    "\n",
    "from xgboost import XGBRegressor\n",
    "\n",
    "from pyod.models.knn import KNN\n",
    "\n",
    "import warnings"
   ]
  },
  {
   "cell_type": "code",
   "execution_count": 2,
   "metadata": {},
   "outputs": [],
   "source": [
    "pd.options.mode.chained_assignment = None  "
   ]
  },
  {
   "cell_type": "code",
   "execution_count": 3,
   "metadata": {},
   "outputs": [],
   "source": [
    "data_arc = pd.read_csv('final_steel/data_arc.csv')\n",
    "data_bulk = pd.read_csv('final_steel/data_bulk.csv')\n",
    "data_bulk_time = pd.read_csv('final_steel/data_bulk_time.csv')\n",
    "data_gas = pd.read_csv('final_steel/data_gas.csv')\n",
    "data_temp = pd.read_csv('final_steel/data_temp.csv')\n",
    "data_wire = pd.read_csv('final_steel/data_wire.csv')\n",
    "data_wire_time = pd.read_csv('final_steel/data_wire_time.csv')"
   ]
  },
  {
   "cell_type": "markdown",
   "metadata": {},
   "source": [
    "## Анализ данных"
   ]
  },
  {
   "cell_type": "markdown",
   "metadata": {},
   "source": [
    "### 1. data_arc - данные об электродах"
   ]
  },
  {
   "cell_type": "code",
   "execution_count": 4,
   "metadata": {},
   "outputs": [],
   "source": [
    "def analisys(data, describe=True):\n",
    "    print('Первые 5 строк таблицы:')\n",
    "    display(data.head())\n",
    "    print('Информация о таблице:')\n",
    "    display(data.info())\n",
    "    if describe == True:\n",
    "        print('Основные статистики числовых параметров:')\n",
    "        display(data.describe())\n",
    "    print('Максимальное количество строк с пропусками:', data.isna().sum().max())\n",
    "    print()\n",
    "    print('Количество дубликатов:', data.duplicated().sum())"
   ]
  },
  {
   "cell_type": "code",
   "execution_count": 5,
   "metadata": {},
   "outputs": [
    {
     "name": "stdout",
     "output_type": "stream",
     "text": [
      "Первые 5 строк таблицы:\n"
     ]
    },
    {
     "data": {
      "text/html": [
       "<div>\n",
       "<style scoped>\n",
       "    .dataframe tbody tr th:only-of-type {\n",
       "        vertical-align: middle;\n",
       "    }\n",
       "\n",
       "    .dataframe tbody tr th {\n",
       "        vertical-align: top;\n",
       "    }\n",
       "\n",
       "    .dataframe thead th {\n",
       "        text-align: right;\n",
       "    }\n",
       "</style>\n",
       "<table border=\"1\" class=\"dataframe\">\n",
       "  <thead>\n",
       "    <tr style=\"text-align: right;\">\n",
       "      <th></th>\n",
       "      <th>key</th>\n",
       "      <th>Начало нагрева дугой</th>\n",
       "      <th>Конец нагрева дугой</th>\n",
       "      <th>Активная мощность</th>\n",
       "      <th>Реактивная мощность</th>\n",
       "    </tr>\n",
       "  </thead>\n",
       "  <tbody>\n",
       "    <tr>\n",
       "      <th>0</th>\n",
       "      <td>1</td>\n",
       "      <td>2019-05-03 11:02:14</td>\n",
       "      <td>2019-05-03 11:06:02</td>\n",
       "      <td>0.976059</td>\n",
       "      <td>0.687084</td>\n",
       "    </tr>\n",
       "    <tr>\n",
       "      <th>1</th>\n",
       "      <td>1</td>\n",
       "      <td>2019-05-03 11:07:28</td>\n",
       "      <td>2019-05-03 11:10:33</td>\n",
       "      <td>0.805607</td>\n",
       "      <td>0.520285</td>\n",
       "    </tr>\n",
       "    <tr>\n",
       "      <th>2</th>\n",
       "      <td>1</td>\n",
       "      <td>2019-05-03 11:11:44</td>\n",
       "      <td>2019-05-03 11:14:36</td>\n",
       "      <td>0.744363</td>\n",
       "      <td>0.498805</td>\n",
       "    </tr>\n",
       "    <tr>\n",
       "      <th>3</th>\n",
       "      <td>1</td>\n",
       "      <td>2019-05-03 11:18:14</td>\n",
       "      <td>2019-05-03 11:24:19</td>\n",
       "      <td>1.659363</td>\n",
       "      <td>1.062669</td>\n",
       "    </tr>\n",
       "    <tr>\n",
       "      <th>4</th>\n",
       "      <td>1</td>\n",
       "      <td>2019-05-03 11:26:09</td>\n",
       "      <td>2019-05-03 11:28:37</td>\n",
       "      <td>0.692755</td>\n",
       "      <td>0.414397</td>\n",
       "    </tr>\n",
       "  </tbody>\n",
       "</table>\n",
       "</div>"
      ],
      "text/plain": [
       "   key Начало нагрева дугой  Конец нагрева дугой  Активная мощность  \\\n",
       "0    1  2019-05-03 11:02:14  2019-05-03 11:06:02           0.976059   \n",
       "1    1  2019-05-03 11:07:28  2019-05-03 11:10:33           0.805607   \n",
       "2    1  2019-05-03 11:11:44  2019-05-03 11:14:36           0.744363   \n",
       "3    1  2019-05-03 11:18:14  2019-05-03 11:24:19           1.659363   \n",
       "4    1  2019-05-03 11:26:09  2019-05-03 11:28:37           0.692755   \n",
       "\n",
       "   Реактивная мощность  \n",
       "0             0.687084  \n",
       "1             0.520285  \n",
       "2             0.498805  \n",
       "3             1.062669  \n",
       "4             0.414397  "
      ]
     },
     "metadata": {},
     "output_type": "display_data"
    },
    {
     "name": "stdout",
     "output_type": "stream",
     "text": [
      "Информация о таблице:\n",
      "<class 'pandas.core.frame.DataFrame'>\n",
      "RangeIndex: 14876 entries, 0 to 14875\n",
      "Data columns (total 5 columns):\n",
      " #   Column                Non-Null Count  Dtype  \n",
      "---  ------                --------------  -----  \n",
      " 0   key                   14876 non-null  int64  \n",
      " 1   Начало нагрева дугой  14876 non-null  object \n",
      " 2   Конец нагрева дугой   14876 non-null  object \n",
      " 3   Активная мощность     14876 non-null  float64\n",
      " 4   Реактивная мощность   14876 non-null  float64\n",
      "dtypes: float64(2), int64(1), object(2)\n",
      "memory usage: 581.2+ KB\n"
     ]
    },
    {
     "data": {
      "text/plain": [
       "None"
      ]
     },
     "metadata": {},
     "output_type": "display_data"
    },
    {
     "name": "stdout",
     "output_type": "stream",
     "text": [
      "Основные статистики числовых параметров:\n"
     ]
    },
    {
     "data": {
      "text/html": [
       "<div>\n",
       "<style scoped>\n",
       "    .dataframe tbody tr th:only-of-type {\n",
       "        vertical-align: middle;\n",
       "    }\n",
       "\n",
       "    .dataframe tbody tr th {\n",
       "        vertical-align: top;\n",
       "    }\n",
       "\n",
       "    .dataframe thead th {\n",
       "        text-align: right;\n",
       "    }\n",
       "</style>\n",
       "<table border=\"1\" class=\"dataframe\">\n",
       "  <thead>\n",
       "    <tr style=\"text-align: right;\">\n",
       "      <th></th>\n",
       "      <th>key</th>\n",
       "      <th>Активная мощность</th>\n",
       "      <th>Реактивная мощность</th>\n",
       "    </tr>\n",
       "  </thead>\n",
       "  <tbody>\n",
       "    <tr>\n",
       "      <th>count</th>\n",
       "      <td>14876.000000</td>\n",
       "      <td>14876.000000</td>\n",
       "      <td>14876.000000</td>\n",
       "    </tr>\n",
       "    <tr>\n",
       "      <th>mean</th>\n",
       "      <td>1615.220422</td>\n",
       "      <td>0.670441</td>\n",
       "      <td>0.452592</td>\n",
       "    </tr>\n",
       "    <tr>\n",
       "      <th>std</th>\n",
       "      <td>934.571502</td>\n",
       "      <td>0.408159</td>\n",
       "      <td>5.878702</td>\n",
       "    </tr>\n",
       "    <tr>\n",
       "      <th>min</th>\n",
       "      <td>1.000000</td>\n",
       "      <td>0.030002</td>\n",
       "      <td>-715.504924</td>\n",
       "    </tr>\n",
       "    <tr>\n",
       "      <th>25%</th>\n",
       "      <td>806.000000</td>\n",
       "      <td>0.395297</td>\n",
       "      <td>0.290991</td>\n",
       "    </tr>\n",
       "    <tr>\n",
       "      <th>50%</th>\n",
       "      <td>1617.000000</td>\n",
       "      <td>0.555517</td>\n",
       "      <td>0.415962</td>\n",
       "    </tr>\n",
       "    <tr>\n",
       "      <th>75%</th>\n",
       "      <td>2429.000000</td>\n",
       "      <td>0.857034</td>\n",
       "      <td>0.637371</td>\n",
       "    </tr>\n",
       "    <tr>\n",
       "      <th>max</th>\n",
       "      <td>3241.000000</td>\n",
       "      <td>3.731596</td>\n",
       "      <td>2.676388</td>\n",
       "    </tr>\n",
       "  </tbody>\n",
       "</table>\n",
       "</div>"
      ],
      "text/plain": [
       "                key  Активная мощность  Реактивная мощность\n",
       "count  14876.000000       14876.000000         14876.000000\n",
       "mean    1615.220422           0.670441             0.452592\n",
       "std      934.571502           0.408159             5.878702\n",
       "min        1.000000           0.030002          -715.504924\n",
       "25%      806.000000           0.395297             0.290991\n",
       "50%     1617.000000           0.555517             0.415962\n",
       "75%     2429.000000           0.857034             0.637371\n",
       "max     3241.000000           3.731596             2.676388"
      ]
     },
     "metadata": {},
     "output_type": "display_data"
    },
    {
     "name": "stdout",
     "output_type": "stream",
     "text": [
      "Максимальное количество строк с пропусками: 0\n",
      "\n",
      "Количество дубликатов: 0\n"
     ]
    }
   ],
   "source": [
    "analisys(data_arc)"
   ]
  },
  {
   "cell_type": "markdown",
   "metadata": {},
   "source": [
    "Визуализируем параметры мощности. Чтобы график реактивной отобразился корректно, отбросим строку с высоким отрицательным значением."
   ]
  },
  {
   "cell_type": "code",
   "execution_count": 6,
   "metadata": {
    "scrolled": true
   },
   "outputs": [],
   "source": [
    "def hist_plot(data, features, union=False, box_plot=True):\n",
    "    for feature in features:\n",
    "        plt.figure(figsize=(15,4))\n",
    "        plt.hist(data[feature], histtype='bar', bins=30)\n",
    "        plt.title('Гистограмма параметра ' + feature)\n",
    "        plt.xlabel(feature)\n",
    "        plt.ylabel('Частота')\n",
    "        plt.grid(True)\n",
    "        plt.show()\n",
    "        #Бокс плот\n",
    "        if box_plot==True:\n",
    "            plt.figure(figsize=(15,1))\n",
    "            plt.boxplot(data[feature], vert=False)\n",
    "            plt.xlabel(feature)\n",
    "            plt.title('Диаграмма размаха параметра ' + feature)\n",
    "            plt.show()\n"
   ]
  },
  {
   "cell_type": "code",
   "execution_count": 7,
   "metadata": {},
   "outputs": [
    {
     "data": {
      "image/png": "[encoded data removed]",
      "text/plain": [
       "<Figure size 1080x288 with 1 Axes>"
      ]
     },
     "metadata": {
      "needs_background": "light"
     },
     "output_type": "display_data"
    },
    {
     "data": {
      "image/png": "[encoded data removed]",
      "text/plain": [
       "<Figure size 1080x72 with 1 Axes>"
      ]
     },
     "metadata": {
      "needs_background": "light"
     },
     "output_type": "display_data"
    },
    {
     "data": {
      "image/png": "[encoded data removed]",
      "text/plain": [
       "<Figure size 1080x288 with 1 Axes>"
      ]
     },
     "metadata": {
      "needs_background": "light"
     },
     "output_type": "display_data"
    },
    {
     "data": {
      "image/png": "[encoded data removed]",
      "text/plain": [
       "<Figure size 1080x72 with 1 Axes>"
      ]
     },
     "metadata": {
      "needs_background": "light"
     },
     "output_type": "display_data"
    }
   ],
   "source": [
    "hist_plot(data_arc.loc[data_arc.iloc[:, 4] > 0], data_arc.columns[3:5], union=False)"
   ]
  },
  {
   "cell_type": "markdown",
   "metadata": {},
   "source": [
    "Распределения похожи на нормальные, с длинным правым хвостом. Диаграммы распределения говорят нам о том, что это выбросы. Причем, их достаточно большое количество."
   ]
  },
  {
   "cell_type": "markdown",
   "metadata": {},
   "source": [
    "**План предобработки data_arc:**\n",
    "- [x] Столбцы имеют некорректные названия. Переименовать, привести к нижнему регистру\n",
    "- [x] Обработать столбцы Начало/Конец нагрева дугой. Привести к datetime64\n",
    "- [x] Столбец Реактивная мощность - содержит высокое отрицательное значение. Обработать его и прочие выбросы."
   ]
  },
  {
   "cell_type": "markdown",
   "metadata": {},
   "source": [
    "### 2. data_bulk - данные о подаче сыпучих материалов (объем)"
   ]
  },
  {
   "cell_type": "code",
   "execution_count": 8,
   "metadata": {},
   "outputs": [
    {
     "name": "stdout",
     "output_type": "stream",
     "text": [
      "Первые 5 строк таблицы:\n"
     ]
    },
    {
     "data": {
      "text/html": [
       "<div>\n",
       "<style scoped>\n",
       "    .dataframe tbody tr th:only-of-type {\n",
       "        vertical-align: middle;\n",
       "    }\n",
       "\n",
       "    .dataframe tbody tr th {\n",
       "        vertical-align: top;\n",
       "    }\n",
       "\n",
       "    .dataframe thead th {\n",
       "        text-align: right;\n",
       "    }\n",
       "</style>\n",
       "<table border=\"1\" class=\"dataframe\">\n",
       "  <thead>\n",
       "    <tr style=\"text-align: right;\">\n",
       "      <th></th>\n",
       "      <th>key</th>\n",
       "      <th>Bulk 1</th>\n",
       "      <th>Bulk 2</th>\n",
       "      <th>Bulk 3</th>\n",
       "      <th>Bulk 4</th>\n",
       "      <th>Bulk 5</th>\n",
       "      <th>Bulk 6</th>\n",
       "      <th>Bulk 7</th>\n",
       "      <th>Bulk 8</th>\n",
       "      <th>Bulk 9</th>\n",
       "      <th>Bulk 10</th>\n",
       "      <th>Bulk 11</th>\n",
       "      <th>Bulk 12</th>\n",
       "      <th>Bulk 13</th>\n",
       "      <th>Bulk 14</th>\n",
       "      <th>Bulk 15</th>\n",
       "    </tr>\n",
       "  </thead>\n",
       "  <tbody>\n",
       "    <tr>\n",
       "      <th>0</th>\n",
       "      <td>1</td>\n",
       "      <td>NaN</td>\n",
       "      <td>NaN</td>\n",
       "      <td>NaN</td>\n",
       "      <td>43.0</td>\n",
       "      <td>NaN</td>\n",
       "      <td>NaN</td>\n",
       "      <td>NaN</td>\n",
       "      <td>NaN</td>\n",
       "      <td>NaN</td>\n",
       "      <td>NaN</td>\n",
       "      <td>NaN</td>\n",
       "      <td>206.0</td>\n",
       "      <td>NaN</td>\n",
       "      <td>150.0</td>\n",
       "      <td>154.0</td>\n",
       "    </tr>\n",
       "    <tr>\n",
       "      <th>1</th>\n",
       "      <td>2</td>\n",
       "      <td>NaN</td>\n",
       "      <td>NaN</td>\n",
       "      <td>NaN</td>\n",
       "      <td>73.0</td>\n",
       "      <td>NaN</td>\n",
       "      <td>NaN</td>\n",
       "      <td>NaN</td>\n",
       "      <td>NaN</td>\n",
       "      <td>NaN</td>\n",
       "      <td>NaN</td>\n",
       "      <td>NaN</td>\n",
       "      <td>206.0</td>\n",
       "      <td>NaN</td>\n",
       "      <td>149.0</td>\n",
       "      <td>154.0</td>\n",
       "    </tr>\n",
       "    <tr>\n",
       "      <th>2</th>\n",
       "      <td>3</td>\n",
       "      <td>NaN</td>\n",
       "      <td>NaN</td>\n",
       "      <td>NaN</td>\n",
       "      <td>34.0</td>\n",
       "      <td>NaN</td>\n",
       "      <td>NaN</td>\n",
       "      <td>NaN</td>\n",
       "      <td>NaN</td>\n",
       "      <td>NaN</td>\n",
       "      <td>NaN</td>\n",
       "      <td>NaN</td>\n",
       "      <td>205.0</td>\n",
       "      <td>NaN</td>\n",
       "      <td>152.0</td>\n",
       "      <td>153.0</td>\n",
       "    </tr>\n",
       "    <tr>\n",
       "      <th>3</th>\n",
       "      <td>4</td>\n",
       "      <td>NaN</td>\n",
       "      <td>NaN</td>\n",
       "      <td>NaN</td>\n",
       "      <td>81.0</td>\n",
       "      <td>NaN</td>\n",
       "      <td>NaN</td>\n",
       "      <td>NaN</td>\n",
       "      <td>NaN</td>\n",
       "      <td>NaN</td>\n",
       "      <td>NaN</td>\n",
       "      <td>NaN</td>\n",
       "      <td>207.0</td>\n",
       "      <td>NaN</td>\n",
       "      <td>153.0</td>\n",
       "      <td>154.0</td>\n",
       "    </tr>\n",
       "    <tr>\n",
       "      <th>4</th>\n",
       "      <td>5</td>\n",
       "      <td>NaN</td>\n",
       "      <td>NaN</td>\n",
       "      <td>NaN</td>\n",
       "      <td>78.0</td>\n",
       "      <td>NaN</td>\n",
       "      <td>NaN</td>\n",
       "      <td>NaN</td>\n",
       "      <td>NaN</td>\n",
       "      <td>NaN</td>\n",
       "      <td>NaN</td>\n",
       "      <td>NaN</td>\n",
       "      <td>203.0</td>\n",
       "      <td>NaN</td>\n",
       "      <td>151.0</td>\n",
       "      <td>152.0</td>\n",
       "    </tr>\n",
       "  </tbody>\n",
       "</table>\n",
       "</div>"
      ],
      "text/plain": [
       "   key  Bulk 1  Bulk 2  Bulk 3  Bulk 4  Bulk 5  Bulk 6  Bulk 7  Bulk 8  \\\n",
       "0    1     NaN     NaN     NaN    43.0     NaN     NaN     NaN     NaN   \n",
       "1    2     NaN     NaN     NaN    73.0     NaN     NaN     NaN     NaN   \n",
       "2    3     NaN     NaN     NaN    34.0     NaN     NaN     NaN     NaN   \n",
       "3    4     NaN     NaN     NaN    81.0     NaN     NaN     NaN     NaN   \n",
       "4    5     NaN     NaN     NaN    78.0     NaN     NaN     NaN     NaN   \n",
       "\n",
       "   Bulk 9  Bulk 10  Bulk 11  Bulk 12  Bulk 13  Bulk 14  Bulk 15  \n",
       "0     NaN      NaN      NaN    206.0      NaN    150.0    154.0  \n",
       "1     NaN      NaN      NaN    206.0      NaN    149.0    154.0  \n",
       "2     NaN      NaN      NaN    205.0      NaN    152.0    153.0  \n",
       "3     NaN      NaN      NaN    207.0      NaN    153.0    154.0  \n",
       "4     NaN      NaN      NaN    203.0      NaN    151.0    152.0  "
      ]
     },
     "metadata": {},
     "output_type": "display_data"
    },
    {
     "name": "stdout",
     "output_type": "stream",
     "text": [
      "Информация о таблице:\n",
      "<class 'pandas.core.frame.DataFrame'>\n",
      "RangeIndex: 3129 entries, 0 to 3128\n",
      "Data columns (total 16 columns):\n",
      " #   Column   Non-Null Count  Dtype  \n",
      "---  ------   --------------  -----  \n",
      " 0   key      3129 non-null   int64  \n",
      " 1   Bulk 1   252 non-null    float64\n",
      " 2   Bulk 2   22 non-null     float64\n",
      " 3   Bulk 3   1298 non-null   float64\n",
      " 4   Bulk 4   1014 non-null   float64\n",
      " 5   Bulk 5   77 non-null     float64\n",
      " 6   Bulk 6   576 non-null    float64\n",
      " 7   Bulk 7   25 non-null     float64\n",
      " 8   Bulk 8   1 non-null      float64\n",
      " 9   Bulk 9   19 non-null     float64\n",
      " 10  Bulk 10  176 non-null    float64\n",
      " 11  Bulk 11  177 non-null    float64\n",
      " 12  Bulk 12  2450 non-null   float64\n",
      " 13  Bulk 13  18 non-null     float64\n",
      " 14  Bulk 14  2806 non-null   float64\n",
      " 15  Bulk 15  2248 non-null   float64\n",
      "dtypes: float64(15), int64(1)\n",
      "memory usage: 391.2 KB\n"
     ]
    },
    {
     "data": {
      "text/plain": [
       "None"
      ]
     },
     "metadata": {},
     "output_type": "display_data"
    },
    {
     "name": "stdout",
     "output_type": "stream",
     "text": [
      "Основные статистики числовых параметров:\n"
     ]
    },
    {
     "data": {
      "text/html": [
       "<div>\n",
       "<style scoped>\n",
       "    .dataframe tbody tr th:only-of-type {\n",
       "        vertical-align: middle;\n",
       "    }\n",
       "\n",
       "    .dataframe tbody tr th {\n",
       "        vertical-align: top;\n",
       "    }\n",
       "\n",
       "    .dataframe thead th {\n",
       "        text-align: right;\n",
       "    }\n",
       "</style>\n",
       "<table border=\"1\" class=\"dataframe\">\n",
       "  <thead>\n",
       "    <tr style=\"text-align: right;\">\n",
       "      <th></th>\n",
       "      <th>key</th>\n",
       "      <th>Bulk 1</th>\n",
       "      <th>Bulk 2</th>\n",
       "      <th>Bulk 3</th>\n",
       "      <th>Bulk 4</th>\n",
       "      <th>Bulk 5</th>\n",
       "      <th>Bulk 6</th>\n",
       "      <th>Bulk 7</th>\n",
       "      <th>Bulk 8</th>\n",
       "      <th>Bulk 9</th>\n",
       "      <th>Bulk 10</th>\n",
       "      <th>Bulk 11</th>\n",
       "      <th>Bulk 12</th>\n",
       "      <th>Bulk 13</th>\n",
       "      <th>Bulk 14</th>\n",
       "      <th>Bulk 15</th>\n",
       "    </tr>\n",
       "  </thead>\n",
       "  <tbody>\n",
       "    <tr>\n",
       "      <th>count</th>\n",
       "      <td>3129.000000</td>\n",
       "      <td>252.000000</td>\n",
       "      <td>22.000000</td>\n",
       "      <td>1298.000000</td>\n",
       "      <td>1014.000000</td>\n",
       "      <td>77.000000</td>\n",
       "      <td>576.000000</td>\n",
       "      <td>25.000000</td>\n",
       "      <td>1.0</td>\n",
       "      <td>19.000000</td>\n",
       "      <td>176.000000</td>\n",
       "      <td>177.000000</td>\n",
       "      <td>2450.000000</td>\n",
       "      <td>18.000000</td>\n",
       "      <td>2806.000000</td>\n",
       "      <td>2248.000000</td>\n",
       "    </tr>\n",
       "    <tr>\n",
       "      <th>mean</th>\n",
       "      <td>1624.383509</td>\n",
       "      <td>39.242063</td>\n",
       "      <td>253.045455</td>\n",
       "      <td>113.879045</td>\n",
       "      <td>104.394477</td>\n",
       "      <td>107.025974</td>\n",
       "      <td>118.925347</td>\n",
       "      <td>305.600000</td>\n",
       "      <td>49.0</td>\n",
       "      <td>76.315789</td>\n",
       "      <td>83.284091</td>\n",
       "      <td>76.819209</td>\n",
       "      <td>260.471020</td>\n",
       "      <td>181.111111</td>\n",
       "      <td>170.284747</td>\n",
       "      <td>160.513345</td>\n",
       "    </tr>\n",
       "    <tr>\n",
       "      <th>std</th>\n",
       "      <td>933.337642</td>\n",
       "      <td>18.277654</td>\n",
       "      <td>21.180578</td>\n",
       "      <td>75.483494</td>\n",
       "      <td>48.184126</td>\n",
       "      <td>81.790646</td>\n",
       "      <td>72.057776</td>\n",
       "      <td>191.022904</td>\n",
       "      <td>NaN</td>\n",
       "      <td>21.720581</td>\n",
       "      <td>26.060347</td>\n",
       "      <td>59.655365</td>\n",
       "      <td>120.649269</td>\n",
       "      <td>46.088009</td>\n",
       "      <td>65.868652</td>\n",
       "      <td>51.765319</td>\n",
       "    </tr>\n",
       "    <tr>\n",
       "      <th>min</th>\n",
       "      <td>1.000000</td>\n",
       "      <td>10.000000</td>\n",
       "      <td>228.000000</td>\n",
       "      <td>6.000000</td>\n",
       "      <td>12.000000</td>\n",
       "      <td>11.000000</td>\n",
       "      <td>17.000000</td>\n",
       "      <td>47.000000</td>\n",
       "      <td>49.0</td>\n",
       "      <td>63.000000</td>\n",
       "      <td>24.000000</td>\n",
       "      <td>8.000000</td>\n",
       "      <td>53.000000</td>\n",
       "      <td>151.000000</td>\n",
       "      <td>16.000000</td>\n",
       "      <td>1.000000</td>\n",
       "    </tr>\n",
       "    <tr>\n",
       "      <th>25%</th>\n",
       "      <td>816.000000</td>\n",
       "      <td>27.000000</td>\n",
       "      <td>242.000000</td>\n",
       "      <td>58.000000</td>\n",
       "      <td>72.000000</td>\n",
       "      <td>70.000000</td>\n",
       "      <td>69.750000</td>\n",
       "      <td>155.000000</td>\n",
       "      <td>49.0</td>\n",
       "      <td>66.000000</td>\n",
       "      <td>64.000000</td>\n",
       "      <td>25.000000</td>\n",
       "      <td>204.000000</td>\n",
       "      <td>153.250000</td>\n",
       "      <td>119.000000</td>\n",
       "      <td>105.000000</td>\n",
       "    </tr>\n",
       "    <tr>\n",
       "      <th>50%</th>\n",
       "      <td>1622.000000</td>\n",
       "      <td>31.000000</td>\n",
       "      <td>251.500000</td>\n",
       "      <td>97.500000</td>\n",
       "      <td>102.000000</td>\n",
       "      <td>86.000000</td>\n",
       "      <td>100.000000</td>\n",
       "      <td>298.000000</td>\n",
       "      <td>49.0</td>\n",
       "      <td>68.000000</td>\n",
       "      <td>86.500000</td>\n",
       "      <td>64.000000</td>\n",
       "      <td>208.000000</td>\n",
       "      <td>155.500000</td>\n",
       "      <td>151.000000</td>\n",
       "      <td>160.000000</td>\n",
       "    </tr>\n",
       "    <tr>\n",
       "      <th>75%</th>\n",
       "      <td>2431.000000</td>\n",
       "      <td>46.000000</td>\n",
       "      <td>257.750000</td>\n",
       "      <td>152.000000</td>\n",
       "      <td>133.000000</td>\n",
       "      <td>132.000000</td>\n",
       "      <td>157.000000</td>\n",
       "      <td>406.000000</td>\n",
       "      <td>49.0</td>\n",
       "      <td>70.500000</td>\n",
       "      <td>102.000000</td>\n",
       "      <td>106.000000</td>\n",
       "      <td>316.000000</td>\n",
       "      <td>203.500000</td>\n",
       "      <td>205.750000</td>\n",
       "      <td>205.000000</td>\n",
       "    </tr>\n",
       "    <tr>\n",
       "      <th>max</th>\n",
       "      <td>3241.000000</td>\n",
       "      <td>185.000000</td>\n",
       "      <td>325.000000</td>\n",
       "      <td>454.000000</td>\n",
       "      <td>281.000000</td>\n",
       "      <td>603.000000</td>\n",
       "      <td>503.000000</td>\n",
       "      <td>772.000000</td>\n",
       "      <td>49.0</td>\n",
       "      <td>147.000000</td>\n",
       "      <td>159.000000</td>\n",
       "      <td>313.000000</td>\n",
       "      <td>1849.000000</td>\n",
       "      <td>305.000000</td>\n",
       "      <td>636.000000</td>\n",
       "      <td>405.000000</td>\n",
       "    </tr>\n",
       "  </tbody>\n",
       "</table>\n",
       "</div>"
      ],
      "text/plain": [
       "               key      Bulk 1      Bulk 2       Bulk 3       Bulk 4  \\\n",
       "count  3129.000000  252.000000   22.000000  1298.000000  1014.000000   \n",
       "mean   1624.383509   39.242063  253.045455   113.879045   104.394477   \n",
       "std     933.337642   18.277654   21.180578    75.483494    48.184126   \n",
       "min       1.000000   10.000000  228.000000     6.000000    12.000000   \n",
       "25%     816.000000   27.000000  242.000000    58.000000    72.000000   \n",
       "50%    1622.000000   31.000000  251.500000    97.500000   102.000000   \n",
       "75%    2431.000000   46.000000  257.750000   152.000000   133.000000   \n",
       "max    3241.000000  185.000000  325.000000   454.000000   281.000000   \n",
       "\n",
       "           Bulk 5      Bulk 6      Bulk 7  Bulk 8      Bulk 9     Bulk 10  \\\n",
       "count   77.000000  576.000000   25.000000     1.0   19.000000  176.000000   \n",
       "mean   107.025974  118.925347  305.600000    49.0   76.315789   83.284091   \n",
       "std     81.790646   72.057776  191.022904     NaN   21.720581   26.060347   \n",
       "min     11.000000   17.000000   47.000000    49.0   63.000000   24.000000   \n",
       "25%     70.000000   69.750000  155.000000    49.0   66.000000   64.000000   \n",
       "50%     86.000000  100.000000  298.000000    49.0   68.000000   86.500000   \n",
       "75%    132.000000  157.000000  406.000000    49.0   70.500000  102.000000   \n",
       "max    603.000000  503.000000  772.000000    49.0  147.000000  159.000000   \n",
       "\n",
       "          Bulk 11      Bulk 12     Bulk 13      Bulk 14      Bulk 15  \n",
       "count  177.000000  2450.000000   18.000000  2806.000000  2248.000000  \n",
       "mean    76.819209   260.471020  181.111111   170.284747   160.513345  \n",
       "std     59.655365   120.649269   46.088009    65.868652    51.765319  \n",
       "min      8.000000    53.000000  151.000000    16.000000     1.000000  \n",
       "25%     25.000000   204.000000  153.250000   119.000000   105.000000  \n",
       "50%     64.000000   208.000000  155.500000   151.000000   160.000000  \n",
       "75%    106.000000   316.000000  203.500000   205.750000   205.000000  \n",
       "max    313.000000  1849.000000  305.000000   636.000000   405.000000  "
      ]
     },
     "metadata": {},
     "output_type": "display_data"
    },
    {
     "name": "stdout",
     "output_type": "stream",
     "text": [
      "Максимальное количество строк с пропусками: 3128\n",
      "\n",
      "Количество дубликатов: 0\n"
     ]
    }
   ],
   "source": [
    "analisys(data_bulk)"
   ]
  },
  {
   "cell_type": "markdown",
   "metadata": {},
   "source": [
    "**План предобработки data_bulk:**\n",
    "- [x] Столбцы имеют некорректные названия. Переименовать, привести к нижнему регистру\n",
    "- [x] Большое количество пропусков. Так как это данные об объеме добавленных сыпучих материалов, можно предположить, что пропуски - это отсутствие добавок. Следовательно, можно заполнить Nan на 0 значение.\n",
    "- [x] Столбец Bulk-8 имеет единственное значение. Странно. Проверить.\n",
    "- Количество ключей 3129 - в то время как максимальное значение ключа = 3241. Вероятно, есть этапы когда вообще не добавлялось никаких материалов в сплав.\n",
    "- [x] Отыскать различные типы стали по тому, какие типы сыпучих материалов добавлены в состав. (оказалось слишком много)"
   ]
  },
  {
   "cell_type": "markdown",
   "metadata": {},
   "source": [
    "### 3. data_bulk_time - данные о подаче сыпучих материалов (время)"
   ]
  },
  {
   "cell_type": "code",
   "execution_count": 9,
   "metadata": {
    "scrolled": false
   },
   "outputs": [
    {
     "name": "stdout",
     "output_type": "stream",
     "text": [
      "Первые 5 строк таблицы:\n"
     ]
    },
    {
     "data": {
      "text/html": [
       "<div>\n",
       "<style scoped>\n",
       "    .dataframe tbody tr th:only-of-type {\n",
       "        vertical-align: middle;\n",
       "    }\n",
       "\n",
       "    .dataframe tbody tr th {\n",
       "        vertical-align: top;\n",
       "    }\n",
       "\n",
       "    .dataframe thead th {\n",
       "        text-align: right;\n",
       "    }\n",
       "</style>\n",
       "<table border=\"1\" class=\"dataframe\">\n",
       "  <thead>\n",
       "    <tr style=\"text-align: right;\">\n",
       "      <th></th>\n",
       "      <th>key</th>\n",
       "      <th>Bulk 1</th>\n",
       "      <th>Bulk 2</th>\n",
       "      <th>Bulk 3</th>\n",
       "      <th>Bulk 4</th>\n",
       "      <th>Bulk 5</th>\n",
       "      <th>Bulk 6</th>\n",
       "      <th>Bulk 7</th>\n",
       "      <th>Bulk 8</th>\n",
       "      <th>Bulk 9</th>\n",
       "      <th>Bulk 10</th>\n",
       "      <th>Bulk 11</th>\n",
       "      <th>Bulk 12</th>\n",
       "      <th>Bulk 13</th>\n",
       "      <th>Bulk 14</th>\n",
       "      <th>Bulk 15</th>\n",
       "    </tr>\n",
       "  </thead>\n",
       "  <tbody>\n",
       "    <tr>\n",
       "      <th>0</th>\n",
       "      <td>1</td>\n",
       "      <td>NaN</td>\n",
       "      <td>NaN</td>\n",
       "      <td>NaN</td>\n",
       "      <td>2019-05-03 11:21:30</td>\n",
       "      <td>NaN</td>\n",
       "      <td>NaN</td>\n",
       "      <td>NaN</td>\n",
       "      <td>NaN</td>\n",
       "      <td>NaN</td>\n",
       "      <td>NaN</td>\n",
       "      <td>NaN</td>\n",
       "      <td>2019-05-03 11:03:52</td>\n",
       "      <td>NaN</td>\n",
       "      <td>2019-05-03 11:03:52</td>\n",
       "      <td>2019-05-03 11:03:52</td>\n",
       "    </tr>\n",
       "    <tr>\n",
       "      <th>1</th>\n",
       "      <td>2</td>\n",
       "      <td>NaN</td>\n",
       "      <td>NaN</td>\n",
       "      <td>NaN</td>\n",
       "      <td>2019-05-03 11:46:38</td>\n",
       "      <td>NaN</td>\n",
       "      <td>NaN</td>\n",
       "      <td>NaN</td>\n",
       "      <td>NaN</td>\n",
       "      <td>NaN</td>\n",
       "      <td>NaN</td>\n",
       "      <td>NaN</td>\n",
       "      <td>2019-05-03 11:40:20</td>\n",
       "      <td>NaN</td>\n",
       "      <td>2019-05-03 11:40:20</td>\n",
       "      <td>2019-05-03 11:40:20</td>\n",
       "    </tr>\n",
       "    <tr>\n",
       "      <th>2</th>\n",
       "      <td>3</td>\n",
       "      <td>NaN</td>\n",
       "      <td>NaN</td>\n",
       "      <td>NaN</td>\n",
       "      <td>2019-05-03 12:31:06</td>\n",
       "      <td>NaN</td>\n",
       "      <td>NaN</td>\n",
       "      <td>NaN</td>\n",
       "      <td>NaN</td>\n",
       "      <td>NaN</td>\n",
       "      <td>NaN</td>\n",
       "      <td>NaN</td>\n",
       "      <td>2019-05-03 12:09:40</td>\n",
       "      <td>NaN</td>\n",
       "      <td>2019-05-03 12:09:40</td>\n",
       "      <td>2019-05-03 12:09:40</td>\n",
       "    </tr>\n",
       "    <tr>\n",
       "      <th>3</th>\n",
       "      <td>4</td>\n",
       "      <td>NaN</td>\n",
       "      <td>NaN</td>\n",
       "      <td>NaN</td>\n",
       "      <td>2019-05-03 12:48:43</td>\n",
       "      <td>NaN</td>\n",
       "      <td>NaN</td>\n",
       "      <td>NaN</td>\n",
       "      <td>NaN</td>\n",
       "      <td>NaN</td>\n",
       "      <td>NaN</td>\n",
       "      <td>NaN</td>\n",
       "      <td>2019-05-03 12:41:24</td>\n",
       "      <td>NaN</td>\n",
       "      <td>2019-05-03 12:41:24</td>\n",
       "      <td>2019-05-03 12:41:24</td>\n",
       "    </tr>\n",
       "    <tr>\n",
       "      <th>4</th>\n",
       "      <td>5</td>\n",
       "      <td>NaN</td>\n",
       "      <td>NaN</td>\n",
       "      <td>NaN</td>\n",
       "      <td>2019-05-03 13:18:50</td>\n",
       "      <td>NaN</td>\n",
       "      <td>NaN</td>\n",
       "      <td>NaN</td>\n",
       "      <td>NaN</td>\n",
       "      <td>NaN</td>\n",
       "      <td>NaN</td>\n",
       "      <td>NaN</td>\n",
       "      <td>2019-05-03 13:12:56</td>\n",
       "      <td>NaN</td>\n",
       "      <td>2019-05-03 13:12:56</td>\n",
       "      <td>2019-05-03 13:12:56</td>\n",
       "    </tr>\n",
       "  </tbody>\n",
       "</table>\n",
       "</div>"
      ],
      "text/plain": [
       "   key Bulk 1 Bulk 2 Bulk 3               Bulk 4 Bulk 5 Bulk 6 Bulk 7 Bulk 8  \\\n",
       "0    1    NaN    NaN    NaN  2019-05-03 11:21:30    NaN    NaN    NaN    NaN   \n",
       "1    2    NaN    NaN    NaN  2019-05-03 11:46:38    NaN    NaN    NaN    NaN   \n",
       "2    3    NaN    NaN    NaN  2019-05-03 12:31:06    NaN    NaN    NaN    NaN   \n",
       "3    4    NaN    NaN    NaN  2019-05-03 12:48:43    NaN    NaN    NaN    NaN   \n",
       "4    5    NaN    NaN    NaN  2019-05-03 13:18:50    NaN    NaN    NaN    NaN   \n",
       "\n",
       "  Bulk 9 Bulk 10 Bulk 11              Bulk 12 Bulk 13              Bulk 14  \\\n",
       "0    NaN     NaN     NaN  2019-05-03 11:03:52     NaN  2019-05-03 11:03:52   \n",
       "1    NaN     NaN     NaN  2019-05-03 11:40:20     NaN  2019-05-03 11:40:20   \n",
       "2    NaN     NaN     NaN  2019-05-03 12:09:40     NaN  2019-05-03 12:09:40   \n",
       "3    NaN     NaN     NaN  2019-05-03 12:41:24     NaN  2019-05-03 12:41:24   \n",
       "4    NaN     NaN     NaN  2019-05-03 13:12:56     NaN  2019-05-03 13:12:56   \n",
       "\n",
       "               Bulk 15  \n",
       "0  2019-05-03 11:03:52  \n",
       "1  2019-05-03 11:40:20  \n",
       "2  2019-05-03 12:09:40  \n",
       "3  2019-05-03 12:41:24  \n",
       "4  2019-05-03 13:12:56  "
      ]
     },
     "metadata": {},
     "output_type": "display_data"
    },
    {
     "name": "stdout",
     "output_type": "stream",
     "text": [
      "Информация о таблице:\n",
      "<class 'pandas.core.frame.DataFrame'>\n",
      "RangeIndex: 3129 entries, 0 to 3128\n",
      "Data columns (total 16 columns):\n",
      " #   Column   Non-Null Count  Dtype \n",
      "---  ------   --------------  ----- \n",
      " 0   key      3129 non-null   int64 \n",
      " 1   Bulk 1   252 non-null    object\n",
      " 2   Bulk 2   22 non-null     object\n",
      " 3   Bulk 3   1298 non-null   object\n",
      " 4   Bulk 4   1014 non-null   object\n",
      " 5   Bulk 5   77 non-null     object\n",
      " 6   Bulk 6   576 non-null    object\n",
      " 7   Bulk 7   25 non-null     object\n",
      " 8   Bulk 8   1 non-null      object\n",
      " 9   Bulk 9   19 non-null     object\n",
      " 10  Bulk 10  176 non-null    object\n",
      " 11  Bulk 11  177 non-null    object\n",
      " 12  Bulk 12  2450 non-null   object\n",
      " 13  Bulk 13  18 non-null     object\n",
      " 14  Bulk 14  2806 non-null   object\n",
      " 15  Bulk 15  2248 non-null   object\n",
      "dtypes: int64(1), object(15)\n",
      "memory usage: 391.2+ KB\n"
     ]
    },
    {
     "data": {
      "text/plain": [
       "None"
      ]
     },
     "metadata": {},
     "output_type": "display_data"
    },
    {
     "name": "stdout",
     "output_type": "stream",
     "text": [
      "Максимальное количество строк с пропусками: 3128\n",
      "\n",
      "Количество дубликатов: 0\n"
     ]
    }
   ],
   "source": [
    "analisys(data_bulk_time, describe=False)"
   ]
  },
  {
   "cell_type": "markdown",
   "metadata": {},
   "source": [
    "**План предобработки data_bulk_time:**<br>\n",
    "Данные соответствуют по количеству значений таблице date_bulk. Возможно, эта таблица избыточна. Но мы составим план ее предобработки на случай, если она все-таки пригодится.\n",
    "- [x] Столбцы имеют некорректные названия. Переименовать, привести к нижнему регистру\n",
    "- [x] Данные содержат информацию о дате добавления сыпучих материалов. Привести тип object к типу datetime64\n",
    "- [x] Данные имеют большое количество пропусков. Обработать\n",
    "\n",
    "Некоторые материалы (напр. bulk_12, bulk_14, bulk_15) добавляются одновременно (судя по голове таблицы)."
   ]
  },
  {
   "cell_type": "markdown",
   "metadata": {},
   "source": [
    "### 4. data_gas - данные о продувке сплава газом"
   ]
  },
  {
   "cell_type": "code",
   "execution_count": 10,
   "metadata": {
    "scrolled": false
   },
   "outputs": [
    {
     "name": "stdout",
     "output_type": "stream",
     "text": [
      "Первые 5 строк таблицы:\n"
     ]
    },
    {
     "data": {
      "text/html": [
       "<div>\n",
       "<style scoped>\n",
       "    .dataframe tbody tr th:only-of-type {\n",
       "        vertical-align: middle;\n",
       "    }\n",
       "\n",
       "    .dataframe tbody tr th {\n",
       "        vertical-align: top;\n",
       "    }\n",
       "\n",
       "    .dataframe thead th {\n",
       "        text-align: right;\n",
       "    }\n",
       "</style>\n",
       "<table border=\"1\" class=\"dataframe\">\n",
       "  <thead>\n",
       "    <tr style=\"text-align: right;\">\n",
       "      <th></th>\n",
       "      <th>key</th>\n",
       "      <th>Газ 1</th>\n",
       "    </tr>\n",
       "  </thead>\n",
       "  <tbody>\n",
       "    <tr>\n",
       "      <th>0</th>\n",
       "      <td>1</td>\n",
       "      <td>29.749986</td>\n",
       "    </tr>\n",
       "    <tr>\n",
       "      <th>1</th>\n",
       "      <td>2</td>\n",
       "      <td>12.555561</td>\n",
       "    </tr>\n",
       "    <tr>\n",
       "      <th>2</th>\n",
       "      <td>3</td>\n",
       "      <td>28.554793</td>\n",
       "    </tr>\n",
       "    <tr>\n",
       "      <th>3</th>\n",
       "      <td>4</td>\n",
       "      <td>18.841219</td>\n",
       "    </tr>\n",
       "    <tr>\n",
       "      <th>4</th>\n",
       "      <td>5</td>\n",
       "      <td>5.413692</td>\n",
       "    </tr>\n",
       "  </tbody>\n",
       "</table>\n",
       "</div>"
      ],
      "text/plain": [
       "   key      Газ 1\n",
       "0    1  29.749986\n",
       "1    2  12.555561\n",
       "2    3  28.554793\n",
       "3    4  18.841219\n",
       "4    5   5.413692"
      ]
     },
     "metadata": {},
     "output_type": "display_data"
    },
    {
     "name": "stdout",
     "output_type": "stream",
     "text": [
      "Информация о таблице:\n",
      "<class 'pandas.core.frame.DataFrame'>\n",
      "RangeIndex: 3239 entries, 0 to 3238\n",
      "Data columns (total 2 columns):\n",
      " #   Column  Non-Null Count  Dtype  \n",
      "---  ------  --------------  -----  \n",
      " 0   key     3239 non-null   int64  \n",
      " 1   Газ 1   3239 non-null   float64\n",
      "dtypes: float64(1), int64(1)\n",
      "memory usage: 50.7 KB\n"
     ]
    },
    {
     "data": {
      "text/plain": [
       "None"
      ]
     },
     "metadata": {},
     "output_type": "display_data"
    },
    {
     "name": "stdout",
     "output_type": "stream",
     "text": [
      "Основные статистики числовых параметров:\n"
     ]
    },
    {
     "data": {
      "text/html": [
       "<div>\n",
       "<style scoped>\n",
       "    .dataframe tbody tr th:only-of-type {\n",
       "        vertical-align: middle;\n",
       "    }\n",
       "\n",
       "    .dataframe tbody tr th {\n",
       "        vertical-align: top;\n",
       "    }\n",
       "\n",
       "    .dataframe thead th {\n",
       "        text-align: right;\n",
       "    }\n",
       "</style>\n",
       "<table border=\"1\" class=\"dataframe\">\n",
       "  <thead>\n",
       "    <tr style=\"text-align: right;\">\n",
       "      <th></th>\n",
       "      <th>key</th>\n",
       "      <th>Газ 1</th>\n",
       "    </tr>\n",
       "  </thead>\n",
       "  <tbody>\n",
       "    <tr>\n",
       "      <th>count</th>\n",
       "      <td>3239.000000</td>\n",
       "      <td>3239.000000</td>\n",
       "    </tr>\n",
       "    <tr>\n",
       "      <th>mean</th>\n",
       "      <td>1621.861377</td>\n",
       "      <td>11.002062</td>\n",
       "    </tr>\n",
       "    <tr>\n",
       "      <th>std</th>\n",
       "      <td>935.386334</td>\n",
       "      <td>6.220327</td>\n",
       "    </tr>\n",
       "    <tr>\n",
       "      <th>min</th>\n",
       "      <td>1.000000</td>\n",
       "      <td>0.008399</td>\n",
       "    </tr>\n",
       "    <tr>\n",
       "      <th>25%</th>\n",
       "      <td>812.500000</td>\n",
       "      <td>7.043089</td>\n",
       "    </tr>\n",
       "    <tr>\n",
       "      <th>50%</th>\n",
       "      <td>1622.000000</td>\n",
       "      <td>9.836267</td>\n",
       "    </tr>\n",
       "    <tr>\n",
       "      <th>75%</th>\n",
       "      <td>2431.500000</td>\n",
       "      <td>13.769915</td>\n",
       "    </tr>\n",
       "    <tr>\n",
       "      <th>max</th>\n",
       "      <td>3241.000000</td>\n",
       "      <td>77.995040</td>\n",
       "    </tr>\n",
       "  </tbody>\n",
       "</table>\n",
       "</div>"
      ],
      "text/plain": [
       "               key        Газ 1\n",
       "count  3239.000000  3239.000000\n",
       "mean   1621.861377    11.002062\n",
       "std     935.386334     6.220327\n",
       "min       1.000000     0.008399\n",
       "25%     812.500000     7.043089\n",
       "50%    1622.000000     9.836267\n",
       "75%    2431.500000    13.769915\n",
       "max    3241.000000    77.995040"
      ]
     },
     "metadata": {},
     "output_type": "display_data"
    },
    {
     "name": "stdout",
     "output_type": "stream",
     "text": [
      "Максимальное количество строк с пропусками: 0\n",
      "\n",
      "Количество дубликатов: 0\n"
     ]
    }
   ],
   "source": [
    "analisys(data_gas)"
   ]
  },
  {
   "cell_type": "code",
   "execution_count": 11,
   "metadata": {},
   "outputs": [
    {
     "data": {
      "image/png": "[encoded data removed]",
      "text/plain": [
       "<Figure size 1080x288 with 1 Axes>"
      ]
     },
     "metadata": {
      "needs_background": "light"
     },
     "output_type": "display_data"
    },
    {
     "data": {
      "image/png": "[encoded data removed]",
      "text/plain": [
       "<Figure size 1080x72 with 1 Axes>"
      ]
     },
     "metadata": {
      "needs_background": "light"
     },
     "output_type": "display_data"
    }
   ],
   "source": [
    "hist_plot(data_gas, [data_gas.columns[1]])"
   ]
  },
  {
   "cell_type": "markdown",
   "metadata": {},
   "source": [
    "Наблюдаем распределение близкое к нормальному, с длинным правым хвостом в виде выбросов."
   ]
  },
  {
   "cell_type": "markdown",
   "metadata": {},
   "source": [
    "**План предобработки data_gas:**\n",
    "- Количество ключей больше чем в предыдущих таблицах. Min / max значения совпадают. Вероятно, есть партии которые продувались газом, но в чей состав не добавлялось легирующих добавок.\n",
    "- [x] Столбцы имеют некорректные названия. Переименовать, привести к нижнему регистру\n",
    "- [x] Обработать выбросы"
   ]
  },
  {
   "cell_type": "markdown",
   "metadata": {},
   "source": [
    "### 5. data_temp - результаты измерения температуры. Целевая фича"
   ]
  },
  {
   "cell_type": "code",
   "execution_count": 12,
   "metadata": {
    "scrolled": false
   },
   "outputs": [
    {
     "name": "stdout",
     "output_type": "stream",
     "text": [
      "Первые 5 строк таблицы:\n"
     ]
    },
    {
     "data": {
      "text/html": [
       "<div>\n",
       "<style scoped>\n",
       "    .dataframe tbody tr th:only-of-type {\n",
       "        vertical-align: middle;\n",
       "    }\n",
       "\n",
       "    .dataframe tbody tr th {\n",
       "        vertical-align: top;\n",
       "    }\n",
       "\n",
       "    .dataframe thead th {\n",
       "        text-align: right;\n",
       "    }\n",
       "</style>\n",
       "<table border=\"1\" class=\"dataframe\">\n",
       "  <thead>\n",
       "    <tr style=\"text-align: right;\">\n",
       "      <th></th>\n",
       "      <th>key</th>\n",
       "      <th>Время замера</th>\n",
       "      <th>Температура</th>\n",
       "    </tr>\n",
       "  </thead>\n",
       "  <tbody>\n",
       "    <tr>\n",
       "      <th>0</th>\n",
       "      <td>1</td>\n",
       "      <td>2019-05-03 11:16:18</td>\n",
       "      <td>1571.0</td>\n",
       "    </tr>\n",
       "    <tr>\n",
       "      <th>1</th>\n",
       "      <td>1</td>\n",
       "      <td>2019-05-03 11:25:53</td>\n",
       "      <td>1604.0</td>\n",
       "    </tr>\n",
       "    <tr>\n",
       "      <th>2</th>\n",
       "      <td>1</td>\n",
       "      <td>2019-05-03 11:29:11</td>\n",
       "      <td>1618.0</td>\n",
       "    </tr>\n",
       "    <tr>\n",
       "      <th>3</th>\n",
       "      <td>1</td>\n",
       "      <td>2019-05-03 11:30:01</td>\n",
       "      <td>1601.0</td>\n",
       "    </tr>\n",
       "    <tr>\n",
       "      <th>4</th>\n",
       "      <td>1</td>\n",
       "      <td>2019-05-03 11:30:39</td>\n",
       "      <td>1613.0</td>\n",
       "    </tr>\n",
       "  </tbody>\n",
       "</table>\n",
       "</div>"
      ],
      "text/plain": [
       "   key         Время замера  Температура\n",
       "0    1  2019-05-03 11:16:18       1571.0\n",
       "1    1  2019-05-03 11:25:53       1604.0\n",
       "2    1  2019-05-03 11:29:11       1618.0\n",
       "3    1  2019-05-03 11:30:01       1601.0\n",
       "4    1  2019-05-03 11:30:39       1613.0"
      ]
     },
     "metadata": {},
     "output_type": "display_data"
    },
    {
     "name": "stdout",
     "output_type": "stream",
     "text": [
      "Информация о таблице:\n",
      "<class 'pandas.core.frame.DataFrame'>\n",
      "RangeIndex: 15907 entries, 0 to 15906\n",
      "Data columns (total 3 columns):\n",
      " #   Column        Non-Null Count  Dtype  \n",
      "---  ------        --------------  -----  \n",
      " 0   key           15907 non-null  int64  \n",
      " 1   Время замера  15907 non-null  object \n",
      " 2   Температура   13006 non-null  float64\n",
      "dtypes: float64(1), int64(1), object(1)\n",
      "memory usage: 372.9+ KB\n"
     ]
    },
    {
     "data": {
      "text/plain": [
       "None"
      ]
     },
     "metadata": {},
     "output_type": "display_data"
    },
    {
     "name": "stdout",
     "output_type": "stream",
     "text": [
      "Основные статистики числовых параметров:\n"
     ]
    },
    {
     "data": {
      "text/html": [
       "<div>\n",
       "<style scoped>\n",
       "    .dataframe tbody tr th:only-of-type {\n",
       "        vertical-align: middle;\n",
       "    }\n",
       "\n",
       "    .dataframe tbody tr th {\n",
       "        vertical-align: top;\n",
       "    }\n",
       "\n",
       "    .dataframe thead th {\n",
       "        text-align: right;\n",
       "    }\n",
       "</style>\n",
       "<table border=\"1\" class=\"dataframe\">\n",
       "  <thead>\n",
       "    <tr style=\"text-align: right;\">\n",
       "      <th></th>\n",
       "      <th>key</th>\n",
       "      <th>Температура</th>\n",
       "    </tr>\n",
       "  </thead>\n",
       "  <tbody>\n",
       "    <tr>\n",
       "      <th>count</th>\n",
       "      <td>15907.000000</td>\n",
       "      <td>13006.000000</td>\n",
       "    </tr>\n",
       "    <tr>\n",
       "      <th>mean</th>\n",
       "      <td>1607.880870</td>\n",
       "      <td>1591.840920</td>\n",
       "    </tr>\n",
       "    <tr>\n",
       "      <th>std</th>\n",
       "      <td>942.212073</td>\n",
       "      <td>21.375851</td>\n",
       "    </tr>\n",
       "    <tr>\n",
       "      <th>min</th>\n",
       "      <td>1.000000</td>\n",
       "      <td>1191.000000</td>\n",
       "    </tr>\n",
       "    <tr>\n",
       "      <th>25%</th>\n",
       "      <td>790.000000</td>\n",
       "      <td>1581.000000</td>\n",
       "    </tr>\n",
       "    <tr>\n",
       "      <th>50%</th>\n",
       "      <td>1618.000000</td>\n",
       "      <td>1591.000000</td>\n",
       "    </tr>\n",
       "    <tr>\n",
       "      <th>75%</th>\n",
       "      <td>2427.000000</td>\n",
       "      <td>1601.000000</td>\n",
       "    </tr>\n",
       "    <tr>\n",
       "      <th>max</th>\n",
       "      <td>3241.000000</td>\n",
       "      <td>1705.000000</td>\n",
       "    </tr>\n",
       "  </tbody>\n",
       "</table>\n",
       "</div>"
      ],
      "text/plain": [
       "                key   Температура\n",
       "count  15907.000000  13006.000000\n",
       "mean    1607.880870   1591.840920\n",
       "std      942.212073     21.375851\n",
       "min        1.000000   1191.000000\n",
       "25%      790.000000   1581.000000\n",
       "50%     1618.000000   1591.000000\n",
       "75%     2427.000000   1601.000000\n",
       "max     3241.000000   1705.000000"
      ]
     },
     "metadata": {},
     "output_type": "display_data"
    },
    {
     "name": "stdout",
     "output_type": "stream",
     "text": [
      "Максимальное количество строк с пропусками: 2901\n",
      "\n",
      "Количество дубликатов: 0\n"
     ]
    }
   ],
   "source": [
    "analisys(data_temp)"
   ]
  },
  {
   "cell_type": "code",
   "execution_count": 13,
   "metadata": {},
   "outputs": [
    {
     "data": {
      "image/png": "[encoded data removed]",
      "text/plain": [
       "<Figure size 1080x288 with 1 Axes>"
      ]
     },
     "metadata": {
      "needs_background": "light"
     },
     "output_type": "display_data"
    },
    {
     "data": {
      "image/png": "[encoded data removed]",
      "text/plain": [
       "<Figure size 1080x72 with 1 Axes>"
      ]
     },
     "metadata": {
      "needs_background": "light"
     },
     "output_type": "display_data"
    }
   ],
   "source": [
    "hist_plot(data_temp.dropna(axis=0), [data_temp.columns[2]])"
   ]
  },
  {
   "cell_type": "markdown",
   "metadata": {},
   "source": [
    "Большая часть данных, визуально, распределена нормально. Однако, в хвостах содержиться большое количество аномалий. \n",
    "\n",
    "Согласно [wiki](https://ru.wikipedia.org/wiki/%D0%A1%D1%82%D0%B0%D0%BB%D1%8C#:~:text=%D0%A2%D0%B5%D0%BC%D0%BF%D0%B5%D1%80%D0%B0%D1%82%D1%83%D1%80%D0%B0%20%D0%BF%D0%BB%D0%B0%D0%B2%D0%BB%D0%B5%D0%BD%D0%B8%D1%8F%3A%201450%E2%80%941520%20%C2%B0C.%20%D0%A3%D0%B4%D0%B5%D0%BB%D1%8C%D0%BD%D0%B0%D1%8F,%D1%82%D0%B5%D0%BF%D0%BB%D0%BE%D0%BF%D1%80%D0%BE%D0%B2%D0%BE%D0%B4%D0%BD%D0%BE%D1%81%D1%82%D0%B8%20%D0%BF%D1%80%D0%B8%20%D1%82%D0%B5%D0%BC%D0%BF%D0%B5%D1%80%D0%B0%D1%82%D1%83%D1%80%D0%B5%20100%20%C2%B0C%3A),\n",
    "температура плавления стали: 1450—1520 °C. На производстве ковш всегда подогревается чтобы недопустить остывания стали. \n",
    "Поэтому, все что ниже 1450 °C - точно выбросы."
   ]
  },
  {
   "cell_type": "markdown",
   "metadata": {},
   "source": [
    "**План предобработки data_temp:**\n",
    "- Min / max значения ключей совпадают с предыдущими таблицами.\n",
    "- [x] Есть несколько тысяч пропущеных значений температуры. Обработать пропуски.\n",
    "- [x] Изменить формат столбца \"Время замера\". Привести к datetime64\n",
    "- [x] Если последний замер температуры был раньше, чем нагрев ковша - удаляем информацию обо всей партии\n",
    "- [x] Обработать выбросы"
   ]
  },
  {
   "cell_type": "markdown",
   "metadata": {},
   "source": [
    "### 6. data_wire - данные о проволочных материалах (объём)"
   ]
  },
  {
   "cell_type": "code",
   "execution_count": 14,
   "metadata": {
    "scrolled": false
   },
   "outputs": [
    {
     "name": "stdout",
     "output_type": "stream",
     "text": [
      "Первые 5 строк таблицы:\n"
     ]
    },
    {
     "data": {
      "text/html": [
       "<div>\n",
       "<style scoped>\n",
       "    .dataframe tbody tr th:only-of-type {\n",
       "        vertical-align: middle;\n",
       "    }\n",
       "\n",
       "    .dataframe tbody tr th {\n",
       "        vertical-align: top;\n",
       "    }\n",
       "\n",
       "    .dataframe thead th {\n",
       "        text-align: right;\n",
       "    }\n",
       "</style>\n",
       "<table border=\"1\" class=\"dataframe\">\n",
       "  <thead>\n",
       "    <tr style=\"text-align: right;\">\n",
       "      <th></th>\n",
       "      <th>key</th>\n",
       "      <th>Wire 1</th>\n",
       "      <th>Wire 2</th>\n",
       "      <th>Wire 3</th>\n",
       "      <th>Wire 4</th>\n",
       "      <th>Wire 5</th>\n",
       "      <th>Wire 6</th>\n",
       "      <th>Wire 7</th>\n",
       "      <th>Wire 8</th>\n",
       "      <th>Wire 9</th>\n",
       "    </tr>\n",
       "  </thead>\n",
       "  <tbody>\n",
       "    <tr>\n",
       "      <th>0</th>\n",
       "      <td>1</td>\n",
       "      <td>60.059998</td>\n",
       "      <td>NaN</td>\n",
       "      <td>NaN</td>\n",
       "      <td>NaN</td>\n",
       "      <td>NaN</td>\n",
       "      <td>NaN</td>\n",
       "      <td>NaN</td>\n",
       "      <td>NaN</td>\n",
       "      <td>NaN</td>\n",
       "    </tr>\n",
       "    <tr>\n",
       "      <th>1</th>\n",
       "      <td>2</td>\n",
       "      <td>96.052315</td>\n",
       "      <td>NaN</td>\n",
       "      <td>NaN</td>\n",
       "      <td>NaN</td>\n",
       "      <td>NaN</td>\n",
       "      <td>NaN</td>\n",
       "      <td>NaN</td>\n",
       "      <td>NaN</td>\n",
       "      <td>NaN</td>\n",
       "    </tr>\n",
       "    <tr>\n",
       "      <th>2</th>\n",
       "      <td>3</td>\n",
       "      <td>91.160157</td>\n",
       "      <td>NaN</td>\n",
       "      <td>NaN</td>\n",
       "      <td>NaN</td>\n",
       "      <td>NaN</td>\n",
       "      <td>NaN</td>\n",
       "      <td>NaN</td>\n",
       "      <td>NaN</td>\n",
       "      <td>NaN</td>\n",
       "    </tr>\n",
       "    <tr>\n",
       "      <th>3</th>\n",
       "      <td>4</td>\n",
       "      <td>89.063515</td>\n",
       "      <td>NaN</td>\n",
       "      <td>NaN</td>\n",
       "      <td>NaN</td>\n",
       "      <td>NaN</td>\n",
       "      <td>NaN</td>\n",
       "      <td>NaN</td>\n",
       "      <td>NaN</td>\n",
       "      <td>NaN</td>\n",
       "    </tr>\n",
       "    <tr>\n",
       "      <th>4</th>\n",
       "      <td>5</td>\n",
       "      <td>89.238236</td>\n",
       "      <td>9.11456</td>\n",
       "      <td>NaN</td>\n",
       "      <td>NaN</td>\n",
       "      <td>NaN</td>\n",
       "      <td>NaN</td>\n",
       "      <td>NaN</td>\n",
       "      <td>NaN</td>\n",
       "      <td>NaN</td>\n",
       "    </tr>\n",
       "  </tbody>\n",
       "</table>\n",
       "</div>"
      ],
      "text/plain": [
       "   key     Wire 1   Wire 2  Wire 3  Wire 4  Wire 5  Wire 6  Wire 7  Wire 8  \\\n",
       "0    1  60.059998      NaN     NaN     NaN     NaN     NaN     NaN     NaN   \n",
       "1    2  96.052315      NaN     NaN     NaN     NaN     NaN     NaN     NaN   \n",
       "2    3  91.160157      NaN     NaN     NaN     NaN     NaN     NaN     NaN   \n",
       "3    4  89.063515      NaN     NaN     NaN     NaN     NaN     NaN     NaN   \n",
       "4    5  89.238236  9.11456     NaN     NaN     NaN     NaN     NaN     NaN   \n",
       "\n",
       "   Wire 9  \n",
       "0     NaN  \n",
       "1     NaN  \n",
       "2     NaN  \n",
       "3     NaN  \n",
       "4     NaN  "
      ]
     },
     "metadata": {},
     "output_type": "display_data"
    },
    {
     "name": "stdout",
     "output_type": "stream",
     "text": [
      "Информация о таблице:\n",
      "<class 'pandas.core.frame.DataFrame'>\n",
      "RangeIndex: 3081 entries, 0 to 3080\n",
      "Data columns (total 10 columns):\n",
      " #   Column  Non-Null Count  Dtype  \n",
      "---  ------  --------------  -----  \n",
      " 0   key     3081 non-null   int64  \n",
      " 1   Wire 1  3055 non-null   float64\n",
      " 2   Wire 2  1079 non-null   float64\n",
      " 3   Wire 3  63 non-null     float64\n",
      " 4   Wire 4  14 non-null     float64\n",
      " 5   Wire 5  1 non-null      float64\n",
      " 6   Wire 6  73 non-null     float64\n",
      " 7   Wire 7  11 non-null     float64\n",
      " 8   Wire 8  19 non-null     float64\n",
      " 9   Wire 9  29 non-null     float64\n",
      "dtypes: float64(9), int64(1)\n",
      "memory usage: 240.8 KB\n"
     ]
    },
    {
     "data": {
      "text/plain": [
       "None"
      ]
     },
     "metadata": {},
     "output_type": "display_data"
    },
    {
     "name": "stdout",
     "output_type": "stream",
     "text": [
      "Основные статистики числовых параметров:\n"
     ]
    },
    {
     "data": {
      "text/html": [
       "<div>\n",
       "<style scoped>\n",
       "    .dataframe tbody tr th:only-of-type {\n",
       "        vertical-align: middle;\n",
       "    }\n",
       "\n",
       "    .dataframe tbody tr th {\n",
       "        vertical-align: top;\n",
       "    }\n",
       "\n",
       "    .dataframe thead th {\n",
       "        text-align: right;\n",
       "    }\n",
       "</style>\n",
       "<table border=\"1\" class=\"dataframe\">\n",
       "  <thead>\n",
       "    <tr style=\"text-align: right;\">\n",
       "      <th></th>\n",
       "      <th>key</th>\n",
       "      <th>Wire 1</th>\n",
       "      <th>Wire 2</th>\n",
       "      <th>Wire 3</th>\n",
       "      <th>Wire 4</th>\n",
       "      <th>Wire 5</th>\n",
       "      <th>Wire 6</th>\n",
       "      <th>Wire 7</th>\n",
       "      <th>Wire 8</th>\n",
       "      <th>Wire 9</th>\n",
       "    </tr>\n",
       "  </thead>\n",
       "  <tbody>\n",
       "    <tr>\n",
       "      <th>count</th>\n",
       "      <td>3081.000000</td>\n",
       "      <td>3055.000000</td>\n",
       "      <td>1079.000000</td>\n",
       "      <td>63.000000</td>\n",
       "      <td>14.000000</td>\n",
       "      <td>1.000</td>\n",
       "      <td>73.000000</td>\n",
       "      <td>11.000000</td>\n",
       "      <td>19.000000</td>\n",
       "      <td>29.000000</td>\n",
       "    </tr>\n",
       "    <tr>\n",
       "      <th>mean</th>\n",
       "      <td>1623.426485</td>\n",
       "      <td>100.895853</td>\n",
       "      <td>50.577323</td>\n",
       "      <td>189.482681</td>\n",
       "      <td>57.442842</td>\n",
       "      <td>15.132</td>\n",
       "      <td>48.016974</td>\n",
       "      <td>10.039007</td>\n",
       "      <td>53.625193</td>\n",
       "      <td>34.155752</td>\n",
       "    </tr>\n",
       "    <tr>\n",
       "      <th>std</th>\n",
       "      <td>932.996726</td>\n",
       "      <td>42.012518</td>\n",
       "      <td>39.320216</td>\n",
       "      <td>99.513444</td>\n",
       "      <td>28.824667</td>\n",
       "      <td>NaN</td>\n",
       "      <td>33.919845</td>\n",
       "      <td>8.610584</td>\n",
       "      <td>16.881728</td>\n",
       "      <td>19.931616</td>\n",
       "    </tr>\n",
       "    <tr>\n",
       "      <th>min</th>\n",
       "      <td>1.000000</td>\n",
       "      <td>1.918800</td>\n",
       "      <td>0.030160</td>\n",
       "      <td>0.144144</td>\n",
       "      <td>24.148801</td>\n",
       "      <td>15.132</td>\n",
       "      <td>0.034320</td>\n",
       "      <td>0.234208</td>\n",
       "      <td>45.076721</td>\n",
       "      <td>4.622800</td>\n",
       "    </tr>\n",
       "    <tr>\n",
       "      <th>25%</th>\n",
       "      <td>823.000000</td>\n",
       "      <td>72.115684</td>\n",
       "      <td>20.193680</td>\n",
       "      <td>95.135044</td>\n",
       "      <td>40.807002</td>\n",
       "      <td>15.132</td>\n",
       "      <td>25.053600</td>\n",
       "      <td>6.762756</td>\n",
       "      <td>46.094879</td>\n",
       "      <td>22.058401</td>\n",
       "    </tr>\n",
       "    <tr>\n",
       "      <th>50%</th>\n",
       "      <td>1619.000000</td>\n",
       "      <td>100.158234</td>\n",
       "      <td>40.142956</td>\n",
       "      <td>235.194977</td>\n",
       "      <td>45.234282</td>\n",
       "      <td>15.132</td>\n",
       "      <td>42.076324</td>\n",
       "      <td>9.017009</td>\n",
       "      <td>46.279999</td>\n",
       "      <td>30.066399</td>\n",
       "    </tr>\n",
       "    <tr>\n",
       "      <th>75%</th>\n",
       "      <td>2434.000000</td>\n",
       "      <td>126.060484</td>\n",
       "      <td>70.227558</td>\n",
       "      <td>276.252014</td>\n",
       "      <td>76.124619</td>\n",
       "      <td>15.132</td>\n",
       "      <td>64.212723</td>\n",
       "      <td>11.886057</td>\n",
       "      <td>48.089603</td>\n",
       "      <td>43.862003</td>\n",
       "    </tr>\n",
       "    <tr>\n",
       "      <th>max</th>\n",
       "      <td>3241.000000</td>\n",
       "      <td>330.314424</td>\n",
       "      <td>282.780152</td>\n",
       "      <td>385.008668</td>\n",
       "      <td>113.231044</td>\n",
       "      <td>15.132</td>\n",
       "      <td>180.454575</td>\n",
       "      <td>32.847674</td>\n",
       "      <td>102.762401</td>\n",
       "      <td>90.053604</td>\n",
       "    </tr>\n",
       "  </tbody>\n",
       "</table>\n",
       "</div>"
      ],
      "text/plain": [
       "               key       Wire 1       Wire 2      Wire 3      Wire 4  Wire 5  \\\n",
       "count  3081.000000  3055.000000  1079.000000   63.000000   14.000000   1.000   \n",
       "mean   1623.426485   100.895853    50.577323  189.482681   57.442842  15.132   \n",
       "std     932.996726    42.012518    39.320216   99.513444   28.824667     NaN   \n",
       "min       1.000000     1.918800     0.030160    0.144144   24.148801  15.132   \n",
       "25%     823.000000    72.115684    20.193680   95.135044   40.807002  15.132   \n",
       "50%    1619.000000   100.158234    40.142956  235.194977   45.234282  15.132   \n",
       "75%    2434.000000   126.060484    70.227558  276.252014   76.124619  15.132   \n",
       "max    3241.000000   330.314424   282.780152  385.008668  113.231044  15.132   \n",
       "\n",
       "           Wire 6     Wire 7      Wire 8     Wire 9  \n",
       "count   73.000000  11.000000   19.000000  29.000000  \n",
       "mean    48.016974  10.039007   53.625193  34.155752  \n",
       "std     33.919845   8.610584   16.881728  19.931616  \n",
       "min      0.034320   0.234208   45.076721   4.622800  \n",
       "25%     25.053600   6.762756   46.094879  22.058401  \n",
       "50%     42.076324   9.017009   46.279999  30.066399  \n",
       "75%     64.212723  11.886057   48.089603  43.862003  \n",
       "max    180.454575  32.847674  102.762401  90.053604  "
      ]
     },
     "metadata": {},
     "output_type": "display_data"
    },
    {
     "name": "stdout",
     "output_type": "stream",
     "text": [
      "Максимальное количество строк с пропусками: 3080\n",
      "\n",
      "Количество дубликатов: 0\n"
     ]
    }
   ],
   "source": [
    "analisys(data_wire)"
   ]
  },
  {
   "cell_type": "markdown",
   "metadata": {},
   "source": [
    "**План предобработки data_wire:**\n",
    "\n",
    "- [x] Большое количество пропусков. Таблица несет информацию о проволочных материалах которые добавляют в состав слава. Поэтому отсутствие информации - означает нулевой объем добавок. Следовательно, заполняем пропуски нулями. \n",
    "- [ ] Использовать эти данные для определения типа стали."
   ]
  },
  {
   "cell_type": "markdown",
   "metadata": {},
   "source": [
    "### 7. data_wire_time - данные о проволочных материалах (время)"
   ]
  },
  {
   "cell_type": "code",
   "execution_count": 15,
   "metadata": {
    "scrolled": false
   },
   "outputs": [
    {
     "name": "stdout",
     "output_type": "stream",
     "text": [
      "Первые 5 строк таблицы:\n"
     ]
    },
    {
     "data": {
      "text/html": [
       "<div>\n",
       "<style scoped>\n",
       "    .dataframe tbody tr th:only-of-type {\n",
       "        vertical-align: middle;\n",
       "    }\n",
       "\n",
       "    .dataframe tbody tr th {\n",
       "        vertical-align: top;\n",
       "    }\n",
       "\n",
       "    .dataframe thead th {\n",
       "        text-align: right;\n",
       "    }\n",
       "</style>\n",
       "<table border=\"1\" class=\"dataframe\">\n",
       "  <thead>\n",
       "    <tr style=\"text-align: right;\">\n",
       "      <th></th>\n",
       "      <th>key</th>\n",
       "      <th>Wire 1</th>\n",
       "      <th>Wire 2</th>\n",
       "      <th>Wire 3</th>\n",
       "      <th>Wire 4</th>\n",
       "      <th>Wire 5</th>\n",
       "      <th>Wire 6</th>\n",
       "      <th>Wire 7</th>\n",
       "      <th>Wire 8</th>\n",
       "      <th>Wire 9</th>\n",
       "    </tr>\n",
       "  </thead>\n",
       "  <tbody>\n",
       "    <tr>\n",
       "      <th>0</th>\n",
       "      <td>1</td>\n",
       "      <td>2019-05-03 11:11:41</td>\n",
       "      <td>NaN</td>\n",
       "      <td>NaN</td>\n",
       "      <td>NaN</td>\n",
       "      <td>NaN</td>\n",
       "      <td>NaN</td>\n",
       "      <td>NaN</td>\n",
       "      <td>NaN</td>\n",
       "      <td>NaN</td>\n",
       "    </tr>\n",
       "    <tr>\n",
       "      <th>1</th>\n",
       "      <td>2</td>\n",
       "      <td>2019-05-03 11:46:10</td>\n",
       "      <td>NaN</td>\n",
       "      <td>NaN</td>\n",
       "      <td>NaN</td>\n",
       "      <td>NaN</td>\n",
       "      <td>NaN</td>\n",
       "      <td>NaN</td>\n",
       "      <td>NaN</td>\n",
       "      <td>NaN</td>\n",
       "    </tr>\n",
       "    <tr>\n",
       "      <th>2</th>\n",
       "      <td>3</td>\n",
       "      <td>2019-05-03 12:13:47</td>\n",
       "      <td>NaN</td>\n",
       "      <td>NaN</td>\n",
       "      <td>NaN</td>\n",
       "      <td>NaN</td>\n",
       "      <td>NaN</td>\n",
       "      <td>NaN</td>\n",
       "      <td>NaN</td>\n",
       "      <td>NaN</td>\n",
       "    </tr>\n",
       "    <tr>\n",
       "      <th>3</th>\n",
       "      <td>4</td>\n",
       "      <td>2019-05-03 12:48:05</td>\n",
       "      <td>NaN</td>\n",
       "      <td>NaN</td>\n",
       "      <td>NaN</td>\n",
       "      <td>NaN</td>\n",
       "      <td>NaN</td>\n",
       "      <td>NaN</td>\n",
       "      <td>NaN</td>\n",
       "      <td>NaN</td>\n",
       "    </tr>\n",
       "    <tr>\n",
       "      <th>4</th>\n",
       "      <td>5</td>\n",
       "      <td>2019-05-03 13:18:15</td>\n",
       "      <td>2019-05-03 13:32:06</td>\n",
       "      <td>NaN</td>\n",
       "      <td>NaN</td>\n",
       "      <td>NaN</td>\n",
       "      <td>NaN</td>\n",
       "      <td>NaN</td>\n",
       "      <td>NaN</td>\n",
       "      <td>NaN</td>\n",
       "    </tr>\n",
       "  </tbody>\n",
       "</table>\n",
       "</div>"
      ],
      "text/plain": [
       "   key               Wire 1               Wire 2 Wire 3 Wire 4 Wire 5 Wire 6  \\\n",
       "0    1  2019-05-03 11:11:41                  NaN    NaN    NaN    NaN    NaN   \n",
       "1    2  2019-05-03 11:46:10                  NaN    NaN    NaN    NaN    NaN   \n",
       "2    3  2019-05-03 12:13:47                  NaN    NaN    NaN    NaN    NaN   \n",
       "3    4  2019-05-03 12:48:05                  NaN    NaN    NaN    NaN    NaN   \n",
       "4    5  2019-05-03 13:18:15  2019-05-03 13:32:06    NaN    NaN    NaN    NaN   \n",
       "\n",
       "  Wire 7 Wire 8 Wire 9  \n",
       "0    NaN    NaN    NaN  \n",
       "1    NaN    NaN    NaN  \n",
       "2    NaN    NaN    NaN  \n",
       "3    NaN    NaN    NaN  \n",
       "4    NaN    NaN    NaN  "
      ]
     },
     "metadata": {},
     "output_type": "display_data"
    },
    {
     "name": "stdout",
     "output_type": "stream",
     "text": [
      "Информация о таблице:\n",
      "<class 'pandas.core.frame.DataFrame'>\n",
      "RangeIndex: 3081 entries, 0 to 3080\n",
      "Data columns (total 10 columns):\n",
      " #   Column  Non-Null Count  Dtype \n",
      "---  ------  --------------  ----- \n",
      " 0   key     3081 non-null   int64 \n",
      " 1   Wire 1  3055 non-null   object\n",
      " 2   Wire 2  1079 non-null   object\n",
      " 3   Wire 3  63 non-null     object\n",
      " 4   Wire 4  14 non-null     object\n",
      " 5   Wire 5  1 non-null      object\n",
      " 6   Wire 6  73 non-null     object\n",
      " 7   Wire 7  11 non-null     object\n",
      " 8   Wire 8  19 non-null     object\n",
      " 9   Wire 9  29 non-null     object\n",
      "dtypes: int64(1), object(9)\n",
      "memory usage: 240.8+ KB\n"
     ]
    },
    {
     "data": {
      "text/plain": [
       "None"
      ]
     },
     "metadata": {},
     "output_type": "display_data"
    },
    {
     "name": "stdout",
     "output_type": "stream",
     "text": [
      "Основные статистики числовых параметров:\n"
     ]
    },
    {
     "data": {
      "text/html": [
       "<div>\n",
       "<style scoped>\n",
       "    .dataframe tbody tr th:only-of-type {\n",
       "        vertical-align: middle;\n",
       "    }\n",
       "\n",
       "    .dataframe tbody tr th {\n",
       "        vertical-align: top;\n",
       "    }\n",
       "\n",
       "    .dataframe thead th {\n",
       "        text-align: right;\n",
       "    }\n",
       "</style>\n",
       "<table border=\"1\" class=\"dataframe\">\n",
       "  <thead>\n",
       "    <tr style=\"text-align: right;\">\n",
       "      <th></th>\n",
       "      <th>key</th>\n",
       "    </tr>\n",
       "  </thead>\n",
       "  <tbody>\n",
       "    <tr>\n",
       "      <th>count</th>\n",
       "      <td>3081.000000</td>\n",
       "    </tr>\n",
       "    <tr>\n",
       "      <th>mean</th>\n",
       "      <td>1623.426485</td>\n",
       "    </tr>\n",
       "    <tr>\n",
       "      <th>std</th>\n",
       "      <td>932.996726</td>\n",
       "    </tr>\n",
       "    <tr>\n",
       "      <th>min</th>\n",
       "      <td>1.000000</td>\n",
       "    </tr>\n",
       "    <tr>\n",
       "      <th>25%</th>\n",
       "      <td>823.000000</td>\n",
       "    </tr>\n",
       "    <tr>\n",
       "      <th>50%</th>\n",
       "      <td>1619.000000</td>\n",
       "    </tr>\n",
       "    <tr>\n",
       "      <th>75%</th>\n",
       "      <td>2434.000000</td>\n",
       "    </tr>\n",
       "    <tr>\n",
       "      <th>max</th>\n",
       "      <td>3241.000000</td>\n",
       "    </tr>\n",
       "  </tbody>\n",
       "</table>\n",
       "</div>"
      ],
      "text/plain": [
       "               key\n",
       "count  3081.000000\n",
       "mean   1623.426485\n",
       "std     932.996726\n",
       "min       1.000000\n",
       "25%     823.000000\n",
       "50%    1619.000000\n",
       "75%    2434.000000\n",
       "max    3241.000000"
      ]
     },
     "metadata": {},
     "output_type": "display_data"
    },
    {
     "name": "stdout",
     "output_type": "stream",
     "text": [
      "Максимальное количество строк с пропусками: 3080\n",
      "\n",
      "Количество дубликатов: 0\n"
     ]
    }
   ],
   "source": [
    "analisys(data_wire_time)"
   ]
  },
  {
   "cell_type": "markdown",
   "metadata": {},
   "source": [
    "**План предобработки data_wire_time:**\n",
    "\n",
    "Аналогичная data_wire таблица, несущая информацию о времени. Как и data_bulk_time может быть избыточной. Возможно пригодится для определения марки стали. \n",
    "\n",
    "- [x] Большое количество пропусков. Обработать"
   ]
  },
  {
   "cell_type": "markdown",
   "metadata": {},
   "source": [
    "### Вывод:"
   ]
  },
  {
   "cell_type": "markdown",
   "metadata": {},
   "source": [
    "- Все данные достаточно сырые. \n",
    "- Имеется большое количество пропусков. \n",
    "- Неудобные для использования названия столбцов. \n",
    "- Плюс ко всему, даннные имеют большое количество аномалий. \n",
    "- Имеют место нелогичные операции, когда первый процесс начинается позже второго.\n",
    "\n",
    "В целом, распределения в данных стремятся к нормальному. Избавившись от очевидных выбросов, мы сможем создать достаточно чистые выборки, применимые для ML."
   ]
  },
  {
   "cell_type": "markdown",
   "metadata": {},
   "source": [
    "## Предобработка данных"
   ]
  },
  {
   "cell_type": "markdown",
   "metadata": {},
   "source": [
    "В первую очередь обработаем все данные методами, которые не имеют риска утечки целевого признака.\n",
    "\n",
    "**Цель** - свести все производственные данные в одну общую таблицу для передачи модели."
   ]
  },
  {
   "cell_type": "markdown",
   "metadata": {},
   "source": [
    "Все таблицы имеют проблемы с названиями фичей. Напишем функцию для переименования:"
   ]
  },
  {
   "cell_type": "code",
   "execution_count": 16,
   "metadata": {},
   "outputs": [],
   "source": [
    "def rename_columns(data, new_names=[], rename=True):\n",
    "    if rename == False:\n",
    "        new_names=[]\n",
    "        for col in data.columns:\n",
    "            new_names.append(str.lower('_'.join(col.split(' '))))\n",
    "        data.columns = new_names\n",
    "    else:\n",
    "        data.columns = new_names"
   ]
  },
  {
   "cell_type": "markdown",
   "metadata": {},
   "source": [
    "Теперь подготовим латинские названия для некоторых фреймов. Колонки всех таблиц приведем к нижнему регистру без разделителей:"
   ]
  },
  {
   "cell_type": "code",
   "execution_count": 17,
   "metadata": {},
   "outputs": [],
   "source": [
    "data_arc_cols = ['key', 'start_heating', 'end_heating', 'active_power', 'reactive_power']\n",
    "data_gas_cols = ['key', 'gas']\n",
    "data_temp_cols = ['key', 'measure_time', 'temperature']"
   ]
  },
  {
   "cell_type": "code",
   "execution_count": 18,
   "metadata": {},
   "outputs": [],
   "source": [
    "rename_columns(data_arc, data_arc_cols, rename=True)\n",
    "rename_columns(data_bulk, rename=False)\n",
    "rename_columns(data_bulk_time, rename=False)\n",
    "rename_columns(data_gas, data_gas_cols, rename=True)\n",
    "rename_columns(data_temp, data_temp_cols, rename=True)\n",
    "rename_columns(data_wire, rename=False)\n",
    "rename_columns(data_wire_time, rename=False)"
   ]
  },
  {
   "cell_type": "markdown",
   "metadata": {},
   "source": [
    "Посмотрим на результат:"
   ]
  },
  {
   "cell_type": "code",
   "execution_count": 19,
   "metadata": {},
   "outputs": [
    {
     "data": {
      "text/plain": [
       "Index(['key', 'start_heating', 'end_heating', 'active_power',\n",
       "       'reactive_power'],\n",
       "      dtype='object')"
      ]
     },
     "execution_count": 19,
     "metadata": {},
     "output_type": "execute_result"
    }
   ],
   "source": [
    "data_arc.columns"
   ]
  },
  {
   "cell_type": "markdown",
   "metadata": {},
   "source": [
    "Все работает. Начнем предобработку данных об электродах"
   ]
  },
  {
   "cell_type": "markdown",
   "metadata": {},
   "source": [
    "### Подготовка таргета"
   ]
  },
  {
   "cell_type": "markdown",
   "metadata": {},
   "source": [
    "Целевой признак спрятан в таблице data_temp. Вытащим его, и обработаем."
   ]
  },
  {
   "cell_type": "markdown",
   "metadata": {},
   "source": [
    "В таблицах есть данные партий сплавов, которые не имеют некоторых важных признаков. Финальную температуру таких партий просто невозможно будет предсказать. Заранее почистим данные, оставив только информативные наблюдения. Одно из допущений необходимых для работы модели состоит в том, что производство работает в одном более-менее статичном режиме."
   ]
  },
  {
   "cell_type": "markdown",
   "metadata": {},
   "source": [
    "Для работы модели нам необходимо соответсвие таргета следующим условиям:\n",
    "- Количество измерений температуры партии > 1\n",
    "- Финальный замер температуры должен быть последним звеном в производственной цепочке\n",
    "- Использование результатов промежуточных измерений температуры запрещено, т.к. считается ликом в данных\n",
    "- Данные результаты измерения температуры которых ниже температуры плавления стали - считаются выбросами"
   ]
  },
  {
   "cell_type": "markdown",
   "metadata": {},
   "source": [
    "Сразу отберем партии по вышеописанным признакам. С ними и продолжим всю дальнейшую работу."
   ]
  },
  {
   "cell_type": "code",
   "execution_count": 20,
   "metadata": {},
   "outputs": [
    {
     "data": {
      "text/html": [
       "<div>\n",
       "<style scoped>\n",
       "    .dataframe tbody tr th:only-of-type {\n",
       "        vertical-align: middle;\n",
       "    }\n",
       "\n",
       "    .dataframe tbody tr th {\n",
       "        vertical-align: top;\n",
       "    }\n",
       "\n",
       "    .dataframe thead th {\n",
       "        text-align: right;\n",
       "    }\n",
       "</style>\n",
       "<table border=\"1\" class=\"dataframe\">\n",
       "  <thead>\n",
       "    <tr style=\"text-align: right;\">\n",
       "      <th></th>\n",
       "      <th>key</th>\n",
       "      <th>measure_time</th>\n",
       "      <th>temperature</th>\n",
       "    </tr>\n",
       "  </thead>\n",
       "  <tbody>\n",
       "    <tr>\n",
       "      <th>0</th>\n",
       "      <td>1</td>\n",
       "      <td>2019-05-03 11:16:18</td>\n",
       "      <td>1571.0</td>\n",
       "    </tr>\n",
       "    <tr>\n",
       "      <th>1</th>\n",
       "      <td>1</td>\n",
       "      <td>2019-05-03 11:25:53</td>\n",
       "      <td>1604.0</td>\n",
       "    </tr>\n",
       "    <tr>\n",
       "      <th>2</th>\n",
       "      <td>1</td>\n",
       "      <td>2019-05-03 11:29:11</td>\n",
       "      <td>1618.0</td>\n",
       "    </tr>\n",
       "    <tr>\n",
       "      <th>3</th>\n",
       "      <td>1</td>\n",
       "      <td>2019-05-03 11:30:01</td>\n",
       "      <td>1601.0</td>\n",
       "    </tr>\n",
       "    <tr>\n",
       "      <th>4</th>\n",
       "      <td>1</td>\n",
       "      <td>2019-05-03 11:30:39</td>\n",
       "      <td>1613.0</td>\n",
       "    </tr>\n",
       "    <tr>\n",
       "      <th>5</th>\n",
       "      <td>2</td>\n",
       "      <td>2019-05-03 11:37:27</td>\n",
       "      <td>1581.0</td>\n",
       "    </tr>\n",
       "    <tr>\n",
       "      <th>6</th>\n",
       "      <td>2</td>\n",
       "      <td>2019-05-03 11:38:00</td>\n",
       "      <td>1577.0</td>\n",
       "    </tr>\n",
       "  </tbody>\n",
       "</table>\n",
       "</div>"
      ],
      "text/plain": [
       "   key         measure_time  temperature\n",
       "0    1  2019-05-03 11:16:18       1571.0\n",
       "1    1  2019-05-03 11:25:53       1604.0\n",
       "2    1  2019-05-03 11:29:11       1618.0\n",
       "3    1  2019-05-03 11:30:01       1601.0\n",
       "4    1  2019-05-03 11:30:39       1613.0\n",
       "5    2  2019-05-03 11:37:27       1581.0\n",
       "6    2  2019-05-03 11:38:00       1577.0"
      ]
     },
     "execution_count": 20,
     "metadata": {},
     "output_type": "execute_result"
    }
   ],
   "source": [
    "data_temp.head(7)"
   ]
  },
  {
   "cell_type": "markdown",
   "metadata": {},
   "source": [
    "Найдем те партии, время нагрева ковша которых было позже последнего замера температуры.\n",
    "\n",
    "Для начала, отберем те строки, значение температуры которых не NaN. Сгруппируем по ключу и найдем последнее время замера:"
   ]
  },
  {
   "cell_type": "code",
   "execution_count": 21,
   "metadata": {},
   "outputs": [
    {
     "name": "stdout",
     "output_type": "stream",
     "text": [
      "Количество партий до обработки: 3216\n"
     ]
    }
   ],
   "source": [
    "data_temp['measure_time'] = pd.to_datetime(data_temp['measure_time'])\n",
    "print('Количество партий до обработки:', data_temp['key'].nunique())"
   ]
  },
  {
   "cell_type": "code",
   "execution_count": 22,
   "metadata": {},
   "outputs": [
    {
     "data": {
      "text/html": [
       "<div>\n",
       "<style scoped>\n",
       "    .dataframe tbody tr th:only-of-type {\n",
       "        vertical-align: middle;\n",
       "    }\n",
       "\n",
       "    .dataframe tbody tr th {\n",
       "        vertical-align: top;\n",
       "    }\n",
       "\n",
       "    .dataframe thead th {\n",
       "        text-align: right;\n",
       "    }\n",
       "</style>\n",
       "<table border=\"1\" class=\"dataframe\">\n",
       "  <thead>\n",
       "    <tr style=\"text-align: right;\">\n",
       "      <th></th>\n",
       "      <th>key</th>\n",
       "      <th>last_measure</th>\n",
       "      <th>last_temp</th>\n",
       "      <th>count_measures</th>\n",
       "    </tr>\n",
       "  </thead>\n",
       "  <tbody>\n",
       "    <tr>\n",
       "      <th>0</th>\n",
       "      <td>1</td>\n",
       "      <td>2019-05-03 11:30:39</td>\n",
       "      <td>1613.0</td>\n",
       "      <td>5</td>\n",
       "    </tr>\n",
       "    <tr>\n",
       "      <th>1</th>\n",
       "      <td>2</td>\n",
       "      <td>2019-05-03 11:59:12</td>\n",
       "      <td>1602.0</td>\n",
       "      <td>6</td>\n",
       "    </tr>\n",
       "    <tr>\n",
       "      <th>2</th>\n",
       "      <td>3</td>\n",
       "      <td>2019-05-03 12:34:57</td>\n",
       "      <td>1599.0</td>\n",
       "      <td>5</td>\n",
       "    </tr>\n",
       "    <tr>\n",
       "      <th>3</th>\n",
       "      <td>4</td>\n",
       "      <td>2019-05-03 12:59:25</td>\n",
       "      <td>1625.0</td>\n",
       "      <td>3</td>\n",
       "    </tr>\n",
       "    <tr>\n",
       "      <th>4</th>\n",
       "      <td>5</td>\n",
       "      <td>2019-05-03 13:36:01</td>\n",
       "      <td>1602.0</td>\n",
       "      <td>2</td>\n",
       "    </tr>\n",
       "  </tbody>\n",
       "</table>\n",
       "</div>"
      ],
      "text/plain": [
       "   key        last_measure  last_temp  count_measures\n",
       "0    1 2019-05-03 11:30:39     1613.0               5\n",
       "1    2 2019-05-03 11:59:12     1602.0               6\n",
       "2    3 2019-05-03 12:34:57     1599.0               5\n",
       "3    4 2019-05-03 12:59:25     1625.0               3\n",
       "4    5 2019-05-03 13:36:01     1602.0               2"
      ]
     },
     "metadata": {},
     "output_type": "display_data"
    },
    {
     "name": "stdout",
     "output_type": "stream",
     "text": [
      "Количество пропущеных значений last_temp: 0\n",
      "Всего значений в таблице: 2475\n"
     ]
    }
   ],
   "source": [
    "last_mesure_data = data_temp.loc[~data_temp['temperature'].isna()].groupby('key', as_index=False).agg(last_measure = ('measure_time', 'last'),\n",
    "                                                               last_temp = ('temperature', 'last'),\n",
    "                                                               count_measures = ('temperature', 'count'))\n",
    "last_mesure_data = last_mesure_data.loc[last_mesure_data['count_measures'] > 1]\n",
    "display(last_mesure_data.head())\n",
    "print('Количество пропущеных значений last_temp:', last_mesure_data['last_temp'].isna().sum())\n",
    "print('Всего значений в таблице:', last_mesure_data.shape[0])"
   ]
  },
  {
   "cell_type": "markdown",
   "metadata": {},
   "source": [
    "Отлично, таким образом мы отобрали самые ценные данные. Теперь сравним время замера температуры. Отберем только строки, время замера температуры которых позже, чем время начала / конца нагрева ковша:"
   ]
  },
  {
   "cell_type": "code",
   "execution_count": 23,
   "metadata": {},
   "outputs": [
    {
     "data": {
      "text/html": [
       "<div>\n",
       "<style scoped>\n",
       "    .dataframe tbody tr th:only-of-type {\n",
       "        vertical-align: middle;\n",
       "    }\n",
       "\n",
       "    .dataframe tbody tr th {\n",
       "        vertical-align: top;\n",
       "    }\n",
       "\n",
       "    .dataframe thead th {\n",
       "        text-align: right;\n",
       "    }\n",
       "</style>\n",
       "<table border=\"1\" class=\"dataframe\">\n",
       "  <thead>\n",
       "    <tr style=\"text-align: right;\">\n",
       "      <th></th>\n",
       "      <th>key</th>\n",
       "      <th>last_start_heating</th>\n",
       "      <th>last_end_heating</th>\n",
       "    </tr>\n",
       "  </thead>\n",
       "  <tbody>\n",
       "    <tr>\n",
       "      <th>0</th>\n",
       "      <td>1</td>\n",
       "      <td>2019-05-03 11:26:09</td>\n",
       "      <td>2019-05-03 11:28:37</td>\n",
       "    </tr>\n",
       "    <tr>\n",
       "      <th>1</th>\n",
       "      <td>2</td>\n",
       "      <td>2019-05-03 11:49:48</td>\n",
       "      <td>2019-05-03 11:53:18</td>\n",
       "    </tr>\n",
       "    <tr>\n",
       "      <th>2</th>\n",
       "      <td>3</td>\n",
       "      <td>2019-05-03 12:31:14</td>\n",
       "      <td>2019-05-03 12:32:19</td>\n",
       "    </tr>\n",
       "    <tr>\n",
       "      <th>3</th>\n",
       "      <td>4</td>\n",
       "      <td>2019-05-03 12:53:12</td>\n",
       "      <td>2019-05-03 12:57:50</td>\n",
       "    </tr>\n",
       "    <tr>\n",
       "      <th>4</th>\n",
       "      <td>5</td>\n",
       "      <td>2019-05-03 13:32:44</td>\n",
       "      <td>2019-05-03 13:33:55</td>\n",
       "    </tr>\n",
       "  </tbody>\n",
       "</table>\n",
       "</div>"
      ],
      "text/plain": [
       "   key  last_start_heating    last_end_heating\n",
       "0    1 2019-05-03 11:26:09 2019-05-03 11:28:37\n",
       "1    2 2019-05-03 11:49:48 2019-05-03 11:53:18\n",
       "2    3 2019-05-03 12:31:14 2019-05-03 12:32:19\n",
       "3    4 2019-05-03 12:53:12 2019-05-03 12:57:50\n",
       "4    5 2019-05-03 13:32:44 2019-05-03 13:33:55"
      ]
     },
     "execution_count": 23,
     "metadata": {},
     "output_type": "execute_result"
    }
   ],
   "source": [
    "data_arc_row = pd.read_csv('final_steel/data_arc.csv')\n",
    "data_arc_row = data_arc_row.groupby('key', as_index=False).agg(last_start_heating = ('Начало нагрева дугой', 'last'),\n",
    "                                                               last_end_heating = ('Конец нагрева дугой', 'last'))\n",
    "data_arc_row['last_start_heating'] = pd.to_datetime(data_arc_row['last_start_heating'])\n",
    "data_arc_row['last_end_heating'] = pd.to_datetime(data_arc_row['last_end_heating'])\n",
    "\n",
    "data_arc_row.head()"
   ]
  },
  {
   "cell_type": "code",
   "execution_count": 24,
   "metadata": {},
   "outputs": [
    {
     "data": {
      "text/html": [
       "<div>\n",
       "<style scoped>\n",
       "    .dataframe tbody tr th:only-of-type {\n",
       "        vertical-align: middle;\n",
       "    }\n",
       "\n",
       "    .dataframe tbody tr th {\n",
       "        vertical-align: top;\n",
       "    }\n",
       "\n",
       "    .dataframe thead th {\n",
       "        text-align: right;\n",
       "    }\n",
       "</style>\n",
       "<table border=\"1\" class=\"dataframe\">\n",
       "  <thead>\n",
       "    <tr style=\"text-align: right;\">\n",
       "      <th></th>\n",
       "      <th>key</th>\n",
       "      <th>last_measure</th>\n",
       "      <th>last_temp</th>\n",
       "      <th>count_measures</th>\n",
       "      <th>last_start_heating</th>\n",
       "      <th>last_end_heating</th>\n",
       "    </tr>\n",
       "  </thead>\n",
       "  <tbody>\n",
       "    <tr>\n",
       "      <th>0</th>\n",
       "      <td>1</td>\n",
       "      <td>2019-05-03 11:30:39</td>\n",
       "      <td>1613.0</td>\n",
       "      <td>5</td>\n",
       "      <td>2019-05-03 11:26:09</td>\n",
       "      <td>2019-05-03 11:28:37</td>\n",
       "    </tr>\n",
       "    <tr>\n",
       "      <th>1</th>\n",
       "      <td>2</td>\n",
       "      <td>2019-05-03 11:59:12</td>\n",
       "      <td>1602.0</td>\n",
       "      <td>6</td>\n",
       "      <td>2019-05-03 11:49:48</td>\n",
       "      <td>2019-05-03 11:53:18</td>\n",
       "    </tr>\n",
       "    <tr>\n",
       "      <th>2</th>\n",
       "      <td>3</td>\n",
       "      <td>2019-05-03 12:34:57</td>\n",
       "      <td>1599.0</td>\n",
       "      <td>5</td>\n",
       "      <td>2019-05-03 12:31:14</td>\n",
       "      <td>2019-05-03 12:32:19</td>\n",
       "    </tr>\n",
       "    <tr>\n",
       "      <th>3</th>\n",
       "      <td>4</td>\n",
       "      <td>2019-05-03 12:59:25</td>\n",
       "      <td>1625.0</td>\n",
       "      <td>3</td>\n",
       "      <td>2019-05-03 12:53:12</td>\n",
       "      <td>2019-05-03 12:57:50</td>\n",
       "    </tr>\n",
       "    <tr>\n",
       "      <th>4</th>\n",
       "      <td>5</td>\n",
       "      <td>2019-05-03 13:36:01</td>\n",
       "      <td>1602.0</td>\n",
       "      <td>2</td>\n",
       "      <td>2019-05-03 13:32:44</td>\n",
       "      <td>2019-05-03 13:33:55</td>\n",
       "    </tr>\n",
       "  </tbody>\n",
       "</table>\n",
       "</div>"
      ],
      "text/plain": [
       "   key        last_measure  last_temp  count_measures  last_start_heating  \\\n",
       "0    1 2019-05-03 11:30:39     1613.0               5 2019-05-03 11:26:09   \n",
       "1    2 2019-05-03 11:59:12     1602.0               6 2019-05-03 11:49:48   \n",
       "2    3 2019-05-03 12:34:57     1599.0               5 2019-05-03 12:31:14   \n",
       "3    4 2019-05-03 12:59:25     1625.0               3 2019-05-03 12:53:12   \n",
       "4    5 2019-05-03 13:36:01     1602.0               2 2019-05-03 13:32:44   \n",
       "\n",
       "     last_end_heating  \n",
       "0 2019-05-03 11:28:37  \n",
       "1 2019-05-03 11:53:18  \n",
       "2 2019-05-03 12:32:19  \n",
       "3 2019-05-03 12:57:50  \n",
       "4 2019-05-03 13:33:55  "
      ]
     },
     "metadata": {},
     "output_type": "display_data"
    },
    {
     "name": "stdout",
     "output_type": "stream",
     "text": [
      "Количество уникальных партий до сравнения: 2475\n"
     ]
    }
   ],
   "source": [
    "joined_meas_heat = last_mesure_data.merge(data_arc_row, right_on='key', left_on='key')\n",
    "display(joined_meas_heat.head())\n",
    "print('Количество уникальных партий до сравнения:', joined_meas_heat['key'].nunique())"
   ]
  },
  {
   "cell_type": "markdown",
   "metadata": {},
   "source": [
    "Отберем нужные нам партии соответствующие условию по времени:"
   ]
  },
  {
   "cell_type": "code",
   "execution_count": 25,
   "metadata": {},
   "outputs": [
    {
     "data": {
      "text/plain": [
       "array([   1,    2,    3, ..., 2497, 2498, 2499])"
      ]
     },
     "execution_count": 25,
     "metadata": {},
     "output_type": "execute_result"
    }
   ],
   "source": [
    "good_keys = joined_meas_heat.loc[(joined_meas_heat['last_measure'] > joined_meas_heat['last_start_heating']) |\n",
    "                     (joined_meas_heat['last_measure'] > joined_meas_heat['last_end_heating'])]['key'].values\n",
    "good_keys"
   ]
  },
  {
   "cell_type": "markdown",
   "metadata": {},
   "source": [
    "Отфильтруем найденные партии металла:"
   ]
  },
  {
   "cell_type": "code",
   "execution_count": 26,
   "metadata": {},
   "outputs": [
    {
     "data": {
      "text/html": [
       "<div>\n",
       "<style scoped>\n",
       "    .dataframe tbody tr th:only-of-type {\n",
       "        vertical-align: middle;\n",
       "    }\n",
       "\n",
       "    .dataframe tbody tr th {\n",
       "        vertical-align: top;\n",
       "    }\n",
       "\n",
       "    .dataframe thead th {\n",
       "        text-align: right;\n",
       "    }\n",
       "</style>\n",
       "<table border=\"1\" class=\"dataframe\">\n",
       "  <thead>\n",
       "    <tr style=\"text-align: right;\">\n",
       "      <th></th>\n",
       "      <th>key</th>\n",
       "      <th>last_measure</th>\n",
       "      <th>last_temp</th>\n",
       "      <th>count_measures</th>\n",
       "    </tr>\n",
       "  </thead>\n",
       "  <tbody>\n",
       "    <tr>\n",
       "      <th>0</th>\n",
       "      <td>1</td>\n",
       "      <td>2019-05-03 11:30:39</td>\n",
       "      <td>1613.0</td>\n",
       "      <td>5</td>\n",
       "    </tr>\n",
       "    <tr>\n",
       "      <th>1</th>\n",
       "      <td>2</td>\n",
       "      <td>2019-05-03 11:59:12</td>\n",
       "      <td>1602.0</td>\n",
       "      <td>6</td>\n",
       "    </tr>\n",
       "    <tr>\n",
       "      <th>2</th>\n",
       "      <td>3</td>\n",
       "      <td>2019-05-03 12:34:57</td>\n",
       "      <td>1599.0</td>\n",
       "      <td>5</td>\n",
       "    </tr>\n",
       "    <tr>\n",
       "      <th>3</th>\n",
       "      <td>4</td>\n",
       "      <td>2019-05-03 12:59:25</td>\n",
       "      <td>1625.0</td>\n",
       "      <td>3</td>\n",
       "    </tr>\n",
       "    <tr>\n",
       "      <th>4</th>\n",
       "      <td>5</td>\n",
       "      <td>2019-05-03 13:36:01</td>\n",
       "      <td>1602.0</td>\n",
       "      <td>2</td>\n",
       "    </tr>\n",
       "  </tbody>\n",
       "</table>\n",
       "</div>"
      ],
      "text/plain": [
       "   key        last_measure  last_temp  count_measures\n",
       "0    1 2019-05-03 11:30:39     1613.0               5\n",
       "1    2 2019-05-03 11:59:12     1602.0               6\n",
       "2    3 2019-05-03 12:34:57     1599.0               5\n",
       "3    4 2019-05-03 12:59:25     1625.0               3\n",
       "4    5 2019-05-03 13:36:01     1602.0               2"
      ]
     },
     "metadata": {},
     "output_type": "display_data"
    },
    {
     "name": "stdout",
     "output_type": "stream",
     "text": [
      "Количество уникальных партий после сравнения: 2344\n"
     ]
    }
   ],
   "source": [
    "final_measure_temp_data = last_mesure_data.loc[last_mesure_data['key'].isin(good_keys)]\n",
    "display(final_measure_temp_data.head())\n",
    "print('Количество уникальных партий после сравнения:', final_measure_temp_data['key'].nunique())"
   ]
  },
  {
   "cell_type": "markdown",
   "metadata": {},
   "source": [
    "Таким образом, наш таргет лишился ~900 уникальных партий. Что примерно равно 27% данных. Много, но сделать с этим ничего нельзя."
   ]
  },
  {
   "cell_type": "markdown",
   "metadata": {},
   "source": [
    "Дальше будем работать только с отобранными партиями металла."
   ]
  },
  {
   "cell_type": "markdown",
   "metadata": {},
   "source": [
    "Обогатим признаковое пространство. Добавим начальную температуру в качестве признака:"
   ]
  },
  {
   "cell_type": "code",
   "execution_count": 27,
   "metadata": {},
   "outputs": [],
   "source": [
    "final_measure_temp_data = final_measure_temp_data.join(data_temp.groupby('key', as_index=False).agg(start_temp=('temperature', 'first'))['start_temp'],\n",
    "                                                      how='left', rsuffix='_r')\n",
    "\n",
    "final_measure_temp_data = final_measure_temp_data.drop('last_measure', axis=1)"
   ]
  },
  {
   "cell_type": "code",
   "execution_count": 28,
   "metadata": {
    "scrolled": true
   },
   "outputs": [
    {
     "data": {
      "text/html": [
       "<div>\n",
       "<style scoped>\n",
       "    .dataframe tbody tr th:only-of-type {\n",
       "        vertical-align: middle;\n",
       "    }\n",
       "\n",
       "    .dataframe tbody tr th {\n",
       "        vertical-align: top;\n",
       "    }\n",
       "\n",
       "    .dataframe thead th {\n",
       "        text-align: right;\n",
       "    }\n",
       "</style>\n",
       "<table border=\"1\" class=\"dataframe\">\n",
       "  <thead>\n",
       "    <tr style=\"text-align: right;\">\n",
       "      <th></th>\n",
       "      <th>key</th>\n",
       "      <th>last_temp</th>\n",
       "      <th>count_measures</th>\n",
       "      <th>start_temp</th>\n",
       "    </tr>\n",
       "  </thead>\n",
       "  <tbody>\n",
       "    <tr>\n",
       "      <th>0</th>\n",
       "      <td>1</td>\n",
       "      <td>1613.0</td>\n",
       "      <td>5</td>\n",
       "      <td>1571.0</td>\n",
       "    </tr>\n",
       "    <tr>\n",
       "      <th>1</th>\n",
       "      <td>2</td>\n",
       "      <td>1602.0</td>\n",
       "      <td>6</td>\n",
       "      <td>1581.0</td>\n",
       "    </tr>\n",
       "    <tr>\n",
       "      <th>2</th>\n",
       "      <td>3</td>\n",
       "      <td>1599.0</td>\n",
       "      <td>5</td>\n",
       "      <td>1596.0</td>\n",
       "    </tr>\n",
       "    <tr>\n",
       "      <th>3</th>\n",
       "      <td>4</td>\n",
       "      <td>1625.0</td>\n",
       "      <td>3</td>\n",
       "      <td>1601.0</td>\n",
       "    </tr>\n",
       "    <tr>\n",
       "      <th>4</th>\n",
       "      <td>5</td>\n",
       "      <td>1602.0</td>\n",
       "      <td>2</td>\n",
       "      <td>1576.0</td>\n",
       "    </tr>\n",
       "  </tbody>\n",
       "</table>\n",
       "</div>"
      ],
      "text/plain": [
       "   key  last_temp  count_measures  start_temp\n",
       "0    1     1613.0               5      1571.0\n",
       "1    2     1602.0               6      1581.0\n",
       "2    3     1599.0               5      1596.0\n",
       "3    4     1625.0               3      1601.0\n",
       "4    5     1602.0               2      1576.0"
      ]
     },
     "metadata": {},
     "output_type": "display_data"
    },
    {
     "name": "stdout",
     "output_type": "stream",
     "text": [
      "Количество уникальных партий стали: 2344\n"
     ]
    }
   ],
   "source": [
    "display(final_measure_temp_data.head())\n",
    "print('Количество уникальных партий стали:', final_measure_temp_data['key'].nunique())"
   ]
  },
  {
   "cell_type": "markdown",
   "metadata": {},
   "source": [
    "Сохраним хорошие ключи:"
   ]
  },
  {
   "cell_type": "code",
   "execution_count": 29,
   "metadata": {},
   "outputs": [],
   "source": [
    "good_keys = final_measure_temp_data['key'].unique()"
   ]
  },
  {
   "cell_type": "markdown",
   "metadata": {},
   "source": [
    "Посмотрим на матрицу корреляции:"
   ]
  },
  {
   "cell_type": "code",
   "execution_count": 30,
   "metadata": {},
   "outputs": [
    {
     "data": {
      "text/html": [
       "<div>\n",
       "<style scoped>\n",
       "    .dataframe tbody tr th:only-of-type {\n",
       "        vertical-align: middle;\n",
       "    }\n",
       "\n",
       "    .dataframe tbody tr th {\n",
       "        vertical-align: top;\n",
       "    }\n",
       "\n",
       "    .dataframe thead th {\n",
       "        text-align: right;\n",
       "    }\n",
       "</style>\n",
       "<table border=\"1\" class=\"dataframe\">\n",
       "  <thead>\n",
       "    <tr style=\"text-align: right;\">\n",
       "      <th></th>\n",
       "      <th>key</th>\n",
       "      <th>last_temp</th>\n",
       "      <th>count_measures</th>\n",
       "      <th>start_temp</th>\n",
       "    </tr>\n",
       "  </thead>\n",
       "  <tbody>\n",
       "    <tr>\n",
       "      <th>key</th>\n",
       "      <td>1.000000</td>\n",
       "      <td>-0.078449</td>\n",
       "      <td>-0.057583</td>\n",
       "      <td>-0.011472</td>\n",
       "    </tr>\n",
       "    <tr>\n",
       "      <th>last_temp</th>\n",
       "      <td>-0.078449</td>\n",
       "      <td>1.000000</td>\n",
       "      <td>0.054814</td>\n",
       "      <td>0.366398</td>\n",
       "    </tr>\n",
       "    <tr>\n",
       "      <th>count_measures</th>\n",
       "      <td>-0.057583</td>\n",
       "      <td>0.054814</td>\n",
       "      <td>1.000000</td>\n",
       "      <td>0.100176</td>\n",
       "    </tr>\n",
       "    <tr>\n",
       "      <th>start_temp</th>\n",
       "      <td>-0.011472</td>\n",
       "      <td>0.366398</td>\n",
       "      <td>0.100176</td>\n",
       "      <td>1.000000</td>\n",
       "    </tr>\n",
       "  </tbody>\n",
       "</table>\n",
       "</div>"
      ],
      "text/plain": [
       "                     key  last_temp  count_measures  start_temp\n",
       "key             1.000000  -0.078449       -0.057583   -0.011472\n",
       "last_temp      -0.078449   1.000000        0.054814    0.366398\n",
       "count_measures -0.057583   0.054814        1.000000    0.100176\n",
       "start_temp     -0.011472   0.366398        0.100176    1.000000"
      ]
     },
     "execution_count": 30,
     "metadata": {},
     "output_type": "execute_result"
    }
   ],
   "source": [
    "final_measure_temp_data.corr()"
   ]
  },
  {
   "cell_type": "markdown",
   "metadata": {},
   "source": [
    "Высокой корреляции нет. Призаки оставляем."
   ]
  },
  {
   "cell_type": "markdown",
   "metadata": {},
   "source": [
    "### Объединение таблиц. Работа с признаками"
   ]
  },
  {
   "cell_type": "markdown",
   "metadata": {},
   "source": [
    "Поработаем с признаками. Наша цель - максимально обогатить признаковое пространство, и передать модели. Далее модель уже сама выявит самые информативные фичи."
   ]
  },
  {
   "cell_type": "markdown",
   "metadata": {},
   "source": [
    "#### 1. data_arc - данные об электродах"
   ]
  },
  {
   "cell_type": "code",
   "execution_count": 31,
   "metadata": {
    "scrolled": true
   },
   "outputs": [
    {
     "data": {
      "text/html": [
       "<div>\n",
       "<style scoped>\n",
       "    .dataframe tbody tr th:only-of-type {\n",
       "        vertical-align: middle;\n",
       "    }\n",
       "\n",
       "    .dataframe tbody tr th {\n",
       "        vertical-align: top;\n",
       "    }\n",
       "\n",
       "    .dataframe thead th {\n",
       "        text-align: right;\n",
       "    }\n",
       "</style>\n",
       "<table border=\"1\" class=\"dataframe\">\n",
       "  <thead>\n",
       "    <tr style=\"text-align: right;\">\n",
       "      <th></th>\n",
       "      <th>key</th>\n",
       "      <th>start_heating</th>\n",
       "      <th>end_heating</th>\n",
       "      <th>active_power</th>\n",
       "      <th>reactive_power</th>\n",
       "    </tr>\n",
       "  </thead>\n",
       "  <tbody>\n",
       "    <tr>\n",
       "      <th>0</th>\n",
       "      <td>1</td>\n",
       "      <td>2019-05-03 11:02:14</td>\n",
       "      <td>2019-05-03 11:06:02</td>\n",
       "      <td>0.976059</td>\n",
       "      <td>0.687084</td>\n",
       "    </tr>\n",
       "    <tr>\n",
       "      <th>1</th>\n",
       "      <td>1</td>\n",
       "      <td>2019-05-03 11:07:28</td>\n",
       "      <td>2019-05-03 11:10:33</td>\n",
       "      <td>0.805607</td>\n",
       "      <td>0.520285</td>\n",
       "    </tr>\n",
       "    <tr>\n",
       "      <th>2</th>\n",
       "      <td>1</td>\n",
       "      <td>2019-05-03 11:11:44</td>\n",
       "      <td>2019-05-03 11:14:36</td>\n",
       "      <td>0.744363</td>\n",
       "      <td>0.498805</td>\n",
       "    </tr>\n",
       "    <tr>\n",
       "      <th>3</th>\n",
       "      <td>1</td>\n",
       "      <td>2019-05-03 11:18:14</td>\n",
       "      <td>2019-05-03 11:24:19</td>\n",
       "      <td>1.659363</td>\n",
       "      <td>1.062669</td>\n",
       "    </tr>\n",
       "    <tr>\n",
       "      <th>4</th>\n",
       "      <td>1</td>\n",
       "      <td>2019-05-03 11:26:09</td>\n",
       "      <td>2019-05-03 11:28:37</td>\n",
       "      <td>0.692755</td>\n",
       "      <td>0.414397</td>\n",
       "    </tr>\n",
       "  </tbody>\n",
       "</table>\n",
       "</div>"
      ],
      "text/plain": [
       "   key        start_heating          end_heating  active_power  reactive_power\n",
       "0    1  2019-05-03 11:02:14  2019-05-03 11:06:02      0.976059        0.687084\n",
       "1    1  2019-05-03 11:07:28  2019-05-03 11:10:33      0.805607        0.520285\n",
       "2    1  2019-05-03 11:11:44  2019-05-03 11:14:36      0.744363        0.498805\n",
       "3    1  2019-05-03 11:18:14  2019-05-03 11:24:19      1.659363        1.062669\n",
       "4    1  2019-05-03 11:26:09  2019-05-03 11:28:37      0.692755        0.414397"
      ]
     },
     "execution_count": 31,
     "metadata": {},
     "output_type": "execute_result"
    }
   ],
   "source": [
    "data_arc.head()"
   ]
  },
  {
   "cell_type": "markdown",
   "metadata": {},
   "source": [
    "Посмотрим на связь между признаками. \n",
    "\n",
    "*(Мы помним, что у reactive_power есть большое отрицательное значение. Отбросим его сейчас)*"
   ]
  },
  {
   "cell_type": "code",
   "execution_count": 32,
   "metadata": {},
   "outputs": [
    {
     "data": {
      "text/html": [
       "<div>\n",
       "<style scoped>\n",
       "    .dataframe tbody tr th:only-of-type {\n",
       "        vertical-align: middle;\n",
       "    }\n",
       "\n",
       "    .dataframe tbody tr th {\n",
       "        vertical-align: top;\n",
       "    }\n",
       "\n",
       "    .dataframe thead th {\n",
       "        text-align: right;\n",
       "    }\n",
       "</style>\n",
       "<table border=\"1\" class=\"dataframe\">\n",
       "  <thead>\n",
       "    <tr style=\"text-align: right;\">\n",
       "      <th></th>\n",
       "      <th>key</th>\n",
       "      <th>active_power</th>\n",
       "      <th>reactive_power</th>\n",
       "    </tr>\n",
       "  </thead>\n",
       "  <tbody>\n",
       "    <tr>\n",
       "      <th>key</th>\n",
       "      <td>1.000000</td>\n",
       "      <td>-0.021367</td>\n",
       "      <td>-0.000159</td>\n",
       "    </tr>\n",
       "    <tr>\n",
       "      <th>active_power</th>\n",
       "      <td>-0.021367</td>\n",
       "      <td>1.000000</td>\n",
       "      <td>0.963182</td>\n",
       "    </tr>\n",
       "    <tr>\n",
       "      <th>reactive_power</th>\n",
       "      <td>-0.000159</td>\n",
       "      <td>0.963182</td>\n",
       "      <td>1.000000</td>\n",
       "    </tr>\n",
       "  </tbody>\n",
       "</table>\n",
       "</div>"
      ],
      "text/plain": [
       "                     key  active_power  reactive_power\n",
       "key             1.000000     -0.021367       -0.000159\n",
       "active_power   -0.021367      1.000000        0.963182\n",
       "reactive_power -0.000159      0.963182        1.000000"
      ]
     },
     "execution_count": 32,
     "metadata": {},
     "output_type": "execute_result"
    }
   ],
   "source": [
    "data_arc.loc[data_arc['reactive_power'] >= 0].corr()"
   ]
  },
  {
   "cell_type": "markdown",
   "metadata": {},
   "source": [
    "Наблюдаем практически линейную взаимосвязь мощностей. Возможно, чуть более информативной фичей для модели будет отношение активной и реактивной мощностей, так как оно будет содержать в себе контекст обоих признаков. Добавим его:"
   ]
  },
  {
   "cell_type": "code",
   "execution_count": 33,
   "metadata": {},
   "outputs": [],
   "source": [
    "data_arc['power_ratio'] = data_arc['active_power'] / data_arc['reactive_power']"
   ]
  },
  {
   "cell_type": "code",
   "execution_count": 34,
   "metadata": {},
   "outputs": [
    {
     "data": {
      "text/html": [
       "<div>\n",
       "<style scoped>\n",
       "    .dataframe tbody tr th:only-of-type {\n",
       "        vertical-align: middle;\n",
       "    }\n",
       "\n",
       "    .dataframe tbody tr th {\n",
       "        vertical-align: top;\n",
       "    }\n",
       "\n",
       "    .dataframe thead th {\n",
       "        text-align: right;\n",
       "    }\n",
       "</style>\n",
       "<table border=\"1\" class=\"dataframe\">\n",
       "  <thead>\n",
       "    <tr style=\"text-align: right;\">\n",
       "      <th></th>\n",
       "      <th>key</th>\n",
       "      <th>start_heating</th>\n",
       "      <th>end_heating</th>\n",
       "      <th>active_power</th>\n",
       "      <th>reactive_power</th>\n",
       "      <th>power_ratio</th>\n",
       "    </tr>\n",
       "  </thead>\n",
       "  <tbody>\n",
       "    <tr>\n",
       "      <th>0</th>\n",
       "      <td>1</td>\n",
       "      <td>2019-05-03 11:02:14</td>\n",
       "      <td>2019-05-03 11:06:02</td>\n",
       "      <td>0.976059</td>\n",
       "      <td>0.687084</td>\n",
       "      <td>1.420582</td>\n",
       "    </tr>\n",
       "    <tr>\n",
       "      <th>1</th>\n",
       "      <td>1</td>\n",
       "      <td>2019-05-03 11:07:28</td>\n",
       "      <td>2019-05-03 11:10:33</td>\n",
       "      <td>0.805607</td>\n",
       "      <td>0.520285</td>\n",
       "      <td>1.548395</td>\n",
       "    </tr>\n",
       "    <tr>\n",
       "      <th>2</th>\n",
       "      <td>1</td>\n",
       "      <td>2019-05-03 11:11:44</td>\n",
       "      <td>2019-05-03 11:14:36</td>\n",
       "      <td>0.744363</td>\n",
       "      <td>0.498805</td>\n",
       "      <td>1.492292</td>\n",
       "    </tr>\n",
       "  </tbody>\n",
       "</table>\n",
       "</div>"
      ],
      "text/plain": [
       "   key        start_heating          end_heating  active_power  \\\n",
       "0    1  2019-05-03 11:02:14  2019-05-03 11:06:02      0.976059   \n",
       "1    1  2019-05-03 11:07:28  2019-05-03 11:10:33      0.805607   \n",
       "2    1  2019-05-03 11:11:44  2019-05-03 11:14:36      0.744363   \n",
       "\n",
       "   reactive_power  power_ratio  \n",
       "0        0.687084     1.420582  \n",
       "1        0.520285     1.548395  \n",
       "2        0.498805     1.492292  "
      ]
     },
     "execution_count": 34,
     "metadata": {},
     "output_type": "execute_result"
    }
   ],
   "source": [
    "data_arc.head(3)"
   ]
  },
  {
   "cell_type": "markdown",
   "metadata": {},
   "source": [
    "Производственный процесс подразумевает несколько циклов нагрева сплава. Это мы и видим в таблице. Однако, такой формат даты нам неудобен. Машина не сможет понять зависимостей в данных. Лучше, если мы найдем время нагрева в секундах, и сведем в один столбец. Затем сгруппируем данные по ключу, и найдем количество раз нагрева сплава, и другие основные статистики признаков такие как: медиана, среднее, 25 и 75 квантили, максимум и минимум:"
   ]
  },
  {
   "cell_type": "markdown",
   "metadata": {},
   "source": [
    "Фрейм data_arc в текущем виде нам еще пригодится, поэтому все вычисления проделаем на его копии:"
   ]
  },
  {
   "cell_type": "code",
   "execution_count": 35,
   "metadata": {},
   "outputs": [],
   "source": [
    "data_arc_modify = data_arc.copy()"
   ]
  },
  {
   "cell_type": "markdown",
   "metadata": {},
   "source": [
    "Вычисляем время начала нагрева и конца в формате UNIX:"
   ]
  },
  {
   "cell_type": "code",
   "execution_count": 36,
   "metadata": {},
   "outputs": [],
   "source": [
    "data_arc_modify['start_heating'] = (pd.to_datetime(data_arc_modify['start_heating']) - pd.Timestamp(\"1970-01-01\")) // pd.Timedelta('1s') \n"
   ]
  },
  {
   "cell_type": "code",
   "execution_count": 37,
   "metadata": {},
   "outputs": [],
   "source": [
    "data_arc_modify['end_heating'] = (pd.to_datetime(data_arc_modify['end_heating']) - pd.Timestamp(\"1970-01-01\")) // pd.Timedelta('1s') \n"
   ]
  },
  {
   "cell_type": "markdown",
   "metadata": {},
   "source": [
    "Находим разницу во времени, то есть, время нагрева сплава:"
   ]
  },
  {
   "cell_type": "code",
   "execution_count": 38,
   "metadata": {},
   "outputs": [],
   "source": [
    "data_arc_modify['heating_time'] = data_arc_modify['end_heating'] - data_arc_modify['start_heating']\n"
   ]
  },
  {
   "cell_type": "code",
   "execution_count": 39,
   "metadata": {},
   "outputs": [],
   "source": [
    "data_arc_modify = data_arc_modify.drop(['start_heating', 'end_heating'], axis=1)"
   ]
  },
  {
   "cell_type": "markdown",
   "metadata": {},
   "source": [
    "Наконец, группируем данные по номеру партии, и вычисляем описанные выше статистики:"
   ]
  },
  {
   "cell_type": "code",
   "execution_count": 40,
   "metadata": {},
   "outputs": [],
   "source": [
    "data_arc_grouped = data_arc_modify.groupby('key', as_index=False).agg(heating_time_mean = ('heating_time', 'mean'),\n",
    "                                                               heating_time_min = ('heating_time', 'min'),\n",
    "                                                               heating_time_max = ('heating_time', 'max'),\n",
    "                                                               heating_time_median = ('heating_time', 'median'),\n",
    "                                                               heating_time_q25 = ('heating_time', lambda x: np.percentile(x, q=25)),\n",
    "                                                               heating_time_q75 = ('heating_time', lambda x: np.percentile(x, q=75)),\n",
    "                                                               heating_time_total = ('heating_time', 'sum'),\n",
    "                                                               num_heatings = ('heating_time', 'count'),\n",
    "                                                               power_ratio_mean = ('power_ratio', 'mean'),\n",
    "                                                               power_ratio_min = ('heating_time', 'min'),\n",
    "                                                               power_ratio_max = ('heating_time', 'max'),\n",
    "                                                               power_ratio_median = ('heating_time', 'median'),\n",
    "                                                               power_ratio_q25 = ('heating_time', lambda x: np.percentile(x, q=25)),\n",
    "                                                               power_ratio_q75 = ('heating_time', lambda x: np.percentile(x, q=75)),\n",
    "                                                               power_ratio_total = ('heating_time', 'sum'))                                            "
   ]
  },
  {
   "cell_type": "code",
   "execution_count": 41,
   "metadata": {},
   "outputs": [
    {
     "data": {
      "text/html": [
       "<div>\n",
       "<style scoped>\n",
       "    .dataframe tbody tr th:only-of-type {\n",
       "        vertical-align: middle;\n",
       "    }\n",
       "\n",
       "    .dataframe tbody tr th {\n",
       "        vertical-align: top;\n",
       "    }\n",
       "\n",
       "    .dataframe thead th {\n",
       "        text-align: right;\n",
       "    }\n",
       "</style>\n",
       "<table border=\"1\" class=\"dataframe\">\n",
       "  <thead>\n",
       "    <tr style=\"text-align: right;\">\n",
       "      <th></th>\n",
       "      <th>key</th>\n",
       "      <th>heating_time_mean</th>\n",
       "      <th>heating_time_min</th>\n",
       "      <th>heating_time_max</th>\n",
       "      <th>heating_time_median</th>\n",
       "      <th>heating_time_q25</th>\n",
       "      <th>heating_time_q75</th>\n",
       "      <th>heating_time_total</th>\n",
       "      <th>num_heatings</th>\n",
       "      <th>power_ratio_mean</th>\n",
       "      <th>power_ratio_min</th>\n",
       "      <th>power_ratio_max</th>\n",
       "      <th>power_ratio_median</th>\n",
       "      <th>power_ratio_q25</th>\n",
       "      <th>power_ratio_q75</th>\n",
       "      <th>power_ratio_total</th>\n",
       "    </tr>\n",
       "  </thead>\n",
       "  <tbody>\n",
       "    <tr>\n",
       "      <th>0</th>\n",
       "      <td>1</td>\n",
       "      <td>219.60</td>\n",
       "      <td>148</td>\n",
       "      <td>365</td>\n",
       "      <td>185.0</td>\n",
       "      <td>172.00</td>\n",
       "      <td>228.0</td>\n",
       "      <td>1098</td>\n",
       "      <td>5</td>\n",
       "      <td>1.538898</td>\n",
       "      <td>148</td>\n",
       "      <td>365</td>\n",
       "      <td>185.0</td>\n",
       "      <td>172.00</td>\n",
       "      <td>228.0</td>\n",
       "      <td>1098</td>\n",
       "    </tr>\n",
       "    <tr>\n",
       "      <th>1</th>\n",
       "      <td>2</td>\n",
       "      <td>202.75</td>\n",
       "      <td>126</td>\n",
       "      <td>338</td>\n",
       "      <td>173.5</td>\n",
       "      <td>134.25</td>\n",
       "      <td>242.0</td>\n",
       "      <td>811</td>\n",
       "      <td>4</td>\n",
       "      <td>1.551834</td>\n",
       "      <td>126</td>\n",
       "      <td>338</td>\n",
       "      <td>173.5</td>\n",
       "      <td>134.25</td>\n",
       "      <td>242.0</td>\n",
       "      <td>811</td>\n",
       "    </tr>\n",
       "    <tr>\n",
       "      <th>2</th>\n",
       "      <td>3</td>\n",
       "      <td>131.00</td>\n",
       "      <td>65</td>\n",
       "      <td>280</td>\n",
       "      <td>109.0</td>\n",
       "      <td>77.00</td>\n",
       "      <td>124.0</td>\n",
       "      <td>655</td>\n",
       "      <td>5</td>\n",
       "      <td>1.583120</td>\n",
       "      <td>65</td>\n",
       "      <td>280</td>\n",
       "      <td>109.0</td>\n",
       "      <td>77.00</td>\n",
       "      <td>124.0</td>\n",
       "      <td>655</td>\n",
       "    </tr>\n",
       "  </tbody>\n",
       "</table>\n",
       "</div>"
      ],
      "text/plain": [
       "   key  heating_time_mean  heating_time_min  heating_time_max  \\\n",
       "0    1             219.60               148               365   \n",
       "1    2             202.75               126               338   \n",
       "2    3             131.00                65               280   \n",
       "\n",
       "   heating_time_median  heating_time_q25  heating_time_q75  \\\n",
       "0                185.0            172.00             228.0   \n",
       "1                173.5            134.25             242.0   \n",
       "2                109.0             77.00             124.0   \n",
       "\n",
       "   heating_time_total  num_heatings  power_ratio_mean  power_ratio_min  \\\n",
       "0                1098             5          1.538898              148   \n",
       "1                 811             4          1.551834              126   \n",
       "2                 655             5          1.583120               65   \n",
       "\n",
       "   power_ratio_max  power_ratio_median  power_ratio_q25  power_ratio_q75  \\\n",
       "0              365               185.0           172.00            228.0   \n",
       "1              338               173.5           134.25            242.0   \n",
       "2              280               109.0            77.00            124.0   \n",
       "\n",
       "   power_ratio_total  \n",
       "0               1098  \n",
       "1                811  \n",
       "2                655  "
      ]
     },
     "execution_count": 41,
     "metadata": {},
     "output_type": "execute_result"
    }
   ],
   "source": [
    "data_arc_grouped.head(3)"
   ]
  },
  {
   "cell_type": "markdown",
   "metadata": {},
   "source": [
    "#### 2. data_bulk - данные о подаче сыпучих материалов (объем)"
   ]
  },
  {
   "cell_type": "markdown",
   "metadata": {},
   "source": [
    "Здесь мы иммем объем добавленных сыпучих материалов к каждой партии сплава. Отсутствие информации, соответственно, говорит об отсутствии добавок этого типа. Вероятно, это выжные параметры, которые могут сильно влиять на температуру."
   ]
  },
  {
   "cell_type": "code",
   "execution_count": 42,
   "metadata": {
    "scrolled": true
   },
   "outputs": [
    {
     "data": {
      "text/html": [
       "<div>\n",
       "<style scoped>\n",
       "    .dataframe tbody tr th:only-of-type {\n",
       "        vertical-align: middle;\n",
       "    }\n",
       "\n",
       "    .dataframe tbody tr th {\n",
       "        vertical-align: top;\n",
       "    }\n",
       "\n",
       "    .dataframe thead th {\n",
       "        text-align: right;\n",
       "    }\n",
       "</style>\n",
       "<table border=\"1\" class=\"dataframe\">\n",
       "  <thead>\n",
       "    <tr style=\"text-align: right;\">\n",
       "      <th></th>\n",
       "      <th>key</th>\n",
       "      <th>bulk_1</th>\n",
       "      <th>bulk_2</th>\n",
       "      <th>bulk_3</th>\n",
       "      <th>bulk_4</th>\n",
       "      <th>bulk_5</th>\n",
       "      <th>bulk_6</th>\n",
       "      <th>bulk_7</th>\n",
       "      <th>bulk_8</th>\n",
       "      <th>bulk_9</th>\n",
       "      <th>bulk_10</th>\n",
       "      <th>bulk_11</th>\n",
       "      <th>bulk_12</th>\n",
       "      <th>bulk_13</th>\n",
       "      <th>bulk_14</th>\n",
       "      <th>bulk_15</th>\n",
       "    </tr>\n",
       "  </thead>\n",
       "  <tbody>\n",
       "    <tr>\n",
       "      <th>0</th>\n",
       "      <td>1</td>\n",
       "      <td>NaN</td>\n",
       "      <td>NaN</td>\n",
       "      <td>NaN</td>\n",
       "      <td>43.0</td>\n",
       "      <td>NaN</td>\n",
       "      <td>NaN</td>\n",
       "      <td>NaN</td>\n",
       "      <td>NaN</td>\n",
       "      <td>NaN</td>\n",
       "      <td>NaN</td>\n",
       "      <td>NaN</td>\n",
       "      <td>206.0</td>\n",
       "      <td>NaN</td>\n",
       "      <td>150.0</td>\n",
       "      <td>154.0</td>\n",
       "    </tr>\n",
       "    <tr>\n",
       "      <th>1</th>\n",
       "      <td>2</td>\n",
       "      <td>NaN</td>\n",
       "      <td>NaN</td>\n",
       "      <td>NaN</td>\n",
       "      <td>73.0</td>\n",
       "      <td>NaN</td>\n",
       "      <td>NaN</td>\n",
       "      <td>NaN</td>\n",
       "      <td>NaN</td>\n",
       "      <td>NaN</td>\n",
       "      <td>NaN</td>\n",
       "      <td>NaN</td>\n",
       "      <td>206.0</td>\n",
       "      <td>NaN</td>\n",
       "      <td>149.0</td>\n",
       "      <td>154.0</td>\n",
       "    </tr>\n",
       "    <tr>\n",
       "      <th>2</th>\n",
       "      <td>3</td>\n",
       "      <td>NaN</td>\n",
       "      <td>NaN</td>\n",
       "      <td>NaN</td>\n",
       "      <td>34.0</td>\n",
       "      <td>NaN</td>\n",
       "      <td>NaN</td>\n",
       "      <td>NaN</td>\n",
       "      <td>NaN</td>\n",
       "      <td>NaN</td>\n",
       "      <td>NaN</td>\n",
       "      <td>NaN</td>\n",
       "      <td>205.0</td>\n",
       "      <td>NaN</td>\n",
       "      <td>152.0</td>\n",
       "      <td>153.0</td>\n",
       "    </tr>\n",
       "  </tbody>\n",
       "</table>\n",
       "</div>"
      ],
      "text/plain": [
       "   key  bulk_1  bulk_2  bulk_3  bulk_4  bulk_5  bulk_6  bulk_7  bulk_8  \\\n",
       "0    1     NaN     NaN     NaN    43.0     NaN     NaN     NaN     NaN   \n",
       "1    2     NaN     NaN     NaN    73.0     NaN     NaN     NaN     NaN   \n",
       "2    3     NaN     NaN     NaN    34.0     NaN     NaN     NaN     NaN   \n",
       "\n",
       "   bulk_9  bulk_10  bulk_11  bulk_12  bulk_13  bulk_14  bulk_15  \n",
       "0     NaN      NaN      NaN    206.0      NaN    150.0    154.0  \n",
       "1     NaN      NaN      NaN    206.0      NaN    149.0    154.0  \n",
       "2     NaN      NaN      NaN    205.0      NaN    152.0    153.0  "
      ]
     },
     "execution_count": 42,
     "metadata": {},
     "output_type": "execute_result"
    }
   ],
   "source": [
    "data_bulk.head(3)"
   ]
  },
  {
   "cell_type": "markdown",
   "metadata": {},
   "source": [
    "Заполним пропуски нулями:"
   ]
  },
  {
   "cell_type": "code",
   "execution_count": 43,
   "metadata": {
    "scrolled": false
   },
   "outputs": [
    {
     "data": {
      "text/html": [
       "<div>\n",
       "<style scoped>\n",
       "    .dataframe tbody tr th:only-of-type {\n",
       "        vertical-align: middle;\n",
       "    }\n",
       "\n",
       "    .dataframe tbody tr th {\n",
       "        vertical-align: top;\n",
       "    }\n",
       "\n",
       "    .dataframe thead th {\n",
       "        text-align: right;\n",
       "    }\n",
       "</style>\n",
       "<table border=\"1\" class=\"dataframe\">\n",
       "  <thead>\n",
       "    <tr style=\"text-align: right;\">\n",
       "      <th></th>\n",
       "      <th>key</th>\n",
       "      <th>bulk_1</th>\n",
       "      <th>bulk_2</th>\n",
       "      <th>bulk_3</th>\n",
       "      <th>bulk_4</th>\n",
       "      <th>bulk_5</th>\n",
       "      <th>bulk_6</th>\n",
       "      <th>bulk_7</th>\n",
       "      <th>bulk_8</th>\n",
       "      <th>bulk_9</th>\n",
       "      <th>bulk_10</th>\n",
       "      <th>bulk_11</th>\n",
       "      <th>bulk_12</th>\n",
       "      <th>bulk_13</th>\n",
       "      <th>bulk_14</th>\n",
       "      <th>bulk_15</th>\n",
       "    </tr>\n",
       "  </thead>\n",
       "  <tbody>\n",
       "    <tr>\n",
       "      <th>0</th>\n",
       "      <td>1</td>\n",
       "      <td>0.0</td>\n",
       "      <td>0.0</td>\n",
       "      <td>0.0</td>\n",
       "      <td>43.0</td>\n",
       "      <td>0.0</td>\n",
       "      <td>0.0</td>\n",
       "      <td>0.0</td>\n",
       "      <td>0.0</td>\n",
       "      <td>0.0</td>\n",
       "      <td>0.0</td>\n",
       "      <td>0.0</td>\n",
       "      <td>206.0</td>\n",
       "      <td>0.0</td>\n",
       "      <td>150.0</td>\n",
       "      <td>154.0</td>\n",
       "    </tr>\n",
       "    <tr>\n",
       "      <th>1</th>\n",
       "      <td>2</td>\n",
       "      <td>0.0</td>\n",
       "      <td>0.0</td>\n",
       "      <td>0.0</td>\n",
       "      <td>73.0</td>\n",
       "      <td>0.0</td>\n",
       "      <td>0.0</td>\n",
       "      <td>0.0</td>\n",
       "      <td>0.0</td>\n",
       "      <td>0.0</td>\n",
       "      <td>0.0</td>\n",
       "      <td>0.0</td>\n",
       "      <td>206.0</td>\n",
       "      <td>0.0</td>\n",
       "      <td>149.0</td>\n",
       "      <td>154.0</td>\n",
       "    </tr>\n",
       "    <tr>\n",
       "      <th>2</th>\n",
       "      <td>3</td>\n",
       "      <td>0.0</td>\n",
       "      <td>0.0</td>\n",
       "      <td>0.0</td>\n",
       "      <td>34.0</td>\n",
       "      <td>0.0</td>\n",
       "      <td>0.0</td>\n",
       "      <td>0.0</td>\n",
       "      <td>0.0</td>\n",
       "      <td>0.0</td>\n",
       "      <td>0.0</td>\n",
       "      <td>0.0</td>\n",
       "      <td>205.0</td>\n",
       "      <td>0.0</td>\n",
       "      <td>152.0</td>\n",
       "      <td>153.0</td>\n",
       "    </tr>\n",
       "  </tbody>\n",
       "</table>\n",
       "</div>"
      ],
      "text/plain": [
       "   key  bulk_1  bulk_2  bulk_3  bulk_4  bulk_5  bulk_6  bulk_7  bulk_8  \\\n",
       "0    1     0.0     0.0     0.0    43.0     0.0     0.0     0.0     0.0   \n",
       "1    2     0.0     0.0     0.0    73.0     0.0     0.0     0.0     0.0   \n",
       "2    3     0.0     0.0     0.0    34.0     0.0     0.0     0.0     0.0   \n",
       "\n",
       "   bulk_9  bulk_10  bulk_11  bulk_12  bulk_13  bulk_14  bulk_15  \n",
       "0     0.0      0.0      0.0    206.0      0.0    150.0    154.0  \n",
       "1     0.0      0.0      0.0    206.0      0.0    149.0    154.0  \n",
       "2     0.0      0.0      0.0    205.0      0.0    152.0    153.0  "
      ]
     },
     "execution_count": 43,
     "metadata": {},
     "output_type": "execute_result"
    }
   ],
   "source": [
    "data_bulk = data_bulk.fillna(0)\n",
    "data_bulk.head(3)"
   ]
  },
  {
   "cell_type": "markdown",
   "metadata": {},
   "source": [
    "#### 3. data_bulk - данные о подаче сыпучих материалов (время)"
   ]
  },
  {
   "cell_type": "markdown",
   "metadata": {},
   "source": [
    "Так же, немаловажные параметры - параметры времени добавления сыпучих материалов. Забегая вперед скажу, что нам удалось выяснить наиболее информативные фичи в этой таблице с помощью ML моделей. Поэтому, необходимость использования всех имеющихся в таблице признаков отпадает. "
   ]
  },
  {
   "cell_type": "markdown",
   "metadata": {},
   "source": [
    "Оставляем в таблице только самые важные фичи, и заполняем пропуски нулями."
   ]
  },
  {
   "cell_type": "code",
   "execution_count": 44,
   "metadata": {},
   "outputs": [],
   "source": [
    "data_bulk_time_filtered = data_bulk_time.loc[:, ['key',\n",
    "                                                 'bulk_14',\n",
    "                                                 'bulk_7',\n",
    "                                                 'bulk_15',\n",
    "                                                 'bulk_6',\n",
    "                                                 'bulk_4',\n",
    "                                                 'bulk_2',\n",
    "                                                 'bulk_1']].fillna(0)"
   ]
  },
  {
   "cell_type": "code",
   "execution_count": 45,
   "metadata": {
    "scrolled": true
   },
   "outputs": [
    {
     "data": {
      "text/html": [
       "<div>\n",
       "<style scoped>\n",
       "    .dataframe tbody tr th:only-of-type {\n",
       "        vertical-align: middle;\n",
       "    }\n",
       "\n",
       "    .dataframe tbody tr th {\n",
       "        vertical-align: top;\n",
       "    }\n",
       "\n",
       "    .dataframe thead th {\n",
       "        text-align: right;\n",
       "    }\n",
       "</style>\n",
       "<table border=\"1\" class=\"dataframe\">\n",
       "  <thead>\n",
       "    <tr style=\"text-align: right;\">\n",
       "      <th></th>\n",
       "      <th>key</th>\n",
       "      <th>bulk_14</th>\n",
       "      <th>bulk_7</th>\n",
       "      <th>bulk_15</th>\n",
       "      <th>bulk_6</th>\n",
       "      <th>bulk_4</th>\n",
       "      <th>bulk_2</th>\n",
       "      <th>bulk_1</th>\n",
       "    </tr>\n",
       "  </thead>\n",
       "  <tbody>\n",
       "    <tr>\n",
       "      <th>0</th>\n",
       "      <td>1</td>\n",
       "      <td>2019-05-03 11:03:52</td>\n",
       "      <td>0</td>\n",
       "      <td>2019-05-03 11:03:52</td>\n",
       "      <td>0</td>\n",
       "      <td>2019-05-03 11:21:30</td>\n",
       "      <td>0</td>\n",
       "      <td>0</td>\n",
       "    </tr>\n",
       "    <tr>\n",
       "      <th>1</th>\n",
       "      <td>2</td>\n",
       "      <td>2019-05-03 11:40:20</td>\n",
       "      <td>0</td>\n",
       "      <td>2019-05-03 11:40:20</td>\n",
       "      <td>0</td>\n",
       "      <td>2019-05-03 11:46:38</td>\n",
       "      <td>0</td>\n",
       "      <td>0</td>\n",
       "    </tr>\n",
       "    <tr>\n",
       "      <th>2</th>\n",
       "      <td>3</td>\n",
       "      <td>2019-05-03 12:09:40</td>\n",
       "      <td>0</td>\n",
       "      <td>2019-05-03 12:09:40</td>\n",
       "      <td>0</td>\n",
       "      <td>2019-05-03 12:31:06</td>\n",
       "      <td>0</td>\n",
       "      <td>0</td>\n",
       "    </tr>\n",
       "  </tbody>\n",
       "</table>\n",
       "</div>"
      ],
      "text/plain": [
       "   key              bulk_14 bulk_7              bulk_15 bulk_6  \\\n",
       "0    1  2019-05-03 11:03:52      0  2019-05-03 11:03:52      0   \n",
       "1    2  2019-05-03 11:40:20      0  2019-05-03 11:40:20      0   \n",
       "2    3  2019-05-03 12:09:40      0  2019-05-03 12:09:40      0   \n",
       "\n",
       "                bulk_4 bulk_2 bulk_1  \n",
       "0  2019-05-03 11:21:30      0      0  \n",
       "1  2019-05-03 11:46:38      0      0  \n",
       "2  2019-05-03 12:31:06      0      0  "
      ]
     },
     "execution_count": 45,
     "metadata": {},
     "output_type": "execute_result"
    }
   ],
   "source": [
    "data_bulk_time_filtered.head(3)"
   ]
  },
  {
   "cell_type": "markdown",
   "metadata": {},
   "source": [
    "Объединяем таблицу с таблицей содержащей информацию о нагреве электродами. Так нам удастся найти время добавления в сплав того или иного материала после начала первого цикла нагревания."
   ]
  },
  {
   "cell_type": "code",
   "execution_count": 46,
   "metadata": {},
   "outputs": [],
   "source": [
    "data_arc_grouped_bulk = data_arc.groupby('key', as_index=False).agg(start_time = ('start_heating', 'first')).merge(data_bulk_time_filtered)"
   ]
  },
  {
   "cell_type": "code",
   "execution_count": 47,
   "metadata": {},
   "outputs": [
    {
     "data": {
      "text/html": [
       "<div>\n",
       "<style scoped>\n",
       "    .dataframe tbody tr th:only-of-type {\n",
       "        vertical-align: middle;\n",
       "    }\n",
       "\n",
       "    .dataframe tbody tr th {\n",
       "        vertical-align: top;\n",
       "    }\n",
       "\n",
       "    .dataframe thead th {\n",
       "        text-align: right;\n",
       "    }\n",
       "</style>\n",
       "<table border=\"1\" class=\"dataframe\">\n",
       "  <thead>\n",
       "    <tr style=\"text-align: right;\">\n",
       "      <th></th>\n",
       "      <th>key</th>\n",
       "      <th>start_time</th>\n",
       "      <th>bulk_14</th>\n",
       "      <th>bulk_7</th>\n",
       "      <th>bulk_15</th>\n",
       "      <th>bulk_6</th>\n",
       "      <th>bulk_4</th>\n",
       "      <th>bulk_2</th>\n",
       "      <th>bulk_1</th>\n",
       "    </tr>\n",
       "  </thead>\n",
       "  <tbody>\n",
       "    <tr>\n",
       "      <th>0</th>\n",
       "      <td>1</td>\n",
       "      <td>2019-05-03 11:02:14</td>\n",
       "      <td>2019-05-03 11:03:52</td>\n",
       "      <td>0</td>\n",
       "      <td>2019-05-03 11:03:52</td>\n",
       "      <td>0</td>\n",
       "      <td>2019-05-03 11:21:30</td>\n",
       "      <td>0</td>\n",
       "      <td>0</td>\n",
       "    </tr>\n",
       "    <tr>\n",
       "      <th>1</th>\n",
       "      <td>2</td>\n",
       "      <td>2019-05-03 11:34:14</td>\n",
       "      <td>2019-05-03 11:40:20</td>\n",
       "      <td>0</td>\n",
       "      <td>2019-05-03 11:40:20</td>\n",
       "      <td>0</td>\n",
       "      <td>2019-05-03 11:46:38</td>\n",
       "      <td>0</td>\n",
       "      <td>0</td>\n",
       "    </tr>\n",
       "    <tr>\n",
       "      <th>2</th>\n",
       "      <td>3</td>\n",
       "      <td>2019-05-03 12:06:54</td>\n",
       "      <td>2019-05-03 12:09:40</td>\n",
       "      <td>0</td>\n",
       "      <td>2019-05-03 12:09:40</td>\n",
       "      <td>0</td>\n",
       "      <td>2019-05-03 12:31:06</td>\n",
       "      <td>0</td>\n",
       "      <td>0</td>\n",
       "    </tr>\n",
       "  </tbody>\n",
       "</table>\n",
       "</div>"
      ],
      "text/plain": [
       "   key           start_time              bulk_14 bulk_7              bulk_15  \\\n",
       "0    1  2019-05-03 11:02:14  2019-05-03 11:03:52      0  2019-05-03 11:03:52   \n",
       "1    2  2019-05-03 11:34:14  2019-05-03 11:40:20      0  2019-05-03 11:40:20   \n",
       "2    3  2019-05-03 12:06:54  2019-05-03 12:09:40      0  2019-05-03 12:09:40   \n",
       "\n",
       "  bulk_6               bulk_4 bulk_2 bulk_1  \n",
       "0      0  2019-05-03 11:21:30      0      0  \n",
       "1      0  2019-05-03 11:46:38      0      0  \n",
       "2      0  2019-05-03 12:31:06      0      0  "
      ]
     },
     "execution_count": 47,
     "metadata": {},
     "output_type": "execute_result"
    }
   ],
   "source": [
    "data_arc_grouped_bulk.head(3)"
   ]
  },
  {
   "cell_type": "markdown",
   "metadata": {},
   "source": [
    "Снова преобразовывем колонки с датой в формат удобный для математических операций:"
   ]
  },
  {
   "cell_type": "code",
   "execution_count": 48,
   "metadata": {},
   "outputs": [],
   "source": [
    "cols_to_change = data_arc_grouped_bulk.columns[2:].to_list()"
   ]
  },
  {
   "cell_type": "code",
   "execution_count": 49,
   "metadata": {},
   "outputs": [],
   "source": [
    "data_arc_grouped_bulk['start_time'] = (pd.to_datetime(data_arc_grouped_bulk['start_time']) - pd.Timestamp(\"1970-01-01\")) // pd.Timedelta('1s') \n"
   ]
  },
  {
   "cell_type": "code",
   "execution_count": 50,
   "metadata": {},
   "outputs": [],
   "source": [
    "for col in cols_to_change:\n",
    "    data_arc_grouped_bulk[col] = (pd.to_datetime(data_arc_grouped_bulk[col]) - \n",
    "                                           pd.Timestamp(\"1970-01-01\")) // pd.Timedelta('1s') \n",
    "    data_arc_grouped_bulk[col] = data_arc_grouped_bulk[col] - data_arc_grouped_bulk['start_time']"
   ]
  },
  {
   "cell_type": "code",
   "execution_count": 51,
   "metadata": {
    "scrolled": true
   },
   "outputs": [
    {
     "data": {
      "text/html": [
       "<div>\n",
       "<style scoped>\n",
       "    .dataframe tbody tr th:only-of-type {\n",
       "        vertical-align: middle;\n",
       "    }\n",
       "\n",
       "    .dataframe tbody tr th {\n",
       "        vertical-align: top;\n",
       "    }\n",
       "\n",
       "    .dataframe thead th {\n",
       "        text-align: right;\n",
       "    }\n",
       "</style>\n",
       "<table border=\"1\" class=\"dataframe\">\n",
       "  <thead>\n",
       "    <tr style=\"text-align: right;\">\n",
       "      <th></th>\n",
       "      <th>key</th>\n",
       "      <th>start_time</th>\n",
       "      <th>bulk_14</th>\n",
       "      <th>bulk_7</th>\n",
       "      <th>bulk_15</th>\n",
       "      <th>bulk_6</th>\n",
       "      <th>bulk_4</th>\n",
       "      <th>bulk_2</th>\n",
       "      <th>bulk_1</th>\n",
       "    </tr>\n",
       "  </thead>\n",
       "  <tbody>\n",
       "    <tr>\n",
       "      <th>0</th>\n",
       "      <td>1</td>\n",
       "      <td>1556881334</td>\n",
       "      <td>98</td>\n",
       "      <td>-1556881334</td>\n",
       "      <td>98</td>\n",
       "      <td>-1556881334</td>\n",
       "      <td>1156</td>\n",
       "      <td>-1556881334</td>\n",
       "      <td>-1556881334</td>\n",
       "    </tr>\n",
       "    <tr>\n",
       "      <th>1</th>\n",
       "      <td>2</td>\n",
       "      <td>1556883254</td>\n",
       "      <td>366</td>\n",
       "      <td>-1556883254</td>\n",
       "      <td>366</td>\n",
       "      <td>-1556883254</td>\n",
       "      <td>744</td>\n",
       "      <td>-1556883254</td>\n",
       "      <td>-1556883254</td>\n",
       "    </tr>\n",
       "    <tr>\n",
       "      <th>2</th>\n",
       "      <td>3</td>\n",
       "      <td>1556885214</td>\n",
       "      <td>166</td>\n",
       "      <td>-1556885214</td>\n",
       "      <td>166</td>\n",
       "      <td>-1556885214</td>\n",
       "      <td>1452</td>\n",
       "      <td>-1556885214</td>\n",
       "      <td>-1556885214</td>\n",
       "    </tr>\n",
       "  </tbody>\n",
       "</table>\n",
       "</div>"
      ],
      "text/plain": [
       "   key  start_time  bulk_14      bulk_7  bulk_15      bulk_6  bulk_4  \\\n",
       "0    1  1556881334       98 -1556881334       98 -1556881334    1156   \n",
       "1    2  1556883254      366 -1556883254      366 -1556883254     744   \n",
       "2    3  1556885214      166 -1556885214      166 -1556885214    1452   \n",
       "\n",
       "       bulk_2      bulk_1  \n",
       "0 -1556881334 -1556881334  \n",
       "1 -1556883254 -1556883254  \n",
       "2 -1556885214 -1556885214  "
      ]
     },
     "execution_count": 51,
     "metadata": {},
     "output_type": "execute_result"
    }
   ],
   "source": [
    "data_arc_grouped_bulk.head(3)"
   ]
  },
  {
   "cell_type": "markdown",
   "metadata": {},
   "source": [
    "Теперь, отрицательные значения приведем к нулю, так как очевидно это те материалы, которые не были добавлены."
   ]
  },
  {
   "cell_type": "code",
   "execution_count": 52,
   "metadata": {},
   "outputs": [],
   "source": [
    "def to_zero(x):\n",
    "    if x < 0:\n",
    "        x = 0\n",
    "    return x"
   ]
  },
  {
   "cell_type": "code",
   "execution_count": 53,
   "metadata": {},
   "outputs": [],
   "source": [
    "data_arc_grouped_bulk = data_arc_grouped_bulk.applymap(to_zero)"
   ]
  },
  {
   "cell_type": "code",
   "execution_count": 54,
   "metadata": {},
   "outputs": [],
   "source": [
    "for col in data_arc_grouped_bulk.columns:\n",
    "    if 'bulk' in col:\n",
    "        data_arc_grouped_bulk.rename(columns={col:col+'_time'}, inplace=True)"
   ]
  },
  {
   "cell_type": "code",
   "execution_count": 55,
   "metadata": {
    "scrolled": false
   },
   "outputs": [
    {
     "data": {
      "text/html": [
       "<div>\n",
       "<style scoped>\n",
       "    .dataframe tbody tr th:only-of-type {\n",
       "        vertical-align: middle;\n",
       "    }\n",
       "\n",
       "    .dataframe tbody tr th {\n",
       "        vertical-align: top;\n",
       "    }\n",
       "\n",
       "    .dataframe thead th {\n",
       "        text-align: right;\n",
       "    }\n",
       "</style>\n",
       "<table border=\"1\" class=\"dataframe\">\n",
       "  <thead>\n",
       "    <tr style=\"text-align: right;\">\n",
       "      <th></th>\n",
       "      <th>key</th>\n",
       "      <th>start_time</th>\n",
       "      <th>bulk_14_time</th>\n",
       "      <th>bulk_7_time</th>\n",
       "      <th>bulk_15_time</th>\n",
       "      <th>bulk_6_time</th>\n",
       "      <th>bulk_4_time</th>\n",
       "      <th>bulk_2_time</th>\n",
       "      <th>bulk_1_time</th>\n",
       "    </tr>\n",
       "  </thead>\n",
       "  <tbody>\n",
       "    <tr>\n",
       "      <th>0</th>\n",
       "      <td>1</td>\n",
       "      <td>1556881334</td>\n",
       "      <td>98</td>\n",
       "      <td>0</td>\n",
       "      <td>98</td>\n",
       "      <td>0</td>\n",
       "      <td>1156</td>\n",
       "      <td>0</td>\n",
       "      <td>0</td>\n",
       "    </tr>\n",
       "    <tr>\n",
       "      <th>1</th>\n",
       "      <td>2</td>\n",
       "      <td>1556883254</td>\n",
       "      <td>366</td>\n",
       "      <td>0</td>\n",
       "      <td>366</td>\n",
       "      <td>0</td>\n",
       "      <td>744</td>\n",
       "      <td>0</td>\n",
       "      <td>0</td>\n",
       "    </tr>\n",
       "    <tr>\n",
       "      <th>2</th>\n",
       "      <td>3</td>\n",
       "      <td>1556885214</td>\n",
       "      <td>166</td>\n",
       "      <td>0</td>\n",
       "      <td>166</td>\n",
       "      <td>0</td>\n",
       "      <td>1452</td>\n",
       "      <td>0</td>\n",
       "      <td>0</td>\n",
       "    </tr>\n",
       "  </tbody>\n",
       "</table>\n",
       "</div>"
      ],
      "text/plain": [
       "   key  start_time  bulk_14_time  bulk_7_time  bulk_15_time  bulk_6_time  \\\n",
       "0    1  1556881334            98            0            98            0   \n",
       "1    2  1556883254           366            0           366            0   \n",
       "2    3  1556885214           166            0           166            0   \n",
       "\n",
       "   bulk_4_time  bulk_2_time  bulk_1_time  \n",
       "0         1156            0            0  \n",
       "1          744            0            0  \n",
       "2         1452            0            0  "
      ]
     },
     "execution_count": 55,
     "metadata": {},
     "output_type": "execute_result"
    }
   ],
   "source": [
    "data_arc_grouped_bulk.head(3)"
   ]
  },
  {
   "cell_type": "markdown",
   "metadata": {},
   "source": [
    "Отлично, имеем таблицу с информацией о количестве прошедшего времени с момента начала нагревания сплава, до момента добавления того или иного материала."
   ]
  },
  {
   "cell_type": "markdown",
   "metadata": {},
   "source": [
    "#### 4. data_wire - данные о проволочных материалах (объём)"
   ]
  },
  {
   "cell_type": "markdown",
   "metadata": {},
   "source": [
    "Таблица имеет большое количество пропусков. Заполним их нулями:"
   ]
  },
  {
   "cell_type": "code",
   "execution_count": 56,
   "metadata": {
    "scrolled": true
   },
   "outputs": [
    {
     "data": {
      "text/html": [
       "<div>\n",
       "<style scoped>\n",
       "    .dataframe tbody tr th:only-of-type {\n",
       "        vertical-align: middle;\n",
       "    }\n",
       "\n",
       "    .dataframe tbody tr th {\n",
       "        vertical-align: top;\n",
       "    }\n",
       "\n",
       "    .dataframe thead th {\n",
       "        text-align: right;\n",
       "    }\n",
       "</style>\n",
       "<table border=\"1\" class=\"dataframe\">\n",
       "  <thead>\n",
       "    <tr style=\"text-align: right;\">\n",
       "      <th></th>\n",
       "      <th>key</th>\n",
       "      <th>wire_1</th>\n",
       "      <th>wire_2</th>\n",
       "      <th>wire_3</th>\n",
       "      <th>wire_4</th>\n",
       "      <th>wire_5</th>\n",
       "      <th>wire_6</th>\n",
       "      <th>wire_7</th>\n",
       "      <th>wire_8</th>\n",
       "      <th>wire_9</th>\n",
       "    </tr>\n",
       "  </thead>\n",
       "  <tbody>\n",
       "    <tr>\n",
       "      <th>0</th>\n",
       "      <td>1</td>\n",
       "      <td>60.059998</td>\n",
       "      <td>0.00000</td>\n",
       "      <td>0.0</td>\n",
       "      <td>0.0</td>\n",
       "      <td>0.0</td>\n",
       "      <td>0.0</td>\n",
       "      <td>0.0</td>\n",
       "      <td>0.0</td>\n",
       "      <td>0.0</td>\n",
       "    </tr>\n",
       "    <tr>\n",
       "      <th>1</th>\n",
       "      <td>2</td>\n",
       "      <td>96.052315</td>\n",
       "      <td>0.00000</td>\n",
       "      <td>0.0</td>\n",
       "      <td>0.0</td>\n",
       "      <td>0.0</td>\n",
       "      <td>0.0</td>\n",
       "      <td>0.0</td>\n",
       "      <td>0.0</td>\n",
       "      <td>0.0</td>\n",
       "    </tr>\n",
       "    <tr>\n",
       "      <th>2</th>\n",
       "      <td>3</td>\n",
       "      <td>91.160157</td>\n",
       "      <td>0.00000</td>\n",
       "      <td>0.0</td>\n",
       "      <td>0.0</td>\n",
       "      <td>0.0</td>\n",
       "      <td>0.0</td>\n",
       "      <td>0.0</td>\n",
       "      <td>0.0</td>\n",
       "      <td>0.0</td>\n",
       "    </tr>\n",
       "    <tr>\n",
       "      <th>3</th>\n",
       "      <td>4</td>\n",
       "      <td>89.063515</td>\n",
       "      <td>0.00000</td>\n",
       "      <td>0.0</td>\n",
       "      <td>0.0</td>\n",
       "      <td>0.0</td>\n",
       "      <td>0.0</td>\n",
       "      <td>0.0</td>\n",
       "      <td>0.0</td>\n",
       "      <td>0.0</td>\n",
       "    </tr>\n",
       "    <tr>\n",
       "      <th>4</th>\n",
       "      <td>5</td>\n",
       "      <td>89.238236</td>\n",
       "      <td>9.11456</td>\n",
       "      <td>0.0</td>\n",
       "      <td>0.0</td>\n",
       "      <td>0.0</td>\n",
       "      <td>0.0</td>\n",
       "      <td>0.0</td>\n",
       "      <td>0.0</td>\n",
       "      <td>0.0</td>\n",
       "    </tr>\n",
       "  </tbody>\n",
       "</table>\n",
       "</div>"
      ],
      "text/plain": [
       "   key     wire_1   wire_2  wire_3  wire_4  wire_5  wire_6  wire_7  wire_8  \\\n",
       "0    1  60.059998  0.00000     0.0     0.0     0.0     0.0     0.0     0.0   \n",
       "1    2  96.052315  0.00000     0.0     0.0     0.0     0.0     0.0     0.0   \n",
       "2    3  91.160157  0.00000     0.0     0.0     0.0     0.0     0.0     0.0   \n",
       "3    4  89.063515  0.00000     0.0     0.0     0.0     0.0     0.0     0.0   \n",
       "4    5  89.238236  9.11456     0.0     0.0     0.0     0.0     0.0     0.0   \n",
       "\n",
       "   wire_9  \n",
       "0     0.0  \n",
       "1     0.0  \n",
       "2     0.0  \n",
       "3     0.0  \n",
       "4     0.0  "
      ]
     },
     "execution_count": 56,
     "metadata": {},
     "output_type": "execute_result"
    }
   ],
   "source": [
    "data_wire = data_wire.fillna(0)\n",
    "data_wire.head()"
   ]
  },
  {
   "cell_type": "markdown",
   "metadata": {},
   "source": [
    "#### 5. data_wire_time - данные о проволочных материалах (время)"
   ]
  },
  {
   "cell_type": "code",
   "execution_count": 57,
   "metadata": {
    "scrolled": true
   },
   "outputs": [
    {
     "data": {
      "text/html": [
       "<div>\n",
       "<style scoped>\n",
       "    .dataframe tbody tr th:only-of-type {\n",
       "        vertical-align: middle;\n",
       "    }\n",
       "\n",
       "    .dataframe tbody tr th {\n",
       "        vertical-align: top;\n",
       "    }\n",
       "\n",
       "    .dataframe thead th {\n",
       "        text-align: right;\n",
       "    }\n",
       "</style>\n",
       "<table border=\"1\" class=\"dataframe\">\n",
       "  <thead>\n",
       "    <tr style=\"text-align: right;\">\n",
       "      <th></th>\n",
       "      <th>key</th>\n",
       "      <th>start_heating</th>\n",
       "      <th>end_heating</th>\n",
       "      <th>active_power</th>\n",
       "      <th>reactive_power</th>\n",
       "      <th>power_ratio</th>\n",
       "    </tr>\n",
       "  </thead>\n",
       "  <tbody>\n",
       "    <tr>\n",
       "      <th>0</th>\n",
       "      <td>1</td>\n",
       "      <td>2019-05-03 11:02:14</td>\n",
       "      <td>2019-05-03 11:06:02</td>\n",
       "      <td>0.976059</td>\n",
       "      <td>0.687084</td>\n",
       "      <td>1.420582</td>\n",
       "    </tr>\n",
       "    <tr>\n",
       "      <th>1</th>\n",
       "      <td>1</td>\n",
       "      <td>2019-05-03 11:07:28</td>\n",
       "      <td>2019-05-03 11:10:33</td>\n",
       "      <td>0.805607</td>\n",
       "      <td>0.520285</td>\n",
       "      <td>1.548395</td>\n",
       "    </tr>\n",
       "    <tr>\n",
       "      <th>2</th>\n",
       "      <td>1</td>\n",
       "      <td>2019-05-03 11:11:44</td>\n",
       "      <td>2019-05-03 11:14:36</td>\n",
       "      <td>0.744363</td>\n",
       "      <td>0.498805</td>\n",
       "      <td>1.492292</td>\n",
       "    </tr>\n",
       "  </tbody>\n",
       "</table>\n",
       "</div>"
      ],
      "text/plain": [
       "   key        start_heating          end_heating  active_power  \\\n",
       "0    1  2019-05-03 11:02:14  2019-05-03 11:06:02      0.976059   \n",
       "1    1  2019-05-03 11:07:28  2019-05-03 11:10:33      0.805607   \n",
       "2    1  2019-05-03 11:11:44  2019-05-03 11:14:36      0.744363   \n",
       "\n",
       "   reactive_power  power_ratio  \n",
       "0        0.687084     1.420582  \n",
       "1        0.520285     1.548395  \n",
       "2        0.498805     1.492292  "
      ]
     },
     "execution_count": 57,
     "metadata": {},
     "output_type": "execute_result"
    }
   ],
   "source": [
    "data_arc.head(3)"
   ]
  },
  {
   "cell_type": "code",
   "execution_count": 58,
   "metadata": {},
   "outputs": [],
   "source": [
    "data_wire_time = data_wire_time.fillna(0)"
   ]
  },
  {
   "cell_type": "markdown",
   "metadata": {},
   "source": [
    "Теперь таким же образом как мы поступили с data_bulk_time соединим таблицу с data_arc, и сгруппируем по ключу."
   ]
  },
  {
   "cell_type": "code",
   "execution_count": 59,
   "metadata": {},
   "outputs": [],
   "source": [
    "data_arc_grouped_wire = data_arc.groupby('key', as_index=False).agg(start_time = ('start_heating', 'first')).merge(data_wire_time)\n"
   ]
  },
  {
   "cell_type": "code",
   "execution_count": 60,
   "metadata": {
    "scrolled": true
   },
   "outputs": [
    {
     "data": {
      "text/html": [
       "<div>\n",
       "<style scoped>\n",
       "    .dataframe tbody tr th:only-of-type {\n",
       "        vertical-align: middle;\n",
       "    }\n",
       "\n",
       "    .dataframe tbody tr th {\n",
       "        vertical-align: top;\n",
       "    }\n",
       "\n",
       "    .dataframe thead th {\n",
       "        text-align: right;\n",
       "    }\n",
       "</style>\n",
       "<table border=\"1\" class=\"dataframe\">\n",
       "  <thead>\n",
       "    <tr style=\"text-align: right;\">\n",
       "      <th></th>\n",
       "      <th>key</th>\n",
       "      <th>start_time</th>\n",
       "      <th>wire_1</th>\n",
       "      <th>wire_2</th>\n",
       "      <th>wire_3</th>\n",
       "      <th>wire_4</th>\n",
       "      <th>wire_5</th>\n",
       "      <th>wire_6</th>\n",
       "      <th>wire_7</th>\n",
       "      <th>wire_8</th>\n",
       "      <th>wire_9</th>\n",
       "    </tr>\n",
       "  </thead>\n",
       "  <tbody>\n",
       "    <tr>\n",
       "      <th>0</th>\n",
       "      <td>1</td>\n",
       "      <td>2019-05-03 11:02:14</td>\n",
       "      <td>2019-05-03 11:11:41</td>\n",
       "      <td>0</td>\n",
       "      <td>0</td>\n",
       "      <td>0</td>\n",
       "      <td>0</td>\n",
       "      <td>0</td>\n",
       "      <td>0</td>\n",
       "      <td>0</td>\n",
       "      <td>0</td>\n",
       "    </tr>\n",
       "    <tr>\n",
       "      <th>1</th>\n",
       "      <td>2</td>\n",
       "      <td>2019-05-03 11:34:14</td>\n",
       "      <td>2019-05-03 11:46:10</td>\n",
       "      <td>0</td>\n",
       "      <td>0</td>\n",
       "      <td>0</td>\n",
       "      <td>0</td>\n",
       "      <td>0</td>\n",
       "      <td>0</td>\n",
       "      <td>0</td>\n",
       "      <td>0</td>\n",
       "    </tr>\n",
       "    <tr>\n",
       "      <th>2</th>\n",
       "      <td>3</td>\n",
       "      <td>2019-05-03 12:06:54</td>\n",
       "      <td>2019-05-03 12:13:47</td>\n",
       "      <td>0</td>\n",
       "      <td>0</td>\n",
       "      <td>0</td>\n",
       "      <td>0</td>\n",
       "      <td>0</td>\n",
       "      <td>0</td>\n",
       "      <td>0</td>\n",
       "      <td>0</td>\n",
       "    </tr>\n",
       "  </tbody>\n",
       "</table>\n",
       "</div>"
      ],
      "text/plain": [
       "   key           start_time               wire_1 wire_2 wire_3 wire_4 wire_5  \\\n",
       "0    1  2019-05-03 11:02:14  2019-05-03 11:11:41      0      0      0      0   \n",
       "1    2  2019-05-03 11:34:14  2019-05-03 11:46:10      0      0      0      0   \n",
       "2    3  2019-05-03 12:06:54  2019-05-03 12:13:47      0      0      0      0   \n",
       "\n",
       "  wire_6 wire_7 wire_8 wire_9  \n",
       "0      0      0      0      0  \n",
       "1      0      0      0      0  \n",
       "2      0      0      0      0  "
      ]
     },
     "execution_count": 60,
     "metadata": {},
     "output_type": "execute_result"
    }
   ],
   "source": [
    "data_arc_grouped_wire.head(3)"
   ]
  },
  {
   "cell_type": "markdown",
   "metadata": {},
   "source": [
    "Найдем количество времени прошедшее с момента начала первого нагревания сплава, до момента добавления проволочных материалов:"
   ]
  },
  {
   "cell_type": "code",
   "execution_count": 61,
   "metadata": {},
   "outputs": [],
   "source": [
    "cols_to_change = data_arc_grouped_wire.columns[2:].to_list()"
   ]
  },
  {
   "cell_type": "code",
   "execution_count": 62,
   "metadata": {},
   "outputs": [],
   "source": [
    "data_arc_grouped_wire['start_time'] = (pd.to_datetime(data_arc_grouped_wire['start_time']) - pd.Timestamp(\"1970-01-01\")) // pd.Timedelta('1s') \n"
   ]
  },
  {
   "cell_type": "code",
   "execution_count": 63,
   "metadata": {
    "scrolled": true
   },
   "outputs": [],
   "source": [
    "for col in cols_to_change:\n",
    "    data_arc_grouped_wire[col] = (pd.to_datetime(data_arc_grouped_wire[col]) - \n",
    "                                           pd.Timestamp(\"1970-01-01\")) // pd.Timedelta('1s') \n",
    "    data_arc_grouped_wire[col] = data_arc_grouped_wire[col] - data_arc_grouped_wire['start_time']"
   ]
  },
  {
   "cell_type": "markdown",
   "metadata": {},
   "source": [
    "Приравняем отрицательные значения к нулю:"
   ]
  },
  {
   "cell_type": "code",
   "execution_count": 64,
   "metadata": {},
   "outputs": [],
   "source": [
    "data_arc_grouped_wire = data_arc_grouped_wire.applymap(to_zero)"
   ]
  },
  {
   "cell_type": "code",
   "execution_count": 65,
   "metadata": {},
   "outputs": [],
   "source": [
    "for col in data_arc_grouped_bulk.columns:\n",
    "    if 'wire' in col:\n",
    "        data_arc_grouped_bulk.rename(columns={col:col+'_time'}, inplace=True)"
   ]
  },
  {
   "cell_type": "code",
   "execution_count": 66,
   "metadata": {
    "scrolled": false
   },
   "outputs": [
    {
     "data": {
      "text/html": [
       "<div>\n",
       "<style scoped>\n",
       "    .dataframe tbody tr th:only-of-type {\n",
       "        vertical-align: middle;\n",
       "    }\n",
       "\n",
       "    .dataframe tbody tr th {\n",
       "        vertical-align: top;\n",
       "    }\n",
       "\n",
       "    .dataframe thead th {\n",
       "        text-align: right;\n",
       "    }\n",
       "</style>\n",
       "<table border=\"1\" class=\"dataframe\">\n",
       "  <thead>\n",
       "    <tr style=\"text-align: right;\">\n",
       "      <th></th>\n",
       "      <th>key</th>\n",
       "      <th>start_time</th>\n",
       "      <th>wire_1</th>\n",
       "      <th>wire_2</th>\n",
       "      <th>wire_3</th>\n",
       "      <th>wire_4</th>\n",
       "      <th>wire_5</th>\n",
       "      <th>wire_6</th>\n",
       "      <th>wire_7</th>\n",
       "      <th>wire_8</th>\n",
       "      <th>wire_9</th>\n",
       "    </tr>\n",
       "  </thead>\n",
       "  <tbody>\n",
       "    <tr>\n",
       "      <th>0</th>\n",
       "      <td>1</td>\n",
       "      <td>1556881334</td>\n",
       "      <td>567</td>\n",
       "      <td>0</td>\n",
       "      <td>0</td>\n",
       "      <td>0</td>\n",
       "      <td>0</td>\n",
       "      <td>0</td>\n",
       "      <td>0</td>\n",
       "      <td>0</td>\n",
       "      <td>0</td>\n",
       "    </tr>\n",
       "    <tr>\n",
       "      <th>1</th>\n",
       "      <td>2</td>\n",
       "      <td>1556883254</td>\n",
       "      <td>716</td>\n",
       "      <td>0</td>\n",
       "      <td>0</td>\n",
       "      <td>0</td>\n",
       "      <td>0</td>\n",
       "      <td>0</td>\n",
       "      <td>0</td>\n",
       "      <td>0</td>\n",
       "      <td>0</td>\n",
       "    </tr>\n",
       "    <tr>\n",
       "      <th>2</th>\n",
       "      <td>3</td>\n",
       "      <td>1556885214</td>\n",
       "      <td>413</td>\n",
       "      <td>0</td>\n",
       "      <td>0</td>\n",
       "      <td>0</td>\n",
       "      <td>0</td>\n",
       "      <td>0</td>\n",
       "      <td>0</td>\n",
       "      <td>0</td>\n",
       "      <td>0</td>\n",
       "    </tr>\n",
       "  </tbody>\n",
       "</table>\n",
       "</div>"
      ],
      "text/plain": [
       "   key  start_time  wire_1  wire_2  wire_3  wire_4  wire_5  wire_6  wire_7  \\\n",
       "0    1  1556881334     567       0       0       0       0       0       0   \n",
       "1    2  1556883254     716       0       0       0       0       0       0   \n",
       "2    3  1556885214     413       0       0       0       0       0       0   \n",
       "\n",
       "   wire_8  wire_9  \n",
       "0       0       0  \n",
       "1       0       0  \n",
       "2       0       0  "
      ]
     },
     "execution_count": 66,
     "metadata": {},
     "output_type": "execute_result"
    }
   ],
   "source": [
    "data_arc_grouped_wire.head(3)"
   ]
  },
  {
   "cell_type": "markdown",
   "metadata": {},
   "source": [
    "Отбросим столбец начала нагревания сплава за ненадобностью."
   ]
  },
  {
   "cell_type": "code",
   "execution_count": 67,
   "metadata": {},
   "outputs": [],
   "source": [
    "data_arc_grouped_wire = data_arc_grouped_wire.drop('start_time', axis=1)"
   ]
  },
  {
   "cell_type": "code",
   "execution_count": 68,
   "metadata": {
    "scrolled": false
   },
   "outputs": [
    {
     "name": "stdout",
     "output_type": "stream",
     "text": [
      "Максимальное количество пропущеных значений: 0\n"
     ]
    }
   ],
   "source": [
    "print('Максимальное количество пропущеных значений:', data_arc_grouped_wire.isna().sum().max())"
   ]
  },
  {
   "cell_type": "markdown",
   "metadata": {},
   "source": [
    "Переименуем полученные столбцы, чтобы при дальшейшем объединении таблиц не возникло путаницы:"
   ]
  },
  {
   "cell_type": "code",
   "execution_count": 69,
   "metadata": {},
   "outputs": [],
   "source": [
    "for col in data_arc_grouped_wire.columns:\n",
    "    if 'wire' in col:\n",
    "        data_arc_grouped_wire.rename(columns={col:col+'_time'}, inplace=True)"
   ]
  },
  {
   "cell_type": "markdown",
   "metadata": {},
   "source": [
    "#### Объединение"
   ]
  },
  {
   "cell_type": "markdown",
   "metadata": {},
   "source": [
    "Сведем все признаки в итоговый фрейм. Отфильтруем партии с помощью good_keys, разобьем данные на train и test, и на train завершим предобработку."
   ]
  },
  {
   "cell_type": "code",
   "execution_count": 70,
   "metadata": {},
   "outputs": [],
   "source": [
    "all_datas = [data_arc_grouped, data_bulk, data_arc_grouped_bulk, data_gas, final_measure_temp_data, data_wire, data_arc_grouped_wire]\n",
    "general_table = pd.DataFrame(data=data_arc_grouped['key'], columns=['key'])\n",
    "counter = 1\n",
    "for data in all_datas:\n",
    "    general_table = general_table.merge(data, on='key', how='outer')\n",
    "    counter += 1"
   ]
  },
  {
   "cell_type": "code",
   "execution_count": 71,
   "metadata": {
    "scrolled": true
   },
   "outputs": [
    {
     "data": {
      "text/html": [
       "<div>\n",
       "<style scoped>\n",
       "    .dataframe tbody tr th:only-of-type {\n",
       "        vertical-align: middle;\n",
       "    }\n",
       "\n",
       "    .dataframe tbody tr th {\n",
       "        vertical-align: top;\n",
       "    }\n",
       "\n",
       "    .dataframe thead th {\n",
       "        text-align: right;\n",
       "    }\n",
       "</style>\n",
       "<table border=\"1\" class=\"dataframe\">\n",
       "  <thead>\n",
       "    <tr style=\"text-align: right;\">\n",
       "      <th></th>\n",
       "      <th>key</th>\n",
       "      <th>heating_time_mean</th>\n",
       "      <th>heating_time_min</th>\n",
       "      <th>heating_time_max</th>\n",
       "      <th>heating_time_median</th>\n",
       "      <th>heating_time_q25</th>\n",
       "      <th>heating_time_q75</th>\n",
       "      <th>heating_time_total</th>\n",
       "      <th>num_heatings</th>\n",
       "      <th>power_ratio_mean</th>\n",
       "      <th>...</th>\n",
       "      <th>wire_9</th>\n",
       "      <th>wire_1_time</th>\n",
       "      <th>wire_2_time</th>\n",
       "      <th>wire_3_time</th>\n",
       "      <th>wire_4_time</th>\n",
       "      <th>wire_5_time</th>\n",
       "      <th>wire_6_time</th>\n",
       "      <th>wire_7_time</th>\n",
       "      <th>wire_8_time</th>\n",
       "      <th>wire_9_time</th>\n",
       "    </tr>\n",
       "  </thead>\n",
       "  <tbody>\n",
       "    <tr>\n",
       "      <th>0</th>\n",
       "      <td>1</td>\n",
       "      <td>219.60</td>\n",
       "      <td>148.0</td>\n",
       "      <td>365.0</td>\n",
       "      <td>185.0</td>\n",
       "      <td>172.00</td>\n",
       "      <td>228.00</td>\n",
       "      <td>1098.0</td>\n",
       "      <td>5.0</td>\n",
       "      <td>1.538898</td>\n",
       "      <td>...</td>\n",
       "      <td>0.0</td>\n",
       "      <td>567.0</td>\n",
       "      <td>0.0</td>\n",
       "      <td>0.0</td>\n",
       "      <td>0.0</td>\n",
       "      <td>0.0</td>\n",
       "      <td>0.0</td>\n",
       "      <td>0.0</td>\n",
       "      <td>0.0</td>\n",
       "      <td>0.0</td>\n",
       "    </tr>\n",
       "    <tr>\n",
       "      <th>1</th>\n",
       "      <td>2</td>\n",
       "      <td>202.75</td>\n",
       "      <td>126.0</td>\n",
       "      <td>338.0</td>\n",
       "      <td>173.5</td>\n",
       "      <td>134.25</td>\n",
       "      <td>242.00</td>\n",
       "      <td>811.0</td>\n",
       "      <td>4.0</td>\n",
       "      <td>1.551834</td>\n",
       "      <td>...</td>\n",
       "      <td>0.0</td>\n",
       "      <td>716.0</td>\n",
       "      <td>0.0</td>\n",
       "      <td>0.0</td>\n",
       "      <td>0.0</td>\n",
       "      <td>0.0</td>\n",
       "      <td>0.0</td>\n",
       "      <td>0.0</td>\n",
       "      <td>0.0</td>\n",
       "      <td>0.0</td>\n",
       "    </tr>\n",
       "    <tr>\n",
       "      <th>2</th>\n",
       "      <td>3</td>\n",
       "      <td>131.00</td>\n",
       "      <td>65.0</td>\n",
       "      <td>280.0</td>\n",
       "      <td>109.0</td>\n",
       "      <td>77.00</td>\n",
       "      <td>124.00</td>\n",
       "      <td>655.0</td>\n",
       "      <td>5.0</td>\n",
       "      <td>1.583120</td>\n",
       "      <td>...</td>\n",
       "      <td>0.0</td>\n",
       "      <td>413.0</td>\n",
       "      <td>0.0</td>\n",
       "      <td>0.0</td>\n",
       "      <td>0.0</td>\n",
       "      <td>0.0</td>\n",
       "      <td>0.0</td>\n",
       "      <td>0.0</td>\n",
       "      <td>0.0</td>\n",
       "      <td>0.0</td>\n",
       "    </tr>\n",
       "    <tr>\n",
       "      <th>3</th>\n",
       "      <td>4</td>\n",
       "      <td>185.25</td>\n",
       "      <td>99.0</td>\n",
       "      <td>278.0</td>\n",
       "      <td>182.0</td>\n",
       "      <td>142.50</td>\n",
       "      <td>224.75</td>\n",
       "      <td>741.0</td>\n",
       "      <td>4.0</td>\n",
       "      <td>1.563487</td>\n",
       "      <td>...</td>\n",
       "      <td>0.0</td>\n",
       "      <td>508.0</td>\n",
       "      <td>0.0</td>\n",
       "      <td>0.0</td>\n",
       "      <td>0.0</td>\n",
       "      <td>0.0</td>\n",
       "      <td>0.0</td>\n",
       "      <td>0.0</td>\n",
       "      <td>0.0</td>\n",
       "      <td>0.0</td>\n",
       "    </tr>\n",
       "    <tr>\n",
       "      <th>4</th>\n",
       "      <td>5</td>\n",
       "      <td>217.25</td>\n",
       "      <td>71.0</td>\n",
       "      <td>415.0</td>\n",
       "      <td>191.5</td>\n",
       "      <td>116.75</td>\n",
       "      <td>292.00</td>\n",
       "      <td>869.0</td>\n",
       "      <td>4.0</td>\n",
       "      <td>1.480428</td>\n",
       "      <td>...</td>\n",
       "      <td>0.0</td>\n",
       "      <td>422.0</td>\n",
       "      <td>1253.0</td>\n",
       "      <td>0.0</td>\n",
       "      <td>0.0</td>\n",
       "      <td>0.0</td>\n",
       "      <td>0.0</td>\n",
       "      <td>0.0</td>\n",
       "      <td>0.0</td>\n",
       "      <td>0.0</td>\n",
       "    </tr>\n",
       "  </tbody>\n",
       "</table>\n",
       "<p>5 rows × 61 columns</p>\n",
       "</div>"
      ],
      "text/plain": [
       "   key  heating_time_mean  heating_time_min  heating_time_max  \\\n",
       "0    1             219.60             148.0             365.0   \n",
       "1    2             202.75             126.0             338.0   \n",
       "2    3             131.00              65.0             280.0   \n",
       "3    4             185.25              99.0             278.0   \n",
       "4    5             217.25              71.0             415.0   \n",
       "\n",
       "   heating_time_median  heating_time_q25  heating_time_q75  \\\n",
       "0                185.0            172.00            228.00   \n",
       "1                173.5            134.25            242.00   \n",
       "2                109.0             77.00            124.00   \n",
       "3                182.0            142.50            224.75   \n",
       "4                191.5            116.75            292.00   \n",
       "\n",
       "   heating_time_total  num_heatings  power_ratio_mean  ...  wire_9  \\\n",
       "0              1098.0           5.0          1.538898  ...     0.0   \n",
       "1               811.0           4.0          1.551834  ...     0.0   \n",
       "2               655.0           5.0          1.583120  ...     0.0   \n",
       "3               741.0           4.0          1.563487  ...     0.0   \n",
       "4               869.0           4.0          1.480428  ...     0.0   \n",
       "\n",
       "   wire_1_time  wire_2_time  wire_3_time  wire_4_time  wire_5_time  \\\n",
       "0        567.0          0.0          0.0          0.0          0.0   \n",
       "1        716.0          0.0          0.0          0.0          0.0   \n",
       "2        413.0          0.0          0.0          0.0          0.0   \n",
       "3        508.0          0.0          0.0          0.0          0.0   \n",
       "4        422.0       1253.0          0.0          0.0          0.0   \n",
       "\n",
       "   wire_6_time  wire_7_time  wire_8_time  wire_9_time  \n",
       "0          0.0          0.0          0.0          0.0  \n",
       "1          0.0          0.0          0.0          0.0  \n",
       "2          0.0          0.0          0.0          0.0  \n",
       "3          0.0          0.0          0.0          0.0  \n",
       "4          0.0          0.0          0.0          0.0  \n",
       "\n",
       "[5 rows x 61 columns]"
      ]
     },
     "metadata": {},
     "output_type": "display_data"
    },
    {
     "name": "stdout",
     "output_type": "stream",
     "text": [
      "Размер таблицы: (3241, 61)\n"
     ]
    }
   ],
   "source": [
    "display(general_table.head())\n",
    "print('Размер таблицы:', general_table.shape)"
   ]
  },
  {
   "cell_type": "markdown",
   "metadata": {},
   "source": [
    "Итоговая таблица есть. Отфильтруем только имеющиеся в таргете партии металла:"
   ]
  },
  {
   "cell_type": "code",
   "execution_count": 72,
   "metadata": {},
   "outputs": [],
   "source": [
    "general_table = general_table.loc[general_table['key'].isin(good_keys)]"
   ]
  },
  {
   "cell_type": "code",
   "execution_count": 73,
   "metadata": {},
   "outputs": [
    {
     "data": {
      "text/html": [
       "<div>\n",
       "<style scoped>\n",
       "    .dataframe tbody tr th:only-of-type {\n",
       "        vertical-align: middle;\n",
       "    }\n",
       "\n",
       "    .dataframe tbody tr th {\n",
       "        vertical-align: top;\n",
       "    }\n",
       "\n",
       "    .dataframe thead th {\n",
       "        text-align: right;\n",
       "    }\n",
       "</style>\n",
       "<table border=\"1\" class=\"dataframe\">\n",
       "  <thead>\n",
       "    <tr style=\"text-align: right;\">\n",
       "      <th></th>\n",
       "      <th>key</th>\n",
       "      <th>heating_time_mean</th>\n",
       "      <th>heating_time_min</th>\n",
       "      <th>heating_time_max</th>\n",
       "      <th>heating_time_median</th>\n",
       "      <th>heating_time_q25</th>\n",
       "      <th>heating_time_q75</th>\n",
       "      <th>heating_time_total</th>\n",
       "      <th>num_heatings</th>\n",
       "      <th>power_ratio_mean</th>\n",
       "      <th>...</th>\n",
       "      <th>wire_9</th>\n",
       "      <th>wire_1_time</th>\n",
       "      <th>wire_2_time</th>\n",
       "      <th>wire_3_time</th>\n",
       "      <th>wire_4_time</th>\n",
       "      <th>wire_5_time</th>\n",
       "      <th>wire_6_time</th>\n",
       "      <th>wire_7_time</th>\n",
       "      <th>wire_8_time</th>\n",
       "      <th>wire_9_time</th>\n",
       "    </tr>\n",
       "  </thead>\n",
       "  <tbody>\n",
       "    <tr>\n",
       "      <th>0</th>\n",
       "      <td>1</td>\n",
       "      <td>219.60</td>\n",
       "      <td>148.0</td>\n",
       "      <td>365.0</td>\n",
       "      <td>185.0</td>\n",
       "      <td>172.00</td>\n",
       "      <td>228.00</td>\n",
       "      <td>1098.0</td>\n",
       "      <td>5.0</td>\n",
       "      <td>1.538898</td>\n",
       "      <td>...</td>\n",
       "      <td>0.0</td>\n",
       "      <td>567.0</td>\n",
       "      <td>0.0</td>\n",
       "      <td>0.0</td>\n",
       "      <td>0.0</td>\n",
       "      <td>0.0</td>\n",
       "      <td>0.0</td>\n",
       "      <td>0.0</td>\n",
       "      <td>0.0</td>\n",
       "      <td>0.0</td>\n",
       "    </tr>\n",
       "    <tr>\n",
       "      <th>1</th>\n",
       "      <td>2</td>\n",
       "      <td>202.75</td>\n",
       "      <td>126.0</td>\n",
       "      <td>338.0</td>\n",
       "      <td>173.5</td>\n",
       "      <td>134.25</td>\n",
       "      <td>242.00</td>\n",
       "      <td>811.0</td>\n",
       "      <td>4.0</td>\n",
       "      <td>1.551834</td>\n",
       "      <td>...</td>\n",
       "      <td>0.0</td>\n",
       "      <td>716.0</td>\n",
       "      <td>0.0</td>\n",
       "      <td>0.0</td>\n",
       "      <td>0.0</td>\n",
       "      <td>0.0</td>\n",
       "      <td>0.0</td>\n",
       "      <td>0.0</td>\n",
       "      <td>0.0</td>\n",
       "      <td>0.0</td>\n",
       "    </tr>\n",
       "    <tr>\n",
       "      <th>2</th>\n",
       "      <td>3</td>\n",
       "      <td>131.00</td>\n",
       "      <td>65.0</td>\n",
       "      <td>280.0</td>\n",
       "      <td>109.0</td>\n",
       "      <td>77.00</td>\n",
       "      <td>124.00</td>\n",
       "      <td>655.0</td>\n",
       "      <td>5.0</td>\n",
       "      <td>1.583120</td>\n",
       "      <td>...</td>\n",
       "      <td>0.0</td>\n",
       "      <td>413.0</td>\n",
       "      <td>0.0</td>\n",
       "      <td>0.0</td>\n",
       "      <td>0.0</td>\n",
       "      <td>0.0</td>\n",
       "      <td>0.0</td>\n",
       "      <td>0.0</td>\n",
       "      <td>0.0</td>\n",
       "      <td>0.0</td>\n",
       "    </tr>\n",
       "    <tr>\n",
       "      <th>3</th>\n",
       "      <td>4</td>\n",
       "      <td>185.25</td>\n",
       "      <td>99.0</td>\n",
       "      <td>278.0</td>\n",
       "      <td>182.0</td>\n",
       "      <td>142.50</td>\n",
       "      <td>224.75</td>\n",
       "      <td>741.0</td>\n",
       "      <td>4.0</td>\n",
       "      <td>1.563487</td>\n",
       "      <td>...</td>\n",
       "      <td>0.0</td>\n",
       "      <td>508.0</td>\n",
       "      <td>0.0</td>\n",
       "      <td>0.0</td>\n",
       "      <td>0.0</td>\n",
       "      <td>0.0</td>\n",
       "      <td>0.0</td>\n",
       "      <td>0.0</td>\n",
       "      <td>0.0</td>\n",
       "      <td>0.0</td>\n",
       "    </tr>\n",
       "    <tr>\n",
       "      <th>4</th>\n",
       "      <td>5</td>\n",
       "      <td>217.25</td>\n",
       "      <td>71.0</td>\n",
       "      <td>415.0</td>\n",
       "      <td>191.5</td>\n",
       "      <td>116.75</td>\n",
       "      <td>292.00</td>\n",
       "      <td>869.0</td>\n",
       "      <td>4.0</td>\n",
       "      <td>1.480428</td>\n",
       "      <td>...</td>\n",
       "      <td>0.0</td>\n",
       "      <td>422.0</td>\n",
       "      <td>1253.0</td>\n",
       "      <td>0.0</td>\n",
       "      <td>0.0</td>\n",
       "      <td>0.0</td>\n",
       "      <td>0.0</td>\n",
       "      <td>0.0</td>\n",
       "      <td>0.0</td>\n",
       "      <td>0.0</td>\n",
       "    </tr>\n",
       "  </tbody>\n",
       "</table>\n",
       "<p>5 rows × 61 columns</p>\n",
       "</div>"
      ],
      "text/plain": [
       "   key  heating_time_mean  heating_time_min  heating_time_max  \\\n",
       "0    1             219.60             148.0             365.0   \n",
       "1    2             202.75             126.0             338.0   \n",
       "2    3             131.00              65.0             280.0   \n",
       "3    4             185.25              99.0             278.0   \n",
       "4    5             217.25              71.0             415.0   \n",
       "\n",
       "   heating_time_median  heating_time_q25  heating_time_q75  \\\n",
       "0                185.0            172.00            228.00   \n",
       "1                173.5            134.25            242.00   \n",
       "2                109.0             77.00            124.00   \n",
       "3                182.0            142.50            224.75   \n",
       "4                191.5            116.75            292.00   \n",
       "\n",
       "   heating_time_total  num_heatings  power_ratio_mean  ...  wire_9  \\\n",
       "0              1098.0           5.0          1.538898  ...     0.0   \n",
       "1               811.0           4.0          1.551834  ...     0.0   \n",
       "2               655.0           5.0          1.583120  ...     0.0   \n",
       "3               741.0           4.0          1.563487  ...     0.0   \n",
       "4               869.0           4.0          1.480428  ...     0.0   \n",
       "\n",
       "   wire_1_time  wire_2_time  wire_3_time  wire_4_time  wire_5_time  \\\n",
       "0        567.0          0.0          0.0          0.0          0.0   \n",
       "1        716.0          0.0          0.0          0.0          0.0   \n",
       "2        413.0          0.0          0.0          0.0          0.0   \n",
       "3        508.0          0.0          0.0          0.0          0.0   \n",
       "4        422.0       1253.0          0.0          0.0          0.0   \n",
       "\n",
       "   wire_6_time  wire_7_time  wire_8_time  wire_9_time  \n",
       "0          0.0          0.0          0.0          0.0  \n",
       "1          0.0          0.0          0.0          0.0  \n",
       "2          0.0          0.0          0.0          0.0  \n",
       "3          0.0          0.0          0.0          0.0  \n",
       "4          0.0          0.0          0.0          0.0  \n",
       "\n",
       "[5 rows x 61 columns]"
      ]
     },
     "metadata": {},
     "output_type": "display_data"
    },
    {
     "name": "stdout",
     "output_type": "stream",
     "text": [
      "Размер таблицы: (2344, 61)\n",
      "Максимальное количество пропусков: 94\n"
     ]
    }
   ],
   "source": [
    "display(general_table.head())\n",
    "print('Размер таблицы:', general_table.shape)\n",
    "print('Максимальное количество пропусков:', general_table.isna().sum().max())"
   ]
  },
  {
   "cell_type": "markdown",
   "metadata": {},
   "source": [
    "Лишились ~900 объектов. В любом случае, для них не было таргета и участвовать в обучении объекты не могли."
   ]
  },
  {
   "cell_type": "markdown",
   "metadata": {},
   "source": [
    "Так же, имеем около сотни пропусков. Пока удалять их не будем, а заполним нулями:"
   ]
  },
  {
   "cell_type": "code",
   "execution_count": 74,
   "metadata": {},
   "outputs": [
    {
     "name": "stdout",
     "output_type": "stream",
     "text": [
      "Максимальное количество пропусков: 0\n"
     ]
    }
   ],
   "source": [
    "general_table = general_table.fillna(0)\n",
    "print('Максимальное количество пропусков:', general_table.isna().sum().max())"
   ]
  },
  {
   "cell_type": "markdown",
   "metadata": {},
   "source": [
    "### Обработка выбросов"
   ]
  },
  {
   "cell_type": "markdown",
   "metadata": {},
   "source": [
    "Удалять выбросы не будем. Наш датасет и так не очень большой чтобы жертвовать информацией, которую могут содержать выбросы. Добавим новую фичу \"is_outlier\". Она будет содержать число признаков, по которым объект является выбросом:"
   ]
  },
  {
   "cell_type": "code",
   "execution_count": 75,
   "metadata": {},
   "outputs": [],
   "source": [
    "x = general_table.drop('last_temp', axis=1)\n",
    "y = general_table['last_temp']"
   ]
  },
  {
   "cell_type": "code",
   "execution_count": 76,
   "metadata": {},
   "outputs": [],
   "source": [
    "def is_outlier(x):\n",
    "    outliers_counter = pd.Series(data=0, index=x.index)\n",
    "    for col in x.columns[1:]:\n",
    "        IQR = stats.iqr(x[col], interpolation = 'midpoint')\n",
    "        low_thresh = np.percentile(x[col], 25, interpolation = 'midpoint') - 1.5 * IQR\n",
    "        high_thresh = np.percentile(x[col], 75, interpolation = 'midpoint') + 1.5 * IQR\n",
    "\n",
    "        mask = np.where(((x[col] > high_thresh) | (x[col] < low_thresh)), 1, 0)\n",
    "        outliers_counter += mask\n",
    "    \n",
    "    return outliers_counter"
   ]
  },
  {
   "cell_type": "code",
   "execution_count": 77,
   "metadata": {},
   "outputs": [],
   "source": [
    "x['is_outlier'] = is_outlier(x)"
   ]
  },
  {
   "cell_type": "code",
   "execution_count": 78,
   "metadata": {},
   "outputs": [
    {
     "data": {
      "text/html": [
       "<div>\n",
       "<style scoped>\n",
       "    .dataframe tbody tr th:only-of-type {\n",
       "        vertical-align: middle;\n",
       "    }\n",
       "\n",
       "    .dataframe tbody tr th {\n",
       "        vertical-align: top;\n",
       "    }\n",
       "\n",
       "    .dataframe thead th {\n",
       "        text-align: right;\n",
       "    }\n",
       "</style>\n",
       "<table border=\"1\" class=\"dataframe\">\n",
       "  <thead>\n",
       "    <tr style=\"text-align: right;\">\n",
       "      <th></th>\n",
       "      <th>key</th>\n",
       "      <th>heating_time_mean</th>\n",
       "      <th>heating_time_min</th>\n",
       "      <th>heating_time_max</th>\n",
       "      <th>heating_time_median</th>\n",
       "      <th>heating_time_q25</th>\n",
       "      <th>heating_time_q75</th>\n",
       "      <th>heating_time_total</th>\n",
       "      <th>num_heatings</th>\n",
       "      <th>power_ratio_mean</th>\n",
       "      <th>...</th>\n",
       "      <th>wire_1_time</th>\n",
       "      <th>wire_2_time</th>\n",
       "      <th>wire_3_time</th>\n",
       "      <th>wire_4_time</th>\n",
       "      <th>wire_5_time</th>\n",
       "      <th>wire_6_time</th>\n",
       "      <th>wire_7_time</th>\n",
       "      <th>wire_8_time</th>\n",
       "      <th>wire_9_time</th>\n",
       "      <th>is_outlier</th>\n",
       "    </tr>\n",
       "  </thead>\n",
       "  <tbody>\n",
       "    <tr>\n",
       "      <th>0</th>\n",
       "      <td>1</td>\n",
       "      <td>219.60</td>\n",
       "      <td>148.0</td>\n",
       "      <td>365.0</td>\n",
       "      <td>185.0</td>\n",
       "      <td>172.00</td>\n",
       "      <td>228.00</td>\n",
       "      <td>1098.0</td>\n",
       "      <td>5.0</td>\n",
       "      <td>1.538898</td>\n",
       "      <td>...</td>\n",
       "      <td>567.0</td>\n",
       "      <td>0.0</td>\n",
       "      <td>0.0</td>\n",
       "      <td>0.0</td>\n",
       "      <td>0.0</td>\n",
       "      <td>0.0</td>\n",
       "      <td>0.0</td>\n",
       "      <td>0.0</td>\n",
       "      <td>0.0</td>\n",
       "      <td>1</td>\n",
       "    </tr>\n",
       "    <tr>\n",
       "      <th>1</th>\n",
       "      <td>2</td>\n",
       "      <td>202.75</td>\n",
       "      <td>126.0</td>\n",
       "      <td>338.0</td>\n",
       "      <td>173.5</td>\n",
       "      <td>134.25</td>\n",
       "      <td>242.00</td>\n",
       "      <td>811.0</td>\n",
       "      <td>4.0</td>\n",
       "      <td>1.551834</td>\n",
       "      <td>...</td>\n",
       "      <td>716.0</td>\n",
       "      <td>0.0</td>\n",
       "      <td>0.0</td>\n",
       "      <td>0.0</td>\n",
       "      <td>0.0</td>\n",
       "      <td>0.0</td>\n",
       "      <td>0.0</td>\n",
       "      <td>0.0</td>\n",
       "      <td>0.0</td>\n",
       "      <td>0</td>\n",
       "    </tr>\n",
       "    <tr>\n",
       "      <th>2</th>\n",
       "      <td>3</td>\n",
       "      <td>131.00</td>\n",
       "      <td>65.0</td>\n",
       "      <td>280.0</td>\n",
       "      <td>109.0</td>\n",
       "      <td>77.00</td>\n",
       "      <td>124.00</td>\n",
       "      <td>655.0</td>\n",
       "      <td>5.0</td>\n",
       "      <td>1.583120</td>\n",
       "      <td>...</td>\n",
       "      <td>413.0</td>\n",
       "      <td>0.0</td>\n",
       "      <td>0.0</td>\n",
       "      <td>0.0</td>\n",
       "      <td>0.0</td>\n",
       "      <td>0.0</td>\n",
       "      <td>0.0</td>\n",
       "      <td>0.0</td>\n",
       "      <td>0.0</td>\n",
       "      <td>1</td>\n",
       "    </tr>\n",
       "    <tr>\n",
       "      <th>3</th>\n",
       "      <td>4</td>\n",
       "      <td>185.25</td>\n",
       "      <td>99.0</td>\n",
       "      <td>278.0</td>\n",
       "      <td>182.0</td>\n",
       "      <td>142.50</td>\n",
       "      <td>224.75</td>\n",
       "      <td>741.0</td>\n",
       "      <td>4.0</td>\n",
       "      <td>1.563487</td>\n",
       "      <td>...</td>\n",
       "      <td>508.0</td>\n",
       "      <td>0.0</td>\n",
       "      <td>0.0</td>\n",
       "      <td>0.0</td>\n",
       "      <td>0.0</td>\n",
       "      <td>0.0</td>\n",
       "      <td>0.0</td>\n",
       "      <td>0.0</td>\n",
       "      <td>0.0</td>\n",
       "      <td>0</td>\n",
       "    </tr>\n",
       "    <tr>\n",
       "      <th>4</th>\n",
       "      <td>5</td>\n",
       "      <td>217.25</td>\n",
       "      <td>71.0</td>\n",
       "      <td>415.0</td>\n",
       "      <td>191.5</td>\n",
       "      <td>116.75</td>\n",
       "      <td>292.00</td>\n",
       "      <td>869.0</td>\n",
       "      <td>4.0</td>\n",
       "      <td>1.480428</td>\n",
       "      <td>...</td>\n",
       "      <td>422.0</td>\n",
       "      <td>1253.0</td>\n",
       "      <td>0.0</td>\n",
       "      <td>0.0</td>\n",
       "      <td>0.0</td>\n",
       "      <td>0.0</td>\n",
       "      <td>0.0</td>\n",
       "      <td>0.0</td>\n",
       "      <td>0.0</td>\n",
       "      <td>0</td>\n",
       "    </tr>\n",
       "  </tbody>\n",
       "</table>\n",
       "<p>5 rows × 61 columns</p>\n",
       "</div>"
      ],
      "text/plain": [
       "   key  heating_time_mean  heating_time_min  heating_time_max  \\\n",
       "0    1             219.60             148.0             365.0   \n",
       "1    2             202.75             126.0             338.0   \n",
       "2    3             131.00              65.0             280.0   \n",
       "3    4             185.25              99.0             278.0   \n",
       "4    5             217.25              71.0             415.0   \n",
       "\n",
       "   heating_time_median  heating_time_q25  heating_time_q75  \\\n",
       "0                185.0            172.00            228.00   \n",
       "1                173.5            134.25            242.00   \n",
       "2                109.0             77.00            124.00   \n",
       "3                182.0            142.50            224.75   \n",
       "4                191.5            116.75            292.00   \n",
       "\n",
       "   heating_time_total  num_heatings  power_ratio_mean  ...  wire_1_time  \\\n",
       "0              1098.0           5.0          1.538898  ...        567.0   \n",
       "1               811.0           4.0          1.551834  ...        716.0   \n",
       "2               655.0           5.0          1.583120  ...        413.0   \n",
       "3               741.0           4.0          1.563487  ...        508.0   \n",
       "4               869.0           4.0          1.480428  ...        422.0   \n",
       "\n",
       "   wire_2_time  wire_3_time  wire_4_time  wire_5_time  wire_6_time  \\\n",
       "0          0.0          0.0          0.0          0.0          0.0   \n",
       "1          0.0          0.0          0.0          0.0          0.0   \n",
       "2          0.0          0.0          0.0          0.0          0.0   \n",
       "3          0.0          0.0          0.0          0.0          0.0   \n",
       "4       1253.0          0.0          0.0          0.0          0.0   \n",
       "\n",
       "   wire_7_time  wire_8_time  wire_9_time  is_outlier  \n",
       "0          0.0          0.0          0.0           1  \n",
       "1          0.0          0.0          0.0           0  \n",
       "2          0.0          0.0          0.0           1  \n",
       "3          0.0          0.0          0.0           0  \n",
       "4          0.0          0.0          0.0           0  \n",
       "\n",
       "[5 rows x 61 columns]"
      ]
     },
     "execution_count": 78,
     "metadata": {},
     "output_type": "execute_result"
    }
   ],
   "source": [
    "x.head()"
   ]
  },
  {
   "cell_type": "markdown",
   "metadata": {},
   "source": [
    "### Разбиение данных на train и test "
   ]
  },
  {
   "cell_type": "code",
   "execution_count": 79,
   "metadata": {},
   "outputs": [],
   "source": [
    "x_train, x_test, y_train, y_test = train_test_split(x, y, test_size=0.25, random_state=42)"
   ]
  },
  {
   "cell_type": "code",
   "execution_count": 80,
   "metadata": {},
   "outputs": [
    {
     "data": {
      "text/plain": [
       "(1758, 61)"
      ]
     },
     "metadata": {},
     "output_type": "display_data"
    },
    {
     "data": {
      "text/plain": [
       "(1758,)"
      ]
     },
     "metadata": {},
     "output_type": "display_data"
    }
   ],
   "source": [
    "display(x_train.shape)\n",
    "display(y_train.shape)"
   ]
  },
  {
   "cell_type": "markdown",
   "metadata": {},
   "source": [
    "### Грубая предобработка train"
   ]
  },
  {
   "cell_type": "markdown",
   "metadata": {},
   "source": [
    "Нормируем данные. Прогоним фреймы через StandardScaler:"
   ]
  },
  {
   "cell_type": "code",
   "execution_count": 81,
   "metadata": {},
   "outputs": [],
   "source": [
    "def normalize(x_train, x_test):\n",
    "    # запоминаем названия колонок с количественным признаком                                \n",
    "    col_names = [x for x in x_train.columns]\n",
    "    \n",
    "    # обучаем модель нормирования на тренировочной выборке                                                                            \n",
    "    scaler = StandardScaler()\n",
    "    scaler.fit(x_train[col_names])\n",
    "    \n",
    "    # выключаем длинное предупреждение о копировании                                                                            \n",
    "    pd.options.mode.chained_assignment = None\n",
    "\n",
    "    # преобразовываем количественные признаки                                                                            \n",
    "    x_train[col_names] = scaler.transform(x_train[col_names])\n",
    "    x_test[col_names] = scaler.transform(x_test[col_names])\n",
    "    #x_test_final[col_names] = scaler.transform(x_test_final[col_names])\n",
    "\n",
    "                                                                                \n",
    "    return x_train, x_test  #, x_test_final"
   ]
  },
  {
   "cell_type": "code",
   "execution_count": 82,
   "metadata": {},
   "outputs": [],
   "source": [
    "x_train, x_test = normalize(x_train.iloc[:, 1:], x_test.iloc[:, 1:])"
   ]
  },
  {
   "cell_type": "markdown",
   "metadata": {},
   "source": [
    "### Вывод:"
   ]
  },
  {
   "cell_type": "markdown",
   "metadata": {},
   "source": [
    "В результате предобработки мы потеряли около 30% партий металла. Однако, обогатили признаковое пространство, раздув итоговый датасет до 61 фичи. Разбили данные на тренировочную и тестовую выборку. Провели нормализацию."
   ]
  },
  {
   "cell_type": "markdown",
   "metadata": {},
   "source": [
    "## Обучение моделей"
   ]
  },
  {
   "cell_type": "markdown",
   "metadata": {},
   "source": [
    "### Выявление самых информативных фичей"
   ]
  },
  {
   "cell_type": "code",
   "execution_count": 83,
   "metadata": {
    "scrolled": true
   },
   "outputs": [
    {
     "name": "stdout",
     "output_type": "stream",
     "text": [
      "Optimal number of features : 26\n"
     ]
    },
    {
     "data": {
      "image/png": "[encoded data removed]",
      "text/plain": [
       "<Figure size 1080x288 with 1 Axes>"
      ]
     },
     "metadata": {
      "needs_background": "light"
     },
     "output_type": "display_data"
    }
   ],
   "source": [
    "lgbm = LGBMRegressor(n_estimators=50,\n",
    "                     learning_rate=0.1,\n",
    "                     max_depth=3,\n",
    "                     random_state=42)\n",
    "\n",
    "min_features_to_select = 1  \n",
    "rfecv = RFECV(estimator=lgbm, step=1, cv=3, scoring='neg_mean_absolute_error')\n",
    "rfecv.fit(x_train, y_train)\n",
    "\n",
    "print(\"Optimal number of features : %d\" % rfecv.n_features_)\n",
    "\n",
    "# Plot number of features VS. cross-validation scores\n",
    "plt.figure(figsize=(15,4))\n",
    "plt.xlabel(\"Number of features selected\")\n",
    "plt.ylabel(\"Cross validation score (nb of correct classifications)\")\n",
    "plt.plot(range(min_features_to_select,\n",
    "               len(rfecv.grid_scores_) + min_features_to_select),\n",
    "         rfecv.grid_scores_)\n",
    "plt.grid(True)\n",
    "plt.show()\n"
   ]
  },
  {
   "cell_type": "code",
   "execution_count": 84,
   "metadata": {
    "scrolled": false
   },
   "outputs": [
    {
     "data": {
      "image/png": "[encoded data removed]",
      "text/plain": [
       "<Figure size 1080x864 with 1 Axes>"
      ]
     },
     "metadata": {
      "needs_background": "light"
     },
     "output_type": "display_data"
    }
   ],
   "source": [
    "feat_importance = pd.DataFrame(data={'importance':rfecv.ranking_,\n",
    "                                     'column':x_train.columns}).sort_values('importance', ascending=False)\n",
    "\n",
    "plt.figure(figsize=(15, 12))\n",
    "plt.barh(feat_importance['column'], feat_importance['importance'])\n",
    "plt.show()"
   ]
  },
  {
   "cell_type": "markdown",
   "metadata": {},
   "source": [
    "Отфильтруем выборки, оставив только самые информативные фичи:"
   ]
  },
  {
   "cell_type": "code",
   "execution_count": 85,
   "metadata": {},
   "outputs": [],
   "source": [
    "x_train_tr = x_train.loc[:, feat_importance.loc[feat_importance['importance'] == 1]['column'].to_list()]\n",
    "x_test_tr = x_test.loc[:, feat_importance.loc[feat_importance['importance'] == 1]['column'].to_list()]\n",
    "#x_test_final_tr = x_test_final.loc[:, feat_importance.loc[feat_importance['importance'] == 1]['column'].to_list()]"
   ]
  },
  {
   "cell_type": "markdown",
   "metadata": {},
   "source": [
    "Посмотрим на корреляцию м/у признаками:"
   ]
  },
  {
   "cell_type": "code",
   "execution_count": 86,
   "metadata": {},
   "outputs": [
    {
     "data": {
      "image/png": "[encoded data removed]",
      "text/plain": [
       "<Figure size 864x576 with 2 Axes>"
      ]
     },
     "metadata": {
      "needs_background": "light"
     },
     "output_type": "display_data"
    }
   ],
   "source": [
    "corr = x_train_tr.corr()\n",
    "\n",
    "kot = corr[corr>=.8]\n",
    "plt.figure(figsize=(12,8))\n",
    "sns.heatmap(kot, cmap=\"Greens\");"
   ]
  },
  {
   "cell_type": "markdown",
   "metadata": {},
   "source": [
    "Есть несколько признаков с высокой корреляцией. В целом, зависимость не совсем линейная, поэтому признаки оставляем."
   ]
  },
  {
   "cell_type": "markdown",
   "metadata": {},
   "source": [
    "В итоговой тестовой выборке осталось всего 28 признаков. При этом, подавляющая их часть сформированы нами. На них и продолжим обучаться."
   ]
  },
  {
   "cell_type": "markdown",
   "metadata": {},
   "source": [
    "### Обучение LinearRegression"
   ]
  },
  {
   "cell_type": "code",
   "execution_count": 87,
   "metadata": {},
   "outputs": [
    {
     "data": {
      "text/plain": [
       "LinearRegression()"
      ]
     },
     "execution_count": 87,
     "metadata": {},
     "output_type": "execute_result"
    }
   ],
   "source": [
    "lr = LinearRegression()\n",
    "lr.fit(x_train_tr, y_train)"
   ]
  },
  {
   "cell_type": "code",
   "execution_count": 88,
   "metadata": {},
   "outputs": [],
   "source": [
    "prediction_lr = lr.predict(x_test_tr)"
   ]
  },
  {
   "cell_type": "code",
   "execution_count": 89,
   "metadata": {},
   "outputs": [],
   "source": [
    "def extansive_score(y_test, y_pred, num_obj_to_plot, model_name='model'):\n",
    "    \n",
    "    plt.figure(figsize=(15,5))\n",
    "    plt.plot(y_test.reset_index(drop=True)[:num_obj_to_plot], label='Тестовые данные')\n",
    "    plt.plot(pd.Series(y_pred)[:num_obj_to_plot], label='Предсказания модели')\n",
    "    plt.title('График предсказаний модели ' + model_name)\n",
    "    plt.xlabel('Номер партии / объекта')\n",
    "    plt.ylabel('Температура, °C')\n",
    "    plt.legend()\n",
    "    plt.grid(True)\n",
    "    \n",
    "    print('{} score: {:.3f}'.format(model_name, mean_absolute_error(y_test, y_pred)))"
   ]
  },
  {
   "cell_type": "code",
   "execution_count": 90,
   "metadata": {},
   "outputs": [
    {
     "name": "stdout",
     "output_type": "stream",
     "text": [
      "LinearRegression score: 7.522\n"
     ]
    },
    {
     "data": {
      "image/png": "[encoded data removed]",
      "text/plain": [
       "<Figure size 1080x360 with 1 Axes>"
      ]
     },
     "metadata": {
      "needs_background": "light"
     },
     "output_type": "display_data"
    }
   ],
   "source": [
    "extansive_score(y_test, prediction_lr, 100, model_name='LinearRegression')"
   ]
  },
  {
   "cell_type": "markdown",
   "metadata": {},
   "source": [
    "### Обучение RandomForestRegressor"
   ]
  },
  {
   "cell_type": "code",
   "execution_count": 91,
   "metadata": {},
   "outputs": [],
   "source": [
    "params_rf = {'n_estimators':[50, 100, 150],\n",
    "             'criterion':['mae'],\n",
    "             'max_depth':[3,4,5],\n",
    "             'random_state':[42]}\n",
    "rf = RandomForestRegressor()"
   ]
  },
  {
   "cell_type": "code",
   "execution_count": 92,
   "metadata": {},
   "outputs": [],
   "source": [
    "searcher = RandomizedSearchCV(rf, params_rf, random_state=42)"
   ]
  },
  {
   "cell_type": "code",
   "execution_count": 93,
   "metadata": {},
   "outputs": [
    {
     "name": "stderr",
     "output_type": "stream",
     "text": [
      "/Users/kirill/opt/anaconda3/lib/python3.8/site-packages/sklearn/model_selection/_search.py:278: UserWarning: The total space of parameters 9 is smaller than n_iter=10. Running 9 iterations. For exhaustive searches, use GridSearchCV.\n",
      "  warnings.warn(\n"
     ]
    },
    {
     "name": "stdout",
     "output_type": "stream",
     "text": [
      "CPU times: user 12min 3s, sys: 3.44 s, total: 12min 7s\n",
      "Wall time: 12min 33s\n"
     ]
    },
    {
     "data": {
      "text/plain": [
       "RandomizedSearchCV(estimator=RandomForestRegressor(),\n",
       "                   param_distributions={'criterion': ['mae'],\n",
       "                                        'max_depth': [3, 4, 5],\n",
       "                                        'n_estimators': [50, 100, 150],\n",
       "                                        'random_state': [42]},\n",
       "                   random_state=42)"
      ]
     },
     "execution_count": 93,
     "metadata": {},
     "output_type": "execute_result"
    }
   ],
   "source": [
    "%%time\n",
    "searcher.fit(x_train_tr, y_train)"
   ]
  },
  {
   "cell_type": "code",
   "execution_count": 94,
   "metadata": {},
   "outputs": [],
   "source": [
    "prediction_rf = searcher.best_estimator_.predict(x_test_tr)"
   ]
  },
  {
   "cell_type": "code",
   "execution_count": 95,
   "metadata": {},
   "outputs": [
    {
     "name": "stdout",
     "output_type": "stream",
     "text": [
      "RandomForestRegressor score: 6.805\n"
     ]
    },
    {
     "data": {
      "image/png": "[encoded data removed]",
      "text/plain": [
       "<Figure size 1080x360 with 1 Axes>"
      ]
     },
     "metadata": {
      "needs_background": "light"
     },
     "output_type": "display_data"
    }
   ],
   "source": [
    "extansive_score(y_test, prediction_rf, 100, model_name='RandomForestRegressor')"
   ]
  },
  {
   "cell_type": "markdown",
   "metadata": {},
   "source": [
    "### Обучение CatBoostRegressor"
   ]
  },
  {
   "cell_type": "code",
   "execution_count": 96,
   "metadata": {},
   "outputs": [],
   "source": [
    "params_cb = {'n_estimators':[50, 100, 150],\n",
    "             'loss_function':['MAE'],\n",
    "             'max_depth':[3,4,5],\n",
    "             'random_state':[42],\n",
    "             'verbose':[False]}\n",
    "cb = CatBoostRegressor()"
   ]
  },
  {
   "cell_type": "code",
   "execution_count": 97,
   "metadata": {},
   "outputs": [],
   "source": [
    "searcher_cb = GridSearchCV(cb, params_cb, cv=5)"
   ]
  },
  {
   "cell_type": "code",
   "execution_count": 98,
   "metadata": {},
   "outputs": [
    {
     "name": "stdout",
     "output_type": "stream",
     "text": [
      "CPU times: user 24.2 s, sys: 2.74 s, total: 26.9 s\n",
      "Wall time: 11.7 s\n"
     ]
    }
   ],
   "source": [
    "%%time\n",
    "searcher_cb.fit(x_train_tr, y_train)\n",
    "best_est_cb = searcher_cb.best_estimator_\n",
    "prediction_cb = best_est_cb.predict(x_test_tr)"
   ]
  },
  {
   "cell_type": "code",
   "execution_count": 99,
   "metadata": {},
   "outputs": [
    {
     "name": "stdout",
     "output_type": "stream",
     "text": [
      "CatBoostRegressor score: 6.259\n"
     ]
    },
    {
     "data": {
      "image/png": "[encoded data removed]",
      "text/plain": [
       "<Figure size 1080x360 with 1 Axes>"
      ]
     },
     "metadata": {
      "needs_background": "light"
     },
     "output_type": "display_data"
    }
   ],
   "source": [
    "extansive_score(y_test, prediction_cb, 100, model_name='CatBoostRegressor')"
   ]
  },
  {
   "cell_type": "markdown",
   "metadata": {},
   "source": [
    "### Обучение LightGBM"
   ]
  },
  {
   "cell_type": "code",
   "execution_count": 100,
   "metadata": {},
   "outputs": [],
   "source": [
    "params_lgbm = {'n_estimators':[50, 100, 150],\n",
    "               'learning_rate':[0.1, 0.01, 0.001],\n",
    "               'max_depth':[3, 4, 5],\n",
    "               'num_leaves':range(5,10),\n",
    "               'random_state':[42]}\n",
    "lgbm = LGBMRegressor()"
   ]
  },
  {
   "cell_type": "code",
   "execution_count": 101,
   "metadata": {},
   "outputs": [],
   "source": [
    "searcher_lgbm = GridSearchCV(lgbm, params_lgbm, cv=5)"
   ]
  },
  {
   "cell_type": "code",
   "execution_count": 102,
   "metadata": {},
   "outputs": [
    {
     "name": "stdout",
     "output_type": "stream",
     "text": [
      "CPU times: user 2min 3s, sys: 22.8 s, total: 2min 26s\n",
      "Wall time: 45.3 s\n"
     ]
    }
   ],
   "source": [
    "%%time\n",
    "searcher_lgbm.fit(x_train_tr, y_train)\n",
    "best_est_lgbm = searcher_lgbm.best_estimator_\n",
    "prediction_lgbm = best_est_lgbm.predict(x_test_tr)"
   ]
  },
  {
   "cell_type": "code",
   "execution_count": 103,
   "metadata": {},
   "outputs": [
    {
     "name": "stdout",
     "output_type": "stream",
     "text": [
      "LGBMRegressor score: 6.155\n"
     ]
    },
    {
     "data": {
      "image/png": "[encoded data removed]",
      "text/plain": [
       "<Figure size 1080x360 with 1 Axes>"
      ]
     },
     "metadata": {
      "needs_background": "light"
     },
     "output_type": "display_data"
    }
   ],
   "source": [
    "extansive_score(y_test, prediction_lgbm, 100, model_name='LGBMRegressor')"
   ]
  },
  {
   "cell_type": "markdown",
   "metadata": {},
   "source": [
    "### Обучение XGBoost"
   ]
  },
  {
   "cell_type": "code",
   "execution_count": 104,
   "metadata": {},
   "outputs": [],
   "source": [
    "params_xgb = {'n_estimators':[50, 100, 150],\n",
    "               'learning_rate':[0.1, 0.01, 0.001],\n",
    "               'max_depth':[3,4,5],\n",
    "               'random_state':[42]}\n",
    "xgb = XGBRegressor()"
   ]
  },
  {
   "cell_type": "code",
   "execution_count": 105,
   "metadata": {},
   "outputs": [],
   "source": [
    "searcher_xgb = GridSearchCV(xgb, params_xgb, cv=5)"
   ]
  },
  {
   "cell_type": "code",
   "execution_count": 106,
   "metadata": {},
   "outputs": [
    {
     "name": "stdout",
     "output_type": "stream",
     "text": [
      "CPU times: user 1min 4s, sys: 6.48 s, total: 1min 10s\n",
      "Wall time: 20.1 s\n"
     ]
    }
   ],
   "source": [
    "%%time\n",
    "searcher_xgb.fit(x_train_tr, y_train)\n",
    "best_est_xgb = searcher_xgb.best_estimator_\n",
    "prediction_xgb = best_est_xgb.predict(x_test_tr)"
   ]
  },
  {
   "cell_type": "code",
   "execution_count": 107,
   "metadata": {
    "scrolled": false
   },
   "outputs": [
    {
     "name": "stdout",
     "output_type": "stream",
     "text": [
      "XGBoost score: 5.960\n"
     ]
    },
    {
     "data": {
      "image/png": "[encoded data removed]",
      "text/plain": [
       "<Figure size 1080x360 with 1 Axes>"
      ]
     },
     "metadata": {
      "needs_background": "light"
     },
     "output_type": "display_data"
    }
   ],
   "source": [
    "extansive_score(y_test, prediction_xgb, 100, model_name='XGBoost')"
   ]
  },
  {
   "cell_type": "code",
   "execution_count": 108,
   "metadata": {},
   "outputs": [
    {
     "data": {
      "image/png": "[encoded data removed]",
      "text/plain": [
       "<Figure size 1080x216 with 1 Axes>"
      ]
     },
     "metadata": {
      "needs_background": "light"
     },
     "output_type": "display_data"
    }
   ],
   "source": [
    "predictions = [prediction_lr, prediction_rf, prediction_cb, prediction_lgbm, prediction_xgb]\n",
    "models = ['LinearRegression', 'RandomForestRegressor', 'CatBoostRegressor', 'LGBMRegressor', 'XGBRegressor']\n",
    "scores = []\n",
    "\n",
    "\n",
    "for pred in predictions:\n",
    "    scores.append(mean_absolute_error(y_test, pred))\n",
    "score_data = pd.DataFrame(data={'model':models, 'score':scores})\n",
    "\n",
    "fig, ax = plt.subplots(figsize=(15, 3))\n",
    "hbars = ax.barh(score_data['model'], score_data['score'], align='center')\n",
    "ax.set_ylabel('Models')\n",
    "ax.set_xlabel('MAE score')\n",
    "ax.set_title('Рейтинг предиктивных моделей')\n",
    "\n",
    "ax.bar_label(hbars, fmt='%.2f', label_type='center')\n",
    "\n",
    "plt.show()"
   ]
  },
  {
   "cell_type": "markdown",
   "metadata": {},
   "source": [
    "Самой результативной оказалась модель XGBRegressor."
   ]
  },
  {
   "cell_type": "markdown",
   "metadata": {},
   "source": [
    "## Выводы"
   ]
  },
  {
   "cell_type": "markdown",
   "metadata": {},
   "source": [
    "Целью исследования являлась оптимизация производственных расходов. Перед нами стояла задача определения финального значения температуры сплава в плавильном ковше. В качестве входных данных имелись объемные таблицы с информацией о времени, количестве добавок, температуре и др. \n",
    "\n",
    "В процессе предобработки выяснилось, что данные являются достаточно \"сырыми\", т.е. имеют большое количество пропусков, несостыковок по времени. Так же, имелись партии металла, которые в процессе производства не прошли необходимое количество стадий. Возможно, имел место технический сбой. Несмотря на вышесказанное, нам удалось выделить выборку в > 2000 объектов. Из исходных данных мы сформировали признаковое пространство в 61 фичу. \n",
    "\n",
    "Обучили 5 моделей. От простой линейной регрессии до бустингов. Самой результативной оказалась XGBRegressor, которая пробила необходимый порог ошибки в 6 °C. \n",
    "\n",
    "**Рекомендции:** Можно еще очень долго улучшать модель. Как один из вариантов - воспользоваться алгоритмом автоматической генерации признаков, на основе имеющихся. Уверен, что в данных еще осталась большая доля информации, которая поможет сильно уменьшить ошибку предсказания. Плюс ко всему, можно подобрать лучшие параметры и для самого бустинга. Однако, оба этих метода очень затратны с точки зрения необходимого времени и вычислительной сложности."
   ]
  }
 ],
 "metadata": {
  "kernelspec": {
   "display_name": "Python 3",
   "language": "python",
   "name": "python3"
  },
  "language_info": {
   "codemirror_mode": {
    "name": "ipython",
    "version": 3
   },
   "file_extension": ".py",
   "mimetype": "text/x-python",
   "name": "python",
   "nbconvert_exporter": "python",
   "pygments_lexer": "ipython3",
   "version": "3.8.5"
  },
  "toc": {
   "base_numbering": 1,
   "nav_menu": {},
   "number_sections": false,
   "sideBar": true,
   "skip_h1_title": false,
   "title_cell": "План проекта",
   "title_sidebar": "Contents",
   "toc_cell": true,
   "toc_position": {
    "height": "calc(100% - 180px)",
    "left": "10px",
    "top": "150px",
    "width": "189px"
   },
   "toc_section_display": true,
   "toc_window_display": true
  }
 },
 "nbformat": 4,
 "nbformat_minor": 4
}
