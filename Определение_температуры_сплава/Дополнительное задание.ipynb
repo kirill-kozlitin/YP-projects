{
 "cells": [
  {
   "cell_type": "markdown",
   "metadata": {
    "toc": true
   },
   "source": [
    "<h1>Содержание<span class=\"tocSkip\"></span></h1>\n",
    "<div class=\"toc\"><ul class=\"toc-item\"><li><span><a href=\"#Описание-проекта\" data-toc-modified-id=\"Описание-проекта-1\">Описание проекта</a></span><ul class=\"toc-item\"><li><span><a href=\"#Дополнительное-задание:\" data-toc-modified-id=\"Дополнительное-задание:-1.1\">Дополнительное задание:</a></span><ul class=\"toc-item\"><li><span><a href=\"#Описание-этапа-обработки\" data-toc-modified-id=\"Описание-этапа-обработки-1.1.1\">Описание этапа обработки</a></span></li><li><span><a href=\"#Описание-данных\" data-toc-modified-id=\"Описание-данных-1.1.2\">Описание данных</a></span></li></ul></li></ul></li><li><span><a href=\"#Реализация-задания\" data-toc-modified-id=\"Реализация-задания-2\">Реализация задания</a></span><ul class=\"toc-item\"><li><span><a href=\"#Импорт-библиотек.-Загрузка-данных\" data-toc-modified-id=\"Импорт-библиотек.-Загрузка-данных-2.1\">Импорт библиотек. Загрузка данных</a></span></li><li><span><a href=\"#Анализ-данных\" data-toc-modified-id=\"Анализ-данных-2.2\">Анализ данных</a></span><ul class=\"toc-item\"><li><span><a href=\"#1.-data_arc---данные-об-электродах\" data-toc-modified-id=\"1.-data_arc---данные-об-электродах-2.2.1\">1. data_arc - данные об электродах</a></span></li><li><span><a href=\"#2.-data_temp---данные-о-температуре:\" data-toc-modified-id=\"2.-data_temp---данные-о-температуре:-2.2.2\">2. data_temp - данные о температуре:</a></span></li></ul></li></ul></li></ul></div>"
   ]
  },
  {
   "cell_type": "markdown",
   "metadata": {},
   "source": [
    "# Описание проекта"
   ]
  },
  {
   "cell_type": "markdown",
   "metadata": {},
   "source": [
    "Чтобы оптимизировать производственные расходы, металлургический комбинат ООО «Так закаляем сталь» решил уменьшить потребление электроэнергии на этапе обработки стали. Вам предстоит построить модель, которая предскажет температуру стали."
   ]
  },
  {
   "cell_type": "markdown",
   "metadata": {},
   "source": [
    "## Дополнительное задание:"
   ]
  },
  {
   "cell_type": "markdown",
   "metadata": {},
   "source": [
    "Вам поручили изучить характеристики процесса обработки стали. Для каждого значения столбца key найдите:\n",
    "\n",
    "- [x] Длительность времени между первым и последним замером температуры.\n",
    "- [x] Суммарное время нагрева электродами, то есть сумму значений по всем промежуткам между запусками нагрева электродов.\n",
    "- [x] Количество запусков нагрева электродами.\n",
    "- [x] Среднее соотношение потребления активной и реактивной мощности.\n",
    "\n",
    "По всем полученным столбцам вычислите статистики: средние, минимальные и максимальные значения, медиану и величины 25%- и 75%-квартилей."
   ]
  },
  {
   "cell_type": "markdown",
   "metadata": {},
   "source": [
    "### Описание этапа обработки"
   ]
  },
  {
   "cell_type": "markdown",
   "metadata": {},
   "source": [
    "Сталь обрабатывают в металлическом ковше вместимостью около 100 тонн. Чтобы ковш выдерживал высокие температуры, изнутри его облицовывают огнеупорным кирпичом. Расплавленную сталь заливают в ковш и подогревают до нужной температуры графитовыми электродами. Они установлены в крышке ковша. "
   ]
  },
  {
   "cell_type": "markdown",
   "metadata": {},
   "source": [
    "<img src=\"https://news.store.rambler.ru/img/d52ddd85719025e93d2be214d6b49da6\" alt=\"Drawing\" style=\"width: 600px;\"/>"
   ]
  },
  {
   "cell_type": "markdown",
   "metadata": {},
   "source": [
    "Из сплава выводится сера (десульфурация), добавлением примесей корректируется химический состав и отбираются пробы. Сталь легируют — изменяют её состав — подавая куски сплава из бункера для сыпучих материалов или проволоку через специальный трайб-аппарат (англ. tribe, «масса»).\n",
    "\n",
    "Перед тем как первый раз ввести легирующие добавки, измеряют температуру стали и производят её химический анализ. Потом температуру на несколько минут повышают, добавляют легирующие материалы и продувают сплав инертным газом. Затем его перемешивают и снова проводят измерения. Такой цикл повторяется до достижения целевого химического состава и оптимальной температуры плавки.\n",
    "\n",
    "Тогда расплавленная сталь отправляется на доводку металла или поступает в машину непрерывной разливки. Оттуда готовый продукт выходит в виде заготовок-слябов (англ. *slab*, «плита»).\n",
    "\n",
    "### Описание данных\n",
    "\n",
    "Данные состоят из файлов, полученных из разных источников:\n",
    "\n",
    "- `data_arc.csv` — данные об электродах;\n",
    "- `data_bulk.csv` — данные о подаче сыпучих материалов (объём);\n",
    "- `data_bulk_time.csv` *—* данные о подаче сыпучих материалов (время);\n",
    "- `data_gas.csv` — данные о продувке сплава газом;\n",
    "- `data_temp.csv` — результаты измерения температуры;\n",
    "- `data_wire.csv` — данные о проволочных материалах (объём);\n",
    "- `data_wire_time.csv` — данные о проволочных материалах (время).\n",
    "\n",
    "Во всех файлах столбец `key` содержит номер партии. В файлах может быть несколько строк с одинаковым значением `key`: они соответствуют разным итерациям обработки."
   ]
  },
  {
   "cell_type": "markdown",
   "metadata": {},
   "source": [
    "# Реализация задания"
   ]
  },
  {
   "cell_type": "markdown",
   "metadata": {},
   "source": [
    "## Импорт библиотек. Загрузка данных"
   ]
  },
  {
   "cell_type": "code",
   "execution_count": 1,
   "metadata": {},
   "outputs": [],
   "source": [
    "import pandas as pd\n",
    "import numpy as np\n",
    "import matplotlib.pyplot as plt\n",
    "\n",
    "from scipy import stats\n",
    "\n",
    "from sklearn.model_selection import train_test_split\n",
    "from sklearn.preprocessing import StandardScaler\n",
    "from sklearn.metrics import mean_absolute_error\n",
    "\n",
    "import warnings"
   ]
  },
  {
   "cell_type": "code",
   "execution_count": 2,
   "metadata": {},
   "outputs": [],
   "source": [
    "pd.options.mode.chained_assignment = None  "
   ]
  },
  {
   "cell_type": "code",
   "execution_count": 3,
   "metadata": {},
   "outputs": [],
   "source": [
    "data_arc = pd.read_csv('final_steel/data_arc.csv')\n",
    "data_bulk = pd.read_csv('final_steel/data_bulk.csv')\n",
    "data_bulk_time = pd.read_csv('final_steel/data_bulk_time.csv')\n",
    "data_gas = pd.read_csv('final_steel/data_gas.csv')\n",
    "data_temp = pd.read_csv('final_steel/data_temp.csv')\n",
    "data_wire = pd.read_csv('final_steel/data_wire.csv')\n",
    "data_wire_time = pd.read_csv('final_steel/data_wire_time.csv')"
   ]
  },
  {
   "cell_type": "markdown",
   "metadata": {},
   "source": [
    "## Анализ данных"
   ]
  },
  {
   "cell_type": "markdown",
   "metadata": {},
   "source": [
    "### 1. data_arc - данные об электродах"
   ]
  },
  {
   "cell_type": "markdown",
   "metadata": {},
   "source": [
    "Для удобства работы с таблицами, переименуем столбцы:"
   ]
  },
  {
   "cell_type": "code",
   "execution_count": 4,
   "metadata": {},
   "outputs": [],
   "source": [
    "def rename_columns(data, new_names=[], rename=True):\n",
    "    if rename == False:\n",
    "        new_names=[]\n",
    "        for col in data.columns:\n",
    "            new_names.append(str.lower('_'.join(col.split(' '))))\n",
    "        data.columns = new_names\n",
    "    else:\n",
    "        data.columns = new_names"
   ]
  },
  {
   "cell_type": "markdown",
   "metadata": {},
   "source": [
    "Подготовим новые названия для признаков. Те признаки, которые уже написаны латиницей просто склеим вместе через \"_\":"
   ]
  },
  {
   "cell_type": "code",
   "execution_count": 5,
   "metadata": {},
   "outputs": [],
   "source": [
    "data_arc_cols = ['key', 'start_heating', 'end_heating', 'active_power', 'reactive_power']\n",
    "data_gas_cols = ['key', 'gas']\n",
    "data_temp_cols = ['key', 'measure_time', 'temperature']"
   ]
  },
  {
   "cell_type": "markdown",
   "metadata": {},
   "source": [
    "Переименуем:"
   ]
  },
  {
   "cell_type": "code",
   "execution_count": 6,
   "metadata": {},
   "outputs": [],
   "source": [
    "rename_columns(data_arc, data_arc_cols, rename=True)\n",
    "rename_columns(data_bulk, rename=False)\n",
    "rename_columns(data_bulk_time, rename=False)\n",
    "rename_columns(data_gas, data_gas_cols, rename=True)\n",
    "rename_columns(data_temp, data_temp_cols, rename=True)\n",
    "rename_columns(data_wire, rename=False)\n",
    "rename_columns(data_wire_time, rename=False)"
   ]
  },
  {
   "cell_type": "code",
   "execution_count": 7,
   "metadata": {
    "scrolled": false
   },
   "outputs": [
    {
     "data": {
      "text/html": [
       "<div>\n",
       "<style scoped>\n",
       "    .dataframe tbody tr th:only-of-type {\n",
       "        vertical-align: middle;\n",
       "    }\n",
       "\n",
       "    .dataframe tbody tr th {\n",
       "        vertical-align: top;\n",
       "    }\n",
       "\n",
       "    .dataframe thead th {\n",
       "        text-align: right;\n",
       "    }\n",
       "</style>\n",
       "<table border=\"1\" class=\"dataframe\">\n",
       "  <thead>\n",
       "    <tr style=\"text-align: right;\">\n",
       "      <th></th>\n",
       "      <th>key</th>\n",
       "      <th>start_heating</th>\n",
       "      <th>end_heating</th>\n",
       "      <th>active_power</th>\n",
       "      <th>reactive_power</th>\n",
       "    </tr>\n",
       "  </thead>\n",
       "  <tbody>\n",
       "    <tr>\n",
       "      <th>0</th>\n",
       "      <td>1</td>\n",
       "      <td>2019-05-03 11:02:14</td>\n",
       "      <td>2019-05-03 11:06:02</td>\n",
       "      <td>0.976059</td>\n",
       "      <td>0.687084</td>\n",
       "    </tr>\n",
       "    <tr>\n",
       "      <th>1</th>\n",
       "      <td>1</td>\n",
       "      <td>2019-05-03 11:07:28</td>\n",
       "      <td>2019-05-03 11:10:33</td>\n",
       "      <td>0.805607</td>\n",
       "      <td>0.520285</td>\n",
       "    </tr>\n",
       "    <tr>\n",
       "      <th>2</th>\n",
       "      <td>1</td>\n",
       "      <td>2019-05-03 11:11:44</td>\n",
       "      <td>2019-05-03 11:14:36</td>\n",
       "      <td>0.744363</td>\n",
       "      <td>0.498805</td>\n",
       "    </tr>\n",
       "  </tbody>\n",
       "</table>\n",
       "</div>"
      ],
      "text/plain": [
       "   key        start_heating          end_heating  active_power  reactive_power\n",
       "0    1  2019-05-03 11:02:14  2019-05-03 11:06:02      0.976059        0.687084\n",
       "1    1  2019-05-03 11:07:28  2019-05-03 11:10:33      0.805607        0.520285\n",
       "2    1  2019-05-03 11:11:44  2019-05-03 11:14:36      0.744363        0.498805"
      ]
     },
     "execution_count": 7,
     "metadata": {},
     "output_type": "execute_result"
    }
   ],
   "source": [
    "data_arc.head(3)"
   ]
  },
  {
   "cell_type": "markdown",
   "metadata": {},
   "source": [
    "Найдем отношение активной и реактивной мощностей. Добавим его в качестве признака:"
   ]
  },
  {
   "cell_type": "code",
   "execution_count": 8,
   "metadata": {},
   "outputs": [],
   "source": [
    "data_arc['power_ratio'] = data_arc['active_power'] / data_arc['reactive_power']"
   ]
  },
  {
   "cell_type": "markdown",
   "metadata": {},
   "source": [
    "Вычисляем время начала нагрева и конца в формате UNIX:"
   ]
  },
  {
   "cell_type": "code",
   "execution_count": 9,
   "metadata": {},
   "outputs": [],
   "source": [
    "data_arc['start_heating'] = (pd.to_datetime(data_arc['start_heating']) - pd.Timestamp(\"1970-01-01\")) // pd.Timedelta('1s') \n"
   ]
  },
  {
   "cell_type": "code",
   "execution_count": 10,
   "metadata": {},
   "outputs": [],
   "source": [
    "data_arc['end_heating'] = (pd.to_datetime(data_arc['end_heating']) - pd.Timestamp(\"1970-01-01\")) // pd.Timedelta('1s') \n"
   ]
  },
  {
   "cell_type": "markdown",
   "metadata": {},
   "source": [
    "Находим разницу во времени, то есть, время нагрева сплава:"
   ]
  },
  {
   "cell_type": "code",
   "execution_count": 12,
   "metadata": {},
   "outputs": [],
   "source": [
    "data_arc['heating_time'] = data_arc['end_heating'] - data_arc['start_heating']\n"
   ]
  },
  {
   "cell_type": "markdown",
   "metadata": {},
   "source": [
    "Группируем данные по номеру партии, и вычисляем:\n",
    "\n",
    "- Суммарное время нагрева электродами, то есть сумму значений по всем промежуткам между запусками нагрева электродов.\n",
    "- Количество запусков нагрева электродами.\n",
    "- Среднее соотношение потребления активной и реактивной мощности.\n",
    "- Статистики"
   ]
  },
  {
   "cell_type": "code",
   "execution_count": 13,
   "metadata": {},
   "outputs": [],
   "source": [
    "data_arc_grouped = data_arc.groupby('key', as_index=False).agg(time_heating_total = ('heating_time', 'sum'),\n",
    "                                                               num_heatings = ('start_heating', 'count'),\n",
    "                                                               power_ratio_mean = ('power_ratio', 'mean'))"
   ]
  },
  {
   "cell_type": "code",
   "execution_count": 14,
   "metadata": {},
   "outputs": [
    {
     "data": {
      "text/html": [
       "<div>\n",
       "<style scoped>\n",
       "    .dataframe tbody tr th:only-of-type {\n",
       "        vertical-align: middle;\n",
       "    }\n",
       "\n",
       "    .dataframe tbody tr th {\n",
       "        vertical-align: top;\n",
       "    }\n",
       "\n",
       "    .dataframe thead th {\n",
       "        text-align: right;\n",
       "    }\n",
       "</style>\n",
       "<table border=\"1\" class=\"dataframe\">\n",
       "  <thead>\n",
       "    <tr style=\"text-align: right;\">\n",
       "      <th></th>\n",
       "      <th>key</th>\n",
       "      <th>time_heating_total</th>\n",
       "      <th>num_heatings</th>\n",
       "      <th>power_ratio_mean</th>\n",
       "    </tr>\n",
       "  </thead>\n",
       "  <tbody>\n",
       "    <tr>\n",
       "      <th>0</th>\n",
       "      <td>1</td>\n",
       "      <td>1098</td>\n",
       "      <td>5</td>\n",
       "      <td>1.538898</td>\n",
       "    </tr>\n",
       "    <tr>\n",
       "      <th>1</th>\n",
       "      <td>2</td>\n",
       "      <td>811</td>\n",
       "      <td>4</td>\n",
       "      <td>1.551834</td>\n",
       "    </tr>\n",
       "    <tr>\n",
       "      <th>2</th>\n",
       "      <td>3</td>\n",
       "      <td>655</td>\n",
       "      <td>5</td>\n",
       "      <td>1.583120</td>\n",
       "    </tr>\n",
       "  </tbody>\n",
       "</table>\n",
       "</div>"
      ],
      "text/plain": [
       "   key  time_heating_total  num_heatings  power_ratio_mean\n",
       "0    1                1098             5          1.538898\n",
       "1    2                 811             4          1.551834\n",
       "2    3                 655             5          1.583120"
      ]
     },
     "execution_count": 14,
     "metadata": {},
     "output_type": "execute_result"
    }
   ],
   "source": [
    "data_arc_grouped.head(3)"
   ]
  },
  {
   "cell_type": "markdown",
   "metadata": {},
   "source": [
    "Посмотрим на основные статистики:"
   ]
  },
  {
   "cell_type": "code",
   "execution_count": 15,
   "metadata": {},
   "outputs": [
    {
     "data": {
      "text/html": [
       "<div>\n",
       "<style scoped>\n",
       "    .dataframe tbody tr th:only-of-type {\n",
       "        vertical-align: middle;\n",
       "    }\n",
       "\n",
       "    .dataframe tbody tr th {\n",
       "        vertical-align: top;\n",
       "    }\n",
       "\n",
       "    .dataframe thead th {\n",
       "        text-align: right;\n",
       "    }\n",
       "</style>\n",
       "<table border=\"1\" class=\"dataframe\">\n",
       "  <thead>\n",
       "    <tr style=\"text-align: right;\">\n",
       "      <th></th>\n",
       "      <th>key</th>\n",
       "      <th>time_heating_total</th>\n",
       "      <th>num_heatings</th>\n",
       "      <th>power_ratio_mean</th>\n",
       "    </tr>\n",
       "  </thead>\n",
       "  <tbody>\n",
       "    <tr>\n",
       "      <th>count</th>\n",
       "      <td>3214.000000</td>\n",
       "      <td>3214.000000</td>\n",
       "      <td>3214.000000</td>\n",
       "      <td>3214.000000</td>\n",
       "    </tr>\n",
       "    <tr>\n",
       "      <th>mean</th>\n",
       "      <td>1623.061294</td>\n",
       "      <td>794.579029</td>\n",
       "      <td>4.628500</td>\n",
       "      <td>1.357452</td>\n",
       "    </tr>\n",
       "    <tr>\n",
       "      <th>std</th>\n",
       "      <td>934.739859</td>\n",
       "      <td>332.448622</td>\n",
       "      <td>1.608647</td>\n",
       "      <td>0.132824</td>\n",
       "    </tr>\n",
       "    <tr>\n",
       "      <th>min</th>\n",
       "      <td>1.000000</td>\n",
       "      <td>57.000000</td>\n",
       "      <td>1.000000</td>\n",
       "      <td>0.676106</td>\n",
       "    </tr>\n",
       "    <tr>\n",
       "      <th>25%</th>\n",
       "      <td>817.250000</td>\n",
       "      <td>571.000000</td>\n",
       "      <td>4.000000</td>\n",
       "      <td>1.292892</td>\n",
       "    </tr>\n",
       "    <tr>\n",
       "      <th>50%</th>\n",
       "      <td>1623.500000</td>\n",
       "      <td>770.000000</td>\n",
       "      <td>4.000000</td>\n",
       "      <td>1.370550</td>\n",
       "    </tr>\n",
       "    <tr>\n",
       "      <th>75%</th>\n",
       "      <td>2431.750000</td>\n",
       "      <td>983.000000</td>\n",
       "      <td>6.000000</td>\n",
       "      <td>1.438292</td>\n",
       "    </tr>\n",
       "    <tr>\n",
       "      <th>max</th>\n",
       "      <td>3241.000000</td>\n",
       "      <td>4189.000000</td>\n",
       "      <td>16.000000</td>\n",
       "      <td>1.782164</td>\n",
       "    </tr>\n",
       "  </tbody>\n",
       "</table>\n",
       "</div>"
      ],
      "text/plain": [
       "               key  time_heating_total  num_heatings  power_ratio_mean\n",
       "count  3214.000000         3214.000000   3214.000000       3214.000000\n",
       "mean   1623.061294          794.579029      4.628500          1.357452\n",
       "std     934.739859          332.448622      1.608647          0.132824\n",
       "min       1.000000           57.000000      1.000000          0.676106\n",
       "25%     817.250000          571.000000      4.000000          1.292892\n",
       "50%    1623.500000          770.000000      4.000000          1.370550\n",
       "75%    2431.750000          983.000000      6.000000          1.438292\n",
       "max    3241.000000         4189.000000     16.000000          1.782164"
      ]
     },
     "execution_count": 15,
     "metadata": {},
     "output_type": "execute_result"
    }
   ],
   "source": [
    "data_arc_grouped.describe()"
   ]
  },
  {
   "cell_type": "markdown",
   "metadata": {},
   "source": [
    "### 2. data_temp - данные о температуре:"
   ]
  },
  {
   "cell_type": "markdown",
   "metadata": {},
   "source": [
    "Теперь найдем длительность времени между первым и последним замером температуры:"
   ]
  },
  {
   "cell_type": "code",
   "execution_count": 16,
   "metadata": {},
   "outputs": [
    {
     "data": {
      "text/html": [
       "<div>\n",
       "<style scoped>\n",
       "    .dataframe tbody tr th:only-of-type {\n",
       "        vertical-align: middle;\n",
       "    }\n",
       "\n",
       "    .dataframe tbody tr th {\n",
       "        vertical-align: top;\n",
       "    }\n",
       "\n",
       "    .dataframe thead th {\n",
       "        text-align: right;\n",
       "    }\n",
       "</style>\n",
       "<table border=\"1\" class=\"dataframe\">\n",
       "  <thead>\n",
       "    <tr style=\"text-align: right;\">\n",
       "      <th></th>\n",
       "      <th>key</th>\n",
       "      <th>measure_time</th>\n",
       "      <th>temperature</th>\n",
       "    </tr>\n",
       "  </thead>\n",
       "  <tbody>\n",
       "    <tr>\n",
       "      <th>0</th>\n",
       "      <td>1</td>\n",
       "      <td>2019-05-03 11:16:18</td>\n",
       "      <td>1571.0</td>\n",
       "    </tr>\n",
       "    <tr>\n",
       "      <th>1</th>\n",
       "      <td>1</td>\n",
       "      <td>2019-05-03 11:25:53</td>\n",
       "      <td>1604.0</td>\n",
       "    </tr>\n",
       "    <tr>\n",
       "      <th>2</th>\n",
       "      <td>1</td>\n",
       "      <td>2019-05-03 11:29:11</td>\n",
       "      <td>1618.0</td>\n",
       "    </tr>\n",
       "  </tbody>\n",
       "</table>\n",
       "</div>"
      ],
      "text/plain": [
       "   key         measure_time  temperature\n",
       "0    1  2019-05-03 11:16:18       1571.0\n",
       "1    1  2019-05-03 11:25:53       1604.0\n",
       "2    1  2019-05-03 11:29:11       1618.0"
      ]
     },
     "execution_count": 16,
     "metadata": {},
     "output_type": "execute_result"
    }
   ],
   "source": [
    "data_temp.head(3)"
   ]
  },
  {
   "cell_type": "markdown",
   "metadata": {},
   "source": [
    "Для этого переведем время в удобный для вычислений формат. Сгруппируем данные по ключу. Найдем разницу между последним и первым вхождением времени:"
   ]
  },
  {
   "cell_type": "code",
   "execution_count": 17,
   "metadata": {},
   "outputs": [],
   "source": [
    "data_temp['measure_time'] = (pd.to_datetime(data_temp['measure_time']) - pd.Timestamp(\"1970-01-01\")) // pd.Timedelta('1s') \n"
   ]
  },
  {
   "cell_type": "code",
   "execution_count": 18,
   "metadata": {},
   "outputs": [],
   "source": [
    "data_temp_grouped = data_temp.groupby('key', as_index=False).agg(first_measure_time = ('measure_time', 'first'),\n",
    "                                                               last_measure_time = ('measure_time', 'last'))\n"
   ]
  },
  {
   "cell_type": "code",
   "execution_count": 19,
   "metadata": {},
   "outputs": [],
   "source": [
    "data_temp_grouped['diff_bw_measures'] = data_temp_grouped['last_measure_time'] -\\\n",
    "                                        data_temp_grouped['first_measure_time']\n"
   ]
  },
  {
   "cell_type": "markdown",
   "metadata": {},
   "source": [
    "Посмотрим на статистики:"
   ]
  },
  {
   "cell_type": "code",
   "execution_count": 20,
   "metadata": {
    "scrolled": true
   },
   "outputs": [
    {
     "data": {
      "text/plain": [
       "count     3216.000000\n",
       "mean      1839.861629\n",
       "std       1246.950298\n",
       "min          0.000000\n",
       "25%       1177.000000\n",
       "50%       1581.000000\n",
       "75%       2235.000000\n",
       "max      23537.000000\n",
       "Name: diff_bw_measures, dtype: float64"
      ]
     },
     "execution_count": 20,
     "metadata": {},
     "output_type": "execute_result"
    }
   ],
   "source": [
    "data_temp_grouped['diff_bw_measures'].describe()"
   ]
  },
  {
   "cell_type": "code",
   "execution_count": null,
   "metadata": {},
   "outputs": [],
   "source": []
  }
 ],
 "metadata": {
  "kernelspec": {
   "display_name": "Python 3",
   "language": "python",
   "name": "python3"
  },
  "language_info": {
   "codemirror_mode": {
    "name": "ipython",
    "version": 3
   },
   "file_extension": ".py",
   "mimetype": "text/x-python",
   "name": "python",
   "nbconvert_exporter": "python",
   "pygments_lexer": "ipython3",
   "version": "3.8.5"
  },
  "toc": {
   "base_numbering": 1,
   "nav_menu": {},
   "number_sections": false,
   "sideBar": true,
   "skip_h1_title": false,
   "title_cell": "Содержание",
   "title_sidebar": "Contents",
   "toc_cell": true,
   "toc_position": {},
   "toc_section_display": true,
   "toc_window_display": true
  }
 },
 "nbformat": 4,
 "nbformat_minor": 4
}
